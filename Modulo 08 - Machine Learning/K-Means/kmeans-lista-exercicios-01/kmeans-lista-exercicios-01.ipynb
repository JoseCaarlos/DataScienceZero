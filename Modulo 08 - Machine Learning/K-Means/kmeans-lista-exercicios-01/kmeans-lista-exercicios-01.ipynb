{
 "cells": [
  {
   "cell_type": "markdown",
   "metadata": {},
   "source": [
    "# KMeans- Exercícios"
   ]
  },
  {
   "cell_type": "markdown",
   "metadata": {},
   "source": [
    "<font color=blue><b> Data Science do Zero</b></font><br>\n",
    " www.minerandodados.com.br  "
   ]
  },
  {
   "cell_type": "markdown",
   "metadata": {},
   "source": [
    "1) Importe as bibliotecas para visualização de dados e clustering."
   ]
  },
  {
   "cell_type": "code",
   "execution_count": 1,
   "metadata": {},
   "outputs": [
    {
     "name": "stderr",
     "output_type": "stream",
     "text": [
      "D:\\Desenvolvimento\\Anaconda\\lib\\importlib\\_bootstrap.py:219: RuntimeWarning: numpy.ufunc size changed, may indicate binary incompatibility. Expected 192 from C header, got 216 from PyObject\n",
      "  return f(*args, **kwds)\n",
      "D:\\Desenvolvimento\\Anaconda\\lib\\importlib\\_bootstrap.py:219: RuntimeWarning: numpy.ufunc size changed, may indicate binary incompatibility. Expected 192 from C header, got 216 from PyObject\n",
      "  return f(*args, **kwds)\n",
      "D:\\Desenvolvimento\\Anaconda\\lib\\importlib\\_bootstrap.py:219: RuntimeWarning: numpy.ufunc size changed, may indicate binary incompatibility. Expected 192 from C header, got 216 from PyObject\n",
      "  return f(*args, **kwds)\n"
     ]
    }
   ],
   "source": [
    "import pandas as pd\n",
    "import matplotlib.pyplot as plt\n",
    "import seaborn as sns\n",
    "from sklearn import metrics\n",
    "from sklearn.model_selection import cross_val_predict\n",
    "from sklearn.cluster import KMeans"
   ]
  },
  {
   "cell_type": "markdown",
   "metadata": {},
   "source": [
    "2) Leia a base de dados **iris.csv** localizada no diretorio **datasets** e crie um Dataframe."
   ]
  },
  {
   "cell_type": "code",
   "execution_count": 5,
   "metadata": {},
   "outputs": [],
   "source": [
    "df = pd.read_csv('../materiasdeapoio/iris.csv', sep=',')"
   ]
  },
  {
   "cell_type": "markdown",
   "metadata": {},
   "source": [
    "3) Armazene apenas as **features e seus dados** na variável train."
   ]
  },
  {
   "cell_type": "code",
   "execution_count": 6,
   "metadata": {},
   "outputs": [
    {
     "data": {
      "text/plain": [
       "Index(['SepalLength', 'SepalWidth', 'PetalLength', 'PetalWidth', 'Species'], dtype='object')"
      ]
     },
     "execution_count": 6,
     "metadata": {},
     "output_type": "execute_result"
    }
   ],
   "source": [
    "df.columns"
   ]
  },
  {
   "cell_type": "code",
   "execution_count": 7,
   "metadata": {},
   "outputs": [],
   "source": [
    "train = df.drop('Species', axis=1)"
   ]
  },
  {
   "cell_type": "markdown",
   "metadata": {},
   "source": [
    "5) Armazene os dados de classes na variável classes."
   ]
  },
  {
   "cell_type": "code",
   "execution_count": 24,
   "metadata": {},
   "outputs": [],
   "source": [
    "classes = df.iloc[:,-1:]"
   ]
  },
  {
   "cell_type": "markdown",
   "metadata": {},
   "source": [
    "6) Utilizando o código abaixo, crie uma função que faça o **calculo da distância euclidiana entre dois vetores**."
   ]
  },
  {
   "cell_type": "code",
   "execution_count": 51,
   "metadata": {},
   "outputs": [],
   "source": [
    "# Função que retorna a distância eucludiana de dois vetores de duas dimensões.\n",
    "from sklearn.neighbors import DistanceMetric\n",
    "def calcula_distancia(x,c):\n",
    "    dist = DistanceMetric.get_metric('euclidean')\n",
    "    return dist.pairwise(x,c)"
   ]
  },
  {
   "cell_type": "markdown",
   "metadata": {},
   "source": [
    "7) Utilizando a função **calcula_distancia** faça:"
   ]
  },
  {
   "cell_type": "markdown",
   "metadata": {},
   "source": [
    "- Calcule a distância entre os vetores **v1 e v2** abaixo\n",
    "> v1 = [[1.2,1,2.1,1]]<br>\n",
    "> v2 = [[1,1.9,5.4,3.2]]"
   ]
  },
  {
   "cell_type": "code",
   "execution_count": 53,
   "metadata": {},
   "outputs": [
    {
     "data": {
      "text/plain": [
       "array([[4.07185461]])"
      ]
     },
     "execution_count": 53,
     "metadata": {},
     "output_type": "execute_result"
    }
   ],
   "source": [
    "calcula_distancia([[1.2,1,2.1,1]], [[1,1.9,5.4,3.2]])"
   ]
  },
  {
   "cell_type": "markdown",
   "metadata": {},
   "source": [
    "- Calcule a distância entre os vetores **v3 e v4** abaixo e explique o retorno\n",
    "> v3 = [[0.5,0,2.1,1.5]]<br>\n",
    "> v4 = [[0.5,0,2.1,1.5]]"
   ]
  },
  {
   "cell_type": "code",
   "execution_count": 54,
   "metadata": {},
   "outputs": [
    {
     "data": {
      "text/plain": [
       "array([[0.]])"
      ]
     },
     "execution_count": 54,
     "metadata": {},
     "output_type": "execute_result"
    }
   ],
   "source": [
    "calcula_distancia([[0.5,0,2.1,1.5]], [[0.5,0,2.1,1.5]])"
   ]
  },
  {
   "cell_type": "markdown",
   "metadata": {},
   "source": [
    "8) Instâncie o algoritmo Kmeans com o número de clusters **igual ao número de classes** da sua base de dados e execute o algoritmo KMeans."
   ]
  },
  {
   "cell_type": "code",
   "execution_count": 86,
   "metadata": {},
   "outputs": [
    {
     "data": {
      "text/plain": [
       "3"
      ]
     },
     "execution_count": 86,
     "metadata": {},
     "output_type": "execute_result"
    }
   ],
   "source": [
    "len(classes['Species'].value_counts())"
   ]
  },
  {
   "cell_type": "code",
   "execution_count": 87,
   "metadata": {},
   "outputs": [],
   "source": [
    "kmeans = KMeans(n_clusters=len(classes['Species'].value_counts()))"
   ]
  },
  {
   "cell_type": "code",
   "execution_count": 89,
   "metadata": {},
   "outputs": [
    {
     "data": {
      "text/plain": [
       "KMeans(algorithm='auto', copy_x=True, init='k-means++', max_iter=300,\n",
       "       n_clusters=3, n_init=10, n_jobs=None, precompute_distances='auto',\n",
       "       random_state=None, tol=0.0001, verbose=0)"
      ]
     },
     "execution_count": 89,
     "metadata": {},
     "output_type": "execute_result"
    }
   ],
   "source": [
    "kmeans.fit(train)"
   ]
  },
  {
   "cell_type": "markdown",
   "metadata": {},
   "source": [
    "09) Imprima os valores dos **centroides**."
   ]
  },
  {
   "cell_type": "code",
   "execution_count": 90,
   "metadata": {},
   "outputs": [
    {
     "data": {
      "text/plain": [
       "array([[5.006     , 3.418     , 1.464     , 0.244     ],\n",
       "       [5.9016129 , 2.7483871 , 4.39354839, 1.43387097],\n",
       "       [6.85      , 3.07368421, 5.74210526, 2.07105263]])"
      ]
     },
     "execution_count": 90,
     "metadata": {},
     "output_type": "execute_result"
    }
   ],
   "source": [
    "kmeans.cluster_centers_"
   ]
  },
  {
   "cell_type": "markdown",
   "metadata": {},
   "source": [
    "10) Selecione **três amostras da base de dados e calcule a distância euclidiana entre as amostras de dados e cada um dos valores de centroids**."
   ]
  },
  {
   "cell_type": "markdown",
   "metadata": {},
   "source": [
    "- DICA: Use um laço for..."
   ]
  },
  {
   "cell_type": "code",
   "execution_count": 126,
   "metadata": {},
   "outputs": [
    {
     "name": "stdout",
     "output_type": "stream",
     "text": [
      "[[0.47370033]]\n",
      "[[0.41855943]]\n",
      "[[0.4673243]]\n"
     ]
    }
   ],
   "source": [
    "for k in train[45:48].values:\n",
    "    i = 0\n",
    "    print(calcula_distancia([k],[kmeans.cluster_centers_[i]]))\n",
    "    i+=1"
   ]
  },
  {
   "cell_type": "markdown",
   "metadata": {},
   "source": [
    "11) Gere a **tabela de distância** e verifique os valores através do método fit_transform()."
   ]
  },
  {
   "cell_type": "code",
   "execution_count": 128,
   "metadata": {},
   "outputs": [
    {
     "data": {
      "text/plain": [
       "array([[0.14694217, 3.41925061, 5.0595416 ],\n",
       "       [0.43816892, 3.39857426, 5.11494335],\n",
       "       [0.41230086, 3.56935666, 5.27935534],\n",
       "       [0.51883716, 3.42240962, 5.15358977],\n",
       "       [0.19796969, 3.46726403, 5.10433388],\n",
       "       [0.68380699, 3.14673162, 4.68148797],\n",
       "       [0.41520116, 3.51650264, 5.21147652],\n",
       "       [0.0599333 , 3.33654987, 5.00252706],\n",
       "       [0.80099438, 3.57233779, 5.32798107],\n",
       "       [0.36659514, 3.3583767 , 5.06790865],\n",
       "       [0.48784424, 3.32449131, 4.89806763],\n",
       "       [0.25138019, 3.31126872, 4.9966845 ],\n",
       "       [0.49192682, 3.46661272, 5.19103612],\n",
       "       [0.90906105, 3.90578362, 5.65173594],\n",
       "       [1.02019214, 3.646649  , 5.10804455],\n",
       "       [1.21309192, 3.49427881, 4.88564095],\n",
       "       [0.66241377, 3.495248  , 5.03090587],\n",
       "       [0.1509702 , 3.38444981, 5.02342022],\n",
       "       [0.82848778, 3.11245944, 4.61792995],\n",
       "       [0.39898872, 3.37738931, 4.97213426],\n",
       "       [0.46172719, 3.07471224, 4.6955761 ],\n",
       "       [0.33762701, 3.31506588, 4.9236821 ],\n",
       "       [0.64435394, 3.93167253, 5.59713396],\n",
       "       [0.37946278, 3.01233762, 4.68193765],\n",
       "       [0.4845534 , 3.06241269, 4.75095704],\n",
       "       [0.44180539, 3.19414543, 4.90772894],\n",
       "       [0.20782685, 3.17967089, 4.84545508],\n",
       "       [0.21815591, 3.30941724, 4.93969029],\n",
       "       [0.2097427 , 3.37648183, 5.01833618],\n",
       "       [0.40198507, 3.31272968, 5.02954567],\n",
       "       [0.40495926, 3.26550651, 4.98608729],\n",
       "       [0.42566654, 3.18083736, 4.79550372],\n",
       "       [0.72442529, 3.53142353, 5.06520776],\n",
       "       [0.9282198 , 3.57102821, 5.04438334],\n",
       "       [0.36659514, 3.3583767 , 5.06790865],\n",
       "       [0.34524194, 3.56904033, 5.25071556],\n",
       "       [0.5287646 , 3.43783276, 5.02368214],\n",
       "       [0.36659514, 3.3583767 , 5.06790865],\n",
       "       [0.75550778, 3.66205264, 5.40750095],\n",
       "       [0.11131936, 3.31092773, 4.9664149 ],\n",
       "       [0.19181241, 3.49764675, 5.14520862],\n",
       "       [1.23935144, 3.60850034, 5.38423754],\n",
       "       [0.66602703, 3.68120561, 5.40847417],\n",
       "       [0.38986151, 3.14278239, 4.78803478],\n",
       "       [0.60761172, 3.00585191, 4.59828494],\n",
       "       [0.47370033, 3.39468045, 5.11844067],\n",
       "       [0.41855943, 3.32788568, 4.92421655],\n",
       "       [0.4673243 , 3.51879523, 5.23766854],\n",
       "       [0.41132955, 3.34104251, 4.92859681],\n",
       "       [0.14139307, 3.40601705, 5.08216833],\n",
       "       [3.97889331, 1.22697525, 1.25489071],\n",
       "       [3.57569462, 0.684141  , 1.44477759],\n",
       "       [4.13182671, 1.17527644, 1.01903626],\n",
       "       [3.00672446, 0.73153652, 2.45978458],\n",
       "       [3.7451291 , 0.63853451, 1.3520017 ],\n",
       "       [3.34604124, 0.26937898, 1.88009327],\n",
       "       [3.74149596, 0.76452634, 1.28902785],\n",
       "       [2.233829  , 1.58388575, 3.37155487],\n",
       "       [3.70928457, 0.75582717, 1.41123804],\n",
       "       [2.79706847, 0.85984838, 2.58955659],\n",
       "       [2.5937602 , 1.53611907, 3.27864111],\n",
       "       [3.16815277, 0.32426175, 1.90055758],\n",
       "       [3.07805003, 0.80841374, 2.38073698],\n",
       "       [3.64323922, 0.39674141, 1.45909603],\n",
       "       [2.50973943, 0.87269542, 2.60303733],\n",
       "       [3.59544045, 0.87306498, 1.50822767],\n",
       "       [3.36487622, 0.41229163, 1.85387593],\n",
       "       [2.9438057 , 0.53579956, 2.25517257],\n",
       "       [3.70189033, 0.6367639 , 1.74778451],\n",
       "       [2.80399572, 0.71254917, 2.49557781],\n",
       "       [3.79431048, 0.7093731 , 1.37094403],\n",
       "       [3.02079327, 0.46349013, 2.06563694],\n",
       "       [3.98757972, 0.69373966, 1.29106776],\n",
       "       [3.60060995, 0.43661144, 1.57547425],\n",
       "       [3.37188256, 0.54593856, 1.70495043],\n",
       "       [3.55977415, 0.74313017, 1.52298639],\n",
       "       [4.00819061, 0.98798453, 1.18965415],\n",
       "       [4.20328348, 1.06739835, 0.84636259],\n",
       "       [3.47148268, 0.21993519, 1.61913335],\n",
       "       [2.42231129, 1.0243726 , 2.77868071],\n",
       "       [2.73312861, 0.86396528, 2.6440625 ],\n",
       "       [2.61755458, 0.97566381, 2.75566654],\n",
       "       [2.82736485, 0.55763082, 2.32254696],\n",
       "       [4.06974102, 0.73395781, 1.22324554],\n",
       "       [3.33538484, 0.57500396, 1.9942056 ],\n",
       "       [3.47050313, 0.68790275, 1.61049622],\n",
       "       [3.87556344, 0.92700552, 1.19803047],\n",
       "       [3.55803204, 0.61459444, 1.81572464],\n",
       "       [2.93107352, 0.50830256, 2.20430516],\n",
       "       [2.9382294 , 0.6291191 , 2.40438484],\n",
       "       [3.23221163, 0.48790256, 2.14635877],\n",
       "       [3.54152397, 0.38266958, 1.52402278],\n",
       "       [2.94020271, 0.49185351, 2.26286106],\n",
       "       [2.27868208, 1.5485635 , 3.33648305],\n",
       "       [3.07720523, 0.3856087 , 2.16211718],\n",
       "       [3.00931753, 0.44284695, 2.11299567],\n",
       "       [3.05790647, 0.3449879 , 2.07973003],\n",
       "       [3.29423618, 0.37241653, 1.76829182],\n",
       "       [1.98584793, 1.66064034, 3.44291999],\n",
       "       [2.98784069, 0.38393196, 2.16527941],\n",
       "       [5.23002792, 2.0445799 , 0.77731871],\n",
       "       [4.13627755, 0.85382472, 1.29757391],\n",
       "       [5.2614059 , 2.05245342, 0.30610139],\n",
       "       [4.63361544, 1.33089245, 0.65293923],\n",
       "       [5.00335807, 1.72813078, 0.38458885],\n",
       "       [6.06026336, 2.87401886, 1.14225684],\n",
       "       [3.49158875, 1.07101875, 2.4108337 ],\n",
       "       [5.59810611, 2.39730707, 0.78573677],\n",
       "       [4.99343489, 1.67668563, 0.65454939],\n",
       "       [5.60613878, 2.54158648, 0.8435596 ],\n",
       "       [4.31086905, 1.17541367, 0.74552218],\n",
       "       [4.46273369, 1.13563278, 0.75289837],\n",
       "       [4.80907392, 1.59322675, 0.25958095],\n",
       "       [4.11232197, 0.88917352, 1.48572618],\n",
       "       [4.34524936, 1.20227628, 1.30303821],\n",
       "       [4.57523682, 1.42273608, 0.68288333],\n",
       "       [4.5953446 , 1.33403966, 0.50991553],\n",
       "       [6.21652572, 3.20105585, 1.47791217],\n",
       "       [6.4578628 , 3.20759942, 1.52971038],\n",
       "       [4.0684631 , 0.82617494, 1.53708992],\n",
       "       [5.07992047, 1.91251832, 0.26952816],\n",
       "       [3.95277017, 0.81891975, 1.5334904 ],\n",
       "       [6.17566126, 2.9794431 , 1.31149299],\n",
       "       [4.05181342, 0.74269596, 1.10668455],\n",
       "       [4.92666134, 1.75847731, 0.27627819],\n",
       "       [5.27802918, 2.14580999, 0.52766931],\n",
       "       [3.91887637, 0.62526165, 1.20765678],\n",
       "       [3.94953061, 0.70228926, 1.16212743],\n",
       "       [4.78292714, 1.4663925 , 0.54629196],\n",
       "       [5.0624097 , 1.93773659, 0.59428255],\n",
       "       [5.50890116, 2.31885342, 0.7312665 ],\n",
       "       [5.99739877, 3.07340053, 1.43802246],\n",
       "       [4.82261257, 1.51444141, 0.5605572 ],\n",
       "       [4.10541009, 0.81536685, 1.05631592],\n",
       "       [4.50652771, 1.23209127, 1.12133058],\n",
       "       [5.75777665, 2.6381171 , 0.95311851],\n",
       "       [4.84041238, 1.72401927, 0.73306362],\n",
       "       [4.55574275, 1.31541133, 0.57903109],\n",
       "       [3.83572575, 0.61011676, 1.29960041],\n",
       "       [4.75659458, 1.60532899, 0.34794609],\n",
       "       [4.97248348, 1.77481954, 0.3893492 ],\n",
       "       [4.59738969, 1.53937059, 0.68403844],\n",
       "       [4.13627755, 0.85382472, 1.29757391],\n",
       "       [5.21259935, 2.00764279, 0.30952112],\n",
       "       [5.09085376, 1.94554509, 0.50939919],\n",
       "       [4.60751473, 1.44957743, 0.61173881],\n",
       "       [4.21459274, 0.89747884, 1.10072376],\n",
       "       [4.40998776, 1.17993324, 0.65334214],\n",
       "       [4.59839015, 1.50889317, 0.83572418],\n",
       "       [4.07622276, 0.83452741, 1.1805499 ]])"
      ]
     },
     "execution_count": 128,
     "metadata": {},
     "output_type": "execute_result"
    }
   ],
   "source": [
    "distance = kmeans.fit_transform(train)\n",
    "distance"
   ]
  },
  {
   "cell_type": "markdown",
   "metadata": {},
   "source": [
    "12) Utilizando o método **predict()** defina novos valores de dados e faça a predição."
   ]
  },
  {
   "cell_type": "code",
   "execution_count": 134,
   "metadata": {},
   "outputs": [
    {
     "data": {
      "text/plain": [
       "array([2])"
      ]
     },
     "execution_count": 134,
     "metadata": {},
     "output_type": "execute_result"
    }
   ],
   "source": [
    "kmeans.predict([[5,2,8,3]])"
   ]
  }
 ],
 "metadata": {
  "kernelspec": {
   "display_name": "Python 3",
   "language": "python",
   "name": "python3"
  },
  "language_info": {
   "codemirror_mode": {
    "name": "ipython",
    "version": 3
   },
   "file_extension": ".py",
   "mimetype": "text/x-python",
   "name": "python",
   "nbconvert_exporter": "python",
   "pygments_lexer": "ipython3",
   "version": "3.7.4"
  },
  "widgets": {
   "application/vnd.jupyter.widget-state+json": {
    "state": {},
    "version_major": 2,
    "version_minor": 0
   }
  }
 },
 "nbformat": 4,
 "nbformat_minor": 2
}
