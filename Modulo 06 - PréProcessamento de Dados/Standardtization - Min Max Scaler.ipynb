{
 "cells": [
  {
   "cell_type": "markdown",
   "metadata": {},
   "source": [
    "## Técnicas de pré-processamento de Dados - Standartization - Min Max Scaler"
   ]
  },
  {
   "cell_type": "markdown",
   "metadata": {},
   "source": [
    "**Ao realizar a normlização dos dados, ele mantem a sua distribuição como a original, colocando somente em uma escala pré-definida no exemplo abaixo 0 a 1.** "
   ]
  },
  {
   "cell_type": "code",
   "execution_count": 2,
   "metadata": {},
   "outputs": [],
   "source": [
    "import numpy as np\n",
    "import seaborn as sns\n",
    "import pandas as pd\n",
    "import matplotlib.pyplot as plt\n",
    "%matplotlib inline"
   ]
  },
  {
   "cell_type": "code",
   "execution_count": 3,
   "metadata": {},
   "outputs": [],
   "source": [
    "data = np.random.normal(size=50)"
   ]
  },
  {
   "cell_type": "code",
   "execution_count": 4,
   "metadata": {},
   "outputs": [
    {
     "data": {
      "text/plain": [
       "array([ 1.40619659e+00,  8.18413706e-01,  8.35122772e-01,  3.97851186e-01,\n",
       "        3.37239216e-01, -2.04967838e-02,  4.43956924e-01, -4.90090092e-01,\n",
       "       -1.86394910e+00, -1.76629951e+00, -1.49534436e-01, -3.72210857e-04,\n",
       "        6.05829766e-01, -4.32835249e-01, -5.50179791e-01, -1.70801771e+00,\n",
       "        6.27158074e-03, -2.96633300e-01, -4.52493904e-01,  8.16255018e-01,\n",
       "       -1.54724362e+00,  2.06764161e-01, -1.37105369e+00, -1.13919452e+00,\n",
       "        8.83201545e-01, -6.94184318e-01, -2.77332912e-01,  8.20577239e-02,\n",
       "       -5.68184072e-01, -2.19546541e-01, -1.35493498e+00, -4.19115754e-01,\n",
       "        8.99813951e-01, -1.86979109e-01,  2.56119766e-02,  2.54758506e-01,\n",
       "        3.88734647e-01,  1.84301210e+00, -1.49096125e-01,  1.17084117e+00,\n",
       "        2.16473110e-01, -1.88745918e+00,  5.83473372e-01,  1.09074857e+00,\n",
       "       -6.67000485e-01,  1.58825280e-01,  1.15100083e+00, -1.54110678e-01,\n",
       "       -9.93092885e-01, -1.67241097e+00])"
      ]
     },
     "execution_count": 4,
     "metadata": {},
     "output_type": "execute_result"
    }
   ],
   "source": [
    "data"
   ]
  },
  {
   "cell_type": "code",
   "execution_count": 34,
   "metadata": {},
   "outputs": [
    {
     "data": {
      "text/plain": [
       "<matplotlib.axes._subplots.AxesSubplot at 0x1d9410de1d0>"
      ]
     },
     "execution_count": 34,
     "metadata": {},
     "output_type": "execute_result"
    },
    {
     "data": {
      "image/png": "[encoded data removed]",
      "text/plain": [
       "<Figure size 432x288 with 1 Axes>"
      ]
     },
     "metadata": {
      "needs_background": "light"
     },
     "output_type": "display_data"
    }
   ],
   "source": [
    "sns.distplot(np.array(data).reshape(-1))"
   ]
  },
  {
   "cell_type": "markdown",
   "metadata": {},
   "source": [
    "**Importando as bibliotecas necessárias**"
   ]
  },
  {
   "cell_type": "code",
   "execution_count": 13,
   "metadata": {},
   "outputs": [],
   "source": [
    "from sklearn.preprocessing import MinMaxScaler"
   ]
  },
  {
   "cell_type": "markdown",
   "metadata": {},
   "source": [
    "**Instânciando o objeto scaler**"
   ]
  },
  {
   "cell_type": "code",
   "execution_count": 30,
   "metadata": {},
   "outputs": [],
   "source": [
    "scaler = MinMaxScaler().fit(data.reshape(-1,1))"
   ]
  },
  {
   "cell_type": "markdown",
   "metadata": {},
   "source": [
    " **Transformando os dados com o objeto scaler**"
   ]
  },
  {
   "cell_type": "code",
   "execution_count": 31,
   "metadata": {
    "scrolled": true
   },
   "outputs": [
    {
     "name": "stdout",
     "output_type": "stream",
     "text": [
      "[[0.88290608]\n",
      " [0.72534344]\n",
      " [0.72982252]\n",
      " [0.61260634]\n",
      " [0.59635854]\n",
      " [0.50046288]\n",
      " [0.62496557]\n",
      " [0.37458246]\n",
      " [0.00630218]\n",
      " [0.03247838]\n",
      " [0.46587271]\n",
      " [0.50585753]\n",
      " [0.66835763]\n",
      " [0.38993034]\n",
      " [0.35847465]\n",
      " [0.04810156]\n",
      " [0.50763848]\n",
      " [0.42644099]\n",
      " [0.38466059]\n",
      " [0.72476478]\n",
      " [0.09119908]\n",
      " [0.56138305]\n",
      " [0.13842902]\n",
      " [0.20058181]\n",
      " [0.74271064]\n",
      " [0.31987242]\n",
      " [0.43161471]\n",
      " [0.52795391]\n",
      " [0.35364838]\n",
      " [0.44710508]\n",
      " [0.14274985]\n",
      " [0.39360802]\n",
      " [0.74716381]\n",
      " [0.45583519]\n",
      " [0.51282292]\n",
      " [0.57424854]\n",
      " [0.61016254]\n",
      " [1.        ]\n",
      " [0.4659902 ]\n",
      " [0.81981608]\n",
      " [0.56398566]\n",
      " [0.        ]\n",
      " [0.66236472]\n",
      " [0.79834625]\n",
      " [0.32715939]\n",
      " [0.54853243]\n",
      " [0.81449763]\n",
      " [0.46464599]\n",
      " [0.2397462 ]\n",
      " [0.05764639]]\n"
     ]
    }
   ],
   "source": [
    "data_scaled = scaler.transform(data.reshape(-1, 1))\n",
    "print(data_scaled)"
   ]
  },
  {
   "cell_type": "code",
   "execution_count": 36,
   "metadata": {},
   "outputs": [
    {
     "data": {
      "text/plain": [
       "<matplotlib.axes._subplots.AxesSubplot at 0x1d9415a9c18>"
      ]
     },
     "execution_count": 36,
     "metadata": {},
     "output_type": "execute_result"
    },
    {
     "data": {
      "image/png": "[encoded data removed]",
      "text/plain": [
       "<Figure size 432x288 with 1 Axes>"
      ]
     },
     "metadata": {
      "needs_background": "light"
     },
     "output_type": "display_data"
    }
   ],
   "source": [
    "sns.distplot(data_scaled.reshape(-1, 1))"
   ]
  },
  {
   "cell_type": "code",
   "execution_count": null,
   "metadata": {},
   "outputs": [],
   "source": []
  }
 ],
 "metadata": {
  "kernelspec": {
   "display_name": "Python 3",
   "language": "python",
   "name": "python3"
  },
  "language_info": {
   "codemirror_mode": {
    "name": "ipython",
    "version": 3
   },
   "file_extension": ".py",
   "mimetype": "text/x-python",
   "name": "python",
   "nbconvert_exporter": "python",
   "pygments_lexer": "ipython3",
   "version": "3.7.3"
  }
 },
 "nbformat": 4,
 "nbformat_minor": 2
}
