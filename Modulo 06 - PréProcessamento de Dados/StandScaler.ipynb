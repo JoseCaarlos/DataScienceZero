{
 "cells": [
  {
   "cell_type": "markdown",
   "metadata": {},
   "source": [
    "# Standartzation - StandScaler "
   ]
  },
  {
   "cell_type": "markdown",
   "metadata": {},
   "source": [
    " * Padroniza a escala dos dados sem intefirir na sua forma\n",
    " * mantém a escalas dos dados mais fiel que a Técnica MinMaxScaler"
   ]
  },
  {
   "cell_type": "code",
   "execution_count": 3,
   "metadata": {},
   "outputs": [],
   "source": [
    "import numpy as np\n",
    "import seaborn as sns\n",
    "import matplotlib.pyplot as plt\n",
    "%matplotlib inline"
   ]
  },
  {
   "cell_type": "code",
   "execution_count": 16,
   "metadata": {},
   "outputs": [],
   "source": [
    "data = np.random.normal(size=50)"
   ]
  },
  {
   "cell_type": "code",
   "execution_count": 17,
   "metadata": {},
   "outputs": [
    {
     "data": {
      "text/plain": [
       "<matplotlib.axes._subplots.AxesSubplot at 0x18c532184e0>"
      ]
     },
     "execution_count": 17,
     "metadata": {},
     "output_type": "execute_result"
    },
    {
     "data": {
      "image/png": "[encoded data removed]",
      "text/plain": [
       "<Figure size 432x288 with 1 Axes>"
      ]
     },
     "metadata": {
      "needs_background": "light"
     },
     "output_type": "display_data"
    }
   ],
   "source": [
    "sns.distplot(data.reshape(1, -1))"
   ]
  },
  {
   "cell_type": "markdown",
   "metadata": {},
   "source": [
    "**Importando as bibliotecas necessárias**"
   ]
  },
  {
   "cell_type": "code",
   "execution_count": 7,
   "metadata": {},
   "outputs": [],
   "source": [
    "from sklearn.preprocessing import StandardScaler"
   ]
  },
  {
   "cell_type": "markdown",
   "metadata": {},
   "source": [
    "**Instanciando o objeto scaler**"
   ]
  },
  {
   "cell_type": "code",
   "execution_count": 18,
   "metadata": {},
   "outputs": [],
   "source": [
    "scaler = StandardScaler().fit(data.reshape(-1, 1))"
   ]
  },
  {
   "cell_type": "markdown",
   "metadata": {},
   "source": [
    "**Transformando os dados com o objeto scaler**"
   ]
  },
  {
   "cell_type": "code",
   "execution_count": 19,
   "metadata": {
    "collapsed": true
   },
   "outputs": [
    {
     "name": "stdout",
     "output_type": "stream",
     "text": [
      "[[-0.66650925]\n",
      " [-1.98674592]\n",
      " [-0.85514477]\n",
      " [ 0.63405186]\n",
      " [ 0.26017467]\n",
      " [ 1.4564526 ]\n",
      " [-0.64952833]\n",
      " [ 0.6949943 ]\n",
      " [-0.95739962]\n",
      " [ 0.37799132]\n",
      " [-0.64276093]\n",
      " [-0.73584363]\n",
      " [-0.18298471]\n",
      " [ 1.24665325]\n",
      " [ 0.85728654]\n",
      " [ 1.11715705]\n",
      " [ 0.6931861 ]\n",
      " [ 0.57865805]\n",
      " [-0.57246921]\n",
      " [ 1.81786439]\n",
      " [-0.29665913]\n",
      " [ 0.48318607]\n",
      " [ 1.01813059]\n",
      " [-0.25103009]\n",
      " [ 0.44268938]\n",
      " [-0.69480048]\n",
      " [ 0.35044772]\n",
      " [ 1.33938527]\n",
      " [-1.00460986]\n",
      " [-0.85542385]\n",
      " [ 0.93587386]\n",
      " [ 0.92641968]\n",
      " [ 0.57890436]\n",
      " [-0.7814283 ]\n",
      " [ 0.22515067]\n",
      " [ 1.09667828]\n",
      " [ 1.93108775]\n",
      " [ 0.30696915]\n",
      " [-0.07838946]\n",
      " [-0.82742582]\n",
      " [ 0.0555557 ]\n",
      " [ 0.29683332]\n",
      " [-2.16062518]\n",
      " [-0.07948398]\n",
      " [ 0.18619074]\n",
      " [-2.78993313]\n",
      " [-1.70994991]\n",
      " [ 0.49090897]\n",
      " [-0.60589363]\n",
      " [-1.01384246]]\n"
     ]
    }
   ],
   "source": [
    "data_scaler = scaler.transform(data.reshape(-1, 1))\n",
    "print(data_scaler)"
   ]
  },
  {
   "cell_type": "code",
   "execution_count": 20,
   "metadata": {},
   "outputs": [
    {
     "data": {
      "text/plain": [
       "<matplotlib.axes._subplots.AxesSubplot at 0x18c52f4cb70>"
      ]
     },
     "execution_count": 20,
     "metadata": {},
     "output_type": "execute_result"
    },
    {
     "data": {
      "image/png": "[encoded data removed]",
      "text/plain": [
       "<Figure size 432x288 with 1 Axes>"
      ]
     },
     "metadata": {
      "needs_background": "light"
     },
     "output_type": "display_data"
    }
   ],
   "source": [
    "sns.distplot(data_scaler.reshape(-1, 1))"
   ]
  },
  {
   "cell_type": "code",
   "execution_count": null,
   "metadata": {},
   "outputs": [],
   "source": []
  }
 ],
 "metadata": {
  "kernelspec": {
   "display_name": "Python 3",
   "language": "python",
   "name": "python3"
  },
  "language_info": {
   "codemirror_mode": {
    "name": "ipython",
    "version": 3
   },
   "file_extension": ".py",
   "mimetype": "text/x-python",
   "name": "python",
   "nbconvert_exporter": "python",
   "pygments_lexer": "ipython3",
   "version": "3.7.3"
  }
 },
 "nbformat": 4,
 "nbformat_minor": 2
}
