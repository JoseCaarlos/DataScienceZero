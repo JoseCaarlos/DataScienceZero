{
 "cells": [
  {
   "cell_type": "markdown",
   "metadata": {},
   "source": [
    "## Visualização de dados com Plot.ly##"
   ]
  },
  {
   "cell_type": "markdown",
   "metadata": {},
   "source": [
    "`Cufflinks conecta o pandas ao plot.ly`\n",
    "\n",
    "`Instalação do Plot.ly e Cufflinks`"
   ]
  },
  {
   "cell_type": "code",
   "execution_count": 2,
   "metadata": {
    "collapsed": true
   },
   "outputs": [
    {
     "name": "stdout",
     "output_type": "stream",
     "text": [
      "Collecting cufflinks\n",
      "  Downloading https://files.pythonhosted.org/packages/e3/79/1b8673b2723e02919307d558896dbcedcb46807c4e29acd25cfe43a36c8b/cufflinks-0.17.0.tar.gz (81kB)\n",
      "Requirement already satisfied: numpy>=1.9.2 in d:\\desenvolvimento\\anaconda\\lib\\site-packages (from cufflinks) (1.16.5)\n",
      "Requirement already satisfied: pandas>=0.19.2 in d:\\desenvolvimento\\anaconda\\lib\\site-packages (from cufflinks) (0.25.1)\n",
      "Requirement already satisfied: plotly>=4.1.1 in d:\\desenvolvimento\\anaconda\\lib\\site-packages (from cufflinks) (4.4.1)\n",
      "Collecting chart-studio>=1.0.0 (from cufflinks)\n",
      "  Downloading https://files.pythonhosted.org/packages/b9/3f/d2f3f506ba1aaf109f549f8b01d1483cd3e324c5ebe6b206acee66efdf46/chart_studio-1.0.0-py3-none-any.whl (76kB)\n",
      "Requirement already satisfied: six>=1.9.0 in d:\\desenvolvimento\\anaconda\\lib\\site-packages (from cufflinks) (1.12.0)\n",
      "Collecting colorlover>=0.2.1 (from cufflinks)\n",
      "  Downloading https://files.pythonhosted.org/packages/9a/53/f696e4480b1d1de3b1523991dea71cf417c8b19fe70c704da164f3f90972/colorlover-0.3.0-py3-none-any.whl\n",
      "Requirement already satisfied: setuptools>=34.4.1 in d:\\desenvolvimento\\anaconda\\lib\\site-packages (from cufflinks) (41.4.0)\n",
      "Requirement already satisfied: ipython>=5.3.0 in d:\\desenvolvimento\\anaconda\\lib\\site-packages (from cufflinks) (7.8.0)\n",
      "Requirement already satisfied: ipywidgets>=7.0.0 in d:\\desenvolvimento\\anaconda\\lib\\site-packages (from cufflinks) (7.5.1)\n",
      "Requirement already satisfied: pytz>=2017.2 in d:\\desenvolvimento\\anaconda\\lib\\site-packages (from pandas>=0.19.2->cufflinks) (2019.3)\n",
      "Requirement already satisfied: python-dateutil>=2.6.1 in d:\\desenvolvimento\\anaconda\\lib\\site-packages (from pandas>=0.19.2->cufflinks) (2.8.0)\n",
      "Requirement already satisfied: retrying>=1.3.3 in d:\\desenvolvimento\\anaconda\\lib\\site-packages (from plotly>=4.1.1->cufflinks) (1.3.3)\n",
      "Requirement already satisfied: requests in d:\\desenvolvimento\\anaconda\\lib\\site-packages (from chart-studio>=1.0.0->cufflinks) (2.22.0)\n",
      "Requirement already satisfied: backcall in d:\\desenvolvimento\\anaconda\\lib\\site-packages (from ipython>=5.3.0->cufflinks) (0.1.0)\n",
      "Requirement already satisfied: traitlets>=4.2 in d:\\desenvolvimento\\anaconda\\lib\\site-packages (from ipython>=5.3.0->cufflinks) (4.3.3)\n",
      "Requirement already satisfied: colorama; sys_platform == \"win32\" in d:\\desenvolvimento\\anaconda\\lib\\site-packages (from ipython>=5.3.0->cufflinks) (0.4.1)\n",
      "Requirement already satisfied: prompt-toolkit<2.1.0,>=2.0.0 in d:\\desenvolvimento\\anaconda\\lib\\site-packages (from ipython>=5.3.0->cufflinks) (2.0.10)\n",
      "Requirement already satisfied: pickleshare in d:\\desenvolvimento\\anaconda\\lib\\site-packages (from ipython>=5.3.0->cufflinks) (0.7.5)\n",
      "Requirement already satisfied: decorator in d:\\desenvolvimento\\anaconda\\lib\\site-packages (from ipython>=5.3.0->cufflinks) (4.4.0)\n",
      "Requirement already satisfied: pygments in d:\\desenvolvimento\\anaconda\\lib\\site-packages (from ipython>=5.3.0->cufflinks) (2.4.2)\n",
      "Requirement already satisfied: jedi>=0.10 in d:\\desenvolvimento\\anaconda\\lib\\site-packages (from ipython>=5.3.0->cufflinks) (0.15.1)\n",
      "Requirement already satisfied: widgetsnbextension~=3.5.0 in d:\\desenvolvimento\\anaconda\\lib\\site-packages (from ipywidgets>=7.0.0->cufflinks) (3.5.1)\n",
      "Requirement already satisfied: nbformat>=4.2.0 in d:\\desenvolvimento\\anaconda\\lib\\site-packages (from ipywidgets>=7.0.0->cufflinks) (4.4.0)\n",
      "Requirement already satisfied: ipykernel>=4.5.1 in d:\\desenvolvimento\\anaconda\\lib\\site-packages (from ipywidgets>=7.0.0->cufflinks) (5.1.2)\n",
      "Requirement already satisfied: urllib3!=1.25.0,!=1.25.1,<1.26,>=1.21.1 in d:\\desenvolvimento\\anaconda\\lib\\site-packages (from requests->chart-studio>=1.0.0->cufflinks) (1.24.2)\n",
      "Requirement already satisfied: idna<2.9,>=2.5 in d:\\desenvolvimento\\anaconda\\lib\\site-packages (from requests->chart-studio>=1.0.0->cufflinks) (2.8)\n",
      "Requirement already satisfied: certifi>=2017.4.17 in d:\\desenvolvimento\\anaconda\\lib\\site-packages (from requests->chart-studio>=1.0.0->cufflinks) (2019.9.11)\n",
      "Requirement already satisfied: chardet<3.1.0,>=3.0.2 in d:\\desenvolvimento\\anaconda\\lib\\site-packages (from requests->chart-studio>=1.0.0->cufflinks) (3.0.4)\n",
      "Requirement already satisfied: ipython-genutils in d:\\desenvolvimento\\anaconda\\lib\\site-packages (from traitlets>=4.2->ipython>=5.3.0->cufflinks) (0.2.0)\n",
      "Requirement already satisfied: wcwidth in d:\\desenvolvimento\\anaconda\\lib\\site-packages (from prompt-toolkit<2.1.0,>=2.0.0->ipython>=5.3.0->cufflinks) (0.1.7)\n",
      "Requirement already satisfied: parso>=0.5.0 in d:\\desenvolvimento\\anaconda\\lib\\site-packages (from jedi>=0.10->ipython>=5.3.0->cufflinks) (0.5.1)\n",
      "Requirement already satisfied: notebook>=4.4.1 in d:\\desenvolvimento\\anaconda\\lib\\site-packages (from widgetsnbextension~=3.5.0->ipywidgets>=7.0.0->cufflinks) (6.0.1)\n",
      "Requirement already satisfied: jupyter-core in d:\\desenvolvimento\\anaconda\\lib\\site-packages (from nbformat>=4.2.0->ipywidgets>=7.0.0->cufflinks) (4.5.0)\n",
      "Requirement already satisfied: jsonschema!=2.5.0,>=2.4 in d:\\desenvolvimento\\anaconda\\lib\\site-packages (from nbformat>=4.2.0->ipywidgets>=7.0.0->cufflinks) (3.0.2)\n",
      "Requirement already satisfied: tornado>=4.2 in d:\\desenvolvimento\\anaconda\\lib\\site-packages (from ipykernel>=4.5.1->ipywidgets>=7.0.0->cufflinks) (6.0.3)\n",
      "Requirement already satisfied: jupyter-client in d:\\desenvolvimento\\anaconda\\lib\\site-packages (from ipykernel>=4.5.1->ipywidgets>=7.0.0->cufflinks) (5.3.3)\n",
      "Requirement already satisfied: prometheus-client in d:\\desenvolvimento\\anaconda\\lib\\site-packages (from notebook>=4.4.1->widgetsnbextension~=3.5.0->ipywidgets>=7.0.0->cufflinks) (0.7.1)\n",
      "Requirement already satisfied: nbconvert in d:\\desenvolvimento\\anaconda\\lib\\site-packages (from notebook>=4.4.1->widgetsnbextension~=3.5.0->ipywidgets>=7.0.0->cufflinks) (5.6.0)\n",
      "Requirement already satisfied: pyzmq>=17 in d:\\desenvolvimento\\anaconda\\lib\\site-packages (from notebook>=4.4.1->widgetsnbextension~=3.5.0->ipywidgets>=7.0.0->cufflinks) (18.1.0)\n",
      "Requirement already satisfied: Send2Trash in d:\\desenvolvimento\\anaconda\\lib\\site-packages (from notebook>=4.4.1->widgetsnbextension~=3.5.0->ipywidgets>=7.0.0->cufflinks) (1.5.0)\n",
      "Requirement already satisfied: jinja2 in d:\\desenvolvimento\\anaconda\\lib\\site-packages (from notebook>=4.4.1->widgetsnbextension~=3.5.0->ipywidgets>=7.0.0->cufflinks) (2.10.3)\n",
      "Requirement already satisfied: terminado>=0.8.1 in d:\\desenvolvimento\\anaconda\\lib\\site-packages (from notebook>=4.4.1->widgetsnbextension~=3.5.0->ipywidgets>=7.0.0->cufflinks) (0.8.2)\n",
      "Requirement already satisfied: attrs>=17.4.0 in d:\\desenvolvimento\\anaconda\\lib\\site-packages (from jsonschema!=2.5.0,>=2.4->nbformat>=4.2.0->ipywidgets>=7.0.0->cufflinks) (19.2.0)\n",
      "Requirement already satisfied: pyrsistent>=0.14.0 in d:\\desenvolvimento\\anaconda\\lib\\site-packages (from jsonschema!=2.5.0,>=2.4->nbformat>=4.2.0->ipywidgets>=7.0.0->cufflinks) (0.15.4)\n",
      "Requirement already satisfied: pywin32>=1.0; sys_platform == \"win32\" in d:\\desenvolvimento\\anaconda\\lib\\site-packages (from jupyter-client->ipykernel>=4.5.1->ipywidgets>=7.0.0->cufflinks) (223)\n",
      "Requirement already satisfied: testpath in d:\\desenvolvimento\\anaconda\\lib\\site-packages (from nbconvert->notebook>=4.4.1->widgetsnbextension~=3.5.0->ipywidgets>=7.0.0->cufflinks) (0.4.2)\n",
      "Requirement already satisfied: mistune<2,>=0.8.1 in d:\\desenvolvimento\\anaconda\\lib\\site-packages (from nbconvert->notebook>=4.4.1->widgetsnbextension~=3.5.0->ipywidgets>=7.0.0->cufflinks) (0.8.4)\n",
      "Requirement already satisfied: bleach in d:\\desenvolvimento\\anaconda\\lib\\site-packages (from nbconvert->notebook>=4.4.1->widgetsnbextension~=3.5.0->ipywidgets>=7.0.0->cufflinks) (3.1.0)\n",
      "Requirement already satisfied: defusedxml in d:\\desenvolvimento\\anaconda\\lib\\site-packages (from nbconvert->notebook>=4.4.1->widgetsnbextension~=3.5.0->ipywidgets>=7.0.0->cufflinks) (0.6.0)\n",
      "Requirement already satisfied: entrypoints>=0.2.2 in d:\\desenvolvimento\\anaconda\\lib\\site-packages (from nbconvert->notebook>=4.4.1->widgetsnbextension~=3.5.0->ipywidgets>=7.0.0->cufflinks) (0.3)\n",
      "Requirement already satisfied: pandocfilters>=1.4.1 in d:\\desenvolvimento\\anaconda\\lib\\site-packages (from nbconvert->notebook>=4.4.1->widgetsnbextension~=3.5.0->ipywidgets>=7.0.0->cufflinks) (1.4.2)\n",
      "Requirement already satisfied: MarkupSafe>=0.23 in d:\\desenvolvimento\\anaconda\\lib\\site-packages (from jinja2->notebook>=4.4.1->widgetsnbextension~=3.5.0->ipywidgets>=7.0.0->cufflinks) (1.1.1)\n",
      "Requirement already satisfied: webencodings in d:\\desenvolvimento\\anaconda\\lib\\site-packages (from bleach->nbconvert->notebook>=4.4.1->widgetsnbextension~=3.5.0->ipywidgets>=7.0.0->cufflinks) (0.5.1)\n",
      "Building wheels for collected packages: cufflinks\n",
      "  Building wheel for cufflinks (setup.py): started\n",
      "  Building wheel for cufflinks (setup.py): finished with status 'done'\n",
      "  Created wheel for cufflinks: filename=cufflinks-0.17.0-cp37-none-any.whl size=68551 sha256=1ec3d27c1e3a49654b5467c06e39bc7678f6d3fb82f7a6a86d1fce1118a9f01a\n",
      "  Stored in directory: C:\\Users\\JOSE\\AppData\\Local\\pip\\Cache\\wheels\\44\\d7\\dc\\e830ab00bc2dd3b2731295103baa070f8cbdda8891f71a7a8d\n",
      "Successfully built cufflinks\n",
      "Installing collected packages: chart-studio, colorlover, cufflinks\n",
      "Successfully installed chart-studio-1.0.0 colorlover-0.3.0 cufflinks-0.17.0\n"
     ]
    },
    {
     "name": "stdout",
     "output_type": "stream",
     "text": [
      "Requirement already satisfied: plotly in d:\\desenvolvimento\\anaconda\\lib\\site-packages (4.4.1)\n",
      "Requirement already satisfied: six in d:\\desenvolvimento\\anaconda\\lib\\site-packages (from plotly) (1.12.0)\n",
      "Requirement already satisfied: retrying>=1.3.3 in d:\\desenvolvimento\\anaconda\\lib\\site-packages (from plotly) (1.3.3)\n"
     ]
    }
   ],
   "source": [
    "!pip install cufflinks\n",
    "!pip install plotly"
   ]
  },
  {
   "cell_type": "markdown",
   "metadata": {},
   "source": [
    "`Importando o cufflinks e o plot.ly`"
   ]
  },
  {
   "cell_type": "code",
   "execution_count": 3,
   "metadata": {},
   "outputs": [],
   "source": [
    "import cufflinks as cf\n",
    "from plotly.offline import plot, iplot\n",
    "import pandas as pd\n",
    "import numpy as np"
   ]
  },
  {
   "cell_type": "markdown",
   "metadata": {},
   "source": [
    "**Cria um dataframe com dados aleatórios divididos por 4 colunas**"
   ]
  },
  {
   "cell_type": "code",
   "execution_count": 4,
   "metadata": {},
   "outputs": [],
   "source": [
    "df = pd.DataFrame(np.random.randn(100,4), columns=['A','B','C','D'])"
   ]
  },
  {
   "cell_type": "code",
   "execution_count": 6,
   "metadata": {},
   "outputs": [
    {
     "data": {
      "text/html": [
       "<div>\n",
       "<style scoped>\n",
       "    .dataframe tbody tr th:only-of-type {\n",
       "        vertical-align: middle;\n",
       "    }\n",
       "\n",
       "    .dataframe tbody tr th {\n",
       "        vertical-align: top;\n",
       "    }\n",
       "\n",
       "    .dataframe thead th {\n",
       "        text-align: right;\n",
       "    }\n",
       "</style>\n",
       "<table border=\"1\" class=\"dataframe\">\n",
       "  <thead>\n",
       "    <tr style=\"text-align: right;\">\n",
       "      <th></th>\n",
       "      <th>A</th>\n",
       "      <th>B</th>\n",
       "      <th>C</th>\n",
       "      <th>D</th>\n",
       "    </tr>\n",
       "  </thead>\n",
       "  <tbody>\n",
       "    <tr>\n",
       "      <td>0</td>\n",
       "      <td>-2.233005</td>\n",
       "      <td>-0.923484</td>\n",
       "      <td>0.275572</td>\n",
       "      <td>0.364393</td>\n",
       "    </tr>\n",
       "    <tr>\n",
       "      <td>1</td>\n",
       "      <td>-0.952191</td>\n",
       "      <td>0.183791</td>\n",
       "      <td>-1.410757</td>\n",
       "      <td>0.150263</td>\n",
       "    </tr>\n",
       "    <tr>\n",
       "      <td>2</td>\n",
       "      <td>0.278466</td>\n",
       "      <td>0.954901</td>\n",
       "      <td>0.654118</td>\n",
       "      <td>1.218722</td>\n",
       "    </tr>\n",
       "    <tr>\n",
       "      <td>3</td>\n",
       "      <td>-0.749743</td>\n",
       "      <td>-0.817274</td>\n",
       "      <td>1.967469</td>\n",
       "      <td>-0.865991</td>\n",
       "    </tr>\n",
       "    <tr>\n",
       "      <td>4</td>\n",
       "      <td>-0.895634</td>\n",
       "      <td>0.317443</td>\n",
       "      <td>1.256596</td>\n",
       "      <td>0.600478</td>\n",
       "    </tr>\n",
       "  </tbody>\n",
       "</table>\n",
       "</div>"
      ],
      "text/plain": [
       "          A         B         C         D\n",
       "0 -2.233005 -0.923484  0.275572  0.364393\n",
       "1 -0.952191  0.183791 -1.410757  0.150263\n",
       "2  0.278466  0.954901  0.654118  1.218722\n",
       "3 -0.749743 -0.817274  1.967469 -0.865991\n",
       "4 -0.895634  0.317443  1.256596  0.600478"
      ]
     },
     "execution_count": 6,
     "metadata": {},
     "output_type": "execute_result"
    }
   ],
   "source": [
    "df.head()"
   ]
  },
  {
   "cell_type": "markdown",
   "metadata": {},
   "source": [
    "**Ao tentar usar o Cufflinks veja o resultado**"
   ]
  },
  {
   "cell_type": "code",
   "execution_count": 7,
   "metadata": {
    "collapsed": true
   },
   "outputs": [
    {
     "ename": "KeyboardInterrupt",
     "evalue": "",
     "output_type": "error",
     "traceback": [
      "\u001b[1;31m---------------------------------------------------------------------------\u001b[0m",
      "\u001b[1;31mKeyboardInterrupt\u001b[0m                         Traceback (most recent call last)",
      "\u001b[1;32m<ipython-input-7-69813823c9f3>\u001b[0m in \u001b[0;36m<module>\u001b[1;34m\u001b[0m\n\u001b[1;32m----> 1\u001b[1;33m \u001b[0mdf\u001b[0m\u001b[1;33m.\u001b[0m\u001b[0miplot\u001b[0m\u001b[1;33m(\u001b[0m\u001b[1;33m)\u001b[0m\u001b[1;33m\u001b[0m\u001b[1;33m\u001b[0m\u001b[0m\n\u001b[0m",
      "\u001b[1;32mD:\\Desenvolvimento\\Anaconda\\lib\\site-packages\\cufflinks\\plotlytools.py\u001b[0m in \u001b[0;36m_iplot\u001b[1;34m(self, kind, data, layout, filename, sharing, title, xTitle, yTitle, zTitle, theme, colors, colorscale, fill, width, dash, mode, interpolation, symbol, size, barmode, sortbars, bargap, bargroupgap, bins, histnorm, histfunc, orientation, boxpoints, annotations, keys, bestfit, bestfit_colors, mean, mean_colors, categories, x, y, z, text, gridcolor, zerolinecolor, margin, labels, values, secondary_y, secondary_y_title, subplots, shape, error_x, error_y, error_type, locations, lon, lat, asFrame, asDates, asFigure, asImage, dimensions, asPlot, asUrl, online, **kwargs)\u001b[0m\n\u001b[0;32m   1217\u001b[0m \t\treturn iplot(figure,validate=validate,sharing=sharing,filename=filename,\n\u001b[0;32m   1218\u001b[0m                          \u001b[0monline\u001b[0m\u001b[1;33m=\u001b[0m\u001b[0monline\u001b[0m\u001b[1;33m,\u001b[0m\u001b[0masImage\u001b[0m\u001b[1;33m=\u001b[0m\u001b[0masImage\u001b[0m\u001b[1;33m,\u001b[0m\u001b[0masUrl\u001b[0m\u001b[1;33m=\u001b[0m\u001b[0masUrl\u001b[0m\u001b[1;33m,\u001b[0m\u001b[0masPlot\u001b[0m\u001b[1;33m=\u001b[0m\u001b[0masPlot\u001b[0m\u001b[1;33m,\u001b[0m\u001b[1;33m\u001b[0m\u001b[1;33m\u001b[0m\u001b[0m\n\u001b[1;32m-> 1219\u001b[1;33m \t\t\t dimensions=dimensions,display_image=kwargs.get('display_image',True))\n\u001b[0m\u001b[0;32m   1220\u001b[0m \u001b[1;33m\u001b[0m\u001b[0m\n\u001b[0;32m   1221\u001b[0m \u001b[1;33m\u001b[0m\u001b[0m\n",
      "\u001b[1;32mD:\\Desenvolvimento\\Anaconda\\lib\\site-packages\\cufflinks\\plotlytools.py\u001b[0m in \u001b[0;36miplot\u001b[1;34m(figure, validate, sharing, filename, online, asImage, asUrl, asPlot, dimensions, display_image, **kwargs)\u001b[0m\n\u001b[0;32m   1462\u001b[0m         \u001b[1;32melse\u001b[0m\u001b[1;33m:\u001b[0m\u001b[1;33m\u001b[0m\u001b[1;33m\u001b[0m\u001b[0m\n\u001b[0;32m   1463\u001b[0m \t\treturn py.iplot(figure,validate=validate,sharing=sharing,\n\u001b[1;32m-> 1464\u001b[1;33m \t\t\t\t\t\tfilename=filename)\n\u001b[0m\u001b[0;32m   1465\u001b[0m \u001b[1;33m\u001b[0m\u001b[0m\n\u001b[0;32m   1466\u001b[0m \u001b[1;33m\u001b[0m\u001b[0m\n",
      "\u001b[1;32mD:\\Desenvolvimento\\Anaconda\\lib\\site-packages\\chart_studio\\plotly\\plotly.py\u001b[0m in \u001b[0;36miplot\u001b[1;34m(figure_or_data, **plot_options)\u001b[0m\n\u001b[0;32m    133\u001b[0m     \u001b[1;32mif\u001b[0m \u001b[1;34m\"auto_open\"\u001b[0m \u001b[1;32mnot\u001b[0m \u001b[1;32min\u001b[0m \u001b[0mplot_options\u001b[0m\u001b[1;33m:\u001b[0m\u001b[1;33m\u001b[0m\u001b[1;33m\u001b[0m\u001b[0m\n\u001b[0;32m    134\u001b[0m         \u001b[0mplot_options\u001b[0m\u001b[1;33m[\u001b[0m\u001b[1;34m\"auto_open\"\u001b[0m\u001b[1;33m]\u001b[0m \u001b[1;33m=\u001b[0m \u001b[1;32mFalse\u001b[0m\u001b[1;33m\u001b[0m\u001b[1;33m\u001b[0m\u001b[0m\n\u001b[1;32m--> 135\u001b[1;33m     \u001b[0murl\u001b[0m \u001b[1;33m=\u001b[0m \u001b[0mplot\u001b[0m\u001b[1;33m(\u001b[0m\u001b[0mfigure_or_data\u001b[0m\u001b[1;33m,\u001b[0m \u001b[1;33m**\u001b[0m\u001b[0mplot_options\u001b[0m\u001b[1;33m)\u001b[0m\u001b[1;33m\u001b[0m\u001b[1;33m\u001b[0m\u001b[0m\n\u001b[0m\u001b[0;32m    136\u001b[0m \u001b[1;33m\u001b[0m\u001b[0m\n\u001b[0;32m    137\u001b[0m     \u001b[1;32mif\u001b[0m \u001b[0misinstance\u001b[0m\u001b[1;33m(\u001b[0m\u001b[0mfigure_or_data\u001b[0m\u001b[1;33m,\u001b[0m \u001b[0mdict\u001b[0m\u001b[1;33m)\u001b[0m\u001b[1;33m:\u001b[0m\u001b[1;33m\u001b[0m\u001b[1;33m\u001b[0m\u001b[0m\n",
      "\u001b[1;32mD:\\Desenvolvimento\\Anaconda\\lib\\site-packages\\chart_studio\\plotly\\plotly.py\u001b[0m in \u001b[0;36mplot\u001b[1;34m(figure_or_data, validate, **plot_options)\u001b[0m\n\u001b[0;32m    278\u001b[0m             \u001b[0mfilename\u001b[0m\u001b[1;33m=\u001b[0m\u001b[0mgrid_filename\u001b[0m\u001b[1;33m,\u001b[0m\u001b[1;33m\u001b[0m\u001b[1;33m\u001b[0m\u001b[0m\n\u001b[0;32m    279\u001b[0m             \u001b[0mworld_readable\u001b[0m\u001b[1;33m=\u001b[0m\u001b[0mpayload\u001b[0m\u001b[1;33m[\u001b[0m\u001b[1;34m\"world_readable\"\u001b[0m\u001b[1;33m]\u001b[0m\u001b[1;33m,\u001b[0m\u001b[1;33m\u001b[0m\u001b[1;33m\u001b[0m\u001b[0m\n\u001b[1;32m--> 280\u001b[1;33m             \u001b[0mauto_open\u001b[0m\u001b[1;33m=\u001b[0m\u001b[1;32mFalse\u001b[0m\u001b[1;33m,\u001b[0m\u001b[1;33m\u001b[0m\u001b[1;33m\u001b[0m\u001b[0m\n\u001b[0m\u001b[0;32m    281\u001b[0m         )\n\u001b[0;32m    282\u001b[0m \u001b[1;33m\u001b[0m\u001b[0m\n",
      "\u001b[1;32mD:\\Desenvolvimento\\Anaconda\\lib\\site-packages\\chart_studio\\plotly\\plotly.py\u001b[0m in \u001b[0;36mupload\u001b[1;34m(cls, grid, filename, world_readable, auto_open, meta)\u001b[0m\n\u001b[0;32m   1085\u001b[0m                 \u001b[0mpayload\u001b[0m\u001b[1;33m[\u001b[0m\u001b[1;34m\"parent_path\"\u001b[0m\u001b[1;33m]\u001b[0m \u001b[1;33m=\u001b[0m \u001b[0mparent_path\u001b[0m\u001b[1;33m\u001b[0m\u001b[1;33m\u001b[0m\u001b[0m\n\u001b[0;32m   1086\u001b[0m \u001b[1;33m\u001b[0m\u001b[0m\n\u001b[1;32m-> 1087\u001b[1;33m         \u001b[0mfile_info\u001b[0m \u001b[1;33m=\u001b[0m \u001b[0m_create_or_overwrite_grid\u001b[0m\u001b[1;33m(\u001b[0m\u001b[0mpayload\u001b[0m\u001b[1;33m)\u001b[0m\u001b[1;33m\u001b[0m\u001b[1;33m\u001b[0m\u001b[0m\n\u001b[0m\u001b[0;32m   1088\u001b[0m \u001b[1;33m\u001b[0m\u001b[0m\n\u001b[0;32m   1089\u001b[0m         \u001b[0mcols\u001b[0m \u001b[1;33m=\u001b[0m \u001b[0mfile_info\u001b[0m\u001b[1;33m[\u001b[0m\u001b[1;34m\"cols\"\u001b[0m\u001b[1;33m]\u001b[0m\u001b[1;33m\u001b[0m\u001b[1;33m\u001b[0m\u001b[0m\n",
      "\u001b[1;32mD:\\Desenvolvimento\\Anaconda\\lib\\site-packages\\chart_studio\\plotly\\plotly.py\u001b[0m in \u001b[0;36m_create_or_overwrite_grid\u001b[1;34m(data, max_retries)\u001b[0m\n\u001b[0;32m   1526\u001b[0m     \u001b[1;32mif\u001b[0m \u001b[0mfilename\u001b[0m\u001b[1;33m:\u001b[0m\u001b[1;33m\u001b[0m\u001b[1;33m\u001b[0m\u001b[0m\n\u001b[0;32m   1527\u001b[0m         \u001b[1;32mtry\u001b[0m\u001b[1;33m:\u001b[0m\u001b[1;33m\u001b[0m\u001b[1;33m\u001b[0m\u001b[0m\n\u001b[1;32m-> 1528\u001b[1;33m             \u001b[0mlookup_res\u001b[0m \u001b[1;33m=\u001b[0m \u001b[0mv2\u001b[0m\u001b[1;33m.\u001b[0m\u001b[0mfiles\u001b[0m\u001b[1;33m.\u001b[0m\u001b[0mlookup\u001b[0m\u001b[1;33m(\u001b[0m\u001b[0mfilename\u001b[0m\u001b[1;33m)\u001b[0m\u001b[1;33m\u001b[0m\u001b[1;33m\u001b[0m\u001b[0m\n\u001b[0m\u001b[0;32m   1529\u001b[0m             \u001b[1;32mif\u001b[0m \u001b[0misinstance\u001b[0m\u001b[1;33m(\u001b[0m\u001b[0mlookup_res\u001b[0m\u001b[1;33m.\u001b[0m\u001b[0mcontent\u001b[0m\u001b[1;33m,\u001b[0m \u001b[0mbytes\u001b[0m\u001b[1;33m)\u001b[0m\u001b[1;33m:\u001b[0m\u001b[1;33m\u001b[0m\u001b[1;33m\u001b[0m\u001b[0m\n\u001b[0;32m   1530\u001b[0m                 \u001b[0mcontent\u001b[0m \u001b[1;33m=\u001b[0m \u001b[0mlookup_res\u001b[0m\u001b[1;33m.\u001b[0m\u001b[0mcontent\u001b[0m\u001b[1;33m.\u001b[0m\u001b[0mdecode\u001b[0m\u001b[1;33m(\u001b[0m\u001b[1;34m\"utf-8\"\u001b[0m\u001b[1;33m)\u001b[0m\u001b[1;33m\u001b[0m\u001b[1;33m\u001b[0m\u001b[0m\n",
      "\u001b[1;32mD:\\Desenvolvimento\\Anaconda\\lib\\site-packages\\chart_studio\\api\\v2\\files.py\u001b[0m in \u001b[0;36mlookup\u001b[1;34m(path, parent, user, exists)\u001b[0m\n\u001b[0;32m     83\u001b[0m     \u001b[0murl\u001b[0m \u001b[1;33m=\u001b[0m \u001b[0mbuild_url\u001b[0m\u001b[1;33m(\u001b[0m\u001b[0mRESOURCE\u001b[0m\u001b[1;33m,\u001b[0m \u001b[0mroute\u001b[0m\u001b[1;33m=\u001b[0m\u001b[1;34m\"lookup\"\u001b[0m\u001b[1;33m)\u001b[0m\u001b[1;33m\u001b[0m\u001b[1;33m\u001b[0m\u001b[0m\n\u001b[0;32m     84\u001b[0m     \u001b[0mparams\u001b[0m \u001b[1;33m=\u001b[0m \u001b[0mmake_params\u001b[0m\u001b[1;33m(\u001b[0m\u001b[0mpath\u001b[0m\u001b[1;33m=\u001b[0m\u001b[0mpath\u001b[0m\u001b[1;33m,\u001b[0m \u001b[0mparent\u001b[0m\u001b[1;33m=\u001b[0m\u001b[0mparent\u001b[0m\u001b[1;33m,\u001b[0m \u001b[0muser\u001b[0m\u001b[1;33m=\u001b[0m\u001b[0muser\u001b[0m\u001b[1;33m,\u001b[0m \u001b[0mexists\u001b[0m\u001b[1;33m=\u001b[0m\u001b[0mexists\u001b[0m\u001b[1;33m)\u001b[0m\u001b[1;33m\u001b[0m\u001b[1;33m\u001b[0m\u001b[0m\n\u001b[1;32m---> 85\u001b[1;33m     \u001b[1;32mreturn\u001b[0m \u001b[0mrequest\u001b[0m\u001b[1;33m(\u001b[0m\u001b[1;34m\"get\"\u001b[0m\u001b[1;33m,\u001b[0m \u001b[0murl\u001b[0m\u001b[1;33m,\u001b[0m \u001b[0mparams\u001b[0m\u001b[1;33m=\u001b[0m\u001b[0mparams\u001b[0m\u001b[1;33m)\u001b[0m\u001b[1;33m\u001b[0m\u001b[1;33m\u001b[0m\u001b[0m\n\u001b[0m",
      "\u001b[1;32mD:\\Desenvolvimento\\Anaconda\\lib\\site-packages\\retrying.py\u001b[0m in \u001b[0;36mwrapped_f\u001b[1;34m(*args, **kw)\u001b[0m\n\u001b[0;32m     47\u001b[0m             \u001b[1;33m@\u001b[0m\u001b[0msix\u001b[0m\u001b[1;33m.\u001b[0m\u001b[0mwraps\u001b[0m\u001b[1;33m(\u001b[0m\u001b[0mf\u001b[0m\u001b[1;33m)\u001b[0m\u001b[1;33m\u001b[0m\u001b[1;33m\u001b[0m\u001b[0m\n\u001b[0;32m     48\u001b[0m             \u001b[1;32mdef\u001b[0m \u001b[0mwrapped_f\u001b[0m\u001b[1;33m(\u001b[0m\u001b[1;33m*\u001b[0m\u001b[0margs\u001b[0m\u001b[1;33m,\u001b[0m \u001b[1;33m**\u001b[0m\u001b[0mkw\u001b[0m\u001b[1;33m)\u001b[0m\u001b[1;33m:\u001b[0m\u001b[1;33m\u001b[0m\u001b[1;33m\u001b[0m\u001b[0m\n\u001b[1;32m---> 49\u001b[1;33m                 \u001b[1;32mreturn\u001b[0m \u001b[0mRetrying\u001b[0m\u001b[1;33m(\u001b[0m\u001b[1;33m*\u001b[0m\u001b[0mdargs\u001b[0m\u001b[1;33m,\u001b[0m \u001b[1;33m**\u001b[0m\u001b[0mdkw\u001b[0m\u001b[1;33m)\u001b[0m\u001b[1;33m.\u001b[0m\u001b[0mcall\u001b[0m\u001b[1;33m(\u001b[0m\u001b[0mf\u001b[0m\u001b[1;33m,\u001b[0m \u001b[1;33m*\u001b[0m\u001b[0margs\u001b[0m\u001b[1;33m,\u001b[0m \u001b[1;33m**\u001b[0m\u001b[0mkw\u001b[0m\u001b[1;33m)\u001b[0m\u001b[1;33m\u001b[0m\u001b[1;33m\u001b[0m\u001b[0m\n\u001b[0m\u001b[0;32m     50\u001b[0m \u001b[1;33m\u001b[0m\u001b[0m\n\u001b[0;32m     51\u001b[0m             \u001b[1;32mreturn\u001b[0m \u001b[0mwrapped_f\u001b[0m\u001b[1;33m\u001b[0m\u001b[1;33m\u001b[0m\u001b[0m\n",
      "\u001b[1;32mD:\\Desenvolvimento\\Anaconda\\lib\\site-packages\\retrying.py\u001b[0m in \u001b[0;36mcall\u001b[1;34m(self, fn, *args, **kwargs)\u001b[0m\n\u001b[0;32m    218\u001b[0m                     \u001b[0mjitter\u001b[0m \u001b[1;33m=\u001b[0m \u001b[0mrandom\u001b[0m\u001b[1;33m.\u001b[0m\u001b[0mrandom\u001b[0m\u001b[1;33m(\u001b[0m\u001b[1;33m)\u001b[0m \u001b[1;33m*\u001b[0m \u001b[0mself\u001b[0m\u001b[1;33m.\u001b[0m\u001b[0m_wait_jitter_max\u001b[0m\u001b[1;33m\u001b[0m\u001b[1;33m\u001b[0m\u001b[0m\n\u001b[0;32m    219\u001b[0m                     \u001b[0msleep\u001b[0m \u001b[1;33m=\u001b[0m \u001b[0msleep\u001b[0m \u001b[1;33m+\u001b[0m \u001b[0mmax\u001b[0m\u001b[1;33m(\u001b[0m\u001b[1;36m0\u001b[0m\u001b[1;33m,\u001b[0m \u001b[0mjitter\u001b[0m\u001b[1;33m)\u001b[0m\u001b[1;33m\u001b[0m\u001b[1;33m\u001b[0m\u001b[0m\n\u001b[1;32m--> 220\u001b[1;33m                 \u001b[0mtime\u001b[0m\u001b[1;33m.\u001b[0m\u001b[0msleep\u001b[0m\u001b[1;33m(\u001b[0m\u001b[0msleep\u001b[0m \u001b[1;33m/\u001b[0m \u001b[1;36m1000.0\u001b[0m\u001b[1;33m)\u001b[0m\u001b[1;33m\u001b[0m\u001b[1;33m\u001b[0m\u001b[0m\n\u001b[0m\u001b[0;32m    221\u001b[0m \u001b[1;33m\u001b[0m\u001b[0m\n\u001b[0;32m    222\u001b[0m             \u001b[0mattempt_number\u001b[0m \u001b[1;33m+=\u001b[0m \u001b[1;36m1\u001b[0m\u001b[1;33m\u001b[0m\u001b[1;33m\u001b[0m\u001b[0m\n",
      "\u001b[1;31mKeyboardInterrupt\u001b[0m: "
     ]
    }
   ],
   "source": [
    "# tenta realizar contato com uma conta no Plotly por isso tem que usar o mod offline\n",
    "df.iplot()"
   ]
  },
  {
   "cell_type": "markdown",
   "metadata": {},
   "source": [
    "**É preciso habilitar o modo offiline primeiramente**"
   ]
  },
  {
   "cell_type": "code",
   "execution_count": 9,
   "metadata": {},
   "outputs": [
    {
     "data": {
      "text/html": [
       "        <script type=\"text/javascript\">\n",
       "        window.PlotlyConfig = {MathJaxConfig: 'local'};\n",
       "        if (window.MathJax) {MathJax.Hub.Config({SVG: {font: \"STIX-Web\"}});}\n",
       "        if (typeof require !== 'undefined') {\n",
       "        require.undef(\"plotly\");\n",
       "        requirejs.config({\n",
       "            paths: {\n",
       "                'plotly': ['https://cdn.plot.ly/plotly-latest.min']\n",
       "            }\n",
       "        });\n",
       "        require(['plotly'], function(Plotly) {\n",
       "            window._Plotly = Plotly;\n",
       "        });\n",
       "        }\n",
       "        </script>\n",
       "        "
      ]
     },
     "metadata": {},
     "output_type": "display_data"
    }
   ],
   "source": [
    "cf.go_offline()"
   ]
  },
  {
   "cell_type": "markdown",
   "metadata": {},
   "source": [
    "**Executando o iplot() novamente**\n",
    "`Clique no link \"Export to plot.ly\"`"
   ]
  },
  {
   "cell_type": "code",
   "execution_count": 11,
   "metadata": {},
   "outputs": [
    {
     "data": {
      "text/html": [
       "<div>\n",
       "<style scoped>\n",
       "    .dataframe tbody tr th:only-of-type {\n",
       "        vertical-align: middle;\n",
       "    }\n",
       "\n",
       "    .dataframe tbody tr th {\n",
       "        vertical-align: top;\n",
       "    }\n",
       "\n",
       "    .dataframe thead th {\n",
       "        text-align: right;\n",
       "    }\n",
       "</style>\n",
       "<table border=\"1\" class=\"dataframe\">\n",
       "  <thead>\n",
       "    <tr style=\"text-align: right;\">\n",
       "      <th></th>\n",
       "      <th>A</th>\n",
       "      <th>B</th>\n",
       "      <th>C</th>\n",
       "      <th>D</th>\n",
       "    </tr>\n",
       "  </thead>\n",
       "  <tbody>\n",
       "    <tr>\n",
       "      <td>0</td>\n",
       "      <td>-2.233005</td>\n",
       "      <td>-0.923484</td>\n",
       "      <td>0.275572</td>\n",
       "      <td>0.364393</td>\n",
       "    </tr>\n",
       "    <tr>\n",
       "      <td>1</td>\n",
       "      <td>-0.952191</td>\n",
       "      <td>0.183791</td>\n",
       "      <td>-1.410757</td>\n",
       "      <td>0.150263</td>\n",
       "    </tr>\n",
       "    <tr>\n",
       "      <td>2</td>\n",
       "      <td>0.278466</td>\n",
       "      <td>0.954901</td>\n",
       "      <td>0.654118</td>\n",
       "      <td>1.218722</td>\n",
       "    </tr>\n",
       "    <tr>\n",
       "      <td>3</td>\n",
       "      <td>-0.749743</td>\n",
       "      <td>-0.817274</td>\n",
       "      <td>1.967469</td>\n",
       "      <td>-0.865991</td>\n",
       "    </tr>\n",
       "    <tr>\n",
       "      <td>4</td>\n",
       "      <td>-0.895634</td>\n",
       "      <td>0.317443</td>\n",
       "      <td>1.256596</td>\n",
       "      <td>0.600478</td>\n",
       "    </tr>\n",
       "  </tbody>\n",
       "</table>\n",
       "</div>"
      ],
      "text/plain": [
       "          A         B         C         D\n",
       "0 -2.233005 -0.923484  0.275572  0.364393\n",
       "1 -0.952191  0.183791 -1.410757  0.150263\n",
       "2  0.278466  0.954901  0.654118  1.218722\n",
       "3 -0.749743 -0.817274  1.967469 -0.865991\n",
       "4 -0.895634  0.317443  1.256596  0.600478"
      ]
     },
     "execution_count": 11,
     "metadata": {},
     "output_type": "execute_result"
    }
   ],
   "source": [
    "df.head()"
   ]
  },
  {
   "cell_type": "code",
   "execution_count": 10,
   "metadata": {},
   "outputs": [
    {
     "data": {
      "application/vnd.plotly.v1+json": {
       "config": {
        "linkText": "Export to plot.ly",
        "plotlyServerURL": "https://plot.ly",
        "showLink": true
       },
       "data": [
        {
         "line": {
          "color": "rgba(255, 153, 51, 1.0)",
          "dash": "solid",
          "shape": "linear",
          "width": 1.3
         },
         "mode": "lines",
         "name": "A",
         "text": "",
         "type": "scatter",
         "x": [
          0,
          1,
          2,
          3,
          4,
          5,
          6,
          7,
          8,
          9,
          10,
          11,
          12,
          13,
          14,
          15,
          16,
          17,
          18,
          19,
          20,
          21,
          22,
          23,
          24,
          25,
          26,
          27,
          28,
          29,
          30,
          31,
          32,
          33,
          34,
          35,
          36,
          37,
          38,
          39,
          40,
          41,
          42,
          43,
          44,
          45,
          46,
          47,
          48,
          49,
          50,
          51,
          52,
          53,
          54,
          55,
          56,
          57,
          58,
          59,
          60,
          61,
          62,
          63,
          64,
          65,
          66,
          67,
          68,
          69,
          70,
          71,
          72,
          73,
          74,
          75,
          76,
          77,
          78,
          79,
          80,
          81,
          82,
          83,
          84,
          85,
          86,
          87,
          88,
          89,
          90,
          91,
          92,
          93,
          94,
          95,
          96,
          97,
          98,
          99
         ],
         "y": [
          -2.2330045307590853,
          -0.9521908995974245,
          0.27846606978193117,
          -0.7497430396641565,
          -0.8956342510414951,
          -0.2701922755157396,
          0.13378854729598888,
          -0.10139493386630462,
          2.4089945148153924,
          2.2798960353709634,
          1.536776871530047,
          -0.4738067773638204,
          0.3895763004483561,
          -0.44813497414482384,
          -0.04272139930867001,
          1.8607472786609707,
          -0.6439882932495113,
          1.2582962916443727,
          -1.204805217634797,
          -0.1429158275301282,
          1.1677493616360861,
          -2.6530884634429985,
          -0.9403827018208064,
          0.1496396817935744,
          0.04470276113270573,
          -0.7319557334866961,
          0.5233737734533389,
          -0.4409303064263165,
          -0.5833238720623664,
          0.25649916497690095,
          -0.30081158546772635,
          0.07975881141571715,
          -2.090321583607134,
          -0.8712175959679449,
          -0.6931394651239492,
          -0.8218402617535678,
          1.4418250131499333,
          0.3751607269805806,
          1.2314240010401805,
          0.4199928878005679,
          -0.1554548985369435,
          1.8868088114432202,
          -0.694422411044866,
          1.1436083825779144,
          0.7624519963607965,
          -0.2482247596359065,
          1.4414688130029367,
          0.22035610962969224,
          0.2950496995083218,
          -0.0002316334366230875,
          1.2896860527248302,
          1.1265104298484678,
          -0.0036286696037859285,
          -0.826340568102362,
          -1.018582405591517,
          -1.291063854400129,
          -0.19008683392694992,
          -0.763872927674939,
          2.0959738808836414,
          2.130647594088596,
          2.224539281704161,
          1.1940475375397548,
          -0.7876803121312159,
          0.969667697580649,
          0.9493233327045774,
          -0.044403311331418185,
          0.3895596700750885,
          -0.014452893562845948,
          -0.6968071801779312,
          0.1614108555208764,
          -0.12276024863235002,
          -0.8370581648026316,
          -0.24705922180806691,
          -0.10403134026483714,
          -1.4284743931846275,
          0.3535476401056677,
          -0.10544217505192499,
          1.6963828925675466,
          0.5915873562228502,
          0.9907707442218054,
          0.7428977212707456,
          -0.07200887621832967,
          0.00017457906821124856,
          0.013110631310684354,
          1.9240017540561096,
          -0.4264462466703405,
          0.16219704052654055,
          0.4697559969879681,
          1.0060845122288846,
          0.7676496704361507,
          -0.9161171095812846,
          -1.624314104246879,
          -0.9527835783780093,
          -0.17739704862730749,
          1.0650077734242744,
          0.43385923873565196,
          1.6979048817374556,
          -1.853810177762625,
          0.9776180877321272,
          -0.8272963834606755
         ]
        },
        {
         "line": {
          "color": "rgba(55, 128, 191, 1.0)",
          "dash": "solid",
          "shape": "linear",
          "width": 1.3
         },
         "mode": "lines",
         "name": "B",
         "text": "",
         "type": "scatter",
         "x": [
          0,
          1,
          2,
          3,
          4,
          5,
          6,
          7,
          8,
          9,
          10,
          11,
          12,
          13,
          14,
          15,
          16,
          17,
          18,
          19,
          20,
          21,
          22,
          23,
          24,
          25,
          26,
          27,
          28,
          29,
          30,
          31,
          32,
          33,
          34,
          35,
          36,
          37,
          38,
          39,
          40,
          41,
          42,
          43,
          44,
          45,
          46,
          47,
          48,
          49,
          50,
          51,
          52,
          53,
          54,
          55,
          56,
          57,
          58,
          59,
          60,
          61,
          62,
          63,
          64,
          65,
          66,
          67,
          68,
          69,
          70,
          71,
          72,
          73,
          74,
          75,
          76,
          77,
          78,
          79,
          80,
          81,
          82,
          83,
          84,
          85,
          86,
          87,
          88,
          89,
          90,
          91,
          92,
          93,
          94,
          95,
          96,
          97,
          98,
          99
         ],
         "y": [
          -0.9234838055280741,
          0.1837906133650663,
          0.9549006334057075,
          -0.8172743696437627,
          0.3174431081329297,
          0.21808918953745687,
          0.6815729465243698,
          -0.262815565993623,
          0.0013540987106652831,
          -0.27062784691556646,
          -0.8728212153054438,
          -0.6131662144165188,
          0.8217767277509427,
          -0.37803366564505864,
          -0.38120900740011365,
          0.615824227870488,
          -0.3479271621381179,
          -0.14022948149868633,
          0.4715134428149978,
          -1.3875270322229551,
          2.291695981953175,
          -0.4233067765902022,
          -0.4010460654069656,
          1.4953409235326716,
          0.055794820889501835,
          1.1085643506927436,
          -0.34084079925276806,
          -0.04448454401577478,
          -0.7068197188417409,
          -0.28196538329893095,
          0.35645508606988024,
          -1.9319911284139681,
          0.30676889430031434,
          1.0195069345873582,
          0.5815106975487212,
          0.6675437405444582,
          -1.451462224194573,
          1.7537992807886817,
          -0.5223131305426536,
          -2.0899011210520055,
          -1.1868763568302543,
          -1.654932061201535,
          -1.6874933947593838,
          -1.2156525913674665,
          1.6794846829271606,
          0.7092856518073,
          0.6629875673201554,
          -0.6411635757117996,
          -1.1881576800789335,
          -1.160918932012118,
          -0.014452385012939719,
          -0.8158088796870766,
          -1.112112811778674,
          -0.4134909737727676,
          0.7679354852691683,
          -0.5288693699646896,
          0.966238933639739,
          0.5428284262688382,
          -0.8993016610838763,
          1.9686623433577968,
          -1.1099790369124423,
          -0.7148053007009889,
          -0.05035305723891644,
          -0.2825442564032258,
          0.6220386837974622,
          -0.02607398992073639,
          -0.12904032210431582,
          -0.4462530044659881,
          1.0919323927621174,
          -0.2838491101268597,
          0.8898082348209791,
          -0.05344663510556132,
          0.6764322455699061,
          2.110521685528398,
          -0.9540742926640376,
          -0.0709709220358443,
          -0.05552091480298457,
          0.49519307651171957,
          -0.47214686334867095,
          -0.43038367094404784,
          -0.5262311656239208,
          0.41668007402483337,
          -0.46314704835682,
          1.1978416309836064,
          0.06945342626551727,
          0.2852068613579216,
          -0.9260930337101595,
          -1.299229452656461,
          -0.01752394800048146,
          1.333737866854547,
          -1.0027996183786698,
          1.3712373857073232,
          -1.3929633493161442,
          -2.003173109247321,
          -0.5638422495748624,
          -0.08713154635704083,
          0.7826639766427661,
          1.6599223202958147,
          1.8225331731889711,
          -0.3637271366130778
         ]
        },
        {
         "line": {
          "color": "rgba(50, 171, 96, 1.0)",
          "dash": "solid",
          "shape": "linear",
          "width": 1.3
         },
         "mode": "lines",
         "name": "C",
         "text": "",
         "type": "scatter",
         "x": [
          0,
          1,
          2,
          3,
          4,
          5,
          6,
          7,
          8,
          9,
          10,
          11,
          12,
          13,
          14,
          15,
          16,
          17,
          18,
          19,
          20,
          21,
          22,
          23,
          24,
          25,
          26,
          27,
          28,
          29,
          30,
          31,
          32,
          33,
          34,
          35,
          36,
          37,
          38,
          39,
          40,
          41,
          42,
          43,
          44,
          45,
          46,
          47,
          48,
          49,
          50,
          51,
          52,
          53,
          54,
          55,
          56,
          57,
          58,
          59,
          60,
          61,
          62,
          63,
          64,
          65,
          66,
          67,
          68,
          69,
          70,
          71,
          72,
          73,
          74,
          75,
          76,
          77,
          78,
          79,
          80,
          81,
          82,
          83,
          84,
          85,
          86,
          87,
          88,
          89,
          90,
          91,
          92,
          93,
          94,
          95,
          96,
          97,
          98,
          99
         ],
         "y": [
          0.2755716670365263,
          -1.4107567274282897,
          0.6541175742867782,
          1.9674690515547126,
          1.256596339268459,
          0.523856596662497,
          -0.8969265311525533,
          0.3244140138558535,
          -0.9950241003805131,
          0.010323270077411526,
          -0.4081624657415359,
          0.856972738882899,
          0.04068662059895318,
          -1.2944868481985685,
          -0.9619587879235344,
          -1.2789542109730379,
          -0.9026009083226586,
          -0.30943964771853477,
          1.4669276807914478,
          2.1886965346332614,
          -0.7853005063471961,
          -1.7956697006953894,
          -1.561114867168884,
          -0.14455531064454316,
          0.4097967940659489,
          0.027689805529984155,
          -0.8497038505348563,
          1.8046874328359785,
          0.7071894503644003,
          1.213741530303425,
          -1.0343725538212367,
          0.22659112518910376,
          -1.1486822151076266,
          0.9966989811826483,
          0.4142349713487508,
          1.0253873908752684,
          -0.6344711510801252,
          0.2736544613480108,
          0.10304790113170942,
          -0.03298524733362019,
          0.5935028001089265,
          0.4838846773154546,
          0.8732381580494233,
          1.4128524795674415,
          0.08490496568549535,
          0.050290802392600024,
          -0.46573622578532187,
          0.18929328771708429,
          0.022354739248472047,
          0.18032179012293742,
          -0.5383926430861103,
          0.6349278683681299,
          0.7460618503587655,
          0.6143492711346112,
          1.1800052422773377,
          -0.4317198762713371,
          -0.39825819636098175,
          0.020492888094452415,
          0.26054148974539326,
          0.35542164302954893,
          -0.09632068069538566,
          1.1880737687482943,
          0.7622480573510461,
          -0.12954313804362508,
          0.6448810312697735,
          0.14237852278024538,
          -1.254266568431477,
          -0.4390979624690971,
          -0.7899958009345055,
          -0.30993485012088473,
          0.6722028469700168,
          -0.7823208404463984,
          0.5862555713819035,
          1.2177004118684112,
          1.587168629736668,
          0.43377784098629774,
          0.2796177411902997,
          0.8470418963750924,
          0.3360985288016682,
          0.9208215794336971,
          0.002407301316962099,
          0.00458636300942406,
          0.9329535515195241,
          -0.7517379185041624,
          1.1400847378001369,
          -1.9844115112198117,
          1.268566939128557,
          -0.0334254762745057,
          -1.6953738158116232,
          -0.8040408315832263,
          0.016360777148160116,
          0.41731413370847836,
          -0.38523140506373255,
          1.2970812498450508,
          -2.236660366102504,
          -0.5882604503630262,
          -0.2731599067897886,
          -0.29682518018130133,
          0.6461631547594263,
          0.60302821358222
         ]
        },
        {
         "line": {
          "color": "rgba(128, 0, 128, 1.0)",
          "dash": "solid",
          "shape": "linear",
          "width": 1.3
         },
         "mode": "lines",
         "name": "D",
         "text": "",
         "type": "scatter",
         "x": [
          0,
          1,
          2,
          3,
          4,
          5,
          6,
          7,
          8,
          9,
          10,
          11,
          12,
          13,
          14,
          15,
          16,
          17,
          18,
          19,
          20,
          21,
          22,
          23,
          24,
          25,
          26,
          27,
          28,
          29,
          30,
          31,
          32,
          33,
          34,
          35,
          36,
          37,
          38,
          39,
          40,
          41,
          42,
          43,
          44,
          45,
          46,
          47,
          48,
          49,
          50,
          51,
          52,
          53,
          54,
          55,
          56,
          57,
          58,
          59,
          60,
          61,
          62,
          63,
          64,
          65,
          66,
          67,
          68,
          69,
          70,
          71,
          72,
          73,
          74,
          75,
          76,
          77,
          78,
          79,
          80,
          81,
          82,
          83,
          84,
          85,
          86,
          87,
          88,
          89,
          90,
          91,
          92,
          93,
          94,
          95,
          96,
          97,
          98,
          99
         ],
         "y": [
          0.3643930281255974,
          0.15026292366620095,
          1.2187222278603946,
          -0.8659906012809404,
          0.6004784913268533,
          -1.0589820545230748,
          -1.5683314423426904,
          -1.6539365309773515,
          0.12136885230734451,
          1.769195740544522,
          -0.34786923195499164,
          -0.5611026339790515,
          1.884395043792925,
          0.10554293170215406,
          -0.6971983382812603,
          0.7833018925568376,
          -2.300638357051978,
          -1.3172806218596724,
          -0.04373228510009631,
          -1.2671251518663433,
          1.3682141073747136,
          0.1758901613320038,
          0.4131184697361528,
          -0.13307235755723854,
          -0.09343541524988579,
          -0.23793992896567595,
          0.37511476141478445,
          1.5348806704194566,
          -0.9690143836986986,
          -0.4361298995213377,
          0.11884415029697731,
          0.7053708211848962,
          -1.170756619547385,
          0.12391062586154639,
          -1.775733651033394,
          -1.7025147144806678,
          0.24120216357934682,
          -0.05909560823662816,
          0.6990921904976213,
          -1.2551961134773182,
          -0.190020144313903,
          -1.2001001024950408,
          0.6274370541851635,
          0.5015803990467228,
          1.7377383170505403,
          0.7669569890905374,
          -0.591194403818167,
          -1.184929573922818,
          -0.09713963731436984,
          2.2273843627971575,
          -1.2140642939832837,
          -0.726190654922945,
          0.21963148157113957,
          -0.2669805745888528,
          -0.767942069013212,
          -0.1521855580871152,
          -0.3904159798584094,
          1.2739452686099946,
          0.36218314088967013,
          0.11030818464201156,
          1.9268791207613563,
          0.5487869697256245,
          -0.9762768663466627,
          1.3932777236238698,
          0.7258730775669255,
          -1.94063820760366,
          -0.5616258682969569,
          -1.045963556303688,
          -0.046928354294379034,
          -0.6985230840516604,
          -0.09137824514435089,
          0.11975928366817555,
          0.5719600766112413,
          -0.5602018420934456,
          -1.3733210357679502,
          0.930729614688202,
          -1.2865839708266649,
          0.24263820697068555,
          -0.6503235979872184,
          0.9780605553222481,
          0.2058777005882192,
          -0.08601947943729862,
          0.4341754032068352,
          -0.836596194783516,
          -0.5578839609069209,
          -0.5134003010550453,
          0.2902632694148725,
          -2.69040970394117,
          0.9976251276467392,
          1.5258496506679962,
          -0.09914102682089235,
          -1.2196458165465838,
          1.8644668321972602,
          1.0079481290352872,
          -0.4500239322508063,
          0.8962399016639363,
          -0.37922022639110614,
          0.2181399664309546,
          -0.12843420402850228,
          2.1360706839894226
         ]
        }
       ],
       "layout": {
        "legend": {
         "bgcolor": "#F5F6F9",
         "font": {
          "color": "#4D5663"
         }
        },
        "paper_bgcolor": "#F5F6F9",
        "plot_bgcolor": "#F5F6F9",
        "template": {
         "data": {
          "bar": [
           {
            "error_x": {
             "color": "#2a3f5f"
            },
            "error_y": {
             "color": "#2a3f5f"
            },
            "marker": {
             "line": {
              "color": "#E5ECF6",
              "width": 0.5
             }
            },
            "type": "bar"
           }
          ],
          "barpolar": [
           {
            "marker": {
             "line": {
              "color": "#E5ECF6",
              "width": 0.5
             }
            },
            "type": "barpolar"
           }
          ],
          "carpet": [
           {
            "aaxis": {
             "endlinecolor": "#2a3f5f",
             "gridcolor": "white",
             "linecolor": "white",
             "minorgridcolor": "white",
             "startlinecolor": "#2a3f5f"
            },
            "baxis": {
             "endlinecolor": "#2a3f5f",
             "gridcolor": "white",
             "linecolor": "white",
             "minorgridcolor": "white",
             "startlinecolor": "#2a3f5f"
            },
            "type": "carpet"
           }
          ],
          "choropleth": [
           {
            "colorbar": {
             "outlinewidth": 0,
             "ticks": ""
            },
            "type": "choropleth"
           }
          ],
          "contour": [
           {
            "colorbar": {
             "outlinewidth": 0,
             "ticks": ""
            },
            "colorscale": [
             [
              0,
              "#0d0887"
             ],
             [
              0.1111111111111111,
              "#46039f"
             ],
             [
              0.2222222222222222,
              "#7201a8"
             ],
             [
              0.3333333333333333,
              "#9c179e"
             ],
             [
              0.4444444444444444,
              "#bd3786"
             ],
             [
              0.5555555555555556,
              "#d8576b"
             ],
             [
              0.6666666666666666,
              "#ed7953"
             ],
             [
              0.7777777777777778,
              "#fb9f3a"
             ],
             [
              0.8888888888888888,
              "#fdca26"
             ],
             [
              1,
              "#f0f921"
             ]
            ],
            "type": "contour"
           }
          ],
          "contourcarpet": [
           {
            "colorbar": {
             "outlinewidth": 0,
             "ticks": ""
            },
            "type": "contourcarpet"
           }
          ],
          "heatmap": [
           {
            "colorbar": {
             "outlinewidth": 0,
             "ticks": ""
            },
            "colorscale": [
             [
              0,
              "#0d0887"
             ],
             [
              0.1111111111111111,
              "#46039f"
             ],
             [
              0.2222222222222222,
              "#7201a8"
             ],
             [
              0.3333333333333333,
              "#9c179e"
             ],
             [
              0.4444444444444444,
              "#bd3786"
             ],
             [
              0.5555555555555556,
              "#d8576b"
             ],
             [
              0.6666666666666666,
              "#ed7953"
             ],
             [
              0.7777777777777778,
              "#fb9f3a"
             ],
             [
              0.8888888888888888,
              "#fdca26"
             ],
             [
              1,
              "#f0f921"
             ]
            ],
            "type": "heatmap"
           }
          ],
          "heatmapgl": [
           {
            "colorbar": {
             "outlinewidth": 0,
             "ticks": ""
            },
            "colorscale": [
             [
              0,
              "#0d0887"
             ],
             [
              0.1111111111111111,
              "#46039f"
             ],
             [
              0.2222222222222222,
              "#7201a8"
             ],
             [
              0.3333333333333333,
              "#9c179e"
             ],
             [
              0.4444444444444444,
              "#bd3786"
             ],
             [
              0.5555555555555556,
              "#d8576b"
             ],
             [
              0.6666666666666666,
              "#ed7953"
             ],
             [
              0.7777777777777778,
              "#fb9f3a"
             ],
             [
              0.8888888888888888,
              "#fdca26"
             ],
             [
              1,
              "#f0f921"
             ]
            ],
            "type": "heatmapgl"
           }
          ],
          "histogram": [
           {
            "marker": {
             "colorbar": {
              "outlinewidth": 0,
              "ticks": ""
             }
            },
            "type": "histogram"
           }
          ],
          "histogram2d": [
           {
            "colorbar": {
             "outlinewidth": 0,
             "ticks": ""
            },
            "colorscale": [
             [
              0,
              "#0d0887"
             ],
             [
              0.1111111111111111,
              "#46039f"
             ],
             [
              0.2222222222222222,
              "#7201a8"
             ],
             [
              0.3333333333333333,
              "#9c179e"
             ],
             [
              0.4444444444444444,
              "#bd3786"
             ],
             [
              0.5555555555555556,
              "#d8576b"
             ],
             [
              0.6666666666666666,
              "#ed7953"
             ],
             [
              0.7777777777777778,
              "#fb9f3a"
             ],
             [
              0.8888888888888888,
              "#fdca26"
             ],
             [
              1,
              "#f0f921"
             ]
            ],
            "type": "histogram2d"
           }
          ],
          "histogram2dcontour": [
           {
            "colorbar": {
             "outlinewidth": 0,
             "ticks": ""
            },
            "colorscale": [
             [
              0,
              "#0d0887"
             ],
             [
              0.1111111111111111,
              "#46039f"
             ],
             [
              0.2222222222222222,
              "#7201a8"
             ],
             [
              0.3333333333333333,
              "#9c179e"
             ],
             [
              0.4444444444444444,
              "#bd3786"
             ],
             [
              0.5555555555555556,
              "#d8576b"
             ],
             [
              0.6666666666666666,
              "#ed7953"
             ],
             [
              0.7777777777777778,
              "#fb9f3a"
             ],
             [
              0.8888888888888888,
              "#fdca26"
             ],
             [
              1,
              "#f0f921"
             ]
            ],
            "type": "histogram2dcontour"
           }
          ],
          "mesh3d": [
           {
            "colorbar": {
             "outlinewidth": 0,
             "ticks": ""
            },
            "type": "mesh3d"
           }
          ],
          "parcoords": [
           {
            "line": {
             "colorbar": {
              "outlinewidth": 0,
              "ticks": ""
             }
            },
            "type": "parcoords"
           }
          ],
          "pie": [
           {
            "automargin": true,
            "type": "pie"
           }
          ],
          "scatter": [
           {
            "marker": {
             "colorbar": {
              "outlinewidth": 0,
              "ticks": ""
             }
            },
            "type": "scatter"
           }
          ],
          "scatter3d": [
           {
            "line": {
             "colorbar": {
              "outlinewidth": 0,
              "ticks": ""
             }
            },
            "marker": {
             "colorbar": {
              "outlinewidth": 0,
              "ticks": ""
             }
            },
            "type": "scatter3d"
           }
          ],
          "scattercarpet": [
           {
            "marker": {
             "colorbar": {
              "outlinewidth": 0,
              "ticks": ""
             }
            },
            "type": "scattercarpet"
           }
          ],
          "scattergeo": [
           {
            "marker": {
             "colorbar": {
              "outlinewidth": 0,
              "ticks": ""
             }
            },
            "type": "scattergeo"
           }
          ],
          "scattergl": [
           {
            "marker": {
             "colorbar": {
              "outlinewidth": 0,
              "ticks": ""
             }
            },
            "type": "scattergl"
           }
          ],
          "scattermapbox": [
           {
            "marker": {
             "colorbar": {
              "outlinewidth": 0,
              "ticks": ""
             }
            },
            "type": "scattermapbox"
           }
          ],
          "scatterpolar": [
           {
            "marker": {
             "colorbar": {
              "outlinewidth": 0,
              "ticks": ""
             }
            },
            "type": "scatterpolar"
           }
          ],
          "scatterpolargl": [
           {
            "marker": {
             "colorbar": {
              "outlinewidth": 0,
              "ticks": ""
             }
            },
            "type": "scatterpolargl"
           }
          ],
          "scatterternary": [
           {
            "marker": {
             "colorbar": {
              "outlinewidth": 0,
              "ticks": ""
             }
            },
            "type": "scatterternary"
           }
          ],
          "surface": [
           {
            "colorbar": {
             "outlinewidth": 0,
             "ticks": ""
            },
            "colorscale": [
             [
              0,
              "#0d0887"
             ],
             [
              0.1111111111111111,
              "#46039f"
             ],
             [
              0.2222222222222222,
              "#7201a8"
             ],
             [
              0.3333333333333333,
              "#9c179e"
             ],
             [
              0.4444444444444444,
              "#bd3786"
             ],
             [
              0.5555555555555556,
              "#d8576b"
             ],
             [
              0.6666666666666666,
              "#ed7953"
             ],
             [
              0.7777777777777778,
              "#fb9f3a"
             ],
             [
              0.8888888888888888,
              "#fdca26"
             ],
             [
              1,
              "#f0f921"
             ]
            ],
            "type": "surface"
           }
          ],
          "table": [
           {
            "cells": {
             "fill": {
              "color": "#EBF0F8"
             },
             "line": {
              "color": "white"
             }
            },
            "header": {
             "fill": {
              "color": "#C8D4E3"
             },
             "line": {
              "color": "white"
             }
            },
            "type": "table"
           }
          ]
         },
         "layout": {
          "annotationdefaults": {
           "arrowcolor": "#2a3f5f",
           "arrowhead": 0,
           "arrowwidth": 1
          },
          "coloraxis": {
           "colorbar": {
            "outlinewidth": 0,
            "ticks": ""
           }
          },
          "colorscale": {
           "diverging": [
            [
             0,
             "#8e0152"
            ],
            [
             0.1,
             "#c51b7d"
            ],
            [
             0.2,
             "#de77ae"
            ],
            [
             0.3,
             "#f1b6da"
            ],
            [
             0.4,
             "#fde0ef"
            ],
            [
             0.5,
             "#f7f7f7"
            ],
            [
             0.6,
             "#e6f5d0"
            ],
            [
             0.7,
             "#b8e186"
            ],
            [
             0.8,
             "#7fbc41"
            ],
            [
             0.9,
             "#4d9221"
            ],
            [
             1,
             "#276419"
            ]
           ],
           "sequential": [
            [
             0,
             "#0d0887"
            ],
            [
             0.1111111111111111,
             "#46039f"
            ],
            [
             0.2222222222222222,
             "#7201a8"
            ],
            [
             0.3333333333333333,
             "#9c179e"
            ],
            [
             0.4444444444444444,
             "#bd3786"
            ],
            [
             0.5555555555555556,
             "#d8576b"
            ],
            [
             0.6666666666666666,
             "#ed7953"
            ],
            [
             0.7777777777777778,
             "#fb9f3a"
            ],
            [
             0.8888888888888888,
             "#fdca26"
            ],
            [
             1,
             "#f0f921"
            ]
           ],
           "sequentialminus": [
            [
             0,
             "#0d0887"
            ],
            [
             0.1111111111111111,
             "#46039f"
            ],
            [
             0.2222222222222222,
             "#7201a8"
            ],
            [
             0.3333333333333333,
             "#9c179e"
            ],
            [
             0.4444444444444444,
             "#bd3786"
            ],
            [
             0.5555555555555556,
             "#d8576b"
            ],
            [
             0.6666666666666666,
             "#ed7953"
            ],
            [
             0.7777777777777778,
             "#fb9f3a"
            ],
            [
             0.8888888888888888,
             "#fdca26"
            ],
            [
             1,
             "#f0f921"
            ]
           ]
          },
          "colorway": [
           "#636efa",
           "#EF553B",
           "#00cc96",
           "#ab63fa",
           "#FFA15A",
           "#19d3f3",
           "#FF6692",
           "#B6E880",
           "#FF97FF",
           "#FECB52"
          ],
          "font": {
           "color": "#2a3f5f"
          },
          "geo": {
           "bgcolor": "white",
           "lakecolor": "white",
           "landcolor": "#E5ECF6",
           "showlakes": true,
           "showland": true,
           "subunitcolor": "white"
          },
          "hoverlabel": {
           "align": "left"
          },
          "hovermode": "closest",
          "mapbox": {
           "style": "light"
          },
          "paper_bgcolor": "white",
          "plot_bgcolor": "#E5ECF6",
          "polar": {
           "angularaxis": {
            "gridcolor": "white",
            "linecolor": "white",
            "ticks": ""
           },
           "bgcolor": "#E5ECF6",
           "radialaxis": {
            "gridcolor": "white",
            "linecolor": "white",
            "ticks": ""
           }
          },
          "scene": {
           "xaxis": {
            "backgroundcolor": "#E5ECF6",
            "gridcolor": "white",
            "gridwidth": 2,
            "linecolor": "white",
            "showbackground": true,
            "ticks": "",
            "zerolinecolor": "white"
           },
           "yaxis": {
            "backgroundcolor": "#E5ECF6",
            "gridcolor": "white",
            "gridwidth": 2,
            "linecolor": "white",
            "showbackground": true,
            "ticks": "",
            "zerolinecolor": "white"
           },
           "zaxis": {
            "backgroundcolor": "#E5ECF6",
            "gridcolor": "white",
            "gridwidth": 2,
            "linecolor": "white",
            "showbackground": true,
            "ticks": "",
            "zerolinecolor": "white"
           }
          },
          "shapedefaults": {
           "line": {
            "color": "#2a3f5f"
           }
          },
          "ternary": {
           "aaxis": {
            "gridcolor": "white",
            "linecolor": "white",
            "ticks": ""
           },
           "baxis": {
            "gridcolor": "white",
            "linecolor": "white",
            "ticks": ""
           },
           "bgcolor": "#E5ECF6",
           "caxis": {
            "gridcolor": "white",
            "linecolor": "white",
            "ticks": ""
           }
          },
          "title": {
           "x": 0.05
          },
          "xaxis": {
           "automargin": true,
           "gridcolor": "white",
           "linecolor": "white",
           "ticks": "",
           "title": {
            "standoff": 15
           },
           "zerolinecolor": "white",
           "zerolinewidth": 2
          },
          "yaxis": {
           "automargin": true,
           "gridcolor": "white",
           "linecolor": "white",
           "ticks": "",
           "title": {
            "standoff": 15
           },
           "zerolinecolor": "white",
           "zerolinewidth": 2
          }
         }
        },
        "title": {
         "font": {
          "color": "#4D5663"
         }
        },
        "xaxis": {
         "gridcolor": "#E1E5ED",
         "showgrid": true,
         "tickfont": {
          "color": "#4D5663"
         },
         "title": {
          "font": {
           "color": "#4D5663"
          },
          "text": ""
         },
         "zerolinecolor": "#E1E5ED"
        },
        "yaxis": {
         "gridcolor": "#E1E5ED",
         "showgrid": true,
         "tickfont": {
          "color": "#4D5663"
         },
         "title": {
          "font": {
           "color": "#4D5663"
          },
          "text": ""
         },
         "zerolinecolor": "#E1E5ED"
        }
       }
      },
      "text/html": [
       "<div>\n",
       "        \n",
       "        \n",
       "            <div id=\"12ef58eb-7553-4ef0-9c8b-f7a17f751cd3\" class=\"plotly-graph-div\" style=\"height:525px; width:100%;\"></div>\n",
       "            <script type=\"text/javascript\">\n",
       "                require([\"plotly\"], function(Plotly) {\n",
       "                    window.PLOTLYENV=window.PLOTLYENV || {};\n",
       "                    window.PLOTLYENV.BASE_URL='https://plot.ly';\n",
       "                    \n",
       "                if (document.getElementById(\"12ef58eb-7553-4ef0-9c8b-f7a17f751cd3\")) {\n",
       "                    Plotly.newPlot(\n",
       "                        '12ef58eb-7553-4ef0-9c8b-f7a17f751cd3',\n",
       "                        [{\"line\": {\"color\": \"rgba(255, 153, 51, 1.0)\", \"dash\": \"solid\", \"shape\": \"linear\", \"width\": 1.3}, \"mode\": \"lines\", \"name\": \"A\", \"text\": \"\", \"type\": \"scatter\", \"x\": [0, 1, 2, 3, 4, 5, 6, 7, 8, 9, 10, 11, 12, 13, 14, 15, 16, 17, 18, 19, 20, 21, 22, 23, 24, 25, 26, 27, 28, 29, 30, 31, 32, 33, 34, 35, 36, 37, 38, 39, 40, 41, 42, 43, 44, 45, 46, 47, 48, 49, 50, 51, 52, 53, 54, 55, 56, 57, 58, 59, 60, 61, 62, 63, 64, 65, 66, 67, 68, 69, 70, 71, 72, 73, 74, 75, 76, 77, 78, 79, 80, 81, 82, 83, 84, 85, 86, 87, 88, 89, 90, 91, 92, 93, 94, 95, 96, 97, 98, 99], \"y\": [-2.2330045307590853, -0.9521908995974245, 0.27846606978193117, -0.7497430396641565, -0.8956342510414951, -0.2701922755157396, 0.13378854729598888, -0.10139493386630462, 2.4089945148153924, 2.2798960353709634, 1.536776871530047, -0.4738067773638204, 0.3895763004483561, -0.44813497414482384, -0.04272139930867001, 1.8607472786609707, -0.6439882932495113, 1.2582962916443727, -1.204805217634797, -0.1429158275301282, 1.1677493616360861, -2.6530884634429985, -0.9403827018208064, 0.1496396817935744, 0.04470276113270573, -0.7319557334866961, 0.5233737734533389, -0.4409303064263165, -0.5833238720623664, 0.25649916497690095, -0.30081158546772635, 0.07975881141571715, -2.090321583607134, -0.8712175959679449, -0.6931394651239492, -0.8218402617535678, 1.4418250131499333, 0.3751607269805806, 1.2314240010401805, 0.4199928878005679, -0.1554548985369435, 1.8868088114432202, -0.694422411044866, 1.1436083825779144, 0.7624519963607965, -0.2482247596359065, 1.4414688130029367, 0.22035610962969224, 0.2950496995083218, -0.0002316334366230875, 1.2896860527248302, 1.1265104298484678, -0.0036286696037859285, -0.826340568102362, -1.018582405591517, -1.291063854400129, -0.19008683392694992, -0.763872927674939, 2.0959738808836414, 2.130647594088596, 2.224539281704161, 1.1940475375397548, -0.7876803121312159, 0.969667697580649, 0.9493233327045774, -0.044403311331418185, 0.3895596700750885, -0.014452893562845948, -0.6968071801779312, 0.1614108555208764, -0.12276024863235002, -0.8370581648026316, -0.24705922180806691, -0.10403134026483714, -1.4284743931846275, 0.3535476401056677, -0.10544217505192499, 1.6963828925675466, 0.5915873562228502, 0.9907707442218054, 0.7428977212707456, -0.07200887621832967, 0.00017457906821124856, 0.013110631310684354, 1.9240017540561096, -0.4264462466703405, 0.16219704052654055, 0.4697559969879681, 1.0060845122288846, 0.7676496704361507, -0.9161171095812846, -1.624314104246879, -0.9527835783780093, -0.17739704862730749, 1.0650077734242744, 0.43385923873565196, 1.6979048817374556, -1.853810177762625, 0.9776180877321272, -0.8272963834606755]}, {\"line\": {\"color\": \"rgba(55, 128, 191, 1.0)\", \"dash\": \"solid\", \"shape\": \"linear\", \"width\": 1.3}, \"mode\": \"lines\", \"name\": \"B\", \"text\": \"\", \"type\": \"scatter\", \"x\": [0, 1, 2, 3, 4, 5, 6, 7, 8, 9, 10, 11, 12, 13, 14, 15, 16, 17, 18, 19, 20, 21, 22, 23, 24, 25, 26, 27, 28, 29, 30, 31, 32, 33, 34, 35, 36, 37, 38, 39, 40, 41, 42, 43, 44, 45, 46, 47, 48, 49, 50, 51, 52, 53, 54, 55, 56, 57, 58, 59, 60, 61, 62, 63, 64, 65, 66, 67, 68, 69, 70, 71, 72, 73, 74, 75, 76, 77, 78, 79, 80, 81, 82, 83, 84, 85, 86, 87, 88, 89, 90, 91, 92, 93, 94, 95, 96, 97, 98, 99], \"y\": [-0.9234838055280741, 0.1837906133650663, 0.9549006334057075, -0.8172743696437627, 0.3174431081329297, 0.21808918953745687, 0.6815729465243698, -0.262815565993623, 0.0013540987106652831, -0.27062784691556646, -0.8728212153054438, -0.6131662144165188, 0.8217767277509427, -0.37803366564505864, -0.38120900740011365, 0.615824227870488, -0.3479271621381179, -0.14022948149868633, 0.4715134428149978, -1.3875270322229551, 2.291695981953175, -0.4233067765902022, -0.4010460654069656, 1.4953409235326716, 0.055794820889501835, 1.1085643506927436, -0.34084079925276806, -0.04448454401577478, -0.7068197188417409, -0.28196538329893095, 0.35645508606988024, -1.9319911284139681, 0.30676889430031434, 1.0195069345873582, 0.5815106975487212, 0.6675437405444582, -1.451462224194573, 1.7537992807886817, -0.5223131305426536, -2.0899011210520055, -1.1868763568302543, -1.654932061201535, -1.6874933947593838, -1.2156525913674665, 1.6794846829271606, 0.7092856518073, 0.6629875673201554, -0.6411635757117996, -1.1881576800789335, -1.160918932012118, -0.014452385012939719, -0.8158088796870766, -1.112112811778674, -0.4134909737727676, 0.7679354852691683, -0.5288693699646896, 0.966238933639739, 0.5428284262688382, -0.8993016610838763, 1.9686623433577968, -1.1099790369124423, -0.7148053007009889, -0.05035305723891644, -0.2825442564032258, 0.6220386837974622, -0.02607398992073639, -0.12904032210431582, -0.4462530044659881, 1.0919323927621174, -0.2838491101268597, 0.8898082348209791, -0.05344663510556132, 0.6764322455699061, 2.110521685528398, -0.9540742926640376, -0.0709709220358443, -0.05552091480298457, 0.49519307651171957, -0.47214686334867095, -0.43038367094404784, -0.5262311656239208, 0.41668007402483337, -0.46314704835682, 1.1978416309836064, 0.06945342626551727, 0.2852068613579216, -0.9260930337101595, -1.299229452656461, -0.01752394800048146, 1.333737866854547, -1.0027996183786698, 1.3712373857073232, -1.3929633493161442, -2.003173109247321, -0.5638422495748624, -0.08713154635704083, 0.7826639766427661, 1.6599223202958147, 1.8225331731889711, -0.3637271366130778]}, {\"line\": {\"color\": \"rgba(50, 171, 96, 1.0)\", \"dash\": \"solid\", \"shape\": \"linear\", \"width\": 1.3}, \"mode\": \"lines\", \"name\": \"C\", \"text\": \"\", \"type\": \"scatter\", \"x\": [0, 1, 2, 3, 4, 5, 6, 7, 8, 9, 10, 11, 12, 13, 14, 15, 16, 17, 18, 19, 20, 21, 22, 23, 24, 25, 26, 27, 28, 29, 30, 31, 32, 33, 34, 35, 36, 37, 38, 39, 40, 41, 42, 43, 44, 45, 46, 47, 48, 49, 50, 51, 52, 53, 54, 55, 56, 57, 58, 59, 60, 61, 62, 63, 64, 65, 66, 67, 68, 69, 70, 71, 72, 73, 74, 75, 76, 77, 78, 79, 80, 81, 82, 83, 84, 85, 86, 87, 88, 89, 90, 91, 92, 93, 94, 95, 96, 97, 98, 99], \"y\": [0.2755716670365263, -1.4107567274282897, 0.6541175742867782, 1.9674690515547126, 1.256596339268459, 0.523856596662497, -0.8969265311525533, 0.3244140138558535, -0.9950241003805131, 0.010323270077411526, -0.4081624657415359, 0.856972738882899, 0.04068662059895318, -1.2944868481985685, -0.9619587879235344, -1.2789542109730379, -0.9026009083226586, -0.30943964771853477, 1.4669276807914478, 2.1886965346332614, -0.7853005063471961, -1.7956697006953894, -1.561114867168884, -0.14455531064454316, 0.4097967940659489, 0.027689805529984155, -0.8497038505348563, 1.8046874328359785, 0.7071894503644003, 1.213741530303425, -1.0343725538212367, 0.22659112518910376, -1.1486822151076266, 0.9966989811826483, 0.4142349713487508, 1.0253873908752684, -0.6344711510801252, 0.2736544613480108, 0.10304790113170942, -0.03298524733362019, 0.5935028001089265, 0.4838846773154546, 0.8732381580494233, 1.4128524795674415, 0.08490496568549535, 0.050290802392600024, -0.46573622578532187, 0.18929328771708429, 0.022354739248472047, 0.18032179012293742, -0.5383926430861103, 0.6349278683681299, 0.7460618503587655, 0.6143492711346112, 1.1800052422773377, -0.4317198762713371, -0.39825819636098175, 0.020492888094452415, 0.26054148974539326, 0.35542164302954893, -0.09632068069538566, 1.1880737687482943, 0.7622480573510461, -0.12954313804362508, 0.6448810312697735, 0.14237852278024538, -1.254266568431477, -0.4390979624690971, -0.7899958009345055, -0.30993485012088473, 0.6722028469700168, -0.7823208404463984, 0.5862555713819035, 1.2177004118684112, 1.587168629736668, 0.43377784098629774, 0.2796177411902997, 0.8470418963750924, 0.3360985288016682, 0.9208215794336971, 0.002407301316962099, 0.00458636300942406, 0.9329535515195241, -0.7517379185041624, 1.1400847378001369, -1.9844115112198117, 1.268566939128557, -0.0334254762745057, -1.6953738158116232, -0.8040408315832263, 0.016360777148160116, 0.41731413370847836, -0.38523140506373255, 1.2970812498450508, -2.236660366102504, -0.5882604503630262, -0.2731599067897886, -0.29682518018130133, 0.6461631547594263, 0.60302821358222]}, {\"line\": {\"color\": \"rgba(128, 0, 128, 1.0)\", \"dash\": \"solid\", \"shape\": \"linear\", \"width\": 1.3}, \"mode\": \"lines\", \"name\": \"D\", \"text\": \"\", \"type\": \"scatter\", \"x\": [0, 1, 2, 3, 4, 5, 6, 7, 8, 9, 10, 11, 12, 13, 14, 15, 16, 17, 18, 19, 20, 21, 22, 23, 24, 25, 26, 27, 28, 29, 30, 31, 32, 33, 34, 35, 36, 37, 38, 39, 40, 41, 42, 43, 44, 45, 46, 47, 48, 49, 50, 51, 52, 53, 54, 55, 56, 57, 58, 59, 60, 61, 62, 63, 64, 65, 66, 67, 68, 69, 70, 71, 72, 73, 74, 75, 76, 77, 78, 79, 80, 81, 82, 83, 84, 85, 86, 87, 88, 89, 90, 91, 92, 93, 94, 95, 96, 97, 98, 99], \"y\": [0.3643930281255974, 0.15026292366620095, 1.2187222278603946, -0.8659906012809404, 0.6004784913268533, -1.0589820545230748, -1.5683314423426904, -1.6539365309773515, 0.12136885230734451, 1.769195740544522, -0.34786923195499164, -0.5611026339790515, 1.884395043792925, 0.10554293170215406, -0.6971983382812603, 0.7833018925568376, -2.300638357051978, -1.3172806218596724, -0.04373228510009631, -1.2671251518663433, 1.3682141073747136, 0.1758901613320038, 0.4131184697361528, -0.13307235755723854, -0.09343541524988579, -0.23793992896567595, 0.37511476141478445, 1.5348806704194566, -0.9690143836986986, -0.4361298995213377, 0.11884415029697731, 0.7053708211848962, -1.170756619547385, 0.12391062586154639, -1.775733651033394, -1.7025147144806678, 0.24120216357934682, -0.05909560823662816, 0.6990921904976213, -1.2551961134773182, -0.190020144313903, -1.2001001024950408, 0.6274370541851635, 0.5015803990467228, 1.7377383170505403, 0.7669569890905374, -0.591194403818167, -1.184929573922818, -0.09713963731436984, 2.2273843627971575, -1.2140642939832837, -0.726190654922945, 0.21963148157113957, -0.2669805745888528, -0.767942069013212, -0.1521855580871152, -0.3904159798584094, 1.2739452686099946, 0.36218314088967013, 0.11030818464201156, 1.9268791207613563, 0.5487869697256245, -0.9762768663466627, 1.3932777236238698, 0.7258730775669255, -1.94063820760366, -0.5616258682969569, -1.045963556303688, -0.046928354294379034, -0.6985230840516604, -0.09137824514435089, 0.11975928366817555, 0.5719600766112413, -0.5602018420934456, -1.3733210357679502, 0.930729614688202, -1.2865839708266649, 0.24263820697068555, -0.6503235979872184, 0.9780605553222481, 0.2058777005882192, -0.08601947943729862, 0.4341754032068352, -0.836596194783516, -0.5578839609069209, -0.5134003010550453, 0.2902632694148725, -2.69040970394117, 0.9976251276467392, 1.5258496506679962, -0.09914102682089235, -1.2196458165465838, 1.8644668321972602, 1.0079481290352872, -0.4500239322508063, 0.8962399016639363, -0.37922022639110614, 0.2181399664309546, -0.12843420402850228, 2.1360706839894226]}],\n",
       "                        {\"legend\": {\"bgcolor\": \"#F5F6F9\", \"font\": {\"color\": \"#4D5663\"}}, \"paper_bgcolor\": \"#F5F6F9\", \"plot_bgcolor\": \"#F5F6F9\", \"template\": {\"data\": {\"bar\": [{\"error_x\": {\"color\": \"#2a3f5f\"}, \"error_y\": {\"color\": \"#2a3f5f\"}, \"marker\": {\"line\": {\"color\": \"#E5ECF6\", \"width\": 0.5}}, \"type\": \"bar\"}], \"barpolar\": [{\"marker\": {\"line\": {\"color\": \"#E5ECF6\", \"width\": 0.5}}, \"type\": \"barpolar\"}], \"carpet\": [{\"aaxis\": {\"endlinecolor\": \"#2a3f5f\", \"gridcolor\": \"white\", \"linecolor\": \"white\", \"minorgridcolor\": \"white\", \"startlinecolor\": \"#2a3f5f\"}, \"baxis\": {\"endlinecolor\": \"#2a3f5f\", \"gridcolor\": \"white\", \"linecolor\": \"white\", \"minorgridcolor\": \"white\", \"startlinecolor\": \"#2a3f5f\"}, \"type\": \"carpet\"}], \"choropleth\": [{\"colorbar\": {\"outlinewidth\": 0, \"ticks\": \"\"}, \"type\": \"choropleth\"}], \"contour\": [{\"colorbar\": {\"outlinewidth\": 0, \"ticks\": \"\"}, \"colorscale\": [[0.0, \"#0d0887\"], [0.1111111111111111, \"#46039f\"], [0.2222222222222222, \"#7201a8\"], [0.3333333333333333, \"#9c179e\"], [0.4444444444444444, \"#bd3786\"], [0.5555555555555556, \"#d8576b\"], [0.6666666666666666, \"#ed7953\"], [0.7777777777777778, \"#fb9f3a\"], [0.8888888888888888, \"#fdca26\"], [1.0, \"#f0f921\"]], \"type\": \"contour\"}], \"contourcarpet\": [{\"colorbar\": {\"outlinewidth\": 0, \"ticks\": \"\"}, \"type\": \"contourcarpet\"}], \"heatmap\": [{\"colorbar\": {\"outlinewidth\": 0, \"ticks\": \"\"}, \"colorscale\": [[0.0, \"#0d0887\"], [0.1111111111111111, \"#46039f\"], [0.2222222222222222, \"#7201a8\"], [0.3333333333333333, \"#9c179e\"], [0.4444444444444444, \"#bd3786\"], [0.5555555555555556, \"#d8576b\"], [0.6666666666666666, \"#ed7953\"], [0.7777777777777778, \"#fb9f3a\"], [0.8888888888888888, \"#fdca26\"], [1.0, \"#f0f921\"]], \"type\": \"heatmap\"}], \"heatmapgl\": [{\"colorbar\": {\"outlinewidth\": 0, \"ticks\": \"\"}, \"colorscale\": [[0.0, \"#0d0887\"], [0.1111111111111111, \"#46039f\"], [0.2222222222222222, \"#7201a8\"], [0.3333333333333333, \"#9c179e\"], [0.4444444444444444, \"#bd3786\"], [0.5555555555555556, \"#d8576b\"], [0.6666666666666666, \"#ed7953\"], [0.7777777777777778, \"#fb9f3a\"], [0.8888888888888888, \"#fdca26\"], [1.0, \"#f0f921\"]], \"type\": \"heatmapgl\"}], \"histogram\": [{\"marker\": {\"colorbar\": {\"outlinewidth\": 0, \"ticks\": \"\"}}, \"type\": \"histogram\"}], \"histogram2d\": [{\"colorbar\": {\"outlinewidth\": 0, \"ticks\": \"\"}, \"colorscale\": [[0.0, \"#0d0887\"], [0.1111111111111111, \"#46039f\"], [0.2222222222222222, \"#7201a8\"], [0.3333333333333333, \"#9c179e\"], [0.4444444444444444, \"#bd3786\"], [0.5555555555555556, \"#d8576b\"], [0.6666666666666666, \"#ed7953\"], [0.7777777777777778, \"#fb9f3a\"], [0.8888888888888888, \"#fdca26\"], [1.0, \"#f0f921\"]], \"type\": \"histogram2d\"}], \"histogram2dcontour\": [{\"colorbar\": {\"outlinewidth\": 0, \"ticks\": \"\"}, \"colorscale\": [[0.0, \"#0d0887\"], [0.1111111111111111, \"#46039f\"], [0.2222222222222222, \"#7201a8\"], [0.3333333333333333, \"#9c179e\"], [0.4444444444444444, \"#bd3786\"], [0.5555555555555556, \"#d8576b\"], [0.6666666666666666, \"#ed7953\"], [0.7777777777777778, \"#fb9f3a\"], [0.8888888888888888, \"#fdca26\"], [1.0, \"#f0f921\"]], \"type\": \"histogram2dcontour\"}], \"mesh3d\": [{\"colorbar\": {\"outlinewidth\": 0, \"ticks\": \"\"}, \"type\": \"mesh3d\"}], \"parcoords\": [{\"line\": {\"colorbar\": {\"outlinewidth\": 0, \"ticks\": \"\"}}, \"type\": \"parcoords\"}], \"pie\": [{\"automargin\": true, \"type\": \"pie\"}], \"scatter\": [{\"marker\": {\"colorbar\": {\"outlinewidth\": 0, \"ticks\": \"\"}}, \"type\": \"scatter\"}], \"scatter3d\": [{\"line\": {\"colorbar\": {\"outlinewidth\": 0, \"ticks\": \"\"}}, \"marker\": {\"colorbar\": {\"outlinewidth\": 0, \"ticks\": \"\"}}, \"type\": \"scatter3d\"}], \"scattercarpet\": [{\"marker\": {\"colorbar\": {\"outlinewidth\": 0, \"ticks\": \"\"}}, \"type\": \"scattercarpet\"}], \"scattergeo\": [{\"marker\": {\"colorbar\": {\"outlinewidth\": 0, \"ticks\": \"\"}}, \"type\": \"scattergeo\"}], \"scattergl\": [{\"marker\": {\"colorbar\": {\"outlinewidth\": 0, \"ticks\": \"\"}}, \"type\": \"scattergl\"}], \"scattermapbox\": [{\"marker\": {\"colorbar\": {\"outlinewidth\": 0, \"ticks\": \"\"}}, \"type\": \"scattermapbox\"}], \"scatterpolar\": [{\"marker\": {\"colorbar\": {\"outlinewidth\": 0, \"ticks\": \"\"}}, \"type\": \"scatterpolar\"}], \"scatterpolargl\": [{\"marker\": {\"colorbar\": {\"outlinewidth\": 0, \"ticks\": \"\"}}, \"type\": \"scatterpolargl\"}], \"scatterternary\": [{\"marker\": {\"colorbar\": {\"outlinewidth\": 0, \"ticks\": \"\"}}, \"type\": \"scatterternary\"}], \"surface\": [{\"colorbar\": {\"outlinewidth\": 0, \"ticks\": \"\"}, \"colorscale\": [[0.0, \"#0d0887\"], [0.1111111111111111, \"#46039f\"], [0.2222222222222222, \"#7201a8\"], [0.3333333333333333, \"#9c179e\"], [0.4444444444444444, \"#bd3786\"], [0.5555555555555556, \"#d8576b\"], [0.6666666666666666, \"#ed7953\"], [0.7777777777777778, \"#fb9f3a\"], [0.8888888888888888, \"#fdca26\"], [1.0, \"#f0f921\"]], \"type\": \"surface\"}], \"table\": [{\"cells\": {\"fill\": {\"color\": \"#EBF0F8\"}, \"line\": {\"color\": \"white\"}}, \"header\": {\"fill\": {\"color\": \"#C8D4E3\"}, \"line\": {\"color\": \"white\"}}, \"type\": \"table\"}]}, \"layout\": {\"annotationdefaults\": {\"arrowcolor\": \"#2a3f5f\", \"arrowhead\": 0, \"arrowwidth\": 1}, \"coloraxis\": {\"colorbar\": {\"outlinewidth\": 0, \"ticks\": \"\"}}, \"colorscale\": {\"diverging\": [[0, \"#8e0152\"], [0.1, \"#c51b7d\"], [0.2, \"#de77ae\"], [0.3, \"#f1b6da\"], [0.4, \"#fde0ef\"], [0.5, \"#f7f7f7\"], [0.6, \"#e6f5d0\"], [0.7, \"#b8e186\"], [0.8, \"#7fbc41\"], [0.9, \"#4d9221\"], [1, \"#276419\"]], \"sequential\": [[0.0, \"#0d0887\"], [0.1111111111111111, \"#46039f\"], [0.2222222222222222, \"#7201a8\"], [0.3333333333333333, \"#9c179e\"], [0.4444444444444444, \"#bd3786\"], [0.5555555555555556, \"#d8576b\"], [0.6666666666666666, \"#ed7953\"], [0.7777777777777778, \"#fb9f3a\"], [0.8888888888888888, \"#fdca26\"], [1.0, \"#f0f921\"]], \"sequentialminus\": [[0.0, \"#0d0887\"], [0.1111111111111111, \"#46039f\"], [0.2222222222222222, \"#7201a8\"], [0.3333333333333333, \"#9c179e\"], [0.4444444444444444, \"#bd3786\"], [0.5555555555555556, \"#d8576b\"], [0.6666666666666666, \"#ed7953\"], [0.7777777777777778, \"#fb9f3a\"], [0.8888888888888888, \"#fdca26\"], [1.0, \"#f0f921\"]]}, \"colorway\": [\"#636efa\", \"#EF553B\", \"#00cc96\", \"#ab63fa\", \"#FFA15A\", \"#19d3f3\", \"#FF6692\", \"#B6E880\", \"#FF97FF\", \"#FECB52\"], \"font\": {\"color\": \"#2a3f5f\"}, \"geo\": {\"bgcolor\": \"white\", \"lakecolor\": \"white\", \"landcolor\": \"#E5ECF6\", \"showlakes\": true, \"showland\": true, \"subunitcolor\": \"white\"}, \"hoverlabel\": {\"align\": \"left\"}, \"hovermode\": \"closest\", \"mapbox\": {\"style\": \"light\"}, \"paper_bgcolor\": \"white\", \"plot_bgcolor\": \"#E5ECF6\", \"polar\": {\"angularaxis\": {\"gridcolor\": \"white\", \"linecolor\": \"white\", \"ticks\": \"\"}, \"bgcolor\": \"#E5ECF6\", \"radialaxis\": {\"gridcolor\": \"white\", \"linecolor\": \"white\", \"ticks\": \"\"}}, \"scene\": {\"xaxis\": {\"backgroundcolor\": \"#E5ECF6\", \"gridcolor\": \"white\", \"gridwidth\": 2, \"linecolor\": \"white\", \"showbackground\": true, \"ticks\": \"\", \"zerolinecolor\": \"white\"}, \"yaxis\": {\"backgroundcolor\": \"#E5ECF6\", \"gridcolor\": \"white\", \"gridwidth\": 2, \"linecolor\": \"white\", \"showbackground\": true, \"ticks\": \"\", \"zerolinecolor\": \"white\"}, \"zaxis\": {\"backgroundcolor\": \"#E5ECF6\", \"gridcolor\": \"white\", \"gridwidth\": 2, \"linecolor\": \"white\", \"showbackground\": true, \"ticks\": \"\", \"zerolinecolor\": \"white\"}}, \"shapedefaults\": {\"line\": {\"color\": \"#2a3f5f\"}}, \"ternary\": {\"aaxis\": {\"gridcolor\": \"white\", \"linecolor\": \"white\", \"ticks\": \"\"}, \"baxis\": {\"gridcolor\": \"white\", \"linecolor\": \"white\", \"ticks\": \"\"}, \"bgcolor\": \"#E5ECF6\", \"caxis\": {\"gridcolor\": \"white\", \"linecolor\": \"white\", \"ticks\": \"\"}}, \"title\": {\"x\": 0.05}, \"xaxis\": {\"automargin\": true, \"gridcolor\": \"white\", \"linecolor\": \"white\", \"ticks\": \"\", \"title\": {\"standoff\": 15}, \"zerolinecolor\": \"white\", \"zerolinewidth\": 2}, \"yaxis\": {\"automargin\": true, \"gridcolor\": \"white\", \"linecolor\": \"white\", \"ticks\": \"\", \"title\": {\"standoff\": 15}, \"zerolinecolor\": \"white\", \"zerolinewidth\": 2}}}, \"title\": {\"font\": {\"color\": \"#4D5663\"}}, \"xaxis\": {\"gridcolor\": \"#E1E5ED\", \"showgrid\": true, \"tickfont\": {\"color\": \"#4D5663\"}, \"title\": {\"font\": {\"color\": \"#4D5663\"}, \"text\": \"\"}, \"zerolinecolor\": \"#E1E5ED\"}, \"yaxis\": {\"gridcolor\": \"#E1E5ED\", \"showgrid\": true, \"tickfont\": {\"color\": \"#4D5663\"}, \"title\": {\"font\": {\"color\": \"#4D5663\"}, \"text\": \"\"}, \"zerolinecolor\": \"#E1E5ED\"}},\n",
       "                        {\"showLink\": true, \"linkText\": \"Export to plot.ly\", \"plotlyServerURL\": \"https://plot.ly\", \"responsive\": true}\n",
       "                    ).then(function(){\n",
       "                            \n",
       "var gd = document.getElementById('12ef58eb-7553-4ef0-9c8b-f7a17f751cd3');\n",
       "var x = new MutationObserver(function (mutations, observer) {{\n",
       "        var display = window.getComputedStyle(gd).display;\n",
       "        if (!display || display === 'none') {{\n",
       "            console.log([gd, 'removed!']);\n",
       "            Plotly.purge(gd);\n",
       "            observer.disconnect();\n",
       "        }}\n",
       "}});\n",
       "\n",
       "// Listen for the removal of the full notebook cells\n",
       "var notebookContainer = gd.closest('#notebook-container');\n",
       "if (notebookContainer) {{\n",
       "    x.observe(notebookContainer, {childList: true});\n",
       "}}\n",
       "\n",
       "// Listen for the clearing of the current output cell\n",
       "var outputEl = gd.closest('.output');\n",
       "if (outputEl) {{\n",
       "    x.observe(outputEl, {childList: true});\n",
       "}}\n",
       "\n",
       "                        })\n",
       "                };\n",
       "                });\n",
       "            </script>\n",
       "        </div>"
      ]
     },
     "metadata": {},
     "output_type": "display_data"
    }
   ],
   "source": [
    "df.iplot()"
   ]
  },
  {
   "cell_type": "markdown",
   "metadata": {},
   "source": [
    "**Gráficos do tipo Scatter**"
   ]
  },
  {
   "cell_type": "code",
   "execution_count": 14,
   "metadata": {},
   "outputs": [
    {
     "data": {
      "application/vnd.plotly.v1+json": {
       "config": {
        "linkText": "Export to plot.ly",
        "plotlyServerURL": "https://plot.ly",
        "showLink": true
       },
       "data": [
        {
         "line": {
          "color": "rgba(255, 153, 51, 1.0)",
          "dash": "solid",
          "shape": "linear",
          "width": 1.3
         },
         "marker": {
          "size": 12,
          "symbol": "circle"
         },
         "mode": "markers",
         "name": "B",
         "text": "",
         "type": "scatter",
         "x": [
          -2.2330045307590853,
          -0.9521908995974245,
          0.27846606978193117,
          -0.7497430396641565,
          -0.8956342510414951,
          -0.2701922755157396,
          0.13378854729598888,
          -0.10139493386630462,
          2.4089945148153924,
          2.2798960353709634,
          1.536776871530047,
          -0.4738067773638204,
          0.3895763004483561,
          -0.44813497414482384,
          -0.04272139930867001,
          1.8607472786609707,
          -0.6439882932495113,
          1.2582962916443727,
          -1.204805217634797,
          -0.1429158275301282,
          1.1677493616360861,
          -2.6530884634429985,
          -0.9403827018208064,
          0.1496396817935744,
          0.04470276113270573,
          -0.7319557334866961,
          0.5233737734533389,
          -0.4409303064263165,
          -0.5833238720623664,
          0.25649916497690095,
          -0.30081158546772635,
          0.07975881141571715,
          -2.090321583607134,
          -0.8712175959679449,
          -0.6931394651239492,
          -0.8218402617535678,
          1.4418250131499333,
          0.3751607269805806,
          1.2314240010401805,
          0.4199928878005679,
          -0.1554548985369435,
          1.8868088114432202,
          -0.694422411044866,
          1.1436083825779144,
          0.7624519963607965,
          -0.2482247596359065,
          1.4414688130029367,
          0.22035610962969224,
          0.2950496995083218,
          -0.0002316334366230875,
          1.2896860527248302,
          1.1265104298484678,
          -0.0036286696037859285,
          -0.826340568102362,
          -1.018582405591517,
          -1.291063854400129,
          -0.19008683392694992,
          -0.763872927674939,
          2.0959738808836414,
          2.130647594088596,
          2.224539281704161,
          1.1940475375397548,
          -0.7876803121312159,
          0.969667697580649,
          0.9493233327045774,
          -0.044403311331418185,
          0.3895596700750885,
          -0.014452893562845948,
          -0.6968071801779312,
          0.1614108555208764,
          -0.12276024863235002,
          -0.8370581648026316,
          -0.24705922180806691,
          -0.10403134026483714,
          -1.4284743931846275,
          0.3535476401056677,
          -0.10544217505192499,
          1.6963828925675466,
          0.5915873562228502,
          0.9907707442218054,
          0.7428977212707456,
          -0.07200887621832967,
          0.00017457906821124856,
          0.013110631310684354,
          1.9240017540561096,
          -0.4264462466703405,
          0.16219704052654055,
          0.4697559969879681,
          1.0060845122288846,
          0.7676496704361507,
          -0.9161171095812846,
          -1.624314104246879,
          -0.9527835783780093,
          -0.17739704862730749,
          1.0650077734242744,
          0.43385923873565196,
          1.6979048817374556,
          -1.853810177762625,
          0.9776180877321272,
          -0.8272963834606755
         ],
         "y": [
          -0.9234838055280741,
          0.1837906133650663,
          0.9549006334057075,
          -0.8172743696437627,
          0.3174431081329297,
          0.21808918953745687,
          0.6815729465243698,
          -0.262815565993623,
          0.0013540987106652831,
          -0.27062784691556646,
          -0.8728212153054438,
          -0.6131662144165188,
          0.8217767277509427,
          -0.37803366564505864,
          -0.38120900740011365,
          0.615824227870488,
          -0.3479271621381179,
          -0.14022948149868633,
          0.4715134428149978,
          -1.3875270322229551,
          2.291695981953175,
          -0.4233067765902022,
          -0.4010460654069656,
          1.4953409235326716,
          0.055794820889501835,
          1.1085643506927436,
          -0.34084079925276806,
          -0.04448454401577478,
          -0.7068197188417409,
          -0.28196538329893095,
          0.35645508606988024,
          -1.9319911284139681,
          0.30676889430031434,
          1.0195069345873582,
          0.5815106975487212,
          0.6675437405444582,
          -1.451462224194573,
          1.7537992807886817,
          -0.5223131305426536,
          -2.0899011210520055,
          -1.1868763568302543,
          -1.654932061201535,
          -1.6874933947593838,
          -1.2156525913674665,
          1.6794846829271606,
          0.7092856518073,
          0.6629875673201554,
          -0.6411635757117996,
          -1.1881576800789335,
          -1.160918932012118,
          -0.014452385012939719,
          -0.8158088796870766,
          -1.112112811778674,
          -0.4134909737727676,
          0.7679354852691683,
          -0.5288693699646896,
          0.966238933639739,
          0.5428284262688382,
          -0.8993016610838763,
          1.9686623433577968,
          -1.1099790369124423,
          -0.7148053007009889,
          -0.05035305723891644,
          -0.2825442564032258,
          0.6220386837974622,
          -0.02607398992073639,
          -0.12904032210431582,
          -0.4462530044659881,
          1.0919323927621174,
          -0.2838491101268597,
          0.8898082348209791,
          -0.05344663510556132,
          0.6764322455699061,
          2.110521685528398,
          -0.9540742926640376,
          -0.0709709220358443,
          -0.05552091480298457,
          0.49519307651171957,
          -0.47214686334867095,
          -0.43038367094404784,
          -0.5262311656239208,
          0.41668007402483337,
          -0.46314704835682,
          1.1978416309836064,
          0.06945342626551727,
          0.2852068613579216,
          -0.9260930337101595,
          -1.299229452656461,
          -0.01752394800048146,
          1.333737866854547,
          -1.0027996183786698,
          1.3712373857073232,
          -1.3929633493161442,
          -2.003173109247321,
          -0.5638422495748624,
          -0.08713154635704083,
          0.7826639766427661,
          1.6599223202958147,
          1.8225331731889711,
          -0.3637271366130778
         ]
        }
       ],
       "layout": {
        "legend": {
         "bgcolor": "#F5F6F9",
         "font": {
          "color": "#4D5663"
         }
        },
        "paper_bgcolor": "#F5F6F9",
        "plot_bgcolor": "#F5F6F9",
        "template": {
         "data": {
          "bar": [
           {
            "error_x": {
             "color": "#2a3f5f"
            },
            "error_y": {
             "color": "#2a3f5f"
            },
            "marker": {
             "line": {
              "color": "#E5ECF6",
              "width": 0.5
             }
            },
            "type": "bar"
           }
          ],
          "barpolar": [
           {
            "marker": {
             "line": {
              "color": "#E5ECF6",
              "width": 0.5
             }
            },
            "type": "barpolar"
           }
          ],
          "carpet": [
           {
            "aaxis": {
             "endlinecolor": "#2a3f5f",
             "gridcolor": "white",
             "linecolor": "white",
             "minorgridcolor": "white",
             "startlinecolor": "#2a3f5f"
            },
            "baxis": {
             "endlinecolor": "#2a3f5f",
             "gridcolor": "white",
             "linecolor": "white",
             "minorgridcolor": "white",
             "startlinecolor": "#2a3f5f"
            },
            "type": "carpet"
           }
          ],
          "choropleth": [
           {
            "colorbar": {
             "outlinewidth": 0,
             "ticks": ""
            },
            "type": "choropleth"
           }
          ],
          "contour": [
           {
            "colorbar": {
             "outlinewidth": 0,
             "ticks": ""
            },
            "colorscale": [
             [
              0,
              "#0d0887"
             ],
             [
              0.1111111111111111,
              "#46039f"
             ],
             [
              0.2222222222222222,
              "#7201a8"
             ],
             [
              0.3333333333333333,
              "#9c179e"
             ],
             [
              0.4444444444444444,
              "#bd3786"
             ],
             [
              0.5555555555555556,
              "#d8576b"
             ],
             [
              0.6666666666666666,
              "#ed7953"
             ],
             [
              0.7777777777777778,
              "#fb9f3a"
             ],
             [
              0.8888888888888888,
              "#fdca26"
             ],
             [
              1,
              "#f0f921"
             ]
            ],
            "type": "contour"
           }
          ],
          "contourcarpet": [
           {
            "colorbar": {
             "outlinewidth": 0,
             "ticks": ""
            },
            "type": "contourcarpet"
           }
          ],
          "heatmap": [
           {
            "colorbar": {
             "outlinewidth": 0,
             "ticks": ""
            },
            "colorscale": [
             [
              0,
              "#0d0887"
             ],
             [
              0.1111111111111111,
              "#46039f"
             ],
             [
              0.2222222222222222,
              "#7201a8"
             ],
             [
              0.3333333333333333,
              "#9c179e"
             ],
             [
              0.4444444444444444,
              "#bd3786"
             ],
             [
              0.5555555555555556,
              "#d8576b"
             ],
             [
              0.6666666666666666,
              "#ed7953"
             ],
             [
              0.7777777777777778,
              "#fb9f3a"
             ],
             [
              0.8888888888888888,
              "#fdca26"
             ],
             [
              1,
              "#f0f921"
             ]
            ],
            "type": "heatmap"
           }
          ],
          "heatmapgl": [
           {
            "colorbar": {
             "outlinewidth": 0,
             "ticks": ""
            },
            "colorscale": [
             [
              0,
              "#0d0887"
             ],
             [
              0.1111111111111111,
              "#46039f"
             ],
             [
              0.2222222222222222,
              "#7201a8"
             ],
             [
              0.3333333333333333,
              "#9c179e"
             ],
             [
              0.4444444444444444,
              "#bd3786"
             ],
             [
              0.5555555555555556,
              "#d8576b"
             ],
             [
              0.6666666666666666,
              "#ed7953"
             ],
             [
              0.7777777777777778,
              "#fb9f3a"
             ],
             [
              0.8888888888888888,
              "#fdca26"
             ],
             [
              1,
              "#f0f921"
             ]
            ],
            "type": "heatmapgl"
           }
          ],
          "histogram": [
           {
            "marker": {
             "colorbar": {
              "outlinewidth": 0,
              "ticks": ""
             }
            },
            "type": "histogram"
           }
          ],
          "histogram2d": [
           {
            "colorbar": {
             "outlinewidth": 0,
             "ticks": ""
            },
            "colorscale": [
             [
              0,
              "#0d0887"
             ],
             [
              0.1111111111111111,
              "#46039f"
             ],
             [
              0.2222222222222222,
              "#7201a8"
             ],
             [
              0.3333333333333333,
              "#9c179e"
             ],
             [
              0.4444444444444444,
              "#bd3786"
             ],
             [
              0.5555555555555556,
              "#d8576b"
             ],
             [
              0.6666666666666666,
              "#ed7953"
             ],
             [
              0.7777777777777778,
              "#fb9f3a"
             ],
             [
              0.8888888888888888,
              "#fdca26"
             ],
             [
              1,
              "#f0f921"
             ]
            ],
            "type": "histogram2d"
           }
          ],
          "histogram2dcontour": [
           {
            "colorbar": {
             "outlinewidth": 0,
             "ticks": ""
            },
            "colorscale": [
             [
              0,
              "#0d0887"
             ],
             [
              0.1111111111111111,
              "#46039f"
             ],
             [
              0.2222222222222222,
              "#7201a8"
             ],
             [
              0.3333333333333333,
              "#9c179e"
             ],
             [
              0.4444444444444444,
              "#bd3786"
             ],
             [
              0.5555555555555556,
              "#d8576b"
             ],
             [
              0.6666666666666666,
              "#ed7953"
             ],
             [
              0.7777777777777778,
              "#fb9f3a"
             ],
             [
              0.8888888888888888,
              "#fdca26"
             ],
             [
              1,
              "#f0f921"
             ]
            ],
            "type": "histogram2dcontour"
           }
          ],
          "mesh3d": [
           {
            "colorbar": {
             "outlinewidth": 0,
             "ticks": ""
            },
            "type": "mesh3d"
           }
          ],
          "parcoords": [
           {
            "line": {
             "colorbar": {
              "outlinewidth": 0,
              "ticks": ""
             }
            },
            "type": "parcoords"
           }
          ],
          "pie": [
           {
            "automargin": true,
            "type": "pie"
           }
          ],
          "scatter": [
           {
            "marker": {
             "colorbar": {
              "outlinewidth": 0,
              "ticks": ""
             }
            },
            "type": "scatter"
           }
          ],
          "scatter3d": [
           {
            "line": {
             "colorbar": {
              "outlinewidth": 0,
              "ticks": ""
             }
            },
            "marker": {
             "colorbar": {
              "outlinewidth": 0,
              "ticks": ""
             }
            },
            "type": "scatter3d"
           }
          ],
          "scattercarpet": [
           {
            "marker": {
             "colorbar": {
              "outlinewidth": 0,
              "ticks": ""
             }
            },
            "type": "scattercarpet"
           }
          ],
          "scattergeo": [
           {
            "marker": {
             "colorbar": {
              "outlinewidth": 0,
              "ticks": ""
             }
            },
            "type": "scattergeo"
           }
          ],
          "scattergl": [
           {
            "marker": {
             "colorbar": {
              "outlinewidth": 0,
              "ticks": ""
             }
            },
            "type": "scattergl"
           }
          ],
          "scattermapbox": [
           {
            "marker": {
             "colorbar": {
              "outlinewidth": 0,
              "ticks": ""
             }
            },
            "type": "scattermapbox"
           }
          ],
          "scatterpolar": [
           {
            "marker": {
             "colorbar": {
              "outlinewidth": 0,
              "ticks": ""
             }
            },
            "type": "scatterpolar"
           }
          ],
          "scatterpolargl": [
           {
            "marker": {
             "colorbar": {
              "outlinewidth": 0,
              "ticks": ""
             }
            },
            "type": "scatterpolargl"
           }
          ],
          "scatterternary": [
           {
            "marker": {
             "colorbar": {
              "outlinewidth": 0,
              "ticks": ""
             }
            },
            "type": "scatterternary"
           }
          ],
          "surface": [
           {
            "colorbar": {
             "outlinewidth": 0,
             "ticks": ""
            },
            "colorscale": [
             [
              0,
              "#0d0887"
             ],
             [
              0.1111111111111111,
              "#46039f"
             ],
             [
              0.2222222222222222,
              "#7201a8"
             ],
             [
              0.3333333333333333,
              "#9c179e"
             ],
             [
              0.4444444444444444,
              "#bd3786"
             ],
             [
              0.5555555555555556,
              "#d8576b"
             ],
             [
              0.6666666666666666,
              "#ed7953"
             ],
             [
              0.7777777777777778,
              "#fb9f3a"
             ],
             [
              0.8888888888888888,
              "#fdca26"
             ],
             [
              1,
              "#f0f921"
             ]
            ],
            "type": "surface"
           }
          ],
          "table": [
           {
            "cells": {
             "fill": {
              "color": "#EBF0F8"
             },
             "line": {
              "color": "white"
             }
            },
            "header": {
             "fill": {
              "color": "#C8D4E3"
             },
             "line": {
              "color": "white"
             }
            },
            "type": "table"
           }
          ]
         },
         "layout": {
          "annotationdefaults": {
           "arrowcolor": "#2a3f5f",
           "arrowhead": 0,
           "arrowwidth": 1
          },
          "coloraxis": {
           "colorbar": {
            "outlinewidth": 0,
            "ticks": ""
           }
          },
          "colorscale": {
           "diverging": [
            [
             0,
             "#8e0152"
            ],
            [
             0.1,
             "#c51b7d"
            ],
            [
             0.2,
             "#de77ae"
            ],
            [
             0.3,
             "#f1b6da"
            ],
            [
             0.4,
             "#fde0ef"
            ],
            [
             0.5,
             "#f7f7f7"
            ],
            [
             0.6,
             "#e6f5d0"
            ],
            [
             0.7,
             "#b8e186"
            ],
            [
             0.8,
             "#7fbc41"
            ],
            [
             0.9,
             "#4d9221"
            ],
            [
             1,
             "#276419"
            ]
           ],
           "sequential": [
            [
             0,
             "#0d0887"
            ],
            [
             0.1111111111111111,
             "#46039f"
            ],
            [
             0.2222222222222222,
             "#7201a8"
            ],
            [
             0.3333333333333333,
             "#9c179e"
            ],
            [
             0.4444444444444444,
             "#bd3786"
            ],
            [
             0.5555555555555556,
             "#d8576b"
            ],
            [
             0.6666666666666666,
             "#ed7953"
            ],
            [
             0.7777777777777778,
             "#fb9f3a"
            ],
            [
             0.8888888888888888,
             "#fdca26"
            ],
            [
             1,
             "#f0f921"
            ]
           ],
           "sequentialminus": [
            [
             0,
             "#0d0887"
            ],
            [
             0.1111111111111111,
             "#46039f"
            ],
            [
             0.2222222222222222,
             "#7201a8"
            ],
            [
             0.3333333333333333,
             "#9c179e"
            ],
            [
             0.4444444444444444,
             "#bd3786"
            ],
            [
             0.5555555555555556,
             "#d8576b"
            ],
            [
             0.6666666666666666,
             "#ed7953"
            ],
            [
             0.7777777777777778,
             "#fb9f3a"
            ],
            [
             0.8888888888888888,
             "#fdca26"
            ],
            [
             1,
             "#f0f921"
            ]
           ]
          },
          "colorway": [
           "#636efa",
           "#EF553B",
           "#00cc96",
           "#ab63fa",
           "#FFA15A",
           "#19d3f3",
           "#FF6692",
           "#B6E880",
           "#FF97FF",
           "#FECB52"
          ],
          "font": {
           "color": "#2a3f5f"
          },
          "geo": {
           "bgcolor": "white",
           "lakecolor": "white",
           "landcolor": "#E5ECF6",
           "showlakes": true,
           "showland": true,
           "subunitcolor": "white"
          },
          "hoverlabel": {
           "align": "left"
          },
          "hovermode": "closest",
          "mapbox": {
           "style": "light"
          },
          "paper_bgcolor": "white",
          "plot_bgcolor": "#E5ECF6",
          "polar": {
           "angularaxis": {
            "gridcolor": "white",
            "linecolor": "white",
            "ticks": ""
           },
           "bgcolor": "#E5ECF6",
           "radialaxis": {
            "gridcolor": "white",
            "linecolor": "white",
            "ticks": ""
           }
          },
          "scene": {
           "xaxis": {
            "backgroundcolor": "#E5ECF6",
            "gridcolor": "white",
            "gridwidth": 2,
            "linecolor": "white",
            "showbackground": true,
            "ticks": "",
            "zerolinecolor": "white"
           },
           "yaxis": {
            "backgroundcolor": "#E5ECF6",
            "gridcolor": "white",
            "gridwidth": 2,
            "linecolor": "white",
            "showbackground": true,
            "ticks": "",
            "zerolinecolor": "white"
           },
           "zaxis": {
            "backgroundcolor": "#E5ECF6",
            "gridcolor": "white",
            "gridwidth": 2,
            "linecolor": "white",
            "showbackground": true,
            "ticks": "",
            "zerolinecolor": "white"
           }
          },
          "shapedefaults": {
           "line": {
            "color": "#2a3f5f"
           }
          },
          "ternary": {
           "aaxis": {
            "gridcolor": "white",
            "linecolor": "white",
            "ticks": ""
           },
           "baxis": {
            "gridcolor": "white",
            "linecolor": "white",
            "ticks": ""
           },
           "bgcolor": "#E5ECF6",
           "caxis": {
            "gridcolor": "white",
            "linecolor": "white",
            "ticks": ""
           }
          },
          "title": {
           "x": 0.05
          },
          "xaxis": {
           "automargin": true,
           "gridcolor": "white",
           "linecolor": "white",
           "ticks": "",
           "title": {
            "standoff": 15
           },
           "zerolinecolor": "white",
           "zerolinewidth": 2
          },
          "yaxis": {
           "automargin": true,
           "gridcolor": "white",
           "linecolor": "white",
           "ticks": "",
           "title": {
            "standoff": 15
           },
           "zerolinecolor": "white",
           "zerolinewidth": 2
          }
         }
        },
        "title": {
         "font": {
          "color": "#4D5663"
         }
        },
        "xaxis": {
         "gridcolor": "#E1E5ED",
         "showgrid": true,
         "tickfont": {
          "color": "#4D5663"
         },
         "title": {
          "font": {
           "color": "#4D5663"
          },
          "text": ""
         },
         "zerolinecolor": "#E1E5ED"
        },
        "yaxis": {
         "gridcolor": "#E1E5ED",
         "showgrid": true,
         "tickfont": {
          "color": "#4D5663"
         },
         "title": {
          "font": {
           "color": "#4D5663"
          },
          "text": ""
         },
         "zerolinecolor": "#E1E5ED"
        }
       }
      },
      "text/html": [
       "<div>\n",
       "        \n",
       "        \n",
       "            <div id=\"bc900b85-a517-42d3-97c3-f062c01269c8\" class=\"plotly-graph-div\" style=\"height:525px; width:100%;\"></div>\n",
       "            <script type=\"text/javascript\">\n",
       "                require([\"plotly\"], function(Plotly) {\n",
       "                    window.PLOTLYENV=window.PLOTLYENV || {};\n",
       "                    window.PLOTLYENV.BASE_URL='https://plot.ly';\n",
       "                    \n",
       "                if (document.getElementById(\"bc900b85-a517-42d3-97c3-f062c01269c8\")) {\n",
       "                    Plotly.newPlot(\n",
       "                        'bc900b85-a517-42d3-97c3-f062c01269c8',\n",
       "                        [{\"line\": {\"color\": \"rgba(255, 153, 51, 1.0)\", \"dash\": \"solid\", \"shape\": \"linear\", \"width\": 1.3}, \"marker\": {\"size\": 12, \"symbol\": \"circle\"}, \"mode\": \"markers\", \"name\": \"B\", \"text\": \"\", \"type\": \"scatter\", \"x\": [-2.2330045307590853, -0.9521908995974245, 0.27846606978193117, -0.7497430396641565, -0.8956342510414951, -0.2701922755157396, 0.13378854729598888, -0.10139493386630462, 2.4089945148153924, 2.2798960353709634, 1.536776871530047, -0.4738067773638204, 0.3895763004483561, -0.44813497414482384, -0.04272139930867001, 1.8607472786609707, -0.6439882932495113, 1.2582962916443727, -1.204805217634797, -0.1429158275301282, 1.1677493616360861, -2.6530884634429985, -0.9403827018208064, 0.1496396817935744, 0.04470276113270573, -0.7319557334866961, 0.5233737734533389, -0.4409303064263165, -0.5833238720623664, 0.25649916497690095, -0.30081158546772635, 0.07975881141571715, -2.090321583607134, -0.8712175959679449, -0.6931394651239492, -0.8218402617535678, 1.4418250131499333, 0.3751607269805806, 1.2314240010401805, 0.4199928878005679, -0.1554548985369435, 1.8868088114432202, -0.694422411044866, 1.1436083825779144, 0.7624519963607965, -0.2482247596359065, 1.4414688130029367, 0.22035610962969224, 0.2950496995083218, -0.0002316334366230875, 1.2896860527248302, 1.1265104298484678, -0.0036286696037859285, -0.826340568102362, -1.018582405591517, -1.291063854400129, -0.19008683392694992, -0.763872927674939, 2.0959738808836414, 2.130647594088596, 2.224539281704161, 1.1940475375397548, -0.7876803121312159, 0.969667697580649, 0.9493233327045774, -0.044403311331418185, 0.3895596700750885, -0.014452893562845948, -0.6968071801779312, 0.1614108555208764, -0.12276024863235002, -0.8370581648026316, -0.24705922180806691, -0.10403134026483714, -1.4284743931846275, 0.3535476401056677, -0.10544217505192499, 1.6963828925675466, 0.5915873562228502, 0.9907707442218054, 0.7428977212707456, -0.07200887621832967, 0.00017457906821124856, 0.013110631310684354, 1.9240017540561096, -0.4264462466703405, 0.16219704052654055, 0.4697559969879681, 1.0060845122288846, 0.7676496704361507, -0.9161171095812846, -1.624314104246879, -0.9527835783780093, -0.17739704862730749, 1.0650077734242744, 0.43385923873565196, 1.6979048817374556, -1.853810177762625, 0.9776180877321272, -0.8272963834606755], \"y\": [-0.9234838055280741, 0.1837906133650663, 0.9549006334057075, -0.8172743696437627, 0.3174431081329297, 0.21808918953745687, 0.6815729465243698, -0.262815565993623, 0.0013540987106652831, -0.27062784691556646, -0.8728212153054438, -0.6131662144165188, 0.8217767277509427, -0.37803366564505864, -0.38120900740011365, 0.615824227870488, -0.3479271621381179, -0.14022948149868633, 0.4715134428149978, -1.3875270322229551, 2.291695981953175, -0.4233067765902022, -0.4010460654069656, 1.4953409235326716, 0.055794820889501835, 1.1085643506927436, -0.34084079925276806, -0.04448454401577478, -0.7068197188417409, -0.28196538329893095, 0.35645508606988024, -1.9319911284139681, 0.30676889430031434, 1.0195069345873582, 0.5815106975487212, 0.6675437405444582, -1.451462224194573, 1.7537992807886817, -0.5223131305426536, -2.0899011210520055, -1.1868763568302543, -1.654932061201535, -1.6874933947593838, -1.2156525913674665, 1.6794846829271606, 0.7092856518073, 0.6629875673201554, -0.6411635757117996, -1.1881576800789335, -1.160918932012118, -0.014452385012939719, -0.8158088796870766, -1.112112811778674, -0.4134909737727676, 0.7679354852691683, -0.5288693699646896, 0.966238933639739, 0.5428284262688382, -0.8993016610838763, 1.9686623433577968, -1.1099790369124423, -0.7148053007009889, -0.05035305723891644, -0.2825442564032258, 0.6220386837974622, -0.02607398992073639, -0.12904032210431582, -0.4462530044659881, 1.0919323927621174, -0.2838491101268597, 0.8898082348209791, -0.05344663510556132, 0.6764322455699061, 2.110521685528398, -0.9540742926640376, -0.0709709220358443, -0.05552091480298457, 0.49519307651171957, -0.47214686334867095, -0.43038367094404784, -0.5262311656239208, 0.41668007402483337, -0.46314704835682, 1.1978416309836064, 0.06945342626551727, 0.2852068613579216, -0.9260930337101595, -1.299229452656461, -0.01752394800048146, 1.333737866854547, -1.0027996183786698, 1.3712373857073232, -1.3929633493161442, -2.003173109247321, -0.5638422495748624, -0.08713154635704083, 0.7826639766427661, 1.6599223202958147, 1.8225331731889711, -0.3637271366130778]}],\n",
       "                        {\"legend\": {\"bgcolor\": \"#F5F6F9\", \"font\": {\"color\": \"#4D5663\"}}, \"paper_bgcolor\": \"#F5F6F9\", \"plot_bgcolor\": \"#F5F6F9\", \"template\": {\"data\": {\"bar\": [{\"error_x\": {\"color\": \"#2a3f5f\"}, \"error_y\": {\"color\": \"#2a3f5f\"}, \"marker\": {\"line\": {\"color\": \"#E5ECF6\", \"width\": 0.5}}, \"type\": \"bar\"}], \"barpolar\": [{\"marker\": {\"line\": {\"color\": \"#E5ECF6\", \"width\": 0.5}}, \"type\": \"barpolar\"}], \"carpet\": [{\"aaxis\": {\"endlinecolor\": \"#2a3f5f\", \"gridcolor\": \"white\", \"linecolor\": \"white\", \"minorgridcolor\": \"white\", \"startlinecolor\": \"#2a3f5f\"}, \"baxis\": {\"endlinecolor\": \"#2a3f5f\", \"gridcolor\": \"white\", \"linecolor\": \"white\", \"minorgridcolor\": \"white\", \"startlinecolor\": \"#2a3f5f\"}, \"type\": \"carpet\"}], \"choropleth\": [{\"colorbar\": {\"outlinewidth\": 0, \"ticks\": \"\"}, \"type\": \"choropleth\"}], \"contour\": [{\"colorbar\": {\"outlinewidth\": 0, \"ticks\": \"\"}, \"colorscale\": [[0.0, \"#0d0887\"], [0.1111111111111111, \"#46039f\"], [0.2222222222222222, \"#7201a8\"], [0.3333333333333333, \"#9c179e\"], [0.4444444444444444, \"#bd3786\"], [0.5555555555555556, \"#d8576b\"], [0.6666666666666666, \"#ed7953\"], [0.7777777777777778, \"#fb9f3a\"], [0.8888888888888888, \"#fdca26\"], [1.0, \"#f0f921\"]], \"type\": \"contour\"}], \"contourcarpet\": [{\"colorbar\": {\"outlinewidth\": 0, \"ticks\": \"\"}, \"type\": \"contourcarpet\"}], \"heatmap\": [{\"colorbar\": {\"outlinewidth\": 0, \"ticks\": \"\"}, \"colorscale\": [[0.0, \"#0d0887\"], [0.1111111111111111, \"#46039f\"], [0.2222222222222222, \"#7201a8\"], [0.3333333333333333, \"#9c179e\"], [0.4444444444444444, \"#bd3786\"], [0.5555555555555556, \"#d8576b\"], [0.6666666666666666, \"#ed7953\"], [0.7777777777777778, \"#fb9f3a\"], [0.8888888888888888, \"#fdca26\"], [1.0, \"#f0f921\"]], \"type\": \"heatmap\"}], \"heatmapgl\": [{\"colorbar\": {\"outlinewidth\": 0, \"ticks\": \"\"}, \"colorscale\": [[0.0, \"#0d0887\"], [0.1111111111111111, \"#46039f\"], [0.2222222222222222, \"#7201a8\"], [0.3333333333333333, \"#9c179e\"], [0.4444444444444444, \"#bd3786\"], [0.5555555555555556, \"#d8576b\"], [0.6666666666666666, \"#ed7953\"], [0.7777777777777778, \"#fb9f3a\"], [0.8888888888888888, \"#fdca26\"], [1.0, \"#f0f921\"]], \"type\": \"heatmapgl\"}], \"histogram\": [{\"marker\": {\"colorbar\": {\"outlinewidth\": 0, \"ticks\": \"\"}}, \"type\": \"histogram\"}], \"histogram2d\": [{\"colorbar\": {\"outlinewidth\": 0, \"ticks\": \"\"}, \"colorscale\": [[0.0, \"#0d0887\"], [0.1111111111111111, \"#46039f\"], [0.2222222222222222, \"#7201a8\"], [0.3333333333333333, \"#9c179e\"], [0.4444444444444444, \"#bd3786\"], [0.5555555555555556, \"#d8576b\"], [0.6666666666666666, \"#ed7953\"], [0.7777777777777778, \"#fb9f3a\"], [0.8888888888888888, \"#fdca26\"], [1.0, \"#f0f921\"]], \"type\": \"histogram2d\"}], \"histogram2dcontour\": [{\"colorbar\": {\"outlinewidth\": 0, \"ticks\": \"\"}, \"colorscale\": [[0.0, \"#0d0887\"], [0.1111111111111111, \"#46039f\"], [0.2222222222222222, \"#7201a8\"], [0.3333333333333333, \"#9c179e\"], [0.4444444444444444, \"#bd3786\"], [0.5555555555555556, \"#d8576b\"], [0.6666666666666666, \"#ed7953\"], [0.7777777777777778, \"#fb9f3a\"], [0.8888888888888888, \"#fdca26\"], [1.0, \"#f0f921\"]], \"type\": \"histogram2dcontour\"}], \"mesh3d\": [{\"colorbar\": {\"outlinewidth\": 0, \"ticks\": \"\"}, \"type\": \"mesh3d\"}], \"parcoords\": [{\"line\": {\"colorbar\": {\"outlinewidth\": 0, \"ticks\": \"\"}}, \"type\": \"parcoords\"}], \"pie\": [{\"automargin\": true, \"type\": \"pie\"}], \"scatter\": [{\"marker\": {\"colorbar\": {\"outlinewidth\": 0, \"ticks\": \"\"}}, \"type\": \"scatter\"}], \"scatter3d\": [{\"line\": {\"colorbar\": {\"outlinewidth\": 0, \"ticks\": \"\"}}, \"marker\": {\"colorbar\": {\"outlinewidth\": 0, \"ticks\": \"\"}}, \"type\": \"scatter3d\"}], \"scattercarpet\": [{\"marker\": {\"colorbar\": {\"outlinewidth\": 0, \"ticks\": \"\"}}, \"type\": \"scattercarpet\"}], \"scattergeo\": [{\"marker\": {\"colorbar\": {\"outlinewidth\": 0, \"ticks\": \"\"}}, \"type\": \"scattergeo\"}], \"scattergl\": [{\"marker\": {\"colorbar\": {\"outlinewidth\": 0, \"ticks\": \"\"}}, \"type\": \"scattergl\"}], \"scattermapbox\": [{\"marker\": {\"colorbar\": {\"outlinewidth\": 0, \"ticks\": \"\"}}, \"type\": \"scattermapbox\"}], \"scatterpolar\": [{\"marker\": {\"colorbar\": {\"outlinewidth\": 0, \"ticks\": \"\"}}, \"type\": \"scatterpolar\"}], \"scatterpolargl\": [{\"marker\": {\"colorbar\": {\"outlinewidth\": 0, \"ticks\": \"\"}}, \"type\": \"scatterpolargl\"}], \"scatterternary\": [{\"marker\": {\"colorbar\": {\"outlinewidth\": 0, \"ticks\": \"\"}}, \"type\": \"scatterternary\"}], \"surface\": [{\"colorbar\": {\"outlinewidth\": 0, \"ticks\": \"\"}, \"colorscale\": [[0.0, \"#0d0887\"], [0.1111111111111111, \"#46039f\"], [0.2222222222222222, \"#7201a8\"], [0.3333333333333333, \"#9c179e\"], [0.4444444444444444, \"#bd3786\"], [0.5555555555555556, \"#d8576b\"], [0.6666666666666666, \"#ed7953\"], [0.7777777777777778, \"#fb9f3a\"], [0.8888888888888888, \"#fdca26\"], [1.0, \"#f0f921\"]], \"type\": \"surface\"}], \"table\": [{\"cells\": {\"fill\": {\"color\": \"#EBF0F8\"}, \"line\": {\"color\": \"white\"}}, \"header\": {\"fill\": {\"color\": \"#C8D4E3\"}, \"line\": {\"color\": \"white\"}}, \"type\": \"table\"}]}, \"layout\": {\"annotationdefaults\": {\"arrowcolor\": \"#2a3f5f\", \"arrowhead\": 0, \"arrowwidth\": 1}, \"coloraxis\": {\"colorbar\": {\"outlinewidth\": 0, \"ticks\": \"\"}}, \"colorscale\": {\"diverging\": [[0, \"#8e0152\"], [0.1, \"#c51b7d\"], [0.2, \"#de77ae\"], [0.3, \"#f1b6da\"], [0.4, \"#fde0ef\"], [0.5, \"#f7f7f7\"], [0.6, \"#e6f5d0\"], [0.7, \"#b8e186\"], [0.8, \"#7fbc41\"], [0.9, \"#4d9221\"], [1, \"#276419\"]], \"sequential\": [[0.0, \"#0d0887\"], [0.1111111111111111, \"#46039f\"], [0.2222222222222222, \"#7201a8\"], [0.3333333333333333, \"#9c179e\"], [0.4444444444444444, \"#bd3786\"], [0.5555555555555556, \"#d8576b\"], [0.6666666666666666, \"#ed7953\"], [0.7777777777777778, \"#fb9f3a\"], [0.8888888888888888, \"#fdca26\"], [1.0, \"#f0f921\"]], \"sequentialminus\": [[0.0, \"#0d0887\"], [0.1111111111111111, \"#46039f\"], [0.2222222222222222, \"#7201a8\"], [0.3333333333333333, \"#9c179e\"], [0.4444444444444444, \"#bd3786\"], [0.5555555555555556, \"#d8576b\"], [0.6666666666666666, \"#ed7953\"], [0.7777777777777778, \"#fb9f3a\"], [0.8888888888888888, \"#fdca26\"], [1.0, \"#f0f921\"]]}, \"colorway\": [\"#636efa\", \"#EF553B\", \"#00cc96\", \"#ab63fa\", \"#FFA15A\", \"#19d3f3\", \"#FF6692\", \"#B6E880\", \"#FF97FF\", \"#FECB52\"], \"font\": {\"color\": \"#2a3f5f\"}, \"geo\": {\"bgcolor\": \"white\", \"lakecolor\": \"white\", \"landcolor\": \"#E5ECF6\", \"showlakes\": true, \"showland\": true, \"subunitcolor\": \"white\"}, \"hoverlabel\": {\"align\": \"left\"}, \"hovermode\": \"closest\", \"mapbox\": {\"style\": \"light\"}, \"paper_bgcolor\": \"white\", \"plot_bgcolor\": \"#E5ECF6\", \"polar\": {\"angularaxis\": {\"gridcolor\": \"white\", \"linecolor\": \"white\", \"ticks\": \"\"}, \"bgcolor\": \"#E5ECF6\", \"radialaxis\": {\"gridcolor\": \"white\", \"linecolor\": \"white\", \"ticks\": \"\"}}, \"scene\": {\"xaxis\": {\"backgroundcolor\": \"#E5ECF6\", \"gridcolor\": \"white\", \"gridwidth\": 2, \"linecolor\": \"white\", \"showbackground\": true, \"ticks\": \"\", \"zerolinecolor\": \"white\"}, \"yaxis\": {\"backgroundcolor\": \"#E5ECF6\", \"gridcolor\": \"white\", \"gridwidth\": 2, \"linecolor\": \"white\", \"showbackground\": true, \"ticks\": \"\", \"zerolinecolor\": \"white\"}, \"zaxis\": {\"backgroundcolor\": \"#E5ECF6\", \"gridcolor\": \"white\", \"gridwidth\": 2, \"linecolor\": \"white\", \"showbackground\": true, \"ticks\": \"\", \"zerolinecolor\": \"white\"}}, \"shapedefaults\": {\"line\": {\"color\": \"#2a3f5f\"}}, \"ternary\": {\"aaxis\": {\"gridcolor\": \"white\", \"linecolor\": \"white\", \"ticks\": \"\"}, \"baxis\": {\"gridcolor\": \"white\", \"linecolor\": \"white\", \"ticks\": \"\"}, \"bgcolor\": \"#E5ECF6\", \"caxis\": {\"gridcolor\": \"white\", \"linecolor\": \"white\", \"ticks\": \"\"}}, \"title\": {\"x\": 0.05}, \"xaxis\": {\"automargin\": true, \"gridcolor\": \"white\", \"linecolor\": \"white\", \"ticks\": \"\", \"title\": {\"standoff\": 15}, \"zerolinecolor\": \"white\", \"zerolinewidth\": 2}, \"yaxis\": {\"automargin\": true, \"gridcolor\": \"white\", \"linecolor\": \"white\", \"ticks\": \"\", \"title\": {\"standoff\": 15}, \"zerolinecolor\": \"white\", \"zerolinewidth\": 2}}}, \"title\": {\"font\": {\"color\": \"#4D5663\"}}, \"xaxis\": {\"gridcolor\": \"#E1E5ED\", \"showgrid\": true, \"tickfont\": {\"color\": \"#4D5663\"}, \"title\": {\"font\": {\"color\": \"#4D5663\"}, \"text\": \"\"}, \"zerolinecolor\": \"#E1E5ED\"}, \"yaxis\": {\"gridcolor\": \"#E1E5ED\", \"showgrid\": true, \"tickfont\": {\"color\": \"#4D5663\"}, \"title\": {\"font\": {\"color\": \"#4D5663\"}, \"text\": \"\"}, \"zerolinecolor\": \"#E1E5ED\"}},\n",
       "                        {\"showLink\": true, \"linkText\": \"Export to plot.ly\", \"plotlyServerURL\": \"https://plot.ly\", \"responsive\": true}\n",
       "                    ).then(function(){\n",
       "                            \n",
       "var gd = document.getElementById('bc900b85-a517-42d3-97c3-f062c01269c8');\n",
       "var x = new MutationObserver(function (mutations, observer) {{\n",
       "        var display = window.getComputedStyle(gd).display;\n",
       "        if (!display || display === 'none') {{\n",
       "            console.log([gd, 'removed!']);\n",
       "            Plotly.purge(gd);\n",
       "            observer.disconnect();\n",
       "        }}\n",
       "}});\n",
       "\n",
       "// Listen for the removal of the full notebook cells\n",
       "var notebookContainer = gd.closest('#notebook-container');\n",
       "if (notebookContainer) {{\n",
       "    x.observe(notebookContainer, {childList: true});\n",
       "}}\n",
       "\n",
       "// Listen for the clearing of the current output cell\n",
       "var outputEl = gd.closest('.output');\n",
       "if (outputEl) {{\n",
       "    x.observe(outputEl, {childList: true});\n",
       "}}\n",
       "\n",
       "                        })\n",
       "                };\n",
       "                });\n",
       "            </script>\n",
       "        </div>"
      ]
     },
     "metadata": {},
     "output_type": "display_data"
    }
   ],
   "source": [
    "df.iplot(x='A', y='B', kind='scatter', mode='markers')"
   ]
  },
  {
   "cell_type": "markdown",
   "metadata": {},
   "source": [
    "**Gráficos de Barras**"
   ]
  },
  {
   "cell_type": "code",
   "execution_count": 15,
   "metadata": {},
   "outputs": [
    {
     "data": {
      "application/vnd.plotly.v1+json": {
       "config": {
        "linkText": "Export to plot.ly",
        "plotlyServerURL": "https://plot.ly",
        "showLink": true
       },
       "data": [
        {
         "marker": {
          "color": "rgba(255, 153, 51, 0.6)",
          "line": {
           "color": "rgba(255, 153, 51, 1.0)",
           "width": 1
          }
         },
         "name": "None",
         "orientation": "v",
         "text": "",
         "type": "bar",
         "x": [
          "A",
          "B",
          "C",
          "D"
         ],
         "y": [
          12.294533042071023,
          -4.8079081422664265,
          9.28772945863995,
          -4.893692662939153
         ]
        }
       ],
       "layout": {
        "legend": {
         "bgcolor": "#F5F6F9",
         "font": {
          "color": "#4D5663"
         }
        },
        "paper_bgcolor": "#F5F6F9",
        "plot_bgcolor": "#F5F6F9",
        "template": {
         "data": {
          "bar": [
           {
            "error_x": {
             "color": "#2a3f5f"
            },
            "error_y": {
             "color": "#2a3f5f"
            },
            "marker": {
             "line": {
              "color": "#E5ECF6",
              "width": 0.5
             }
            },
            "type": "bar"
           }
          ],
          "barpolar": [
           {
            "marker": {
             "line": {
              "color": "#E5ECF6",
              "width": 0.5
             }
            },
            "type": "barpolar"
           }
          ],
          "carpet": [
           {
            "aaxis": {
             "endlinecolor": "#2a3f5f",
             "gridcolor": "white",
             "linecolor": "white",
             "minorgridcolor": "white",
             "startlinecolor": "#2a3f5f"
            },
            "baxis": {
             "endlinecolor": "#2a3f5f",
             "gridcolor": "white",
             "linecolor": "white",
             "minorgridcolor": "white",
             "startlinecolor": "#2a3f5f"
            },
            "type": "carpet"
           }
          ],
          "choropleth": [
           {
            "colorbar": {
             "outlinewidth": 0,
             "ticks": ""
            },
            "type": "choropleth"
           }
          ],
          "contour": [
           {
            "colorbar": {
             "outlinewidth": 0,
             "ticks": ""
            },
            "colorscale": [
             [
              0,
              "#0d0887"
             ],
             [
              0.1111111111111111,
              "#46039f"
             ],
             [
              0.2222222222222222,
              "#7201a8"
             ],
             [
              0.3333333333333333,
              "#9c179e"
             ],
             [
              0.4444444444444444,
              "#bd3786"
             ],
             [
              0.5555555555555556,
              "#d8576b"
             ],
             [
              0.6666666666666666,
              "#ed7953"
             ],
             [
              0.7777777777777778,
              "#fb9f3a"
             ],
             [
              0.8888888888888888,
              "#fdca26"
             ],
             [
              1,
              "#f0f921"
             ]
            ],
            "type": "contour"
           }
          ],
          "contourcarpet": [
           {
            "colorbar": {
             "outlinewidth": 0,
             "ticks": ""
            },
            "type": "contourcarpet"
           }
          ],
          "heatmap": [
           {
            "colorbar": {
             "outlinewidth": 0,
             "ticks": ""
            },
            "colorscale": [
             [
              0,
              "#0d0887"
             ],
             [
              0.1111111111111111,
              "#46039f"
             ],
             [
              0.2222222222222222,
              "#7201a8"
             ],
             [
              0.3333333333333333,
              "#9c179e"
             ],
             [
              0.4444444444444444,
              "#bd3786"
             ],
             [
              0.5555555555555556,
              "#d8576b"
             ],
             [
              0.6666666666666666,
              "#ed7953"
             ],
             [
              0.7777777777777778,
              "#fb9f3a"
             ],
             [
              0.8888888888888888,
              "#fdca26"
             ],
             [
              1,
              "#f0f921"
             ]
            ],
            "type": "heatmap"
           }
          ],
          "heatmapgl": [
           {
            "colorbar": {
             "outlinewidth": 0,
             "ticks": ""
            },
            "colorscale": [
             [
              0,
              "#0d0887"
             ],
             [
              0.1111111111111111,
              "#46039f"
             ],
             [
              0.2222222222222222,
              "#7201a8"
             ],
             [
              0.3333333333333333,
              "#9c179e"
             ],
             [
              0.4444444444444444,
              "#bd3786"
             ],
             [
              0.5555555555555556,
              "#d8576b"
             ],
             [
              0.6666666666666666,
              "#ed7953"
             ],
             [
              0.7777777777777778,
              "#fb9f3a"
             ],
             [
              0.8888888888888888,
              "#fdca26"
             ],
             [
              1,
              "#f0f921"
             ]
            ],
            "type": "heatmapgl"
           }
          ],
          "histogram": [
           {
            "marker": {
             "colorbar": {
              "outlinewidth": 0,
              "ticks": ""
             }
            },
            "type": "histogram"
           }
          ],
          "histogram2d": [
           {
            "colorbar": {
             "outlinewidth": 0,
             "ticks": ""
            },
            "colorscale": [
             [
              0,
              "#0d0887"
             ],
             [
              0.1111111111111111,
              "#46039f"
             ],
             [
              0.2222222222222222,
              "#7201a8"
             ],
             [
              0.3333333333333333,
              "#9c179e"
             ],
             [
              0.4444444444444444,
              "#bd3786"
             ],
             [
              0.5555555555555556,
              "#d8576b"
             ],
             [
              0.6666666666666666,
              "#ed7953"
             ],
             [
              0.7777777777777778,
              "#fb9f3a"
             ],
             [
              0.8888888888888888,
              "#fdca26"
             ],
             [
              1,
              "#f0f921"
             ]
            ],
            "type": "histogram2d"
           }
          ],
          "histogram2dcontour": [
           {
            "colorbar": {
             "outlinewidth": 0,
             "ticks": ""
            },
            "colorscale": [
             [
              0,
              "#0d0887"
             ],
             [
              0.1111111111111111,
              "#46039f"
             ],
             [
              0.2222222222222222,
              "#7201a8"
             ],
             [
              0.3333333333333333,
              "#9c179e"
             ],
             [
              0.4444444444444444,
              "#bd3786"
             ],
             [
              0.5555555555555556,
              "#d8576b"
             ],
             [
              0.6666666666666666,
              "#ed7953"
             ],
             [
              0.7777777777777778,
              "#fb9f3a"
             ],
             [
              0.8888888888888888,
              "#fdca26"
             ],
             [
              1,
              "#f0f921"
             ]
            ],
            "type": "histogram2dcontour"
           }
          ],
          "mesh3d": [
           {
            "colorbar": {
             "outlinewidth": 0,
             "ticks": ""
            },
            "type": "mesh3d"
           }
          ],
          "parcoords": [
           {
            "line": {
             "colorbar": {
              "outlinewidth": 0,
              "ticks": ""
             }
            },
            "type": "parcoords"
           }
          ],
          "pie": [
           {
            "automargin": true,
            "type": "pie"
           }
          ],
          "scatter": [
           {
            "marker": {
             "colorbar": {
              "outlinewidth": 0,
              "ticks": ""
             }
            },
            "type": "scatter"
           }
          ],
          "scatter3d": [
           {
            "line": {
             "colorbar": {
              "outlinewidth": 0,
              "ticks": ""
             }
            },
            "marker": {
             "colorbar": {
              "outlinewidth": 0,
              "ticks": ""
             }
            },
            "type": "scatter3d"
           }
          ],
          "scattercarpet": [
           {
            "marker": {
             "colorbar": {
              "outlinewidth": 0,
              "ticks": ""
             }
            },
            "type": "scattercarpet"
           }
          ],
          "scattergeo": [
           {
            "marker": {
             "colorbar": {
              "outlinewidth": 0,
              "ticks": ""
             }
            },
            "type": "scattergeo"
           }
          ],
          "scattergl": [
           {
            "marker": {
             "colorbar": {
              "outlinewidth": 0,
              "ticks": ""
             }
            },
            "type": "scattergl"
           }
          ],
          "scattermapbox": [
           {
            "marker": {
             "colorbar": {
              "outlinewidth": 0,
              "ticks": ""
             }
            },
            "type": "scattermapbox"
           }
          ],
          "scatterpolar": [
           {
            "marker": {
             "colorbar": {
              "outlinewidth": 0,
              "ticks": ""
             }
            },
            "type": "scatterpolar"
           }
          ],
          "scatterpolargl": [
           {
            "marker": {
             "colorbar": {
              "outlinewidth": 0,
              "ticks": ""
             }
            },
            "type": "scatterpolargl"
           }
          ],
          "scatterternary": [
           {
            "marker": {
             "colorbar": {
              "outlinewidth": 0,
              "ticks": ""
             }
            },
            "type": "scatterternary"
           }
          ],
          "surface": [
           {
            "colorbar": {
             "outlinewidth": 0,
             "ticks": ""
            },
            "colorscale": [
             [
              0,
              "#0d0887"
             ],
             [
              0.1111111111111111,
              "#46039f"
             ],
             [
              0.2222222222222222,
              "#7201a8"
             ],
             [
              0.3333333333333333,
              "#9c179e"
             ],
             [
              0.4444444444444444,
              "#bd3786"
             ],
             [
              0.5555555555555556,
              "#d8576b"
             ],
             [
              0.6666666666666666,
              "#ed7953"
             ],
             [
              0.7777777777777778,
              "#fb9f3a"
             ],
             [
              0.8888888888888888,
              "#fdca26"
             ],
             [
              1,
              "#f0f921"
             ]
            ],
            "type": "surface"
           }
          ],
          "table": [
           {
            "cells": {
             "fill": {
              "color": "#EBF0F8"
             },
             "line": {
              "color": "white"
             }
            },
            "header": {
             "fill": {
              "color": "#C8D4E3"
             },
             "line": {
              "color": "white"
             }
            },
            "type": "table"
           }
          ]
         },
         "layout": {
          "annotationdefaults": {
           "arrowcolor": "#2a3f5f",
           "arrowhead": 0,
           "arrowwidth": 1
          },
          "coloraxis": {
           "colorbar": {
            "outlinewidth": 0,
            "ticks": ""
           }
          },
          "colorscale": {
           "diverging": [
            [
             0,
             "#8e0152"
            ],
            [
             0.1,
             "#c51b7d"
            ],
            [
             0.2,
             "#de77ae"
            ],
            [
             0.3,
             "#f1b6da"
            ],
            [
             0.4,
             "#fde0ef"
            ],
            [
             0.5,
             "#f7f7f7"
            ],
            [
             0.6,
             "#e6f5d0"
            ],
            [
             0.7,
             "#b8e186"
            ],
            [
             0.8,
             "#7fbc41"
            ],
            [
             0.9,
             "#4d9221"
            ],
            [
             1,
             "#276419"
            ]
           ],
           "sequential": [
            [
             0,
             "#0d0887"
            ],
            [
             0.1111111111111111,
             "#46039f"
            ],
            [
             0.2222222222222222,
             "#7201a8"
            ],
            [
             0.3333333333333333,
             "#9c179e"
            ],
            [
             0.4444444444444444,
             "#bd3786"
            ],
            [
             0.5555555555555556,
             "#d8576b"
            ],
            [
             0.6666666666666666,
             "#ed7953"
            ],
            [
             0.7777777777777778,
             "#fb9f3a"
            ],
            [
             0.8888888888888888,
             "#fdca26"
            ],
            [
             1,
             "#f0f921"
            ]
           ],
           "sequentialminus": [
            [
             0,
             "#0d0887"
            ],
            [
             0.1111111111111111,
             "#46039f"
            ],
            [
             0.2222222222222222,
             "#7201a8"
            ],
            [
             0.3333333333333333,
             "#9c179e"
            ],
            [
             0.4444444444444444,
             "#bd3786"
            ],
            [
             0.5555555555555556,
             "#d8576b"
            ],
            [
             0.6666666666666666,
             "#ed7953"
            ],
            [
             0.7777777777777778,
             "#fb9f3a"
            ],
            [
             0.8888888888888888,
             "#fdca26"
            ],
            [
             1,
             "#f0f921"
            ]
           ]
          },
          "colorway": [
           "#636efa",
           "#EF553B",
           "#00cc96",
           "#ab63fa",
           "#FFA15A",
           "#19d3f3",
           "#FF6692",
           "#B6E880",
           "#FF97FF",
           "#FECB52"
          ],
          "font": {
           "color": "#2a3f5f"
          },
          "geo": {
           "bgcolor": "white",
           "lakecolor": "white",
           "landcolor": "#E5ECF6",
           "showlakes": true,
           "showland": true,
           "subunitcolor": "white"
          },
          "hoverlabel": {
           "align": "left"
          },
          "hovermode": "closest",
          "mapbox": {
           "style": "light"
          },
          "paper_bgcolor": "white",
          "plot_bgcolor": "#E5ECF6",
          "polar": {
           "angularaxis": {
            "gridcolor": "white",
            "linecolor": "white",
            "ticks": ""
           },
           "bgcolor": "#E5ECF6",
           "radialaxis": {
            "gridcolor": "white",
            "linecolor": "white",
            "ticks": ""
           }
          },
          "scene": {
           "xaxis": {
            "backgroundcolor": "#E5ECF6",
            "gridcolor": "white",
            "gridwidth": 2,
            "linecolor": "white",
            "showbackground": true,
            "ticks": "",
            "zerolinecolor": "white"
           },
           "yaxis": {
            "backgroundcolor": "#E5ECF6",
            "gridcolor": "white",
            "gridwidth": 2,
            "linecolor": "white",
            "showbackground": true,
            "ticks": "",
            "zerolinecolor": "white"
           },
           "zaxis": {
            "backgroundcolor": "#E5ECF6",
            "gridcolor": "white",
            "gridwidth": 2,
            "linecolor": "white",
            "showbackground": true,
            "ticks": "",
            "zerolinecolor": "white"
           }
          },
          "shapedefaults": {
           "line": {
            "color": "#2a3f5f"
           }
          },
          "ternary": {
           "aaxis": {
            "gridcolor": "white",
            "linecolor": "white",
            "ticks": ""
           },
           "baxis": {
            "gridcolor": "white",
            "linecolor": "white",
            "ticks": ""
           },
           "bgcolor": "#E5ECF6",
           "caxis": {
            "gridcolor": "white",
            "linecolor": "white",
            "ticks": ""
           }
          },
          "title": {
           "x": 0.05
          },
          "xaxis": {
           "automargin": true,
           "gridcolor": "white",
           "linecolor": "white",
           "ticks": "",
           "title": {
            "standoff": 15
           },
           "zerolinecolor": "white",
           "zerolinewidth": 2
          },
          "yaxis": {
           "automargin": true,
           "gridcolor": "white",
           "linecolor": "white",
           "ticks": "",
           "title": {
            "standoff": 15
           },
           "zerolinecolor": "white",
           "zerolinewidth": 2
          }
         }
        },
        "title": {
         "font": {
          "color": "#4D5663"
         }
        },
        "xaxis": {
         "gridcolor": "#E1E5ED",
         "showgrid": true,
         "tickfont": {
          "color": "#4D5663"
         },
         "title": {
          "font": {
           "color": "#4D5663"
          },
          "text": ""
         },
         "zerolinecolor": "#E1E5ED"
        },
        "yaxis": {
         "gridcolor": "#E1E5ED",
         "showgrid": true,
         "tickfont": {
          "color": "#4D5663"
         },
         "title": {
          "font": {
           "color": "#4D5663"
          },
          "text": ""
         },
         "zerolinecolor": "#E1E5ED"
        }
       }
      },
      "text/html": [
       "<div>\n",
       "        \n",
       "        \n",
       "            <div id=\"7dfe4b7e-f57f-4cb6-b052-70597ba6a0c3\" class=\"plotly-graph-div\" style=\"height:525px; width:100%;\"></div>\n",
       "            <script type=\"text/javascript\">\n",
       "                require([\"plotly\"], function(Plotly) {\n",
       "                    window.PLOTLYENV=window.PLOTLYENV || {};\n",
       "                    window.PLOTLYENV.BASE_URL='https://plot.ly';\n",
       "                    \n",
       "                if (document.getElementById(\"7dfe4b7e-f57f-4cb6-b052-70597ba6a0c3\")) {\n",
       "                    Plotly.newPlot(\n",
       "                        '7dfe4b7e-f57f-4cb6-b052-70597ba6a0c3',\n",
       "                        [{\"marker\": {\"color\": \"rgba(255, 153, 51, 0.6)\", \"line\": {\"color\": \"rgba(255, 153, 51, 1.0)\", \"width\": 1}}, \"name\": \"None\", \"orientation\": \"v\", \"text\": \"\", \"type\": \"bar\", \"x\": [\"A\", \"B\", \"C\", \"D\"], \"y\": [12.294533042071023, -4.8079081422664265, 9.28772945863995, -4.893692662939153]}],\n",
       "                        {\"legend\": {\"bgcolor\": \"#F5F6F9\", \"font\": {\"color\": \"#4D5663\"}}, \"paper_bgcolor\": \"#F5F6F9\", \"plot_bgcolor\": \"#F5F6F9\", \"template\": {\"data\": {\"bar\": [{\"error_x\": {\"color\": \"#2a3f5f\"}, \"error_y\": {\"color\": \"#2a3f5f\"}, \"marker\": {\"line\": {\"color\": \"#E5ECF6\", \"width\": 0.5}}, \"type\": \"bar\"}], \"barpolar\": [{\"marker\": {\"line\": {\"color\": \"#E5ECF6\", \"width\": 0.5}}, \"type\": \"barpolar\"}], \"carpet\": [{\"aaxis\": {\"endlinecolor\": \"#2a3f5f\", \"gridcolor\": \"white\", \"linecolor\": \"white\", \"minorgridcolor\": \"white\", \"startlinecolor\": \"#2a3f5f\"}, \"baxis\": {\"endlinecolor\": \"#2a3f5f\", \"gridcolor\": \"white\", \"linecolor\": \"white\", \"minorgridcolor\": \"white\", \"startlinecolor\": \"#2a3f5f\"}, \"type\": \"carpet\"}], \"choropleth\": [{\"colorbar\": {\"outlinewidth\": 0, \"ticks\": \"\"}, \"type\": \"choropleth\"}], \"contour\": [{\"colorbar\": {\"outlinewidth\": 0, \"ticks\": \"\"}, \"colorscale\": [[0.0, \"#0d0887\"], [0.1111111111111111, \"#46039f\"], [0.2222222222222222, \"#7201a8\"], [0.3333333333333333, \"#9c179e\"], [0.4444444444444444, \"#bd3786\"], [0.5555555555555556, \"#d8576b\"], [0.6666666666666666, \"#ed7953\"], [0.7777777777777778, \"#fb9f3a\"], [0.8888888888888888, \"#fdca26\"], [1.0, \"#f0f921\"]], \"type\": \"contour\"}], \"contourcarpet\": [{\"colorbar\": {\"outlinewidth\": 0, \"ticks\": \"\"}, \"type\": \"contourcarpet\"}], \"heatmap\": [{\"colorbar\": {\"outlinewidth\": 0, \"ticks\": \"\"}, \"colorscale\": [[0.0, \"#0d0887\"], [0.1111111111111111, \"#46039f\"], [0.2222222222222222, \"#7201a8\"], [0.3333333333333333, \"#9c179e\"], [0.4444444444444444, \"#bd3786\"], [0.5555555555555556, \"#d8576b\"], [0.6666666666666666, \"#ed7953\"], [0.7777777777777778, \"#fb9f3a\"], [0.8888888888888888, \"#fdca26\"], [1.0, \"#f0f921\"]], \"type\": \"heatmap\"}], \"heatmapgl\": [{\"colorbar\": {\"outlinewidth\": 0, \"ticks\": \"\"}, \"colorscale\": [[0.0, \"#0d0887\"], [0.1111111111111111, \"#46039f\"], [0.2222222222222222, \"#7201a8\"], [0.3333333333333333, \"#9c179e\"], [0.4444444444444444, \"#bd3786\"], [0.5555555555555556, \"#d8576b\"], [0.6666666666666666, \"#ed7953\"], [0.7777777777777778, \"#fb9f3a\"], [0.8888888888888888, \"#fdca26\"], [1.0, \"#f0f921\"]], \"type\": \"heatmapgl\"}], \"histogram\": [{\"marker\": {\"colorbar\": {\"outlinewidth\": 0, \"ticks\": \"\"}}, \"type\": \"histogram\"}], \"histogram2d\": [{\"colorbar\": {\"outlinewidth\": 0, \"ticks\": \"\"}, \"colorscale\": [[0.0, \"#0d0887\"], [0.1111111111111111, \"#46039f\"], [0.2222222222222222, \"#7201a8\"], [0.3333333333333333, \"#9c179e\"], [0.4444444444444444, \"#bd3786\"], [0.5555555555555556, \"#d8576b\"], [0.6666666666666666, \"#ed7953\"], [0.7777777777777778, \"#fb9f3a\"], [0.8888888888888888, \"#fdca26\"], [1.0, \"#f0f921\"]], \"type\": \"histogram2d\"}], \"histogram2dcontour\": [{\"colorbar\": {\"outlinewidth\": 0, \"ticks\": \"\"}, \"colorscale\": [[0.0, \"#0d0887\"], [0.1111111111111111, \"#46039f\"], [0.2222222222222222, \"#7201a8\"], [0.3333333333333333, \"#9c179e\"], [0.4444444444444444, \"#bd3786\"], [0.5555555555555556, \"#d8576b\"], [0.6666666666666666, \"#ed7953\"], [0.7777777777777778, \"#fb9f3a\"], [0.8888888888888888, \"#fdca26\"], [1.0, \"#f0f921\"]], \"type\": \"histogram2dcontour\"}], \"mesh3d\": [{\"colorbar\": {\"outlinewidth\": 0, \"ticks\": \"\"}, \"type\": \"mesh3d\"}], \"parcoords\": [{\"line\": {\"colorbar\": {\"outlinewidth\": 0, \"ticks\": \"\"}}, \"type\": \"parcoords\"}], \"pie\": [{\"automargin\": true, \"type\": \"pie\"}], \"scatter\": [{\"marker\": {\"colorbar\": {\"outlinewidth\": 0, \"ticks\": \"\"}}, \"type\": \"scatter\"}], \"scatter3d\": [{\"line\": {\"colorbar\": {\"outlinewidth\": 0, \"ticks\": \"\"}}, \"marker\": {\"colorbar\": {\"outlinewidth\": 0, \"ticks\": \"\"}}, \"type\": \"scatter3d\"}], \"scattercarpet\": [{\"marker\": {\"colorbar\": {\"outlinewidth\": 0, \"ticks\": \"\"}}, \"type\": \"scattercarpet\"}], \"scattergeo\": [{\"marker\": {\"colorbar\": {\"outlinewidth\": 0, \"ticks\": \"\"}}, \"type\": \"scattergeo\"}], \"scattergl\": [{\"marker\": {\"colorbar\": {\"outlinewidth\": 0, \"ticks\": \"\"}}, \"type\": \"scattergl\"}], \"scattermapbox\": [{\"marker\": {\"colorbar\": {\"outlinewidth\": 0, \"ticks\": \"\"}}, \"type\": \"scattermapbox\"}], \"scatterpolar\": [{\"marker\": {\"colorbar\": {\"outlinewidth\": 0, \"ticks\": \"\"}}, \"type\": \"scatterpolar\"}], \"scatterpolargl\": [{\"marker\": {\"colorbar\": {\"outlinewidth\": 0, \"ticks\": \"\"}}, \"type\": \"scatterpolargl\"}], \"scatterternary\": [{\"marker\": {\"colorbar\": {\"outlinewidth\": 0, \"ticks\": \"\"}}, \"type\": \"scatterternary\"}], \"surface\": [{\"colorbar\": {\"outlinewidth\": 0, \"ticks\": \"\"}, \"colorscale\": [[0.0, \"#0d0887\"], [0.1111111111111111, \"#46039f\"], [0.2222222222222222, \"#7201a8\"], [0.3333333333333333, \"#9c179e\"], [0.4444444444444444, \"#bd3786\"], [0.5555555555555556, \"#d8576b\"], [0.6666666666666666, \"#ed7953\"], [0.7777777777777778, \"#fb9f3a\"], [0.8888888888888888, \"#fdca26\"], [1.0, \"#f0f921\"]], \"type\": \"surface\"}], \"table\": [{\"cells\": {\"fill\": {\"color\": \"#EBF0F8\"}, \"line\": {\"color\": \"white\"}}, \"header\": {\"fill\": {\"color\": \"#C8D4E3\"}, \"line\": {\"color\": \"white\"}}, \"type\": \"table\"}]}, \"layout\": {\"annotationdefaults\": {\"arrowcolor\": \"#2a3f5f\", \"arrowhead\": 0, \"arrowwidth\": 1}, \"coloraxis\": {\"colorbar\": {\"outlinewidth\": 0, \"ticks\": \"\"}}, \"colorscale\": {\"diverging\": [[0, \"#8e0152\"], [0.1, \"#c51b7d\"], [0.2, \"#de77ae\"], [0.3, \"#f1b6da\"], [0.4, \"#fde0ef\"], [0.5, \"#f7f7f7\"], [0.6, \"#e6f5d0\"], [0.7, \"#b8e186\"], [0.8, \"#7fbc41\"], [0.9, \"#4d9221\"], [1, \"#276419\"]], \"sequential\": [[0.0, \"#0d0887\"], [0.1111111111111111, \"#46039f\"], [0.2222222222222222, \"#7201a8\"], [0.3333333333333333, \"#9c179e\"], [0.4444444444444444, \"#bd3786\"], [0.5555555555555556, \"#d8576b\"], [0.6666666666666666, \"#ed7953\"], [0.7777777777777778, \"#fb9f3a\"], [0.8888888888888888, \"#fdca26\"], [1.0, \"#f0f921\"]], \"sequentialminus\": [[0.0, \"#0d0887\"], [0.1111111111111111, \"#46039f\"], [0.2222222222222222, \"#7201a8\"], [0.3333333333333333, \"#9c179e\"], [0.4444444444444444, \"#bd3786\"], [0.5555555555555556, \"#d8576b\"], [0.6666666666666666, \"#ed7953\"], [0.7777777777777778, \"#fb9f3a\"], [0.8888888888888888, \"#fdca26\"], [1.0, \"#f0f921\"]]}, \"colorway\": [\"#636efa\", \"#EF553B\", \"#00cc96\", \"#ab63fa\", \"#FFA15A\", \"#19d3f3\", \"#FF6692\", \"#B6E880\", \"#FF97FF\", \"#FECB52\"], \"font\": {\"color\": \"#2a3f5f\"}, \"geo\": {\"bgcolor\": \"white\", \"lakecolor\": \"white\", \"landcolor\": \"#E5ECF6\", \"showlakes\": true, \"showland\": true, \"subunitcolor\": \"white\"}, \"hoverlabel\": {\"align\": \"left\"}, \"hovermode\": \"closest\", \"mapbox\": {\"style\": \"light\"}, \"paper_bgcolor\": \"white\", \"plot_bgcolor\": \"#E5ECF6\", \"polar\": {\"angularaxis\": {\"gridcolor\": \"white\", \"linecolor\": \"white\", \"ticks\": \"\"}, \"bgcolor\": \"#E5ECF6\", \"radialaxis\": {\"gridcolor\": \"white\", \"linecolor\": \"white\", \"ticks\": \"\"}}, \"scene\": {\"xaxis\": {\"backgroundcolor\": \"#E5ECF6\", \"gridcolor\": \"white\", \"gridwidth\": 2, \"linecolor\": \"white\", \"showbackground\": true, \"ticks\": \"\", \"zerolinecolor\": \"white\"}, \"yaxis\": {\"backgroundcolor\": \"#E5ECF6\", \"gridcolor\": \"white\", \"gridwidth\": 2, \"linecolor\": \"white\", \"showbackground\": true, \"ticks\": \"\", \"zerolinecolor\": \"white\"}, \"zaxis\": {\"backgroundcolor\": \"#E5ECF6\", \"gridcolor\": \"white\", \"gridwidth\": 2, \"linecolor\": \"white\", \"showbackground\": true, \"ticks\": \"\", \"zerolinecolor\": \"white\"}}, \"shapedefaults\": {\"line\": {\"color\": \"#2a3f5f\"}}, \"ternary\": {\"aaxis\": {\"gridcolor\": \"white\", \"linecolor\": \"white\", \"ticks\": \"\"}, \"baxis\": {\"gridcolor\": \"white\", \"linecolor\": \"white\", \"ticks\": \"\"}, \"bgcolor\": \"#E5ECF6\", \"caxis\": {\"gridcolor\": \"white\", \"linecolor\": \"white\", \"ticks\": \"\"}}, \"title\": {\"x\": 0.05}, \"xaxis\": {\"automargin\": true, \"gridcolor\": \"white\", \"linecolor\": \"white\", \"ticks\": \"\", \"title\": {\"standoff\": 15}, \"zerolinecolor\": \"white\", \"zerolinewidth\": 2}, \"yaxis\": {\"automargin\": true, \"gridcolor\": \"white\", \"linecolor\": \"white\", \"ticks\": \"\", \"title\": {\"standoff\": 15}, \"zerolinecolor\": \"white\", \"zerolinewidth\": 2}}}, \"title\": {\"font\": {\"color\": \"#4D5663\"}}, \"xaxis\": {\"gridcolor\": \"#E1E5ED\", \"showgrid\": true, \"tickfont\": {\"color\": \"#4D5663\"}, \"title\": {\"font\": {\"color\": \"#4D5663\"}, \"text\": \"\"}, \"zerolinecolor\": \"#E1E5ED\"}, \"yaxis\": {\"gridcolor\": \"#E1E5ED\", \"showgrid\": true, \"tickfont\": {\"color\": \"#4D5663\"}, \"title\": {\"font\": {\"color\": \"#4D5663\"}, \"text\": \"\"}, \"zerolinecolor\": \"#E1E5ED\"}},\n",
       "                        {\"showLink\": true, \"linkText\": \"Export to plot.ly\", \"plotlyServerURL\": \"https://plot.ly\", \"responsive\": true}\n",
       "                    ).then(function(){\n",
       "                            \n",
       "var gd = document.getElementById('7dfe4b7e-f57f-4cb6-b052-70597ba6a0c3');\n",
       "var x = new MutationObserver(function (mutations, observer) {{\n",
       "        var display = window.getComputedStyle(gd).display;\n",
       "        if (!display || display === 'none') {{\n",
       "            console.log([gd, 'removed!']);\n",
       "            Plotly.purge(gd);\n",
       "            observer.disconnect();\n",
       "        }}\n",
       "}});\n",
       "\n",
       "// Listen for the removal of the full notebook cells\n",
       "var notebookContainer = gd.closest('#notebook-container');\n",
       "if (notebookContainer) {{\n",
       "    x.observe(notebookContainer, {childList: true});\n",
       "}}\n",
       "\n",
       "// Listen for the clearing of the current output cell\n",
       "var outputEl = gd.closest('.output');\n",
       "if (outputEl) {{\n",
       "    x.observe(outputEl, {childList: true});\n",
       "}}\n",
       "\n",
       "                        })\n",
       "                };\n",
       "                });\n",
       "            </script>\n",
       "        </div>"
      ]
     },
     "metadata": {},
     "output_type": "display_data"
    }
   ],
   "source": [
    "df.sum().iplot(kind='bar')"
   ]
  },
  {
   "cell_type": "markdown",
   "metadata": {},
   "source": [
    "**Gráficos de Boxplots**"
   ]
  },
  {
   "cell_type": "code",
   "execution_count": 17,
   "metadata": {},
   "outputs": [
    {
     "data": {
      "application/vnd.plotly.v1+json": {
       "config": {
        "linkText": "Export to plot.ly",
        "plotlyServerURL": "https://plot.ly",
        "showLink": true
       },
       "data": [
        {
         "boxpoints": false,
         "line": {
          "width": 1.3
         },
         "marker": {
          "color": "rgba(255, 153, 51, 1.0)"
         },
         "name": "A",
         "orientation": "v",
         "type": "box",
         "y": [
          -2.2330045307590853,
          -0.9521908995974245,
          0.27846606978193117,
          -0.7497430396641565,
          -0.8956342510414951,
          -0.2701922755157396,
          0.13378854729598888,
          -0.10139493386630462,
          2.4089945148153924,
          2.2798960353709634,
          1.536776871530047,
          -0.4738067773638204,
          0.3895763004483561,
          -0.44813497414482384,
          -0.04272139930867001,
          1.8607472786609707,
          -0.6439882932495113,
          1.2582962916443727,
          -1.204805217634797,
          -0.1429158275301282,
          1.1677493616360861,
          -2.6530884634429985,
          -0.9403827018208064,
          0.1496396817935744,
          0.04470276113270573,
          -0.7319557334866961,
          0.5233737734533389,
          -0.4409303064263165,
          -0.5833238720623664,
          0.25649916497690095,
          -0.30081158546772635,
          0.07975881141571715,
          -2.090321583607134,
          -0.8712175959679449,
          -0.6931394651239492,
          -0.8218402617535678,
          1.4418250131499333,
          0.3751607269805806,
          1.2314240010401805,
          0.4199928878005679,
          -0.1554548985369435,
          1.8868088114432202,
          -0.694422411044866,
          1.1436083825779144,
          0.7624519963607965,
          -0.2482247596359065,
          1.4414688130029367,
          0.22035610962969224,
          0.2950496995083218,
          -0.0002316334366230875,
          1.2896860527248302,
          1.1265104298484678,
          -0.0036286696037859285,
          -0.826340568102362,
          -1.018582405591517,
          -1.291063854400129,
          -0.19008683392694992,
          -0.763872927674939,
          2.0959738808836414,
          2.130647594088596,
          2.224539281704161,
          1.1940475375397548,
          -0.7876803121312159,
          0.969667697580649,
          0.9493233327045774,
          -0.044403311331418185,
          0.3895596700750885,
          -0.014452893562845948,
          -0.6968071801779312,
          0.1614108555208764,
          -0.12276024863235002,
          -0.8370581648026316,
          -0.24705922180806691,
          -0.10403134026483714,
          -1.4284743931846275,
          0.3535476401056677,
          -0.10544217505192499,
          1.6963828925675466,
          0.5915873562228502,
          0.9907707442218054,
          0.7428977212707456,
          -0.07200887621832967,
          0.00017457906821124856,
          0.013110631310684354,
          1.9240017540561096,
          -0.4264462466703405,
          0.16219704052654055,
          0.4697559969879681,
          1.0060845122288846,
          0.7676496704361507,
          -0.9161171095812846,
          -1.624314104246879,
          -0.9527835783780093,
          -0.17739704862730749,
          1.0650077734242744,
          0.43385923873565196,
          1.6979048817374556,
          -1.853810177762625,
          0.9776180877321272,
          -0.8272963834606755
         ]
        },
        {
         "boxpoints": false,
         "line": {
          "width": 1.3
         },
         "marker": {
          "color": "rgba(55, 128, 191, 1.0)"
         },
         "name": "B",
         "orientation": "v",
         "type": "box",
         "y": [
          -0.9234838055280741,
          0.1837906133650663,
          0.9549006334057075,
          -0.8172743696437627,
          0.3174431081329297,
          0.21808918953745687,
          0.6815729465243698,
          -0.262815565993623,
          0.0013540987106652831,
          -0.27062784691556646,
          -0.8728212153054438,
          -0.6131662144165188,
          0.8217767277509427,
          -0.37803366564505864,
          -0.38120900740011365,
          0.615824227870488,
          -0.3479271621381179,
          -0.14022948149868633,
          0.4715134428149978,
          -1.3875270322229551,
          2.291695981953175,
          -0.4233067765902022,
          -0.4010460654069656,
          1.4953409235326716,
          0.055794820889501835,
          1.1085643506927436,
          -0.34084079925276806,
          -0.04448454401577478,
          -0.7068197188417409,
          -0.28196538329893095,
          0.35645508606988024,
          -1.9319911284139681,
          0.30676889430031434,
          1.0195069345873582,
          0.5815106975487212,
          0.6675437405444582,
          -1.451462224194573,
          1.7537992807886817,
          -0.5223131305426536,
          -2.0899011210520055,
          -1.1868763568302543,
          -1.654932061201535,
          -1.6874933947593838,
          -1.2156525913674665,
          1.6794846829271606,
          0.7092856518073,
          0.6629875673201554,
          -0.6411635757117996,
          -1.1881576800789335,
          -1.160918932012118,
          -0.014452385012939719,
          -0.8158088796870766,
          -1.112112811778674,
          -0.4134909737727676,
          0.7679354852691683,
          -0.5288693699646896,
          0.966238933639739,
          0.5428284262688382,
          -0.8993016610838763,
          1.9686623433577968,
          -1.1099790369124423,
          -0.7148053007009889,
          -0.05035305723891644,
          -0.2825442564032258,
          0.6220386837974622,
          -0.02607398992073639,
          -0.12904032210431582,
          -0.4462530044659881,
          1.0919323927621174,
          -0.2838491101268597,
          0.8898082348209791,
          -0.05344663510556132,
          0.6764322455699061,
          2.110521685528398,
          -0.9540742926640376,
          -0.0709709220358443,
          -0.05552091480298457,
          0.49519307651171957,
          -0.47214686334867095,
          -0.43038367094404784,
          -0.5262311656239208,
          0.41668007402483337,
          -0.46314704835682,
          1.1978416309836064,
          0.06945342626551727,
          0.2852068613579216,
          -0.9260930337101595,
          -1.299229452656461,
          -0.01752394800048146,
          1.333737866854547,
          -1.0027996183786698,
          1.3712373857073232,
          -1.3929633493161442,
          -2.003173109247321,
          -0.5638422495748624,
          -0.08713154635704083,
          0.7826639766427661,
          1.6599223202958147,
          1.8225331731889711,
          -0.3637271366130778
         ]
        },
        {
         "boxpoints": false,
         "line": {
          "width": 1.3
         },
         "marker": {
          "color": "rgba(50, 171, 96, 1.0)"
         },
         "name": "C",
         "orientation": "v",
         "type": "box",
         "y": [
          0.2755716670365263,
          -1.4107567274282897,
          0.6541175742867782,
          1.9674690515547126,
          1.256596339268459,
          0.523856596662497,
          -0.8969265311525533,
          0.3244140138558535,
          -0.9950241003805131,
          0.010323270077411526,
          -0.4081624657415359,
          0.856972738882899,
          0.04068662059895318,
          -1.2944868481985685,
          -0.9619587879235344,
          -1.2789542109730379,
          -0.9026009083226586,
          -0.30943964771853477,
          1.4669276807914478,
          2.1886965346332614,
          -0.7853005063471961,
          -1.7956697006953894,
          -1.561114867168884,
          -0.14455531064454316,
          0.4097967940659489,
          0.027689805529984155,
          -0.8497038505348563,
          1.8046874328359785,
          0.7071894503644003,
          1.213741530303425,
          -1.0343725538212367,
          0.22659112518910376,
          -1.1486822151076266,
          0.9966989811826483,
          0.4142349713487508,
          1.0253873908752684,
          -0.6344711510801252,
          0.2736544613480108,
          0.10304790113170942,
          -0.03298524733362019,
          0.5935028001089265,
          0.4838846773154546,
          0.8732381580494233,
          1.4128524795674415,
          0.08490496568549535,
          0.050290802392600024,
          -0.46573622578532187,
          0.18929328771708429,
          0.022354739248472047,
          0.18032179012293742,
          -0.5383926430861103,
          0.6349278683681299,
          0.7460618503587655,
          0.6143492711346112,
          1.1800052422773377,
          -0.4317198762713371,
          -0.39825819636098175,
          0.020492888094452415,
          0.26054148974539326,
          0.35542164302954893,
          -0.09632068069538566,
          1.1880737687482943,
          0.7622480573510461,
          -0.12954313804362508,
          0.6448810312697735,
          0.14237852278024538,
          -1.254266568431477,
          -0.4390979624690971,
          -0.7899958009345055,
          -0.30993485012088473,
          0.6722028469700168,
          -0.7823208404463984,
          0.5862555713819035,
          1.2177004118684112,
          1.587168629736668,
          0.43377784098629774,
          0.2796177411902997,
          0.8470418963750924,
          0.3360985288016682,
          0.9208215794336971,
          0.002407301316962099,
          0.00458636300942406,
          0.9329535515195241,
          -0.7517379185041624,
          1.1400847378001369,
          -1.9844115112198117,
          1.268566939128557,
          -0.0334254762745057,
          -1.6953738158116232,
          -0.8040408315832263,
          0.016360777148160116,
          0.41731413370847836,
          -0.38523140506373255,
          1.2970812498450508,
          -2.236660366102504,
          -0.5882604503630262,
          -0.2731599067897886,
          -0.29682518018130133,
          0.6461631547594263,
          0.60302821358222
         ]
        },
        {
         "boxpoints": false,
         "line": {
          "width": 1.3
         },
         "marker": {
          "color": "rgba(128, 0, 128, 1.0)"
         },
         "name": "D",
         "orientation": "v",
         "type": "box",
         "y": [
          0.3643930281255974,
          0.15026292366620095,
          1.2187222278603946,
          -0.8659906012809404,
          0.6004784913268533,
          -1.0589820545230748,
          -1.5683314423426904,
          -1.6539365309773515,
          0.12136885230734451,
          1.769195740544522,
          -0.34786923195499164,
          -0.5611026339790515,
          1.884395043792925,
          0.10554293170215406,
          -0.6971983382812603,
          0.7833018925568376,
          -2.300638357051978,
          -1.3172806218596724,
          -0.04373228510009631,
          -1.2671251518663433,
          1.3682141073747136,
          0.1758901613320038,
          0.4131184697361528,
          -0.13307235755723854,
          -0.09343541524988579,
          -0.23793992896567595,
          0.37511476141478445,
          1.5348806704194566,
          -0.9690143836986986,
          -0.4361298995213377,
          0.11884415029697731,
          0.7053708211848962,
          -1.170756619547385,
          0.12391062586154639,
          -1.775733651033394,
          -1.7025147144806678,
          0.24120216357934682,
          -0.05909560823662816,
          0.6990921904976213,
          -1.2551961134773182,
          -0.190020144313903,
          -1.2001001024950408,
          0.6274370541851635,
          0.5015803990467228,
          1.7377383170505403,
          0.7669569890905374,
          -0.591194403818167,
          -1.184929573922818,
          -0.09713963731436984,
          2.2273843627971575,
          -1.2140642939832837,
          -0.726190654922945,
          0.21963148157113957,
          -0.2669805745888528,
          -0.767942069013212,
          -0.1521855580871152,
          -0.3904159798584094,
          1.2739452686099946,
          0.36218314088967013,
          0.11030818464201156,
          1.9268791207613563,
          0.5487869697256245,
          -0.9762768663466627,
          1.3932777236238698,
          0.7258730775669255,
          -1.94063820760366,
          -0.5616258682969569,
          -1.045963556303688,
          -0.046928354294379034,
          -0.6985230840516604,
          -0.09137824514435089,
          0.11975928366817555,
          0.5719600766112413,
          -0.5602018420934456,
          -1.3733210357679502,
          0.930729614688202,
          -1.2865839708266649,
          0.24263820697068555,
          -0.6503235979872184,
          0.9780605553222481,
          0.2058777005882192,
          -0.08601947943729862,
          0.4341754032068352,
          -0.836596194783516,
          -0.5578839609069209,
          -0.5134003010550453,
          0.2902632694148725,
          -2.69040970394117,
          0.9976251276467392,
          1.5258496506679962,
          -0.09914102682089235,
          -1.2196458165465838,
          1.8644668321972602,
          1.0079481290352872,
          -0.4500239322508063,
          0.8962399016639363,
          -0.37922022639110614,
          0.2181399664309546,
          -0.12843420402850228,
          2.1360706839894226
         ]
        }
       ],
       "layout": {
        "legend": {
         "bgcolor": "#F5F6F9",
         "font": {
          "color": "#4D5663"
         }
        },
        "paper_bgcolor": "#F5F6F9",
        "plot_bgcolor": "#F5F6F9",
        "template": {
         "data": {
          "bar": [
           {
            "error_x": {
             "color": "#2a3f5f"
            },
            "error_y": {
             "color": "#2a3f5f"
            },
            "marker": {
             "line": {
              "color": "#E5ECF6",
              "width": 0.5
             }
            },
            "type": "bar"
           }
          ],
          "barpolar": [
           {
            "marker": {
             "line": {
              "color": "#E5ECF6",
              "width": 0.5
             }
            },
            "type": "barpolar"
           }
          ],
          "carpet": [
           {
            "aaxis": {
             "endlinecolor": "#2a3f5f",
             "gridcolor": "white",
             "linecolor": "white",
             "minorgridcolor": "white",
             "startlinecolor": "#2a3f5f"
            },
            "baxis": {
             "endlinecolor": "#2a3f5f",
             "gridcolor": "white",
             "linecolor": "white",
             "minorgridcolor": "white",
             "startlinecolor": "#2a3f5f"
            },
            "type": "carpet"
           }
          ],
          "choropleth": [
           {
            "colorbar": {
             "outlinewidth": 0,
             "ticks": ""
            },
            "type": "choropleth"
           }
          ],
          "contour": [
           {
            "colorbar": {
             "outlinewidth": 0,
             "ticks": ""
            },
            "colorscale": [
             [
              0,
              "#0d0887"
             ],
             [
              0.1111111111111111,
              "#46039f"
             ],
             [
              0.2222222222222222,
              "#7201a8"
             ],
             [
              0.3333333333333333,
              "#9c179e"
             ],
             [
              0.4444444444444444,
              "#bd3786"
             ],
             [
              0.5555555555555556,
              "#d8576b"
             ],
             [
              0.6666666666666666,
              "#ed7953"
             ],
             [
              0.7777777777777778,
              "#fb9f3a"
             ],
             [
              0.8888888888888888,
              "#fdca26"
             ],
             [
              1,
              "#f0f921"
             ]
            ],
            "type": "contour"
           }
          ],
          "contourcarpet": [
           {
            "colorbar": {
             "outlinewidth": 0,
             "ticks": ""
            },
            "type": "contourcarpet"
           }
          ],
          "heatmap": [
           {
            "colorbar": {
             "outlinewidth": 0,
             "ticks": ""
            },
            "colorscale": [
             [
              0,
              "#0d0887"
             ],
             [
              0.1111111111111111,
              "#46039f"
             ],
             [
              0.2222222222222222,
              "#7201a8"
             ],
             [
              0.3333333333333333,
              "#9c179e"
             ],
             [
              0.4444444444444444,
              "#bd3786"
             ],
             [
              0.5555555555555556,
              "#d8576b"
             ],
             [
              0.6666666666666666,
              "#ed7953"
             ],
             [
              0.7777777777777778,
              "#fb9f3a"
             ],
             [
              0.8888888888888888,
              "#fdca26"
             ],
             [
              1,
              "#f0f921"
             ]
            ],
            "type": "heatmap"
           }
          ],
          "heatmapgl": [
           {
            "colorbar": {
             "outlinewidth": 0,
             "ticks": ""
            },
            "colorscale": [
             [
              0,
              "#0d0887"
             ],
             [
              0.1111111111111111,
              "#46039f"
             ],
             [
              0.2222222222222222,
              "#7201a8"
             ],
             [
              0.3333333333333333,
              "#9c179e"
             ],
             [
              0.4444444444444444,
              "#bd3786"
             ],
             [
              0.5555555555555556,
              "#d8576b"
             ],
             [
              0.6666666666666666,
              "#ed7953"
             ],
             [
              0.7777777777777778,
              "#fb9f3a"
             ],
             [
              0.8888888888888888,
              "#fdca26"
             ],
             [
              1,
              "#f0f921"
             ]
            ],
            "type": "heatmapgl"
           }
          ],
          "histogram": [
           {
            "marker": {
             "colorbar": {
              "outlinewidth": 0,
              "ticks": ""
             }
            },
            "type": "histogram"
           }
          ],
          "histogram2d": [
           {
            "colorbar": {
             "outlinewidth": 0,
             "ticks": ""
            },
            "colorscale": [
             [
              0,
              "#0d0887"
             ],
             [
              0.1111111111111111,
              "#46039f"
             ],
             [
              0.2222222222222222,
              "#7201a8"
             ],
             [
              0.3333333333333333,
              "#9c179e"
             ],
             [
              0.4444444444444444,
              "#bd3786"
             ],
             [
              0.5555555555555556,
              "#d8576b"
             ],
             [
              0.6666666666666666,
              "#ed7953"
             ],
             [
              0.7777777777777778,
              "#fb9f3a"
             ],
             [
              0.8888888888888888,
              "#fdca26"
             ],
             [
              1,
              "#f0f921"
             ]
            ],
            "type": "histogram2d"
           }
          ],
          "histogram2dcontour": [
           {
            "colorbar": {
             "outlinewidth": 0,
             "ticks": ""
            },
            "colorscale": [
             [
              0,
              "#0d0887"
             ],
             [
              0.1111111111111111,
              "#46039f"
             ],
             [
              0.2222222222222222,
              "#7201a8"
             ],
             [
              0.3333333333333333,
              "#9c179e"
             ],
             [
              0.4444444444444444,
              "#bd3786"
             ],
             [
              0.5555555555555556,
              "#d8576b"
             ],
             [
              0.6666666666666666,
              "#ed7953"
             ],
             [
              0.7777777777777778,
              "#fb9f3a"
             ],
             [
              0.8888888888888888,
              "#fdca26"
             ],
             [
              1,
              "#f0f921"
             ]
            ],
            "type": "histogram2dcontour"
           }
          ],
          "mesh3d": [
           {
            "colorbar": {
             "outlinewidth": 0,
             "ticks": ""
            },
            "type": "mesh3d"
           }
          ],
          "parcoords": [
           {
            "line": {
             "colorbar": {
              "outlinewidth": 0,
              "ticks": ""
             }
            },
            "type": "parcoords"
           }
          ],
          "pie": [
           {
            "automargin": true,
            "type": "pie"
           }
          ],
          "scatter": [
           {
            "marker": {
             "colorbar": {
              "outlinewidth": 0,
              "ticks": ""
             }
            },
            "type": "scatter"
           }
          ],
          "scatter3d": [
           {
            "line": {
             "colorbar": {
              "outlinewidth": 0,
              "ticks": ""
             }
            },
            "marker": {
             "colorbar": {
              "outlinewidth": 0,
              "ticks": ""
             }
            },
            "type": "scatter3d"
           }
          ],
          "scattercarpet": [
           {
            "marker": {
             "colorbar": {
              "outlinewidth": 0,
              "ticks": ""
             }
            },
            "type": "scattercarpet"
           }
          ],
          "scattergeo": [
           {
            "marker": {
             "colorbar": {
              "outlinewidth": 0,
              "ticks": ""
             }
            },
            "type": "scattergeo"
           }
          ],
          "scattergl": [
           {
            "marker": {
             "colorbar": {
              "outlinewidth": 0,
              "ticks": ""
             }
            },
            "type": "scattergl"
           }
          ],
          "scattermapbox": [
           {
            "marker": {
             "colorbar": {
              "outlinewidth": 0,
              "ticks": ""
             }
            },
            "type": "scattermapbox"
           }
          ],
          "scatterpolar": [
           {
            "marker": {
             "colorbar": {
              "outlinewidth": 0,
              "ticks": ""
             }
            },
            "type": "scatterpolar"
           }
          ],
          "scatterpolargl": [
           {
            "marker": {
             "colorbar": {
              "outlinewidth": 0,
              "ticks": ""
             }
            },
            "type": "scatterpolargl"
           }
          ],
          "scatterternary": [
           {
            "marker": {
             "colorbar": {
              "outlinewidth": 0,
              "ticks": ""
             }
            },
            "type": "scatterternary"
           }
          ],
          "surface": [
           {
            "colorbar": {
             "outlinewidth": 0,
             "ticks": ""
            },
            "colorscale": [
             [
              0,
              "#0d0887"
             ],
             [
              0.1111111111111111,
              "#46039f"
             ],
             [
              0.2222222222222222,
              "#7201a8"
             ],
             [
              0.3333333333333333,
              "#9c179e"
             ],
             [
              0.4444444444444444,
              "#bd3786"
             ],
             [
              0.5555555555555556,
              "#d8576b"
             ],
             [
              0.6666666666666666,
              "#ed7953"
             ],
             [
              0.7777777777777778,
              "#fb9f3a"
             ],
             [
              0.8888888888888888,
              "#fdca26"
             ],
             [
              1,
              "#f0f921"
             ]
            ],
            "type": "surface"
           }
          ],
          "table": [
           {
            "cells": {
             "fill": {
              "color": "#EBF0F8"
             },
             "line": {
              "color": "white"
             }
            },
            "header": {
             "fill": {
              "color": "#C8D4E3"
             },
             "line": {
              "color": "white"
             }
            },
            "type": "table"
           }
          ]
         },
         "layout": {
          "annotationdefaults": {
           "arrowcolor": "#2a3f5f",
           "arrowhead": 0,
           "arrowwidth": 1
          },
          "coloraxis": {
           "colorbar": {
            "outlinewidth": 0,
            "ticks": ""
           }
          },
          "colorscale": {
           "diverging": [
            [
             0,
             "#8e0152"
            ],
            [
             0.1,
             "#c51b7d"
            ],
            [
             0.2,
             "#de77ae"
            ],
            [
             0.3,
             "#f1b6da"
            ],
            [
             0.4,
             "#fde0ef"
            ],
            [
             0.5,
             "#f7f7f7"
            ],
            [
             0.6,
             "#e6f5d0"
            ],
            [
             0.7,
             "#b8e186"
            ],
            [
             0.8,
             "#7fbc41"
            ],
            [
             0.9,
             "#4d9221"
            ],
            [
             1,
             "#276419"
            ]
           ],
           "sequential": [
            [
             0,
             "#0d0887"
            ],
            [
             0.1111111111111111,
             "#46039f"
            ],
            [
             0.2222222222222222,
             "#7201a8"
            ],
            [
             0.3333333333333333,
             "#9c179e"
            ],
            [
             0.4444444444444444,
             "#bd3786"
            ],
            [
             0.5555555555555556,
             "#d8576b"
            ],
            [
             0.6666666666666666,
             "#ed7953"
            ],
            [
             0.7777777777777778,
             "#fb9f3a"
            ],
            [
             0.8888888888888888,
             "#fdca26"
            ],
            [
             1,
             "#f0f921"
            ]
           ],
           "sequentialminus": [
            [
             0,
             "#0d0887"
            ],
            [
             0.1111111111111111,
             "#46039f"
            ],
            [
             0.2222222222222222,
             "#7201a8"
            ],
            [
             0.3333333333333333,
             "#9c179e"
            ],
            [
             0.4444444444444444,
             "#bd3786"
            ],
            [
             0.5555555555555556,
             "#d8576b"
            ],
            [
             0.6666666666666666,
             "#ed7953"
            ],
            [
             0.7777777777777778,
             "#fb9f3a"
            ],
            [
             0.8888888888888888,
             "#fdca26"
            ],
            [
             1,
             "#f0f921"
            ]
           ]
          },
          "colorway": [
           "#636efa",
           "#EF553B",
           "#00cc96",
           "#ab63fa",
           "#FFA15A",
           "#19d3f3",
           "#FF6692",
           "#B6E880",
           "#FF97FF",
           "#FECB52"
          ],
          "font": {
           "color": "#2a3f5f"
          },
          "geo": {
           "bgcolor": "white",
           "lakecolor": "white",
           "landcolor": "#E5ECF6",
           "showlakes": true,
           "showland": true,
           "subunitcolor": "white"
          },
          "hoverlabel": {
           "align": "left"
          },
          "hovermode": "closest",
          "mapbox": {
           "style": "light"
          },
          "paper_bgcolor": "white",
          "plot_bgcolor": "#E5ECF6",
          "polar": {
           "angularaxis": {
            "gridcolor": "white",
            "linecolor": "white",
            "ticks": ""
           },
           "bgcolor": "#E5ECF6",
           "radialaxis": {
            "gridcolor": "white",
            "linecolor": "white",
            "ticks": ""
           }
          },
          "scene": {
           "xaxis": {
            "backgroundcolor": "#E5ECF6",
            "gridcolor": "white",
            "gridwidth": 2,
            "linecolor": "white",
            "showbackground": true,
            "ticks": "",
            "zerolinecolor": "white"
           },
           "yaxis": {
            "backgroundcolor": "#E5ECF6",
            "gridcolor": "white",
            "gridwidth": 2,
            "linecolor": "white",
            "showbackground": true,
            "ticks": "",
            "zerolinecolor": "white"
           },
           "zaxis": {
            "backgroundcolor": "#E5ECF6",
            "gridcolor": "white",
            "gridwidth": 2,
            "linecolor": "white",
            "showbackground": true,
            "ticks": "",
            "zerolinecolor": "white"
           }
          },
          "shapedefaults": {
           "line": {
            "color": "#2a3f5f"
           }
          },
          "ternary": {
           "aaxis": {
            "gridcolor": "white",
            "linecolor": "white",
            "ticks": ""
           },
           "baxis": {
            "gridcolor": "white",
            "linecolor": "white",
            "ticks": ""
           },
           "bgcolor": "#E5ECF6",
           "caxis": {
            "gridcolor": "white",
            "linecolor": "white",
            "ticks": ""
           }
          },
          "title": {
           "x": 0.05
          },
          "xaxis": {
           "automargin": true,
           "gridcolor": "white",
           "linecolor": "white",
           "ticks": "",
           "title": {
            "standoff": 15
           },
           "zerolinecolor": "white",
           "zerolinewidth": 2
          },
          "yaxis": {
           "automargin": true,
           "gridcolor": "white",
           "linecolor": "white",
           "ticks": "",
           "title": {
            "standoff": 15
           },
           "zerolinecolor": "white",
           "zerolinewidth": 2
          }
         }
        },
        "title": {
         "font": {
          "color": "#4D5663"
         }
        },
        "xaxis": {
         "gridcolor": "#E1E5ED",
         "showgrid": true,
         "tickfont": {
          "color": "#4D5663"
         },
         "title": {
          "font": {
           "color": "#4D5663"
          },
          "text": ""
         },
         "zerolinecolor": "#E1E5ED"
        },
        "yaxis": {
         "gridcolor": "#E1E5ED",
         "showgrid": true,
         "tickfont": {
          "color": "#4D5663"
         },
         "title": {
          "font": {
           "color": "#4D5663"
          },
          "text": ""
         },
         "zerolinecolor": "#E1E5ED"
        }
       }
      },
      "text/html": [
       "<div>\n",
       "        \n",
       "        \n",
       "            <div id=\"d6a7ff76-8989-4f51-a0ba-24f97eb21566\" class=\"plotly-graph-div\" style=\"height:525px; width:100%;\"></div>\n",
       "            <script type=\"text/javascript\">\n",
       "                require([\"plotly\"], function(Plotly) {\n",
       "                    window.PLOTLYENV=window.PLOTLYENV || {};\n",
       "                    window.PLOTLYENV.BASE_URL='https://plot.ly';\n",
       "                    \n",
       "                if (document.getElementById(\"d6a7ff76-8989-4f51-a0ba-24f97eb21566\")) {\n",
       "                    Plotly.newPlot(\n",
       "                        'd6a7ff76-8989-4f51-a0ba-24f97eb21566',\n",
       "                        [{\"boxpoints\": false, \"line\": {\"width\": 1.3}, \"marker\": {\"color\": \"rgba(255, 153, 51, 1.0)\"}, \"name\": \"A\", \"orientation\": \"v\", \"type\": \"box\", \"y\": [-2.2330045307590853, -0.9521908995974245, 0.27846606978193117, -0.7497430396641565, -0.8956342510414951, -0.2701922755157396, 0.13378854729598888, -0.10139493386630462, 2.4089945148153924, 2.2798960353709634, 1.536776871530047, -0.4738067773638204, 0.3895763004483561, -0.44813497414482384, -0.04272139930867001, 1.8607472786609707, -0.6439882932495113, 1.2582962916443727, -1.204805217634797, -0.1429158275301282, 1.1677493616360861, -2.6530884634429985, -0.9403827018208064, 0.1496396817935744, 0.04470276113270573, -0.7319557334866961, 0.5233737734533389, -0.4409303064263165, -0.5833238720623664, 0.25649916497690095, -0.30081158546772635, 0.07975881141571715, -2.090321583607134, -0.8712175959679449, -0.6931394651239492, -0.8218402617535678, 1.4418250131499333, 0.3751607269805806, 1.2314240010401805, 0.4199928878005679, -0.1554548985369435, 1.8868088114432202, -0.694422411044866, 1.1436083825779144, 0.7624519963607965, -0.2482247596359065, 1.4414688130029367, 0.22035610962969224, 0.2950496995083218, -0.0002316334366230875, 1.2896860527248302, 1.1265104298484678, -0.0036286696037859285, -0.826340568102362, -1.018582405591517, -1.291063854400129, -0.19008683392694992, -0.763872927674939, 2.0959738808836414, 2.130647594088596, 2.224539281704161, 1.1940475375397548, -0.7876803121312159, 0.969667697580649, 0.9493233327045774, -0.044403311331418185, 0.3895596700750885, -0.014452893562845948, -0.6968071801779312, 0.1614108555208764, -0.12276024863235002, -0.8370581648026316, -0.24705922180806691, -0.10403134026483714, -1.4284743931846275, 0.3535476401056677, -0.10544217505192499, 1.6963828925675466, 0.5915873562228502, 0.9907707442218054, 0.7428977212707456, -0.07200887621832967, 0.00017457906821124856, 0.013110631310684354, 1.9240017540561096, -0.4264462466703405, 0.16219704052654055, 0.4697559969879681, 1.0060845122288846, 0.7676496704361507, -0.9161171095812846, -1.624314104246879, -0.9527835783780093, -0.17739704862730749, 1.0650077734242744, 0.43385923873565196, 1.6979048817374556, -1.853810177762625, 0.9776180877321272, -0.8272963834606755]}, {\"boxpoints\": false, \"line\": {\"width\": 1.3}, \"marker\": {\"color\": \"rgba(55, 128, 191, 1.0)\"}, \"name\": \"B\", \"orientation\": \"v\", \"type\": \"box\", \"y\": [-0.9234838055280741, 0.1837906133650663, 0.9549006334057075, -0.8172743696437627, 0.3174431081329297, 0.21808918953745687, 0.6815729465243698, -0.262815565993623, 0.0013540987106652831, -0.27062784691556646, -0.8728212153054438, -0.6131662144165188, 0.8217767277509427, -0.37803366564505864, -0.38120900740011365, 0.615824227870488, -0.3479271621381179, -0.14022948149868633, 0.4715134428149978, -1.3875270322229551, 2.291695981953175, -0.4233067765902022, -0.4010460654069656, 1.4953409235326716, 0.055794820889501835, 1.1085643506927436, -0.34084079925276806, -0.04448454401577478, -0.7068197188417409, -0.28196538329893095, 0.35645508606988024, -1.9319911284139681, 0.30676889430031434, 1.0195069345873582, 0.5815106975487212, 0.6675437405444582, -1.451462224194573, 1.7537992807886817, -0.5223131305426536, -2.0899011210520055, -1.1868763568302543, -1.654932061201535, -1.6874933947593838, -1.2156525913674665, 1.6794846829271606, 0.7092856518073, 0.6629875673201554, -0.6411635757117996, -1.1881576800789335, -1.160918932012118, -0.014452385012939719, -0.8158088796870766, -1.112112811778674, -0.4134909737727676, 0.7679354852691683, -0.5288693699646896, 0.966238933639739, 0.5428284262688382, -0.8993016610838763, 1.9686623433577968, -1.1099790369124423, -0.7148053007009889, -0.05035305723891644, -0.2825442564032258, 0.6220386837974622, -0.02607398992073639, -0.12904032210431582, -0.4462530044659881, 1.0919323927621174, -0.2838491101268597, 0.8898082348209791, -0.05344663510556132, 0.6764322455699061, 2.110521685528398, -0.9540742926640376, -0.0709709220358443, -0.05552091480298457, 0.49519307651171957, -0.47214686334867095, -0.43038367094404784, -0.5262311656239208, 0.41668007402483337, -0.46314704835682, 1.1978416309836064, 0.06945342626551727, 0.2852068613579216, -0.9260930337101595, -1.299229452656461, -0.01752394800048146, 1.333737866854547, -1.0027996183786698, 1.3712373857073232, -1.3929633493161442, -2.003173109247321, -0.5638422495748624, -0.08713154635704083, 0.7826639766427661, 1.6599223202958147, 1.8225331731889711, -0.3637271366130778]}, {\"boxpoints\": false, \"line\": {\"width\": 1.3}, \"marker\": {\"color\": \"rgba(50, 171, 96, 1.0)\"}, \"name\": \"C\", \"orientation\": \"v\", \"type\": \"box\", \"y\": [0.2755716670365263, -1.4107567274282897, 0.6541175742867782, 1.9674690515547126, 1.256596339268459, 0.523856596662497, -0.8969265311525533, 0.3244140138558535, -0.9950241003805131, 0.010323270077411526, -0.4081624657415359, 0.856972738882899, 0.04068662059895318, -1.2944868481985685, -0.9619587879235344, -1.2789542109730379, -0.9026009083226586, -0.30943964771853477, 1.4669276807914478, 2.1886965346332614, -0.7853005063471961, -1.7956697006953894, -1.561114867168884, -0.14455531064454316, 0.4097967940659489, 0.027689805529984155, -0.8497038505348563, 1.8046874328359785, 0.7071894503644003, 1.213741530303425, -1.0343725538212367, 0.22659112518910376, -1.1486822151076266, 0.9966989811826483, 0.4142349713487508, 1.0253873908752684, -0.6344711510801252, 0.2736544613480108, 0.10304790113170942, -0.03298524733362019, 0.5935028001089265, 0.4838846773154546, 0.8732381580494233, 1.4128524795674415, 0.08490496568549535, 0.050290802392600024, -0.46573622578532187, 0.18929328771708429, 0.022354739248472047, 0.18032179012293742, -0.5383926430861103, 0.6349278683681299, 0.7460618503587655, 0.6143492711346112, 1.1800052422773377, -0.4317198762713371, -0.39825819636098175, 0.020492888094452415, 0.26054148974539326, 0.35542164302954893, -0.09632068069538566, 1.1880737687482943, 0.7622480573510461, -0.12954313804362508, 0.6448810312697735, 0.14237852278024538, -1.254266568431477, -0.4390979624690971, -0.7899958009345055, -0.30993485012088473, 0.6722028469700168, -0.7823208404463984, 0.5862555713819035, 1.2177004118684112, 1.587168629736668, 0.43377784098629774, 0.2796177411902997, 0.8470418963750924, 0.3360985288016682, 0.9208215794336971, 0.002407301316962099, 0.00458636300942406, 0.9329535515195241, -0.7517379185041624, 1.1400847378001369, -1.9844115112198117, 1.268566939128557, -0.0334254762745057, -1.6953738158116232, -0.8040408315832263, 0.016360777148160116, 0.41731413370847836, -0.38523140506373255, 1.2970812498450508, -2.236660366102504, -0.5882604503630262, -0.2731599067897886, -0.29682518018130133, 0.6461631547594263, 0.60302821358222]}, {\"boxpoints\": false, \"line\": {\"width\": 1.3}, \"marker\": {\"color\": \"rgba(128, 0, 128, 1.0)\"}, \"name\": \"D\", \"orientation\": \"v\", \"type\": \"box\", \"y\": [0.3643930281255974, 0.15026292366620095, 1.2187222278603946, -0.8659906012809404, 0.6004784913268533, -1.0589820545230748, -1.5683314423426904, -1.6539365309773515, 0.12136885230734451, 1.769195740544522, -0.34786923195499164, -0.5611026339790515, 1.884395043792925, 0.10554293170215406, -0.6971983382812603, 0.7833018925568376, -2.300638357051978, -1.3172806218596724, -0.04373228510009631, -1.2671251518663433, 1.3682141073747136, 0.1758901613320038, 0.4131184697361528, -0.13307235755723854, -0.09343541524988579, -0.23793992896567595, 0.37511476141478445, 1.5348806704194566, -0.9690143836986986, -0.4361298995213377, 0.11884415029697731, 0.7053708211848962, -1.170756619547385, 0.12391062586154639, -1.775733651033394, -1.7025147144806678, 0.24120216357934682, -0.05909560823662816, 0.6990921904976213, -1.2551961134773182, -0.190020144313903, -1.2001001024950408, 0.6274370541851635, 0.5015803990467228, 1.7377383170505403, 0.7669569890905374, -0.591194403818167, -1.184929573922818, -0.09713963731436984, 2.2273843627971575, -1.2140642939832837, -0.726190654922945, 0.21963148157113957, -0.2669805745888528, -0.767942069013212, -0.1521855580871152, -0.3904159798584094, 1.2739452686099946, 0.36218314088967013, 0.11030818464201156, 1.9268791207613563, 0.5487869697256245, -0.9762768663466627, 1.3932777236238698, 0.7258730775669255, -1.94063820760366, -0.5616258682969569, -1.045963556303688, -0.046928354294379034, -0.6985230840516604, -0.09137824514435089, 0.11975928366817555, 0.5719600766112413, -0.5602018420934456, -1.3733210357679502, 0.930729614688202, -1.2865839708266649, 0.24263820697068555, -0.6503235979872184, 0.9780605553222481, 0.2058777005882192, -0.08601947943729862, 0.4341754032068352, -0.836596194783516, -0.5578839609069209, -0.5134003010550453, 0.2902632694148725, -2.69040970394117, 0.9976251276467392, 1.5258496506679962, -0.09914102682089235, -1.2196458165465838, 1.8644668321972602, 1.0079481290352872, -0.4500239322508063, 0.8962399016639363, -0.37922022639110614, 0.2181399664309546, -0.12843420402850228, 2.1360706839894226]}],\n",
       "                        {\"legend\": {\"bgcolor\": \"#F5F6F9\", \"font\": {\"color\": \"#4D5663\"}}, \"paper_bgcolor\": \"#F5F6F9\", \"plot_bgcolor\": \"#F5F6F9\", \"template\": {\"data\": {\"bar\": [{\"error_x\": {\"color\": \"#2a3f5f\"}, \"error_y\": {\"color\": \"#2a3f5f\"}, \"marker\": {\"line\": {\"color\": \"#E5ECF6\", \"width\": 0.5}}, \"type\": \"bar\"}], \"barpolar\": [{\"marker\": {\"line\": {\"color\": \"#E5ECF6\", \"width\": 0.5}}, \"type\": \"barpolar\"}], \"carpet\": [{\"aaxis\": {\"endlinecolor\": \"#2a3f5f\", \"gridcolor\": \"white\", \"linecolor\": \"white\", \"minorgridcolor\": \"white\", \"startlinecolor\": \"#2a3f5f\"}, \"baxis\": {\"endlinecolor\": \"#2a3f5f\", \"gridcolor\": \"white\", \"linecolor\": \"white\", \"minorgridcolor\": \"white\", \"startlinecolor\": \"#2a3f5f\"}, \"type\": \"carpet\"}], \"choropleth\": [{\"colorbar\": {\"outlinewidth\": 0, \"ticks\": \"\"}, \"type\": \"choropleth\"}], \"contour\": [{\"colorbar\": {\"outlinewidth\": 0, \"ticks\": \"\"}, \"colorscale\": [[0.0, \"#0d0887\"], [0.1111111111111111, \"#46039f\"], [0.2222222222222222, \"#7201a8\"], [0.3333333333333333, \"#9c179e\"], [0.4444444444444444, \"#bd3786\"], [0.5555555555555556, \"#d8576b\"], [0.6666666666666666, \"#ed7953\"], [0.7777777777777778, \"#fb9f3a\"], [0.8888888888888888, \"#fdca26\"], [1.0, \"#f0f921\"]], \"type\": \"contour\"}], \"contourcarpet\": [{\"colorbar\": {\"outlinewidth\": 0, \"ticks\": \"\"}, \"type\": \"contourcarpet\"}], \"heatmap\": [{\"colorbar\": {\"outlinewidth\": 0, \"ticks\": \"\"}, \"colorscale\": [[0.0, \"#0d0887\"], [0.1111111111111111, \"#46039f\"], [0.2222222222222222, \"#7201a8\"], [0.3333333333333333, \"#9c179e\"], [0.4444444444444444, \"#bd3786\"], [0.5555555555555556, \"#d8576b\"], [0.6666666666666666, \"#ed7953\"], [0.7777777777777778, \"#fb9f3a\"], [0.8888888888888888, \"#fdca26\"], [1.0, \"#f0f921\"]], \"type\": \"heatmap\"}], \"heatmapgl\": [{\"colorbar\": {\"outlinewidth\": 0, \"ticks\": \"\"}, \"colorscale\": [[0.0, \"#0d0887\"], [0.1111111111111111, \"#46039f\"], [0.2222222222222222, \"#7201a8\"], [0.3333333333333333, \"#9c179e\"], [0.4444444444444444, \"#bd3786\"], [0.5555555555555556, \"#d8576b\"], [0.6666666666666666, \"#ed7953\"], [0.7777777777777778, \"#fb9f3a\"], [0.8888888888888888, \"#fdca26\"], [1.0, \"#f0f921\"]], \"type\": \"heatmapgl\"}], \"histogram\": [{\"marker\": {\"colorbar\": {\"outlinewidth\": 0, \"ticks\": \"\"}}, \"type\": \"histogram\"}], \"histogram2d\": [{\"colorbar\": {\"outlinewidth\": 0, \"ticks\": \"\"}, \"colorscale\": [[0.0, \"#0d0887\"], [0.1111111111111111, \"#46039f\"], [0.2222222222222222, \"#7201a8\"], [0.3333333333333333, \"#9c179e\"], [0.4444444444444444, \"#bd3786\"], [0.5555555555555556, \"#d8576b\"], [0.6666666666666666, \"#ed7953\"], [0.7777777777777778, \"#fb9f3a\"], [0.8888888888888888, \"#fdca26\"], [1.0, \"#f0f921\"]], \"type\": \"histogram2d\"}], \"histogram2dcontour\": [{\"colorbar\": {\"outlinewidth\": 0, \"ticks\": \"\"}, \"colorscale\": [[0.0, \"#0d0887\"], [0.1111111111111111, \"#46039f\"], [0.2222222222222222, \"#7201a8\"], [0.3333333333333333, \"#9c179e\"], [0.4444444444444444, \"#bd3786\"], [0.5555555555555556, \"#d8576b\"], [0.6666666666666666, \"#ed7953\"], [0.7777777777777778, \"#fb9f3a\"], [0.8888888888888888, \"#fdca26\"], [1.0, \"#f0f921\"]], \"type\": \"histogram2dcontour\"}], \"mesh3d\": [{\"colorbar\": {\"outlinewidth\": 0, \"ticks\": \"\"}, \"type\": \"mesh3d\"}], \"parcoords\": [{\"line\": {\"colorbar\": {\"outlinewidth\": 0, \"ticks\": \"\"}}, \"type\": \"parcoords\"}], \"pie\": [{\"automargin\": true, \"type\": \"pie\"}], \"scatter\": [{\"marker\": {\"colorbar\": {\"outlinewidth\": 0, \"ticks\": \"\"}}, \"type\": \"scatter\"}], \"scatter3d\": [{\"line\": {\"colorbar\": {\"outlinewidth\": 0, \"ticks\": \"\"}}, \"marker\": {\"colorbar\": {\"outlinewidth\": 0, \"ticks\": \"\"}}, \"type\": \"scatter3d\"}], \"scattercarpet\": [{\"marker\": {\"colorbar\": {\"outlinewidth\": 0, \"ticks\": \"\"}}, \"type\": \"scattercarpet\"}], \"scattergeo\": [{\"marker\": {\"colorbar\": {\"outlinewidth\": 0, \"ticks\": \"\"}}, \"type\": \"scattergeo\"}], \"scattergl\": [{\"marker\": {\"colorbar\": {\"outlinewidth\": 0, \"ticks\": \"\"}}, \"type\": \"scattergl\"}], \"scattermapbox\": [{\"marker\": {\"colorbar\": {\"outlinewidth\": 0, \"ticks\": \"\"}}, \"type\": \"scattermapbox\"}], \"scatterpolar\": [{\"marker\": {\"colorbar\": {\"outlinewidth\": 0, \"ticks\": \"\"}}, \"type\": \"scatterpolar\"}], \"scatterpolargl\": [{\"marker\": {\"colorbar\": {\"outlinewidth\": 0, \"ticks\": \"\"}}, \"type\": \"scatterpolargl\"}], \"scatterternary\": [{\"marker\": {\"colorbar\": {\"outlinewidth\": 0, \"ticks\": \"\"}}, \"type\": \"scatterternary\"}], \"surface\": [{\"colorbar\": {\"outlinewidth\": 0, \"ticks\": \"\"}, \"colorscale\": [[0.0, \"#0d0887\"], [0.1111111111111111, \"#46039f\"], [0.2222222222222222, \"#7201a8\"], [0.3333333333333333, \"#9c179e\"], [0.4444444444444444, \"#bd3786\"], [0.5555555555555556, \"#d8576b\"], [0.6666666666666666, \"#ed7953\"], [0.7777777777777778, \"#fb9f3a\"], [0.8888888888888888, \"#fdca26\"], [1.0, \"#f0f921\"]], \"type\": \"surface\"}], \"table\": [{\"cells\": {\"fill\": {\"color\": \"#EBF0F8\"}, \"line\": {\"color\": \"white\"}}, \"header\": {\"fill\": {\"color\": \"#C8D4E3\"}, \"line\": {\"color\": \"white\"}}, \"type\": \"table\"}]}, \"layout\": {\"annotationdefaults\": {\"arrowcolor\": \"#2a3f5f\", \"arrowhead\": 0, \"arrowwidth\": 1}, \"coloraxis\": {\"colorbar\": {\"outlinewidth\": 0, \"ticks\": \"\"}}, \"colorscale\": {\"diverging\": [[0, \"#8e0152\"], [0.1, \"#c51b7d\"], [0.2, \"#de77ae\"], [0.3, \"#f1b6da\"], [0.4, \"#fde0ef\"], [0.5, \"#f7f7f7\"], [0.6, \"#e6f5d0\"], [0.7, \"#b8e186\"], [0.8, \"#7fbc41\"], [0.9, \"#4d9221\"], [1, \"#276419\"]], \"sequential\": [[0.0, \"#0d0887\"], [0.1111111111111111, \"#46039f\"], [0.2222222222222222, \"#7201a8\"], [0.3333333333333333, \"#9c179e\"], [0.4444444444444444, \"#bd3786\"], [0.5555555555555556, \"#d8576b\"], [0.6666666666666666, \"#ed7953\"], [0.7777777777777778, \"#fb9f3a\"], [0.8888888888888888, \"#fdca26\"], [1.0, \"#f0f921\"]], \"sequentialminus\": [[0.0, \"#0d0887\"], [0.1111111111111111, \"#46039f\"], [0.2222222222222222, \"#7201a8\"], [0.3333333333333333, \"#9c179e\"], [0.4444444444444444, \"#bd3786\"], [0.5555555555555556, \"#d8576b\"], [0.6666666666666666, \"#ed7953\"], [0.7777777777777778, \"#fb9f3a\"], [0.8888888888888888, \"#fdca26\"], [1.0, \"#f0f921\"]]}, \"colorway\": [\"#636efa\", \"#EF553B\", \"#00cc96\", \"#ab63fa\", \"#FFA15A\", \"#19d3f3\", \"#FF6692\", \"#B6E880\", \"#FF97FF\", \"#FECB52\"], \"font\": {\"color\": \"#2a3f5f\"}, \"geo\": {\"bgcolor\": \"white\", \"lakecolor\": \"white\", \"landcolor\": \"#E5ECF6\", \"showlakes\": true, \"showland\": true, \"subunitcolor\": \"white\"}, \"hoverlabel\": {\"align\": \"left\"}, \"hovermode\": \"closest\", \"mapbox\": {\"style\": \"light\"}, \"paper_bgcolor\": \"white\", \"plot_bgcolor\": \"#E5ECF6\", \"polar\": {\"angularaxis\": {\"gridcolor\": \"white\", \"linecolor\": \"white\", \"ticks\": \"\"}, \"bgcolor\": \"#E5ECF6\", \"radialaxis\": {\"gridcolor\": \"white\", \"linecolor\": \"white\", \"ticks\": \"\"}}, \"scene\": {\"xaxis\": {\"backgroundcolor\": \"#E5ECF6\", \"gridcolor\": \"white\", \"gridwidth\": 2, \"linecolor\": \"white\", \"showbackground\": true, \"ticks\": \"\", \"zerolinecolor\": \"white\"}, \"yaxis\": {\"backgroundcolor\": \"#E5ECF6\", \"gridcolor\": \"white\", \"gridwidth\": 2, \"linecolor\": \"white\", \"showbackground\": true, \"ticks\": \"\", \"zerolinecolor\": \"white\"}, \"zaxis\": {\"backgroundcolor\": \"#E5ECF6\", \"gridcolor\": \"white\", \"gridwidth\": 2, \"linecolor\": \"white\", \"showbackground\": true, \"ticks\": \"\", \"zerolinecolor\": \"white\"}}, \"shapedefaults\": {\"line\": {\"color\": \"#2a3f5f\"}}, \"ternary\": {\"aaxis\": {\"gridcolor\": \"white\", \"linecolor\": \"white\", \"ticks\": \"\"}, \"baxis\": {\"gridcolor\": \"white\", \"linecolor\": \"white\", \"ticks\": \"\"}, \"bgcolor\": \"#E5ECF6\", \"caxis\": {\"gridcolor\": \"white\", \"linecolor\": \"white\", \"ticks\": \"\"}}, \"title\": {\"x\": 0.05}, \"xaxis\": {\"automargin\": true, \"gridcolor\": \"white\", \"linecolor\": \"white\", \"ticks\": \"\", \"title\": {\"standoff\": 15}, \"zerolinecolor\": \"white\", \"zerolinewidth\": 2}, \"yaxis\": {\"automargin\": true, \"gridcolor\": \"white\", \"linecolor\": \"white\", \"ticks\": \"\", \"title\": {\"standoff\": 15}, \"zerolinecolor\": \"white\", \"zerolinewidth\": 2}}}, \"title\": {\"font\": {\"color\": \"#4D5663\"}}, \"xaxis\": {\"gridcolor\": \"#E1E5ED\", \"showgrid\": true, \"tickfont\": {\"color\": \"#4D5663\"}, \"title\": {\"font\": {\"color\": \"#4D5663\"}, \"text\": \"\"}, \"zerolinecolor\": \"#E1E5ED\"}, \"yaxis\": {\"gridcolor\": \"#E1E5ED\", \"showgrid\": true, \"tickfont\": {\"color\": \"#4D5663\"}, \"title\": {\"font\": {\"color\": \"#4D5663\"}, \"text\": \"\"}, \"zerolinecolor\": \"#E1E5ED\"}},\n",
       "                        {\"showLink\": true, \"linkText\": \"Export to plot.ly\", \"plotlyServerURL\": \"https://plot.ly\", \"responsive\": true}\n",
       "                    ).then(function(){\n",
       "                            \n",
       "var gd = document.getElementById('d6a7ff76-8989-4f51-a0ba-24f97eb21566');\n",
       "var x = new MutationObserver(function (mutations, observer) {{\n",
       "        var display = window.getComputedStyle(gd).display;\n",
       "        if (!display || display === 'none') {{\n",
       "            console.log([gd, 'removed!']);\n",
       "            Plotly.purge(gd);\n",
       "            observer.disconnect();\n",
       "        }}\n",
       "}});\n",
       "\n",
       "// Listen for the removal of the full notebook cells\n",
       "var notebookContainer = gd.closest('#notebook-container');\n",
       "if (notebookContainer) {{\n",
       "    x.observe(notebookContainer, {childList: true});\n",
       "}}\n",
       "\n",
       "// Listen for the clearing of the current output cell\n",
       "var outputEl = gd.closest('.output');\n",
       "if (outputEl) {{\n",
       "    x.observe(outputEl, {childList: true});\n",
       "}}\n",
       "\n",
       "                        })\n",
       "                };\n",
       "                });\n",
       "            </script>\n",
       "        </div>"
      ]
     },
     "metadata": {},
     "output_type": "display_data"
    }
   ],
   "source": [
    "df.iplot(kind='box')"
   ]
  },
  {
   "cell_type": "markdown",
   "metadata": {},
   "source": [
    "**Histogramas**<br>\n",
    "`Compare com os histograsm padrões do matplotlib e seaborn`"
   ]
  },
  {
   "cell_type": "code",
   "execution_count": 19,
   "metadata": {},
   "outputs": [
    {
     "data": {
      "application/vnd.plotly.v1+json": {
       "config": {
        "linkText": "Export to plot.ly",
        "plotlyServerURL": "https://plot.ly",
        "showLink": true
       },
       "data": [
        {
         "histfunc": "count",
         "histnorm": "",
         "marker": {
          "color": "rgba(255, 153, 51, 1.0)",
          "line": {
           "color": "#4D5663",
           "width": 1.3
          }
         },
         "name": "A",
         "opacity": 0.8,
         "orientation": "v",
         "type": "histogram",
         "x": [
          -2.2330045307590853,
          -0.9521908995974245,
          0.27846606978193117,
          -0.7497430396641565,
          -0.8956342510414951,
          -0.2701922755157396,
          0.13378854729598888,
          -0.10139493386630462,
          2.4089945148153924,
          2.2798960353709634,
          1.536776871530047,
          -0.4738067773638204,
          0.3895763004483561,
          -0.44813497414482384,
          -0.04272139930867001,
          1.8607472786609707,
          -0.6439882932495113,
          1.2582962916443727,
          -1.204805217634797,
          -0.1429158275301282,
          1.1677493616360861,
          -2.6530884634429985,
          -0.9403827018208064,
          0.1496396817935744,
          0.04470276113270573,
          -0.7319557334866961,
          0.5233737734533389,
          -0.4409303064263165,
          -0.5833238720623664,
          0.25649916497690095,
          -0.30081158546772635,
          0.07975881141571715,
          -2.090321583607134,
          -0.8712175959679449,
          -0.6931394651239492,
          -0.8218402617535678,
          1.4418250131499333,
          0.3751607269805806,
          1.2314240010401805,
          0.4199928878005679,
          -0.1554548985369435,
          1.8868088114432202,
          -0.694422411044866,
          1.1436083825779144,
          0.7624519963607965,
          -0.2482247596359065,
          1.4414688130029367,
          0.22035610962969224,
          0.2950496995083218,
          -0.0002316334366230875,
          1.2896860527248302,
          1.1265104298484678,
          -0.0036286696037859285,
          -0.826340568102362,
          -1.018582405591517,
          -1.291063854400129,
          -0.19008683392694992,
          -0.763872927674939,
          2.0959738808836414,
          2.130647594088596,
          2.224539281704161,
          1.1940475375397548,
          -0.7876803121312159,
          0.969667697580649,
          0.9493233327045774,
          -0.044403311331418185,
          0.3895596700750885,
          -0.014452893562845948,
          -0.6968071801779312,
          0.1614108555208764,
          -0.12276024863235002,
          -0.8370581648026316,
          -0.24705922180806691,
          -0.10403134026483714,
          -1.4284743931846275,
          0.3535476401056677,
          -0.10544217505192499,
          1.6963828925675466,
          0.5915873562228502,
          0.9907707442218054,
          0.7428977212707456,
          -0.07200887621832967,
          0.00017457906821124856,
          0.013110631310684354,
          1.9240017540561096,
          -0.4264462466703405,
          0.16219704052654055,
          0.4697559969879681,
          1.0060845122288846,
          0.7676496704361507,
          -0.9161171095812846,
          -1.624314104246879,
          -0.9527835783780093,
          -0.17739704862730749,
          1.0650077734242744,
          0.43385923873565196,
          1.6979048817374556,
          -1.853810177762625,
          0.9776180877321272,
          -0.8272963834606755
         ]
        }
       ],
       "layout": {
        "barmode": "overlay",
        "legend": {
         "bgcolor": "#F5F6F9",
         "font": {
          "color": "#4D5663"
         }
        },
        "paper_bgcolor": "#F5F6F9",
        "plot_bgcolor": "#F5F6F9",
        "template": {
         "data": {
          "bar": [
           {
            "error_x": {
             "color": "#2a3f5f"
            },
            "error_y": {
             "color": "#2a3f5f"
            },
            "marker": {
             "line": {
              "color": "#E5ECF6",
              "width": 0.5
             }
            },
            "type": "bar"
           }
          ],
          "barpolar": [
           {
            "marker": {
             "line": {
              "color": "#E5ECF6",
              "width": 0.5
             }
            },
            "type": "barpolar"
           }
          ],
          "carpet": [
           {
            "aaxis": {
             "endlinecolor": "#2a3f5f",
             "gridcolor": "white",
             "linecolor": "white",
             "minorgridcolor": "white",
             "startlinecolor": "#2a3f5f"
            },
            "baxis": {
             "endlinecolor": "#2a3f5f",
             "gridcolor": "white",
             "linecolor": "white",
             "minorgridcolor": "white",
             "startlinecolor": "#2a3f5f"
            },
            "type": "carpet"
           }
          ],
          "choropleth": [
           {
            "colorbar": {
             "outlinewidth": 0,
             "ticks": ""
            },
            "type": "choropleth"
           }
          ],
          "contour": [
           {
            "colorbar": {
             "outlinewidth": 0,
             "ticks": ""
            },
            "colorscale": [
             [
              0,
              "#0d0887"
             ],
             [
              0.1111111111111111,
              "#46039f"
             ],
             [
              0.2222222222222222,
              "#7201a8"
             ],
             [
              0.3333333333333333,
              "#9c179e"
             ],
             [
              0.4444444444444444,
              "#bd3786"
             ],
             [
              0.5555555555555556,
              "#d8576b"
             ],
             [
              0.6666666666666666,
              "#ed7953"
             ],
             [
              0.7777777777777778,
              "#fb9f3a"
             ],
             [
              0.8888888888888888,
              "#fdca26"
             ],
             [
              1,
              "#f0f921"
             ]
            ],
            "type": "contour"
           }
          ],
          "contourcarpet": [
           {
            "colorbar": {
             "outlinewidth": 0,
             "ticks": ""
            },
            "type": "contourcarpet"
           }
          ],
          "heatmap": [
           {
            "colorbar": {
             "outlinewidth": 0,
             "ticks": ""
            },
            "colorscale": [
             [
              0,
              "#0d0887"
             ],
             [
              0.1111111111111111,
              "#46039f"
             ],
             [
              0.2222222222222222,
              "#7201a8"
             ],
             [
              0.3333333333333333,
              "#9c179e"
             ],
             [
              0.4444444444444444,
              "#bd3786"
             ],
             [
              0.5555555555555556,
              "#d8576b"
             ],
             [
              0.6666666666666666,
              "#ed7953"
             ],
             [
              0.7777777777777778,
              "#fb9f3a"
             ],
             [
              0.8888888888888888,
              "#fdca26"
             ],
             [
              1,
              "#f0f921"
             ]
            ],
            "type": "heatmap"
           }
          ],
          "heatmapgl": [
           {
            "colorbar": {
             "outlinewidth": 0,
             "ticks": ""
            },
            "colorscale": [
             [
              0,
              "#0d0887"
             ],
             [
              0.1111111111111111,
              "#46039f"
             ],
             [
              0.2222222222222222,
              "#7201a8"
             ],
             [
              0.3333333333333333,
              "#9c179e"
             ],
             [
              0.4444444444444444,
              "#bd3786"
             ],
             [
              0.5555555555555556,
              "#d8576b"
             ],
             [
              0.6666666666666666,
              "#ed7953"
             ],
             [
              0.7777777777777778,
              "#fb9f3a"
             ],
             [
              0.8888888888888888,
              "#fdca26"
             ],
             [
              1,
              "#f0f921"
             ]
            ],
            "type": "heatmapgl"
           }
          ],
          "histogram": [
           {
            "marker": {
             "colorbar": {
              "outlinewidth": 0,
              "ticks": ""
             }
            },
            "type": "histogram"
           }
          ],
          "histogram2d": [
           {
            "colorbar": {
             "outlinewidth": 0,
             "ticks": ""
            },
            "colorscale": [
             [
              0,
              "#0d0887"
             ],
             [
              0.1111111111111111,
              "#46039f"
             ],
             [
              0.2222222222222222,
              "#7201a8"
             ],
             [
              0.3333333333333333,
              "#9c179e"
             ],
             [
              0.4444444444444444,
              "#bd3786"
             ],
             [
              0.5555555555555556,
              "#d8576b"
             ],
             [
              0.6666666666666666,
              "#ed7953"
             ],
             [
              0.7777777777777778,
              "#fb9f3a"
             ],
             [
              0.8888888888888888,
              "#fdca26"
             ],
             [
              1,
              "#f0f921"
             ]
            ],
            "type": "histogram2d"
           }
          ],
          "histogram2dcontour": [
           {
            "colorbar": {
             "outlinewidth": 0,
             "ticks": ""
            },
            "colorscale": [
             [
              0,
              "#0d0887"
             ],
             [
              0.1111111111111111,
              "#46039f"
             ],
             [
              0.2222222222222222,
              "#7201a8"
             ],
             [
              0.3333333333333333,
              "#9c179e"
             ],
             [
              0.4444444444444444,
              "#bd3786"
             ],
             [
              0.5555555555555556,
              "#d8576b"
             ],
             [
              0.6666666666666666,
              "#ed7953"
             ],
             [
              0.7777777777777778,
              "#fb9f3a"
             ],
             [
              0.8888888888888888,
              "#fdca26"
             ],
             [
              1,
              "#f0f921"
             ]
            ],
            "type": "histogram2dcontour"
           }
          ],
          "mesh3d": [
           {
            "colorbar": {
             "outlinewidth": 0,
             "ticks": ""
            },
            "type": "mesh3d"
           }
          ],
          "parcoords": [
           {
            "line": {
             "colorbar": {
              "outlinewidth": 0,
              "ticks": ""
             }
            },
            "type": "parcoords"
           }
          ],
          "pie": [
           {
            "automargin": true,
            "type": "pie"
           }
          ],
          "scatter": [
           {
            "marker": {
             "colorbar": {
              "outlinewidth": 0,
              "ticks": ""
             }
            },
            "type": "scatter"
           }
          ],
          "scatter3d": [
           {
            "line": {
             "colorbar": {
              "outlinewidth": 0,
              "ticks": ""
             }
            },
            "marker": {
             "colorbar": {
              "outlinewidth": 0,
              "ticks": ""
             }
            },
            "type": "scatter3d"
           }
          ],
          "scattercarpet": [
           {
            "marker": {
             "colorbar": {
              "outlinewidth": 0,
              "ticks": ""
             }
            },
            "type": "scattercarpet"
           }
          ],
          "scattergeo": [
           {
            "marker": {
             "colorbar": {
              "outlinewidth": 0,
              "ticks": ""
             }
            },
            "type": "scattergeo"
           }
          ],
          "scattergl": [
           {
            "marker": {
             "colorbar": {
              "outlinewidth": 0,
              "ticks": ""
             }
            },
            "type": "scattergl"
           }
          ],
          "scattermapbox": [
           {
            "marker": {
             "colorbar": {
              "outlinewidth": 0,
              "ticks": ""
             }
            },
            "type": "scattermapbox"
           }
          ],
          "scatterpolar": [
           {
            "marker": {
             "colorbar": {
              "outlinewidth": 0,
              "ticks": ""
             }
            },
            "type": "scatterpolar"
           }
          ],
          "scatterpolargl": [
           {
            "marker": {
             "colorbar": {
              "outlinewidth": 0,
              "ticks": ""
             }
            },
            "type": "scatterpolargl"
           }
          ],
          "scatterternary": [
           {
            "marker": {
             "colorbar": {
              "outlinewidth": 0,
              "ticks": ""
             }
            },
            "type": "scatterternary"
           }
          ],
          "surface": [
           {
            "colorbar": {
             "outlinewidth": 0,
             "ticks": ""
            },
            "colorscale": [
             [
              0,
              "#0d0887"
             ],
             [
              0.1111111111111111,
              "#46039f"
             ],
             [
              0.2222222222222222,
              "#7201a8"
             ],
             [
              0.3333333333333333,
              "#9c179e"
             ],
             [
              0.4444444444444444,
              "#bd3786"
             ],
             [
              0.5555555555555556,
              "#d8576b"
             ],
             [
              0.6666666666666666,
              "#ed7953"
             ],
             [
              0.7777777777777778,
              "#fb9f3a"
             ],
             [
              0.8888888888888888,
              "#fdca26"
             ],
             [
              1,
              "#f0f921"
             ]
            ],
            "type": "surface"
           }
          ],
          "table": [
           {
            "cells": {
             "fill": {
              "color": "#EBF0F8"
             },
             "line": {
              "color": "white"
             }
            },
            "header": {
             "fill": {
              "color": "#C8D4E3"
             },
             "line": {
              "color": "white"
             }
            },
            "type": "table"
           }
          ]
         },
         "layout": {
          "annotationdefaults": {
           "arrowcolor": "#2a3f5f",
           "arrowhead": 0,
           "arrowwidth": 1
          },
          "coloraxis": {
           "colorbar": {
            "outlinewidth": 0,
            "ticks": ""
           }
          },
          "colorscale": {
           "diverging": [
            [
             0,
             "#8e0152"
            ],
            [
             0.1,
             "#c51b7d"
            ],
            [
             0.2,
             "#de77ae"
            ],
            [
             0.3,
             "#f1b6da"
            ],
            [
             0.4,
             "#fde0ef"
            ],
            [
             0.5,
             "#f7f7f7"
            ],
            [
             0.6,
             "#e6f5d0"
            ],
            [
             0.7,
             "#b8e186"
            ],
            [
             0.8,
             "#7fbc41"
            ],
            [
             0.9,
             "#4d9221"
            ],
            [
             1,
             "#276419"
            ]
           ],
           "sequential": [
            [
             0,
             "#0d0887"
            ],
            [
             0.1111111111111111,
             "#46039f"
            ],
            [
             0.2222222222222222,
             "#7201a8"
            ],
            [
             0.3333333333333333,
             "#9c179e"
            ],
            [
             0.4444444444444444,
             "#bd3786"
            ],
            [
             0.5555555555555556,
             "#d8576b"
            ],
            [
             0.6666666666666666,
             "#ed7953"
            ],
            [
             0.7777777777777778,
             "#fb9f3a"
            ],
            [
             0.8888888888888888,
             "#fdca26"
            ],
            [
             1,
             "#f0f921"
            ]
           ],
           "sequentialminus": [
            [
             0,
             "#0d0887"
            ],
            [
             0.1111111111111111,
             "#46039f"
            ],
            [
             0.2222222222222222,
             "#7201a8"
            ],
            [
             0.3333333333333333,
             "#9c179e"
            ],
            [
             0.4444444444444444,
             "#bd3786"
            ],
            [
             0.5555555555555556,
             "#d8576b"
            ],
            [
             0.6666666666666666,
             "#ed7953"
            ],
            [
             0.7777777777777778,
             "#fb9f3a"
            ],
            [
             0.8888888888888888,
             "#fdca26"
            ],
            [
             1,
             "#f0f921"
            ]
           ]
          },
          "colorway": [
           "#636efa",
           "#EF553B",
           "#00cc96",
           "#ab63fa",
           "#FFA15A",
           "#19d3f3",
           "#FF6692",
           "#B6E880",
           "#FF97FF",
           "#FECB52"
          ],
          "font": {
           "color": "#2a3f5f"
          },
          "geo": {
           "bgcolor": "white",
           "lakecolor": "white",
           "landcolor": "#E5ECF6",
           "showlakes": true,
           "showland": true,
           "subunitcolor": "white"
          },
          "hoverlabel": {
           "align": "left"
          },
          "hovermode": "closest",
          "mapbox": {
           "style": "light"
          },
          "paper_bgcolor": "white",
          "plot_bgcolor": "#E5ECF6",
          "polar": {
           "angularaxis": {
            "gridcolor": "white",
            "linecolor": "white",
            "ticks": ""
           },
           "bgcolor": "#E5ECF6",
           "radialaxis": {
            "gridcolor": "white",
            "linecolor": "white",
            "ticks": ""
           }
          },
          "scene": {
           "xaxis": {
            "backgroundcolor": "#E5ECF6",
            "gridcolor": "white",
            "gridwidth": 2,
            "linecolor": "white",
            "showbackground": true,
            "ticks": "",
            "zerolinecolor": "white"
           },
           "yaxis": {
            "backgroundcolor": "#E5ECF6",
            "gridcolor": "white",
            "gridwidth": 2,
            "linecolor": "white",
            "showbackground": true,
            "ticks": "",
            "zerolinecolor": "white"
           },
           "zaxis": {
            "backgroundcolor": "#E5ECF6",
            "gridcolor": "white",
            "gridwidth": 2,
            "linecolor": "white",
            "showbackground": true,
            "ticks": "",
            "zerolinecolor": "white"
           }
          },
          "shapedefaults": {
           "line": {
            "color": "#2a3f5f"
           }
          },
          "ternary": {
           "aaxis": {
            "gridcolor": "white",
            "linecolor": "white",
            "ticks": ""
           },
           "baxis": {
            "gridcolor": "white",
            "linecolor": "white",
            "ticks": ""
           },
           "bgcolor": "#E5ECF6",
           "caxis": {
            "gridcolor": "white",
            "linecolor": "white",
            "ticks": ""
           }
          },
          "title": {
           "x": 0.05
          },
          "xaxis": {
           "automargin": true,
           "gridcolor": "white",
           "linecolor": "white",
           "ticks": "",
           "title": {
            "standoff": 15
           },
           "zerolinecolor": "white",
           "zerolinewidth": 2
          },
          "yaxis": {
           "automargin": true,
           "gridcolor": "white",
           "linecolor": "white",
           "ticks": "",
           "title": {
            "standoff": 15
           },
           "zerolinecolor": "white",
           "zerolinewidth": 2
          }
         }
        },
        "title": {
         "font": {
          "color": "#4D5663"
         }
        },
        "xaxis": {
         "gridcolor": "#E1E5ED",
         "showgrid": true,
         "tickfont": {
          "color": "#4D5663"
         },
         "title": {
          "font": {
           "color": "#4D5663"
          },
          "text": ""
         },
         "zerolinecolor": "#E1E5ED"
        },
        "yaxis": {
         "gridcolor": "#E1E5ED",
         "showgrid": true,
         "tickfont": {
          "color": "#4D5663"
         },
         "title": {
          "font": {
           "color": "#4D5663"
          },
          "text": ""
         },
         "zerolinecolor": "#E1E5ED"
        }
       }
      },
      "text/html": [
       "<div>\n",
       "        \n",
       "        \n",
       "            <div id=\"573d3b23-1774-43e8-a3fe-afe88b0aac2e\" class=\"plotly-graph-div\" style=\"height:525px; width:100%;\"></div>\n",
       "            <script type=\"text/javascript\">\n",
       "                require([\"plotly\"], function(Plotly) {\n",
       "                    window.PLOTLYENV=window.PLOTLYENV || {};\n",
       "                    window.PLOTLYENV.BASE_URL='https://plot.ly';\n",
       "                    \n",
       "                if (document.getElementById(\"573d3b23-1774-43e8-a3fe-afe88b0aac2e\")) {\n",
       "                    Plotly.newPlot(\n",
       "                        '573d3b23-1774-43e8-a3fe-afe88b0aac2e',\n",
       "                        [{\"histfunc\": \"count\", \"histnorm\": \"\", \"marker\": {\"color\": \"rgba(255, 153, 51, 1.0)\", \"line\": {\"color\": \"#4D5663\", \"width\": 1.3}}, \"name\": \"A\", \"opacity\": 0.8, \"orientation\": \"v\", \"type\": \"histogram\", \"x\": [-2.2330045307590853, -0.9521908995974245, 0.27846606978193117, -0.7497430396641565, -0.8956342510414951, -0.2701922755157396, 0.13378854729598888, -0.10139493386630462, 2.4089945148153924, 2.2798960353709634, 1.536776871530047, -0.4738067773638204, 0.3895763004483561, -0.44813497414482384, -0.04272139930867001, 1.8607472786609707, -0.6439882932495113, 1.2582962916443727, -1.204805217634797, -0.1429158275301282, 1.1677493616360861, -2.6530884634429985, -0.9403827018208064, 0.1496396817935744, 0.04470276113270573, -0.7319557334866961, 0.5233737734533389, -0.4409303064263165, -0.5833238720623664, 0.25649916497690095, -0.30081158546772635, 0.07975881141571715, -2.090321583607134, -0.8712175959679449, -0.6931394651239492, -0.8218402617535678, 1.4418250131499333, 0.3751607269805806, 1.2314240010401805, 0.4199928878005679, -0.1554548985369435, 1.8868088114432202, -0.694422411044866, 1.1436083825779144, 0.7624519963607965, -0.2482247596359065, 1.4414688130029367, 0.22035610962969224, 0.2950496995083218, -0.0002316334366230875, 1.2896860527248302, 1.1265104298484678, -0.0036286696037859285, -0.826340568102362, -1.018582405591517, -1.291063854400129, -0.19008683392694992, -0.763872927674939, 2.0959738808836414, 2.130647594088596, 2.224539281704161, 1.1940475375397548, -0.7876803121312159, 0.969667697580649, 0.9493233327045774, -0.044403311331418185, 0.3895596700750885, -0.014452893562845948, -0.6968071801779312, 0.1614108555208764, -0.12276024863235002, -0.8370581648026316, -0.24705922180806691, -0.10403134026483714, -1.4284743931846275, 0.3535476401056677, -0.10544217505192499, 1.6963828925675466, 0.5915873562228502, 0.9907707442218054, 0.7428977212707456, -0.07200887621832967, 0.00017457906821124856, 0.013110631310684354, 1.9240017540561096, -0.4264462466703405, 0.16219704052654055, 0.4697559969879681, 1.0060845122288846, 0.7676496704361507, -0.9161171095812846, -1.624314104246879, -0.9527835783780093, -0.17739704862730749, 1.0650077734242744, 0.43385923873565196, 1.6979048817374556, -1.853810177762625, 0.9776180877321272, -0.8272963834606755]}],\n",
       "                        {\"barmode\": \"overlay\", \"legend\": {\"bgcolor\": \"#F5F6F9\", \"font\": {\"color\": \"#4D5663\"}}, \"paper_bgcolor\": \"#F5F6F9\", \"plot_bgcolor\": \"#F5F6F9\", \"template\": {\"data\": {\"bar\": [{\"error_x\": {\"color\": \"#2a3f5f\"}, \"error_y\": {\"color\": \"#2a3f5f\"}, \"marker\": {\"line\": {\"color\": \"#E5ECF6\", \"width\": 0.5}}, \"type\": \"bar\"}], \"barpolar\": [{\"marker\": {\"line\": {\"color\": \"#E5ECF6\", \"width\": 0.5}}, \"type\": \"barpolar\"}], \"carpet\": [{\"aaxis\": {\"endlinecolor\": \"#2a3f5f\", \"gridcolor\": \"white\", \"linecolor\": \"white\", \"minorgridcolor\": \"white\", \"startlinecolor\": \"#2a3f5f\"}, \"baxis\": {\"endlinecolor\": \"#2a3f5f\", \"gridcolor\": \"white\", \"linecolor\": \"white\", \"minorgridcolor\": \"white\", \"startlinecolor\": \"#2a3f5f\"}, \"type\": \"carpet\"}], \"choropleth\": [{\"colorbar\": {\"outlinewidth\": 0, \"ticks\": \"\"}, \"type\": \"choropleth\"}], \"contour\": [{\"colorbar\": {\"outlinewidth\": 0, \"ticks\": \"\"}, \"colorscale\": [[0.0, \"#0d0887\"], [0.1111111111111111, \"#46039f\"], [0.2222222222222222, \"#7201a8\"], [0.3333333333333333, \"#9c179e\"], [0.4444444444444444, \"#bd3786\"], [0.5555555555555556, \"#d8576b\"], [0.6666666666666666, \"#ed7953\"], [0.7777777777777778, \"#fb9f3a\"], [0.8888888888888888, \"#fdca26\"], [1.0, \"#f0f921\"]], \"type\": \"contour\"}], \"contourcarpet\": [{\"colorbar\": {\"outlinewidth\": 0, \"ticks\": \"\"}, \"type\": \"contourcarpet\"}], \"heatmap\": [{\"colorbar\": {\"outlinewidth\": 0, \"ticks\": \"\"}, \"colorscale\": [[0.0, \"#0d0887\"], [0.1111111111111111, \"#46039f\"], [0.2222222222222222, \"#7201a8\"], [0.3333333333333333, \"#9c179e\"], [0.4444444444444444, \"#bd3786\"], [0.5555555555555556, \"#d8576b\"], [0.6666666666666666, \"#ed7953\"], [0.7777777777777778, \"#fb9f3a\"], [0.8888888888888888, \"#fdca26\"], [1.0, \"#f0f921\"]], \"type\": \"heatmap\"}], \"heatmapgl\": [{\"colorbar\": {\"outlinewidth\": 0, \"ticks\": \"\"}, \"colorscale\": [[0.0, \"#0d0887\"], [0.1111111111111111, \"#46039f\"], [0.2222222222222222, \"#7201a8\"], [0.3333333333333333, \"#9c179e\"], [0.4444444444444444, \"#bd3786\"], [0.5555555555555556, \"#d8576b\"], [0.6666666666666666, \"#ed7953\"], [0.7777777777777778, \"#fb9f3a\"], [0.8888888888888888, \"#fdca26\"], [1.0, \"#f0f921\"]], \"type\": \"heatmapgl\"}], \"histogram\": [{\"marker\": {\"colorbar\": {\"outlinewidth\": 0, \"ticks\": \"\"}}, \"type\": \"histogram\"}], \"histogram2d\": [{\"colorbar\": {\"outlinewidth\": 0, \"ticks\": \"\"}, \"colorscale\": [[0.0, \"#0d0887\"], [0.1111111111111111, \"#46039f\"], [0.2222222222222222, \"#7201a8\"], [0.3333333333333333, \"#9c179e\"], [0.4444444444444444, \"#bd3786\"], [0.5555555555555556, \"#d8576b\"], [0.6666666666666666, \"#ed7953\"], [0.7777777777777778, \"#fb9f3a\"], [0.8888888888888888, \"#fdca26\"], [1.0, \"#f0f921\"]], \"type\": \"histogram2d\"}], \"histogram2dcontour\": [{\"colorbar\": {\"outlinewidth\": 0, \"ticks\": \"\"}, \"colorscale\": [[0.0, \"#0d0887\"], [0.1111111111111111, \"#46039f\"], [0.2222222222222222, \"#7201a8\"], [0.3333333333333333, \"#9c179e\"], [0.4444444444444444, \"#bd3786\"], [0.5555555555555556, \"#d8576b\"], [0.6666666666666666, \"#ed7953\"], [0.7777777777777778, \"#fb9f3a\"], [0.8888888888888888, \"#fdca26\"], [1.0, \"#f0f921\"]], \"type\": \"histogram2dcontour\"}], \"mesh3d\": [{\"colorbar\": {\"outlinewidth\": 0, \"ticks\": \"\"}, \"type\": \"mesh3d\"}], \"parcoords\": [{\"line\": {\"colorbar\": {\"outlinewidth\": 0, \"ticks\": \"\"}}, \"type\": \"parcoords\"}], \"pie\": [{\"automargin\": true, \"type\": \"pie\"}], \"scatter\": [{\"marker\": {\"colorbar\": {\"outlinewidth\": 0, \"ticks\": \"\"}}, \"type\": \"scatter\"}], \"scatter3d\": [{\"line\": {\"colorbar\": {\"outlinewidth\": 0, \"ticks\": \"\"}}, \"marker\": {\"colorbar\": {\"outlinewidth\": 0, \"ticks\": \"\"}}, \"type\": \"scatter3d\"}], \"scattercarpet\": [{\"marker\": {\"colorbar\": {\"outlinewidth\": 0, \"ticks\": \"\"}}, \"type\": \"scattercarpet\"}], \"scattergeo\": [{\"marker\": {\"colorbar\": {\"outlinewidth\": 0, \"ticks\": \"\"}}, \"type\": \"scattergeo\"}], \"scattergl\": [{\"marker\": {\"colorbar\": {\"outlinewidth\": 0, \"ticks\": \"\"}}, \"type\": \"scattergl\"}], \"scattermapbox\": [{\"marker\": {\"colorbar\": {\"outlinewidth\": 0, \"ticks\": \"\"}}, \"type\": \"scattermapbox\"}], \"scatterpolar\": [{\"marker\": {\"colorbar\": {\"outlinewidth\": 0, \"ticks\": \"\"}}, \"type\": \"scatterpolar\"}], \"scatterpolargl\": [{\"marker\": {\"colorbar\": {\"outlinewidth\": 0, \"ticks\": \"\"}}, \"type\": \"scatterpolargl\"}], \"scatterternary\": [{\"marker\": {\"colorbar\": {\"outlinewidth\": 0, \"ticks\": \"\"}}, \"type\": \"scatterternary\"}], \"surface\": [{\"colorbar\": {\"outlinewidth\": 0, \"ticks\": \"\"}, \"colorscale\": [[0.0, \"#0d0887\"], [0.1111111111111111, \"#46039f\"], [0.2222222222222222, \"#7201a8\"], [0.3333333333333333, \"#9c179e\"], [0.4444444444444444, \"#bd3786\"], [0.5555555555555556, \"#d8576b\"], [0.6666666666666666, \"#ed7953\"], [0.7777777777777778, \"#fb9f3a\"], [0.8888888888888888, \"#fdca26\"], [1.0, \"#f0f921\"]], \"type\": \"surface\"}], \"table\": [{\"cells\": {\"fill\": {\"color\": \"#EBF0F8\"}, \"line\": {\"color\": \"white\"}}, \"header\": {\"fill\": {\"color\": \"#C8D4E3\"}, \"line\": {\"color\": \"white\"}}, \"type\": \"table\"}]}, \"layout\": {\"annotationdefaults\": {\"arrowcolor\": \"#2a3f5f\", \"arrowhead\": 0, \"arrowwidth\": 1}, \"coloraxis\": {\"colorbar\": {\"outlinewidth\": 0, \"ticks\": \"\"}}, \"colorscale\": {\"diverging\": [[0, \"#8e0152\"], [0.1, \"#c51b7d\"], [0.2, \"#de77ae\"], [0.3, \"#f1b6da\"], [0.4, \"#fde0ef\"], [0.5, \"#f7f7f7\"], [0.6, \"#e6f5d0\"], [0.7, \"#b8e186\"], [0.8, \"#7fbc41\"], [0.9, \"#4d9221\"], [1, \"#276419\"]], \"sequential\": [[0.0, \"#0d0887\"], [0.1111111111111111, \"#46039f\"], [0.2222222222222222, \"#7201a8\"], [0.3333333333333333, \"#9c179e\"], [0.4444444444444444, \"#bd3786\"], [0.5555555555555556, \"#d8576b\"], [0.6666666666666666, \"#ed7953\"], [0.7777777777777778, \"#fb9f3a\"], [0.8888888888888888, \"#fdca26\"], [1.0, \"#f0f921\"]], \"sequentialminus\": [[0.0, \"#0d0887\"], [0.1111111111111111, \"#46039f\"], [0.2222222222222222, \"#7201a8\"], [0.3333333333333333, \"#9c179e\"], [0.4444444444444444, \"#bd3786\"], [0.5555555555555556, \"#d8576b\"], [0.6666666666666666, \"#ed7953\"], [0.7777777777777778, \"#fb9f3a\"], [0.8888888888888888, \"#fdca26\"], [1.0, \"#f0f921\"]]}, \"colorway\": [\"#636efa\", \"#EF553B\", \"#00cc96\", \"#ab63fa\", \"#FFA15A\", \"#19d3f3\", \"#FF6692\", \"#B6E880\", \"#FF97FF\", \"#FECB52\"], \"font\": {\"color\": \"#2a3f5f\"}, \"geo\": {\"bgcolor\": \"white\", \"lakecolor\": \"white\", \"landcolor\": \"#E5ECF6\", \"showlakes\": true, \"showland\": true, \"subunitcolor\": \"white\"}, \"hoverlabel\": {\"align\": \"left\"}, \"hovermode\": \"closest\", \"mapbox\": {\"style\": \"light\"}, \"paper_bgcolor\": \"white\", \"plot_bgcolor\": \"#E5ECF6\", \"polar\": {\"angularaxis\": {\"gridcolor\": \"white\", \"linecolor\": \"white\", \"ticks\": \"\"}, \"bgcolor\": \"#E5ECF6\", \"radialaxis\": {\"gridcolor\": \"white\", \"linecolor\": \"white\", \"ticks\": \"\"}}, \"scene\": {\"xaxis\": {\"backgroundcolor\": \"#E5ECF6\", \"gridcolor\": \"white\", \"gridwidth\": 2, \"linecolor\": \"white\", \"showbackground\": true, \"ticks\": \"\", \"zerolinecolor\": \"white\"}, \"yaxis\": {\"backgroundcolor\": \"#E5ECF6\", \"gridcolor\": \"white\", \"gridwidth\": 2, \"linecolor\": \"white\", \"showbackground\": true, \"ticks\": \"\", \"zerolinecolor\": \"white\"}, \"zaxis\": {\"backgroundcolor\": \"#E5ECF6\", \"gridcolor\": \"white\", \"gridwidth\": 2, \"linecolor\": \"white\", \"showbackground\": true, \"ticks\": \"\", \"zerolinecolor\": \"white\"}}, \"shapedefaults\": {\"line\": {\"color\": \"#2a3f5f\"}}, \"ternary\": {\"aaxis\": {\"gridcolor\": \"white\", \"linecolor\": \"white\", \"ticks\": \"\"}, \"baxis\": {\"gridcolor\": \"white\", \"linecolor\": \"white\", \"ticks\": \"\"}, \"bgcolor\": \"#E5ECF6\", \"caxis\": {\"gridcolor\": \"white\", \"linecolor\": \"white\", \"ticks\": \"\"}}, \"title\": {\"x\": 0.05}, \"xaxis\": {\"automargin\": true, \"gridcolor\": \"white\", \"linecolor\": \"white\", \"ticks\": \"\", \"title\": {\"standoff\": 15}, \"zerolinecolor\": \"white\", \"zerolinewidth\": 2}, \"yaxis\": {\"automargin\": true, \"gridcolor\": \"white\", \"linecolor\": \"white\", \"ticks\": \"\", \"title\": {\"standoff\": 15}, \"zerolinecolor\": \"white\", \"zerolinewidth\": 2}}}, \"title\": {\"font\": {\"color\": \"#4D5663\"}}, \"xaxis\": {\"gridcolor\": \"#E1E5ED\", \"showgrid\": true, \"tickfont\": {\"color\": \"#4D5663\"}, \"title\": {\"font\": {\"color\": \"#4D5663\"}, \"text\": \"\"}, \"zerolinecolor\": \"#E1E5ED\"}, \"yaxis\": {\"gridcolor\": \"#E1E5ED\", \"showgrid\": true, \"tickfont\": {\"color\": \"#4D5663\"}, \"title\": {\"font\": {\"color\": \"#4D5663\"}, \"text\": \"\"}, \"zerolinecolor\": \"#E1E5ED\"}},\n",
       "                        {\"showLink\": true, \"linkText\": \"Export to plot.ly\", \"plotlyServerURL\": \"https://plot.ly\", \"responsive\": true}\n",
       "                    ).then(function(){\n",
       "                            \n",
       "var gd = document.getElementById('573d3b23-1774-43e8-a3fe-afe88b0aac2e');\n",
       "var x = new MutationObserver(function (mutations, observer) {{\n",
       "        var display = window.getComputedStyle(gd).display;\n",
       "        if (!display || display === 'none') {{\n",
       "            console.log([gd, 'removed!']);\n",
       "            Plotly.purge(gd);\n",
       "            observer.disconnect();\n",
       "        }}\n",
       "}});\n",
       "\n",
       "// Listen for the removal of the full notebook cells\n",
       "var notebookContainer = gd.closest('#notebook-container');\n",
       "if (notebookContainer) {{\n",
       "    x.observe(notebookContainer, {childList: true});\n",
       "}}\n",
       "\n",
       "// Listen for the clearing of the current output cell\n",
       "var outputEl = gd.closest('.output');\n",
       "if (outputEl) {{\n",
       "    x.observe(outputEl, {childList: true});\n",
       "}}\n",
       "\n",
       "                        })\n",
       "                };\n",
       "                });\n",
       "            </script>\n",
       "        </div>"
      ]
     },
     "metadata": {},
     "output_type": "display_data"
    }
   ],
   "source": [
    "df['A'].iplot(kind='hist')"
   ]
  },
  {
   "cell_type": "markdown",
   "metadata": {},
   "source": [
    "`Histogramas de todas as colunas (mesmo tipo de dados)`"
   ]
  },
  {
   "cell_type": "code",
   "execution_count": 20,
   "metadata": {},
   "outputs": [
    {
     "data": {
      "application/vnd.plotly.v1+json": {
       "config": {
        "linkText": "Export to plot.ly",
        "plotlyServerURL": "https://plot.ly",
        "showLink": true
       },
       "data": [
        {
         "histfunc": "count",
         "histnorm": "",
         "marker": {
          "color": "rgba(255, 153, 51, 1.0)",
          "line": {
           "color": "#4D5663",
           "width": 1.3
          }
         },
         "name": "A",
         "opacity": 0.8,
         "orientation": "v",
         "type": "histogram",
         "x": [
          -2.2330045307590853,
          -0.9521908995974245,
          0.27846606978193117,
          -0.7497430396641565,
          -0.8956342510414951,
          -0.2701922755157396,
          0.13378854729598888,
          -0.10139493386630462,
          2.4089945148153924,
          2.2798960353709634,
          1.536776871530047,
          -0.4738067773638204,
          0.3895763004483561,
          -0.44813497414482384,
          -0.04272139930867001,
          1.8607472786609707,
          -0.6439882932495113,
          1.2582962916443727,
          -1.204805217634797,
          -0.1429158275301282,
          1.1677493616360861,
          -2.6530884634429985,
          -0.9403827018208064,
          0.1496396817935744,
          0.04470276113270573,
          -0.7319557334866961,
          0.5233737734533389,
          -0.4409303064263165,
          -0.5833238720623664,
          0.25649916497690095,
          -0.30081158546772635,
          0.07975881141571715,
          -2.090321583607134,
          -0.8712175959679449,
          -0.6931394651239492,
          -0.8218402617535678,
          1.4418250131499333,
          0.3751607269805806,
          1.2314240010401805,
          0.4199928878005679,
          -0.1554548985369435,
          1.8868088114432202,
          -0.694422411044866,
          1.1436083825779144,
          0.7624519963607965,
          -0.2482247596359065,
          1.4414688130029367,
          0.22035610962969224,
          0.2950496995083218,
          -0.0002316334366230875,
          1.2896860527248302,
          1.1265104298484678,
          -0.0036286696037859285,
          -0.826340568102362,
          -1.018582405591517,
          -1.291063854400129,
          -0.19008683392694992,
          -0.763872927674939,
          2.0959738808836414,
          2.130647594088596,
          2.224539281704161,
          1.1940475375397548,
          -0.7876803121312159,
          0.969667697580649,
          0.9493233327045774,
          -0.044403311331418185,
          0.3895596700750885,
          -0.014452893562845948,
          -0.6968071801779312,
          0.1614108555208764,
          -0.12276024863235002,
          -0.8370581648026316,
          -0.24705922180806691,
          -0.10403134026483714,
          -1.4284743931846275,
          0.3535476401056677,
          -0.10544217505192499,
          1.6963828925675466,
          0.5915873562228502,
          0.9907707442218054,
          0.7428977212707456,
          -0.07200887621832967,
          0.00017457906821124856,
          0.013110631310684354,
          1.9240017540561096,
          -0.4264462466703405,
          0.16219704052654055,
          0.4697559969879681,
          1.0060845122288846,
          0.7676496704361507,
          -0.9161171095812846,
          -1.624314104246879,
          -0.9527835783780093,
          -0.17739704862730749,
          1.0650077734242744,
          0.43385923873565196,
          1.6979048817374556,
          -1.853810177762625,
          0.9776180877321272,
          -0.8272963834606755
         ]
        },
        {
         "histfunc": "count",
         "histnorm": "",
         "marker": {
          "color": "rgba(55, 128, 191, 1.0)",
          "line": {
           "color": "#4D5663",
           "width": 1.3
          }
         },
         "name": "B",
         "opacity": 0.8,
         "orientation": "v",
         "type": "histogram",
         "x": [
          -0.9234838055280741,
          0.1837906133650663,
          0.9549006334057075,
          -0.8172743696437627,
          0.3174431081329297,
          0.21808918953745687,
          0.6815729465243698,
          -0.262815565993623,
          0.0013540987106652831,
          -0.27062784691556646,
          -0.8728212153054438,
          -0.6131662144165188,
          0.8217767277509427,
          -0.37803366564505864,
          -0.38120900740011365,
          0.615824227870488,
          -0.3479271621381179,
          -0.14022948149868633,
          0.4715134428149978,
          -1.3875270322229551,
          2.291695981953175,
          -0.4233067765902022,
          -0.4010460654069656,
          1.4953409235326716,
          0.055794820889501835,
          1.1085643506927436,
          -0.34084079925276806,
          -0.04448454401577478,
          -0.7068197188417409,
          -0.28196538329893095,
          0.35645508606988024,
          -1.9319911284139681,
          0.30676889430031434,
          1.0195069345873582,
          0.5815106975487212,
          0.6675437405444582,
          -1.451462224194573,
          1.7537992807886817,
          -0.5223131305426536,
          -2.0899011210520055,
          -1.1868763568302543,
          -1.654932061201535,
          -1.6874933947593838,
          -1.2156525913674665,
          1.6794846829271606,
          0.7092856518073,
          0.6629875673201554,
          -0.6411635757117996,
          -1.1881576800789335,
          -1.160918932012118,
          -0.014452385012939719,
          -0.8158088796870766,
          -1.112112811778674,
          -0.4134909737727676,
          0.7679354852691683,
          -0.5288693699646896,
          0.966238933639739,
          0.5428284262688382,
          -0.8993016610838763,
          1.9686623433577968,
          -1.1099790369124423,
          -0.7148053007009889,
          -0.05035305723891644,
          -0.2825442564032258,
          0.6220386837974622,
          -0.02607398992073639,
          -0.12904032210431582,
          -0.4462530044659881,
          1.0919323927621174,
          -0.2838491101268597,
          0.8898082348209791,
          -0.05344663510556132,
          0.6764322455699061,
          2.110521685528398,
          -0.9540742926640376,
          -0.0709709220358443,
          -0.05552091480298457,
          0.49519307651171957,
          -0.47214686334867095,
          -0.43038367094404784,
          -0.5262311656239208,
          0.41668007402483337,
          -0.46314704835682,
          1.1978416309836064,
          0.06945342626551727,
          0.2852068613579216,
          -0.9260930337101595,
          -1.299229452656461,
          -0.01752394800048146,
          1.333737866854547,
          -1.0027996183786698,
          1.3712373857073232,
          -1.3929633493161442,
          -2.003173109247321,
          -0.5638422495748624,
          -0.08713154635704083,
          0.7826639766427661,
          1.6599223202958147,
          1.8225331731889711,
          -0.3637271366130778
         ]
        },
        {
         "histfunc": "count",
         "histnorm": "",
         "marker": {
          "color": "rgba(50, 171, 96, 1.0)",
          "line": {
           "color": "#4D5663",
           "width": 1.3
          }
         },
         "name": "C",
         "opacity": 0.8,
         "orientation": "v",
         "type": "histogram",
         "x": [
          0.2755716670365263,
          -1.4107567274282897,
          0.6541175742867782,
          1.9674690515547126,
          1.256596339268459,
          0.523856596662497,
          -0.8969265311525533,
          0.3244140138558535,
          -0.9950241003805131,
          0.010323270077411526,
          -0.4081624657415359,
          0.856972738882899,
          0.04068662059895318,
          -1.2944868481985685,
          -0.9619587879235344,
          -1.2789542109730379,
          -0.9026009083226586,
          -0.30943964771853477,
          1.4669276807914478,
          2.1886965346332614,
          -0.7853005063471961,
          -1.7956697006953894,
          -1.561114867168884,
          -0.14455531064454316,
          0.4097967940659489,
          0.027689805529984155,
          -0.8497038505348563,
          1.8046874328359785,
          0.7071894503644003,
          1.213741530303425,
          -1.0343725538212367,
          0.22659112518910376,
          -1.1486822151076266,
          0.9966989811826483,
          0.4142349713487508,
          1.0253873908752684,
          -0.6344711510801252,
          0.2736544613480108,
          0.10304790113170942,
          -0.03298524733362019,
          0.5935028001089265,
          0.4838846773154546,
          0.8732381580494233,
          1.4128524795674415,
          0.08490496568549535,
          0.050290802392600024,
          -0.46573622578532187,
          0.18929328771708429,
          0.022354739248472047,
          0.18032179012293742,
          -0.5383926430861103,
          0.6349278683681299,
          0.7460618503587655,
          0.6143492711346112,
          1.1800052422773377,
          -0.4317198762713371,
          -0.39825819636098175,
          0.020492888094452415,
          0.26054148974539326,
          0.35542164302954893,
          -0.09632068069538566,
          1.1880737687482943,
          0.7622480573510461,
          -0.12954313804362508,
          0.6448810312697735,
          0.14237852278024538,
          -1.254266568431477,
          -0.4390979624690971,
          -0.7899958009345055,
          -0.30993485012088473,
          0.6722028469700168,
          -0.7823208404463984,
          0.5862555713819035,
          1.2177004118684112,
          1.587168629736668,
          0.43377784098629774,
          0.2796177411902997,
          0.8470418963750924,
          0.3360985288016682,
          0.9208215794336971,
          0.002407301316962099,
          0.00458636300942406,
          0.9329535515195241,
          -0.7517379185041624,
          1.1400847378001369,
          -1.9844115112198117,
          1.268566939128557,
          -0.0334254762745057,
          -1.6953738158116232,
          -0.8040408315832263,
          0.016360777148160116,
          0.41731413370847836,
          -0.38523140506373255,
          1.2970812498450508,
          -2.236660366102504,
          -0.5882604503630262,
          -0.2731599067897886,
          -0.29682518018130133,
          0.6461631547594263,
          0.60302821358222
         ]
        },
        {
         "histfunc": "count",
         "histnorm": "",
         "marker": {
          "color": "rgba(128, 0, 128, 1.0)",
          "line": {
           "color": "#4D5663",
           "width": 1.3
          }
         },
         "name": "D",
         "opacity": 0.8,
         "orientation": "v",
         "type": "histogram",
         "x": [
          0.3643930281255974,
          0.15026292366620095,
          1.2187222278603946,
          -0.8659906012809404,
          0.6004784913268533,
          -1.0589820545230748,
          -1.5683314423426904,
          -1.6539365309773515,
          0.12136885230734451,
          1.769195740544522,
          -0.34786923195499164,
          -0.5611026339790515,
          1.884395043792925,
          0.10554293170215406,
          -0.6971983382812603,
          0.7833018925568376,
          -2.300638357051978,
          -1.3172806218596724,
          -0.04373228510009631,
          -1.2671251518663433,
          1.3682141073747136,
          0.1758901613320038,
          0.4131184697361528,
          -0.13307235755723854,
          -0.09343541524988579,
          -0.23793992896567595,
          0.37511476141478445,
          1.5348806704194566,
          -0.9690143836986986,
          -0.4361298995213377,
          0.11884415029697731,
          0.7053708211848962,
          -1.170756619547385,
          0.12391062586154639,
          -1.775733651033394,
          -1.7025147144806678,
          0.24120216357934682,
          -0.05909560823662816,
          0.6990921904976213,
          -1.2551961134773182,
          -0.190020144313903,
          -1.2001001024950408,
          0.6274370541851635,
          0.5015803990467228,
          1.7377383170505403,
          0.7669569890905374,
          -0.591194403818167,
          -1.184929573922818,
          -0.09713963731436984,
          2.2273843627971575,
          -1.2140642939832837,
          -0.726190654922945,
          0.21963148157113957,
          -0.2669805745888528,
          -0.767942069013212,
          -0.1521855580871152,
          -0.3904159798584094,
          1.2739452686099946,
          0.36218314088967013,
          0.11030818464201156,
          1.9268791207613563,
          0.5487869697256245,
          -0.9762768663466627,
          1.3932777236238698,
          0.7258730775669255,
          -1.94063820760366,
          -0.5616258682969569,
          -1.045963556303688,
          -0.046928354294379034,
          -0.6985230840516604,
          -0.09137824514435089,
          0.11975928366817555,
          0.5719600766112413,
          -0.5602018420934456,
          -1.3733210357679502,
          0.930729614688202,
          -1.2865839708266649,
          0.24263820697068555,
          -0.6503235979872184,
          0.9780605553222481,
          0.2058777005882192,
          -0.08601947943729862,
          0.4341754032068352,
          -0.836596194783516,
          -0.5578839609069209,
          -0.5134003010550453,
          0.2902632694148725,
          -2.69040970394117,
          0.9976251276467392,
          1.5258496506679962,
          -0.09914102682089235,
          -1.2196458165465838,
          1.8644668321972602,
          1.0079481290352872,
          -0.4500239322508063,
          0.8962399016639363,
          -0.37922022639110614,
          0.2181399664309546,
          -0.12843420402850228,
          2.1360706839894226
         ]
        }
       ],
       "layout": {
        "barmode": "overlay",
        "legend": {
         "bgcolor": "#F5F6F9",
         "font": {
          "color": "#4D5663"
         }
        },
        "paper_bgcolor": "#F5F6F9",
        "plot_bgcolor": "#F5F6F9",
        "template": {
         "data": {
          "bar": [
           {
            "error_x": {
             "color": "#2a3f5f"
            },
            "error_y": {
             "color": "#2a3f5f"
            },
            "marker": {
             "line": {
              "color": "#E5ECF6",
              "width": 0.5
             }
            },
            "type": "bar"
           }
          ],
          "barpolar": [
           {
            "marker": {
             "line": {
              "color": "#E5ECF6",
              "width": 0.5
             }
            },
            "type": "barpolar"
           }
          ],
          "carpet": [
           {
            "aaxis": {
             "endlinecolor": "#2a3f5f",
             "gridcolor": "white",
             "linecolor": "white",
             "minorgridcolor": "white",
             "startlinecolor": "#2a3f5f"
            },
            "baxis": {
             "endlinecolor": "#2a3f5f",
             "gridcolor": "white",
             "linecolor": "white",
             "minorgridcolor": "white",
             "startlinecolor": "#2a3f5f"
            },
            "type": "carpet"
           }
          ],
          "choropleth": [
           {
            "colorbar": {
             "outlinewidth": 0,
             "ticks": ""
            },
            "type": "choropleth"
           }
          ],
          "contour": [
           {
            "colorbar": {
             "outlinewidth": 0,
             "ticks": ""
            },
            "colorscale": [
             [
              0,
              "#0d0887"
             ],
             [
              0.1111111111111111,
              "#46039f"
             ],
             [
              0.2222222222222222,
              "#7201a8"
             ],
             [
              0.3333333333333333,
              "#9c179e"
             ],
             [
              0.4444444444444444,
              "#bd3786"
             ],
             [
              0.5555555555555556,
              "#d8576b"
             ],
             [
              0.6666666666666666,
              "#ed7953"
             ],
             [
              0.7777777777777778,
              "#fb9f3a"
             ],
             [
              0.8888888888888888,
              "#fdca26"
             ],
             [
              1,
              "#f0f921"
             ]
            ],
            "type": "contour"
           }
          ],
          "contourcarpet": [
           {
            "colorbar": {
             "outlinewidth": 0,
             "ticks": ""
            },
            "type": "contourcarpet"
           }
          ],
          "heatmap": [
           {
            "colorbar": {
             "outlinewidth": 0,
             "ticks": ""
            },
            "colorscale": [
             [
              0,
              "#0d0887"
             ],
             [
              0.1111111111111111,
              "#46039f"
             ],
             [
              0.2222222222222222,
              "#7201a8"
             ],
             [
              0.3333333333333333,
              "#9c179e"
             ],
             [
              0.4444444444444444,
              "#bd3786"
             ],
             [
              0.5555555555555556,
              "#d8576b"
             ],
             [
              0.6666666666666666,
              "#ed7953"
             ],
             [
              0.7777777777777778,
              "#fb9f3a"
             ],
             [
              0.8888888888888888,
              "#fdca26"
             ],
             [
              1,
              "#f0f921"
             ]
            ],
            "type": "heatmap"
           }
          ],
          "heatmapgl": [
           {
            "colorbar": {
             "outlinewidth": 0,
             "ticks": ""
            },
            "colorscale": [
             [
              0,
              "#0d0887"
             ],
             [
              0.1111111111111111,
              "#46039f"
             ],
             [
              0.2222222222222222,
              "#7201a8"
             ],
             [
              0.3333333333333333,
              "#9c179e"
             ],
             [
              0.4444444444444444,
              "#bd3786"
             ],
             [
              0.5555555555555556,
              "#d8576b"
             ],
             [
              0.6666666666666666,
              "#ed7953"
             ],
             [
              0.7777777777777778,
              "#fb9f3a"
             ],
             [
              0.8888888888888888,
              "#fdca26"
             ],
             [
              1,
              "#f0f921"
             ]
            ],
            "type": "heatmapgl"
           }
          ],
          "histogram": [
           {
            "marker": {
             "colorbar": {
              "outlinewidth": 0,
              "ticks": ""
             }
            },
            "type": "histogram"
           }
          ],
          "histogram2d": [
           {
            "colorbar": {
             "outlinewidth": 0,
             "ticks": ""
            },
            "colorscale": [
             [
              0,
              "#0d0887"
             ],
             [
              0.1111111111111111,
              "#46039f"
             ],
             [
              0.2222222222222222,
              "#7201a8"
             ],
             [
              0.3333333333333333,
              "#9c179e"
             ],
             [
              0.4444444444444444,
              "#bd3786"
             ],
             [
              0.5555555555555556,
              "#d8576b"
             ],
             [
              0.6666666666666666,
              "#ed7953"
             ],
             [
              0.7777777777777778,
              "#fb9f3a"
             ],
             [
              0.8888888888888888,
              "#fdca26"
             ],
             [
              1,
              "#f0f921"
             ]
            ],
            "type": "histogram2d"
           }
          ],
          "histogram2dcontour": [
           {
            "colorbar": {
             "outlinewidth": 0,
             "ticks": ""
            },
            "colorscale": [
             [
              0,
              "#0d0887"
             ],
             [
              0.1111111111111111,
              "#46039f"
             ],
             [
              0.2222222222222222,
              "#7201a8"
             ],
             [
              0.3333333333333333,
              "#9c179e"
             ],
             [
              0.4444444444444444,
              "#bd3786"
             ],
             [
              0.5555555555555556,
              "#d8576b"
             ],
             [
              0.6666666666666666,
              "#ed7953"
             ],
             [
              0.7777777777777778,
              "#fb9f3a"
             ],
             [
              0.8888888888888888,
              "#fdca26"
             ],
             [
              1,
              "#f0f921"
             ]
            ],
            "type": "histogram2dcontour"
           }
          ],
          "mesh3d": [
           {
            "colorbar": {
             "outlinewidth": 0,
             "ticks": ""
            },
            "type": "mesh3d"
           }
          ],
          "parcoords": [
           {
            "line": {
             "colorbar": {
              "outlinewidth": 0,
              "ticks": ""
             }
            },
            "type": "parcoords"
           }
          ],
          "pie": [
           {
            "automargin": true,
            "type": "pie"
           }
          ],
          "scatter": [
           {
            "marker": {
             "colorbar": {
              "outlinewidth": 0,
              "ticks": ""
             }
            },
            "type": "scatter"
           }
          ],
          "scatter3d": [
           {
            "line": {
             "colorbar": {
              "outlinewidth": 0,
              "ticks": ""
             }
            },
            "marker": {
             "colorbar": {
              "outlinewidth": 0,
              "ticks": ""
             }
            },
            "type": "scatter3d"
           }
          ],
          "scattercarpet": [
           {
            "marker": {
             "colorbar": {
              "outlinewidth": 0,
              "ticks": ""
             }
            },
            "type": "scattercarpet"
           }
          ],
          "scattergeo": [
           {
            "marker": {
             "colorbar": {
              "outlinewidth": 0,
              "ticks": ""
             }
            },
            "type": "scattergeo"
           }
          ],
          "scattergl": [
           {
            "marker": {
             "colorbar": {
              "outlinewidth": 0,
              "ticks": ""
             }
            },
            "type": "scattergl"
           }
          ],
          "scattermapbox": [
           {
            "marker": {
             "colorbar": {
              "outlinewidth": 0,
              "ticks": ""
             }
            },
            "type": "scattermapbox"
           }
          ],
          "scatterpolar": [
           {
            "marker": {
             "colorbar": {
              "outlinewidth": 0,
              "ticks": ""
             }
            },
            "type": "scatterpolar"
           }
          ],
          "scatterpolargl": [
           {
            "marker": {
             "colorbar": {
              "outlinewidth": 0,
              "ticks": ""
             }
            },
            "type": "scatterpolargl"
           }
          ],
          "scatterternary": [
           {
            "marker": {
             "colorbar": {
              "outlinewidth": 0,
              "ticks": ""
             }
            },
            "type": "scatterternary"
           }
          ],
          "surface": [
           {
            "colorbar": {
             "outlinewidth": 0,
             "ticks": ""
            },
            "colorscale": [
             [
              0,
              "#0d0887"
             ],
             [
              0.1111111111111111,
              "#46039f"
             ],
             [
              0.2222222222222222,
              "#7201a8"
             ],
             [
              0.3333333333333333,
              "#9c179e"
             ],
             [
              0.4444444444444444,
              "#bd3786"
             ],
             [
              0.5555555555555556,
              "#d8576b"
             ],
             [
              0.6666666666666666,
              "#ed7953"
             ],
             [
              0.7777777777777778,
              "#fb9f3a"
             ],
             [
              0.8888888888888888,
              "#fdca26"
             ],
             [
              1,
              "#f0f921"
             ]
            ],
            "type": "surface"
           }
          ],
          "table": [
           {
            "cells": {
             "fill": {
              "color": "#EBF0F8"
             },
             "line": {
              "color": "white"
             }
            },
            "header": {
             "fill": {
              "color": "#C8D4E3"
             },
             "line": {
              "color": "white"
             }
            },
            "type": "table"
           }
          ]
         },
         "layout": {
          "annotationdefaults": {
           "arrowcolor": "#2a3f5f",
           "arrowhead": 0,
           "arrowwidth": 1
          },
          "coloraxis": {
           "colorbar": {
            "outlinewidth": 0,
            "ticks": ""
           }
          },
          "colorscale": {
           "diverging": [
            [
             0,
             "#8e0152"
            ],
            [
             0.1,
             "#c51b7d"
            ],
            [
             0.2,
             "#de77ae"
            ],
            [
             0.3,
             "#f1b6da"
            ],
            [
             0.4,
             "#fde0ef"
            ],
            [
             0.5,
             "#f7f7f7"
            ],
            [
             0.6,
             "#e6f5d0"
            ],
            [
             0.7,
             "#b8e186"
            ],
            [
             0.8,
             "#7fbc41"
            ],
            [
             0.9,
             "#4d9221"
            ],
            [
             1,
             "#276419"
            ]
           ],
           "sequential": [
            [
             0,
             "#0d0887"
            ],
            [
             0.1111111111111111,
             "#46039f"
            ],
            [
             0.2222222222222222,
             "#7201a8"
            ],
            [
             0.3333333333333333,
             "#9c179e"
            ],
            [
             0.4444444444444444,
             "#bd3786"
            ],
            [
             0.5555555555555556,
             "#d8576b"
            ],
            [
             0.6666666666666666,
             "#ed7953"
            ],
            [
             0.7777777777777778,
             "#fb9f3a"
            ],
            [
             0.8888888888888888,
             "#fdca26"
            ],
            [
             1,
             "#f0f921"
            ]
           ],
           "sequentialminus": [
            [
             0,
             "#0d0887"
            ],
            [
             0.1111111111111111,
             "#46039f"
            ],
            [
             0.2222222222222222,
             "#7201a8"
            ],
            [
             0.3333333333333333,
             "#9c179e"
            ],
            [
             0.4444444444444444,
             "#bd3786"
            ],
            [
             0.5555555555555556,
             "#d8576b"
            ],
            [
             0.6666666666666666,
             "#ed7953"
            ],
            [
             0.7777777777777778,
             "#fb9f3a"
            ],
            [
             0.8888888888888888,
             "#fdca26"
            ],
            [
             1,
             "#f0f921"
            ]
           ]
          },
          "colorway": [
           "#636efa",
           "#EF553B",
           "#00cc96",
           "#ab63fa",
           "#FFA15A",
           "#19d3f3",
           "#FF6692",
           "#B6E880",
           "#FF97FF",
           "#FECB52"
          ],
          "font": {
           "color": "#2a3f5f"
          },
          "geo": {
           "bgcolor": "white",
           "lakecolor": "white",
           "landcolor": "#E5ECF6",
           "showlakes": true,
           "showland": true,
           "subunitcolor": "white"
          },
          "hoverlabel": {
           "align": "left"
          },
          "hovermode": "closest",
          "mapbox": {
           "style": "light"
          },
          "paper_bgcolor": "white",
          "plot_bgcolor": "#E5ECF6",
          "polar": {
           "angularaxis": {
            "gridcolor": "white",
            "linecolor": "white",
            "ticks": ""
           },
           "bgcolor": "#E5ECF6",
           "radialaxis": {
            "gridcolor": "white",
            "linecolor": "white",
            "ticks": ""
           }
          },
          "scene": {
           "xaxis": {
            "backgroundcolor": "#E5ECF6",
            "gridcolor": "white",
            "gridwidth": 2,
            "linecolor": "white",
            "showbackground": true,
            "ticks": "",
            "zerolinecolor": "white"
           },
           "yaxis": {
            "backgroundcolor": "#E5ECF6",
            "gridcolor": "white",
            "gridwidth": 2,
            "linecolor": "white",
            "showbackground": true,
            "ticks": "",
            "zerolinecolor": "white"
           },
           "zaxis": {
            "backgroundcolor": "#E5ECF6",
            "gridcolor": "white",
            "gridwidth": 2,
            "linecolor": "white",
            "showbackground": true,
            "ticks": "",
            "zerolinecolor": "white"
           }
          },
          "shapedefaults": {
           "line": {
            "color": "#2a3f5f"
           }
          },
          "ternary": {
           "aaxis": {
            "gridcolor": "white",
            "linecolor": "white",
            "ticks": ""
           },
           "baxis": {
            "gridcolor": "white",
            "linecolor": "white",
            "ticks": ""
           },
           "bgcolor": "#E5ECF6",
           "caxis": {
            "gridcolor": "white",
            "linecolor": "white",
            "ticks": ""
           }
          },
          "title": {
           "x": 0.05
          },
          "xaxis": {
           "automargin": true,
           "gridcolor": "white",
           "linecolor": "white",
           "ticks": "",
           "title": {
            "standoff": 15
           },
           "zerolinecolor": "white",
           "zerolinewidth": 2
          },
          "yaxis": {
           "automargin": true,
           "gridcolor": "white",
           "linecolor": "white",
           "ticks": "",
           "title": {
            "standoff": 15
           },
           "zerolinecolor": "white",
           "zerolinewidth": 2
          }
         }
        },
        "title": {
         "font": {
          "color": "#4D5663"
         }
        },
        "xaxis": {
         "gridcolor": "#E1E5ED",
         "showgrid": true,
         "tickfont": {
          "color": "#4D5663"
         },
         "title": {
          "font": {
           "color": "#4D5663"
          },
          "text": ""
         },
         "zerolinecolor": "#E1E5ED"
        },
        "yaxis": {
         "gridcolor": "#E1E5ED",
         "showgrid": true,
         "tickfont": {
          "color": "#4D5663"
         },
         "title": {
          "font": {
           "color": "#4D5663"
          },
          "text": ""
         },
         "zerolinecolor": "#E1E5ED"
        }
       }
      },
      "text/html": [
       "<div>\n",
       "        \n",
       "        \n",
       "            <div id=\"d626f041-c02d-47aa-adff-fe05ad897765\" class=\"plotly-graph-div\" style=\"height:525px; width:100%;\"></div>\n",
       "            <script type=\"text/javascript\">\n",
       "                require([\"plotly\"], function(Plotly) {\n",
       "                    window.PLOTLYENV=window.PLOTLYENV || {};\n",
       "                    window.PLOTLYENV.BASE_URL='https://plot.ly';\n",
       "                    \n",
       "                if (document.getElementById(\"d626f041-c02d-47aa-adff-fe05ad897765\")) {\n",
       "                    Plotly.newPlot(\n",
       "                        'd626f041-c02d-47aa-adff-fe05ad897765',\n",
       "                        [{\"histfunc\": \"count\", \"histnorm\": \"\", \"marker\": {\"color\": \"rgba(255, 153, 51, 1.0)\", \"line\": {\"color\": \"#4D5663\", \"width\": 1.3}}, \"name\": \"A\", \"opacity\": 0.8, \"orientation\": \"v\", \"type\": \"histogram\", \"x\": [-2.2330045307590853, -0.9521908995974245, 0.27846606978193117, -0.7497430396641565, -0.8956342510414951, -0.2701922755157396, 0.13378854729598888, -0.10139493386630462, 2.4089945148153924, 2.2798960353709634, 1.536776871530047, -0.4738067773638204, 0.3895763004483561, -0.44813497414482384, -0.04272139930867001, 1.8607472786609707, -0.6439882932495113, 1.2582962916443727, -1.204805217634797, -0.1429158275301282, 1.1677493616360861, -2.6530884634429985, -0.9403827018208064, 0.1496396817935744, 0.04470276113270573, -0.7319557334866961, 0.5233737734533389, -0.4409303064263165, -0.5833238720623664, 0.25649916497690095, -0.30081158546772635, 0.07975881141571715, -2.090321583607134, -0.8712175959679449, -0.6931394651239492, -0.8218402617535678, 1.4418250131499333, 0.3751607269805806, 1.2314240010401805, 0.4199928878005679, -0.1554548985369435, 1.8868088114432202, -0.694422411044866, 1.1436083825779144, 0.7624519963607965, -0.2482247596359065, 1.4414688130029367, 0.22035610962969224, 0.2950496995083218, -0.0002316334366230875, 1.2896860527248302, 1.1265104298484678, -0.0036286696037859285, -0.826340568102362, -1.018582405591517, -1.291063854400129, -0.19008683392694992, -0.763872927674939, 2.0959738808836414, 2.130647594088596, 2.224539281704161, 1.1940475375397548, -0.7876803121312159, 0.969667697580649, 0.9493233327045774, -0.044403311331418185, 0.3895596700750885, -0.014452893562845948, -0.6968071801779312, 0.1614108555208764, -0.12276024863235002, -0.8370581648026316, -0.24705922180806691, -0.10403134026483714, -1.4284743931846275, 0.3535476401056677, -0.10544217505192499, 1.6963828925675466, 0.5915873562228502, 0.9907707442218054, 0.7428977212707456, -0.07200887621832967, 0.00017457906821124856, 0.013110631310684354, 1.9240017540561096, -0.4264462466703405, 0.16219704052654055, 0.4697559969879681, 1.0060845122288846, 0.7676496704361507, -0.9161171095812846, -1.624314104246879, -0.9527835783780093, -0.17739704862730749, 1.0650077734242744, 0.43385923873565196, 1.6979048817374556, -1.853810177762625, 0.9776180877321272, -0.8272963834606755]}, {\"histfunc\": \"count\", \"histnorm\": \"\", \"marker\": {\"color\": \"rgba(55, 128, 191, 1.0)\", \"line\": {\"color\": \"#4D5663\", \"width\": 1.3}}, \"name\": \"B\", \"opacity\": 0.8, \"orientation\": \"v\", \"type\": \"histogram\", \"x\": [-0.9234838055280741, 0.1837906133650663, 0.9549006334057075, -0.8172743696437627, 0.3174431081329297, 0.21808918953745687, 0.6815729465243698, -0.262815565993623, 0.0013540987106652831, -0.27062784691556646, -0.8728212153054438, -0.6131662144165188, 0.8217767277509427, -0.37803366564505864, -0.38120900740011365, 0.615824227870488, -0.3479271621381179, -0.14022948149868633, 0.4715134428149978, -1.3875270322229551, 2.291695981953175, -0.4233067765902022, -0.4010460654069656, 1.4953409235326716, 0.055794820889501835, 1.1085643506927436, -0.34084079925276806, -0.04448454401577478, -0.7068197188417409, -0.28196538329893095, 0.35645508606988024, -1.9319911284139681, 0.30676889430031434, 1.0195069345873582, 0.5815106975487212, 0.6675437405444582, -1.451462224194573, 1.7537992807886817, -0.5223131305426536, -2.0899011210520055, -1.1868763568302543, -1.654932061201535, -1.6874933947593838, -1.2156525913674665, 1.6794846829271606, 0.7092856518073, 0.6629875673201554, -0.6411635757117996, -1.1881576800789335, -1.160918932012118, -0.014452385012939719, -0.8158088796870766, -1.112112811778674, -0.4134909737727676, 0.7679354852691683, -0.5288693699646896, 0.966238933639739, 0.5428284262688382, -0.8993016610838763, 1.9686623433577968, -1.1099790369124423, -0.7148053007009889, -0.05035305723891644, -0.2825442564032258, 0.6220386837974622, -0.02607398992073639, -0.12904032210431582, -0.4462530044659881, 1.0919323927621174, -0.2838491101268597, 0.8898082348209791, -0.05344663510556132, 0.6764322455699061, 2.110521685528398, -0.9540742926640376, -0.0709709220358443, -0.05552091480298457, 0.49519307651171957, -0.47214686334867095, -0.43038367094404784, -0.5262311656239208, 0.41668007402483337, -0.46314704835682, 1.1978416309836064, 0.06945342626551727, 0.2852068613579216, -0.9260930337101595, -1.299229452656461, -0.01752394800048146, 1.333737866854547, -1.0027996183786698, 1.3712373857073232, -1.3929633493161442, -2.003173109247321, -0.5638422495748624, -0.08713154635704083, 0.7826639766427661, 1.6599223202958147, 1.8225331731889711, -0.3637271366130778]}, {\"histfunc\": \"count\", \"histnorm\": \"\", \"marker\": {\"color\": \"rgba(50, 171, 96, 1.0)\", \"line\": {\"color\": \"#4D5663\", \"width\": 1.3}}, \"name\": \"C\", \"opacity\": 0.8, \"orientation\": \"v\", \"type\": \"histogram\", \"x\": [0.2755716670365263, -1.4107567274282897, 0.6541175742867782, 1.9674690515547126, 1.256596339268459, 0.523856596662497, -0.8969265311525533, 0.3244140138558535, -0.9950241003805131, 0.010323270077411526, -0.4081624657415359, 0.856972738882899, 0.04068662059895318, -1.2944868481985685, -0.9619587879235344, -1.2789542109730379, -0.9026009083226586, -0.30943964771853477, 1.4669276807914478, 2.1886965346332614, -0.7853005063471961, -1.7956697006953894, -1.561114867168884, -0.14455531064454316, 0.4097967940659489, 0.027689805529984155, -0.8497038505348563, 1.8046874328359785, 0.7071894503644003, 1.213741530303425, -1.0343725538212367, 0.22659112518910376, -1.1486822151076266, 0.9966989811826483, 0.4142349713487508, 1.0253873908752684, -0.6344711510801252, 0.2736544613480108, 0.10304790113170942, -0.03298524733362019, 0.5935028001089265, 0.4838846773154546, 0.8732381580494233, 1.4128524795674415, 0.08490496568549535, 0.050290802392600024, -0.46573622578532187, 0.18929328771708429, 0.022354739248472047, 0.18032179012293742, -0.5383926430861103, 0.6349278683681299, 0.7460618503587655, 0.6143492711346112, 1.1800052422773377, -0.4317198762713371, -0.39825819636098175, 0.020492888094452415, 0.26054148974539326, 0.35542164302954893, -0.09632068069538566, 1.1880737687482943, 0.7622480573510461, -0.12954313804362508, 0.6448810312697735, 0.14237852278024538, -1.254266568431477, -0.4390979624690971, -0.7899958009345055, -0.30993485012088473, 0.6722028469700168, -0.7823208404463984, 0.5862555713819035, 1.2177004118684112, 1.587168629736668, 0.43377784098629774, 0.2796177411902997, 0.8470418963750924, 0.3360985288016682, 0.9208215794336971, 0.002407301316962099, 0.00458636300942406, 0.9329535515195241, -0.7517379185041624, 1.1400847378001369, -1.9844115112198117, 1.268566939128557, -0.0334254762745057, -1.6953738158116232, -0.8040408315832263, 0.016360777148160116, 0.41731413370847836, -0.38523140506373255, 1.2970812498450508, -2.236660366102504, -0.5882604503630262, -0.2731599067897886, -0.29682518018130133, 0.6461631547594263, 0.60302821358222]}, {\"histfunc\": \"count\", \"histnorm\": \"\", \"marker\": {\"color\": \"rgba(128, 0, 128, 1.0)\", \"line\": {\"color\": \"#4D5663\", \"width\": 1.3}}, \"name\": \"D\", \"opacity\": 0.8, \"orientation\": \"v\", \"type\": \"histogram\", \"x\": [0.3643930281255974, 0.15026292366620095, 1.2187222278603946, -0.8659906012809404, 0.6004784913268533, -1.0589820545230748, -1.5683314423426904, -1.6539365309773515, 0.12136885230734451, 1.769195740544522, -0.34786923195499164, -0.5611026339790515, 1.884395043792925, 0.10554293170215406, -0.6971983382812603, 0.7833018925568376, -2.300638357051978, -1.3172806218596724, -0.04373228510009631, -1.2671251518663433, 1.3682141073747136, 0.1758901613320038, 0.4131184697361528, -0.13307235755723854, -0.09343541524988579, -0.23793992896567595, 0.37511476141478445, 1.5348806704194566, -0.9690143836986986, -0.4361298995213377, 0.11884415029697731, 0.7053708211848962, -1.170756619547385, 0.12391062586154639, -1.775733651033394, -1.7025147144806678, 0.24120216357934682, -0.05909560823662816, 0.6990921904976213, -1.2551961134773182, -0.190020144313903, -1.2001001024950408, 0.6274370541851635, 0.5015803990467228, 1.7377383170505403, 0.7669569890905374, -0.591194403818167, -1.184929573922818, -0.09713963731436984, 2.2273843627971575, -1.2140642939832837, -0.726190654922945, 0.21963148157113957, -0.2669805745888528, -0.767942069013212, -0.1521855580871152, -0.3904159798584094, 1.2739452686099946, 0.36218314088967013, 0.11030818464201156, 1.9268791207613563, 0.5487869697256245, -0.9762768663466627, 1.3932777236238698, 0.7258730775669255, -1.94063820760366, -0.5616258682969569, -1.045963556303688, -0.046928354294379034, -0.6985230840516604, -0.09137824514435089, 0.11975928366817555, 0.5719600766112413, -0.5602018420934456, -1.3733210357679502, 0.930729614688202, -1.2865839708266649, 0.24263820697068555, -0.6503235979872184, 0.9780605553222481, 0.2058777005882192, -0.08601947943729862, 0.4341754032068352, -0.836596194783516, -0.5578839609069209, -0.5134003010550453, 0.2902632694148725, -2.69040970394117, 0.9976251276467392, 1.5258496506679962, -0.09914102682089235, -1.2196458165465838, 1.8644668321972602, 1.0079481290352872, -0.4500239322508063, 0.8962399016639363, -0.37922022639110614, 0.2181399664309546, -0.12843420402850228, 2.1360706839894226]}],\n",
       "                        {\"barmode\": \"overlay\", \"legend\": {\"bgcolor\": \"#F5F6F9\", \"font\": {\"color\": \"#4D5663\"}}, \"paper_bgcolor\": \"#F5F6F9\", \"plot_bgcolor\": \"#F5F6F9\", \"template\": {\"data\": {\"bar\": [{\"error_x\": {\"color\": \"#2a3f5f\"}, \"error_y\": {\"color\": \"#2a3f5f\"}, \"marker\": {\"line\": {\"color\": \"#E5ECF6\", \"width\": 0.5}}, \"type\": \"bar\"}], \"barpolar\": [{\"marker\": {\"line\": {\"color\": \"#E5ECF6\", \"width\": 0.5}}, \"type\": \"barpolar\"}], \"carpet\": [{\"aaxis\": {\"endlinecolor\": \"#2a3f5f\", \"gridcolor\": \"white\", \"linecolor\": \"white\", \"minorgridcolor\": \"white\", \"startlinecolor\": \"#2a3f5f\"}, \"baxis\": {\"endlinecolor\": \"#2a3f5f\", \"gridcolor\": \"white\", \"linecolor\": \"white\", \"minorgridcolor\": \"white\", \"startlinecolor\": \"#2a3f5f\"}, \"type\": \"carpet\"}], \"choropleth\": [{\"colorbar\": {\"outlinewidth\": 0, \"ticks\": \"\"}, \"type\": \"choropleth\"}], \"contour\": [{\"colorbar\": {\"outlinewidth\": 0, \"ticks\": \"\"}, \"colorscale\": [[0.0, \"#0d0887\"], [0.1111111111111111, \"#46039f\"], [0.2222222222222222, \"#7201a8\"], [0.3333333333333333, \"#9c179e\"], [0.4444444444444444, \"#bd3786\"], [0.5555555555555556, \"#d8576b\"], [0.6666666666666666, \"#ed7953\"], [0.7777777777777778, \"#fb9f3a\"], [0.8888888888888888, \"#fdca26\"], [1.0, \"#f0f921\"]], \"type\": \"contour\"}], \"contourcarpet\": [{\"colorbar\": {\"outlinewidth\": 0, \"ticks\": \"\"}, \"type\": \"contourcarpet\"}], \"heatmap\": [{\"colorbar\": {\"outlinewidth\": 0, \"ticks\": \"\"}, \"colorscale\": [[0.0, \"#0d0887\"], [0.1111111111111111, \"#46039f\"], [0.2222222222222222, \"#7201a8\"], [0.3333333333333333, \"#9c179e\"], [0.4444444444444444, \"#bd3786\"], [0.5555555555555556, \"#d8576b\"], [0.6666666666666666, \"#ed7953\"], [0.7777777777777778, \"#fb9f3a\"], [0.8888888888888888, \"#fdca26\"], [1.0, \"#f0f921\"]], \"type\": \"heatmap\"}], \"heatmapgl\": [{\"colorbar\": {\"outlinewidth\": 0, \"ticks\": \"\"}, \"colorscale\": [[0.0, \"#0d0887\"], [0.1111111111111111, \"#46039f\"], [0.2222222222222222, \"#7201a8\"], [0.3333333333333333, \"#9c179e\"], [0.4444444444444444, \"#bd3786\"], [0.5555555555555556, \"#d8576b\"], [0.6666666666666666, \"#ed7953\"], [0.7777777777777778, \"#fb9f3a\"], [0.8888888888888888, \"#fdca26\"], [1.0, \"#f0f921\"]], \"type\": \"heatmapgl\"}], \"histogram\": [{\"marker\": {\"colorbar\": {\"outlinewidth\": 0, \"ticks\": \"\"}}, \"type\": \"histogram\"}], \"histogram2d\": [{\"colorbar\": {\"outlinewidth\": 0, \"ticks\": \"\"}, \"colorscale\": [[0.0, \"#0d0887\"], [0.1111111111111111, \"#46039f\"], [0.2222222222222222, \"#7201a8\"], [0.3333333333333333, \"#9c179e\"], [0.4444444444444444, \"#bd3786\"], [0.5555555555555556, \"#d8576b\"], [0.6666666666666666, \"#ed7953\"], [0.7777777777777778, \"#fb9f3a\"], [0.8888888888888888, \"#fdca26\"], [1.0, \"#f0f921\"]], \"type\": \"histogram2d\"}], \"histogram2dcontour\": [{\"colorbar\": {\"outlinewidth\": 0, \"ticks\": \"\"}, \"colorscale\": [[0.0, \"#0d0887\"], [0.1111111111111111, \"#46039f\"], [0.2222222222222222, \"#7201a8\"], [0.3333333333333333, \"#9c179e\"], [0.4444444444444444, \"#bd3786\"], [0.5555555555555556, \"#d8576b\"], [0.6666666666666666, \"#ed7953\"], [0.7777777777777778, \"#fb9f3a\"], [0.8888888888888888, \"#fdca26\"], [1.0, \"#f0f921\"]], \"type\": \"histogram2dcontour\"}], \"mesh3d\": [{\"colorbar\": {\"outlinewidth\": 0, \"ticks\": \"\"}, \"type\": \"mesh3d\"}], \"parcoords\": [{\"line\": {\"colorbar\": {\"outlinewidth\": 0, \"ticks\": \"\"}}, \"type\": \"parcoords\"}], \"pie\": [{\"automargin\": true, \"type\": \"pie\"}], \"scatter\": [{\"marker\": {\"colorbar\": {\"outlinewidth\": 0, \"ticks\": \"\"}}, \"type\": \"scatter\"}], \"scatter3d\": [{\"line\": {\"colorbar\": {\"outlinewidth\": 0, \"ticks\": \"\"}}, \"marker\": {\"colorbar\": {\"outlinewidth\": 0, \"ticks\": \"\"}}, \"type\": \"scatter3d\"}], \"scattercarpet\": [{\"marker\": {\"colorbar\": {\"outlinewidth\": 0, \"ticks\": \"\"}}, \"type\": \"scattercarpet\"}], \"scattergeo\": [{\"marker\": {\"colorbar\": {\"outlinewidth\": 0, \"ticks\": \"\"}}, \"type\": \"scattergeo\"}], \"scattergl\": [{\"marker\": {\"colorbar\": {\"outlinewidth\": 0, \"ticks\": \"\"}}, \"type\": \"scattergl\"}], \"scattermapbox\": [{\"marker\": {\"colorbar\": {\"outlinewidth\": 0, \"ticks\": \"\"}}, \"type\": \"scattermapbox\"}], \"scatterpolar\": [{\"marker\": {\"colorbar\": {\"outlinewidth\": 0, \"ticks\": \"\"}}, \"type\": \"scatterpolar\"}], \"scatterpolargl\": [{\"marker\": {\"colorbar\": {\"outlinewidth\": 0, \"ticks\": \"\"}}, \"type\": \"scatterpolargl\"}], \"scatterternary\": [{\"marker\": {\"colorbar\": {\"outlinewidth\": 0, \"ticks\": \"\"}}, \"type\": \"scatterternary\"}], \"surface\": [{\"colorbar\": {\"outlinewidth\": 0, \"ticks\": \"\"}, \"colorscale\": [[0.0, \"#0d0887\"], [0.1111111111111111, \"#46039f\"], [0.2222222222222222, \"#7201a8\"], [0.3333333333333333, \"#9c179e\"], [0.4444444444444444, \"#bd3786\"], [0.5555555555555556, \"#d8576b\"], [0.6666666666666666, \"#ed7953\"], [0.7777777777777778, \"#fb9f3a\"], [0.8888888888888888, \"#fdca26\"], [1.0, \"#f0f921\"]], \"type\": \"surface\"}], \"table\": [{\"cells\": {\"fill\": {\"color\": \"#EBF0F8\"}, \"line\": {\"color\": \"white\"}}, \"header\": {\"fill\": {\"color\": \"#C8D4E3\"}, \"line\": {\"color\": \"white\"}}, \"type\": \"table\"}]}, \"layout\": {\"annotationdefaults\": {\"arrowcolor\": \"#2a3f5f\", \"arrowhead\": 0, \"arrowwidth\": 1}, \"coloraxis\": {\"colorbar\": {\"outlinewidth\": 0, \"ticks\": \"\"}}, \"colorscale\": {\"diverging\": [[0, \"#8e0152\"], [0.1, \"#c51b7d\"], [0.2, \"#de77ae\"], [0.3, \"#f1b6da\"], [0.4, \"#fde0ef\"], [0.5, \"#f7f7f7\"], [0.6, \"#e6f5d0\"], [0.7, \"#b8e186\"], [0.8, \"#7fbc41\"], [0.9, \"#4d9221\"], [1, \"#276419\"]], \"sequential\": [[0.0, \"#0d0887\"], [0.1111111111111111, \"#46039f\"], [0.2222222222222222, \"#7201a8\"], [0.3333333333333333, \"#9c179e\"], [0.4444444444444444, \"#bd3786\"], [0.5555555555555556, \"#d8576b\"], [0.6666666666666666, \"#ed7953\"], [0.7777777777777778, \"#fb9f3a\"], [0.8888888888888888, \"#fdca26\"], [1.0, \"#f0f921\"]], \"sequentialminus\": [[0.0, \"#0d0887\"], [0.1111111111111111, \"#46039f\"], [0.2222222222222222, \"#7201a8\"], [0.3333333333333333, \"#9c179e\"], [0.4444444444444444, \"#bd3786\"], [0.5555555555555556, \"#d8576b\"], [0.6666666666666666, \"#ed7953\"], [0.7777777777777778, \"#fb9f3a\"], [0.8888888888888888, \"#fdca26\"], [1.0, \"#f0f921\"]]}, \"colorway\": [\"#636efa\", \"#EF553B\", \"#00cc96\", \"#ab63fa\", \"#FFA15A\", \"#19d3f3\", \"#FF6692\", \"#B6E880\", \"#FF97FF\", \"#FECB52\"], \"font\": {\"color\": \"#2a3f5f\"}, \"geo\": {\"bgcolor\": \"white\", \"lakecolor\": \"white\", \"landcolor\": \"#E5ECF6\", \"showlakes\": true, \"showland\": true, \"subunitcolor\": \"white\"}, \"hoverlabel\": {\"align\": \"left\"}, \"hovermode\": \"closest\", \"mapbox\": {\"style\": \"light\"}, \"paper_bgcolor\": \"white\", \"plot_bgcolor\": \"#E5ECF6\", \"polar\": {\"angularaxis\": {\"gridcolor\": \"white\", \"linecolor\": \"white\", \"ticks\": \"\"}, \"bgcolor\": \"#E5ECF6\", \"radialaxis\": {\"gridcolor\": \"white\", \"linecolor\": \"white\", \"ticks\": \"\"}}, \"scene\": {\"xaxis\": {\"backgroundcolor\": \"#E5ECF6\", \"gridcolor\": \"white\", \"gridwidth\": 2, \"linecolor\": \"white\", \"showbackground\": true, \"ticks\": \"\", \"zerolinecolor\": \"white\"}, \"yaxis\": {\"backgroundcolor\": \"#E5ECF6\", \"gridcolor\": \"white\", \"gridwidth\": 2, \"linecolor\": \"white\", \"showbackground\": true, \"ticks\": \"\", \"zerolinecolor\": \"white\"}, \"zaxis\": {\"backgroundcolor\": \"#E5ECF6\", \"gridcolor\": \"white\", \"gridwidth\": 2, \"linecolor\": \"white\", \"showbackground\": true, \"ticks\": \"\", \"zerolinecolor\": \"white\"}}, \"shapedefaults\": {\"line\": {\"color\": \"#2a3f5f\"}}, \"ternary\": {\"aaxis\": {\"gridcolor\": \"white\", \"linecolor\": \"white\", \"ticks\": \"\"}, \"baxis\": {\"gridcolor\": \"white\", \"linecolor\": \"white\", \"ticks\": \"\"}, \"bgcolor\": \"#E5ECF6\", \"caxis\": {\"gridcolor\": \"white\", \"linecolor\": \"white\", \"ticks\": \"\"}}, \"title\": {\"x\": 0.05}, \"xaxis\": {\"automargin\": true, \"gridcolor\": \"white\", \"linecolor\": \"white\", \"ticks\": \"\", \"title\": {\"standoff\": 15}, \"zerolinecolor\": \"white\", \"zerolinewidth\": 2}, \"yaxis\": {\"automargin\": true, \"gridcolor\": \"white\", \"linecolor\": \"white\", \"ticks\": \"\", \"title\": {\"standoff\": 15}, \"zerolinecolor\": \"white\", \"zerolinewidth\": 2}}}, \"title\": {\"font\": {\"color\": \"#4D5663\"}}, \"xaxis\": {\"gridcolor\": \"#E1E5ED\", \"showgrid\": true, \"tickfont\": {\"color\": \"#4D5663\"}, \"title\": {\"font\": {\"color\": \"#4D5663\"}, \"text\": \"\"}, \"zerolinecolor\": \"#E1E5ED\"}, \"yaxis\": {\"gridcolor\": \"#E1E5ED\", \"showgrid\": true, \"tickfont\": {\"color\": \"#4D5663\"}, \"title\": {\"font\": {\"color\": \"#4D5663\"}, \"text\": \"\"}, \"zerolinecolor\": \"#E1E5ED\"}},\n",
       "                        {\"showLink\": true, \"linkText\": \"Export to plot.ly\", \"plotlyServerURL\": \"https://plot.ly\", \"responsive\": true}\n",
       "                    ).then(function(){\n",
       "                            \n",
       "var gd = document.getElementById('d626f041-c02d-47aa-adff-fe05ad897765');\n",
       "var x = new MutationObserver(function (mutations, observer) {{\n",
       "        var display = window.getComputedStyle(gd).display;\n",
       "        if (!display || display === 'none') {{\n",
       "            console.log([gd, 'removed!']);\n",
       "            Plotly.purge(gd);\n",
       "            observer.disconnect();\n",
       "        }}\n",
       "}});\n",
       "\n",
       "// Listen for the removal of the full notebook cells\n",
       "var notebookContainer = gd.closest('#notebook-container');\n",
       "if (notebookContainer) {{\n",
       "    x.observe(notebookContainer, {childList: true});\n",
       "}}\n",
       "\n",
       "// Listen for the clearing of the current output cell\n",
       "var outputEl = gd.closest('.output');\n",
       "if (outputEl) {{\n",
       "    x.observe(outputEl, {childList: true});\n",
       "}}\n",
       "\n",
       "                        })\n",
       "                };\n",
       "                });\n",
       "            </script>\n",
       "        </div>"
      ]
     },
     "metadata": {},
     "output_type": "display_data"
    }
   ],
   "source": [
    "df.iplot(kind='hist')"
   ]
  },
  {
   "cell_type": "markdown",
   "metadata": {},
   "source": [
    "**Spread Plots**"
   ]
  },
  {
   "cell_type": "code",
   "execution_count": 25,
   "metadata": {},
   "outputs": [
    {
     "data": {
      "application/vnd.plotly.v1+json": {
       "config": {
        "linkText": "Export to plot.ly",
        "plotlyServerURL": "https://plot.ly",
        "showLink": true
       },
       "data": [
        {
         "line": {
          "color": "rgba(255, 153, 51, 1.0)",
          "dash": "solid",
          "shape": "linear",
          "width": 1.3
         },
         "mode": "lines",
         "name": "A",
         "text": "",
         "type": "scatter",
         "x": [
          0,
          1,
          2,
          3,
          4,
          5,
          6,
          7,
          8,
          9,
          10,
          11,
          12,
          13,
          14,
          15,
          16,
          17,
          18,
          19,
          20,
          21,
          22,
          23,
          24,
          25,
          26,
          27,
          28,
          29,
          30,
          31,
          32,
          33,
          34,
          35,
          36,
          37,
          38,
          39,
          40,
          41,
          42,
          43,
          44,
          45,
          46,
          47,
          48,
          49,
          50,
          51,
          52,
          53,
          54,
          55,
          56,
          57,
          58,
          59,
          60,
          61,
          62,
          63,
          64,
          65,
          66,
          67,
          68,
          69,
          70,
          71,
          72,
          73,
          74,
          75,
          76,
          77,
          78,
          79,
          80,
          81,
          82,
          83,
          84,
          85,
          86,
          87,
          88,
          89,
          90,
          91,
          92,
          93,
          94,
          95,
          96,
          97,
          98,
          99
         ],
         "y": [
          -2.2330045307590853,
          -0.9521908995974245,
          0.27846606978193117,
          -0.7497430396641565,
          -0.8956342510414951,
          -0.2701922755157396,
          0.13378854729598888,
          -0.10139493386630462,
          2.4089945148153924,
          2.2798960353709634,
          1.536776871530047,
          -0.4738067773638204,
          0.3895763004483561,
          -0.44813497414482384,
          -0.04272139930867001,
          1.8607472786609707,
          -0.6439882932495113,
          1.2582962916443727,
          -1.204805217634797,
          -0.1429158275301282,
          1.1677493616360861,
          -2.6530884634429985,
          -0.9403827018208064,
          0.1496396817935744,
          0.04470276113270573,
          -0.7319557334866961,
          0.5233737734533389,
          -0.4409303064263165,
          -0.5833238720623664,
          0.25649916497690095,
          -0.30081158546772635,
          0.07975881141571715,
          -2.090321583607134,
          -0.8712175959679449,
          -0.6931394651239492,
          -0.8218402617535678,
          1.4418250131499333,
          0.3751607269805806,
          1.2314240010401805,
          0.4199928878005679,
          -0.1554548985369435,
          1.8868088114432202,
          -0.694422411044866,
          1.1436083825779144,
          0.7624519963607965,
          -0.2482247596359065,
          1.4414688130029367,
          0.22035610962969224,
          0.2950496995083218,
          -0.0002316334366230875,
          1.2896860527248302,
          1.1265104298484678,
          -0.0036286696037859285,
          -0.826340568102362,
          -1.018582405591517,
          -1.291063854400129,
          -0.19008683392694992,
          -0.763872927674939,
          2.0959738808836414,
          2.130647594088596,
          2.224539281704161,
          1.1940475375397548,
          -0.7876803121312159,
          0.969667697580649,
          0.9493233327045774,
          -0.044403311331418185,
          0.3895596700750885,
          -0.014452893562845948,
          -0.6968071801779312,
          0.1614108555208764,
          -0.12276024863235002,
          -0.8370581648026316,
          -0.24705922180806691,
          -0.10403134026483714,
          -1.4284743931846275,
          0.3535476401056677,
          -0.10544217505192499,
          1.6963828925675466,
          0.5915873562228502,
          0.9907707442218054,
          0.7428977212707456,
          -0.07200887621832967,
          0.00017457906821124856,
          0.013110631310684354,
          1.9240017540561096,
          -0.4264462466703405,
          0.16219704052654055,
          0.4697559969879681,
          1.0060845122288846,
          0.7676496704361507,
          -0.9161171095812846,
          -1.624314104246879,
          -0.9527835783780093,
          -0.17739704862730749,
          1.0650077734242744,
          0.43385923873565196,
          1.6979048817374556,
          -1.853810177762625,
          0.9776180877321272,
          -0.8272963834606755
         ]
        },
        {
         "line": {
          "color": "rgba(55, 128, 191, 1.0)",
          "dash": "solid",
          "shape": "linear",
          "width": 1.3
         },
         "mode": "lines",
         "name": "B",
         "text": "",
         "type": "scatter",
         "x": [
          0,
          1,
          2,
          3,
          4,
          5,
          6,
          7,
          8,
          9,
          10,
          11,
          12,
          13,
          14,
          15,
          16,
          17,
          18,
          19,
          20,
          21,
          22,
          23,
          24,
          25,
          26,
          27,
          28,
          29,
          30,
          31,
          32,
          33,
          34,
          35,
          36,
          37,
          38,
          39,
          40,
          41,
          42,
          43,
          44,
          45,
          46,
          47,
          48,
          49,
          50,
          51,
          52,
          53,
          54,
          55,
          56,
          57,
          58,
          59,
          60,
          61,
          62,
          63,
          64,
          65,
          66,
          67,
          68,
          69,
          70,
          71,
          72,
          73,
          74,
          75,
          76,
          77,
          78,
          79,
          80,
          81,
          82,
          83,
          84,
          85,
          86,
          87,
          88,
          89,
          90,
          91,
          92,
          93,
          94,
          95,
          96,
          97,
          98,
          99
         ],
         "y": [
          -0.9234838055280741,
          0.1837906133650663,
          0.9549006334057075,
          -0.8172743696437627,
          0.3174431081329297,
          0.21808918953745687,
          0.6815729465243698,
          -0.262815565993623,
          0.0013540987106652831,
          -0.27062784691556646,
          -0.8728212153054438,
          -0.6131662144165188,
          0.8217767277509427,
          -0.37803366564505864,
          -0.38120900740011365,
          0.615824227870488,
          -0.3479271621381179,
          -0.14022948149868633,
          0.4715134428149978,
          -1.3875270322229551,
          2.291695981953175,
          -0.4233067765902022,
          -0.4010460654069656,
          1.4953409235326716,
          0.055794820889501835,
          1.1085643506927436,
          -0.34084079925276806,
          -0.04448454401577478,
          -0.7068197188417409,
          -0.28196538329893095,
          0.35645508606988024,
          -1.9319911284139681,
          0.30676889430031434,
          1.0195069345873582,
          0.5815106975487212,
          0.6675437405444582,
          -1.451462224194573,
          1.7537992807886817,
          -0.5223131305426536,
          -2.0899011210520055,
          -1.1868763568302543,
          -1.654932061201535,
          -1.6874933947593838,
          -1.2156525913674665,
          1.6794846829271606,
          0.7092856518073,
          0.6629875673201554,
          -0.6411635757117996,
          -1.1881576800789335,
          -1.160918932012118,
          -0.014452385012939719,
          -0.8158088796870766,
          -1.112112811778674,
          -0.4134909737727676,
          0.7679354852691683,
          -0.5288693699646896,
          0.966238933639739,
          0.5428284262688382,
          -0.8993016610838763,
          1.9686623433577968,
          -1.1099790369124423,
          -0.7148053007009889,
          -0.05035305723891644,
          -0.2825442564032258,
          0.6220386837974622,
          -0.02607398992073639,
          -0.12904032210431582,
          -0.4462530044659881,
          1.0919323927621174,
          -0.2838491101268597,
          0.8898082348209791,
          -0.05344663510556132,
          0.6764322455699061,
          2.110521685528398,
          -0.9540742926640376,
          -0.0709709220358443,
          -0.05552091480298457,
          0.49519307651171957,
          -0.47214686334867095,
          -0.43038367094404784,
          -0.5262311656239208,
          0.41668007402483337,
          -0.46314704835682,
          1.1978416309836064,
          0.06945342626551727,
          0.2852068613579216,
          -0.9260930337101595,
          -1.299229452656461,
          -0.01752394800048146,
          1.333737866854547,
          -1.0027996183786698,
          1.3712373857073232,
          -1.3929633493161442,
          -2.003173109247321,
          -0.5638422495748624,
          -0.08713154635704083,
          0.7826639766427661,
          1.6599223202958147,
          1.8225331731889711,
          -0.3637271366130778
         ]
        },
        {
         "line": {
          "color": "rgba(50, 171, 96, 1.0)",
          "dash": "solid",
          "shape": "linear",
          "width": 1.3
         },
         "mode": "lines",
         "name": "C",
         "text": "",
         "type": "scatter",
         "x": [
          0,
          1,
          2,
          3,
          4,
          5,
          6,
          7,
          8,
          9,
          10,
          11,
          12,
          13,
          14,
          15,
          16,
          17,
          18,
          19,
          20,
          21,
          22,
          23,
          24,
          25,
          26,
          27,
          28,
          29,
          30,
          31,
          32,
          33,
          34,
          35,
          36,
          37,
          38,
          39,
          40,
          41,
          42,
          43,
          44,
          45,
          46,
          47,
          48,
          49,
          50,
          51,
          52,
          53,
          54,
          55,
          56,
          57,
          58,
          59,
          60,
          61,
          62,
          63,
          64,
          65,
          66,
          67,
          68,
          69,
          70,
          71,
          72,
          73,
          74,
          75,
          76,
          77,
          78,
          79,
          80,
          81,
          82,
          83,
          84,
          85,
          86,
          87,
          88,
          89,
          90,
          91,
          92,
          93,
          94,
          95,
          96,
          97,
          98,
          99
         ],
         "y": [
          0.2755716670365263,
          -1.4107567274282897,
          0.6541175742867782,
          1.9674690515547126,
          1.256596339268459,
          0.523856596662497,
          -0.8969265311525533,
          0.3244140138558535,
          -0.9950241003805131,
          0.010323270077411526,
          -0.4081624657415359,
          0.856972738882899,
          0.04068662059895318,
          -1.2944868481985685,
          -0.9619587879235344,
          -1.2789542109730379,
          -0.9026009083226586,
          -0.30943964771853477,
          1.4669276807914478,
          2.1886965346332614,
          -0.7853005063471961,
          -1.7956697006953894,
          -1.561114867168884,
          -0.14455531064454316,
          0.4097967940659489,
          0.027689805529984155,
          -0.8497038505348563,
          1.8046874328359785,
          0.7071894503644003,
          1.213741530303425,
          -1.0343725538212367,
          0.22659112518910376,
          -1.1486822151076266,
          0.9966989811826483,
          0.4142349713487508,
          1.0253873908752684,
          -0.6344711510801252,
          0.2736544613480108,
          0.10304790113170942,
          -0.03298524733362019,
          0.5935028001089265,
          0.4838846773154546,
          0.8732381580494233,
          1.4128524795674415,
          0.08490496568549535,
          0.050290802392600024,
          -0.46573622578532187,
          0.18929328771708429,
          0.022354739248472047,
          0.18032179012293742,
          -0.5383926430861103,
          0.6349278683681299,
          0.7460618503587655,
          0.6143492711346112,
          1.1800052422773377,
          -0.4317198762713371,
          -0.39825819636098175,
          0.020492888094452415,
          0.26054148974539326,
          0.35542164302954893,
          -0.09632068069538566,
          1.1880737687482943,
          0.7622480573510461,
          -0.12954313804362508,
          0.6448810312697735,
          0.14237852278024538,
          -1.254266568431477,
          -0.4390979624690971,
          -0.7899958009345055,
          -0.30993485012088473,
          0.6722028469700168,
          -0.7823208404463984,
          0.5862555713819035,
          1.2177004118684112,
          1.587168629736668,
          0.43377784098629774,
          0.2796177411902997,
          0.8470418963750924,
          0.3360985288016682,
          0.9208215794336971,
          0.002407301316962099,
          0.00458636300942406,
          0.9329535515195241,
          -0.7517379185041624,
          1.1400847378001369,
          -1.9844115112198117,
          1.268566939128557,
          -0.0334254762745057,
          -1.6953738158116232,
          -0.8040408315832263,
          0.016360777148160116,
          0.41731413370847836,
          -0.38523140506373255,
          1.2970812498450508,
          -2.236660366102504,
          -0.5882604503630262,
          -0.2731599067897886,
          -0.29682518018130133,
          0.6461631547594263,
          0.60302821358222
         ]
        },
        {
         "line": {
          "color": "rgba(128, 0, 128, 1.0)",
          "dash": "solid",
          "shape": "linear",
          "width": 1.3
         },
         "mode": "lines",
         "name": "D",
         "text": "",
         "type": "scatter",
         "x": [
          0,
          1,
          2,
          3,
          4,
          5,
          6,
          7,
          8,
          9,
          10,
          11,
          12,
          13,
          14,
          15,
          16,
          17,
          18,
          19,
          20,
          21,
          22,
          23,
          24,
          25,
          26,
          27,
          28,
          29,
          30,
          31,
          32,
          33,
          34,
          35,
          36,
          37,
          38,
          39,
          40,
          41,
          42,
          43,
          44,
          45,
          46,
          47,
          48,
          49,
          50,
          51,
          52,
          53,
          54,
          55,
          56,
          57,
          58,
          59,
          60,
          61,
          62,
          63,
          64,
          65,
          66,
          67,
          68,
          69,
          70,
          71,
          72,
          73,
          74,
          75,
          76,
          77,
          78,
          79,
          80,
          81,
          82,
          83,
          84,
          85,
          86,
          87,
          88,
          89,
          90,
          91,
          92,
          93,
          94,
          95,
          96,
          97,
          98,
          99
         ],
         "y": [
          0.3643930281255974,
          0.15026292366620095,
          1.2187222278603946,
          -0.8659906012809404,
          0.6004784913268533,
          -1.0589820545230748,
          -1.5683314423426904,
          -1.6539365309773515,
          0.12136885230734451,
          1.769195740544522,
          -0.34786923195499164,
          -0.5611026339790515,
          1.884395043792925,
          0.10554293170215406,
          -0.6971983382812603,
          0.7833018925568376,
          -2.300638357051978,
          -1.3172806218596724,
          -0.04373228510009631,
          -1.2671251518663433,
          1.3682141073747136,
          0.1758901613320038,
          0.4131184697361528,
          -0.13307235755723854,
          -0.09343541524988579,
          -0.23793992896567595,
          0.37511476141478445,
          1.5348806704194566,
          -0.9690143836986986,
          -0.4361298995213377,
          0.11884415029697731,
          0.7053708211848962,
          -1.170756619547385,
          0.12391062586154639,
          -1.775733651033394,
          -1.7025147144806678,
          0.24120216357934682,
          -0.05909560823662816,
          0.6990921904976213,
          -1.2551961134773182,
          -0.190020144313903,
          -1.2001001024950408,
          0.6274370541851635,
          0.5015803990467228,
          1.7377383170505403,
          0.7669569890905374,
          -0.591194403818167,
          -1.184929573922818,
          -0.09713963731436984,
          2.2273843627971575,
          -1.2140642939832837,
          -0.726190654922945,
          0.21963148157113957,
          -0.2669805745888528,
          -0.767942069013212,
          -0.1521855580871152,
          -0.3904159798584094,
          1.2739452686099946,
          0.36218314088967013,
          0.11030818464201156,
          1.9268791207613563,
          0.5487869697256245,
          -0.9762768663466627,
          1.3932777236238698,
          0.7258730775669255,
          -1.94063820760366,
          -0.5616258682969569,
          -1.045963556303688,
          -0.046928354294379034,
          -0.6985230840516604,
          -0.09137824514435089,
          0.11975928366817555,
          0.5719600766112413,
          -0.5602018420934456,
          -1.3733210357679502,
          0.930729614688202,
          -1.2865839708266649,
          0.24263820697068555,
          -0.6503235979872184,
          0.9780605553222481,
          0.2058777005882192,
          -0.08601947943729862,
          0.4341754032068352,
          -0.836596194783516,
          -0.5578839609069209,
          -0.5134003010550453,
          0.2902632694148725,
          -2.69040970394117,
          0.9976251276467392,
          1.5258496506679962,
          -0.09914102682089235,
          -1.2196458165465838,
          1.8644668321972602,
          1.0079481290352872,
          -0.4500239322508063,
          0.8962399016639363,
          -0.37922022639110614,
          0.2181399664309546,
          -0.12843420402850228,
          2.1360706839894226
         ]
        },
        {
         "connectgaps": false,
         "fill": "tozeroy",
         "line": {
          "color": "green",
          "dash": "solid",
          "shape": "linear",
          "width": 0.5
         },
         "mode": "lines",
         "name": "Spread",
         "showlegend": false,
         "type": "scatter",
         "x": [
          0,
          1,
          2,
          3,
          4,
          5,
          6,
          7,
          8,
          9,
          10,
          11,
          12,
          13,
          14,
          15,
          16,
          17,
          18,
          19,
          20,
          21,
          22,
          23,
          24,
          25,
          26,
          27,
          28,
          29,
          30,
          31,
          32,
          33,
          34,
          35,
          36,
          37,
          38,
          39,
          40,
          41,
          42,
          43,
          44,
          45,
          46,
          47,
          48,
          49,
          50,
          51,
          52,
          53,
          54,
          55,
          56,
          57,
          58,
          59,
          60,
          61,
          62,
          63,
          64,
          65,
          66,
          67,
          68,
          69,
          70,
          71,
          72,
          73,
          74,
          75,
          76,
          77,
          78,
          79,
          80,
          81,
          82,
          83,
          84,
          85,
          86,
          87,
          88,
          89,
          90,
          91,
          92,
          93,
          94,
          95,
          96,
          97,
          98,
          99
         ],
         "xaxis": "x2",
         "y": [
          "",
          "",
          "",
          0.0675313299796062,
          "",
          "",
          "",
          0.1614206321273184,
          2.407640416104727,
          2.5505238822865297,
          2.4095980868354907,
          0.13935943705269838,
          "",
          "",
          0.3384876080914436,
          1.2449230507904827,
          "",
          1.3985257731430591,
          "",
          1.244611204692827,
          "",
          "",
          "",
          "",
          "",
          "",
          0.864214572706107,
          "",
          0.12349584677937453,
          0.5384645482758319,
          "",
          2.011749939829685,
          "",
          "",
          "",
          "",
          2.893287237344506,
          "",
          1.753737131582834,
          2.5098940088525734,
          1.0314214582933108,
          3.5417408726447555,
          0.9930709837145177,
          2.359260973945381,
          "",
          "",
          0.7784812456827813,
          0.8615196853414918,
          1.4832073795872553,
          1.160687298575495,
          1.3041384377377698,
          1.9423193095355444,
          1.108484142174888,
          "",
          "",
          "",
          "",
          "",
          2.995275541967518,
          0.16198525073079906,
          3.3345183186166034,
          1.9088528382407437,
          "",
          1.2522119539838747,
          0.32728464890711517,
          "",
          0.5185999921794043,
          0.43180011090314213,
          "",
          0.44525996564773607,
          "",
          "",
          "",
          "",
          "",
          0.424518562141512,
          "",
          1.201189816055827,
          1.0637342195715211,
          1.4211544151658533,
          1.2691288868946664,
          "",
          0.46332162742503125,
          "",
          1.8545483277905923,
          "",
          1.0882900742367,
          1.768985449644429,
          1.023608460229366,
          "",
          0.08668250879738526,
          "",
          0.4401797709381349,
          1.8257760606200133,
          1.6288500229991367,
          0.5209907850926928,
          0.9152409050946895,
          "",
          "",
          ""
         ],
         "yaxis": "y2"
        },
        {
         "connectgaps": false,
         "fill": "tozeroy",
         "line": {
          "color": "red",
          "dash": "solid",
          "shape": "linear",
          "width": 0.5
         },
         "mode": "lines",
         "name": "Spread",
         "showlegend": false,
         "type": "scatter",
         "x": [
          0,
          1,
          2,
          3,
          4,
          5,
          6,
          7,
          8,
          9,
          10,
          11,
          12,
          13,
          14,
          15,
          16,
          17,
          18,
          19,
          20,
          21,
          22,
          23,
          24,
          25,
          26,
          27,
          28,
          29,
          30,
          31,
          32,
          33,
          34,
          35,
          36,
          37,
          38,
          39,
          40,
          41,
          42,
          43,
          44,
          45,
          46,
          47,
          48,
          49,
          50,
          51,
          52,
          53,
          54,
          55,
          56,
          57,
          58,
          59,
          60,
          61,
          62,
          63,
          64,
          65,
          66,
          67,
          68,
          69,
          70,
          71,
          72,
          73,
          74,
          75,
          76,
          77,
          78,
          79,
          80,
          81,
          82,
          83,
          84,
          85,
          86,
          87,
          88,
          89,
          90,
          91,
          92,
          93,
          94,
          95,
          96,
          97,
          98,
          99
         ],
         "xaxis": "x2",
         "y": [
          -1.3095207252310113,
          -1.1359815129624908,
          -0.6764345636237763,
          "",
          -1.2130773591744248,
          -0.4882814650531965,
          -0.547784399228381,
          "",
          "",
          "",
          "",
          "",
          -0.43220042730258657,
          -0.0701013084997652,
          "",
          "",
          -0.2960611311113934,
          "",
          -1.6763186604497948,
          "",
          -1.123946620317089,
          -2.2297816868527964,
          -0.5393366364138408,
          -1.3457012417390972,
          -0.011092059756796106,
          -1.8405200841794396,
          "",
          -0.3964457624105417,
          "",
          "",
          -0.6572666715376065,
          "",
          -2.3970904779074482,
          -1.890724530555303,
          -1.2746501626726703,
          -1.489384002298026,
          "",
          -1.3786385538081012,
          "",
          "",
          "",
          "",
          "",
          "",
          -0.917032686566364,
          -0.9575104114432065,
          "",
          "",
          "",
          "",
          "",
          "",
          "",
          -0.4128495943295944,
          -1.7865178908606851,
          -0.7621944844354394,
          -1.156325767566689,
          -1.3067013539437773,
          "",
          "",
          "",
          "",
          -0.7373272548922994,
          "",
          "",
          -0.018329321410681797,
          "",
          "",
          -1.7887395729400486,
          "",
          -1.0125684834533293,
          -0.7836115296970703,
          -0.923491467377973,
          -2.214553025793235,
          -0.4744001005205899,
          "",
          -0.04992126024894042,
          "",
          "",
          "",
          "",
          -0.48868895024316306,
          "",
          -1.184730999672922,
          "",
          -0.7116531080282621,
          "",
          "",
          "",
          -0.5660881964183963,
          "",
          -2.9955514899542024,
          "",
          "",
          "",
          "",
          "",
          -3.51373249805844,
          -0.8449150854568439,
          -0.46356924684759765
         ],
         "yaxis": "y2"
        }
       ],
       "layout": {
        "hovermode": "x",
        "legend": {
         "bgcolor": "#F5F6F9",
         "font": {
          "color": "#4D5663"
         }
        },
        "paper_bgcolor": "#F5F6F9",
        "plot_bgcolor": "#F5F6F9",
        "template": {
         "data": {
          "bar": [
           {
            "error_x": {
             "color": "#2a3f5f"
            },
            "error_y": {
             "color": "#2a3f5f"
            },
            "marker": {
             "line": {
              "color": "#E5ECF6",
              "width": 0.5
             }
            },
            "type": "bar"
           }
          ],
          "barpolar": [
           {
            "marker": {
             "line": {
              "color": "#E5ECF6",
              "width": 0.5
             }
            },
            "type": "barpolar"
           }
          ],
          "carpet": [
           {
            "aaxis": {
             "endlinecolor": "#2a3f5f",
             "gridcolor": "white",
             "linecolor": "white",
             "minorgridcolor": "white",
             "startlinecolor": "#2a3f5f"
            },
            "baxis": {
             "endlinecolor": "#2a3f5f",
             "gridcolor": "white",
             "linecolor": "white",
             "minorgridcolor": "white",
             "startlinecolor": "#2a3f5f"
            },
            "type": "carpet"
           }
          ],
          "choropleth": [
           {
            "colorbar": {
             "outlinewidth": 0,
             "ticks": ""
            },
            "type": "choropleth"
           }
          ],
          "contour": [
           {
            "colorbar": {
             "outlinewidth": 0,
             "ticks": ""
            },
            "colorscale": [
             [
              0,
              "#0d0887"
             ],
             [
              0.1111111111111111,
              "#46039f"
             ],
             [
              0.2222222222222222,
              "#7201a8"
             ],
             [
              0.3333333333333333,
              "#9c179e"
             ],
             [
              0.4444444444444444,
              "#bd3786"
             ],
             [
              0.5555555555555556,
              "#d8576b"
             ],
             [
              0.6666666666666666,
              "#ed7953"
             ],
             [
              0.7777777777777778,
              "#fb9f3a"
             ],
             [
              0.8888888888888888,
              "#fdca26"
             ],
             [
              1,
              "#f0f921"
             ]
            ],
            "type": "contour"
           }
          ],
          "contourcarpet": [
           {
            "colorbar": {
             "outlinewidth": 0,
             "ticks": ""
            },
            "type": "contourcarpet"
           }
          ],
          "heatmap": [
           {
            "colorbar": {
             "outlinewidth": 0,
             "ticks": ""
            },
            "colorscale": [
             [
              0,
              "#0d0887"
             ],
             [
              0.1111111111111111,
              "#46039f"
             ],
             [
              0.2222222222222222,
              "#7201a8"
             ],
             [
              0.3333333333333333,
              "#9c179e"
             ],
             [
              0.4444444444444444,
              "#bd3786"
             ],
             [
              0.5555555555555556,
              "#d8576b"
             ],
             [
              0.6666666666666666,
              "#ed7953"
             ],
             [
              0.7777777777777778,
              "#fb9f3a"
             ],
             [
              0.8888888888888888,
              "#fdca26"
             ],
             [
              1,
              "#f0f921"
             ]
            ],
            "type": "heatmap"
           }
          ],
          "heatmapgl": [
           {
            "colorbar": {
             "outlinewidth": 0,
             "ticks": ""
            },
            "colorscale": [
             [
              0,
              "#0d0887"
             ],
             [
              0.1111111111111111,
              "#46039f"
             ],
             [
              0.2222222222222222,
              "#7201a8"
             ],
             [
              0.3333333333333333,
              "#9c179e"
             ],
             [
              0.4444444444444444,
              "#bd3786"
             ],
             [
              0.5555555555555556,
              "#d8576b"
             ],
             [
              0.6666666666666666,
              "#ed7953"
             ],
             [
              0.7777777777777778,
              "#fb9f3a"
             ],
             [
              0.8888888888888888,
              "#fdca26"
             ],
             [
              1,
              "#f0f921"
             ]
            ],
            "type": "heatmapgl"
           }
          ],
          "histogram": [
           {
            "marker": {
             "colorbar": {
              "outlinewidth": 0,
              "ticks": ""
             }
            },
            "type": "histogram"
           }
          ],
          "histogram2d": [
           {
            "colorbar": {
             "outlinewidth": 0,
             "ticks": ""
            },
            "colorscale": [
             [
              0,
              "#0d0887"
             ],
             [
              0.1111111111111111,
              "#46039f"
             ],
             [
              0.2222222222222222,
              "#7201a8"
             ],
             [
              0.3333333333333333,
              "#9c179e"
             ],
             [
              0.4444444444444444,
              "#bd3786"
             ],
             [
              0.5555555555555556,
              "#d8576b"
             ],
             [
              0.6666666666666666,
              "#ed7953"
             ],
             [
              0.7777777777777778,
              "#fb9f3a"
             ],
             [
              0.8888888888888888,
              "#fdca26"
             ],
             [
              1,
              "#f0f921"
             ]
            ],
            "type": "histogram2d"
           }
          ],
          "histogram2dcontour": [
           {
            "colorbar": {
             "outlinewidth": 0,
             "ticks": ""
            },
            "colorscale": [
             [
              0,
              "#0d0887"
             ],
             [
              0.1111111111111111,
              "#46039f"
             ],
             [
              0.2222222222222222,
              "#7201a8"
             ],
             [
              0.3333333333333333,
              "#9c179e"
             ],
             [
              0.4444444444444444,
              "#bd3786"
             ],
             [
              0.5555555555555556,
              "#d8576b"
             ],
             [
              0.6666666666666666,
              "#ed7953"
             ],
             [
              0.7777777777777778,
              "#fb9f3a"
             ],
             [
              0.8888888888888888,
              "#fdca26"
             ],
             [
              1,
              "#f0f921"
             ]
            ],
            "type": "histogram2dcontour"
           }
          ],
          "mesh3d": [
           {
            "colorbar": {
             "outlinewidth": 0,
             "ticks": ""
            },
            "type": "mesh3d"
           }
          ],
          "parcoords": [
           {
            "line": {
             "colorbar": {
              "outlinewidth": 0,
              "ticks": ""
             }
            },
            "type": "parcoords"
           }
          ],
          "pie": [
           {
            "automargin": true,
            "type": "pie"
           }
          ],
          "scatter": [
           {
            "marker": {
             "colorbar": {
              "outlinewidth": 0,
              "ticks": ""
             }
            },
            "type": "scatter"
           }
          ],
          "scatter3d": [
           {
            "line": {
             "colorbar": {
              "outlinewidth": 0,
              "ticks": ""
             }
            },
            "marker": {
             "colorbar": {
              "outlinewidth": 0,
              "ticks": ""
             }
            },
            "type": "scatter3d"
           }
          ],
          "scattercarpet": [
           {
            "marker": {
             "colorbar": {
              "outlinewidth": 0,
              "ticks": ""
             }
            },
            "type": "scattercarpet"
           }
          ],
          "scattergeo": [
           {
            "marker": {
             "colorbar": {
              "outlinewidth": 0,
              "ticks": ""
             }
            },
            "type": "scattergeo"
           }
          ],
          "scattergl": [
           {
            "marker": {
             "colorbar": {
              "outlinewidth": 0,
              "ticks": ""
             }
            },
            "type": "scattergl"
           }
          ],
          "scattermapbox": [
           {
            "marker": {
             "colorbar": {
              "outlinewidth": 0,
              "ticks": ""
             }
            },
            "type": "scattermapbox"
           }
          ],
          "scatterpolar": [
           {
            "marker": {
             "colorbar": {
              "outlinewidth": 0,
              "ticks": ""
             }
            },
            "type": "scatterpolar"
           }
          ],
          "scatterpolargl": [
           {
            "marker": {
             "colorbar": {
              "outlinewidth": 0,
              "ticks": ""
             }
            },
            "type": "scatterpolargl"
           }
          ],
          "scatterternary": [
           {
            "marker": {
             "colorbar": {
              "outlinewidth": 0,
              "ticks": ""
             }
            },
            "type": "scatterternary"
           }
          ],
          "surface": [
           {
            "colorbar": {
             "outlinewidth": 0,
             "ticks": ""
            },
            "colorscale": [
             [
              0,
              "#0d0887"
             ],
             [
              0.1111111111111111,
              "#46039f"
             ],
             [
              0.2222222222222222,
              "#7201a8"
             ],
             [
              0.3333333333333333,
              "#9c179e"
             ],
             [
              0.4444444444444444,
              "#bd3786"
             ],
             [
              0.5555555555555556,
              "#d8576b"
             ],
             [
              0.6666666666666666,
              "#ed7953"
             ],
             [
              0.7777777777777778,
              "#fb9f3a"
             ],
             [
              0.8888888888888888,
              "#fdca26"
             ],
             [
              1,
              "#f0f921"
             ]
            ],
            "type": "surface"
           }
          ],
          "table": [
           {
            "cells": {
             "fill": {
              "color": "#EBF0F8"
             },
             "line": {
              "color": "white"
             }
            },
            "header": {
             "fill": {
              "color": "#C8D4E3"
             },
             "line": {
              "color": "white"
             }
            },
            "type": "table"
           }
          ]
         },
         "layout": {
          "annotationdefaults": {
           "arrowcolor": "#2a3f5f",
           "arrowhead": 0,
           "arrowwidth": 1
          },
          "coloraxis": {
           "colorbar": {
            "outlinewidth": 0,
            "ticks": ""
           }
          },
          "colorscale": {
           "diverging": [
            [
             0,
             "#8e0152"
            ],
            [
             0.1,
             "#c51b7d"
            ],
            [
             0.2,
             "#de77ae"
            ],
            [
             0.3,
             "#f1b6da"
            ],
            [
             0.4,
             "#fde0ef"
            ],
            [
             0.5,
             "#f7f7f7"
            ],
            [
             0.6,
             "#e6f5d0"
            ],
            [
             0.7,
             "#b8e186"
            ],
            [
             0.8,
             "#7fbc41"
            ],
            [
             0.9,
             "#4d9221"
            ],
            [
             1,
             "#276419"
            ]
           ],
           "sequential": [
            [
             0,
             "#0d0887"
            ],
            [
             0.1111111111111111,
             "#46039f"
            ],
            [
             0.2222222222222222,
             "#7201a8"
            ],
            [
             0.3333333333333333,
             "#9c179e"
            ],
            [
             0.4444444444444444,
             "#bd3786"
            ],
            [
             0.5555555555555556,
             "#d8576b"
            ],
            [
             0.6666666666666666,
             "#ed7953"
            ],
            [
             0.7777777777777778,
             "#fb9f3a"
            ],
            [
             0.8888888888888888,
             "#fdca26"
            ],
            [
             1,
             "#f0f921"
            ]
           ],
           "sequentialminus": [
            [
             0,
             "#0d0887"
            ],
            [
             0.1111111111111111,
             "#46039f"
            ],
            [
             0.2222222222222222,
             "#7201a8"
            ],
            [
             0.3333333333333333,
             "#9c179e"
            ],
            [
             0.4444444444444444,
             "#bd3786"
            ],
            [
             0.5555555555555556,
             "#d8576b"
            ],
            [
             0.6666666666666666,
             "#ed7953"
            ],
            [
             0.7777777777777778,
             "#fb9f3a"
            ],
            [
             0.8888888888888888,
             "#fdca26"
            ],
            [
             1,
             "#f0f921"
            ]
           ]
          },
          "colorway": [
           "#636efa",
           "#EF553B",
           "#00cc96",
           "#ab63fa",
           "#FFA15A",
           "#19d3f3",
           "#FF6692",
           "#B6E880",
           "#FF97FF",
           "#FECB52"
          ],
          "font": {
           "color": "#2a3f5f"
          },
          "geo": {
           "bgcolor": "white",
           "lakecolor": "white",
           "landcolor": "#E5ECF6",
           "showlakes": true,
           "showland": true,
           "subunitcolor": "white"
          },
          "hoverlabel": {
           "align": "left"
          },
          "hovermode": "closest",
          "mapbox": {
           "style": "light"
          },
          "paper_bgcolor": "white",
          "plot_bgcolor": "#E5ECF6",
          "polar": {
           "angularaxis": {
            "gridcolor": "white",
            "linecolor": "white",
            "ticks": ""
           },
           "bgcolor": "#E5ECF6",
           "radialaxis": {
            "gridcolor": "white",
            "linecolor": "white",
            "ticks": ""
           }
          },
          "scene": {
           "xaxis": {
            "backgroundcolor": "#E5ECF6",
            "gridcolor": "white",
            "gridwidth": 2,
            "linecolor": "white",
            "showbackground": true,
            "ticks": "",
            "zerolinecolor": "white"
           },
           "yaxis": {
            "backgroundcolor": "#E5ECF6",
            "gridcolor": "white",
            "gridwidth": 2,
            "linecolor": "white",
            "showbackground": true,
            "ticks": "",
            "zerolinecolor": "white"
           },
           "zaxis": {
            "backgroundcolor": "#E5ECF6",
            "gridcolor": "white",
            "gridwidth": 2,
            "linecolor": "white",
            "showbackground": true,
            "ticks": "",
            "zerolinecolor": "white"
           }
          },
          "shapedefaults": {
           "line": {
            "color": "#2a3f5f"
           }
          },
          "ternary": {
           "aaxis": {
            "gridcolor": "white",
            "linecolor": "white",
            "ticks": ""
           },
           "baxis": {
            "gridcolor": "white",
            "linecolor": "white",
            "ticks": ""
           },
           "bgcolor": "#E5ECF6",
           "caxis": {
            "gridcolor": "white",
            "linecolor": "white",
            "ticks": ""
           }
          },
          "title": {
           "x": 0.05
          },
          "xaxis": {
           "automargin": true,
           "gridcolor": "white",
           "linecolor": "white",
           "ticks": "",
           "title": {
            "standoff": 15
           },
           "zerolinecolor": "white",
           "zerolinewidth": 2
          },
          "yaxis": {
           "automargin": true,
           "gridcolor": "white",
           "linecolor": "white",
           "ticks": "",
           "title": {
            "standoff": 15
           },
           "zerolinecolor": "white",
           "zerolinewidth": 2
          }
         }
        },
        "title": {
         "font": {
          "color": "#4D5663"
         }
        },
        "xaxis": {
         "gridcolor": "#E1E5ED",
         "showgrid": true,
         "tickfont": {
          "color": "#4D5663"
         },
         "title": {
          "font": {
           "color": "#4D5663"
          },
          "text": ""
         },
         "zerolinecolor": "#E1E5ED"
        },
        "xaxis2": {
         "anchor": "y2",
         "gridcolor": "#E1E5ED",
         "showgrid": true,
         "showticklabels": false,
         "tickfont": {
          "color": "#4D5663"
         },
         "title": {
          "font": {
           "color": "#4D5663"
          },
          "text": ""
         },
         "zerolinecolor": "#E1E5ED"
        },
        "yaxis": {
         "domain": [
          0.3,
          1
         ],
         "gridcolor": "#E1E5ED",
         "showgrid": true,
         "tickfont": {
          "color": "#4D5663"
         },
         "title": {
          "font": {
           "color": "#4D5663"
          },
          "text": ""
         },
         "zerolinecolor": "#E1E5ED"
        },
        "yaxis2": {
         "domain": [
          0,
          0.25
         ],
         "gridcolor": "#E1E5ED",
         "showgrid": true,
         "tickfont": {
          "color": "#4D5663"
         },
         "title": {
          "font": {
           "color": "#4D5663"
          },
          "text": "Spread"
         },
         "zerolinecolor": "#E1E5ED"
        }
       }
      },
      "text/html": [
       "<div>\n",
       "        \n",
       "        \n",
       "            <div id=\"36efbd39-7458-413d-9991-bdfc90224fb8\" class=\"plotly-graph-div\" style=\"height:525px; width:100%;\"></div>\n",
       "            <script type=\"text/javascript\">\n",
       "                require([\"plotly\"], function(Plotly) {\n",
       "                    window.PLOTLYENV=window.PLOTLYENV || {};\n",
       "                    window.PLOTLYENV.BASE_URL='https://plot.ly';\n",
       "                    \n",
       "                if (document.getElementById(\"36efbd39-7458-413d-9991-bdfc90224fb8\")) {\n",
       "                    Plotly.newPlot(\n",
       "                        '36efbd39-7458-413d-9991-bdfc90224fb8',\n",
       "                        [{\"line\": {\"color\": \"rgba(255, 153, 51, 1.0)\", \"dash\": \"solid\", \"shape\": \"linear\", \"width\": 1.3}, \"mode\": \"lines\", \"name\": \"A\", \"text\": \"\", \"type\": \"scatter\", \"x\": [0, 1, 2, 3, 4, 5, 6, 7, 8, 9, 10, 11, 12, 13, 14, 15, 16, 17, 18, 19, 20, 21, 22, 23, 24, 25, 26, 27, 28, 29, 30, 31, 32, 33, 34, 35, 36, 37, 38, 39, 40, 41, 42, 43, 44, 45, 46, 47, 48, 49, 50, 51, 52, 53, 54, 55, 56, 57, 58, 59, 60, 61, 62, 63, 64, 65, 66, 67, 68, 69, 70, 71, 72, 73, 74, 75, 76, 77, 78, 79, 80, 81, 82, 83, 84, 85, 86, 87, 88, 89, 90, 91, 92, 93, 94, 95, 96, 97, 98, 99], \"y\": [-2.2330045307590853, -0.9521908995974245, 0.27846606978193117, -0.7497430396641565, -0.8956342510414951, -0.2701922755157396, 0.13378854729598888, -0.10139493386630462, 2.4089945148153924, 2.2798960353709634, 1.536776871530047, -0.4738067773638204, 0.3895763004483561, -0.44813497414482384, -0.04272139930867001, 1.8607472786609707, -0.6439882932495113, 1.2582962916443727, -1.204805217634797, -0.1429158275301282, 1.1677493616360861, -2.6530884634429985, -0.9403827018208064, 0.1496396817935744, 0.04470276113270573, -0.7319557334866961, 0.5233737734533389, -0.4409303064263165, -0.5833238720623664, 0.25649916497690095, -0.30081158546772635, 0.07975881141571715, -2.090321583607134, -0.8712175959679449, -0.6931394651239492, -0.8218402617535678, 1.4418250131499333, 0.3751607269805806, 1.2314240010401805, 0.4199928878005679, -0.1554548985369435, 1.8868088114432202, -0.694422411044866, 1.1436083825779144, 0.7624519963607965, -0.2482247596359065, 1.4414688130029367, 0.22035610962969224, 0.2950496995083218, -0.0002316334366230875, 1.2896860527248302, 1.1265104298484678, -0.0036286696037859285, -0.826340568102362, -1.018582405591517, -1.291063854400129, -0.19008683392694992, -0.763872927674939, 2.0959738808836414, 2.130647594088596, 2.224539281704161, 1.1940475375397548, -0.7876803121312159, 0.969667697580649, 0.9493233327045774, -0.044403311331418185, 0.3895596700750885, -0.014452893562845948, -0.6968071801779312, 0.1614108555208764, -0.12276024863235002, -0.8370581648026316, -0.24705922180806691, -0.10403134026483714, -1.4284743931846275, 0.3535476401056677, -0.10544217505192499, 1.6963828925675466, 0.5915873562228502, 0.9907707442218054, 0.7428977212707456, -0.07200887621832967, 0.00017457906821124856, 0.013110631310684354, 1.9240017540561096, -0.4264462466703405, 0.16219704052654055, 0.4697559969879681, 1.0060845122288846, 0.7676496704361507, -0.9161171095812846, -1.624314104246879, -0.9527835783780093, -0.17739704862730749, 1.0650077734242744, 0.43385923873565196, 1.6979048817374556, -1.853810177762625, 0.9776180877321272, -0.8272963834606755]}, {\"line\": {\"color\": \"rgba(55, 128, 191, 1.0)\", \"dash\": \"solid\", \"shape\": \"linear\", \"width\": 1.3}, \"mode\": \"lines\", \"name\": \"B\", \"text\": \"\", \"type\": \"scatter\", \"x\": [0, 1, 2, 3, 4, 5, 6, 7, 8, 9, 10, 11, 12, 13, 14, 15, 16, 17, 18, 19, 20, 21, 22, 23, 24, 25, 26, 27, 28, 29, 30, 31, 32, 33, 34, 35, 36, 37, 38, 39, 40, 41, 42, 43, 44, 45, 46, 47, 48, 49, 50, 51, 52, 53, 54, 55, 56, 57, 58, 59, 60, 61, 62, 63, 64, 65, 66, 67, 68, 69, 70, 71, 72, 73, 74, 75, 76, 77, 78, 79, 80, 81, 82, 83, 84, 85, 86, 87, 88, 89, 90, 91, 92, 93, 94, 95, 96, 97, 98, 99], \"y\": [-0.9234838055280741, 0.1837906133650663, 0.9549006334057075, -0.8172743696437627, 0.3174431081329297, 0.21808918953745687, 0.6815729465243698, -0.262815565993623, 0.0013540987106652831, -0.27062784691556646, -0.8728212153054438, -0.6131662144165188, 0.8217767277509427, -0.37803366564505864, -0.38120900740011365, 0.615824227870488, -0.3479271621381179, -0.14022948149868633, 0.4715134428149978, -1.3875270322229551, 2.291695981953175, -0.4233067765902022, -0.4010460654069656, 1.4953409235326716, 0.055794820889501835, 1.1085643506927436, -0.34084079925276806, -0.04448454401577478, -0.7068197188417409, -0.28196538329893095, 0.35645508606988024, -1.9319911284139681, 0.30676889430031434, 1.0195069345873582, 0.5815106975487212, 0.6675437405444582, -1.451462224194573, 1.7537992807886817, -0.5223131305426536, -2.0899011210520055, -1.1868763568302543, -1.654932061201535, -1.6874933947593838, -1.2156525913674665, 1.6794846829271606, 0.7092856518073, 0.6629875673201554, -0.6411635757117996, -1.1881576800789335, -1.160918932012118, -0.014452385012939719, -0.8158088796870766, -1.112112811778674, -0.4134909737727676, 0.7679354852691683, -0.5288693699646896, 0.966238933639739, 0.5428284262688382, -0.8993016610838763, 1.9686623433577968, -1.1099790369124423, -0.7148053007009889, -0.05035305723891644, -0.2825442564032258, 0.6220386837974622, -0.02607398992073639, -0.12904032210431582, -0.4462530044659881, 1.0919323927621174, -0.2838491101268597, 0.8898082348209791, -0.05344663510556132, 0.6764322455699061, 2.110521685528398, -0.9540742926640376, -0.0709709220358443, -0.05552091480298457, 0.49519307651171957, -0.47214686334867095, -0.43038367094404784, -0.5262311656239208, 0.41668007402483337, -0.46314704835682, 1.1978416309836064, 0.06945342626551727, 0.2852068613579216, -0.9260930337101595, -1.299229452656461, -0.01752394800048146, 1.333737866854547, -1.0027996183786698, 1.3712373857073232, -1.3929633493161442, -2.003173109247321, -0.5638422495748624, -0.08713154635704083, 0.7826639766427661, 1.6599223202958147, 1.8225331731889711, -0.3637271366130778]}, {\"line\": {\"color\": \"rgba(50, 171, 96, 1.0)\", \"dash\": \"solid\", \"shape\": \"linear\", \"width\": 1.3}, \"mode\": \"lines\", \"name\": \"C\", \"text\": \"\", \"type\": \"scatter\", \"x\": [0, 1, 2, 3, 4, 5, 6, 7, 8, 9, 10, 11, 12, 13, 14, 15, 16, 17, 18, 19, 20, 21, 22, 23, 24, 25, 26, 27, 28, 29, 30, 31, 32, 33, 34, 35, 36, 37, 38, 39, 40, 41, 42, 43, 44, 45, 46, 47, 48, 49, 50, 51, 52, 53, 54, 55, 56, 57, 58, 59, 60, 61, 62, 63, 64, 65, 66, 67, 68, 69, 70, 71, 72, 73, 74, 75, 76, 77, 78, 79, 80, 81, 82, 83, 84, 85, 86, 87, 88, 89, 90, 91, 92, 93, 94, 95, 96, 97, 98, 99], \"y\": [0.2755716670365263, -1.4107567274282897, 0.6541175742867782, 1.9674690515547126, 1.256596339268459, 0.523856596662497, -0.8969265311525533, 0.3244140138558535, -0.9950241003805131, 0.010323270077411526, -0.4081624657415359, 0.856972738882899, 0.04068662059895318, -1.2944868481985685, -0.9619587879235344, -1.2789542109730379, -0.9026009083226586, -0.30943964771853477, 1.4669276807914478, 2.1886965346332614, -0.7853005063471961, -1.7956697006953894, -1.561114867168884, -0.14455531064454316, 0.4097967940659489, 0.027689805529984155, -0.8497038505348563, 1.8046874328359785, 0.7071894503644003, 1.213741530303425, -1.0343725538212367, 0.22659112518910376, -1.1486822151076266, 0.9966989811826483, 0.4142349713487508, 1.0253873908752684, -0.6344711510801252, 0.2736544613480108, 0.10304790113170942, -0.03298524733362019, 0.5935028001089265, 0.4838846773154546, 0.8732381580494233, 1.4128524795674415, 0.08490496568549535, 0.050290802392600024, -0.46573622578532187, 0.18929328771708429, 0.022354739248472047, 0.18032179012293742, -0.5383926430861103, 0.6349278683681299, 0.7460618503587655, 0.6143492711346112, 1.1800052422773377, -0.4317198762713371, -0.39825819636098175, 0.020492888094452415, 0.26054148974539326, 0.35542164302954893, -0.09632068069538566, 1.1880737687482943, 0.7622480573510461, -0.12954313804362508, 0.6448810312697735, 0.14237852278024538, -1.254266568431477, -0.4390979624690971, -0.7899958009345055, -0.30993485012088473, 0.6722028469700168, -0.7823208404463984, 0.5862555713819035, 1.2177004118684112, 1.587168629736668, 0.43377784098629774, 0.2796177411902997, 0.8470418963750924, 0.3360985288016682, 0.9208215794336971, 0.002407301316962099, 0.00458636300942406, 0.9329535515195241, -0.7517379185041624, 1.1400847378001369, -1.9844115112198117, 1.268566939128557, -0.0334254762745057, -1.6953738158116232, -0.8040408315832263, 0.016360777148160116, 0.41731413370847836, -0.38523140506373255, 1.2970812498450508, -2.236660366102504, -0.5882604503630262, -0.2731599067897886, -0.29682518018130133, 0.6461631547594263, 0.60302821358222]}, {\"line\": {\"color\": \"rgba(128, 0, 128, 1.0)\", \"dash\": \"solid\", \"shape\": \"linear\", \"width\": 1.3}, \"mode\": \"lines\", \"name\": \"D\", \"text\": \"\", \"type\": \"scatter\", \"x\": [0, 1, 2, 3, 4, 5, 6, 7, 8, 9, 10, 11, 12, 13, 14, 15, 16, 17, 18, 19, 20, 21, 22, 23, 24, 25, 26, 27, 28, 29, 30, 31, 32, 33, 34, 35, 36, 37, 38, 39, 40, 41, 42, 43, 44, 45, 46, 47, 48, 49, 50, 51, 52, 53, 54, 55, 56, 57, 58, 59, 60, 61, 62, 63, 64, 65, 66, 67, 68, 69, 70, 71, 72, 73, 74, 75, 76, 77, 78, 79, 80, 81, 82, 83, 84, 85, 86, 87, 88, 89, 90, 91, 92, 93, 94, 95, 96, 97, 98, 99], \"y\": [0.3643930281255974, 0.15026292366620095, 1.2187222278603946, -0.8659906012809404, 0.6004784913268533, -1.0589820545230748, -1.5683314423426904, -1.6539365309773515, 0.12136885230734451, 1.769195740544522, -0.34786923195499164, -0.5611026339790515, 1.884395043792925, 0.10554293170215406, -0.6971983382812603, 0.7833018925568376, -2.300638357051978, -1.3172806218596724, -0.04373228510009631, -1.2671251518663433, 1.3682141073747136, 0.1758901613320038, 0.4131184697361528, -0.13307235755723854, -0.09343541524988579, -0.23793992896567595, 0.37511476141478445, 1.5348806704194566, -0.9690143836986986, -0.4361298995213377, 0.11884415029697731, 0.7053708211848962, -1.170756619547385, 0.12391062586154639, -1.775733651033394, -1.7025147144806678, 0.24120216357934682, -0.05909560823662816, 0.6990921904976213, -1.2551961134773182, -0.190020144313903, -1.2001001024950408, 0.6274370541851635, 0.5015803990467228, 1.7377383170505403, 0.7669569890905374, -0.591194403818167, -1.184929573922818, -0.09713963731436984, 2.2273843627971575, -1.2140642939832837, -0.726190654922945, 0.21963148157113957, -0.2669805745888528, -0.767942069013212, -0.1521855580871152, -0.3904159798584094, 1.2739452686099946, 0.36218314088967013, 0.11030818464201156, 1.9268791207613563, 0.5487869697256245, -0.9762768663466627, 1.3932777236238698, 0.7258730775669255, -1.94063820760366, -0.5616258682969569, -1.045963556303688, -0.046928354294379034, -0.6985230840516604, -0.09137824514435089, 0.11975928366817555, 0.5719600766112413, -0.5602018420934456, -1.3733210357679502, 0.930729614688202, -1.2865839708266649, 0.24263820697068555, -0.6503235979872184, 0.9780605553222481, 0.2058777005882192, -0.08601947943729862, 0.4341754032068352, -0.836596194783516, -0.5578839609069209, -0.5134003010550453, 0.2902632694148725, -2.69040970394117, 0.9976251276467392, 1.5258496506679962, -0.09914102682089235, -1.2196458165465838, 1.8644668321972602, 1.0079481290352872, -0.4500239322508063, 0.8962399016639363, -0.37922022639110614, 0.2181399664309546, -0.12843420402850228, 2.1360706839894226]}, {\"connectgaps\": false, \"fill\": \"tozeroy\", \"line\": {\"color\": \"green\", \"dash\": \"solid\", \"shape\": \"linear\", \"width\": 0.5}, \"mode\": \"lines\", \"name\": \"Spread\", \"showlegend\": false, \"type\": \"scatter\", \"x\": [0, 1, 2, 3, 4, 5, 6, 7, 8, 9, 10, 11, 12, 13, 14, 15, 16, 17, 18, 19, 20, 21, 22, 23, 24, 25, 26, 27, 28, 29, 30, 31, 32, 33, 34, 35, 36, 37, 38, 39, 40, 41, 42, 43, 44, 45, 46, 47, 48, 49, 50, 51, 52, 53, 54, 55, 56, 57, 58, 59, 60, 61, 62, 63, 64, 65, 66, 67, 68, 69, 70, 71, 72, 73, 74, 75, 76, 77, 78, 79, 80, 81, 82, 83, 84, 85, 86, 87, 88, 89, 90, 91, 92, 93, 94, 95, 96, 97, 98, 99], \"xaxis\": \"x2\", \"y\": [\"\", \"\", \"\", 0.0675313299796062, \"\", \"\", \"\", 0.1614206321273184, 2.407640416104727, 2.5505238822865297, 2.4095980868354907, 0.13935943705269838, \"\", \"\", 0.3384876080914436, 1.2449230507904827, \"\", 1.3985257731430591, \"\", 1.244611204692827, \"\", \"\", \"\", \"\", \"\", \"\", 0.864214572706107, \"\", 0.12349584677937453, 0.5384645482758319, \"\", 2.011749939829685, \"\", \"\", \"\", \"\", 2.893287237344506, \"\", 1.753737131582834, 2.5098940088525734, 1.0314214582933108, 3.5417408726447555, 0.9930709837145177, 2.359260973945381, \"\", \"\", 0.7784812456827813, 0.8615196853414918, 1.4832073795872553, 1.160687298575495, 1.3041384377377698, 1.9423193095355444, 1.108484142174888, \"\", \"\", \"\", \"\", \"\", 2.995275541967518, 0.16198525073079906, 3.3345183186166034, 1.9088528382407437, \"\", 1.2522119539838747, 0.32728464890711517, \"\", 0.5185999921794043, 0.43180011090314213, \"\", 0.44525996564773607, \"\", \"\", \"\", \"\", \"\", 0.424518562141512, \"\", 1.201189816055827, 1.0637342195715211, 1.4211544151658533, 1.2691288868946664, \"\", 0.46332162742503125, \"\", 1.8545483277905923, \"\", 1.0882900742367, 1.768985449644429, 1.023608460229366, \"\", 0.08668250879738526, \"\", 0.4401797709381349, 1.8257760606200133, 1.6288500229991367, 0.5209907850926928, 0.9152409050946895, \"\", \"\", \"\"], \"yaxis\": \"y2\"}, {\"connectgaps\": false, \"fill\": \"tozeroy\", \"line\": {\"color\": \"red\", \"dash\": \"solid\", \"shape\": \"linear\", \"width\": 0.5}, \"mode\": \"lines\", \"name\": \"Spread\", \"showlegend\": false, \"type\": \"scatter\", \"x\": [0, 1, 2, 3, 4, 5, 6, 7, 8, 9, 10, 11, 12, 13, 14, 15, 16, 17, 18, 19, 20, 21, 22, 23, 24, 25, 26, 27, 28, 29, 30, 31, 32, 33, 34, 35, 36, 37, 38, 39, 40, 41, 42, 43, 44, 45, 46, 47, 48, 49, 50, 51, 52, 53, 54, 55, 56, 57, 58, 59, 60, 61, 62, 63, 64, 65, 66, 67, 68, 69, 70, 71, 72, 73, 74, 75, 76, 77, 78, 79, 80, 81, 82, 83, 84, 85, 86, 87, 88, 89, 90, 91, 92, 93, 94, 95, 96, 97, 98, 99], \"xaxis\": \"x2\", \"y\": [-1.3095207252310113, -1.1359815129624908, -0.6764345636237763, \"\", -1.2130773591744248, -0.4882814650531965, -0.547784399228381, \"\", \"\", \"\", \"\", \"\", -0.43220042730258657, -0.0701013084997652, \"\", \"\", -0.2960611311113934, \"\", -1.6763186604497948, \"\", -1.123946620317089, -2.2297816868527964, -0.5393366364138408, -1.3457012417390972, -0.011092059756796106, -1.8405200841794396, \"\", -0.3964457624105417, \"\", \"\", -0.6572666715376065, \"\", -2.3970904779074482, -1.890724530555303, -1.2746501626726703, -1.489384002298026, \"\", -1.3786385538081012, \"\", \"\", \"\", \"\", \"\", \"\", -0.917032686566364, -0.9575104114432065, \"\", \"\", \"\", \"\", \"\", \"\", \"\", -0.4128495943295944, -1.7865178908606851, -0.7621944844354394, -1.156325767566689, -1.3067013539437773, \"\", \"\", \"\", \"\", -0.7373272548922994, \"\", \"\", -0.018329321410681797, \"\", \"\", -1.7887395729400486, \"\", -1.0125684834533293, -0.7836115296970703, -0.923491467377973, -2.214553025793235, -0.4744001005205899, \"\", -0.04992126024894042, \"\", \"\", \"\", \"\", -0.48868895024316306, \"\", -1.184730999672922, \"\", -0.7116531080282621, \"\", \"\", \"\", -0.5660881964183963, \"\", -2.9955514899542024, \"\", \"\", \"\", \"\", \"\", -3.51373249805844, -0.8449150854568439, -0.46356924684759765], \"yaxis\": \"y2\"}],\n",
       "                        {\"hovermode\": \"x\", \"legend\": {\"bgcolor\": \"#F5F6F9\", \"font\": {\"color\": \"#4D5663\"}}, \"paper_bgcolor\": \"#F5F6F9\", \"plot_bgcolor\": \"#F5F6F9\", \"template\": {\"data\": {\"bar\": [{\"error_x\": {\"color\": \"#2a3f5f\"}, \"error_y\": {\"color\": \"#2a3f5f\"}, \"marker\": {\"line\": {\"color\": \"#E5ECF6\", \"width\": 0.5}}, \"type\": \"bar\"}], \"barpolar\": [{\"marker\": {\"line\": {\"color\": \"#E5ECF6\", \"width\": 0.5}}, \"type\": \"barpolar\"}], \"carpet\": [{\"aaxis\": {\"endlinecolor\": \"#2a3f5f\", \"gridcolor\": \"white\", \"linecolor\": \"white\", \"minorgridcolor\": \"white\", \"startlinecolor\": \"#2a3f5f\"}, \"baxis\": {\"endlinecolor\": \"#2a3f5f\", \"gridcolor\": \"white\", \"linecolor\": \"white\", \"minorgridcolor\": \"white\", \"startlinecolor\": \"#2a3f5f\"}, \"type\": \"carpet\"}], \"choropleth\": [{\"colorbar\": {\"outlinewidth\": 0, \"ticks\": \"\"}, \"type\": \"choropleth\"}], \"contour\": [{\"colorbar\": {\"outlinewidth\": 0, \"ticks\": \"\"}, \"colorscale\": [[0.0, \"#0d0887\"], [0.1111111111111111, \"#46039f\"], [0.2222222222222222, \"#7201a8\"], [0.3333333333333333, \"#9c179e\"], [0.4444444444444444, \"#bd3786\"], [0.5555555555555556, \"#d8576b\"], [0.6666666666666666, \"#ed7953\"], [0.7777777777777778, \"#fb9f3a\"], [0.8888888888888888, \"#fdca26\"], [1.0, \"#f0f921\"]], \"type\": \"contour\"}], \"contourcarpet\": [{\"colorbar\": {\"outlinewidth\": 0, \"ticks\": \"\"}, \"type\": \"contourcarpet\"}], \"heatmap\": [{\"colorbar\": {\"outlinewidth\": 0, \"ticks\": \"\"}, \"colorscale\": [[0.0, \"#0d0887\"], [0.1111111111111111, \"#46039f\"], [0.2222222222222222, \"#7201a8\"], [0.3333333333333333, \"#9c179e\"], [0.4444444444444444, \"#bd3786\"], [0.5555555555555556, \"#d8576b\"], [0.6666666666666666, \"#ed7953\"], [0.7777777777777778, \"#fb9f3a\"], [0.8888888888888888, \"#fdca26\"], [1.0, \"#f0f921\"]], \"type\": \"heatmap\"}], \"heatmapgl\": [{\"colorbar\": {\"outlinewidth\": 0, \"ticks\": \"\"}, \"colorscale\": [[0.0, \"#0d0887\"], [0.1111111111111111, \"#46039f\"], [0.2222222222222222, \"#7201a8\"], [0.3333333333333333, \"#9c179e\"], [0.4444444444444444, \"#bd3786\"], [0.5555555555555556, \"#d8576b\"], [0.6666666666666666, \"#ed7953\"], [0.7777777777777778, \"#fb9f3a\"], [0.8888888888888888, \"#fdca26\"], [1.0, \"#f0f921\"]], \"type\": \"heatmapgl\"}], \"histogram\": [{\"marker\": {\"colorbar\": {\"outlinewidth\": 0, \"ticks\": \"\"}}, \"type\": \"histogram\"}], \"histogram2d\": [{\"colorbar\": {\"outlinewidth\": 0, \"ticks\": \"\"}, \"colorscale\": [[0.0, \"#0d0887\"], [0.1111111111111111, \"#46039f\"], [0.2222222222222222, \"#7201a8\"], [0.3333333333333333, \"#9c179e\"], [0.4444444444444444, \"#bd3786\"], [0.5555555555555556, \"#d8576b\"], [0.6666666666666666, \"#ed7953\"], [0.7777777777777778, \"#fb9f3a\"], [0.8888888888888888, \"#fdca26\"], [1.0, \"#f0f921\"]], \"type\": \"histogram2d\"}], \"histogram2dcontour\": [{\"colorbar\": {\"outlinewidth\": 0, \"ticks\": \"\"}, \"colorscale\": [[0.0, \"#0d0887\"], [0.1111111111111111, \"#46039f\"], [0.2222222222222222, \"#7201a8\"], [0.3333333333333333, \"#9c179e\"], [0.4444444444444444, \"#bd3786\"], [0.5555555555555556, \"#d8576b\"], [0.6666666666666666, \"#ed7953\"], [0.7777777777777778, \"#fb9f3a\"], [0.8888888888888888, \"#fdca26\"], [1.0, \"#f0f921\"]], \"type\": \"histogram2dcontour\"}], \"mesh3d\": [{\"colorbar\": {\"outlinewidth\": 0, \"ticks\": \"\"}, \"type\": \"mesh3d\"}], \"parcoords\": [{\"line\": {\"colorbar\": {\"outlinewidth\": 0, \"ticks\": \"\"}}, \"type\": \"parcoords\"}], \"pie\": [{\"automargin\": true, \"type\": \"pie\"}], \"scatter\": [{\"marker\": {\"colorbar\": {\"outlinewidth\": 0, \"ticks\": \"\"}}, \"type\": \"scatter\"}], \"scatter3d\": [{\"line\": {\"colorbar\": {\"outlinewidth\": 0, \"ticks\": \"\"}}, \"marker\": {\"colorbar\": {\"outlinewidth\": 0, \"ticks\": \"\"}}, \"type\": \"scatter3d\"}], \"scattercarpet\": [{\"marker\": {\"colorbar\": {\"outlinewidth\": 0, \"ticks\": \"\"}}, \"type\": \"scattercarpet\"}], \"scattergeo\": [{\"marker\": {\"colorbar\": {\"outlinewidth\": 0, \"ticks\": \"\"}}, \"type\": \"scattergeo\"}], \"scattergl\": [{\"marker\": {\"colorbar\": {\"outlinewidth\": 0, \"ticks\": \"\"}}, \"type\": \"scattergl\"}], \"scattermapbox\": [{\"marker\": {\"colorbar\": {\"outlinewidth\": 0, \"ticks\": \"\"}}, \"type\": \"scattermapbox\"}], \"scatterpolar\": [{\"marker\": {\"colorbar\": {\"outlinewidth\": 0, \"ticks\": \"\"}}, \"type\": \"scatterpolar\"}], \"scatterpolargl\": [{\"marker\": {\"colorbar\": {\"outlinewidth\": 0, \"ticks\": \"\"}}, \"type\": \"scatterpolargl\"}], \"scatterternary\": [{\"marker\": {\"colorbar\": {\"outlinewidth\": 0, \"ticks\": \"\"}}, \"type\": \"scatterternary\"}], \"surface\": [{\"colorbar\": {\"outlinewidth\": 0, \"ticks\": \"\"}, \"colorscale\": [[0.0, \"#0d0887\"], [0.1111111111111111, \"#46039f\"], [0.2222222222222222, \"#7201a8\"], [0.3333333333333333, \"#9c179e\"], [0.4444444444444444, \"#bd3786\"], [0.5555555555555556, \"#d8576b\"], [0.6666666666666666, \"#ed7953\"], [0.7777777777777778, \"#fb9f3a\"], [0.8888888888888888, \"#fdca26\"], [1.0, \"#f0f921\"]], \"type\": \"surface\"}], \"table\": [{\"cells\": {\"fill\": {\"color\": \"#EBF0F8\"}, \"line\": {\"color\": \"white\"}}, \"header\": {\"fill\": {\"color\": \"#C8D4E3\"}, \"line\": {\"color\": \"white\"}}, \"type\": \"table\"}]}, \"layout\": {\"annotationdefaults\": {\"arrowcolor\": \"#2a3f5f\", \"arrowhead\": 0, \"arrowwidth\": 1}, \"coloraxis\": {\"colorbar\": {\"outlinewidth\": 0, \"ticks\": \"\"}}, \"colorscale\": {\"diverging\": [[0, \"#8e0152\"], [0.1, \"#c51b7d\"], [0.2, \"#de77ae\"], [0.3, \"#f1b6da\"], [0.4, \"#fde0ef\"], [0.5, \"#f7f7f7\"], [0.6, \"#e6f5d0\"], [0.7, \"#b8e186\"], [0.8, \"#7fbc41\"], [0.9, \"#4d9221\"], [1, \"#276419\"]], \"sequential\": [[0.0, \"#0d0887\"], [0.1111111111111111, \"#46039f\"], [0.2222222222222222, \"#7201a8\"], [0.3333333333333333, \"#9c179e\"], [0.4444444444444444, \"#bd3786\"], [0.5555555555555556, \"#d8576b\"], [0.6666666666666666, \"#ed7953\"], [0.7777777777777778, \"#fb9f3a\"], [0.8888888888888888, \"#fdca26\"], [1.0, \"#f0f921\"]], \"sequentialminus\": [[0.0, \"#0d0887\"], [0.1111111111111111, \"#46039f\"], [0.2222222222222222, \"#7201a8\"], [0.3333333333333333, \"#9c179e\"], [0.4444444444444444, \"#bd3786\"], [0.5555555555555556, \"#d8576b\"], [0.6666666666666666, \"#ed7953\"], [0.7777777777777778, \"#fb9f3a\"], [0.8888888888888888, \"#fdca26\"], [1.0, \"#f0f921\"]]}, \"colorway\": [\"#636efa\", \"#EF553B\", \"#00cc96\", \"#ab63fa\", \"#FFA15A\", \"#19d3f3\", \"#FF6692\", \"#B6E880\", \"#FF97FF\", \"#FECB52\"], \"font\": {\"color\": \"#2a3f5f\"}, \"geo\": {\"bgcolor\": \"white\", \"lakecolor\": \"white\", \"landcolor\": \"#E5ECF6\", \"showlakes\": true, \"showland\": true, \"subunitcolor\": \"white\"}, \"hoverlabel\": {\"align\": \"left\"}, \"hovermode\": \"closest\", \"mapbox\": {\"style\": \"light\"}, \"paper_bgcolor\": \"white\", \"plot_bgcolor\": \"#E5ECF6\", \"polar\": {\"angularaxis\": {\"gridcolor\": \"white\", \"linecolor\": \"white\", \"ticks\": \"\"}, \"bgcolor\": \"#E5ECF6\", \"radialaxis\": {\"gridcolor\": \"white\", \"linecolor\": \"white\", \"ticks\": \"\"}}, \"scene\": {\"xaxis\": {\"backgroundcolor\": \"#E5ECF6\", \"gridcolor\": \"white\", \"gridwidth\": 2, \"linecolor\": \"white\", \"showbackground\": true, \"ticks\": \"\", \"zerolinecolor\": \"white\"}, \"yaxis\": {\"backgroundcolor\": \"#E5ECF6\", \"gridcolor\": \"white\", \"gridwidth\": 2, \"linecolor\": \"white\", \"showbackground\": true, \"ticks\": \"\", \"zerolinecolor\": \"white\"}, \"zaxis\": {\"backgroundcolor\": \"#E5ECF6\", \"gridcolor\": \"white\", \"gridwidth\": 2, \"linecolor\": \"white\", \"showbackground\": true, \"ticks\": \"\", \"zerolinecolor\": \"white\"}}, \"shapedefaults\": {\"line\": {\"color\": \"#2a3f5f\"}}, \"ternary\": {\"aaxis\": {\"gridcolor\": \"white\", \"linecolor\": \"white\", \"ticks\": \"\"}, \"baxis\": {\"gridcolor\": \"white\", \"linecolor\": \"white\", \"ticks\": \"\"}, \"bgcolor\": \"#E5ECF6\", \"caxis\": {\"gridcolor\": \"white\", \"linecolor\": \"white\", \"ticks\": \"\"}}, \"title\": {\"x\": 0.05}, \"xaxis\": {\"automargin\": true, \"gridcolor\": \"white\", \"linecolor\": \"white\", \"ticks\": \"\", \"title\": {\"standoff\": 15}, \"zerolinecolor\": \"white\", \"zerolinewidth\": 2}, \"yaxis\": {\"automargin\": true, \"gridcolor\": \"white\", \"linecolor\": \"white\", \"ticks\": \"\", \"title\": {\"standoff\": 15}, \"zerolinecolor\": \"white\", \"zerolinewidth\": 2}}}, \"title\": {\"font\": {\"color\": \"#4D5663\"}}, \"xaxis\": {\"gridcolor\": \"#E1E5ED\", \"showgrid\": true, \"tickfont\": {\"color\": \"#4D5663\"}, \"title\": {\"font\": {\"color\": \"#4D5663\"}, \"text\": \"\"}, \"zerolinecolor\": \"#E1E5ED\"}, \"xaxis2\": {\"anchor\": \"y2\", \"gridcolor\": \"#E1E5ED\", \"showgrid\": true, \"showticklabels\": false, \"tickfont\": {\"color\": \"#4D5663\"}, \"title\": {\"font\": {\"color\": \"#4D5663\"}, \"text\": \"\"}, \"zerolinecolor\": \"#E1E5ED\"}, \"yaxis\": {\"domain\": [0.3, 1], \"gridcolor\": \"#E1E5ED\", \"showgrid\": true, \"tickfont\": {\"color\": \"#4D5663\"}, \"title\": {\"font\": {\"color\": \"#4D5663\"}, \"text\": \"\"}, \"zerolinecolor\": \"#E1E5ED\"}, \"yaxis2\": {\"domain\": [0, 0.25], \"gridcolor\": \"#E1E5ED\", \"showgrid\": true, \"tickfont\": {\"color\": \"#4D5663\"}, \"title\": {\"font\": {\"color\": \"#4D5663\"}, \"text\": \"Spread\"}, \"zerolinecolor\": \"#E1E5ED\"}},\n",
       "                        {\"showLink\": true, \"linkText\": \"Export to plot.ly\", \"plotlyServerURL\": \"https://plot.ly\", \"responsive\": true}\n",
       "                    ).then(function(){\n",
       "                            \n",
       "var gd = document.getElementById('36efbd39-7458-413d-9991-bdfc90224fb8');\n",
       "var x = new MutationObserver(function (mutations, observer) {{\n",
       "        var display = window.getComputedStyle(gd).display;\n",
       "        if (!display || display === 'none') {{\n",
       "            console.log([gd, 'removed!']);\n",
       "            Plotly.purge(gd);\n",
       "            observer.disconnect();\n",
       "        }}\n",
       "}});\n",
       "\n",
       "// Listen for the removal of the full notebook cells\n",
       "var notebookContainer = gd.closest('#notebook-container');\n",
       "if (notebookContainer) {{\n",
       "    x.observe(notebookContainer, {childList: true});\n",
       "}}\n",
       "\n",
       "// Listen for the clearing of the current output cell\n",
       "var outputEl = gd.closest('.output');\n",
       "if (outputEl) {{\n",
       "    x.observe(outputEl, {childList: true});\n",
       "}}\n",
       "\n",
       "                        })\n",
       "                };\n",
       "                });\n",
       "            </script>\n",
       "        </div>"
      ]
     },
     "metadata": {},
     "output_type": "display_data"
    }
   ],
   "source": [
    "df.iplot(kind='spread')"
   ]
  },
  {
   "cell_type": "markdown",
   "metadata": {},
   "source": [
    "**Bubble Plots**"
   ]
  },
  {
   "cell_type": "code",
   "execution_count": 29,
   "metadata": {},
   "outputs": [
    {
     "data": {
      "application/vnd.plotly.v1+json": {
       "config": {
        "linkText": "Export to plot.ly",
        "plotlyServerURL": "https://plot.ly",
        "showLink": true
       },
       "data": [
        {
         "marker": {
          "color": [
           "antiquewhite",
           "antiquewhite",
           "antiquewhite",
           "antiquewhite",
           "antiquewhite",
           "antiquewhite",
           "antiquewhite",
           "antiquewhite",
           "antiquewhite",
           "antiquewhite",
           "antiquewhite",
           "antiquewhite",
           "antiquewhite",
           "antiquewhite",
           "antiquewhite",
           "antiquewhite",
           "antiquewhite",
           "antiquewhite",
           "antiquewhite",
           "antiquewhite",
           "antiquewhite",
           "antiquewhite",
           "antiquewhite",
           "antiquewhite",
           "antiquewhite",
           "antiquewhite",
           "antiquewhite",
           "antiquewhite",
           "antiquewhite",
           "antiquewhite",
           "antiquewhite",
           "antiquewhite",
           "antiquewhite",
           "antiquewhite",
           "antiquewhite",
           "antiquewhite",
           "antiquewhite",
           "antiquewhite",
           "antiquewhite",
           "antiquewhite",
           "antiquewhite",
           "antiquewhite",
           "antiquewhite",
           "antiquewhite",
           "antiquewhite",
           "antiquewhite",
           "antiquewhite",
           "antiquewhite",
           "antiquewhite",
           "antiquewhite",
           "antiquewhite",
           "antiquewhite",
           "antiquewhite",
           "antiquewhite",
           "antiquewhite",
           "antiquewhite",
           "antiquewhite",
           "antiquewhite",
           "antiquewhite",
           "antiquewhite",
           "antiquewhite",
           "antiquewhite",
           "antiquewhite",
           "antiquewhite",
           "antiquewhite",
           "antiquewhite",
           "antiquewhite",
           "antiquewhite",
           "antiquewhite",
           "antiquewhite",
           "antiquewhite",
           "antiquewhite",
           "antiquewhite",
           "antiquewhite",
           "antiquewhite",
           "antiquewhite",
           "antiquewhite",
           "antiquewhite",
           "antiquewhite",
           "antiquewhite",
           "antiquewhite",
           "antiquewhite",
           "antiquewhite",
           "antiquewhite",
           "antiquewhite",
           "antiquewhite",
           "antiquewhite",
           "antiquewhite",
           "antiquewhite",
           "antiquewhite",
           "antiquewhite",
           "antiquewhite",
           "antiquewhite",
           "antiquewhite",
           "antiquewhite",
           "antiquewhite",
           "antiquewhite",
           "antiquewhite",
           "antiquewhite",
           "antiquewhite"
          ],
          "line": {
           "width": 1.3
          },
          "size": [
           68,
           30,
           77,
           107,
           90,
           74,
           42,
           69,
           40,
           62,
           53,
           81,
           63,
           33,
           40,
           33,
           42,
           55,
           95,
           112,
           44,
           21,
           27,
           59,
           71,
           63,
           43,
           103,
           78,
           89,
           39,
           67,
           36,
           85,
           71,
           85,
           48,
           68,
           64,
           61,
           75,
           73,
           82,
           94,
           64,
           63,
           52,
           66,
           63,
           66,
           50,
           76,
           79,
           76,
           89,
           52,
           53,
           63,
           68,
           70,
           60,
           89,
           79,
           59,
           77,
           65,
           34,
           52,
           44,
           55,
           77,
           44,
           75,
           90,
           98,
           72,
           68,
           81,
           70,
           83,
           62,
           62,
           83,
           45,
           88,
           17,
           91,
           61,
           24,
           44,
           62,
           71,
           53,
           91,
           12,
           49,
           56,
           55,
           77,
           76
          ],
          "symbol": "circle"
         },
         "mode": "markers",
         "text": "",
         "type": "scatter",
         "x": [
          -2.2330045307590853,
          -0.9521908995974245,
          0.27846606978193117,
          -0.7497430396641565,
          -0.8956342510414951,
          -0.2701922755157396,
          0.13378854729598888,
          -0.10139493386630462,
          2.4089945148153924,
          2.2798960353709634,
          1.536776871530047,
          -0.4738067773638204,
          0.3895763004483561,
          -0.44813497414482384,
          -0.04272139930867001,
          1.8607472786609707,
          -0.6439882932495113,
          1.2582962916443727,
          -1.204805217634797,
          -0.1429158275301282,
          1.1677493616360861,
          -2.6530884634429985,
          -0.9403827018208064,
          0.1496396817935744,
          0.04470276113270573,
          -0.7319557334866961,
          0.5233737734533389,
          -0.4409303064263165,
          -0.5833238720623664,
          0.25649916497690095,
          -0.30081158546772635,
          0.07975881141571715,
          -2.090321583607134,
          -0.8712175959679449,
          -0.6931394651239492,
          -0.8218402617535678,
          1.4418250131499333,
          0.3751607269805806,
          1.2314240010401805,
          0.4199928878005679,
          -0.1554548985369435,
          1.8868088114432202,
          -0.694422411044866,
          1.1436083825779144,
          0.7624519963607965,
          -0.2482247596359065,
          1.4414688130029367,
          0.22035610962969224,
          0.2950496995083218,
          -0.0002316334366230875,
          1.2896860527248302,
          1.1265104298484678,
          -0.0036286696037859285,
          -0.826340568102362,
          -1.018582405591517,
          -1.291063854400129,
          -0.19008683392694992,
          -0.763872927674939,
          2.0959738808836414,
          2.130647594088596,
          2.224539281704161,
          1.1940475375397548,
          -0.7876803121312159,
          0.969667697580649,
          0.9493233327045774,
          -0.044403311331418185,
          0.3895596700750885,
          -0.014452893562845948,
          -0.6968071801779312,
          0.1614108555208764,
          -0.12276024863235002,
          -0.8370581648026316,
          -0.24705922180806691,
          -0.10403134026483714,
          -1.4284743931846275,
          0.3535476401056677,
          -0.10544217505192499,
          1.6963828925675466,
          0.5915873562228502,
          0.9907707442218054,
          0.7428977212707456,
          -0.07200887621832967,
          0.00017457906821124856,
          0.013110631310684354,
          1.9240017540561096,
          -0.4264462466703405,
          0.16219704052654055,
          0.4697559969879681,
          1.0060845122288846,
          0.7676496704361507,
          -0.9161171095812846,
          -1.624314104246879,
          -0.9527835783780093,
          -0.17739704862730749,
          1.0650077734242744,
          0.43385923873565196,
          1.6979048817374556,
          -1.853810177762625,
          0.9776180877321272,
          -0.8272963834606755
         ],
         "y": [
          -0.9234838055280741,
          0.1837906133650663,
          0.9549006334057075,
          -0.8172743696437627,
          0.3174431081329297,
          0.21808918953745687,
          0.6815729465243698,
          -0.262815565993623,
          0.0013540987106652831,
          -0.27062784691556646,
          -0.8728212153054438,
          -0.6131662144165188,
          0.8217767277509427,
          -0.37803366564505864,
          -0.38120900740011365,
          0.615824227870488,
          -0.3479271621381179,
          -0.14022948149868633,
          0.4715134428149978,
          -1.3875270322229551,
          2.291695981953175,
          -0.4233067765902022,
          -0.4010460654069656,
          1.4953409235326716,
          0.055794820889501835,
          1.1085643506927436,
          -0.34084079925276806,
          -0.04448454401577478,
          -0.7068197188417409,
          -0.28196538329893095,
          0.35645508606988024,
          -1.9319911284139681,
          0.30676889430031434,
          1.0195069345873582,
          0.5815106975487212,
          0.6675437405444582,
          -1.451462224194573,
          1.7537992807886817,
          -0.5223131305426536,
          -2.0899011210520055,
          -1.1868763568302543,
          -1.654932061201535,
          -1.6874933947593838,
          -1.2156525913674665,
          1.6794846829271606,
          0.7092856518073,
          0.6629875673201554,
          -0.6411635757117996,
          -1.1881576800789335,
          -1.160918932012118,
          -0.014452385012939719,
          -0.8158088796870766,
          -1.112112811778674,
          -0.4134909737727676,
          0.7679354852691683,
          -0.5288693699646896,
          0.966238933639739,
          0.5428284262688382,
          -0.8993016610838763,
          1.9686623433577968,
          -1.1099790369124423,
          -0.7148053007009889,
          -0.05035305723891644,
          -0.2825442564032258,
          0.6220386837974622,
          -0.02607398992073639,
          -0.12904032210431582,
          -0.4462530044659881,
          1.0919323927621174,
          -0.2838491101268597,
          0.8898082348209791,
          -0.05344663510556132,
          0.6764322455699061,
          2.110521685528398,
          -0.9540742926640376,
          -0.0709709220358443,
          -0.05552091480298457,
          0.49519307651171957,
          -0.47214686334867095,
          -0.43038367094404784,
          -0.5262311656239208,
          0.41668007402483337,
          -0.46314704835682,
          1.1978416309836064,
          0.06945342626551727,
          0.2852068613579216,
          -0.9260930337101595,
          -1.299229452656461,
          -0.01752394800048146,
          1.333737866854547,
          -1.0027996183786698,
          1.3712373857073232,
          -1.3929633493161442,
          -2.003173109247321,
          -0.5638422495748624,
          -0.08713154635704083,
          0.7826639766427661,
          1.6599223202958147,
          1.8225331731889711,
          -0.3637271366130778
         ]
        }
       ],
       "layout": {
        "legend": {
         "bgcolor": "#F5F6F9",
         "font": {
          "color": "#4D5663"
         }
        },
        "paper_bgcolor": "#F5F6F9",
        "plot_bgcolor": "#F5F6F9",
        "template": {
         "data": {
          "bar": [
           {
            "error_x": {
             "color": "#2a3f5f"
            },
            "error_y": {
             "color": "#2a3f5f"
            },
            "marker": {
             "line": {
              "color": "#E5ECF6",
              "width": 0.5
             }
            },
            "type": "bar"
           }
          ],
          "barpolar": [
           {
            "marker": {
             "line": {
              "color": "#E5ECF6",
              "width": 0.5
             }
            },
            "type": "barpolar"
           }
          ],
          "carpet": [
           {
            "aaxis": {
             "endlinecolor": "#2a3f5f",
             "gridcolor": "white",
             "linecolor": "white",
             "minorgridcolor": "white",
             "startlinecolor": "#2a3f5f"
            },
            "baxis": {
             "endlinecolor": "#2a3f5f",
             "gridcolor": "white",
             "linecolor": "white",
             "minorgridcolor": "white",
             "startlinecolor": "#2a3f5f"
            },
            "type": "carpet"
           }
          ],
          "choropleth": [
           {
            "colorbar": {
             "outlinewidth": 0,
             "ticks": ""
            },
            "type": "choropleth"
           }
          ],
          "contour": [
           {
            "colorbar": {
             "outlinewidth": 0,
             "ticks": ""
            },
            "colorscale": [
             [
              0,
              "#0d0887"
             ],
             [
              0.1111111111111111,
              "#46039f"
             ],
             [
              0.2222222222222222,
              "#7201a8"
             ],
             [
              0.3333333333333333,
              "#9c179e"
             ],
             [
              0.4444444444444444,
              "#bd3786"
             ],
             [
              0.5555555555555556,
              "#d8576b"
             ],
             [
              0.6666666666666666,
              "#ed7953"
             ],
             [
              0.7777777777777778,
              "#fb9f3a"
             ],
             [
              0.8888888888888888,
              "#fdca26"
             ],
             [
              1,
              "#f0f921"
             ]
            ],
            "type": "contour"
           }
          ],
          "contourcarpet": [
           {
            "colorbar": {
             "outlinewidth": 0,
             "ticks": ""
            },
            "type": "contourcarpet"
           }
          ],
          "heatmap": [
           {
            "colorbar": {
             "outlinewidth": 0,
             "ticks": ""
            },
            "colorscale": [
             [
              0,
              "#0d0887"
             ],
             [
              0.1111111111111111,
              "#46039f"
             ],
             [
              0.2222222222222222,
              "#7201a8"
             ],
             [
              0.3333333333333333,
              "#9c179e"
             ],
             [
              0.4444444444444444,
              "#bd3786"
             ],
             [
              0.5555555555555556,
              "#d8576b"
             ],
             [
              0.6666666666666666,
              "#ed7953"
             ],
             [
              0.7777777777777778,
              "#fb9f3a"
             ],
             [
              0.8888888888888888,
              "#fdca26"
             ],
             [
              1,
              "#f0f921"
             ]
            ],
            "type": "heatmap"
           }
          ],
          "heatmapgl": [
           {
            "colorbar": {
             "outlinewidth": 0,
             "ticks": ""
            },
            "colorscale": [
             [
              0,
              "#0d0887"
             ],
             [
              0.1111111111111111,
              "#46039f"
             ],
             [
              0.2222222222222222,
              "#7201a8"
             ],
             [
              0.3333333333333333,
              "#9c179e"
             ],
             [
              0.4444444444444444,
              "#bd3786"
             ],
             [
              0.5555555555555556,
              "#d8576b"
             ],
             [
              0.6666666666666666,
              "#ed7953"
             ],
             [
              0.7777777777777778,
              "#fb9f3a"
             ],
             [
              0.8888888888888888,
              "#fdca26"
             ],
             [
              1,
              "#f0f921"
             ]
            ],
            "type": "heatmapgl"
           }
          ],
          "histogram": [
           {
            "marker": {
             "colorbar": {
              "outlinewidth": 0,
              "ticks": ""
             }
            },
            "type": "histogram"
           }
          ],
          "histogram2d": [
           {
            "colorbar": {
             "outlinewidth": 0,
             "ticks": ""
            },
            "colorscale": [
             [
              0,
              "#0d0887"
             ],
             [
              0.1111111111111111,
              "#46039f"
             ],
             [
              0.2222222222222222,
              "#7201a8"
             ],
             [
              0.3333333333333333,
              "#9c179e"
             ],
             [
              0.4444444444444444,
              "#bd3786"
             ],
             [
              0.5555555555555556,
              "#d8576b"
             ],
             [
              0.6666666666666666,
              "#ed7953"
             ],
             [
              0.7777777777777778,
              "#fb9f3a"
             ],
             [
              0.8888888888888888,
              "#fdca26"
             ],
             [
              1,
              "#f0f921"
             ]
            ],
            "type": "histogram2d"
           }
          ],
          "histogram2dcontour": [
           {
            "colorbar": {
             "outlinewidth": 0,
             "ticks": ""
            },
            "colorscale": [
             [
              0,
              "#0d0887"
             ],
             [
              0.1111111111111111,
              "#46039f"
             ],
             [
              0.2222222222222222,
              "#7201a8"
             ],
             [
              0.3333333333333333,
              "#9c179e"
             ],
             [
              0.4444444444444444,
              "#bd3786"
             ],
             [
              0.5555555555555556,
              "#d8576b"
             ],
             [
              0.6666666666666666,
              "#ed7953"
             ],
             [
              0.7777777777777778,
              "#fb9f3a"
             ],
             [
              0.8888888888888888,
              "#fdca26"
             ],
             [
              1,
              "#f0f921"
             ]
            ],
            "type": "histogram2dcontour"
           }
          ],
          "mesh3d": [
           {
            "colorbar": {
             "outlinewidth": 0,
             "ticks": ""
            },
            "type": "mesh3d"
           }
          ],
          "parcoords": [
           {
            "line": {
             "colorbar": {
              "outlinewidth": 0,
              "ticks": ""
             }
            },
            "type": "parcoords"
           }
          ],
          "pie": [
           {
            "automargin": true,
            "type": "pie"
           }
          ],
          "scatter": [
           {
            "marker": {
             "colorbar": {
              "outlinewidth": 0,
              "ticks": ""
             }
            },
            "type": "scatter"
           }
          ],
          "scatter3d": [
           {
            "line": {
             "colorbar": {
              "outlinewidth": 0,
              "ticks": ""
             }
            },
            "marker": {
             "colorbar": {
              "outlinewidth": 0,
              "ticks": ""
             }
            },
            "type": "scatter3d"
           }
          ],
          "scattercarpet": [
           {
            "marker": {
             "colorbar": {
              "outlinewidth": 0,
              "ticks": ""
             }
            },
            "type": "scattercarpet"
           }
          ],
          "scattergeo": [
           {
            "marker": {
             "colorbar": {
              "outlinewidth": 0,
              "ticks": ""
             }
            },
            "type": "scattergeo"
           }
          ],
          "scattergl": [
           {
            "marker": {
             "colorbar": {
              "outlinewidth": 0,
              "ticks": ""
             }
            },
            "type": "scattergl"
           }
          ],
          "scattermapbox": [
           {
            "marker": {
             "colorbar": {
              "outlinewidth": 0,
              "ticks": ""
             }
            },
            "type": "scattermapbox"
           }
          ],
          "scatterpolar": [
           {
            "marker": {
             "colorbar": {
              "outlinewidth": 0,
              "ticks": ""
             }
            },
            "type": "scatterpolar"
           }
          ],
          "scatterpolargl": [
           {
            "marker": {
             "colorbar": {
              "outlinewidth": 0,
              "ticks": ""
             }
            },
            "type": "scatterpolargl"
           }
          ],
          "scatterternary": [
           {
            "marker": {
             "colorbar": {
              "outlinewidth": 0,
              "ticks": ""
             }
            },
            "type": "scatterternary"
           }
          ],
          "surface": [
           {
            "colorbar": {
             "outlinewidth": 0,
             "ticks": ""
            },
            "colorscale": [
             [
              0,
              "#0d0887"
             ],
             [
              0.1111111111111111,
              "#46039f"
             ],
             [
              0.2222222222222222,
              "#7201a8"
             ],
             [
              0.3333333333333333,
              "#9c179e"
             ],
             [
              0.4444444444444444,
              "#bd3786"
             ],
             [
              0.5555555555555556,
              "#d8576b"
             ],
             [
              0.6666666666666666,
              "#ed7953"
             ],
             [
              0.7777777777777778,
              "#fb9f3a"
             ],
             [
              0.8888888888888888,
              "#fdca26"
             ],
             [
              1,
              "#f0f921"
             ]
            ],
            "type": "surface"
           }
          ],
          "table": [
           {
            "cells": {
             "fill": {
              "color": "#EBF0F8"
             },
             "line": {
              "color": "white"
             }
            },
            "header": {
             "fill": {
              "color": "#C8D4E3"
             },
             "line": {
              "color": "white"
             }
            },
            "type": "table"
           }
          ]
         },
         "layout": {
          "annotationdefaults": {
           "arrowcolor": "#2a3f5f",
           "arrowhead": 0,
           "arrowwidth": 1
          },
          "coloraxis": {
           "colorbar": {
            "outlinewidth": 0,
            "ticks": ""
           }
          },
          "colorscale": {
           "diverging": [
            [
             0,
             "#8e0152"
            ],
            [
             0.1,
             "#c51b7d"
            ],
            [
             0.2,
             "#de77ae"
            ],
            [
             0.3,
             "#f1b6da"
            ],
            [
             0.4,
             "#fde0ef"
            ],
            [
             0.5,
             "#f7f7f7"
            ],
            [
             0.6,
             "#e6f5d0"
            ],
            [
             0.7,
             "#b8e186"
            ],
            [
             0.8,
             "#7fbc41"
            ],
            [
             0.9,
             "#4d9221"
            ],
            [
             1,
             "#276419"
            ]
           ],
           "sequential": [
            [
             0,
             "#0d0887"
            ],
            [
             0.1111111111111111,
             "#46039f"
            ],
            [
             0.2222222222222222,
             "#7201a8"
            ],
            [
             0.3333333333333333,
             "#9c179e"
            ],
            [
             0.4444444444444444,
             "#bd3786"
            ],
            [
             0.5555555555555556,
             "#d8576b"
            ],
            [
             0.6666666666666666,
             "#ed7953"
            ],
            [
             0.7777777777777778,
             "#fb9f3a"
            ],
            [
             0.8888888888888888,
             "#fdca26"
            ],
            [
             1,
             "#f0f921"
            ]
           ],
           "sequentialminus": [
            [
             0,
             "#0d0887"
            ],
            [
             0.1111111111111111,
             "#46039f"
            ],
            [
             0.2222222222222222,
             "#7201a8"
            ],
            [
             0.3333333333333333,
             "#9c179e"
            ],
            [
             0.4444444444444444,
             "#bd3786"
            ],
            [
             0.5555555555555556,
             "#d8576b"
            ],
            [
             0.6666666666666666,
             "#ed7953"
            ],
            [
             0.7777777777777778,
             "#fb9f3a"
            ],
            [
             0.8888888888888888,
             "#fdca26"
            ],
            [
             1,
             "#f0f921"
            ]
           ]
          },
          "colorway": [
           "#636efa",
           "#EF553B",
           "#00cc96",
           "#ab63fa",
           "#FFA15A",
           "#19d3f3",
           "#FF6692",
           "#B6E880",
           "#FF97FF",
           "#FECB52"
          ],
          "font": {
           "color": "#2a3f5f"
          },
          "geo": {
           "bgcolor": "white",
           "lakecolor": "white",
           "landcolor": "#E5ECF6",
           "showlakes": true,
           "showland": true,
           "subunitcolor": "white"
          },
          "hoverlabel": {
           "align": "left"
          },
          "hovermode": "closest",
          "mapbox": {
           "style": "light"
          },
          "paper_bgcolor": "white",
          "plot_bgcolor": "#E5ECF6",
          "polar": {
           "angularaxis": {
            "gridcolor": "white",
            "linecolor": "white",
            "ticks": ""
           },
           "bgcolor": "#E5ECF6",
           "radialaxis": {
            "gridcolor": "white",
            "linecolor": "white",
            "ticks": ""
           }
          },
          "scene": {
           "xaxis": {
            "backgroundcolor": "#E5ECF6",
            "gridcolor": "white",
            "gridwidth": 2,
            "linecolor": "white",
            "showbackground": true,
            "ticks": "",
            "zerolinecolor": "white"
           },
           "yaxis": {
            "backgroundcolor": "#E5ECF6",
            "gridcolor": "white",
            "gridwidth": 2,
            "linecolor": "white",
            "showbackground": true,
            "ticks": "",
            "zerolinecolor": "white"
           },
           "zaxis": {
            "backgroundcolor": "#E5ECF6",
            "gridcolor": "white",
            "gridwidth": 2,
            "linecolor": "white",
            "showbackground": true,
            "ticks": "",
            "zerolinecolor": "white"
           }
          },
          "shapedefaults": {
           "line": {
            "color": "#2a3f5f"
           }
          },
          "ternary": {
           "aaxis": {
            "gridcolor": "white",
            "linecolor": "white",
            "ticks": ""
           },
           "baxis": {
            "gridcolor": "white",
            "linecolor": "white",
            "ticks": ""
           },
           "bgcolor": "#E5ECF6",
           "caxis": {
            "gridcolor": "white",
            "linecolor": "white",
            "ticks": ""
           }
          },
          "title": {
           "x": 0.05
          },
          "xaxis": {
           "automargin": true,
           "gridcolor": "white",
           "linecolor": "white",
           "ticks": "",
           "title": {
            "standoff": 15
           },
           "zerolinecolor": "white",
           "zerolinewidth": 2
          },
          "yaxis": {
           "automargin": true,
           "gridcolor": "white",
           "linecolor": "white",
           "ticks": "",
           "title": {
            "standoff": 15
           },
           "zerolinecolor": "white",
           "zerolinewidth": 2
          }
         }
        },
        "title": {
         "font": {
          "color": "#4D5663"
         }
        },
        "xaxis": {
         "gridcolor": "#E1E5ED",
         "showgrid": true,
         "tickfont": {
          "color": "#4D5663"
         },
         "title": {
          "font": {
           "color": "#4D5663"
          },
          "text": ""
         },
         "zerolinecolor": "#E1E5ED"
        },
        "yaxis": {
         "gridcolor": "#E1E5ED",
         "showgrid": true,
         "tickfont": {
          "color": "#4D5663"
         },
         "title": {
          "font": {
           "color": "#4D5663"
          },
          "text": ""
         },
         "zerolinecolor": "#E1E5ED"
        }
       }
      },
      "text/html": [
       "<div>\n",
       "        \n",
       "        \n",
       "            <div id=\"16df0946-5c4a-4c70-91e5-a249481fc73f\" class=\"plotly-graph-div\" style=\"height:525px; width:100%;\"></div>\n",
       "            <script type=\"text/javascript\">\n",
       "                require([\"plotly\"], function(Plotly) {\n",
       "                    window.PLOTLYENV=window.PLOTLYENV || {};\n",
       "                    window.PLOTLYENV.BASE_URL='https://plot.ly';\n",
       "                    \n",
       "                if (document.getElementById(\"16df0946-5c4a-4c70-91e5-a249481fc73f\")) {\n",
       "                    Plotly.newPlot(\n",
       "                        '16df0946-5c4a-4c70-91e5-a249481fc73f',\n",
       "                        [{\"marker\": {\"color\": [\"antiquewhite\", \"antiquewhite\", \"antiquewhite\", \"antiquewhite\", \"antiquewhite\", \"antiquewhite\", \"antiquewhite\", \"antiquewhite\", \"antiquewhite\", \"antiquewhite\", \"antiquewhite\", \"antiquewhite\", \"antiquewhite\", \"antiquewhite\", \"antiquewhite\", \"antiquewhite\", \"antiquewhite\", \"antiquewhite\", \"antiquewhite\", \"antiquewhite\", \"antiquewhite\", \"antiquewhite\", \"antiquewhite\", \"antiquewhite\", \"antiquewhite\", \"antiquewhite\", \"antiquewhite\", \"antiquewhite\", \"antiquewhite\", \"antiquewhite\", \"antiquewhite\", \"antiquewhite\", \"antiquewhite\", \"antiquewhite\", \"antiquewhite\", \"antiquewhite\", \"antiquewhite\", \"antiquewhite\", \"antiquewhite\", \"antiquewhite\", \"antiquewhite\", \"antiquewhite\", \"antiquewhite\", \"antiquewhite\", \"antiquewhite\", \"antiquewhite\", \"antiquewhite\", \"antiquewhite\", \"antiquewhite\", \"antiquewhite\", \"antiquewhite\", \"antiquewhite\", \"antiquewhite\", \"antiquewhite\", \"antiquewhite\", \"antiquewhite\", \"antiquewhite\", \"antiquewhite\", \"antiquewhite\", \"antiquewhite\", \"antiquewhite\", \"antiquewhite\", \"antiquewhite\", \"antiquewhite\", \"antiquewhite\", \"antiquewhite\", \"antiquewhite\", \"antiquewhite\", \"antiquewhite\", \"antiquewhite\", \"antiquewhite\", \"antiquewhite\", \"antiquewhite\", \"antiquewhite\", \"antiquewhite\", \"antiquewhite\", \"antiquewhite\", \"antiquewhite\", \"antiquewhite\", \"antiquewhite\", \"antiquewhite\", \"antiquewhite\", \"antiquewhite\", \"antiquewhite\", \"antiquewhite\", \"antiquewhite\", \"antiquewhite\", \"antiquewhite\", \"antiquewhite\", \"antiquewhite\", \"antiquewhite\", \"antiquewhite\", \"antiquewhite\", \"antiquewhite\", \"antiquewhite\", \"antiquewhite\", \"antiquewhite\", \"antiquewhite\", \"antiquewhite\", \"antiquewhite\"], \"line\": {\"width\": 1.3}, \"size\": [68, 30, 77, 107, 90, 74, 42, 69, 40, 62, 53, 81, 63, 33, 40, 33, 42, 55, 95, 112, 44, 21, 27, 59, 71, 63, 43, 103, 78, 89, 39, 67, 36, 85, 71, 85, 48, 68, 64, 61, 75, 73, 82, 94, 64, 63, 52, 66, 63, 66, 50, 76, 79, 76, 89, 52, 53, 63, 68, 70, 60, 89, 79, 59, 77, 65, 34, 52, 44, 55, 77, 44, 75, 90, 98, 72, 68, 81, 70, 83, 62, 62, 83, 45, 88, 17, 91, 61, 24, 44, 62, 71, 53, 91, 12, 49, 56, 55, 77, 76], \"symbol\": \"circle\"}, \"mode\": \"markers\", \"text\": \"\", \"type\": \"scatter\", \"x\": [-2.2330045307590853, -0.9521908995974245, 0.27846606978193117, -0.7497430396641565, -0.8956342510414951, -0.2701922755157396, 0.13378854729598888, -0.10139493386630462, 2.4089945148153924, 2.2798960353709634, 1.536776871530047, -0.4738067773638204, 0.3895763004483561, -0.44813497414482384, -0.04272139930867001, 1.8607472786609707, -0.6439882932495113, 1.2582962916443727, -1.204805217634797, -0.1429158275301282, 1.1677493616360861, -2.6530884634429985, -0.9403827018208064, 0.1496396817935744, 0.04470276113270573, -0.7319557334866961, 0.5233737734533389, -0.4409303064263165, -0.5833238720623664, 0.25649916497690095, -0.30081158546772635, 0.07975881141571715, -2.090321583607134, -0.8712175959679449, -0.6931394651239492, -0.8218402617535678, 1.4418250131499333, 0.3751607269805806, 1.2314240010401805, 0.4199928878005679, -0.1554548985369435, 1.8868088114432202, -0.694422411044866, 1.1436083825779144, 0.7624519963607965, -0.2482247596359065, 1.4414688130029367, 0.22035610962969224, 0.2950496995083218, -0.0002316334366230875, 1.2896860527248302, 1.1265104298484678, -0.0036286696037859285, -0.826340568102362, -1.018582405591517, -1.291063854400129, -0.19008683392694992, -0.763872927674939, 2.0959738808836414, 2.130647594088596, 2.224539281704161, 1.1940475375397548, -0.7876803121312159, 0.969667697580649, 0.9493233327045774, -0.044403311331418185, 0.3895596700750885, -0.014452893562845948, -0.6968071801779312, 0.1614108555208764, -0.12276024863235002, -0.8370581648026316, -0.24705922180806691, -0.10403134026483714, -1.4284743931846275, 0.3535476401056677, -0.10544217505192499, 1.6963828925675466, 0.5915873562228502, 0.9907707442218054, 0.7428977212707456, -0.07200887621832967, 0.00017457906821124856, 0.013110631310684354, 1.9240017540561096, -0.4264462466703405, 0.16219704052654055, 0.4697559969879681, 1.0060845122288846, 0.7676496704361507, -0.9161171095812846, -1.624314104246879, -0.9527835783780093, -0.17739704862730749, 1.0650077734242744, 0.43385923873565196, 1.6979048817374556, -1.853810177762625, 0.9776180877321272, -0.8272963834606755], \"y\": [-0.9234838055280741, 0.1837906133650663, 0.9549006334057075, -0.8172743696437627, 0.3174431081329297, 0.21808918953745687, 0.6815729465243698, -0.262815565993623, 0.0013540987106652831, -0.27062784691556646, -0.8728212153054438, -0.6131662144165188, 0.8217767277509427, -0.37803366564505864, -0.38120900740011365, 0.615824227870488, -0.3479271621381179, -0.14022948149868633, 0.4715134428149978, -1.3875270322229551, 2.291695981953175, -0.4233067765902022, -0.4010460654069656, 1.4953409235326716, 0.055794820889501835, 1.1085643506927436, -0.34084079925276806, -0.04448454401577478, -0.7068197188417409, -0.28196538329893095, 0.35645508606988024, -1.9319911284139681, 0.30676889430031434, 1.0195069345873582, 0.5815106975487212, 0.6675437405444582, -1.451462224194573, 1.7537992807886817, -0.5223131305426536, -2.0899011210520055, -1.1868763568302543, -1.654932061201535, -1.6874933947593838, -1.2156525913674665, 1.6794846829271606, 0.7092856518073, 0.6629875673201554, -0.6411635757117996, -1.1881576800789335, -1.160918932012118, -0.014452385012939719, -0.8158088796870766, -1.112112811778674, -0.4134909737727676, 0.7679354852691683, -0.5288693699646896, 0.966238933639739, 0.5428284262688382, -0.8993016610838763, 1.9686623433577968, -1.1099790369124423, -0.7148053007009889, -0.05035305723891644, -0.2825442564032258, 0.6220386837974622, -0.02607398992073639, -0.12904032210431582, -0.4462530044659881, 1.0919323927621174, -0.2838491101268597, 0.8898082348209791, -0.05344663510556132, 0.6764322455699061, 2.110521685528398, -0.9540742926640376, -0.0709709220358443, -0.05552091480298457, 0.49519307651171957, -0.47214686334867095, -0.43038367094404784, -0.5262311656239208, 0.41668007402483337, -0.46314704835682, 1.1978416309836064, 0.06945342626551727, 0.2852068613579216, -0.9260930337101595, -1.299229452656461, -0.01752394800048146, 1.333737866854547, -1.0027996183786698, 1.3712373857073232, -1.3929633493161442, -2.003173109247321, -0.5638422495748624, -0.08713154635704083, 0.7826639766427661, 1.6599223202958147, 1.8225331731889711, -0.3637271366130778]}],\n",
       "                        {\"legend\": {\"bgcolor\": \"#F5F6F9\", \"font\": {\"color\": \"#4D5663\"}}, \"paper_bgcolor\": \"#F5F6F9\", \"plot_bgcolor\": \"#F5F6F9\", \"template\": {\"data\": {\"bar\": [{\"error_x\": {\"color\": \"#2a3f5f\"}, \"error_y\": {\"color\": \"#2a3f5f\"}, \"marker\": {\"line\": {\"color\": \"#E5ECF6\", \"width\": 0.5}}, \"type\": \"bar\"}], \"barpolar\": [{\"marker\": {\"line\": {\"color\": \"#E5ECF6\", \"width\": 0.5}}, \"type\": \"barpolar\"}], \"carpet\": [{\"aaxis\": {\"endlinecolor\": \"#2a3f5f\", \"gridcolor\": \"white\", \"linecolor\": \"white\", \"minorgridcolor\": \"white\", \"startlinecolor\": \"#2a3f5f\"}, \"baxis\": {\"endlinecolor\": \"#2a3f5f\", \"gridcolor\": \"white\", \"linecolor\": \"white\", \"minorgridcolor\": \"white\", \"startlinecolor\": \"#2a3f5f\"}, \"type\": \"carpet\"}], \"choropleth\": [{\"colorbar\": {\"outlinewidth\": 0, \"ticks\": \"\"}, \"type\": \"choropleth\"}], \"contour\": [{\"colorbar\": {\"outlinewidth\": 0, \"ticks\": \"\"}, \"colorscale\": [[0.0, \"#0d0887\"], [0.1111111111111111, \"#46039f\"], [0.2222222222222222, \"#7201a8\"], [0.3333333333333333, \"#9c179e\"], [0.4444444444444444, \"#bd3786\"], [0.5555555555555556, \"#d8576b\"], [0.6666666666666666, \"#ed7953\"], [0.7777777777777778, \"#fb9f3a\"], [0.8888888888888888, \"#fdca26\"], [1.0, \"#f0f921\"]], \"type\": \"contour\"}], \"contourcarpet\": [{\"colorbar\": {\"outlinewidth\": 0, \"ticks\": \"\"}, \"type\": \"contourcarpet\"}], \"heatmap\": [{\"colorbar\": {\"outlinewidth\": 0, \"ticks\": \"\"}, \"colorscale\": [[0.0, \"#0d0887\"], [0.1111111111111111, \"#46039f\"], [0.2222222222222222, \"#7201a8\"], [0.3333333333333333, \"#9c179e\"], [0.4444444444444444, \"#bd3786\"], [0.5555555555555556, \"#d8576b\"], [0.6666666666666666, \"#ed7953\"], [0.7777777777777778, \"#fb9f3a\"], [0.8888888888888888, \"#fdca26\"], [1.0, \"#f0f921\"]], \"type\": \"heatmap\"}], \"heatmapgl\": [{\"colorbar\": {\"outlinewidth\": 0, \"ticks\": \"\"}, \"colorscale\": [[0.0, \"#0d0887\"], [0.1111111111111111, \"#46039f\"], [0.2222222222222222, \"#7201a8\"], [0.3333333333333333, \"#9c179e\"], [0.4444444444444444, \"#bd3786\"], [0.5555555555555556, \"#d8576b\"], [0.6666666666666666, \"#ed7953\"], [0.7777777777777778, \"#fb9f3a\"], [0.8888888888888888, \"#fdca26\"], [1.0, \"#f0f921\"]], \"type\": \"heatmapgl\"}], \"histogram\": [{\"marker\": {\"colorbar\": {\"outlinewidth\": 0, \"ticks\": \"\"}}, \"type\": \"histogram\"}], \"histogram2d\": [{\"colorbar\": {\"outlinewidth\": 0, \"ticks\": \"\"}, \"colorscale\": [[0.0, \"#0d0887\"], [0.1111111111111111, \"#46039f\"], [0.2222222222222222, \"#7201a8\"], [0.3333333333333333, \"#9c179e\"], [0.4444444444444444, \"#bd3786\"], [0.5555555555555556, \"#d8576b\"], [0.6666666666666666, \"#ed7953\"], [0.7777777777777778, \"#fb9f3a\"], [0.8888888888888888, \"#fdca26\"], [1.0, \"#f0f921\"]], \"type\": \"histogram2d\"}], \"histogram2dcontour\": [{\"colorbar\": {\"outlinewidth\": 0, \"ticks\": \"\"}, \"colorscale\": [[0.0, \"#0d0887\"], [0.1111111111111111, \"#46039f\"], [0.2222222222222222, \"#7201a8\"], [0.3333333333333333, \"#9c179e\"], [0.4444444444444444, \"#bd3786\"], [0.5555555555555556, \"#d8576b\"], [0.6666666666666666, \"#ed7953\"], [0.7777777777777778, \"#fb9f3a\"], [0.8888888888888888, \"#fdca26\"], [1.0, \"#f0f921\"]], \"type\": \"histogram2dcontour\"}], \"mesh3d\": [{\"colorbar\": {\"outlinewidth\": 0, \"ticks\": \"\"}, \"type\": \"mesh3d\"}], \"parcoords\": [{\"line\": {\"colorbar\": {\"outlinewidth\": 0, \"ticks\": \"\"}}, \"type\": \"parcoords\"}], \"pie\": [{\"automargin\": true, \"type\": \"pie\"}], \"scatter\": [{\"marker\": {\"colorbar\": {\"outlinewidth\": 0, \"ticks\": \"\"}}, \"type\": \"scatter\"}], \"scatter3d\": [{\"line\": {\"colorbar\": {\"outlinewidth\": 0, \"ticks\": \"\"}}, \"marker\": {\"colorbar\": {\"outlinewidth\": 0, \"ticks\": \"\"}}, \"type\": \"scatter3d\"}], \"scattercarpet\": [{\"marker\": {\"colorbar\": {\"outlinewidth\": 0, \"ticks\": \"\"}}, \"type\": \"scattercarpet\"}], \"scattergeo\": [{\"marker\": {\"colorbar\": {\"outlinewidth\": 0, \"ticks\": \"\"}}, \"type\": \"scattergeo\"}], \"scattergl\": [{\"marker\": {\"colorbar\": {\"outlinewidth\": 0, \"ticks\": \"\"}}, \"type\": \"scattergl\"}], \"scattermapbox\": [{\"marker\": {\"colorbar\": {\"outlinewidth\": 0, \"ticks\": \"\"}}, \"type\": \"scattermapbox\"}], \"scatterpolar\": [{\"marker\": {\"colorbar\": {\"outlinewidth\": 0, \"ticks\": \"\"}}, \"type\": \"scatterpolar\"}], \"scatterpolargl\": [{\"marker\": {\"colorbar\": {\"outlinewidth\": 0, \"ticks\": \"\"}}, \"type\": \"scatterpolargl\"}], \"scatterternary\": [{\"marker\": {\"colorbar\": {\"outlinewidth\": 0, \"ticks\": \"\"}}, \"type\": \"scatterternary\"}], \"surface\": [{\"colorbar\": {\"outlinewidth\": 0, \"ticks\": \"\"}, \"colorscale\": [[0.0, \"#0d0887\"], [0.1111111111111111, \"#46039f\"], [0.2222222222222222, \"#7201a8\"], [0.3333333333333333, \"#9c179e\"], [0.4444444444444444, \"#bd3786\"], [0.5555555555555556, \"#d8576b\"], [0.6666666666666666, \"#ed7953\"], [0.7777777777777778, \"#fb9f3a\"], [0.8888888888888888, \"#fdca26\"], [1.0, \"#f0f921\"]], \"type\": \"surface\"}], \"table\": [{\"cells\": {\"fill\": {\"color\": \"#EBF0F8\"}, \"line\": {\"color\": \"white\"}}, \"header\": {\"fill\": {\"color\": \"#C8D4E3\"}, \"line\": {\"color\": \"white\"}}, \"type\": \"table\"}]}, \"layout\": {\"annotationdefaults\": {\"arrowcolor\": \"#2a3f5f\", \"arrowhead\": 0, \"arrowwidth\": 1}, \"coloraxis\": {\"colorbar\": {\"outlinewidth\": 0, \"ticks\": \"\"}}, \"colorscale\": {\"diverging\": [[0, \"#8e0152\"], [0.1, \"#c51b7d\"], [0.2, \"#de77ae\"], [0.3, \"#f1b6da\"], [0.4, \"#fde0ef\"], [0.5, \"#f7f7f7\"], [0.6, \"#e6f5d0\"], [0.7, \"#b8e186\"], [0.8, \"#7fbc41\"], [0.9, \"#4d9221\"], [1, \"#276419\"]], \"sequential\": [[0.0, \"#0d0887\"], [0.1111111111111111, \"#46039f\"], [0.2222222222222222, \"#7201a8\"], [0.3333333333333333, \"#9c179e\"], [0.4444444444444444, \"#bd3786\"], [0.5555555555555556, \"#d8576b\"], [0.6666666666666666, \"#ed7953\"], [0.7777777777777778, \"#fb9f3a\"], [0.8888888888888888, \"#fdca26\"], [1.0, \"#f0f921\"]], \"sequentialminus\": [[0.0, \"#0d0887\"], [0.1111111111111111, \"#46039f\"], [0.2222222222222222, \"#7201a8\"], [0.3333333333333333, \"#9c179e\"], [0.4444444444444444, \"#bd3786\"], [0.5555555555555556, \"#d8576b\"], [0.6666666666666666, \"#ed7953\"], [0.7777777777777778, \"#fb9f3a\"], [0.8888888888888888, \"#fdca26\"], [1.0, \"#f0f921\"]]}, \"colorway\": [\"#636efa\", \"#EF553B\", \"#00cc96\", \"#ab63fa\", \"#FFA15A\", \"#19d3f3\", \"#FF6692\", \"#B6E880\", \"#FF97FF\", \"#FECB52\"], \"font\": {\"color\": \"#2a3f5f\"}, \"geo\": {\"bgcolor\": \"white\", \"lakecolor\": \"white\", \"landcolor\": \"#E5ECF6\", \"showlakes\": true, \"showland\": true, \"subunitcolor\": \"white\"}, \"hoverlabel\": {\"align\": \"left\"}, \"hovermode\": \"closest\", \"mapbox\": {\"style\": \"light\"}, \"paper_bgcolor\": \"white\", \"plot_bgcolor\": \"#E5ECF6\", \"polar\": {\"angularaxis\": {\"gridcolor\": \"white\", \"linecolor\": \"white\", \"ticks\": \"\"}, \"bgcolor\": \"#E5ECF6\", \"radialaxis\": {\"gridcolor\": \"white\", \"linecolor\": \"white\", \"ticks\": \"\"}}, \"scene\": {\"xaxis\": {\"backgroundcolor\": \"#E5ECF6\", \"gridcolor\": \"white\", \"gridwidth\": 2, \"linecolor\": \"white\", \"showbackground\": true, \"ticks\": \"\", \"zerolinecolor\": \"white\"}, \"yaxis\": {\"backgroundcolor\": \"#E5ECF6\", \"gridcolor\": \"white\", \"gridwidth\": 2, \"linecolor\": \"white\", \"showbackground\": true, \"ticks\": \"\", \"zerolinecolor\": \"white\"}, \"zaxis\": {\"backgroundcolor\": \"#E5ECF6\", \"gridcolor\": \"white\", \"gridwidth\": 2, \"linecolor\": \"white\", \"showbackground\": true, \"ticks\": \"\", \"zerolinecolor\": \"white\"}}, \"shapedefaults\": {\"line\": {\"color\": \"#2a3f5f\"}}, \"ternary\": {\"aaxis\": {\"gridcolor\": \"white\", \"linecolor\": \"white\", \"ticks\": \"\"}, \"baxis\": {\"gridcolor\": \"white\", \"linecolor\": \"white\", \"ticks\": \"\"}, \"bgcolor\": \"#E5ECF6\", \"caxis\": {\"gridcolor\": \"white\", \"linecolor\": \"white\", \"ticks\": \"\"}}, \"title\": {\"x\": 0.05}, \"xaxis\": {\"automargin\": true, \"gridcolor\": \"white\", \"linecolor\": \"white\", \"ticks\": \"\", \"title\": {\"standoff\": 15}, \"zerolinecolor\": \"white\", \"zerolinewidth\": 2}, \"yaxis\": {\"automargin\": true, \"gridcolor\": \"white\", \"linecolor\": \"white\", \"ticks\": \"\", \"title\": {\"standoff\": 15}, \"zerolinecolor\": \"white\", \"zerolinewidth\": 2}}}, \"title\": {\"font\": {\"color\": \"#4D5663\"}}, \"xaxis\": {\"gridcolor\": \"#E1E5ED\", \"showgrid\": true, \"tickfont\": {\"color\": \"#4D5663\"}, \"title\": {\"font\": {\"color\": \"#4D5663\"}, \"text\": \"\"}, \"zerolinecolor\": \"#E1E5ED\"}, \"yaxis\": {\"gridcolor\": \"#E1E5ED\", \"showgrid\": true, \"tickfont\": {\"color\": \"#4D5663\"}, \"title\": {\"font\": {\"color\": \"#4D5663\"}, \"text\": \"\"}, \"zerolinecolor\": \"#E1E5ED\"}},\n",
       "                        {\"showLink\": true, \"linkText\": \"Export to plot.ly\", \"plotlyServerURL\": \"https://plot.ly\", \"responsive\": true}\n",
       "                    ).then(function(){\n",
       "                            \n",
       "var gd = document.getElementById('16df0946-5c4a-4c70-91e5-a249481fc73f');\n",
       "var x = new MutationObserver(function (mutations, observer) {{\n",
       "        var display = window.getComputedStyle(gd).display;\n",
       "        if (!display || display === 'none') {{\n",
       "            console.log([gd, 'removed!']);\n",
       "            Plotly.purge(gd);\n",
       "            observer.disconnect();\n",
       "        }}\n",
       "}});\n",
       "\n",
       "// Listen for the removal of the full notebook cells\n",
       "var notebookContainer = gd.closest('#notebook-container');\n",
       "if (notebookContainer) {{\n",
       "    x.observe(notebookContainer, {childList: true});\n",
       "}}\n",
       "\n",
       "// Listen for the clearing of the current output cell\n",
       "var outputEl = gd.closest('.output');\n",
       "if (outputEl) {{\n",
       "    x.observe(outputEl, {childList: true});\n",
       "}}\n",
       "\n",
       "                        })\n",
       "                };\n",
       "                });\n",
       "            </script>\n",
       "        </div>"
      ]
     },
     "metadata": {},
     "output_type": "display_data"
    }
   ],
   "source": [
    "df.iplot(kind='bubble', x='A', y='B', size='C', colors='antiquewhite')"
   ]
  },
  {
   "cell_type": "markdown",
   "metadata": {},
   "source": [
    "**Scatter Matrix**"
   ]
  },
  {
   "cell_type": "markdown",
   "metadata": {},
   "source": [
    "- `Similar ao pairplot do Seaborn`\n",
    "-  `Se o dataframe for muito grande pode travar o seu notebook`"
   ]
  },
  {
   "cell_type": "code",
   "execution_count": 30,
   "metadata": {},
   "outputs": [
    {
     "data": {
      "application/vnd.plotly.v1+json": {
       "config": {
        "linkText": "Export to plot.ly",
        "plotlyServerURL": "https://plot.ly",
        "showLink": true
       },
       "data": [
        {
         "histfunc": "count",
         "histnorm": "",
         "marker": {
          "color": "rgba(255, 153, 51, 1.0)",
          "line": {
           "color": "#4D5663",
           "width": 1.3
          }
         },
         "name": "A",
         "nbinsx": 10,
         "opacity": 0.8,
         "orientation": "v",
         "type": "histogram",
         "x": [
          -2.2330045307590853,
          -0.9521908995974245,
          0.27846606978193117,
          -0.7497430396641565,
          -0.8956342510414951,
          -0.2701922755157396,
          0.13378854729598888,
          -0.10139493386630462,
          2.4089945148153924,
          2.2798960353709634,
          1.536776871530047,
          -0.4738067773638204,
          0.3895763004483561,
          -0.44813497414482384,
          -0.04272139930867001,
          1.8607472786609707,
          -0.6439882932495113,
          1.2582962916443727,
          -1.204805217634797,
          -0.1429158275301282,
          1.1677493616360861,
          -2.6530884634429985,
          -0.9403827018208064,
          0.1496396817935744,
          0.04470276113270573,
          -0.7319557334866961,
          0.5233737734533389,
          -0.4409303064263165,
          -0.5833238720623664,
          0.25649916497690095,
          -0.30081158546772635,
          0.07975881141571715,
          -2.090321583607134,
          -0.8712175959679449,
          -0.6931394651239492,
          -0.8218402617535678,
          1.4418250131499333,
          0.3751607269805806,
          1.2314240010401805,
          0.4199928878005679,
          -0.1554548985369435,
          1.8868088114432202,
          -0.694422411044866,
          1.1436083825779144,
          0.7624519963607965,
          -0.2482247596359065,
          1.4414688130029367,
          0.22035610962969224,
          0.2950496995083218,
          -0.0002316334366230875,
          1.2896860527248302,
          1.1265104298484678,
          -0.0036286696037859285,
          -0.826340568102362,
          -1.018582405591517,
          -1.291063854400129,
          -0.19008683392694992,
          -0.763872927674939,
          2.0959738808836414,
          2.130647594088596,
          2.224539281704161,
          1.1940475375397548,
          -0.7876803121312159,
          0.969667697580649,
          0.9493233327045774,
          -0.044403311331418185,
          0.3895596700750885,
          -0.014452893562845948,
          -0.6968071801779312,
          0.1614108555208764,
          -0.12276024863235002,
          -0.8370581648026316,
          -0.24705922180806691,
          -0.10403134026483714,
          -1.4284743931846275,
          0.3535476401056677,
          -0.10544217505192499,
          1.6963828925675466,
          0.5915873562228502,
          0.9907707442218054,
          0.7428977212707456,
          -0.07200887621832967,
          0.00017457906821124856,
          0.013110631310684354,
          1.9240017540561096,
          -0.4264462466703405,
          0.16219704052654055,
          0.4697559969879681,
          1.0060845122288846,
          0.7676496704361507,
          -0.9161171095812846,
          -1.624314104246879,
          -0.9527835783780093,
          -0.17739704862730749,
          1.0650077734242744,
          0.43385923873565196,
          1.6979048817374556,
          -1.853810177762625,
          0.9776180877321272,
          -0.8272963834606755
         ],
         "xaxis": "x",
         "yaxis": "y"
        },
        {
         "line": {
          "color": "rgba(128, 128, 128, 1.0)",
          "dash": "solid",
          "shape": "linear",
          "width": 1.3
         },
         "marker": {
          "size": 2,
          "symbol": "circle"
         },
         "mode": "markers",
         "name": "A",
         "text": "",
         "type": "scatter",
         "x": [
          -0.9234838055280741,
          0.1837906133650663,
          0.9549006334057075,
          -0.8172743696437627,
          0.3174431081329297,
          0.21808918953745687,
          0.6815729465243698,
          -0.262815565993623,
          0.0013540987106652831,
          -0.27062784691556646,
          -0.8728212153054438,
          -0.6131662144165188,
          0.8217767277509427,
          -0.37803366564505864,
          -0.38120900740011365,
          0.615824227870488,
          -0.3479271621381179,
          -0.14022948149868633,
          0.4715134428149978,
          -1.3875270322229551,
          2.291695981953175,
          -0.4233067765902022,
          -0.4010460654069656,
          1.4953409235326716,
          0.055794820889501835,
          1.1085643506927436,
          -0.34084079925276806,
          -0.04448454401577478,
          -0.7068197188417409,
          -0.28196538329893095,
          0.35645508606988024,
          -1.9319911284139681,
          0.30676889430031434,
          1.0195069345873582,
          0.5815106975487212,
          0.6675437405444582,
          -1.451462224194573,
          1.7537992807886817,
          -0.5223131305426536,
          -2.0899011210520055,
          -1.1868763568302543,
          -1.654932061201535,
          -1.6874933947593838,
          -1.2156525913674665,
          1.6794846829271606,
          0.7092856518073,
          0.6629875673201554,
          -0.6411635757117996,
          -1.1881576800789335,
          -1.160918932012118,
          -0.014452385012939719,
          -0.8158088796870766,
          -1.112112811778674,
          -0.4134909737727676,
          0.7679354852691683,
          -0.5288693699646896,
          0.966238933639739,
          0.5428284262688382,
          -0.8993016610838763,
          1.9686623433577968,
          -1.1099790369124423,
          -0.7148053007009889,
          -0.05035305723891644,
          -0.2825442564032258,
          0.6220386837974622,
          -0.02607398992073639,
          -0.12904032210431582,
          -0.4462530044659881,
          1.0919323927621174,
          -0.2838491101268597,
          0.8898082348209791,
          -0.05344663510556132,
          0.6764322455699061,
          2.110521685528398,
          -0.9540742926640376,
          -0.0709709220358443,
          -0.05552091480298457,
          0.49519307651171957,
          -0.47214686334867095,
          -0.43038367094404784,
          -0.5262311656239208,
          0.41668007402483337,
          -0.46314704835682,
          1.1978416309836064,
          0.06945342626551727,
          0.2852068613579216,
          -0.9260930337101595,
          -1.299229452656461,
          -0.01752394800048146,
          1.333737866854547,
          -1.0027996183786698,
          1.3712373857073232,
          -1.3929633493161442,
          -2.003173109247321,
          -0.5638422495748624,
          -0.08713154635704083,
          0.7826639766427661,
          1.6599223202958147,
          1.8225331731889711,
          -0.3637271366130778
         ],
         "xaxis": "x2",
         "y": [
          -2.2330045307590853,
          -0.9521908995974245,
          0.27846606978193117,
          -0.7497430396641565,
          -0.8956342510414951,
          -0.2701922755157396,
          0.13378854729598888,
          -0.10139493386630462,
          2.4089945148153924,
          2.2798960353709634,
          1.536776871530047,
          -0.4738067773638204,
          0.3895763004483561,
          -0.44813497414482384,
          -0.04272139930867001,
          1.8607472786609707,
          -0.6439882932495113,
          1.2582962916443727,
          -1.204805217634797,
          -0.1429158275301282,
          1.1677493616360861,
          -2.6530884634429985,
          -0.9403827018208064,
          0.1496396817935744,
          0.04470276113270573,
          -0.7319557334866961,
          0.5233737734533389,
          -0.4409303064263165,
          -0.5833238720623664,
          0.25649916497690095,
          -0.30081158546772635,
          0.07975881141571715,
          -2.090321583607134,
          -0.8712175959679449,
          -0.6931394651239492,
          -0.8218402617535678,
          1.4418250131499333,
          0.3751607269805806,
          1.2314240010401805,
          0.4199928878005679,
          -0.1554548985369435,
          1.8868088114432202,
          -0.694422411044866,
          1.1436083825779144,
          0.7624519963607965,
          -0.2482247596359065,
          1.4414688130029367,
          0.22035610962969224,
          0.2950496995083218,
          -0.0002316334366230875,
          1.2896860527248302,
          1.1265104298484678,
          -0.0036286696037859285,
          -0.826340568102362,
          -1.018582405591517,
          -1.291063854400129,
          -0.19008683392694992,
          -0.763872927674939,
          2.0959738808836414,
          2.130647594088596,
          2.224539281704161,
          1.1940475375397548,
          -0.7876803121312159,
          0.969667697580649,
          0.9493233327045774,
          -0.044403311331418185,
          0.3895596700750885,
          -0.014452893562845948,
          -0.6968071801779312,
          0.1614108555208764,
          -0.12276024863235002,
          -0.8370581648026316,
          -0.24705922180806691,
          -0.10403134026483714,
          -1.4284743931846275,
          0.3535476401056677,
          -0.10544217505192499,
          1.6963828925675466,
          0.5915873562228502,
          0.9907707442218054,
          0.7428977212707456,
          -0.07200887621832967,
          0.00017457906821124856,
          0.013110631310684354,
          1.9240017540561096,
          -0.4264462466703405,
          0.16219704052654055,
          0.4697559969879681,
          1.0060845122288846,
          0.7676496704361507,
          -0.9161171095812846,
          -1.624314104246879,
          -0.9527835783780093,
          -0.17739704862730749,
          1.0650077734242744,
          0.43385923873565196,
          1.6979048817374556,
          -1.853810177762625,
          0.9776180877321272,
          -0.8272963834606755
         ],
         "yaxis": "y2"
        },
        {
         "line": {
          "color": "rgba(128, 128, 128, 1.0)",
          "dash": "solid",
          "shape": "linear",
          "width": 1.3
         },
         "marker": {
          "size": 2,
          "symbol": "circle"
         },
         "mode": "markers",
         "name": "A",
         "text": "",
         "type": "scatter",
         "x": [
          0.2755716670365263,
          -1.4107567274282897,
          0.6541175742867782,
          1.9674690515547126,
          1.256596339268459,
          0.523856596662497,
          -0.8969265311525533,
          0.3244140138558535,
          -0.9950241003805131,
          0.010323270077411526,
          -0.4081624657415359,
          0.856972738882899,
          0.04068662059895318,
          -1.2944868481985685,
          -0.9619587879235344,
          -1.2789542109730379,
          -0.9026009083226586,
          -0.30943964771853477,
          1.4669276807914478,
          2.1886965346332614,
          -0.7853005063471961,
          -1.7956697006953894,
          -1.561114867168884,
          -0.14455531064454316,
          0.4097967940659489,
          0.027689805529984155,
          -0.8497038505348563,
          1.8046874328359785,
          0.7071894503644003,
          1.213741530303425,
          -1.0343725538212367,
          0.22659112518910376,
          -1.1486822151076266,
          0.9966989811826483,
          0.4142349713487508,
          1.0253873908752684,
          -0.6344711510801252,
          0.2736544613480108,
          0.10304790113170942,
          -0.03298524733362019,
          0.5935028001089265,
          0.4838846773154546,
          0.8732381580494233,
          1.4128524795674415,
          0.08490496568549535,
          0.050290802392600024,
          -0.46573622578532187,
          0.18929328771708429,
          0.022354739248472047,
          0.18032179012293742,
          -0.5383926430861103,
          0.6349278683681299,
          0.7460618503587655,
          0.6143492711346112,
          1.1800052422773377,
          -0.4317198762713371,
          -0.39825819636098175,
          0.020492888094452415,
          0.26054148974539326,
          0.35542164302954893,
          -0.09632068069538566,
          1.1880737687482943,
          0.7622480573510461,
          -0.12954313804362508,
          0.6448810312697735,
          0.14237852278024538,
          -1.254266568431477,
          -0.4390979624690971,
          -0.7899958009345055,
          -0.30993485012088473,
          0.6722028469700168,
          -0.7823208404463984,
          0.5862555713819035,
          1.2177004118684112,
          1.587168629736668,
          0.43377784098629774,
          0.2796177411902997,
          0.8470418963750924,
          0.3360985288016682,
          0.9208215794336971,
          0.002407301316962099,
          0.00458636300942406,
          0.9329535515195241,
          -0.7517379185041624,
          1.1400847378001369,
          -1.9844115112198117,
          1.268566939128557,
          -0.0334254762745057,
          -1.6953738158116232,
          -0.8040408315832263,
          0.016360777148160116,
          0.41731413370847836,
          -0.38523140506373255,
          1.2970812498450508,
          -2.236660366102504,
          -0.5882604503630262,
          -0.2731599067897886,
          -0.29682518018130133,
          0.6461631547594263,
          0.60302821358222
         ],
         "xaxis": "x3",
         "y": [
          -2.2330045307590853,
          -0.9521908995974245,
          0.27846606978193117,
          -0.7497430396641565,
          -0.8956342510414951,
          -0.2701922755157396,
          0.13378854729598888,
          -0.10139493386630462,
          2.4089945148153924,
          2.2798960353709634,
          1.536776871530047,
          -0.4738067773638204,
          0.3895763004483561,
          -0.44813497414482384,
          -0.04272139930867001,
          1.8607472786609707,
          -0.6439882932495113,
          1.2582962916443727,
          -1.204805217634797,
          -0.1429158275301282,
          1.1677493616360861,
          -2.6530884634429985,
          -0.9403827018208064,
          0.1496396817935744,
          0.04470276113270573,
          -0.7319557334866961,
          0.5233737734533389,
          -0.4409303064263165,
          -0.5833238720623664,
          0.25649916497690095,
          -0.30081158546772635,
          0.07975881141571715,
          -2.090321583607134,
          -0.8712175959679449,
          -0.6931394651239492,
          -0.8218402617535678,
          1.4418250131499333,
          0.3751607269805806,
          1.2314240010401805,
          0.4199928878005679,
          -0.1554548985369435,
          1.8868088114432202,
          -0.694422411044866,
          1.1436083825779144,
          0.7624519963607965,
          -0.2482247596359065,
          1.4414688130029367,
          0.22035610962969224,
          0.2950496995083218,
          -0.0002316334366230875,
          1.2896860527248302,
          1.1265104298484678,
          -0.0036286696037859285,
          -0.826340568102362,
          -1.018582405591517,
          -1.291063854400129,
          -0.19008683392694992,
          -0.763872927674939,
          2.0959738808836414,
          2.130647594088596,
          2.224539281704161,
          1.1940475375397548,
          -0.7876803121312159,
          0.969667697580649,
          0.9493233327045774,
          -0.044403311331418185,
          0.3895596700750885,
          -0.014452893562845948,
          -0.6968071801779312,
          0.1614108555208764,
          -0.12276024863235002,
          -0.8370581648026316,
          -0.24705922180806691,
          -0.10403134026483714,
          -1.4284743931846275,
          0.3535476401056677,
          -0.10544217505192499,
          1.6963828925675466,
          0.5915873562228502,
          0.9907707442218054,
          0.7428977212707456,
          -0.07200887621832967,
          0.00017457906821124856,
          0.013110631310684354,
          1.9240017540561096,
          -0.4264462466703405,
          0.16219704052654055,
          0.4697559969879681,
          1.0060845122288846,
          0.7676496704361507,
          -0.9161171095812846,
          -1.624314104246879,
          -0.9527835783780093,
          -0.17739704862730749,
          1.0650077734242744,
          0.43385923873565196,
          1.6979048817374556,
          -1.853810177762625,
          0.9776180877321272,
          -0.8272963834606755
         ],
         "yaxis": "y3"
        },
        {
         "line": {
          "color": "rgba(128, 128, 128, 1.0)",
          "dash": "solid",
          "shape": "linear",
          "width": 1.3
         },
         "marker": {
          "size": 2,
          "symbol": "circle"
         },
         "mode": "markers",
         "name": "A",
         "text": "",
         "type": "scatter",
         "x": [
          0.3643930281255974,
          0.15026292366620095,
          1.2187222278603946,
          -0.8659906012809404,
          0.6004784913268533,
          -1.0589820545230748,
          -1.5683314423426904,
          -1.6539365309773515,
          0.12136885230734451,
          1.769195740544522,
          -0.34786923195499164,
          -0.5611026339790515,
          1.884395043792925,
          0.10554293170215406,
          -0.6971983382812603,
          0.7833018925568376,
          -2.300638357051978,
          -1.3172806218596724,
          -0.04373228510009631,
          -1.2671251518663433,
          1.3682141073747136,
          0.1758901613320038,
          0.4131184697361528,
          -0.13307235755723854,
          -0.09343541524988579,
          -0.23793992896567595,
          0.37511476141478445,
          1.5348806704194566,
          -0.9690143836986986,
          -0.4361298995213377,
          0.11884415029697731,
          0.7053708211848962,
          -1.170756619547385,
          0.12391062586154639,
          -1.775733651033394,
          -1.7025147144806678,
          0.24120216357934682,
          -0.05909560823662816,
          0.6990921904976213,
          -1.2551961134773182,
          -0.190020144313903,
          -1.2001001024950408,
          0.6274370541851635,
          0.5015803990467228,
          1.7377383170505403,
          0.7669569890905374,
          -0.591194403818167,
          -1.184929573922818,
          -0.09713963731436984,
          2.2273843627971575,
          -1.2140642939832837,
          -0.726190654922945,
          0.21963148157113957,
          -0.2669805745888528,
          -0.767942069013212,
          -0.1521855580871152,
          -0.3904159798584094,
          1.2739452686099946,
          0.36218314088967013,
          0.11030818464201156,
          1.9268791207613563,
          0.5487869697256245,
          -0.9762768663466627,
          1.3932777236238698,
          0.7258730775669255,
          -1.94063820760366,
          -0.5616258682969569,
          -1.045963556303688,
          -0.046928354294379034,
          -0.6985230840516604,
          -0.09137824514435089,
          0.11975928366817555,
          0.5719600766112413,
          -0.5602018420934456,
          -1.3733210357679502,
          0.930729614688202,
          -1.2865839708266649,
          0.24263820697068555,
          -0.6503235979872184,
          0.9780605553222481,
          0.2058777005882192,
          -0.08601947943729862,
          0.4341754032068352,
          -0.836596194783516,
          -0.5578839609069209,
          -0.5134003010550453,
          0.2902632694148725,
          -2.69040970394117,
          0.9976251276467392,
          1.5258496506679962,
          -0.09914102682089235,
          -1.2196458165465838,
          1.8644668321972602,
          1.0079481290352872,
          -0.4500239322508063,
          0.8962399016639363,
          -0.37922022639110614,
          0.2181399664309546,
          -0.12843420402850228,
          2.1360706839894226
         ],
         "xaxis": "x4",
         "y": [
          -2.2330045307590853,
          -0.9521908995974245,
          0.27846606978193117,
          -0.7497430396641565,
          -0.8956342510414951,
          -0.2701922755157396,
          0.13378854729598888,
          -0.10139493386630462,
          2.4089945148153924,
          2.2798960353709634,
          1.536776871530047,
          -0.4738067773638204,
          0.3895763004483561,
          -0.44813497414482384,
          -0.04272139930867001,
          1.8607472786609707,
          -0.6439882932495113,
          1.2582962916443727,
          -1.204805217634797,
          -0.1429158275301282,
          1.1677493616360861,
          -2.6530884634429985,
          -0.9403827018208064,
          0.1496396817935744,
          0.04470276113270573,
          -0.7319557334866961,
          0.5233737734533389,
          -0.4409303064263165,
          -0.5833238720623664,
          0.25649916497690095,
          -0.30081158546772635,
          0.07975881141571715,
          -2.090321583607134,
          -0.8712175959679449,
          -0.6931394651239492,
          -0.8218402617535678,
          1.4418250131499333,
          0.3751607269805806,
          1.2314240010401805,
          0.4199928878005679,
          -0.1554548985369435,
          1.8868088114432202,
          -0.694422411044866,
          1.1436083825779144,
          0.7624519963607965,
          -0.2482247596359065,
          1.4414688130029367,
          0.22035610962969224,
          0.2950496995083218,
          -0.0002316334366230875,
          1.2896860527248302,
          1.1265104298484678,
          -0.0036286696037859285,
          -0.826340568102362,
          -1.018582405591517,
          -1.291063854400129,
          -0.19008683392694992,
          -0.763872927674939,
          2.0959738808836414,
          2.130647594088596,
          2.224539281704161,
          1.1940475375397548,
          -0.7876803121312159,
          0.969667697580649,
          0.9493233327045774,
          -0.044403311331418185,
          0.3895596700750885,
          -0.014452893562845948,
          -0.6968071801779312,
          0.1614108555208764,
          -0.12276024863235002,
          -0.8370581648026316,
          -0.24705922180806691,
          -0.10403134026483714,
          -1.4284743931846275,
          0.3535476401056677,
          -0.10544217505192499,
          1.6963828925675466,
          0.5915873562228502,
          0.9907707442218054,
          0.7428977212707456,
          -0.07200887621832967,
          0.00017457906821124856,
          0.013110631310684354,
          1.9240017540561096,
          -0.4264462466703405,
          0.16219704052654055,
          0.4697559969879681,
          1.0060845122288846,
          0.7676496704361507,
          -0.9161171095812846,
          -1.624314104246879,
          -0.9527835783780093,
          -0.17739704862730749,
          1.0650077734242744,
          0.43385923873565196,
          1.6979048817374556,
          -1.853810177762625,
          0.9776180877321272,
          -0.8272963834606755
         ],
         "yaxis": "y4"
        },
        {
         "line": {
          "color": "rgba(128, 128, 128, 1.0)",
          "dash": "solid",
          "shape": "linear",
          "width": 1.3
         },
         "marker": {
          "size": 2,
          "symbol": "circle"
         },
         "mode": "markers",
         "name": "B",
         "text": "",
         "type": "scatter",
         "x": [
          -2.2330045307590853,
          -0.9521908995974245,
          0.27846606978193117,
          -0.7497430396641565,
          -0.8956342510414951,
          -0.2701922755157396,
          0.13378854729598888,
          -0.10139493386630462,
          2.4089945148153924,
          2.2798960353709634,
          1.536776871530047,
          -0.4738067773638204,
          0.3895763004483561,
          -0.44813497414482384,
          -0.04272139930867001,
          1.8607472786609707,
          -0.6439882932495113,
          1.2582962916443727,
          -1.204805217634797,
          -0.1429158275301282,
          1.1677493616360861,
          -2.6530884634429985,
          -0.9403827018208064,
          0.1496396817935744,
          0.04470276113270573,
          -0.7319557334866961,
          0.5233737734533389,
          -0.4409303064263165,
          -0.5833238720623664,
          0.25649916497690095,
          -0.30081158546772635,
          0.07975881141571715,
          -2.090321583607134,
          -0.8712175959679449,
          -0.6931394651239492,
          -0.8218402617535678,
          1.4418250131499333,
          0.3751607269805806,
          1.2314240010401805,
          0.4199928878005679,
          -0.1554548985369435,
          1.8868088114432202,
          -0.694422411044866,
          1.1436083825779144,
          0.7624519963607965,
          -0.2482247596359065,
          1.4414688130029367,
          0.22035610962969224,
          0.2950496995083218,
          -0.0002316334366230875,
          1.2896860527248302,
          1.1265104298484678,
          -0.0036286696037859285,
          -0.826340568102362,
          -1.018582405591517,
          -1.291063854400129,
          -0.19008683392694992,
          -0.763872927674939,
          2.0959738808836414,
          2.130647594088596,
          2.224539281704161,
          1.1940475375397548,
          -0.7876803121312159,
          0.969667697580649,
          0.9493233327045774,
          -0.044403311331418185,
          0.3895596700750885,
          -0.014452893562845948,
          -0.6968071801779312,
          0.1614108555208764,
          -0.12276024863235002,
          -0.8370581648026316,
          -0.24705922180806691,
          -0.10403134026483714,
          -1.4284743931846275,
          0.3535476401056677,
          -0.10544217505192499,
          1.6963828925675466,
          0.5915873562228502,
          0.9907707442218054,
          0.7428977212707456,
          -0.07200887621832967,
          0.00017457906821124856,
          0.013110631310684354,
          1.9240017540561096,
          -0.4264462466703405,
          0.16219704052654055,
          0.4697559969879681,
          1.0060845122288846,
          0.7676496704361507,
          -0.9161171095812846,
          -1.624314104246879,
          -0.9527835783780093,
          -0.17739704862730749,
          1.0650077734242744,
          0.43385923873565196,
          1.6979048817374556,
          -1.853810177762625,
          0.9776180877321272,
          -0.8272963834606755
         ],
         "xaxis": "x5",
         "y": [
          -0.9234838055280741,
          0.1837906133650663,
          0.9549006334057075,
          -0.8172743696437627,
          0.3174431081329297,
          0.21808918953745687,
          0.6815729465243698,
          -0.262815565993623,
          0.0013540987106652831,
          -0.27062784691556646,
          -0.8728212153054438,
          -0.6131662144165188,
          0.8217767277509427,
          -0.37803366564505864,
          -0.38120900740011365,
          0.615824227870488,
          -0.3479271621381179,
          -0.14022948149868633,
          0.4715134428149978,
          -1.3875270322229551,
          2.291695981953175,
          -0.4233067765902022,
          -0.4010460654069656,
          1.4953409235326716,
          0.055794820889501835,
          1.1085643506927436,
          -0.34084079925276806,
          -0.04448454401577478,
          -0.7068197188417409,
          -0.28196538329893095,
          0.35645508606988024,
          -1.9319911284139681,
          0.30676889430031434,
          1.0195069345873582,
          0.5815106975487212,
          0.6675437405444582,
          -1.451462224194573,
          1.7537992807886817,
          -0.5223131305426536,
          -2.0899011210520055,
          -1.1868763568302543,
          -1.654932061201535,
          -1.6874933947593838,
          -1.2156525913674665,
          1.6794846829271606,
          0.7092856518073,
          0.6629875673201554,
          -0.6411635757117996,
          -1.1881576800789335,
          -1.160918932012118,
          -0.014452385012939719,
          -0.8158088796870766,
          -1.112112811778674,
          -0.4134909737727676,
          0.7679354852691683,
          -0.5288693699646896,
          0.966238933639739,
          0.5428284262688382,
          -0.8993016610838763,
          1.9686623433577968,
          -1.1099790369124423,
          -0.7148053007009889,
          -0.05035305723891644,
          -0.2825442564032258,
          0.6220386837974622,
          -0.02607398992073639,
          -0.12904032210431582,
          -0.4462530044659881,
          1.0919323927621174,
          -0.2838491101268597,
          0.8898082348209791,
          -0.05344663510556132,
          0.6764322455699061,
          2.110521685528398,
          -0.9540742926640376,
          -0.0709709220358443,
          -0.05552091480298457,
          0.49519307651171957,
          -0.47214686334867095,
          -0.43038367094404784,
          -0.5262311656239208,
          0.41668007402483337,
          -0.46314704835682,
          1.1978416309836064,
          0.06945342626551727,
          0.2852068613579216,
          -0.9260930337101595,
          -1.299229452656461,
          -0.01752394800048146,
          1.333737866854547,
          -1.0027996183786698,
          1.3712373857073232,
          -1.3929633493161442,
          -2.003173109247321,
          -0.5638422495748624,
          -0.08713154635704083,
          0.7826639766427661,
          1.6599223202958147,
          1.8225331731889711,
          -0.3637271366130778
         ],
         "yaxis": "y5"
        },
        {
         "histfunc": "count",
         "histnorm": "",
         "marker": {
          "color": "rgba(55, 128, 191, 1.0)",
          "line": {
           "color": "#4D5663",
           "width": 1.3
          }
         },
         "name": "B",
         "nbinsx": 10,
         "opacity": 0.8,
         "orientation": "v",
         "type": "histogram",
         "x": [
          -0.9234838055280741,
          0.1837906133650663,
          0.9549006334057075,
          -0.8172743696437627,
          0.3174431081329297,
          0.21808918953745687,
          0.6815729465243698,
          -0.262815565993623,
          0.0013540987106652831,
          -0.27062784691556646,
          -0.8728212153054438,
          -0.6131662144165188,
          0.8217767277509427,
          -0.37803366564505864,
          -0.38120900740011365,
          0.615824227870488,
          -0.3479271621381179,
          -0.14022948149868633,
          0.4715134428149978,
          -1.3875270322229551,
          2.291695981953175,
          -0.4233067765902022,
          -0.4010460654069656,
          1.4953409235326716,
          0.055794820889501835,
          1.1085643506927436,
          -0.34084079925276806,
          -0.04448454401577478,
          -0.7068197188417409,
          -0.28196538329893095,
          0.35645508606988024,
          -1.9319911284139681,
          0.30676889430031434,
          1.0195069345873582,
          0.5815106975487212,
          0.6675437405444582,
          -1.451462224194573,
          1.7537992807886817,
          -0.5223131305426536,
          -2.0899011210520055,
          -1.1868763568302543,
          -1.654932061201535,
          -1.6874933947593838,
          -1.2156525913674665,
          1.6794846829271606,
          0.7092856518073,
          0.6629875673201554,
          -0.6411635757117996,
          -1.1881576800789335,
          -1.160918932012118,
          -0.014452385012939719,
          -0.8158088796870766,
          -1.112112811778674,
          -0.4134909737727676,
          0.7679354852691683,
          -0.5288693699646896,
          0.966238933639739,
          0.5428284262688382,
          -0.8993016610838763,
          1.9686623433577968,
          -1.1099790369124423,
          -0.7148053007009889,
          -0.05035305723891644,
          -0.2825442564032258,
          0.6220386837974622,
          -0.02607398992073639,
          -0.12904032210431582,
          -0.4462530044659881,
          1.0919323927621174,
          -0.2838491101268597,
          0.8898082348209791,
          -0.05344663510556132,
          0.6764322455699061,
          2.110521685528398,
          -0.9540742926640376,
          -0.0709709220358443,
          -0.05552091480298457,
          0.49519307651171957,
          -0.47214686334867095,
          -0.43038367094404784,
          -0.5262311656239208,
          0.41668007402483337,
          -0.46314704835682,
          1.1978416309836064,
          0.06945342626551727,
          0.2852068613579216,
          -0.9260930337101595,
          -1.299229452656461,
          -0.01752394800048146,
          1.333737866854547,
          -1.0027996183786698,
          1.3712373857073232,
          -1.3929633493161442,
          -2.003173109247321,
          -0.5638422495748624,
          -0.08713154635704083,
          0.7826639766427661,
          1.6599223202958147,
          1.8225331731889711,
          -0.3637271366130778
         ],
         "xaxis": "x6",
         "yaxis": "y6"
        },
        {
         "line": {
          "color": "rgba(128, 128, 128, 1.0)",
          "dash": "solid",
          "shape": "linear",
          "width": 1.3
         },
         "marker": {
          "size": 2,
          "symbol": "circle"
         },
         "mode": "markers",
         "name": "B",
         "text": "",
         "type": "scatter",
         "x": [
          0.2755716670365263,
          -1.4107567274282897,
          0.6541175742867782,
          1.9674690515547126,
          1.256596339268459,
          0.523856596662497,
          -0.8969265311525533,
          0.3244140138558535,
          -0.9950241003805131,
          0.010323270077411526,
          -0.4081624657415359,
          0.856972738882899,
          0.04068662059895318,
          -1.2944868481985685,
          -0.9619587879235344,
          -1.2789542109730379,
          -0.9026009083226586,
          -0.30943964771853477,
          1.4669276807914478,
          2.1886965346332614,
          -0.7853005063471961,
          -1.7956697006953894,
          -1.561114867168884,
          -0.14455531064454316,
          0.4097967940659489,
          0.027689805529984155,
          -0.8497038505348563,
          1.8046874328359785,
          0.7071894503644003,
          1.213741530303425,
          -1.0343725538212367,
          0.22659112518910376,
          -1.1486822151076266,
          0.9966989811826483,
          0.4142349713487508,
          1.0253873908752684,
          -0.6344711510801252,
          0.2736544613480108,
          0.10304790113170942,
          -0.03298524733362019,
          0.5935028001089265,
          0.4838846773154546,
          0.8732381580494233,
          1.4128524795674415,
          0.08490496568549535,
          0.050290802392600024,
          -0.46573622578532187,
          0.18929328771708429,
          0.022354739248472047,
          0.18032179012293742,
          -0.5383926430861103,
          0.6349278683681299,
          0.7460618503587655,
          0.6143492711346112,
          1.1800052422773377,
          -0.4317198762713371,
          -0.39825819636098175,
          0.020492888094452415,
          0.26054148974539326,
          0.35542164302954893,
          -0.09632068069538566,
          1.1880737687482943,
          0.7622480573510461,
          -0.12954313804362508,
          0.6448810312697735,
          0.14237852278024538,
          -1.254266568431477,
          -0.4390979624690971,
          -0.7899958009345055,
          -0.30993485012088473,
          0.6722028469700168,
          -0.7823208404463984,
          0.5862555713819035,
          1.2177004118684112,
          1.587168629736668,
          0.43377784098629774,
          0.2796177411902997,
          0.8470418963750924,
          0.3360985288016682,
          0.9208215794336971,
          0.002407301316962099,
          0.00458636300942406,
          0.9329535515195241,
          -0.7517379185041624,
          1.1400847378001369,
          -1.9844115112198117,
          1.268566939128557,
          -0.0334254762745057,
          -1.6953738158116232,
          -0.8040408315832263,
          0.016360777148160116,
          0.41731413370847836,
          -0.38523140506373255,
          1.2970812498450508,
          -2.236660366102504,
          -0.5882604503630262,
          -0.2731599067897886,
          -0.29682518018130133,
          0.6461631547594263,
          0.60302821358222
         ],
         "xaxis": "x7",
         "y": [
          -0.9234838055280741,
          0.1837906133650663,
          0.9549006334057075,
          -0.8172743696437627,
          0.3174431081329297,
          0.21808918953745687,
          0.6815729465243698,
          -0.262815565993623,
          0.0013540987106652831,
          -0.27062784691556646,
          -0.8728212153054438,
          -0.6131662144165188,
          0.8217767277509427,
          -0.37803366564505864,
          -0.38120900740011365,
          0.615824227870488,
          -0.3479271621381179,
          -0.14022948149868633,
          0.4715134428149978,
          -1.3875270322229551,
          2.291695981953175,
          -0.4233067765902022,
          -0.4010460654069656,
          1.4953409235326716,
          0.055794820889501835,
          1.1085643506927436,
          -0.34084079925276806,
          -0.04448454401577478,
          -0.7068197188417409,
          -0.28196538329893095,
          0.35645508606988024,
          -1.9319911284139681,
          0.30676889430031434,
          1.0195069345873582,
          0.5815106975487212,
          0.6675437405444582,
          -1.451462224194573,
          1.7537992807886817,
          -0.5223131305426536,
          -2.0899011210520055,
          -1.1868763568302543,
          -1.654932061201535,
          -1.6874933947593838,
          -1.2156525913674665,
          1.6794846829271606,
          0.7092856518073,
          0.6629875673201554,
          -0.6411635757117996,
          -1.1881576800789335,
          -1.160918932012118,
          -0.014452385012939719,
          -0.8158088796870766,
          -1.112112811778674,
          -0.4134909737727676,
          0.7679354852691683,
          -0.5288693699646896,
          0.966238933639739,
          0.5428284262688382,
          -0.8993016610838763,
          1.9686623433577968,
          -1.1099790369124423,
          -0.7148053007009889,
          -0.05035305723891644,
          -0.2825442564032258,
          0.6220386837974622,
          -0.02607398992073639,
          -0.12904032210431582,
          -0.4462530044659881,
          1.0919323927621174,
          -0.2838491101268597,
          0.8898082348209791,
          -0.05344663510556132,
          0.6764322455699061,
          2.110521685528398,
          -0.9540742926640376,
          -0.0709709220358443,
          -0.05552091480298457,
          0.49519307651171957,
          -0.47214686334867095,
          -0.43038367094404784,
          -0.5262311656239208,
          0.41668007402483337,
          -0.46314704835682,
          1.1978416309836064,
          0.06945342626551727,
          0.2852068613579216,
          -0.9260930337101595,
          -1.299229452656461,
          -0.01752394800048146,
          1.333737866854547,
          -1.0027996183786698,
          1.3712373857073232,
          -1.3929633493161442,
          -2.003173109247321,
          -0.5638422495748624,
          -0.08713154635704083,
          0.7826639766427661,
          1.6599223202958147,
          1.8225331731889711,
          -0.3637271366130778
         ],
         "yaxis": "y7"
        },
        {
         "line": {
          "color": "rgba(128, 128, 128, 1.0)",
          "dash": "solid",
          "shape": "linear",
          "width": 1.3
         },
         "marker": {
          "size": 2,
          "symbol": "circle"
         },
         "mode": "markers",
         "name": "B",
         "text": "",
         "type": "scatter",
         "x": [
          0.3643930281255974,
          0.15026292366620095,
          1.2187222278603946,
          -0.8659906012809404,
          0.6004784913268533,
          -1.0589820545230748,
          -1.5683314423426904,
          -1.6539365309773515,
          0.12136885230734451,
          1.769195740544522,
          -0.34786923195499164,
          -0.5611026339790515,
          1.884395043792925,
          0.10554293170215406,
          -0.6971983382812603,
          0.7833018925568376,
          -2.300638357051978,
          -1.3172806218596724,
          -0.04373228510009631,
          -1.2671251518663433,
          1.3682141073747136,
          0.1758901613320038,
          0.4131184697361528,
          -0.13307235755723854,
          -0.09343541524988579,
          -0.23793992896567595,
          0.37511476141478445,
          1.5348806704194566,
          -0.9690143836986986,
          -0.4361298995213377,
          0.11884415029697731,
          0.7053708211848962,
          -1.170756619547385,
          0.12391062586154639,
          -1.775733651033394,
          -1.7025147144806678,
          0.24120216357934682,
          -0.05909560823662816,
          0.6990921904976213,
          -1.2551961134773182,
          -0.190020144313903,
          -1.2001001024950408,
          0.6274370541851635,
          0.5015803990467228,
          1.7377383170505403,
          0.7669569890905374,
          -0.591194403818167,
          -1.184929573922818,
          -0.09713963731436984,
          2.2273843627971575,
          -1.2140642939832837,
          -0.726190654922945,
          0.21963148157113957,
          -0.2669805745888528,
          -0.767942069013212,
          -0.1521855580871152,
          -0.3904159798584094,
          1.2739452686099946,
          0.36218314088967013,
          0.11030818464201156,
          1.9268791207613563,
          0.5487869697256245,
          -0.9762768663466627,
          1.3932777236238698,
          0.7258730775669255,
          -1.94063820760366,
          -0.5616258682969569,
          -1.045963556303688,
          -0.046928354294379034,
          -0.6985230840516604,
          -0.09137824514435089,
          0.11975928366817555,
          0.5719600766112413,
          -0.5602018420934456,
          -1.3733210357679502,
          0.930729614688202,
          -1.2865839708266649,
          0.24263820697068555,
          -0.6503235979872184,
          0.9780605553222481,
          0.2058777005882192,
          -0.08601947943729862,
          0.4341754032068352,
          -0.836596194783516,
          -0.5578839609069209,
          -0.5134003010550453,
          0.2902632694148725,
          -2.69040970394117,
          0.9976251276467392,
          1.5258496506679962,
          -0.09914102682089235,
          -1.2196458165465838,
          1.8644668321972602,
          1.0079481290352872,
          -0.4500239322508063,
          0.8962399016639363,
          -0.37922022639110614,
          0.2181399664309546,
          -0.12843420402850228,
          2.1360706839894226
         ],
         "xaxis": "x8",
         "y": [
          -0.9234838055280741,
          0.1837906133650663,
          0.9549006334057075,
          -0.8172743696437627,
          0.3174431081329297,
          0.21808918953745687,
          0.6815729465243698,
          -0.262815565993623,
          0.0013540987106652831,
          -0.27062784691556646,
          -0.8728212153054438,
          -0.6131662144165188,
          0.8217767277509427,
          -0.37803366564505864,
          -0.38120900740011365,
          0.615824227870488,
          -0.3479271621381179,
          -0.14022948149868633,
          0.4715134428149978,
          -1.3875270322229551,
          2.291695981953175,
          -0.4233067765902022,
          -0.4010460654069656,
          1.4953409235326716,
          0.055794820889501835,
          1.1085643506927436,
          -0.34084079925276806,
          -0.04448454401577478,
          -0.7068197188417409,
          -0.28196538329893095,
          0.35645508606988024,
          -1.9319911284139681,
          0.30676889430031434,
          1.0195069345873582,
          0.5815106975487212,
          0.6675437405444582,
          -1.451462224194573,
          1.7537992807886817,
          -0.5223131305426536,
          -2.0899011210520055,
          -1.1868763568302543,
          -1.654932061201535,
          -1.6874933947593838,
          -1.2156525913674665,
          1.6794846829271606,
          0.7092856518073,
          0.6629875673201554,
          -0.6411635757117996,
          -1.1881576800789335,
          -1.160918932012118,
          -0.014452385012939719,
          -0.8158088796870766,
          -1.112112811778674,
          -0.4134909737727676,
          0.7679354852691683,
          -0.5288693699646896,
          0.966238933639739,
          0.5428284262688382,
          -0.8993016610838763,
          1.9686623433577968,
          -1.1099790369124423,
          -0.7148053007009889,
          -0.05035305723891644,
          -0.2825442564032258,
          0.6220386837974622,
          -0.02607398992073639,
          -0.12904032210431582,
          -0.4462530044659881,
          1.0919323927621174,
          -0.2838491101268597,
          0.8898082348209791,
          -0.05344663510556132,
          0.6764322455699061,
          2.110521685528398,
          -0.9540742926640376,
          -0.0709709220358443,
          -0.05552091480298457,
          0.49519307651171957,
          -0.47214686334867095,
          -0.43038367094404784,
          -0.5262311656239208,
          0.41668007402483337,
          -0.46314704835682,
          1.1978416309836064,
          0.06945342626551727,
          0.2852068613579216,
          -0.9260930337101595,
          -1.299229452656461,
          -0.01752394800048146,
          1.333737866854547,
          -1.0027996183786698,
          1.3712373857073232,
          -1.3929633493161442,
          -2.003173109247321,
          -0.5638422495748624,
          -0.08713154635704083,
          0.7826639766427661,
          1.6599223202958147,
          1.8225331731889711,
          -0.3637271366130778
         ],
         "yaxis": "y8"
        },
        {
         "line": {
          "color": "rgba(128, 128, 128, 1.0)",
          "dash": "solid",
          "shape": "linear",
          "width": 1.3
         },
         "marker": {
          "size": 2,
          "symbol": "circle"
         },
         "mode": "markers",
         "name": "C",
         "text": "",
         "type": "scatter",
         "x": [
          -2.2330045307590853,
          -0.9521908995974245,
          0.27846606978193117,
          -0.7497430396641565,
          -0.8956342510414951,
          -0.2701922755157396,
          0.13378854729598888,
          -0.10139493386630462,
          2.4089945148153924,
          2.2798960353709634,
          1.536776871530047,
          -0.4738067773638204,
          0.3895763004483561,
          -0.44813497414482384,
          -0.04272139930867001,
          1.8607472786609707,
          -0.6439882932495113,
          1.2582962916443727,
          -1.204805217634797,
          -0.1429158275301282,
          1.1677493616360861,
          -2.6530884634429985,
          -0.9403827018208064,
          0.1496396817935744,
          0.04470276113270573,
          -0.7319557334866961,
          0.5233737734533389,
          -0.4409303064263165,
          -0.5833238720623664,
          0.25649916497690095,
          -0.30081158546772635,
          0.07975881141571715,
          -2.090321583607134,
          -0.8712175959679449,
          -0.6931394651239492,
          -0.8218402617535678,
          1.4418250131499333,
          0.3751607269805806,
          1.2314240010401805,
          0.4199928878005679,
          -0.1554548985369435,
          1.8868088114432202,
          -0.694422411044866,
          1.1436083825779144,
          0.7624519963607965,
          -0.2482247596359065,
          1.4414688130029367,
          0.22035610962969224,
          0.2950496995083218,
          -0.0002316334366230875,
          1.2896860527248302,
          1.1265104298484678,
          -0.0036286696037859285,
          -0.826340568102362,
          -1.018582405591517,
          -1.291063854400129,
          -0.19008683392694992,
          -0.763872927674939,
          2.0959738808836414,
          2.130647594088596,
          2.224539281704161,
          1.1940475375397548,
          -0.7876803121312159,
          0.969667697580649,
          0.9493233327045774,
          -0.044403311331418185,
          0.3895596700750885,
          -0.014452893562845948,
          -0.6968071801779312,
          0.1614108555208764,
          -0.12276024863235002,
          -0.8370581648026316,
          -0.24705922180806691,
          -0.10403134026483714,
          -1.4284743931846275,
          0.3535476401056677,
          -0.10544217505192499,
          1.6963828925675466,
          0.5915873562228502,
          0.9907707442218054,
          0.7428977212707456,
          -0.07200887621832967,
          0.00017457906821124856,
          0.013110631310684354,
          1.9240017540561096,
          -0.4264462466703405,
          0.16219704052654055,
          0.4697559969879681,
          1.0060845122288846,
          0.7676496704361507,
          -0.9161171095812846,
          -1.624314104246879,
          -0.9527835783780093,
          -0.17739704862730749,
          1.0650077734242744,
          0.43385923873565196,
          1.6979048817374556,
          -1.853810177762625,
          0.9776180877321272,
          -0.8272963834606755
         ],
         "xaxis": "x9",
         "y": [
          0.2755716670365263,
          -1.4107567274282897,
          0.6541175742867782,
          1.9674690515547126,
          1.256596339268459,
          0.523856596662497,
          -0.8969265311525533,
          0.3244140138558535,
          -0.9950241003805131,
          0.010323270077411526,
          -0.4081624657415359,
          0.856972738882899,
          0.04068662059895318,
          -1.2944868481985685,
          -0.9619587879235344,
          -1.2789542109730379,
          -0.9026009083226586,
          -0.30943964771853477,
          1.4669276807914478,
          2.1886965346332614,
          -0.7853005063471961,
          -1.7956697006953894,
          -1.561114867168884,
          -0.14455531064454316,
          0.4097967940659489,
          0.027689805529984155,
          -0.8497038505348563,
          1.8046874328359785,
          0.7071894503644003,
          1.213741530303425,
          -1.0343725538212367,
          0.22659112518910376,
          -1.1486822151076266,
          0.9966989811826483,
          0.4142349713487508,
          1.0253873908752684,
          -0.6344711510801252,
          0.2736544613480108,
          0.10304790113170942,
          -0.03298524733362019,
          0.5935028001089265,
          0.4838846773154546,
          0.8732381580494233,
          1.4128524795674415,
          0.08490496568549535,
          0.050290802392600024,
          -0.46573622578532187,
          0.18929328771708429,
          0.022354739248472047,
          0.18032179012293742,
          -0.5383926430861103,
          0.6349278683681299,
          0.7460618503587655,
          0.6143492711346112,
          1.1800052422773377,
          -0.4317198762713371,
          -0.39825819636098175,
          0.020492888094452415,
          0.26054148974539326,
          0.35542164302954893,
          -0.09632068069538566,
          1.1880737687482943,
          0.7622480573510461,
          -0.12954313804362508,
          0.6448810312697735,
          0.14237852278024538,
          -1.254266568431477,
          -0.4390979624690971,
          -0.7899958009345055,
          -0.30993485012088473,
          0.6722028469700168,
          -0.7823208404463984,
          0.5862555713819035,
          1.2177004118684112,
          1.587168629736668,
          0.43377784098629774,
          0.2796177411902997,
          0.8470418963750924,
          0.3360985288016682,
          0.9208215794336971,
          0.002407301316962099,
          0.00458636300942406,
          0.9329535515195241,
          -0.7517379185041624,
          1.1400847378001369,
          -1.9844115112198117,
          1.268566939128557,
          -0.0334254762745057,
          -1.6953738158116232,
          -0.8040408315832263,
          0.016360777148160116,
          0.41731413370847836,
          -0.38523140506373255,
          1.2970812498450508,
          -2.236660366102504,
          -0.5882604503630262,
          -0.2731599067897886,
          -0.29682518018130133,
          0.6461631547594263,
          0.60302821358222
         ],
         "yaxis": "y9"
        },
        {
         "line": {
          "color": "rgba(128, 128, 128, 1.0)",
          "dash": "solid",
          "shape": "linear",
          "width": 1.3
         },
         "marker": {
          "size": 2,
          "symbol": "circle"
         },
         "mode": "markers",
         "name": "C",
         "text": "",
         "type": "scatter",
         "x": [
          -0.9234838055280741,
          0.1837906133650663,
          0.9549006334057075,
          -0.8172743696437627,
          0.3174431081329297,
          0.21808918953745687,
          0.6815729465243698,
          -0.262815565993623,
          0.0013540987106652831,
          -0.27062784691556646,
          -0.8728212153054438,
          -0.6131662144165188,
          0.8217767277509427,
          -0.37803366564505864,
          -0.38120900740011365,
          0.615824227870488,
          -0.3479271621381179,
          -0.14022948149868633,
          0.4715134428149978,
          -1.3875270322229551,
          2.291695981953175,
          -0.4233067765902022,
          -0.4010460654069656,
          1.4953409235326716,
          0.055794820889501835,
          1.1085643506927436,
          -0.34084079925276806,
          -0.04448454401577478,
          -0.7068197188417409,
          -0.28196538329893095,
          0.35645508606988024,
          -1.9319911284139681,
          0.30676889430031434,
          1.0195069345873582,
          0.5815106975487212,
          0.6675437405444582,
          -1.451462224194573,
          1.7537992807886817,
          -0.5223131305426536,
          -2.0899011210520055,
          -1.1868763568302543,
          -1.654932061201535,
          -1.6874933947593838,
          -1.2156525913674665,
          1.6794846829271606,
          0.7092856518073,
          0.6629875673201554,
          -0.6411635757117996,
          -1.1881576800789335,
          -1.160918932012118,
          -0.014452385012939719,
          -0.8158088796870766,
          -1.112112811778674,
          -0.4134909737727676,
          0.7679354852691683,
          -0.5288693699646896,
          0.966238933639739,
          0.5428284262688382,
          -0.8993016610838763,
          1.9686623433577968,
          -1.1099790369124423,
          -0.7148053007009889,
          -0.05035305723891644,
          -0.2825442564032258,
          0.6220386837974622,
          -0.02607398992073639,
          -0.12904032210431582,
          -0.4462530044659881,
          1.0919323927621174,
          -0.2838491101268597,
          0.8898082348209791,
          -0.05344663510556132,
          0.6764322455699061,
          2.110521685528398,
          -0.9540742926640376,
          -0.0709709220358443,
          -0.05552091480298457,
          0.49519307651171957,
          -0.47214686334867095,
          -0.43038367094404784,
          -0.5262311656239208,
          0.41668007402483337,
          -0.46314704835682,
          1.1978416309836064,
          0.06945342626551727,
          0.2852068613579216,
          -0.9260930337101595,
          -1.299229452656461,
          -0.01752394800048146,
          1.333737866854547,
          -1.0027996183786698,
          1.3712373857073232,
          -1.3929633493161442,
          -2.003173109247321,
          -0.5638422495748624,
          -0.08713154635704083,
          0.7826639766427661,
          1.6599223202958147,
          1.8225331731889711,
          -0.3637271366130778
         ],
         "xaxis": "x10",
         "y": [
          0.2755716670365263,
          -1.4107567274282897,
          0.6541175742867782,
          1.9674690515547126,
          1.256596339268459,
          0.523856596662497,
          -0.8969265311525533,
          0.3244140138558535,
          -0.9950241003805131,
          0.010323270077411526,
          -0.4081624657415359,
          0.856972738882899,
          0.04068662059895318,
          -1.2944868481985685,
          -0.9619587879235344,
          -1.2789542109730379,
          -0.9026009083226586,
          -0.30943964771853477,
          1.4669276807914478,
          2.1886965346332614,
          -0.7853005063471961,
          -1.7956697006953894,
          -1.561114867168884,
          -0.14455531064454316,
          0.4097967940659489,
          0.027689805529984155,
          -0.8497038505348563,
          1.8046874328359785,
          0.7071894503644003,
          1.213741530303425,
          -1.0343725538212367,
          0.22659112518910376,
          -1.1486822151076266,
          0.9966989811826483,
          0.4142349713487508,
          1.0253873908752684,
          -0.6344711510801252,
          0.2736544613480108,
          0.10304790113170942,
          -0.03298524733362019,
          0.5935028001089265,
          0.4838846773154546,
          0.8732381580494233,
          1.4128524795674415,
          0.08490496568549535,
          0.050290802392600024,
          -0.46573622578532187,
          0.18929328771708429,
          0.022354739248472047,
          0.18032179012293742,
          -0.5383926430861103,
          0.6349278683681299,
          0.7460618503587655,
          0.6143492711346112,
          1.1800052422773377,
          -0.4317198762713371,
          -0.39825819636098175,
          0.020492888094452415,
          0.26054148974539326,
          0.35542164302954893,
          -0.09632068069538566,
          1.1880737687482943,
          0.7622480573510461,
          -0.12954313804362508,
          0.6448810312697735,
          0.14237852278024538,
          -1.254266568431477,
          -0.4390979624690971,
          -0.7899958009345055,
          -0.30993485012088473,
          0.6722028469700168,
          -0.7823208404463984,
          0.5862555713819035,
          1.2177004118684112,
          1.587168629736668,
          0.43377784098629774,
          0.2796177411902997,
          0.8470418963750924,
          0.3360985288016682,
          0.9208215794336971,
          0.002407301316962099,
          0.00458636300942406,
          0.9329535515195241,
          -0.7517379185041624,
          1.1400847378001369,
          -1.9844115112198117,
          1.268566939128557,
          -0.0334254762745057,
          -1.6953738158116232,
          -0.8040408315832263,
          0.016360777148160116,
          0.41731413370847836,
          -0.38523140506373255,
          1.2970812498450508,
          -2.236660366102504,
          -0.5882604503630262,
          -0.2731599067897886,
          -0.29682518018130133,
          0.6461631547594263,
          0.60302821358222
         ],
         "yaxis": "y10"
        },
        {
         "histfunc": "count",
         "histnorm": "",
         "marker": {
          "color": "rgba(50, 171, 96, 1.0)",
          "line": {
           "color": "#4D5663",
           "width": 1.3
          }
         },
         "name": "C",
         "nbinsx": 10,
         "opacity": 0.8,
         "orientation": "v",
         "type": "histogram",
         "x": [
          0.2755716670365263,
          -1.4107567274282897,
          0.6541175742867782,
          1.9674690515547126,
          1.256596339268459,
          0.523856596662497,
          -0.8969265311525533,
          0.3244140138558535,
          -0.9950241003805131,
          0.010323270077411526,
          -0.4081624657415359,
          0.856972738882899,
          0.04068662059895318,
          -1.2944868481985685,
          -0.9619587879235344,
          -1.2789542109730379,
          -0.9026009083226586,
          -0.30943964771853477,
          1.4669276807914478,
          2.1886965346332614,
          -0.7853005063471961,
          -1.7956697006953894,
          -1.561114867168884,
          -0.14455531064454316,
          0.4097967940659489,
          0.027689805529984155,
          -0.8497038505348563,
          1.8046874328359785,
          0.7071894503644003,
          1.213741530303425,
          -1.0343725538212367,
          0.22659112518910376,
          -1.1486822151076266,
          0.9966989811826483,
          0.4142349713487508,
          1.0253873908752684,
          -0.6344711510801252,
          0.2736544613480108,
          0.10304790113170942,
          -0.03298524733362019,
          0.5935028001089265,
          0.4838846773154546,
          0.8732381580494233,
          1.4128524795674415,
          0.08490496568549535,
          0.050290802392600024,
          -0.46573622578532187,
          0.18929328771708429,
          0.022354739248472047,
          0.18032179012293742,
          -0.5383926430861103,
          0.6349278683681299,
          0.7460618503587655,
          0.6143492711346112,
          1.1800052422773377,
          -0.4317198762713371,
          -0.39825819636098175,
          0.020492888094452415,
          0.26054148974539326,
          0.35542164302954893,
          -0.09632068069538566,
          1.1880737687482943,
          0.7622480573510461,
          -0.12954313804362508,
          0.6448810312697735,
          0.14237852278024538,
          -1.254266568431477,
          -0.4390979624690971,
          -0.7899958009345055,
          -0.30993485012088473,
          0.6722028469700168,
          -0.7823208404463984,
          0.5862555713819035,
          1.2177004118684112,
          1.587168629736668,
          0.43377784098629774,
          0.2796177411902997,
          0.8470418963750924,
          0.3360985288016682,
          0.9208215794336971,
          0.002407301316962099,
          0.00458636300942406,
          0.9329535515195241,
          -0.7517379185041624,
          1.1400847378001369,
          -1.9844115112198117,
          1.268566939128557,
          -0.0334254762745057,
          -1.6953738158116232,
          -0.8040408315832263,
          0.016360777148160116,
          0.41731413370847836,
          -0.38523140506373255,
          1.2970812498450508,
          -2.236660366102504,
          -0.5882604503630262,
          -0.2731599067897886,
          -0.29682518018130133,
          0.6461631547594263,
          0.60302821358222
         ],
         "xaxis": "x11",
         "yaxis": "y11"
        },
        {
         "line": {
          "color": "rgba(128, 128, 128, 1.0)",
          "dash": "solid",
          "shape": "linear",
          "width": 1.3
         },
         "marker": {
          "size": 2,
          "symbol": "circle"
         },
         "mode": "markers",
         "name": "C",
         "text": "",
         "type": "scatter",
         "x": [
          0.3643930281255974,
          0.15026292366620095,
          1.2187222278603946,
          -0.8659906012809404,
          0.6004784913268533,
          -1.0589820545230748,
          -1.5683314423426904,
          -1.6539365309773515,
          0.12136885230734451,
          1.769195740544522,
          -0.34786923195499164,
          -0.5611026339790515,
          1.884395043792925,
          0.10554293170215406,
          -0.6971983382812603,
          0.7833018925568376,
          -2.300638357051978,
          -1.3172806218596724,
          -0.04373228510009631,
          -1.2671251518663433,
          1.3682141073747136,
          0.1758901613320038,
          0.4131184697361528,
          -0.13307235755723854,
          -0.09343541524988579,
          -0.23793992896567595,
          0.37511476141478445,
          1.5348806704194566,
          -0.9690143836986986,
          -0.4361298995213377,
          0.11884415029697731,
          0.7053708211848962,
          -1.170756619547385,
          0.12391062586154639,
          -1.775733651033394,
          -1.7025147144806678,
          0.24120216357934682,
          -0.05909560823662816,
          0.6990921904976213,
          -1.2551961134773182,
          -0.190020144313903,
          -1.2001001024950408,
          0.6274370541851635,
          0.5015803990467228,
          1.7377383170505403,
          0.7669569890905374,
          -0.591194403818167,
          -1.184929573922818,
          -0.09713963731436984,
          2.2273843627971575,
          -1.2140642939832837,
          -0.726190654922945,
          0.21963148157113957,
          -0.2669805745888528,
          -0.767942069013212,
          -0.1521855580871152,
          -0.3904159798584094,
          1.2739452686099946,
          0.36218314088967013,
          0.11030818464201156,
          1.9268791207613563,
          0.5487869697256245,
          -0.9762768663466627,
          1.3932777236238698,
          0.7258730775669255,
          -1.94063820760366,
          -0.5616258682969569,
          -1.045963556303688,
          -0.046928354294379034,
          -0.6985230840516604,
          -0.09137824514435089,
          0.11975928366817555,
          0.5719600766112413,
          -0.5602018420934456,
          -1.3733210357679502,
          0.930729614688202,
          -1.2865839708266649,
          0.24263820697068555,
          -0.6503235979872184,
          0.9780605553222481,
          0.2058777005882192,
          -0.08601947943729862,
          0.4341754032068352,
          -0.836596194783516,
          -0.5578839609069209,
          -0.5134003010550453,
          0.2902632694148725,
          -2.69040970394117,
          0.9976251276467392,
          1.5258496506679962,
          -0.09914102682089235,
          -1.2196458165465838,
          1.8644668321972602,
          1.0079481290352872,
          -0.4500239322508063,
          0.8962399016639363,
          -0.37922022639110614,
          0.2181399664309546,
          -0.12843420402850228,
          2.1360706839894226
         ],
         "xaxis": "x12",
         "y": [
          0.2755716670365263,
          -1.4107567274282897,
          0.6541175742867782,
          1.9674690515547126,
          1.256596339268459,
          0.523856596662497,
          -0.8969265311525533,
          0.3244140138558535,
          -0.9950241003805131,
          0.010323270077411526,
          -0.4081624657415359,
          0.856972738882899,
          0.04068662059895318,
          -1.2944868481985685,
          -0.9619587879235344,
          -1.2789542109730379,
          -0.9026009083226586,
          -0.30943964771853477,
          1.4669276807914478,
          2.1886965346332614,
          -0.7853005063471961,
          -1.7956697006953894,
          -1.561114867168884,
          -0.14455531064454316,
          0.4097967940659489,
          0.027689805529984155,
          -0.8497038505348563,
          1.8046874328359785,
          0.7071894503644003,
          1.213741530303425,
          -1.0343725538212367,
          0.22659112518910376,
          -1.1486822151076266,
          0.9966989811826483,
          0.4142349713487508,
          1.0253873908752684,
          -0.6344711510801252,
          0.2736544613480108,
          0.10304790113170942,
          -0.03298524733362019,
          0.5935028001089265,
          0.4838846773154546,
          0.8732381580494233,
          1.4128524795674415,
          0.08490496568549535,
          0.050290802392600024,
          -0.46573622578532187,
          0.18929328771708429,
          0.022354739248472047,
          0.18032179012293742,
          -0.5383926430861103,
          0.6349278683681299,
          0.7460618503587655,
          0.6143492711346112,
          1.1800052422773377,
          -0.4317198762713371,
          -0.39825819636098175,
          0.020492888094452415,
          0.26054148974539326,
          0.35542164302954893,
          -0.09632068069538566,
          1.1880737687482943,
          0.7622480573510461,
          -0.12954313804362508,
          0.6448810312697735,
          0.14237852278024538,
          -1.254266568431477,
          -0.4390979624690971,
          -0.7899958009345055,
          -0.30993485012088473,
          0.6722028469700168,
          -0.7823208404463984,
          0.5862555713819035,
          1.2177004118684112,
          1.587168629736668,
          0.43377784098629774,
          0.2796177411902997,
          0.8470418963750924,
          0.3360985288016682,
          0.9208215794336971,
          0.002407301316962099,
          0.00458636300942406,
          0.9329535515195241,
          -0.7517379185041624,
          1.1400847378001369,
          -1.9844115112198117,
          1.268566939128557,
          -0.0334254762745057,
          -1.6953738158116232,
          -0.8040408315832263,
          0.016360777148160116,
          0.41731413370847836,
          -0.38523140506373255,
          1.2970812498450508,
          -2.236660366102504,
          -0.5882604503630262,
          -0.2731599067897886,
          -0.29682518018130133,
          0.6461631547594263,
          0.60302821358222
         ],
         "yaxis": "y12"
        },
        {
         "line": {
          "color": "rgba(128, 128, 128, 1.0)",
          "dash": "solid",
          "shape": "linear",
          "width": 1.3
         },
         "marker": {
          "size": 2,
          "symbol": "circle"
         },
         "mode": "markers",
         "name": "D",
         "text": "",
         "type": "scatter",
         "x": [
          -2.2330045307590853,
          -0.9521908995974245,
          0.27846606978193117,
          -0.7497430396641565,
          -0.8956342510414951,
          -0.2701922755157396,
          0.13378854729598888,
          -0.10139493386630462,
          2.4089945148153924,
          2.2798960353709634,
          1.536776871530047,
          -0.4738067773638204,
          0.3895763004483561,
          -0.44813497414482384,
          -0.04272139930867001,
          1.8607472786609707,
          -0.6439882932495113,
          1.2582962916443727,
          -1.204805217634797,
          -0.1429158275301282,
          1.1677493616360861,
          -2.6530884634429985,
          -0.9403827018208064,
          0.1496396817935744,
          0.04470276113270573,
          -0.7319557334866961,
          0.5233737734533389,
          -0.4409303064263165,
          -0.5833238720623664,
          0.25649916497690095,
          -0.30081158546772635,
          0.07975881141571715,
          -2.090321583607134,
          -0.8712175959679449,
          -0.6931394651239492,
          -0.8218402617535678,
          1.4418250131499333,
          0.3751607269805806,
          1.2314240010401805,
          0.4199928878005679,
          -0.1554548985369435,
          1.8868088114432202,
          -0.694422411044866,
          1.1436083825779144,
          0.7624519963607965,
          -0.2482247596359065,
          1.4414688130029367,
          0.22035610962969224,
          0.2950496995083218,
          -0.0002316334366230875,
          1.2896860527248302,
          1.1265104298484678,
          -0.0036286696037859285,
          -0.826340568102362,
          -1.018582405591517,
          -1.291063854400129,
          -0.19008683392694992,
          -0.763872927674939,
          2.0959738808836414,
          2.130647594088596,
          2.224539281704161,
          1.1940475375397548,
          -0.7876803121312159,
          0.969667697580649,
          0.9493233327045774,
          -0.044403311331418185,
          0.3895596700750885,
          -0.014452893562845948,
          -0.6968071801779312,
          0.1614108555208764,
          -0.12276024863235002,
          -0.8370581648026316,
          -0.24705922180806691,
          -0.10403134026483714,
          -1.4284743931846275,
          0.3535476401056677,
          -0.10544217505192499,
          1.6963828925675466,
          0.5915873562228502,
          0.9907707442218054,
          0.7428977212707456,
          -0.07200887621832967,
          0.00017457906821124856,
          0.013110631310684354,
          1.9240017540561096,
          -0.4264462466703405,
          0.16219704052654055,
          0.4697559969879681,
          1.0060845122288846,
          0.7676496704361507,
          -0.9161171095812846,
          -1.624314104246879,
          -0.9527835783780093,
          -0.17739704862730749,
          1.0650077734242744,
          0.43385923873565196,
          1.6979048817374556,
          -1.853810177762625,
          0.9776180877321272,
          -0.8272963834606755
         ],
         "xaxis": "x13",
         "y": [
          0.3643930281255974,
          0.15026292366620095,
          1.2187222278603946,
          -0.8659906012809404,
          0.6004784913268533,
          -1.0589820545230748,
          -1.5683314423426904,
          -1.6539365309773515,
          0.12136885230734451,
          1.769195740544522,
          -0.34786923195499164,
          -0.5611026339790515,
          1.884395043792925,
          0.10554293170215406,
          -0.6971983382812603,
          0.7833018925568376,
          -2.300638357051978,
          -1.3172806218596724,
          -0.04373228510009631,
          -1.2671251518663433,
          1.3682141073747136,
          0.1758901613320038,
          0.4131184697361528,
          -0.13307235755723854,
          -0.09343541524988579,
          -0.23793992896567595,
          0.37511476141478445,
          1.5348806704194566,
          -0.9690143836986986,
          -0.4361298995213377,
          0.11884415029697731,
          0.7053708211848962,
          -1.170756619547385,
          0.12391062586154639,
          -1.775733651033394,
          -1.7025147144806678,
          0.24120216357934682,
          -0.05909560823662816,
          0.6990921904976213,
          -1.2551961134773182,
          -0.190020144313903,
          -1.2001001024950408,
          0.6274370541851635,
          0.5015803990467228,
          1.7377383170505403,
          0.7669569890905374,
          -0.591194403818167,
          -1.184929573922818,
          -0.09713963731436984,
          2.2273843627971575,
          -1.2140642939832837,
          -0.726190654922945,
          0.21963148157113957,
          -0.2669805745888528,
          -0.767942069013212,
          -0.1521855580871152,
          -0.3904159798584094,
          1.2739452686099946,
          0.36218314088967013,
          0.11030818464201156,
          1.9268791207613563,
          0.5487869697256245,
          -0.9762768663466627,
          1.3932777236238698,
          0.7258730775669255,
          -1.94063820760366,
          -0.5616258682969569,
          -1.045963556303688,
          -0.046928354294379034,
          -0.6985230840516604,
          -0.09137824514435089,
          0.11975928366817555,
          0.5719600766112413,
          -0.5602018420934456,
          -1.3733210357679502,
          0.930729614688202,
          -1.2865839708266649,
          0.24263820697068555,
          -0.6503235979872184,
          0.9780605553222481,
          0.2058777005882192,
          -0.08601947943729862,
          0.4341754032068352,
          -0.836596194783516,
          -0.5578839609069209,
          -0.5134003010550453,
          0.2902632694148725,
          -2.69040970394117,
          0.9976251276467392,
          1.5258496506679962,
          -0.09914102682089235,
          -1.2196458165465838,
          1.8644668321972602,
          1.0079481290352872,
          -0.4500239322508063,
          0.8962399016639363,
          -0.37922022639110614,
          0.2181399664309546,
          -0.12843420402850228,
          2.1360706839894226
         ],
         "yaxis": "y13"
        },
        {
         "line": {
          "color": "rgba(128, 128, 128, 1.0)",
          "dash": "solid",
          "shape": "linear",
          "width": 1.3
         },
         "marker": {
          "size": 2,
          "symbol": "circle"
         },
         "mode": "markers",
         "name": "D",
         "text": "",
         "type": "scatter",
         "x": [
          -0.9234838055280741,
          0.1837906133650663,
          0.9549006334057075,
          -0.8172743696437627,
          0.3174431081329297,
          0.21808918953745687,
          0.6815729465243698,
          -0.262815565993623,
          0.0013540987106652831,
          -0.27062784691556646,
          -0.8728212153054438,
          -0.6131662144165188,
          0.8217767277509427,
          -0.37803366564505864,
          -0.38120900740011365,
          0.615824227870488,
          -0.3479271621381179,
          -0.14022948149868633,
          0.4715134428149978,
          -1.3875270322229551,
          2.291695981953175,
          -0.4233067765902022,
          -0.4010460654069656,
          1.4953409235326716,
          0.055794820889501835,
          1.1085643506927436,
          -0.34084079925276806,
          -0.04448454401577478,
          -0.7068197188417409,
          -0.28196538329893095,
          0.35645508606988024,
          -1.9319911284139681,
          0.30676889430031434,
          1.0195069345873582,
          0.5815106975487212,
          0.6675437405444582,
          -1.451462224194573,
          1.7537992807886817,
          -0.5223131305426536,
          -2.0899011210520055,
          -1.1868763568302543,
          -1.654932061201535,
          -1.6874933947593838,
          -1.2156525913674665,
          1.6794846829271606,
          0.7092856518073,
          0.6629875673201554,
          -0.6411635757117996,
          -1.1881576800789335,
          -1.160918932012118,
          -0.014452385012939719,
          -0.8158088796870766,
          -1.112112811778674,
          -0.4134909737727676,
          0.7679354852691683,
          -0.5288693699646896,
          0.966238933639739,
          0.5428284262688382,
          -0.8993016610838763,
          1.9686623433577968,
          -1.1099790369124423,
          -0.7148053007009889,
          -0.05035305723891644,
          -0.2825442564032258,
          0.6220386837974622,
          -0.02607398992073639,
          -0.12904032210431582,
          -0.4462530044659881,
          1.0919323927621174,
          -0.2838491101268597,
          0.8898082348209791,
          -0.05344663510556132,
          0.6764322455699061,
          2.110521685528398,
          -0.9540742926640376,
          -0.0709709220358443,
          -0.05552091480298457,
          0.49519307651171957,
          -0.47214686334867095,
          -0.43038367094404784,
          -0.5262311656239208,
          0.41668007402483337,
          -0.46314704835682,
          1.1978416309836064,
          0.06945342626551727,
          0.2852068613579216,
          -0.9260930337101595,
          -1.299229452656461,
          -0.01752394800048146,
          1.333737866854547,
          -1.0027996183786698,
          1.3712373857073232,
          -1.3929633493161442,
          -2.003173109247321,
          -0.5638422495748624,
          -0.08713154635704083,
          0.7826639766427661,
          1.6599223202958147,
          1.8225331731889711,
          -0.3637271366130778
         ],
         "xaxis": "x14",
         "y": [
          0.3643930281255974,
          0.15026292366620095,
          1.2187222278603946,
          -0.8659906012809404,
          0.6004784913268533,
          -1.0589820545230748,
          -1.5683314423426904,
          -1.6539365309773515,
          0.12136885230734451,
          1.769195740544522,
          -0.34786923195499164,
          -0.5611026339790515,
          1.884395043792925,
          0.10554293170215406,
          -0.6971983382812603,
          0.7833018925568376,
          -2.300638357051978,
          -1.3172806218596724,
          -0.04373228510009631,
          -1.2671251518663433,
          1.3682141073747136,
          0.1758901613320038,
          0.4131184697361528,
          -0.13307235755723854,
          -0.09343541524988579,
          -0.23793992896567595,
          0.37511476141478445,
          1.5348806704194566,
          -0.9690143836986986,
          -0.4361298995213377,
          0.11884415029697731,
          0.7053708211848962,
          -1.170756619547385,
          0.12391062586154639,
          -1.775733651033394,
          -1.7025147144806678,
          0.24120216357934682,
          -0.05909560823662816,
          0.6990921904976213,
          -1.2551961134773182,
          -0.190020144313903,
          -1.2001001024950408,
          0.6274370541851635,
          0.5015803990467228,
          1.7377383170505403,
          0.7669569890905374,
          -0.591194403818167,
          -1.184929573922818,
          -0.09713963731436984,
          2.2273843627971575,
          -1.2140642939832837,
          -0.726190654922945,
          0.21963148157113957,
          -0.2669805745888528,
          -0.767942069013212,
          -0.1521855580871152,
          -0.3904159798584094,
          1.2739452686099946,
          0.36218314088967013,
          0.11030818464201156,
          1.9268791207613563,
          0.5487869697256245,
          -0.9762768663466627,
          1.3932777236238698,
          0.7258730775669255,
          -1.94063820760366,
          -0.5616258682969569,
          -1.045963556303688,
          -0.046928354294379034,
          -0.6985230840516604,
          -0.09137824514435089,
          0.11975928366817555,
          0.5719600766112413,
          -0.5602018420934456,
          -1.3733210357679502,
          0.930729614688202,
          -1.2865839708266649,
          0.24263820697068555,
          -0.6503235979872184,
          0.9780605553222481,
          0.2058777005882192,
          -0.08601947943729862,
          0.4341754032068352,
          -0.836596194783516,
          -0.5578839609069209,
          -0.5134003010550453,
          0.2902632694148725,
          -2.69040970394117,
          0.9976251276467392,
          1.5258496506679962,
          -0.09914102682089235,
          -1.2196458165465838,
          1.8644668321972602,
          1.0079481290352872,
          -0.4500239322508063,
          0.8962399016639363,
          -0.37922022639110614,
          0.2181399664309546,
          -0.12843420402850228,
          2.1360706839894226
         ],
         "yaxis": "y14"
        },
        {
         "line": {
          "color": "rgba(128, 128, 128, 1.0)",
          "dash": "solid",
          "shape": "linear",
          "width": 1.3
         },
         "marker": {
          "size": 2,
          "symbol": "circle"
         },
         "mode": "markers",
         "name": "D",
         "text": "",
         "type": "scatter",
         "x": [
          0.2755716670365263,
          -1.4107567274282897,
          0.6541175742867782,
          1.9674690515547126,
          1.256596339268459,
          0.523856596662497,
          -0.8969265311525533,
          0.3244140138558535,
          -0.9950241003805131,
          0.010323270077411526,
          -0.4081624657415359,
          0.856972738882899,
          0.04068662059895318,
          -1.2944868481985685,
          -0.9619587879235344,
          -1.2789542109730379,
          -0.9026009083226586,
          -0.30943964771853477,
          1.4669276807914478,
          2.1886965346332614,
          -0.7853005063471961,
          -1.7956697006953894,
          -1.561114867168884,
          -0.14455531064454316,
          0.4097967940659489,
          0.027689805529984155,
          -0.8497038505348563,
          1.8046874328359785,
          0.7071894503644003,
          1.213741530303425,
          -1.0343725538212367,
          0.22659112518910376,
          -1.1486822151076266,
          0.9966989811826483,
          0.4142349713487508,
          1.0253873908752684,
          -0.6344711510801252,
          0.2736544613480108,
          0.10304790113170942,
          -0.03298524733362019,
          0.5935028001089265,
          0.4838846773154546,
          0.8732381580494233,
          1.4128524795674415,
          0.08490496568549535,
          0.050290802392600024,
          -0.46573622578532187,
          0.18929328771708429,
          0.022354739248472047,
          0.18032179012293742,
          -0.5383926430861103,
          0.6349278683681299,
          0.7460618503587655,
          0.6143492711346112,
          1.1800052422773377,
          -0.4317198762713371,
          -0.39825819636098175,
          0.020492888094452415,
          0.26054148974539326,
          0.35542164302954893,
          -0.09632068069538566,
          1.1880737687482943,
          0.7622480573510461,
          -0.12954313804362508,
          0.6448810312697735,
          0.14237852278024538,
          -1.254266568431477,
          -0.4390979624690971,
          -0.7899958009345055,
          -0.30993485012088473,
          0.6722028469700168,
          -0.7823208404463984,
          0.5862555713819035,
          1.2177004118684112,
          1.587168629736668,
          0.43377784098629774,
          0.2796177411902997,
          0.8470418963750924,
          0.3360985288016682,
          0.9208215794336971,
          0.002407301316962099,
          0.00458636300942406,
          0.9329535515195241,
          -0.7517379185041624,
          1.1400847378001369,
          -1.9844115112198117,
          1.268566939128557,
          -0.0334254762745057,
          -1.6953738158116232,
          -0.8040408315832263,
          0.016360777148160116,
          0.41731413370847836,
          -0.38523140506373255,
          1.2970812498450508,
          -2.236660366102504,
          -0.5882604503630262,
          -0.2731599067897886,
          -0.29682518018130133,
          0.6461631547594263,
          0.60302821358222
         ],
         "xaxis": "x15",
         "y": [
          0.3643930281255974,
          0.15026292366620095,
          1.2187222278603946,
          -0.8659906012809404,
          0.6004784913268533,
          -1.0589820545230748,
          -1.5683314423426904,
          -1.6539365309773515,
          0.12136885230734451,
          1.769195740544522,
          -0.34786923195499164,
          -0.5611026339790515,
          1.884395043792925,
          0.10554293170215406,
          -0.6971983382812603,
          0.7833018925568376,
          -2.300638357051978,
          -1.3172806218596724,
          -0.04373228510009631,
          -1.2671251518663433,
          1.3682141073747136,
          0.1758901613320038,
          0.4131184697361528,
          -0.13307235755723854,
          -0.09343541524988579,
          -0.23793992896567595,
          0.37511476141478445,
          1.5348806704194566,
          -0.9690143836986986,
          -0.4361298995213377,
          0.11884415029697731,
          0.7053708211848962,
          -1.170756619547385,
          0.12391062586154639,
          -1.775733651033394,
          -1.7025147144806678,
          0.24120216357934682,
          -0.05909560823662816,
          0.6990921904976213,
          -1.2551961134773182,
          -0.190020144313903,
          -1.2001001024950408,
          0.6274370541851635,
          0.5015803990467228,
          1.7377383170505403,
          0.7669569890905374,
          -0.591194403818167,
          -1.184929573922818,
          -0.09713963731436984,
          2.2273843627971575,
          -1.2140642939832837,
          -0.726190654922945,
          0.21963148157113957,
          -0.2669805745888528,
          -0.767942069013212,
          -0.1521855580871152,
          -0.3904159798584094,
          1.2739452686099946,
          0.36218314088967013,
          0.11030818464201156,
          1.9268791207613563,
          0.5487869697256245,
          -0.9762768663466627,
          1.3932777236238698,
          0.7258730775669255,
          -1.94063820760366,
          -0.5616258682969569,
          -1.045963556303688,
          -0.046928354294379034,
          -0.6985230840516604,
          -0.09137824514435089,
          0.11975928366817555,
          0.5719600766112413,
          -0.5602018420934456,
          -1.3733210357679502,
          0.930729614688202,
          -1.2865839708266649,
          0.24263820697068555,
          -0.6503235979872184,
          0.9780605553222481,
          0.2058777005882192,
          -0.08601947943729862,
          0.4341754032068352,
          -0.836596194783516,
          -0.5578839609069209,
          -0.5134003010550453,
          0.2902632694148725,
          -2.69040970394117,
          0.9976251276467392,
          1.5258496506679962,
          -0.09914102682089235,
          -1.2196458165465838,
          1.8644668321972602,
          1.0079481290352872,
          -0.4500239322508063,
          0.8962399016639363,
          -0.37922022639110614,
          0.2181399664309546,
          -0.12843420402850228,
          2.1360706839894226
         ],
         "yaxis": "y15"
        },
        {
         "histfunc": "count",
         "histnorm": "",
         "marker": {
          "color": "rgba(128, 0, 128, 1.0)",
          "line": {
           "color": "#4D5663",
           "width": 1.3
          }
         },
         "name": "D",
         "nbinsx": 10,
         "opacity": 0.8,
         "orientation": "v",
         "type": "histogram",
         "x": [
          0.3643930281255974,
          0.15026292366620095,
          1.2187222278603946,
          -0.8659906012809404,
          0.6004784913268533,
          -1.0589820545230748,
          -1.5683314423426904,
          -1.6539365309773515,
          0.12136885230734451,
          1.769195740544522,
          -0.34786923195499164,
          -0.5611026339790515,
          1.884395043792925,
          0.10554293170215406,
          -0.6971983382812603,
          0.7833018925568376,
          -2.300638357051978,
          -1.3172806218596724,
          -0.04373228510009631,
          -1.2671251518663433,
          1.3682141073747136,
          0.1758901613320038,
          0.4131184697361528,
          -0.13307235755723854,
          -0.09343541524988579,
          -0.23793992896567595,
          0.37511476141478445,
          1.5348806704194566,
          -0.9690143836986986,
          -0.4361298995213377,
          0.11884415029697731,
          0.7053708211848962,
          -1.170756619547385,
          0.12391062586154639,
          -1.775733651033394,
          -1.7025147144806678,
          0.24120216357934682,
          -0.05909560823662816,
          0.6990921904976213,
          -1.2551961134773182,
          -0.190020144313903,
          -1.2001001024950408,
          0.6274370541851635,
          0.5015803990467228,
          1.7377383170505403,
          0.7669569890905374,
          -0.591194403818167,
          -1.184929573922818,
          -0.09713963731436984,
          2.2273843627971575,
          -1.2140642939832837,
          -0.726190654922945,
          0.21963148157113957,
          -0.2669805745888528,
          -0.767942069013212,
          -0.1521855580871152,
          -0.3904159798584094,
          1.2739452686099946,
          0.36218314088967013,
          0.11030818464201156,
          1.9268791207613563,
          0.5487869697256245,
          -0.9762768663466627,
          1.3932777236238698,
          0.7258730775669255,
          -1.94063820760366,
          -0.5616258682969569,
          -1.045963556303688,
          -0.046928354294379034,
          -0.6985230840516604,
          -0.09137824514435089,
          0.11975928366817555,
          0.5719600766112413,
          -0.5602018420934456,
          -1.3733210357679502,
          0.930729614688202,
          -1.2865839708266649,
          0.24263820697068555,
          -0.6503235979872184,
          0.9780605553222481,
          0.2058777005882192,
          -0.08601947943729862,
          0.4341754032068352,
          -0.836596194783516,
          -0.5578839609069209,
          -0.5134003010550453,
          0.2902632694148725,
          -2.69040970394117,
          0.9976251276467392,
          1.5258496506679962,
          -0.09914102682089235,
          -1.2196458165465838,
          1.8644668321972602,
          1.0079481290352872,
          -0.4500239322508063,
          0.8962399016639363,
          -0.37922022639110614,
          0.2181399664309546,
          -0.12843420402850228,
          2.1360706839894226
         ],
         "xaxis": "x16",
         "yaxis": "y16"
        }
       ],
       "layout": {
        "bargap": 0.02,
        "legend": {
         "bgcolor": "#F5F6F9",
         "font": {
          "color": "#4D5663"
         }
        },
        "paper_bgcolor": "#F5F6F9",
        "plot_bgcolor": "#F5F6F9",
        "showlegend": false,
        "template": {
         "data": {
          "bar": [
           {
            "error_x": {
             "color": "#2a3f5f"
            },
            "error_y": {
             "color": "#2a3f5f"
            },
            "marker": {
             "line": {
              "color": "#E5ECF6",
              "width": 0.5
             }
            },
            "type": "bar"
           }
          ],
          "barpolar": [
           {
            "marker": {
             "line": {
              "color": "#E5ECF6",
              "width": 0.5
             }
            },
            "type": "barpolar"
           }
          ],
          "carpet": [
           {
            "aaxis": {
             "endlinecolor": "#2a3f5f",
             "gridcolor": "white",
             "linecolor": "white",
             "minorgridcolor": "white",
             "startlinecolor": "#2a3f5f"
            },
            "baxis": {
             "endlinecolor": "#2a3f5f",
             "gridcolor": "white",
             "linecolor": "white",
             "minorgridcolor": "white",
             "startlinecolor": "#2a3f5f"
            },
            "type": "carpet"
           }
          ],
          "choropleth": [
           {
            "colorbar": {
             "outlinewidth": 0,
             "ticks": ""
            },
            "type": "choropleth"
           }
          ],
          "contour": [
           {
            "colorbar": {
             "outlinewidth": 0,
             "ticks": ""
            },
            "colorscale": [
             [
              0,
              "#0d0887"
             ],
             [
              0.1111111111111111,
              "#46039f"
             ],
             [
              0.2222222222222222,
              "#7201a8"
             ],
             [
              0.3333333333333333,
              "#9c179e"
             ],
             [
              0.4444444444444444,
              "#bd3786"
             ],
             [
              0.5555555555555556,
              "#d8576b"
             ],
             [
              0.6666666666666666,
              "#ed7953"
             ],
             [
              0.7777777777777778,
              "#fb9f3a"
             ],
             [
              0.8888888888888888,
              "#fdca26"
             ],
             [
              1,
              "#f0f921"
             ]
            ],
            "type": "contour"
           }
          ],
          "contourcarpet": [
           {
            "colorbar": {
             "outlinewidth": 0,
             "ticks": ""
            },
            "type": "contourcarpet"
           }
          ],
          "heatmap": [
           {
            "colorbar": {
             "outlinewidth": 0,
             "ticks": ""
            },
            "colorscale": [
             [
              0,
              "#0d0887"
             ],
             [
              0.1111111111111111,
              "#46039f"
             ],
             [
              0.2222222222222222,
              "#7201a8"
             ],
             [
              0.3333333333333333,
              "#9c179e"
             ],
             [
              0.4444444444444444,
              "#bd3786"
             ],
             [
              0.5555555555555556,
              "#d8576b"
             ],
             [
              0.6666666666666666,
              "#ed7953"
             ],
             [
              0.7777777777777778,
              "#fb9f3a"
             ],
             [
              0.8888888888888888,
              "#fdca26"
             ],
             [
              1,
              "#f0f921"
             ]
            ],
            "type": "heatmap"
           }
          ],
          "heatmapgl": [
           {
            "colorbar": {
             "outlinewidth": 0,
             "ticks": ""
            },
            "colorscale": [
             [
              0,
              "#0d0887"
             ],
             [
              0.1111111111111111,
              "#46039f"
             ],
             [
              0.2222222222222222,
              "#7201a8"
             ],
             [
              0.3333333333333333,
              "#9c179e"
             ],
             [
              0.4444444444444444,
              "#bd3786"
             ],
             [
              0.5555555555555556,
              "#d8576b"
             ],
             [
              0.6666666666666666,
              "#ed7953"
             ],
             [
              0.7777777777777778,
              "#fb9f3a"
             ],
             [
              0.8888888888888888,
              "#fdca26"
             ],
             [
              1,
              "#f0f921"
             ]
            ],
            "type": "heatmapgl"
           }
          ],
          "histogram": [
           {
            "marker": {
             "colorbar": {
              "outlinewidth": 0,
              "ticks": ""
             }
            },
            "type": "histogram"
           }
          ],
          "histogram2d": [
           {
            "colorbar": {
             "outlinewidth": 0,
             "ticks": ""
            },
            "colorscale": [
             [
              0,
              "#0d0887"
             ],
             [
              0.1111111111111111,
              "#46039f"
             ],
             [
              0.2222222222222222,
              "#7201a8"
             ],
             [
              0.3333333333333333,
              "#9c179e"
             ],
             [
              0.4444444444444444,
              "#bd3786"
             ],
             [
              0.5555555555555556,
              "#d8576b"
             ],
             [
              0.6666666666666666,
              "#ed7953"
             ],
             [
              0.7777777777777778,
              "#fb9f3a"
             ],
             [
              0.8888888888888888,
              "#fdca26"
             ],
             [
              1,
              "#f0f921"
             ]
            ],
            "type": "histogram2d"
           }
          ],
          "histogram2dcontour": [
           {
            "colorbar": {
             "outlinewidth": 0,
             "ticks": ""
            },
            "colorscale": [
             [
              0,
              "#0d0887"
             ],
             [
              0.1111111111111111,
              "#46039f"
             ],
             [
              0.2222222222222222,
              "#7201a8"
             ],
             [
              0.3333333333333333,
              "#9c179e"
             ],
             [
              0.4444444444444444,
              "#bd3786"
             ],
             [
              0.5555555555555556,
              "#d8576b"
             ],
             [
              0.6666666666666666,
              "#ed7953"
             ],
             [
              0.7777777777777778,
              "#fb9f3a"
             ],
             [
              0.8888888888888888,
              "#fdca26"
             ],
             [
              1,
              "#f0f921"
             ]
            ],
            "type": "histogram2dcontour"
           }
          ],
          "mesh3d": [
           {
            "colorbar": {
             "outlinewidth": 0,
             "ticks": ""
            },
            "type": "mesh3d"
           }
          ],
          "parcoords": [
           {
            "line": {
             "colorbar": {
              "outlinewidth": 0,
              "ticks": ""
             }
            },
            "type": "parcoords"
           }
          ],
          "pie": [
           {
            "automargin": true,
            "type": "pie"
           }
          ],
          "scatter": [
           {
            "marker": {
             "colorbar": {
              "outlinewidth": 0,
              "ticks": ""
             }
            },
            "type": "scatter"
           }
          ],
          "scatter3d": [
           {
            "line": {
             "colorbar": {
              "outlinewidth": 0,
              "ticks": ""
             }
            },
            "marker": {
             "colorbar": {
              "outlinewidth": 0,
              "ticks": ""
             }
            },
            "type": "scatter3d"
           }
          ],
          "scattercarpet": [
           {
            "marker": {
             "colorbar": {
              "outlinewidth": 0,
              "ticks": ""
             }
            },
            "type": "scattercarpet"
           }
          ],
          "scattergeo": [
           {
            "marker": {
             "colorbar": {
              "outlinewidth": 0,
              "ticks": ""
             }
            },
            "type": "scattergeo"
           }
          ],
          "scattergl": [
           {
            "marker": {
             "colorbar": {
              "outlinewidth": 0,
              "ticks": ""
             }
            },
            "type": "scattergl"
           }
          ],
          "scattermapbox": [
           {
            "marker": {
             "colorbar": {
              "outlinewidth": 0,
              "ticks": ""
             }
            },
            "type": "scattermapbox"
           }
          ],
          "scatterpolar": [
           {
            "marker": {
             "colorbar": {
              "outlinewidth": 0,
              "ticks": ""
             }
            },
            "type": "scatterpolar"
           }
          ],
          "scatterpolargl": [
           {
            "marker": {
             "colorbar": {
              "outlinewidth": 0,
              "ticks": ""
             }
            },
            "type": "scatterpolargl"
           }
          ],
          "scatterternary": [
           {
            "marker": {
             "colorbar": {
              "outlinewidth": 0,
              "ticks": ""
             }
            },
            "type": "scatterternary"
           }
          ],
          "surface": [
           {
            "colorbar": {
             "outlinewidth": 0,
             "ticks": ""
            },
            "colorscale": [
             [
              0,
              "#0d0887"
             ],
             [
              0.1111111111111111,
              "#46039f"
             ],
             [
              0.2222222222222222,
              "#7201a8"
             ],
             [
              0.3333333333333333,
              "#9c179e"
             ],
             [
              0.4444444444444444,
              "#bd3786"
             ],
             [
              0.5555555555555556,
              "#d8576b"
             ],
             [
              0.6666666666666666,
              "#ed7953"
             ],
             [
              0.7777777777777778,
              "#fb9f3a"
             ],
             [
              0.8888888888888888,
              "#fdca26"
             ],
             [
              1,
              "#f0f921"
             ]
            ],
            "type": "surface"
           }
          ],
          "table": [
           {
            "cells": {
             "fill": {
              "color": "#EBF0F8"
             },
             "line": {
              "color": "white"
             }
            },
            "header": {
             "fill": {
              "color": "#C8D4E3"
             },
             "line": {
              "color": "white"
             }
            },
            "type": "table"
           }
          ]
         },
         "layout": {
          "annotationdefaults": {
           "arrowcolor": "#2a3f5f",
           "arrowhead": 0,
           "arrowwidth": 1
          },
          "coloraxis": {
           "colorbar": {
            "outlinewidth": 0,
            "ticks": ""
           }
          },
          "colorscale": {
           "diverging": [
            [
             0,
             "#8e0152"
            ],
            [
             0.1,
             "#c51b7d"
            ],
            [
             0.2,
             "#de77ae"
            ],
            [
             0.3,
             "#f1b6da"
            ],
            [
             0.4,
             "#fde0ef"
            ],
            [
             0.5,
             "#f7f7f7"
            ],
            [
             0.6,
             "#e6f5d0"
            ],
            [
             0.7,
             "#b8e186"
            ],
            [
             0.8,
             "#7fbc41"
            ],
            [
             0.9,
             "#4d9221"
            ],
            [
             1,
             "#276419"
            ]
           ],
           "sequential": [
            [
             0,
             "#0d0887"
            ],
            [
             0.1111111111111111,
             "#46039f"
            ],
            [
             0.2222222222222222,
             "#7201a8"
            ],
            [
             0.3333333333333333,
             "#9c179e"
            ],
            [
             0.4444444444444444,
             "#bd3786"
            ],
            [
             0.5555555555555556,
             "#d8576b"
            ],
            [
             0.6666666666666666,
             "#ed7953"
            ],
            [
             0.7777777777777778,
             "#fb9f3a"
            ],
            [
             0.8888888888888888,
             "#fdca26"
            ],
            [
             1,
             "#f0f921"
            ]
           ],
           "sequentialminus": [
            [
             0,
             "#0d0887"
            ],
            [
             0.1111111111111111,
             "#46039f"
            ],
            [
             0.2222222222222222,
             "#7201a8"
            ],
            [
             0.3333333333333333,
             "#9c179e"
            ],
            [
             0.4444444444444444,
             "#bd3786"
            ],
            [
             0.5555555555555556,
             "#d8576b"
            ],
            [
             0.6666666666666666,
             "#ed7953"
            ],
            [
             0.7777777777777778,
             "#fb9f3a"
            ],
            [
             0.8888888888888888,
             "#fdca26"
            ],
            [
             1,
             "#f0f921"
            ]
           ]
          },
          "colorway": [
           "#636efa",
           "#EF553B",
           "#00cc96",
           "#ab63fa",
           "#FFA15A",
           "#19d3f3",
           "#FF6692",
           "#B6E880",
           "#FF97FF",
           "#FECB52"
          ],
          "font": {
           "color": "#2a3f5f"
          },
          "geo": {
           "bgcolor": "white",
           "lakecolor": "white",
           "landcolor": "#E5ECF6",
           "showlakes": true,
           "showland": true,
           "subunitcolor": "white"
          },
          "hoverlabel": {
           "align": "left"
          },
          "hovermode": "closest",
          "mapbox": {
           "style": "light"
          },
          "paper_bgcolor": "white",
          "plot_bgcolor": "#E5ECF6",
          "polar": {
           "angularaxis": {
            "gridcolor": "white",
            "linecolor": "white",
            "ticks": ""
           },
           "bgcolor": "#E5ECF6",
           "radialaxis": {
            "gridcolor": "white",
            "linecolor": "white",
            "ticks": ""
           }
          },
          "scene": {
           "xaxis": {
            "backgroundcolor": "#E5ECF6",
            "gridcolor": "white",
            "gridwidth": 2,
            "linecolor": "white",
            "showbackground": true,
            "ticks": "",
            "zerolinecolor": "white"
           },
           "yaxis": {
            "backgroundcolor": "#E5ECF6",
            "gridcolor": "white",
            "gridwidth": 2,
            "linecolor": "white",
            "showbackground": true,
            "ticks": "",
            "zerolinecolor": "white"
           },
           "zaxis": {
            "backgroundcolor": "#E5ECF6",
            "gridcolor": "white",
            "gridwidth": 2,
            "linecolor": "white",
            "showbackground": true,
            "ticks": "",
            "zerolinecolor": "white"
           }
          },
          "shapedefaults": {
           "line": {
            "color": "#2a3f5f"
           }
          },
          "ternary": {
           "aaxis": {
            "gridcolor": "white",
            "linecolor": "white",
            "ticks": ""
           },
           "baxis": {
            "gridcolor": "white",
            "linecolor": "white",
            "ticks": ""
           },
           "bgcolor": "#E5ECF6",
           "caxis": {
            "gridcolor": "white",
            "linecolor": "white",
            "ticks": ""
           }
          },
          "title": {
           "x": 0.05
          },
          "xaxis": {
           "automargin": true,
           "gridcolor": "white",
           "linecolor": "white",
           "ticks": "",
           "title": {
            "standoff": 15
           },
           "zerolinecolor": "white",
           "zerolinewidth": 2
          },
          "yaxis": {
           "automargin": true,
           "gridcolor": "white",
           "linecolor": "white",
           "ticks": "",
           "title": {
            "standoff": 15
           },
           "zerolinecolor": "white",
           "zerolinewidth": 2
          }
         }
        },
        "title": {
         "font": {
          "color": "#4D5663"
         }
        },
        "xaxis": {
         "anchor": "y",
         "domain": [
          0,
          0.2125
         ],
         "gridcolor": "#E1E5ED",
         "showgrid": false,
         "tickfont": {
          "color": "#4D5663"
         },
         "title": {
          "font": {
           "color": "#4D5663"
          },
          "text": ""
         },
         "zerolinecolor": "#E1E5ED"
        },
        "xaxis10": {
         "anchor": "y10",
         "domain": [
          0.2625,
          0.475
         ],
         "gridcolor": "#E1E5ED",
         "showgrid": false,
         "tickfont": {
          "color": "#4D5663"
         },
         "title": {
          "font": {
           "color": "#4D5663"
          },
          "text": ""
         },
         "zerolinecolor": "#E1E5ED"
        },
        "xaxis11": {
         "anchor": "y11",
         "domain": [
          0.525,
          0.7375
         ],
         "gridcolor": "#E1E5ED",
         "showgrid": false,
         "tickfont": {
          "color": "#4D5663"
         },
         "title": {
          "font": {
           "color": "#4D5663"
          },
          "text": ""
         },
         "zerolinecolor": "#E1E5ED"
        },
        "xaxis12": {
         "anchor": "y12",
         "domain": [
          0.7875,
          1
         ],
         "gridcolor": "#E1E5ED",
         "showgrid": false,
         "tickfont": {
          "color": "#4D5663"
         },
         "title": {
          "font": {
           "color": "#4D5663"
          },
          "text": ""
         },
         "zerolinecolor": "#E1E5ED"
        },
        "xaxis13": {
         "anchor": "y13",
         "domain": [
          0,
          0.2125
         ],
         "gridcolor": "#E1E5ED",
         "showgrid": false,
         "tickfont": {
          "color": "#4D5663"
         },
         "title": {
          "font": {
           "color": "#4D5663"
          },
          "text": ""
         },
         "zerolinecolor": "#E1E5ED"
        },
        "xaxis14": {
         "anchor": "y14",
         "domain": [
          0.2625,
          0.475
         ],
         "gridcolor": "#E1E5ED",
         "showgrid": false,
         "tickfont": {
          "color": "#4D5663"
         },
         "title": {
          "font": {
           "color": "#4D5663"
          },
          "text": ""
         },
         "zerolinecolor": "#E1E5ED"
        },
        "xaxis15": {
         "anchor": "y15",
         "domain": [
          0.525,
          0.7375
         ],
         "gridcolor": "#E1E5ED",
         "showgrid": false,
         "tickfont": {
          "color": "#4D5663"
         },
         "title": {
          "font": {
           "color": "#4D5663"
          },
          "text": ""
         },
         "zerolinecolor": "#E1E5ED"
        },
        "xaxis16": {
         "anchor": "y16",
         "domain": [
          0.7875,
          1
         ],
         "gridcolor": "#E1E5ED",
         "showgrid": false,
         "tickfont": {
          "color": "#4D5663"
         },
         "title": {
          "font": {
           "color": "#4D5663"
          },
          "text": ""
         },
         "zerolinecolor": "#E1E5ED"
        },
        "xaxis2": {
         "anchor": "y2",
         "domain": [
          0.2625,
          0.475
         ],
         "gridcolor": "#E1E5ED",
         "showgrid": false,
         "tickfont": {
          "color": "#4D5663"
         },
         "title": {
          "font": {
           "color": "#4D5663"
          },
          "text": ""
         },
         "zerolinecolor": "#E1E5ED"
        },
        "xaxis3": {
         "anchor": "y3",
         "domain": [
          0.525,
          0.7375
         ],
         "gridcolor": "#E1E5ED",
         "showgrid": false,
         "tickfont": {
          "color": "#4D5663"
         },
         "title": {
          "font": {
           "color": "#4D5663"
          },
          "text": ""
         },
         "zerolinecolor": "#E1E5ED"
        },
        "xaxis4": {
         "anchor": "y4",
         "domain": [
          0.7875,
          1
         ],
         "gridcolor": "#E1E5ED",
         "showgrid": false,
         "tickfont": {
          "color": "#4D5663"
         },
         "title": {
          "font": {
           "color": "#4D5663"
          },
          "text": ""
         },
         "zerolinecolor": "#E1E5ED"
        },
        "xaxis5": {
         "anchor": "y5",
         "domain": [
          0,
          0.2125
         ],
         "gridcolor": "#E1E5ED",
         "showgrid": false,
         "tickfont": {
          "color": "#4D5663"
         },
         "title": {
          "font": {
           "color": "#4D5663"
          },
          "text": ""
         },
         "zerolinecolor": "#E1E5ED"
        },
        "xaxis6": {
         "anchor": "y6",
         "domain": [
          0.2625,
          0.475
         ],
         "gridcolor": "#E1E5ED",
         "showgrid": false,
         "tickfont": {
          "color": "#4D5663"
         },
         "title": {
          "font": {
           "color": "#4D5663"
          },
          "text": ""
         },
         "zerolinecolor": "#E1E5ED"
        },
        "xaxis7": {
         "anchor": "y7",
         "domain": [
          0.525,
          0.7375
         ],
         "gridcolor": "#E1E5ED",
         "showgrid": false,
         "tickfont": {
          "color": "#4D5663"
         },
         "title": {
          "font": {
           "color": "#4D5663"
          },
          "text": ""
         },
         "zerolinecolor": "#E1E5ED"
        },
        "xaxis8": {
         "anchor": "y8",
         "domain": [
          0.7875,
          1
         ],
         "gridcolor": "#E1E5ED",
         "showgrid": false,
         "tickfont": {
          "color": "#4D5663"
         },
         "title": {
          "font": {
           "color": "#4D5663"
          },
          "text": ""
         },
         "zerolinecolor": "#E1E5ED"
        },
        "xaxis9": {
         "anchor": "y9",
         "domain": [
          0,
          0.2125
         ],
         "gridcolor": "#E1E5ED",
         "showgrid": false,
         "tickfont": {
          "color": "#4D5663"
         },
         "title": {
          "font": {
           "color": "#4D5663"
          },
          "text": ""
         },
         "zerolinecolor": "#E1E5ED"
        },
        "yaxis": {
         "anchor": "x",
         "domain": [
          0.8025,
          1
         ],
         "gridcolor": "#E1E5ED",
         "showgrid": false,
         "tickfont": {
          "color": "#4D5663"
         },
         "title": {
          "font": {
           "color": "#4D5663"
          },
          "text": ""
         },
         "zerolinecolor": "#E1E5ED"
        },
        "yaxis10": {
         "anchor": "x10",
         "domain": [
          0.2675,
          0.465
         ],
         "gridcolor": "#E1E5ED",
         "showgrid": false,
         "tickfont": {
          "color": "#4D5663"
         },
         "title": {
          "font": {
           "color": "#4D5663"
          },
          "text": ""
         },
         "zerolinecolor": "#E1E5ED"
        },
        "yaxis11": {
         "anchor": "x11",
         "domain": [
          0.2675,
          0.465
         ],
         "gridcolor": "#E1E5ED",
         "showgrid": false,
         "tickfont": {
          "color": "#4D5663"
         },
         "title": {
          "font": {
           "color": "#4D5663"
          },
          "text": ""
         },
         "zerolinecolor": "#E1E5ED"
        },
        "yaxis12": {
         "anchor": "x12",
         "domain": [
          0.2675,
          0.465
         ],
         "gridcolor": "#E1E5ED",
         "showgrid": false,
         "tickfont": {
          "color": "#4D5663"
         },
         "title": {
          "font": {
           "color": "#4D5663"
          },
          "text": ""
         },
         "zerolinecolor": "#E1E5ED"
        },
        "yaxis13": {
         "anchor": "x13",
         "domain": [
          0,
          0.1975
         ],
         "gridcolor": "#E1E5ED",
         "showgrid": false,
         "tickfont": {
          "color": "#4D5663"
         },
         "title": {
          "font": {
           "color": "#4D5663"
          },
          "text": ""
         },
         "zerolinecolor": "#E1E5ED"
        },
        "yaxis14": {
         "anchor": "x14",
         "domain": [
          0,
          0.1975
         ],
         "gridcolor": "#E1E5ED",
         "showgrid": false,
         "tickfont": {
          "color": "#4D5663"
         },
         "title": {
          "font": {
           "color": "#4D5663"
          },
          "text": ""
         },
         "zerolinecolor": "#E1E5ED"
        },
        "yaxis15": {
         "anchor": "x15",
         "domain": [
          0,
          0.1975
         ],
         "gridcolor": "#E1E5ED",
         "showgrid": false,
         "tickfont": {
          "color": "#4D5663"
         },
         "title": {
          "font": {
           "color": "#4D5663"
          },
          "text": ""
         },
         "zerolinecolor": "#E1E5ED"
        },
        "yaxis16": {
         "anchor": "x16",
         "domain": [
          0,
          0.1975
         ],
         "gridcolor": "#E1E5ED",
         "showgrid": false,
         "tickfont": {
          "color": "#4D5663"
         },
         "title": {
          "font": {
           "color": "#4D5663"
          },
          "text": ""
         },
         "zerolinecolor": "#E1E5ED"
        },
        "yaxis2": {
         "anchor": "x2",
         "domain": [
          0.8025,
          1
         ],
         "gridcolor": "#E1E5ED",
         "showgrid": false,
         "tickfont": {
          "color": "#4D5663"
         },
         "title": {
          "font": {
           "color": "#4D5663"
          },
          "text": ""
         },
         "zerolinecolor": "#E1E5ED"
        },
        "yaxis3": {
         "anchor": "x3",
         "domain": [
          0.8025,
          1
         ],
         "gridcolor": "#E1E5ED",
         "showgrid": false,
         "tickfont": {
          "color": "#4D5663"
         },
         "title": {
          "font": {
           "color": "#4D5663"
          },
          "text": ""
         },
         "zerolinecolor": "#E1E5ED"
        },
        "yaxis4": {
         "anchor": "x4",
         "domain": [
          0.8025,
          1
         ],
         "gridcolor": "#E1E5ED",
         "showgrid": false,
         "tickfont": {
          "color": "#4D5663"
         },
         "title": {
          "font": {
           "color": "#4D5663"
          },
          "text": ""
         },
         "zerolinecolor": "#E1E5ED"
        },
        "yaxis5": {
         "anchor": "x5",
         "domain": [
          0.535,
          0.7325
         ],
         "gridcolor": "#E1E5ED",
         "showgrid": false,
         "tickfont": {
          "color": "#4D5663"
         },
         "title": {
          "font": {
           "color": "#4D5663"
          },
          "text": ""
         },
         "zerolinecolor": "#E1E5ED"
        },
        "yaxis6": {
         "anchor": "x6",
         "domain": [
          0.535,
          0.7325
         ],
         "gridcolor": "#E1E5ED",
         "showgrid": false,
         "tickfont": {
          "color": "#4D5663"
         },
         "title": {
          "font": {
           "color": "#4D5663"
          },
          "text": ""
         },
         "zerolinecolor": "#E1E5ED"
        },
        "yaxis7": {
         "anchor": "x7",
         "domain": [
          0.535,
          0.7325
         ],
         "gridcolor": "#E1E5ED",
         "showgrid": false,
         "tickfont": {
          "color": "#4D5663"
         },
         "title": {
          "font": {
           "color": "#4D5663"
          },
          "text": ""
         },
         "zerolinecolor": "#E1E5ED"
        },
        "yaxis8": {
         "anchor": "x8",
         "domain": [
          0.535,
          0.7325
         ],
         "gridcolor": "#E1E5ED",
         "showgrid": false,
         "tickfont": {
          "color": "#4D5663"
         },
         "title": {
          "font": {
           "color": "#4D5663"
          },
          "text": ""
         },
         "zerolinecolor": "#E1E5ED"
        },
        "yaxis9": {
         "anchor": "x9",
         "domain": [
          0.2675,
          0.465
         ],
         "gridcolor": "#E1E5ED",
         "showgrid": false,
         "tickfont": {
          "color": "#4D5663"
         },
         "title": {
          "font": {
           "color": "#4D5663"
          },
          "text": ""
         },
         "zerolinecolor": "#E1E5ED"
        }
       }
      },
      "text/html": [
       "<div>\n",
       "        \n",
       "        \n",
       "            <div id=\"9d74ffb8-073a-41da-b04f-f7e8b2189ce5\" class=\"plotly-graph-div\" style=\"height:525px; width:100%;\"></div>\n",
       "            <script type=\"text/javascript\">\n",
       "                require([\"plotly\"], function(Plotly) {\n",
       "                    window.PLOTLYENV=window.PLOTLYENV || {};\n",
       "                    window.PLOTLYENV.BASE_URL='https://plot.ly';\n",
       "                    \n",
       "                if (document.getElementById(\"9d74ffb8-073a-41da-b04f-f7e8b2189ce5\")) {\n",
       "                    Plotly.newPlot(\n",
       "                        '9d74ffb8-073a-41da-b04f-f7e8b2189ce5',\n",
       "                        [{\"histfunc\": \"count\", \"histnorm\": \"\", \"marker\": {\"color\": \"rgba(255, 153, 51, 1.0)\", \"line\": {\"color\": \"#4D5663\", \"width\": 1.3}}, \"name\": \"A\", \"nbinsx\": 10, \"opacity\": 0.8, \"orientation\": \"v\", \"type\": \"histogram\", \"x\": [-2.2330045307590853, -0.9521908995974245, 0.27846606978193117, -0.7497430396641565, -0.8956342510414951, -0.2701922755157396, 0.13378854729598888, -0.10139493386630462, 2.4089945148153924, 2.2798960353709634, 1.536776871530047, -0.4738067773638204, 0.3895763004483561, -0.44813497414482384, -0.04272139930867001, 1.8607472786609707, -0.6439882932495113, 1.2582962916443727, -1.204805217634797, -0.1429158275301282, 1.1677493616360861, -2.6530884634429985, -0.9403827018208064, 0.1496396817935744, 0.04470276113270573, -0.7319557334866961, 0.5233737734533389, -0.4409303064263165, -0.5833238720623664, 0.25649916497690095, -0.30081158546772635, 0.07975881141571715, -2.090321583607134, -0.8712175959679449, -0.6931394651239492, -0.8218402617535678, 1.4418250131499333, 0.3751607269805806, 1.2314240010401805, 0.4199928878005679, -0.1554548985369435, 1.8868088114432202, -0.694422411044866, 1.1436083825779144, 0.7624519963607965, -0.2482247596359065, 1.4414688130029367, 0.22035610962969224, 0.2950496995083218, -0.0002316334366230875, 1.2896860527248302, 1.1265104298484678, -0.0036286696037859285, -0.826340568102362, -1.018582405591517, -1.291063854400129, -0.19008683392694992, -0.763872927674939, 2.0959738808836414, 2.130647594088596, 2.224539281704161, 1.1940475375397548, -0.7876803121312159, 0.969667697580649, 0.9493233327045774, -0.044403311331418185, 0.3895596700750885, -0.014452893562845948, -0.6968071801779312, 0.1614108555208764, -0.12276024863235002, -0.8370581648026316, -0.24705922180806691, -0.10403134026483714, -1.4284743931846275, 0.3535476401056677, -0.10544217505192499, 1.6963828925675466, 0.5915873562228502, 0.9907707442218054, 0.7428977212707456, -0.07200887621832967, 0.00017457906821124856, 0.013110631310684354, 1.9240017540561096, -0.4264462466703405, 0.16219704052654055, 0.4697559969879681, 1.0060845122288846, 0.7676496704361507, -0.9161171095812846, -1.624314104246879, -0.9527835783780093, -0.17739704862730749, 1.0650077734242744, 0.43385923873565196, 1.6979048817374556, -1.853810177762625, 0.9776180877321272, -0.8272963834606755], \"xaxis\": \"x\", \"yaxis\": \"y\"}, {\"line\": {\"color\": \"rgba(128, 128, 128, 1.0)\", \"dash\": \"solid\", \"shape\": \"linear\", \"width\": 1.3}, \"marker\": {\"size\": 2, \"symbol\": \"circle\"}, \"mode\": \"markers\", \"name\": \"A\", \"text\": \"\", \"type\": \"scatter\", \"x\": [-0.9234838055280741, 0.1837906133650663, 0.9549006334057075, -0.8172743696437627, 0.3174431081329297, 0.21808918953745687, 0.6815729465243698, -0.262815565993623, 0.0013540987106652831, -0.27062784691556646, -0.8728212153054438, -0.6131662144165188, 0.8217767277509427, -0.37803366564505864, -0.38120900740011365, 0.615824227870488, -0.3479271621381179, -0.14022948149868633, 0.4715134428149978, -1.3875270322229551, 2.291695981953175, -0.4233067765902022, -0.4010460654069656, 1.4953409235326716, 0.055794820889501835, 1.1085643506927436, -0.34084079925276806, -0.04448454401577478, -0.7068197188417409, -0.28196538329893095, 0.35645508606988024, -1.9319911284139681, 0.30676889430031434, 1.0195069345873582, 0.5815106975487212, 0.6675437405444582, -1.451462224194573, 1.7537992807886817, -0.5223131305426536, -2.0899011210520055, -1.1868763568302543, -1.654932061201535, -1.6874933947593838, -1.2156525913674665, 1.6794846829271606, 0.7092856518073, 0.6629875673201554, -0.6411635757117996, -1.1881576800789335, -1.160918932012118, -0.014452385012939719, -0.8158088796870766, -1.112112811778674, -0.4134909737727676, 0.7679354852691683, -0.5288693699646896, 0.966238933639739, 0.5428284262688382, -0.8993016610838763, 1.9686623433577968, -1.1099790369124423, -0.7148053007009889, -0.05035305723891644, -0.2825442564032258, 0.6220386837974622, -0.02607398992073639, -0.12904032210431582, -0.4462530044659881, 1.0919323927621174, -0.2838491101268597, 0.8898082348209791, -0.05344663510556132, 0.6764322455699061, 2.110521685528398, -0.9540742926640376, -0.0709709220358443, -0.05552091480298457, 0.49519307651171957, -0.47214686334867095, -0.43038367094404784, -0.5262311656239208, 0.41668007402483337, -0.46314704835682, 1.1978416309836064, 0.06945342626551727, 0.2852068613579216, -0.9260930337101595, -1.299229452656461, -0.01752394800048146, 1.333737866854547, -1.0027996183786698, 1.3712373857073232, -1.3929633493161442, -2.003173109247321, -0.5638422495748624, -0.08713154635704083, 0.7826639766427661, 1.6599223202958147, 1.8225331731889711, -0.3637271366130778], \"xaxis\": \"x2\", \"y\": [-2.2330045307590853, -0.9521908995974245, 0.27846606978193117, -0.7497430396641565, -0.8956342510414951, -0.2701922755157396, 0.13378854729598888, -0.10139493386630462, 2.4089945148153924, 2.2798960353709634, 1.536776871530047, -0.4738067773638204, 0.3895763004483561, -0.44813497414482384, -0.04272139930867001, 1.8607472786609707, -0.6439882932495113, 1.2582962916443727, -1.204805217634797, -0.1429158275301282, 1.1677493616360861, -2.6530884634429985, -0.9403827018208064, 0.1496396817935744, 0.04470276113270573, -0.7319557334866961, 0.5233737734533389, -0.4409303064263165, -0.5833238720623664, 0.25649916497690095, -0.30081158546772635, 0.07975881141571715, -2.090321583607134, -0.8712175959679449, -0.6931394651239492, -0.8218402617535678, 1.4418250131499333, 0.3751607269805806, 1.2314240010401805, 0.4199928878005679, -0.1554548985369435, 1.8868088114432202, -0.694422411044866, 1.1436083825779144, 0.7624519963607965, -0.2482247596359065, 1.4414688130029367, 0.22035610962969224, 0.2950496995083218, -0.0002316334366230875, 1.2896860527248302, 1.1265104298484678, -0.0036286696037859285, -0.826340568102362, -1.018582405591517, -1.291063854400129, -0.19008683392694992, -0.763872927674939, 2.0959738808836414, 2.130647594088596, 2.224539281704161, 1.1940475375397548, -0.7876803121312159, 0.969667697580649, 0.9493233327045774, -0.044403311331418185, 0.3895596700750885, -0.014452893562845948, -0.6968071801779312, 0.1614108555208764, -0.12276024863235002, -0.8370581648026316, -0.24705922180806691, -0.10403134026483714, -1.4284743931846275, 0.3535476401056677, -0.10544217505192499, 1.6963828925675466, 0.5915873562228502, 0.9907707442218054, 0.7428977212707456, -0.07200887621832967, 0.00017457906821124856, 0.013110631310684354, 1.9240017540561096, -0.4264462466703405, 0.16219704052654055, 0.4697559969879681, 1.0060845122288846, 0.7676496704361507, -0.9161171095812846, -1.624314104246879, -0.9527835783780093, -0.17739704862730749, 1.0650077734242744, 0.43385923873565196, 1.6979048817374556, -1.853810177762625, 0.9776180877321272, -0.8272963834606755], \"yaxis\": \"y2\"}, {\"line\": {\"color\": \"rgba(128, 128, 128, 1.0)\", \"dash\": \"solid\", \"shape\": \"linear\", \"width\": 1.3}, \"marker\": {\"size\": 2, \"symbol\": \"circle\"}, \"mode\": \"markers\", \"name\": \"A\", \"text\": \"\", \"type\": \"scatter\", \"x\": [0.2755716670365263, -1.4107567274282897, 0.6541175742867782, 1.9674690515547126, 1.256596339268459, 0.523856596662497, -0.8969265311525533, 0.3244140138558535, -0.9950241003805131, 0.010323270077411526, -0.4081624657415359, 0.856972738882899, 0.04068662059895318, -1.2944868481985685, -0.9619587879235344, -1.2789542109730379, -0.9026009083226586, -0.30943964771853477, 1.4669276807914478, 2.1886965346332614, -0.7853005063471961, -1.7956697006953894, -1.561114867168884, -0.14455531064454316, 0.4097967940659489, 0.027689805529984155, -0.8497038505348563, 1.8046874328359785, 0.7071894503644003, 1.213741530303425, -1.0343725538212367, 0.22659112518910376, -1.1486822151076266, 0.9966989811826483, 0.4142349713487508, 1.0253873908752684, -0.6344711510801252, 0.2736544613480108, 0.10304790113170942, -0.03298524733362019, 0.5935028001089265, 0.4838846773154546, 0.8732381580494233, 1.4128524795674415, 0.08490496568549535, 0.050290802392600024, -0.46573622578532187, 0.18929328771708429, 0.022354739248472047, 0.18032179012293742, -0.5383926430861103, 0.6349278683681299, 0.7460618503587655, 0.6143492711346112, 1.1800052422773377, -0.4317198762713371, -0.39825819636098175, 0.020492888094452415, 0.26054148974539326, 0.35542164302954893, -0.09632068069538566, 1.1880737687482943, 0.7622480573510461, -0.12954313804362508, 0.6448810312697735, 0.14237852278024538, -1.254266568431477, -0.4390979624690971, -0.7899958009345055, -0.30993485012088473, 0.6722028469700168, -0.7823208404463984, 0.5862555713819035, 1.2177004118684112, 1.587168629736668, 0.43377784098629774, 0.2796177411902997, 0.8470418963750924, 0.3360985288016682, 0.9208215794336971, 0.002407301316962099, 0.00458636300942406, 0.9329535515195241, -0.7517379185041624, 1.1400847378001369, -1.9844115112198117, 1.268566939128557, -0.0334254762745057, -1.6953738158116232, -0.8040408315832263, 0.016360777148160116, 0.41731413370847836, -0.38523140506373255, 1.2970812498450508, -2.236660366102504, -0.5882604503630262, -0.2731599067897886, -0.29682518018130133, 0.6461631547594263, 0.60302821358222], \"xaxis\": \"x3\", \"y\": [-2.2330045307590853, -0.9521908995974245, 0.27846606978193117, -0.7497430396641565, -0.8956342510414951, -0.2701922755157396, 0.13378854729598888, -0.10139493386630462, 2.4089945148153924, 2.2798960353709634, 1.536776871530047, -0.4738067773638204, 0.3895763004483561, -0.44813497414482384, -0.04272139930867001, 1.8607472786609707, -0.6439882932495113, 1.2582962916443727, -1.204805217634797, -0.1429158275301282, 1.1677493616360861, -2.6530884634429985, -0.9403827018208064, 0.1496396817935744, 0.04470276113270573, -0.7319557334866961, 0.5233737734533389, -0.4409303064263165, -0.5833238720623664, 0.25649916497690095, -0.30081158546772635, 0.07975881141571715, -2.090321583607134, -0.8712175959679449, -0.6931394651239492, -0.8218402617535678, 1.4418250131499333, 0.3751607269805806, 1.2314240010401805, 0.4199928878005679, -0.1554548985369435, 1.8868088114432202, -0.694422411044866, 1.1436083825779144, 0.7624519963607965, -0.2482247596359065, 1.4414688130029367, 0.22035610962969224, 0.2950496995083218, -0.0002316334366230875, 1.2896860527248302, 1.1265104298484678, -0.0036286696037859285, -0.826340568102362, -1.018582405591517, -1.291063854400129, -0.19008683392694992, -0.763872927674939, 2.0959738808836414, 2.130647594088596, 2.224539281704161, 1.1940475375397548, -0.7876803121312159, 0.969667697580649, 0.9493233327045774, -0.044403311331418185, 0.3895596700750885, -0.014452893562845948, -0.6968071801779312, 0.1614108555208764, -0.12276024863235002, -0.8370581648026316, -0.24705922180806691, -0.10403134026483714, -1.4284743931846275, 0.3535476401056677, -0.10544217505192499, 1.6963828925675466, 0.5915873562228502, 0.9907707442218054, 0.7428977212707456, -0.07200887621832967, 0.00017457906821124856, 0.013110631310684354, 1.9240017540561096, -0.4264462466703405, 0.16219704052654055, 0.4697559969879681, 1.0060845122288846, 0.7676496704361507, -0.9161171095812846, -1.624314104246879, -0.9527835783780093, -0.17739704862730749, 1.0650077734242744, 0.43385923873565196, 1.6979048817374556, -1.853810177762625, 0.9776180877321272, -0.8272963834606755], \"yaxis\": \"y3\"}, {\"line\": {\"color\": \"rgba(128, 128, 128, 1.0)\", \"dash\": \"solid\", \"shape\": \"linear\", \"width\": 1.3}, \"marker\": {\"size\": 2, \"symbol\": \"circle\"}, \"mode\": \"markers\", \"name\": \"A\", \"text\": \"\", \"type\": \"scatter\", \"x\": [0.3643930281255974, 0.15026292366620095, 1.2187222278603946, -0.8659906012809404, 0.6004784913268533, -1.0589820545230748, -1.5683314423426904, -1.6539365309773515, 0.12136885230734451, 1.769195740544522, -0.34786923195499164, -0.5611026339790515, 1.884395043792925, 0.10554293170215406, -0.6971983382812603, 0.7833018925568376, -2.300638357051978, -1.3172806218596724, -0.04373228510009631, -1.2671251518663433, 1.3682141073747136, 0.1758901613320038, 0.4131184697361528, -0.13307235755723854, -0.09343541524988579, -0.23793992896567595, 0.37511476141478445, 1.5348806704194566, -0.9690143836986986, -0.4361298995213377, 0.11884415029697731, 0.7053708211848962, -1.170756619547385, 0.12391062586154639, -1.775733651033394, -1.7025147144806678, 0.24120216357934682, -0.05909560823662816, 0.6990921904976213, -1.2551961134773182, -0.190020144313903, -1.2001001024950408, 0.6274370541851635, 0.5015803990467228, 1.7377383170505403, 0.7669569890905374, -0.591194403818167, -1.184929573922818, -0.09713963731436984, 2.2273843627971575, -1.2140642939832837, -0.726190654922945, 0.21963148157113957, -0.2669805745888528, -0.767942069013212, -0.1521855580871152, -0.3904159798584094, 1.2739452686099946, 0.36218314088967013, 0.11030818464201156, 1.9268791207613563, 0.5487869697256245, -0.9762768663466627, 1.3932777236238698, 0.7258730775669255, -1.94063820760366, -0.5616258682969569, -1.045963556303688, -0.046928354294379034, -0.6985230840516604, -0.09137824514435089, 0.11975928366817555, 0.5719600766112413, -0.5602018420934456, -1.3733210357679502, 0.930729614688202, -1.2865839708266649, 0.24263820697068555, -0.6503235979872184, 0.9780605553222481, 0.2058777005882192, -0.08601947943729862, 0.4341754032068352, -0.836596194783516, -0.5578839609069209, -0.5134003010550453, 0.2902632694148725, -2.69040970394117, 0.9976251276467392, 1.5258496506679962, -0.09914102682089235, -1.2196458165465838, 1.8644668321972602, 1.0079481290352872, -0.4500239322508063, 0.8962399016639363, -0.37922022639110614, 0.2181399664309546, -0.12843420402850228, 2.1360706839894226], \"xaxis\": \"x4\", \"y\": [-2.2330045307590853, -0.9521908995974245, 0.27846606978193117, -0.7497430396641565, -0.8956342510414951, -0.2701922755157396, 0.13378854729598888, -0.10139493386630462, 2.4089945148153924, 2.2798960353709634, 1.536776871530047, -0.4738067773638204, 0.3895763004483561, -0.44813497414482384, -0.04272139930867001, 1.8607472786609707, -0.6439882932495113, 1.2582962916443727, -1.204805217634797, -0.1429158275301282, 1.1677493616360861, -2.6530884634429985, -0.9403827018208064, 0.1496396817935744, 0.04470276113270573, -0.7319557334866961, 0.5233737734533389, -0.4409303064263165, -0.5833238720623664, 0.25649916497690095, -0.30081158546772635, 0.07975881141571715, -2.090321583607134, -0.8712175959679449, -0.6931394651239492, -0.8218402617535678, 1.4418250131499333, 0.3751607269805806, 1.2314240010401805, 0.4199928878005679, -0.1554548985369435, 1.8868088114432202, -0.694422411044866, 1.1436083825779144, 0.7624519963607965, -0.2482247596359065, 1.4414688130029367, 0.22035610962969224, 0.2950496995083218, -0.0002316334366230875, 1.2896860527248302, 1.1265104298484678, -0.0036286696037859285, -0.826340568102362, -1.018582405591517, -1.291063854400129, -0.19008683392694992, -0.763872927674939, 2.0959738808836414, 2.130647594088596, 2.224539281704161, 1.1940475375397548, -0.7876803121312159, 0.969667697580649, 0.9493233327045774, -0.044403311331418185, 0.3895596700750885, -0.014452893562845948, -0.6968071801779312, 0.1614108555208764, -0.12276024863235002, -0.8370581648026316, -0.24705922180806691, -0.10403134026483714, -1.4284743931846275, 0.3535476401056677, -0.10544217505192499, 1.6963828925675466, 0.5915873562228502, 0.9907707442218054, 0.7428977212707456, -0.07200887621832967, 0.00017457906821124856, 0.013110631310684354, 1.9240017540561096, -0.4264462466703405, 0.16219704052654055, 0.4697559969879681, 1.0060845122288846, 0.7676496704361507, -0.9161171095812846, -1.624314104246879, -0.9527835783780093, -0.17739704862730749, 1.0650077734242744, 0.43385923873565196, 1.6979048817374556, -1.853810177762625, 0.9776180877321272, -0.8272963834606755], \"yaxis\": \"y4\"}, {\"line\": {\"color\": \"rgba(128, 128, 128, 1.0)\", \"dash\": \"solid\", \"shape\": \"linear\", \"width\": 1.3}, \"marker\": {\"size\": 2, \"symbol\": \"circle\"}, \"mode\": \"markers\", \"name\": \"B\", \"text\": \"\", \"type\": \"scatter\", \"x\": [-2.2330045307590853, -0.9521908995974245, 0.27846606978193117, -0.7497430396641565, -0.8956342510414951, -0.2701922755157396, 0.13378854729598888, -0.10139493386630462, 2.4089945148153924, 2.2798960353709634, 1.536776871530047, -0.4738067773638204, 0.3895763004483561, -0.44813497414482384, -0.04272139930867001, 1.8607472786609707, -0.6439882932495113, 1.2582962916443727, -1.204805217634797, -0.1429158275301282, 1.1677493616360861, -2.6530884634429985, -0.9403827018208064, 0.1496396817935744, 0.04470276113270573, -0.7319557334866961, 0.5233737734533389, -0.4409303064263165, -0.5833238720623664, 0.25649916497690095, -0.30081158546772635, 0.07975881141571715, -2.090321583607134, -0.8712175959679449, -0.6931394651239492, -0.8218402617535678, 1.4418250131499333, 0.3751607269805806, 1.2314240010401805, 0.4199928878005679, -0.1554548985369435, 1.8868088114432202, -0.694422411044866, 1.1436083825779144, 0.7624519963607965, -0.2482247596359065, 1.4414688130029367, 0.22035610962969224, 0.2950496995083218, -0.0002316334366230875, 1.2896860527248302, 1.1265104298484678, -0.0036286696037859285, -0.826340568102362, -1.018582405591517, -1.291063854400129, -0.19008683392694992, -0.763872927674939, 2.0959738808836414, 2.130647594088596, 2.224539281704161, 1.1940475375397548, -0.7876803121312159, 0.969667697580649, 0.9493233327045774, -0.044403311331418185, 0.3895596700750885, -0.014452893562845948, -0.6968071801779312, 0.1614108555208764, -0.12276024863235002, -0.8370581648026316, -0.24705922180806691, -0.10403134026483714, -1.4284743931846275, 0.3535476401056677, -0.10544217505192499, 1.6963828925675466, 0.5915873562228502, 0.9907707442218054, 0.7428977212707456, -0.07200887621832967, 0.00017457906821124856, 0.013110631310684354, 1.9240017540561096, -0.4264462466703405, 0.16219704052654055, 0.4697559969879681, 1.0060845122288846, 0.7676496704361507, -0.9161171095812846, -1.624314104246879, -0.9527835783780093, -0.17739704862730749, 1.0650077734242744, 0.43385923873565196, 1.6979048817374556, -1.853810177762625, 0.9776180877321272, -0.8272963834606755], \"xaxis\": \"x5\", \"y\": [-0.9234838055280741, 0.1837906133650663, 0.9549006334057075, -0.8172743696437627, 0.3174431081329297, 0.21808918953745687, 0.6815729465243698, -0.262815565993623, 0.0013540987106652831, -0.27062784691556646, -0.8728212153054438, -0.6131662144165188, 0.8217767277509427, -0.37803366564505864, -0.38120900740011365, 0.615824227870488, -0.3479271621381179, -0.14022948149868633, 0.4715134428149978, -1.3875270322229551, 2.291695981953175, -0.4233067765902022, -0.4010460654069656, 1.4953409235326716, 0.055794820889501835, 1.1085643506927436, -0.34084079925276806, -0.04448454401577478, -0.7068197188417409, -0.28196538329893095, 0.35645508606988024, -1.9319911284139681, 0.30676889430031434, 1.0195069345873582, 0.5815106975487212, 0.6675437405444582, -1.451462224194573, 1.7537992807886817, -0.5223131305426536, -2.0899011210520055, -1.1868763568302543, -1.654932061201535, -1.6874933947593838, -1.2156525913674665, 1.6794846829271606, 0.7092856518073, 0.6629875673201554, -0.6411635757117996, -1.1881576800789335, -1.160918932012118, -0.014452385012939719, -0.8158088796870766, -1.112112811778674, -0.4134909737727676, 0.7679354852691683, -0.5288693699646896, 0.966238933639739, 0.5428284262688382, -0.8993016610838763, 1.9686623433577968, -1.1099790369124423, -0.7148053007009889, -0.05035305723891644, -0.2825442564032258, 0.6220386837974622, -0.02607398992073639, -0.12904032210431582, -0.4462530044659881, 1.0919323927621174, -0.2838491101268597, 0.8898082348209791, -0.05344663510556132, 0.6764322455699061, 2.110521685528398, -0.9540742926640376, -0.0709709220358443, -0.05552091480298457, 0.49519307651171957, -0.47214686334867095, -0.43038367094404784, -0.5262311656239208, 0.41668007402483337, -0.46314704835682, 1.1978416309836064, 0.06945342626551727, 0.2852068613579216, -0.9260930337101595, -1.299229452656461, -0.01752394800048146, 1.333737866854547, -1.0027996183786698, 1.3712373857073232, -1.3929633493161442, -2.003173109247321, -0.5638422495748624, -0.08713154635704083, 0.7826639766427661, 1.6599223202958147, 1.8225331731889711, -0.3637271366130778], \"yaxis\": \"y5\"}, {\"histfunc\": \"count\", \"histnorm\": \"\", \"marker\": {\"color\": \"rgba(55, 128, 191, 1.0)\", \"line\": {\"color\": \"#4D5663\", \"width\": 1.3}}, \"name\": \"B\", \"nbinsx\": 10, \"opacity\": 0.8, \"orientation\": \"v\", \"type\": \"histogram\", \"x\": [-0.9234838055280741, 0.1837906133650663, 0.9549006334057075, -0.8172743696437627, 0.3174431081329297, 0.21808918953745687, 0.6815729465243698, -0.262815565993623, 0.0013540987106652831, -0.27062784691556646, -0.8728212153054438, -0.6131662144165188, 0.8217767277509427, -0.37803366564505864, -0.38120900740011365, 0.615824227870488, -0.3479271621381179, -0.14022948149868633, 0.4715134428149978, -1.3875270322229551, 2.291695981953175, -0.4233067765902022, -0.4010460654069656, 1.4953409235326716, 0.055794820889501835, 1.1085643506927436, -0.34084079925276806, -0.04448454401577478, -0.7068197188417409, -0.28196538329893095, 0.35645508606988024, -1.9319911284139681, 0.30676889430031434, 1.0195069345873582, 0.5815106975487212, 0.6675437405444582, -1.451462224194573, 1.7537992807886817, -0.5223131305426536, -2.0899011210520055, -1.1868763568302543, -1.654932061201535, -1.6874933947593838, -1.2156525913674665, 1.6794846829271606, 0.7092856518073, 0.6629875673201554, -0.6411635757117996, -1.1881576800789335, -1.160918932012118, -0.014452385012939719, -0.8158088796870766, -1.112112811778674, -0.4134909737727676, 0.7679354852691683, -0.5288693699646896, 0.966238933639739, 0.5428284262688382, -0.8993016610838763, 1.9686623433577968, -1.1099790369124423, -0.7148053007009889, -0.05035305723891644, -0.2825442564032258, 0.6220386837974622, -0.02607398992073639, -0.12904032210431582, -0.4462530044659881, 1.0919323927621174, -0.2838491101268597, 0.8898082348209791, -0.05344663510556132, 0.6764322455699061, 2.110521685528398, -0.9540742926640376, -0.0709709220358443, -0.05552091480298457, 0.49519307651171957, -0.47214686334867095, -0.43038367094404784, -0.5262311656239208, 0.41668007402483337, -0.46314704835682, 1.1978416309836064, 0.06945342626551727, 0.2852068613579216, -0.9260930337101595, -1.299229452656461, -0.01752394800048146, 1.333737866854547, -1.0027996183786698, 1.3712373857073232, -1.3929633493161442, -2.003173109247321, -0.5638422495748624, -0.08713154635704083, 0.7826639766427661, 1.6599223202958147, 1.8225331731889711, -0.3637271366130778], \"xaxis\": \"x6\", \"yaxis\": \"y6\"}, {\"line\": {\"color\": \"rgba(128, 128, 128, 1.0)\", \"dash\": \"solid\", \"shape\": \"linear\", \"width\": 1.3}, \"marker\": {\"size\": 2, \"symbol\": \"circle\"}, \"mode\": \"markers\", \"name\": \"B\", \"text\": \"\", \"type\": \"scatter\", \"x\": [0.2755716670365263, -1.4107567274282897, 0.6541175742867782, 1.9674690515547126, 1.256596339268459, 0.523856596662497, -0.8969265311525533, 0.3244140138558535, -0.9950241003805131, 0.010323270077411526, -0.4081624657415359, 0.856972738882899, 0.04068662059895318, -1.2944868481985685, -0.9619587879235344, -1.2789542109730379, -0.9026009083226586, -0.30943964771853477, 1.4669276807914478, 2.1886965346332614, -0.7853005063471961, -1.7956697006953894, -1.561114867168884, -0.14455531064454316, 0.4097967940659489, 0.027689805529984155, -0.8497038505348563, 1.8046874328359785, 0.7071894503644003, 1.213741530303425, -1.0343725538212367, 0.22659112518910376, -1.1486822151076266, 0.9966989811826483, 0.4142349713487508, 1.0253873908752684, -0.6344711510801252, 0.2736544613480108, 0.10304790113170942, -0.03298524733362019, 0.5935028001089265, 0.4838846773154546, 0.8732381580494233, 1.4128524795674415, 0.08490496568549535, 0.050290802392600024, -0.46573622578532187, 0.18929328771708429, 0.022354739248472047, 0.18032179012293742, -0.5383926430861103, 0.6349278683681299, 0.7460618503587655, 0.6143492711346112, 1.1800052422773377, -0.4317198762713371, -0.39825819636098175, 0.020492888094452415, 0.26054148974539326, 0.35542164302954893, -0.09632068069538566, 1.1880737687482943, 0.7622480573510461, -0.12954313804362508, 0.6448810312697735, 0.14237852278024538, -1.254266568431477, -0.4390979624690971, -0.7899958009345055, -0.30993485012088473, 0.6722028469700168, -0.7823208404463984, 0.5862555713819035, 1.2177004118684112, 1.587168629736668, 0.43377784098629774, 0.2796177411902997, 0.8470418963750924, 0.3360985288016682, 0.9208215794336971, 0.002407301316962099, 0.00458636300942406, 0.9329535515195241, -0.7517379185041624, 1.1400847378001369, -1.9844115112198117, 1.268566939128557, -0.0334254762745057, -1.6953738158116232, -0.8040408315832263, 0.016360777148160116, 0.41731413370847836, -0.38523140506373255, 1.2970812498450508, -2.236660366102504, -0.5882604503630262, -0.2731599067897886, -0.29682518018130133, 0.6461631547594263, 0.60302821358222], \"xaxis\": \"x7\", \"y\": [-0.9234838055280741, 0.1837906133650663, 0.9549006334057075, -0.8172743696437627, 0.3174431081329297, 0.21808918953745687, 0.6815729465243698, -0.262815565993623, 0.0013540987106652831, -0.27062784691556646, -0.8728212153054438, -0.6131662144165188, 0.8217767277509427, -0.37803366564505864, -0.38120900740011365, 0.615824227870488, -0.3479271621381179, -0.14022948149868633, 0.4715134428149978, -1.3875270322229551, 2.291695981953175, -0.4233067765902022, -0.4010460654069656, 1.4953409235326716, 0.055794820889501835, 1.1085643506927436, -0.34084079925276806, -0.04448454401577478, -0.7068197188417409, -0.28196538329893095, 0.35645508606988024, -1.9319911284139681, 0.30676889430031434, 1.0195069345873582, 0.5815106975487212, 0.6675437405444582, -1.451462224194573, 1.7537992807886817, -0.5223131305426536, -2.0899011210520055, -1.1868763568302543, -1.654932061201535, -1.6874933947593838, -1.2156525913674665, 1.6794846829271606, 0.7092856518073, 0.6629875673201554, -0.6411635757117996, -1.1881576800789335, -1.160918932012118, -0.014452385012939719, -0.8158088796870766, -1.112112811778674, -0.4134909737727676, 0.7679354852691683, -0.5288693699646896, 0.966238933639739, 0.5428284262688382, -0.8993016610838763, 1.9686623433577968, -1.1099790369124423, -0.7148053007009889, -0.05035305723891644, -0.2825442564032258, 0.6220386837974622, -0.02607398992073639, -0.12904032210431582, -0.4462530044659881, 1.0919323927621174, -0.2838491101268597, 0.8898082348209791, -0.05344663510556132, 0.6764322455699061, 2.110521685528398, -0.9540742926640376, -0.0709709220358443, -0.05552091480298457, 0.49519307651171957, -0.47214686334867095, -0.43038367094404784, -0.5262311656239208, 0.41668007402483337, -0.46314704835682, 1.1978416309836064, 0.06945342626551727, 0.2852068613579216, -0.9260930337101595, -1.299229452656461, -0.01752394800048146, 1.333737866854547, -1.0027996183786698, 1.3712373857073232, -1.3929633493161442, -2.003173109247321, -0.5638422495748624, -0.08713154635704083, 0.7826639766427661, 1.6599223202958147, 1.8225331731889711, -0.3637271366130778], \"yaxis\": \"y7\"}, {\"line\": {\"color\": \"rgba(128, 128, 128, 1.0)\", \"dash\": \"solid\", \"shape\": \"linear\", \"width\": 1.3}, \"marker\": {\"size\": 2, \"symbol\": \"circle\"}, \"mode\": \"markers\", \"name\": \"B\", \"text\": \"\", \"type\": \"scatter\", \"x\": [0.3643930281255974, 0.15026292366620095, 1.2187222278603946, -0.8659906012809404, 0.6004784913268533, -1.0589820545230748, -1.5683314423426904, -1.6539365309773515, 0.12136885230734451, 1.769195740544522, -0.34786923195499164, -0.5611026339790515, 1.884395043792925, 0.10554293170215406, -0.6971983382812603, 0.7833018925568376, -2.300638357051978, -1.3172806218596724, -0.04373228510009631, -1.2671251518663433, 1.3682141073747136, 0.1758901613320038, 0.4131184697361528, -0.13307235755723854, -0.09343541524988579, -0.23793992896567595, 0.37511476141478445, 1.5348806704194566, -0.9690143836986986, -0.4361298995213377, 0.11884415029697731, 0.7053708211848962, -1.170756619547385, 0.12391062586154639, -1.775733651033394, -1.7025147144806678, 0.24120216357934682, -0.05909560823662816, 0.6990921904976213, -1.2551961134773182, -0.190020144313903, -1.2001001024950408, 0.6274370541851635, 0.5015803990467228, 1.7377383170505403, 0.7669569890905374, -0.591194403818167, -1.184929573922818, -0.09713963731436984, 2.2273843627971575, -1.2140642939832837, -0.726190654922945, 0.21963148157113957, -0.2669805745888528, -0.767942069013212, -0.1521855580871152, -0.3904159798584094, 1.2739452686099946, 0.36218314088967013, 0.11030818464201156, 1.9268791207613563, 0.5487869697256245, -0.9762768663466627, 1.3932777236238698, 0.7258730775669255, -1.94063820760366, -0.5616258682969569, -1.045963556303688, -0.046928354294379034, -0.6985230840516604, -0.09137824514435089, 0.11975928366817555, 0.5719600766112413, -0.5602018420934456, -1.3733210357679502, 0.930729614688202, -1.2865839708266649, 0.24263820697068555, -0.6503235979872184, 0.9780605553222481, 0.2058777005882192, -0.08601947943729862, 0.4341754032068352, -0.836596194783516, -0.5578839609069209, -0.5134003010550453, 0.2902632694148725, -2.69040970394117, 0.9976251276467392, 1.5258496506679962, -0.09914102682089235, -1.2196458165465838, 1.8644668321972602, 1.0079481290352872, -0.4500239322508063, 0.8962399016639363, -0.37922022639110614, 0.2181399664309546, -0.12843420402850228, 2.1360706839894226], \"xaxis\": \"x8\", \"y\": [-0.9234838055280741, 0.1837906133650663, 0.9549006334057075, -0.8172743696437627, 0.3174431081329297, 0.21808918953745687, 0.6815729465243698, -0.262815565993623, 0.0013540987106652831, -0.27062784691556646, -0.8728212153054438, -0.6131662144165188, 0.8217767277509427, -0.37803366564505864, -0.38120900740011365, 0.615824227870488, -0.3479271621381179, -0.14022948149868633, 0.4715134428149978, -1.3875270322229551, 2.291695981953175, -0.4233067765902022, -0.4010460654069656, 1.4953409235326716, 0.055794820889501835, 1.1085643506927436, -0.34084079925276806, -0.04448454401577478, -0.7068197188417409, -0.28196538329893095, 0.35645508606988024, -1.9319911284139681, 0.30676889430031434, 1.0195069345873582, 0.5815106975487212, 0.6675437405444582, -1.451462224194573, 1.7537992807886817, -0.5223131305426536, -2.0899011210520055, -1.1868763568302543, -1.654932061201535, -1.6874933947593838, -1.2156525913674665, 1.6794846829271606, 0.7092856518073, 0.6629875673201554, -0.6411635757117996, -1.1881576800789335, -1.160918932012118, -0.014452385012939719, -0.8158088796870766, -1.112112811778674, -0.4134909737727676, 0.7679354852691683, -0.5288693699646896, 0.966238933639739, 0.5428284262688382, -0.8993016610838763, 1.9686623433577968, -1.1099790369124423, -0.7148053007009889, -0.05035305723891644, -0.2825442564032258, 0.6220386837974622, -0.02607398992073639, -0.12904032210431582, -0.4462530044659881, 1.0919323927621174, -0.2838491101268597, 0.8898082348209791, -0.05344663510556132, 0.6764322455699061, 2.110521685528398, -0.9540742926640376, -0.0709709220358443, -0.05552091480298457, 0.49519307651171957, -0.47214686334867095, -0.43038367094404784, -0.5262311656239208, 0.41668007402483337, -0.46314704835682, 1.1978416309836064, 0.06945342626551727, 0.2852068613579216, -0.9260930337101595, -1.299229452656461, -0.01752394800048146, 1.333737866854547, -1.0027996183786698, 1.3712373857073232, -1.3929633493161442, -2.003173109247321, -0.5638422495748624, -0.08713154635704083, 0.7826639766427661, 1.6599223202958147, 1.8225331731889711, -0.3637271366130778], \"yaxis\": \"y8\"}, {\"line\": {\"color\": \"rgba(128, 128, 128, 1.0)\", \"dash\": \"solid\", \"shape\": \"linear\", \"width\": 1.3}, \"marker\": {\"size\": 2, \"symbol\": \"circle\"}, \"mode\": \"markers\", \"name\": \"C\", \"text\": \"\", \"type\": \"scatter\", \"x\": [-2.2330045307590853, -0.9521908995974245, 0.27846606978193117, -0.7497430396641565, -0.8956342510414951, -0.2701922755157396, 0.13378854729598888, -0.10139493386630462, 2.4089945148153924, 2.2798960353709634, 1.536776871530047, -0.4738067773638204, 0.3895763004483561, -0.44813497414482384, -0.04272139930867001, 1.8607472786609707, -0.6439882932495113, 1.2582962916443727, -1.204805217634797, -0.1429158275301282, 1.1677493616360861, -2.6530884634429985, -0.9403827018208064, 0.1496396817935744, 0.04470276113270573, -0.7319557334866961, 0.5233737734533389, -0.4409303064263165, -0.5833238720623664, 0.25649916497690095, -0.30081158546772635, 0.07975881141571715, -2.090321583607134, -0.8712175959679449, -0.6931394651239492, -0.8218402617535678, 1.4418250131499333, 0.3751607269805806, 1.2314240010401805, 0.4199928878005679, -0.1554548985369435, 1.8868088114432202, -0.694422411044866, 1.1436083825779144, 0.7624519963607965, -0.2482247596359065, 1.4414688130029367, 0.22035610962969224, 0.2950496995083218, -0.0002316334366230875, 1.2896860527248302, 1.1265104298484678, -0.0036286696037859285, -0.826340568102362, -1.018582405591517, -1.291063854400129, -0.19008683392694992, -0.763872927674939, 2.0959738808836414, 2.130647594088596, 2.224539281704161, 1.1940475375397548, -0.7876803121312159, 0.969667697580649, 0.9493233327045774, -0.044403311331418185, 0.3895596700750885, -0.014452893562845948, -0.6968071801779312, 0.1614108555208764, -0.12276024863235002, -0.8370581648026316, -0.24705922180806691, -0.10403134026483714, -1.4284743931846275, 0.3535476401056677, -0.10544217505192499, 1.6963828925675466, 0.5915873562228502, 0.9907707442218054, 0.7428977212707456, -0.07200887621832967, 0.00017457906821124856, 0.013110631310684354, 1.9240017540561096, -0.4264462466703405, 0.16219704052654055, 0.4697559969879681, 1.0060845122288846, 0.7676496704361507, -0.9161171095812846, -1.624314104246879, -0.9527835783780093, -0.17739704862730749, 1.0650077734242744, 0.43385923873565196, 1.6979048817374556, -1.853810177762625, 0.9776180877321272, -0.8272963834606755], \"xaxis\": \"x9\", \"y\": [0.2755716670365263, -1.4107567274282897, 0.6541175742867782, 1.9674690515547126, 1.256596339268459, 0.523856596662497, -0.8969265311525533, 0.3244140138558535, -0.9950241003805131, 0.010323270077411526, -0.4081624657415359, 0.856972738882899, 0.04068662059895318, -1.2944868481985685, -0.9619587879235344, -1.2789542109730379, -0.9026009083226586, -0.30943964771853477, 1.4669276807914478, 2.1886965346332614, -0.7853005063471961, -1.7956697006953894, -1.561114867168884, -0.14455531064454316, 0.4097967940659489, 0.027689805529984155, -0.8497038505348563, 1.8046874328359785, 0.7071894503644003, 1.213741530303425, -1.0343725538212367, 0.22659112518910376, -1.1486822151076266, 0.9966989811826483, 0.4142349713487508, 1.0253873908752684, -0.6344711510801252, 0.2736544613480108, 0.10304790113170942, -0.03298524733362019, 0.5935028001089265, 0.4838846773154546, 0.8732381580494233, 1.4128524795674415, 0.08490496568549535, 0.050290802392600024, -0.46573622578532187, 0.18929328771708429, 0.022354739248472047, 0.18032179012293742, -0.5383926430861103, 0.6349278683681299, 0.7460618503587655, 0.6143492711346112, 1.1800052422773377, -0.4317198762713371, -0.39825819636098175, 0.020492888094452415, 0.26054148974539326, 0.35542164302954893, -0.09632068069538566, 1.1880737687482943, 0.7622480573510461, -0.12954313804362508, 0.6448810312697735, 0.14237852278024538, -1.254266568431477, -0.4390979624690971, -0.7899958009345055, -0.30993485012088473, 0.6722028469700168, -0.7823208404463984, 0.5862555713819035, 1.2177004118684112, 1.587168629736668, 0.43377784098629774, 0.2796177411902997, 0.8470418963750924, 0.3360985288016682, 0.9208215794336971, 0.002407301316962099, 0.00458636300942406, 0.9329535515195241, -0.7517379185041624, 1.1400847378001369, -1.9844115112198117, 1.268566939128557, -0.0334254762745057, -1.6953738158116232, -0.8040408315832263, 0.016360777148160116, 0.41731413370847836, -0.38523140506373255, 1.2970812498450508, -2.236660366102504, -0.5882604503630262, -0.2731599067897886, -0.29682518018130133, 0.6461631547594263, 0.60302821358222], \"yaxis\": \"y9\"}, {\"line\": {\"color\": \"rgba(128, 128, 128, 1.0)\", \"dash\": \"solid\", \"shape\": \"linear\", \"width\": 1.3}, \"marker\": {\"size\": 2, \"symbol\": \"circle\"}, \"mode\": \"markers\", \"name\": \"C\", \"text\": \"\", \"type\": \"scatter\", \"x\": [-0.9234838055280741, 0.1837906133650663, 0.9549006334057075, -0.8172743696437627, 0.3174431081329297, 0.21808918953745687, 0.6815729465243698, -0.262815565993623, 0.0013540987106652831, -0.27062784691556646, -0.8728212153054438, -0.6131662144165188, 0.8217767277509427, -0.37803366564505864, -0.38120900740011365, 0.615824227870488, -0.3479271621381179, -0.14022948149868633, 0.4715134428149978, -1.3875270322229551, 2.291695981953175, -0.4233067765902022, -0.4010460654069656, 1.4953409235326716, 0.055794820889501835, 1.1085643506927436, -0.34084079925276806, -0.04448454401577478, -0.7068197188417409, -0.28196538329893095, 0.35645508606988024, -1.9319911284139681, 0.30676889430031434, 1.0195069345873582, 0.5815106975487212, 0.6675437405444582, -1.451462224194573, 1.7537992807886817, -0.5223131305426536, -2.0899011210520055, -1.1868763568302543, -1.654932061201535, -1.6874933947593838, -1.2156525913674665, 1.6794846829271606, 0.7092856518073, 0.6629875673201554, -0.6411635757117996, -1.1881576800789335, -1.160918932012118, -0.014452385012939719, -0.8158088796870766, -1.112112811778674, -0.4134909737727676, 0.7679354852691683, -0.5288693699646896, 0.966238933639739, 0.5428284262688382, -0.8993016610838763, 1.9686623433577968, -1.1099790369124423, -0.7148053007009889, -0.05035305723891644, -0.2825442564032258, 0.6220386837974622, -0.02607398992073639, -0.12904032210431582, -0.4462530044659881, 1.0919323927621174, -0.2838491101268597, 0.8898082348209791, -0.05344663510556132, 0.6764322455699061, 2.110521685528398, -0.9540742926640376, -0.0709709220358443, -0.05552091480298457, 0.49519307651171957, -0.47214686334867095, -0.43038367094404784, -0.5262311656239208, 0.41668007402483337, -0.46314704835682, 1.1978416309836064, 0.06945342626551727, 0.2852068613579216, -0.9260930337101595, -1.299229452656461, -0.01752394800048146, 1.333737866854547, -1.0027996183786698, 1.3712373857073232, -1.3929633493161442, -2.003173109247321, -0.5638422495748624, -0.08713154635704083, 0.7826639766427661, 1.6599223202958147, 1.8225331731889711, -0.3637271366130778], \"xaxis\": \"x10\", \"y\": [0.2755716670365263, -1.4107567274282897, 0.6541175742867782, 1.9674690515547126, 1.256596339268459, 0.523856596662497, -0.8969265311525533, 0.3244140138558535, -0.9950241003805131, 0.010323270077411526, -0.4081624657415359, 0.856972738882899, 0.04068662059895318, -1.2944868481985685, -0.9619587879235344, -1.2789542109730379, -0.9026009083226586, -0.30943964771853477, 1.4669276807914478, 2.1886965346332614, -0.7853005063471961, -1.7956697006953894, -1.561114867168884, -0.14455531064454316, 0.4097967940659489, 0.027689805529984155, -0.8497038505348563, 1.8046874328359785, 0.7071894503644003, 1.213741530303425, -1.0343725538212367, 0.22659112518910376, -1.1486822151076266, 0.9966989811826483, 0.4142349713487508, 1.0253873908752684, -0.6344711510801252, 0.2736544613480108, 0.10304790113170942, -0.03298524733362019, 0.5935028001089265, 0.4838846773154546, 0.8732381580494233, 1.4128524795674415, 0.08490496568549535, 0.050290802392600024, -0.46573622578532187, 0.18929328771708429, 0.022354739248472047, 0.18032179012293742, -0.5383926430861103, 0.6349278683681299, 0.7460618503587655, 0.6143492711346112, 1.1800052422773377, -0.4317198762713371, -0.39825819636098175, 0.020492888094452415, 0.26054148974539326, 0.35542164302954893, -0.09632068069538566, 1.1880737687482943, 0.7622480573510461, -0.12954313804362508, 0.6448810312697735, 0.14237852278024538, -1.254266568431477, -0.4390979624690971, -0.7899958009345055, -0.30993485012088473, 0.6722028469700168, -0.7823208404463984, 0.5862555713819035, 1.2177004118684112, 1.587168629736668, 0.43377784098629774, 0.2796177411902997, 0.8470418963750924, 0.3360985288016682, 0.9208215794336971, 0.002407301316962099, 0.00458636300942406, 0.9329535515195241, -0.7517379185041624, 1.1400847378001369, -1.9844115112198117, 1.268566939128557, -0.0334254762745057, -1.6953738158116232, -0.8040408315832263, 0.016360777148160116, 0.41731413370847836, -0.38523140506373255, 1.2970812498450508, -2.236660366102504, -0.5882604503630262, -0.2731599067897886, -0.29682518018130133, 0.6461631547594263, 0.60302821358222], \"yaxis\": \"y10\"}, {\"histfunc\": \"count\", \"histnorm\": \"\", \"marker\": {\"color\": \"rgba(50, 171, 96, 1.0)\", \"line\": {\"color\": \"#4D5663\", \"width\": 1.3}}, \"name\": \"C\", \"nbinsx\": 10, \"opacity\": 0.8, \"orientation\": \"v\", \"type\": \"histogram\", \"x\": [0.2755716670365263, -1.4107567274282897, 0.6541175742867782, 1.9674690515547126, 1.256596339268459, 0.523856596662497, -0.8969265311525533, 0.3244140138558535, -0.9950241003805131, 0.010323270077411526, -0.4081624657415359, 0.856972738882899, 0.04068662059895318, -1.2944868481985685, -0.9619587879235344, -1.2789542109730379, -0.9026009083226586, -0.30943964771853477, 1.4669276807914478, 2.1886965346332614, -0.7853005063471961, -1.7956697006953894, -1.561114867168884, -0.14455531064454316, 0.4097967940659489, 0.027689805529984155, -0.8497038505348563, 1.8046874328359785, 0.7071894503644003, 1.213741530303425, -1.0343725538212367, 0.22659112518910376, -1.1486822151076266, 0.9966989811826483, 0.4142349713487508, 1.0253873908752684, -0.6344711510801252, 0.2736544613480108, 0.10304790113170942, -0.03298524733362019, 0.5935028001089265, 0.4838846773154546, 0.8732381580494233, 1.4128524795674415, 0.08490496568549535, 0.050290802392600024, -0.46573622578532187, 0.18929328771708429, 0.022354739248472047, 0.18032179012293742, -0.5383926430861103, 0.6349278683681299, 0.7460618503587655, 0.6143492711346112, 1.1800052422773377, -0.4317198762713371, -0.39825819636098175, 0.020492888094452415, 0.26054148974539326, 0.35542164302954893, -0.09632068069538566, 1.1880737687482943, 0.7622480573510461, -0.12954313804362508, 0.6448810312697735, 0.14237852278024538, -1.254266568431477, -0.4390979624690971, -0.7899958009345055, -0.30993485012088473, 0.6722028469700168, -0.7823208404463984, 0.5862555713819035, 1.2177004118684112, 1.587168629736668, 0.43377784098629774, 0.2796177411902997, 0.8470418963750924, 0.3360985288016682, 0.9208215794336971, 0.002407301316962099, 0.00458636300942406, 0.9329535515195241, -0.7517379185041624, 1.1400847378001369, -1.9844115112198117, 1.268566939128557, -0.0334254762745057, -1.6953738158116232, -0.8040408315832263, 0.016360777148160116, 0.41731413370847836, -0.38523140506373255, 1.2970812498450508, -2.236660366102504, -0.5882604503630262, -0.2731599067897886, -0.29682518018130133, 0.6461631547594263, 0.60302821358222], \"xaxis\": \"x11\", \"yaxis\": \"y11\"}, {\"line\": {\"color\": \"rgba(128, 128, 128, 1.0)\", \"dash\": \"solid\", \"shape\": \"linear\", \"width\": 1.3}, \"marker\": {\"size\": 2, \"symbol\": \"circle\"}, \"mode\": \"markers\", \"name\": \"C\", \"text\": \"\", \"type\": \"scatter\", \"x\": [0.3643930281255974, 0.15026292366620095, 1.2187222278603946, -0.8659906012809404, 0.6004784913268533, -1.0589820545230748, -1.5683314423426904, -1.6539365309773515, 0.12136885230734451, 1.769195740544522, -0.34786923195499164, -0.5611026339790515, 1.884395043792925, 0.10554293170215406, -0.6971983382812603, 0.7833018925568376, -2.300638357051978, -1.3172806218596724, -0.04373228510009631, -1.2671251518663433, 1.3682141073747136, 0.1758901613320038, 0.4131184697361528, -0.13307235755723854, -0.09343541524988579, -0.23793992896567595, 0.37511476141478445, 1.5348806704194566, -0.9690143836986986, -0.4361298995213377, 0.11884415029697731, 0.7053708211848962, -1.170756619547385, 0.12391062586154639, -1.775733651033394, -1.7025147144806678, 0.24120216357934682, -0.05909560823662816, 0.6990921904976213, -1.2551961134773182, -0.190020144313903, -1.2001001024950408, 0.6274370541851635, 0.5015803990467228, 1.7377383170505403, 0.7669569890905374, -0.591194403818167, -1.184929573922818, -0.09713963731436984, 2.2273843627971575, -1.2140642939832837, -0.726190654922945, 0.21963148157113957, -0.2669805745888528, -0.767942069013212, -0.1521855580871152, -0.3904159798584094, 1.2739452686099946, 0.36218314088967013, 0.11030818464201156, 1.9268791207613563, 0.5487869697256245, -0.9762768663466627, 1.3932777236238698, 0.7258730775669255, -1.94063820760366, -0.5616258682969569, -1.045963556303688, -0.046928354294379034, -0.6985230840516604, -0.09137824514435089, 0.11975928366817555, 0.5719600766112413, -0.5602018420934456, -1.3733210357679502, 0.930729614688202, -1.2865839708266649, 0.24263820697068555, -0.6503235979872184, 0.9780605553222481, 0.2058777005882192, -0.08601947943729862, 0.4341754032068352, -0.836596194783516, -0.5578839609069209, -0.5134003010550453, 0.2902632694148725, -2.69040970394117, 0.9976251276467392, 1.5258496506679962, -0.09914102682089235, -1.2196458165465838, 1.8644668321972602, 1.0079481290352872, -0.4500239322508063, 0.8962399016639363, -0.37922022639110614, 0.2181399664309546, -0.12843420402850228, 2.1360706839894226], \"xaxis\": \"x12\", \"y\": [0.2755716670365263, -1.4107567274282897, 0.6541175742867782, 1.9674690515547126, 1.256596339268459, 0.523856596662497, -0.8969265311525533, 0.3244140138558535, -0.9950241003805131, 0.010323270077411526, -0.4081624657415359, 0.856972738882899, 0.04068662059895318, -1.2944868481985685, -0.9619587879235344, -1.2789542109730379, -0.9026009083226586, -0.30943964771853477, 1.4669276807914478, 2.1886965346332614, -0.7853005063471961, -1.7956697006953894, -1.561114867168884, -0.14455531064454316, 0.4097967940659489, 0.027689805529984155, -0.8497038505348563, 1.8046874328359785, 0.7071894503644003, 1.213741530303425, -1.0343725538212367, 0.22659112518910376, -1.1486822151076266, 0.9966989811826483, 0.4142349713487508, 1.0253873908752684, -0.6344711510801252, 0.2736544613480108, 0.10304790113170942, -0.03298524733362019, 0.5935028001089265, 0.4838846773154546, 0.8732381580494233, 1.4128524795674415, 0.08490496568549535, 0.050290802392600024, -0.46573622578532187, 0.18929328771708429, 0.022354739248472047, 0.18032179012293742, -0.5383926430861103, 0.6349278683681299, 0.7460618503587655, 0.6143492711346112, 1.1800052422773377, -0.4317198762713371, -0.39825819636098175, 0.020492888094452415, 0.26054148974539326, 0.35542164302954893, -0.09632068069538566, 1.1880737687482943, 0.7622480573510461, -0.12954313804362508, 0.6448810312697735, 0.14237852278024538, -1.254266568431477, -0.4390979624690971, -0.7899958009345055, -0.30993485012088473, 0.6722028469700168, -0.7823208404463984, 0.5862555713819035, 1.2177004118684112, 1.587168629736668, 0.43377784098629774, 0.2796177411902997, 0.8470418963750924, 0.3360985288016682, 0.9208215794336971, 0.002407301316962099, 0.00458636300942406, 0.9329535515195241, -0.7517379185041624, 1.1400847378001369, -1.9844115112198117, 1.268566939128557, -0.0334254762745057, -1.6953738158116232, -0.8040408315832263, 0.016360777148160116, 0.41731413370847836, -0.38523140506373255, 1.2970812498450508, -2.236660366102504, -0.5882604503630262, -0.2731599067897886, -0.29682518018130133, 0.6461631547594263, 0.60302821358222], \"yaxis\": \"y12\"}, {\"line\": {\"color\": \"rgba(128, 128, 128, 1.0)\", \"dash\": \"solid\", \"shape\": \"linear\", \"width\": 1.3}, \"marker\": {\"size\": 2, \"symbol\": \"circle\"}, \"mode\": \"markers\", \"name\": \"D\", \"text\": \"\", \"type\": \"scatter\", \"x\": [-2.2330045307590853, -0.9521908995974245, 0.27846606978193117, -0.7497430396641565, -0.8956342510414951, -0.2701922755157396, 0.13378854729598888, -0.10139493386630462, 2.4089945148153924, 2.2798960353709634, 1.536776871530047, -0.4738067773638204, 0.3895763004483561, -0.44813497414482384, -0.04272139930867001, 1.8607472786609707, -0.6439882932495113, 1.2582962916443727, -1.204805217634797, -0.1429158275301282, 1.1677493616360861, -2.6530884634429985, -0.9403827018208064, 0.1496396817935744, 0.04470276113270573, -0.7319557334866961, 0.5233737734533389, -0.4409303064263165, -0.5833238720623664, 0.25649916497690095, -0.30081158546772635, 0.07975881141571715, -2.090321583607134, -0.8712175959679449, -0.6931394651239492, -0.8218402617535678, 1.4418250131499333, 0.3751607269805806, 1.2314240010401805, 0.4199928878005679, -0.1554548985369435, 1.8868088114432202, -0.694422411044866, 1.1436083825779144, 0.7624519963607965, -0.2482247596359065, 1.4414688130029367, 0.22035610962969224, 0.2950496995083218, -0.0002316334366230875, 1.2896860527248302, 1.1265104298484678, -0.0036286696037859285, -0.826340568102362, -1.018582405591517, -1.291063854400129, -0.19008683392694992, -0.763872927674939, 2.0959738808836414, 2.130647594088596, 2.224539281704161, 1.1940475375397548, -0.7876803121312159, 0.969667697580649, 0.9493233327045774, -0.044403311331418185, 0.3895596700750885, -0.014452893562845948, -0.6968071801779312, 0.1614108555208764, -0.12276024863235002, -0.8370581648026316, -0.24705922180806691, -0.10403134026483714, -1.4284743931846275, 0.3535476401056677, -0.10544217505192499, 1.6963828925675466, 0.5915873562228502, 0.9907707442218054, 0.7428977212707456, -0.07200887621832967, 0.00017457906821124856, 0.013110631310684354, 1.9240017540561096, -0.4264462466703405, 0.16219704052654055, 0.4697559969879681, 1.0060845122288846, 0.7676496704361507, -0.9161171095812846, -1.624314104246879, -0.9527835783780093, -0.17739704862730749, 1.0650077734242744, 0.43385923873565196, 1.6979048817374556, -1.853810177762625, 0.9776180877321272, -0.8272963834606755], \"xaxis\": \"x13\", \"y\": [0.3643930281255974, 0.15026292366620095, 1.2187222278603946, -0.8659906012809404, 0.6004784913268533, -1.0589820545230748, -1.5683314423426904, -1.6539365309773515, 0.12136885230734451, 1.769195740544522, -0.34786923195499164, -0.5611026339790515, 1.884395043792925, 0.10554293170215406, -0.6971983382812603, 0.7833018925568376, -2.300638357051978, -1.3172806218596724, -0.04373228510009631, -1.2671251518663433, 1.3682141073747136, 0.1758901613320038, 0.4131184697361528, -0.13307235755723854, -0.09343541524988579, -0.23793992896567595, 0.37511476141478445, 1.5348806704194566, -0.9690143836986986, -0.4361298995213377, 0.11884415029697731, 0.7053708211848962, -1.170756619547385, 0.12391062586154639, -1.775733651033394, -1.7025147144806678, 0.24120216357934682, -0.05909560823662816, 0.6990921904976213, -1.2551961134773182, -0.190020144313903, -1.2001001024950408, 0.6274370541851635, 0.5015803990467228, 1.7377383170505403, 0.7669569890905374, -0.591194403818167, -1.184929573922818, -0.09713963731436984, 2.2273843627971575, -1.2140642939832837, -0.726190654922945, 0.21963148157113957, -0.2669805745888528, -0.767942069013212, -0.1521855580871152, -0.3904159798584094, 1.2739452686099946, 0.36218314088967013, 0.11030818464201156, 1.9268791207613563, 0.5487869697256245, -0.9762768663466627, 1.3932777236238698, 0.7258730775669255, -1.94063820760366, -0.5616258682969569, -1.045963556303688, -0.046928354294379034, -0.6985230840516604, -0.09137824514435089, 0.11975928366817555, 0.5719600766112413, -0.5602018420934456, -1.3733210357679502, 0.930729614688202, -1.2865839708266649, 0.24263820697068555, -0.6503235979872184, 0.9780605553222481, 0.2058777005882192, -0.08601947943729862, 0.4341754032068352, -0.836596194783516, -0.5578839609069209, -0.5134003010550453, 0.2902632694148725, -2.69040970394117, 0.9976251276467392, 1.5258496506679962, -0.09914102682089235, -1.2196458165465838, 1.8644668321972602, 1.0079481290352872, -0.4500239322508063, 0.8962399016639363, -0.37922022639110614, 0.2181399664309546, -0.12843420402850228, 2.1360706839894226], \"yaxis\": \"y13\"}, {\"line\": {\"color\": \"rgba(128, 128, 128, 1.0)\", \"dash\": \"solid\", \"shape\": \"linear\", \"width\": 1.3}, \"marker\": {\"size\": 2, \"symbol\": \"circle\"}, \"mode\": \"markers\", \"name\": \"D\", \"text\": \"\", \"type\": \"scatter\", \"x\": [-0.9234838055280741, 0.1837906133650663, 0.9549006334057075, -0.8172743696437627, 0.3174431081329297, 0.21808918953745687, 0.6815729465243698, -0.262815565993623, 0.0013540987106652831, -0.27062784691556646, -0.8728212153054438, -0.6131662144165188, 0.8217767277509427, -0.37803366564505864, -0.38120900740011365, 0.615824227870488, -0.3479271621381179, -0.14022948149868633, 0.4715134428149978, -1.3875270322229551, 2.291695981953175, -0.4233067765902022, -0.4010460654069656, 1.4953409235326716, 0.055794820889501835, 1.1085643506927436, -0.34084079925276806, -0.04448454401577478, -0.7068197188417409, -0.28196538329893095, 0.35645508606988024, -1.9319911284139681, 0.30676889430031434, 1.0195069345873582, 0.5815106975487212, 0.6675437405444582, -1.451462224194573, 1.7537992807886817, -0.5223131305426536, -2.0899011210520055, -1.1868763568302543, -1.654932061201535, -1.6874933947593838, -1.2156525913674665, 1.6794846829271606, 0.7092856518073, 0.6629875673201554, -0.6411635757117996, -1.1881576800789335, -1.160918932012118, -0.014452385012939719, -0.8158088796870766, -1.112112811778674, -0.4134909737727676, 0.7679354852691683, -0.5288693699646896, 0.966238933639739, 0.5428284262688382, -0.8993016610838763, 1.9686623433577968, -1.1099790369124423, -0.7148053007009889, -0.05035305723891644, -0.2825442564032258, 0.6220386837974622, -0.02607398992073639, -0.12904032210431582, -0.4462530044659881, 1.0919323927621174, -0.2838491101268597, 0.8898082348209791, -0.05344663510556132, 0.6764322455699061, 2.110521685528398, -0.9540742926640376, -0.0709709220358443, -0.05552091480298457, 0.49519307651171957, -0.47214686334867095, -0.43038367094404784, -0.5262311656239208, 0.41668007402483337, -0.46314704835682, 1.1978416309836064, 0.06945342626551727, 0.2852068613579216, -0.9260930337101595, -1.299229452656461, -0.01752394800048146, 1.333737866854547, -1.0027996183786698, 1.3712373857073232, -1.3929633493161442, -2.003173109247321, -0.5638422495748624, -0.08713154635704083, 0.7826639766427661, 1.6599223202958147, 1.8225331731889711, -0.3637271366130778], \"xaxis\": \"x14\", \"y\": [0.3643930281255974, 0.15026292366620095, 1.2187222278603946, -0.8659906012809404, 0.6004784913268533, -1.0589820545230748, -1.5683314423426904, -1.6539365309773515, 0.12136885230734451, 1.769195740544522, -0.34786923195499164, -0.5611026339790515, 1.884395043792925, 0.10554293170215406, -0.6971983382812603, 0.7833018925568376, -2.300638357051978, -1.3172806218596724, -0.04373228510009631, -1.2671251518663433, 1.3682141073747136, 0.1758901613320038, 0.4131184697361528, -0.13307235755723854, -0.09343541524988579, -0.23793992896567595, 0.37511476141478445, 1.5348806704194566, -0.9690143836986986, -0.4361298995213377, 0.11884415029697731, 0.7053708211848962, -1.170756619547385, 0.12391062586154639, -1.775733651033394, -1.7025147144806678, 0.24120216357934682, -0.05909560823662816, 0.6990921904976213, -1.2551961134773182, -0.190020144313903, -1.2001001024950408, 0.6274370541851635, 0.5015803990467228, 1.7377383170505403, 0.7669569890905374, -0.591194403818167, -1.184929573922818, -0.09713963731436984, 2.2273843627971575, -1.2140642939832837, -0.726190654922945, 0.21963148157113957, -0.2669805745888528, -0.767942069013212, -0.1521855580871152, -0.3904159798584094, 1.2739452686099946, 0.36218314088967013, 0.11030818464201156, 1.9268791207613563, 0.5487869697256245, -0.9762768663466627, 1.3932777236238698, 0.7258730775669255, -1.94063820760366, -0.5616258682969569, -1.045963556303688, -0.046928354294379034, -0.6985230840516604, -0.09137824514435089, 0.11975928366817555, 0.5719600766112413, -0.5602018420934456, -1.3733210357679502, 0.930729614688202, -1.2865839708266649, 0.24263820697068555, -0.6503235979872184, 0.9780605553222481, 0.2058777005882192, -0.08601947943729862, 0.4341754032068352, -0.836596194783516, -0.5578839609069209, -0.5134003010550453, 0.2902632694148725, -2.69040970394117, 0.9976251276467392, 1.5258496506679962, -0.09914102682089235, -1.2196458165465838, 1.8644668321972602, 1.0079481290352872, -0.4500239322508063, 0.8962399016639363, -0.37922022639110614, 0.2181399664309546, -0.12843420402850228, 2.1360706839894226], \"yaxis\": \"y14\"}, {\"line\": {\"color\": \"rgba(128, 128, 128, 1.0)\", \"dash\": \"solid\", \"shape\": \"linear\", \"width\": 1.3}, \"marker\": {\"size\": 2, \"symbol\": \"circle\"}, \"mode\": \"markers\", \"name\": \"D\", \"text\": \"\", \"type\": \"scatter\", \"x\": [0.2755716670365263, -1.4107567274282897, 0.6541175742867782, 1.9674690515547126, 1.256596339268459, 0.523856596662497, -0.8969265311525533, 0.3244140138558535, -0.9950241003805131, 0.010323270077411526, -0.4081624657415359, 0.856972738882899, 0.04068662059895318, -1.2944868481985685, -0.9619587879235344, -1.2789542109730379, -0.9026009083226586, -0.30943964771853477, 1.4669276807914478, 2.1886965346332614, -0.7853005063471961, -1.7956697006953894, -1.561114867168884, -0.14455531064454316, 0.4097967940659489, 0.027689805529984155, -0.8497038505348563, 1.8046874328359785, 0.7071894503644003, 1.213741530303425, -1.0343725538212367, 0.22659112518910376, -1.1486822151076266, 0.9966989811826483, 0.4142349713487508, 1.0253873908752684, -0.6344711510801252, 0.2736544613480108, 0.10304790113170942, -0.03298524733362019, 0.5935028001089265, 0.4838846773154546, 0.8732381580494233, 1.4128524795674415, 0.08490496568549535, 0.050290802392600024, -0.46573622578532187, 0.18929328771708429, 0.022354739248472047, 0.18032179012293742, -0.5383926430861103, 0.6349278683681299, 0.7460618503587655, 0.6143492711346112, 1.1800052422773377, -0.4317198762713371, -0.39825819636098175, 0.020492888094452415, 0.26054148974539326, 0.35542164302954893, -0.09632068069538566, 1.1880737687482943, 0.7622480573510461, -0.12954313804362508, 0.6448810312697735, 0.14237852278024538, -1.254266568431477, -0.4390979624690971, -0.7899958009345055, -0.30993485012088473, 0.6722028469700168, -0.7823208404463984, 0.5862555713819035, 1.2177004118684112, 1.587168629736668, 0.43377784098629774, 0.2796177411902997, 0.8470418963750924, 0.3360985288016682, 0.9208215794336971, 0.002407301316962099, 0.00458636300942406, 0.9329535515195241, -0.7517379185041624, 1.1400847378001369, -1.9844115112198117, 1.268566939128557, -0.0334254762745057, -1.6953738158116232, -0.8040408315832263, 0.016360777148160116, 0.41731413370847836, -0.38523140506373255, 1.2970812498450508, -2.236660366102504, -0.5882604503630262, -0.2731599067897886, -0.29682518018130133, 0.6461631547594263, 0.60302821358222], \"xaxis\": \"x15\", \"y\": [0.3643930281255974, 0.15026292366620095, 1.2187222278603946, -0.8659906012809404, 0.6004784913268533, -1.0589820545230748, -1.5683314423426904, -1.6539365309773515, 0.12136885230734451, 1.769195740544522, -0.34786923195499164, -0.5611026339790515, 1.884395043792925, 0.10554293170215406, -0.6971983382812603, 0.7833018925568376, -2.300638357051978, -1.3172806218596724, -0.04373228510009631, -1.2671251518663433, 1.3682141073747136, 0.1758901613320038, 0.4131184697361528, -0.13307235755723854, -0.09343541524988579, -0.23793992896567595, 0.37511476141478445, 1.5348806704194566, -0.9690143836986986, -0.4361298995213377, 0.11884415029697731, 0.7053708211848962, -1.170756619547385, 0.12391062586154639, -1.775733651033394, -1.7025147144806678, 0.24120216357934682, -0.05909560823662816, 0.6990921904976213, -1.2551961134773182, -0.190020144313903, -1.2001001024950408, 0.6274370541851635, 0.5015803990467228, 1.7377383170505403, 0.7669569890905374, -0.591194403818167, -1.184929573922818, -0.09713963731436984, 2.2273843627971575, -1.2140642939832837, -0.726190654922945, 0.21963148157113957, -0.2669805745888528, -0.767942069013212, -0.1521855580871152, -0.3904159798584094, 1.2739452686099946, 0.36218314088967013, 0.11030818464201156, 1.9268791207613563, 0.5487869697256245, -0.9762768663466627, 1.3932777236238698, 0.7258730775669255, -1.94063820760366, -0.5616258682969569, -1.045963556303688, -0.046928354294379034, -0.6985230840516604, -0.09137824514435089, 0.11975928366817555, 0.5719600766112413, -0.5602018420934456, -1.3733210357679502, 0.930729614688202, -1.2865839708266649, 0.24263820697068555, -0.6503235979872184, 0.9780605553222481, 0.2058777005882192, -0.08601947943729862, 0.4341754032068352, -0.836596194783516, -0.5578839609069209, -0.5134003010550453, 0.2902632694148725, -2.69040970394117, 0.9976251276467392, 1.5258496506679962, -0.09914102682089235, -1.2196458165465838, 1.8644668321972602, 1.0079481290352872, -0.4500239322508063, 0.8962399016639363, -0.37922022639110614, 0.2181399664309546, -0.12843420402850228, 2.1360706839894226], \"yaxis\": \"y15\"}, {\"histfunc\": \"count\", \"histnorm\": \"\", \"marker\": {\"color\": \"rgba(128, 0, 128, 1.0)\", \"line\": {\"color\": \"#4D5663\", \"width\": 1.3}}, \"name\": \"D\", \"nbinsx\": 10, \"opacity\": 0.8, \"orientation\": \"v\", \"type\": \"histogram\", \"x\": [0.3643930281255974, 0.15026292366620095, 1.2187222278603946, -0.8659906012809404, 0.6004784913268533, -1.0589820545230748, -1.5683314423426904, -1.6539365309773515, 0.12136885230734451, 1.769195740544522, -0.34786923195499164, -0.5611026339790515, 1.884395043792925, 0.10554293170215406, -0.6971983382812603, 0.7833018925568376, -2.300638357051978, -1.3172806218596724, -0.04373228510009631, -1.2671251518663433, 1.3682141073747136, 0.1758901613320038, 0.4131184697361528, -0.13307235755723854, -0.09343541524988579, -0.23793992896567595, 0.37511476141478445, 1.5348806704194566, -0.9690143836986986, -0.4361298995213377, 0.11884415029697731, 0.7053708211848962, -1.170756619547385, 0.12391062586154639, -1.775733651033394, -1.7025147144806678, 0.24120216357934682, -0.05909560823662816, 0.6990921904976213, -1.2551961134773182, -0.190020144313903, -1.2001001024950408, 0.6274370541851635, 0.5015803990467228, 1.7377383170505403, 0.7669569890905374, -0.591194403818167, -1.184929573922818, -0.09713963731436984, 2.2273843627971575, -1.2140642939832837, -0.726190654922945, 0.21963148157113957, -0.2669805745888528, -0.767942069013212, -0.1521855580871152, -0.3904159798584094, 1.2739452686099946, 0.36218314088967013, 0.11030818464201156, 1.9268791207613563, 0.5487869697256245, -0.9762768663466627, 1.3932777236238698, 0.7258730775669255, -1.94063820760366, -0.5616258682969569, -1.045963556303688, -0.046928354294379034, -0.6985230840516604, -0.09137824514435089, 0.11975928366817555, 0.5719600766112413, -0.5602018420934456, -1.3733210357679502, 0.930729614688202, -1.2865839708266649, 0.24263820697068555, -0.6503235979872184, 0.9780605553222481, 0.2058777005882192, -0.08601947943729862, 0.4341754032068352, -0.836596194783516, -0.5578839609069209, -0.5134003010550453, 0.2902632694148725, -2.69040970394117, 0.9976251276467392, 1.5258496506679962, -0.09914102682089235, -1.2196458165465838, 1.8644668321972602, 1.0079481290352872, -0.4500239322508063, 0.8962399016639363, -0.37922022639110614, 0.2181399664309546, -0.12843420402850228, 2.1360706839894226], \"xaxis\": \"x16\", \"yaxis\": \"y16\"}],\n",
       "                        {\"bargap\": 0.02, \"legend\": {\"bgcolor\": \"#F5F6F9\", \"font\": {\"color\": \"#4D5663\"}}, \"paper_bgcolor\": \"#F5F6F9\", \"plot_bgcolor\": \"#F5F6F9\", \"showlegend\": false, \"template\": {\"data\": {\"bar\": [{\"error_x\": {\"color\": \"#2a3f5f\"}, \"error_y\": {\"color\": \"#2a3f5f\"}, \"marker\": {\"line\": {\"color\": \"#E5ECF6\", \"width\": 0.5}}, \"type\": \"bar\"}], \"barpolar\": [{\"marker\": {\"line\": {\"color\": \"#E5ECF6\", \"width\": 0.5}}, \"type\": \"barpolar\"}], \"carpet\": [{\"aaxis\": {\"endlinecolor\": \"#2a3f5f\", \"gridcolor\": \"white\", \"linecolor\": \"white\", \"minorgridcolor\": \"white\", \"startlinecolor\": \"#2a3f5f\"}, \"baxis\": {\"endlinecolor\": \"#2a3f5f\", \"gridcolor\": \"white\", \"linecolor\": \"white\", \"minorgridcolor\": \"white\", \"startlinecolor\": \"#2a3f5f\"}, \"type\": \"carpet\"}], \"choropleth\": [{\"colorbar\": {\"outlinewidth\": 0, \"ticks\": \"\"}, \"type\": \"choropleth\"}], \"contour\": [{\"colorbar\": {\"outlinewidth\": 0, \"ticks\": \"\"}, \"colorscale\": [[0.0, \"#0d0887\"], [0.1111111111111111, \"#46039f\"], [0.2222222222222222, \"#7201a8\"], [0.3333333333333333, \"#9c179e\"], [0.4444444444444444, \"#bd3786\"], [0.5555555555555556, \"#d8576b\"], [0.6666666666666666, \"#ed7953\"], [0.7777777777777778, \"#fb9f3a\"], [0.8888888888888888, \"#fdca26\"], [1.0, \"#f0f921\"]], \"type\": \"contour\"}], \"contourcarpet\": [{\"colorbar\": {\"outlinewidth\": 0, \"ticks\": \"\"}, \"type\": \"contourcarpet\"}], \"heatmap\": [{\"colorbar\": {\"outlinewidth\": 0, \"ticks\": \"\"}, \"colorscale\": [[0.0, \"#0d0887\"], [0.1111111111111111, \"#46039f\"], [0.2222222222222222, \"#7201a8\"], [0.3333333333333333, \"#9c179e\"], [0.4444444444444444, \"#bd3786\"], [0.5555555555555556, \"#d8576b\"], [0.6666666666666666, \"#ed7953\"], [0.7777777777777778, \"#fb9f3a\"], [0.8888888888888888, \"#fdca26\"], [1.0, \"#f0f921\"]], \"type\": \"heatmap\"}], \"heatmapgl\": [{\"colorbar\": {\"outlinewidth\": 0, \"ticks\": \"\"}, \"colorscale\": [[0.0, \"#0d0887\"], [0.1111111111111111, \"#46039f\"], [0.2222222222222222, \"#7201a8\"], [0.3333333333333333, \"#9c179e\"], [0.4444444444444444, \"#bd3786\"], [0.5555555555555556, \"#d8576b\"], [0.6666666666666666, \"#ed7953\"], [0.7777777777777778, \"#fb9f3a\"], [0.8888888888888888, \"#fdca26\"], [1.0, \"#f0f921\"]], \"type\": \"heatmapgl\"}], \"histogram\": [{\"marker\": {\"colorbar\": {\"outlinewidth\": 0, \"ticks\": \"\"}}, \"type\": \"histogram\"}], \"histogram2d\": [{\"colorbar\": {\"outlinewidth\": 0, \"ticks\": \"\"}, \"colorscale\": [[0.0, \"#0d0887\"], [0.1111111111111111, \"#46039f\"], [0.2222222222222222, \"#7201a8\"], [0.3333333333333333, \"#9c179e\"], [0.4444444444444444, \"#bd3786\"], [0.5555555555555556, \"#d8576b\"], [0.6666666666666666, \"#ed7953\"], [0.7777777777777778, \"#fb9f3a\"], [0.8888888888888888, \"#fdca26\"], [1.0, \"#f0f921\"]], \"type\": \"histogram2d\"}], \"histogram2dcontour\": [{\"colorbar\": {\"outlinewidth\": 0, \"ticks\": \"\"}, \"colorscale\": [[0.0, \"#0d0887\"], [0.1111111111111111, \"#46039f\"], [0.2222222222222222, \"#7201a8\"], [0.3333333333333333, \"#9c179e\"], [0.4444444444444444, \"#bd3786\"], [0.5555555555555556, \"#d8576b\"], [0.6666666666666666, \"#ed7953\"], [0.7777777777777778, \"#fb9f3a\"], [0.8888888888888888, \"#fdca26\"], [1.0, \"#f0f921\"]], \"type\": \"histogram2dcontour\"}], \"mesh3d\": [{\"colorbar\": {\"outlinewidth\": 0, \"ticks\": \"\"}, \"type\": \"mesh3d\"}], \"parcoords\": [{\"line\": {\"colorbar\": {\"outlinewidth\": 0, \"ticks\": \"\"}}, \"type\": \"parcoords\"}], \"pie\": [{\"automargin\": true, \"type\": \"pie\"}], \"scatter\": [{\"marker\": {\"colorbar\": {\"outlinewidth\": 0, \"ticks\": \"\"}}, \"type\": \"scatter\"}], \"scatter3d\": [{\"line\": {\"colorbar\": {\"outlinewidth\": 0, \"ticks\": \"\"}}, \"marker\": {\"colorbar\": {\"outlinewidth\": 0, \"ticks\": \"\"}}, \"type\": \"scatter3d\"}], \"scattercarpet\": [{\"marker\": {\"colorbar\": {\"outlinewidth\": 0, \"ticks\": \"\"}}, \"type\": \"scattercarpet\"}], \"scattergeo\": [{\"marker\": {\"colorbar\": {\"outlinewidth\": 0, \"ticks\": \"\"}}, \"type\": \"scattergeo\"}], \"scattergl\": [{\"marker\": {\"colorbar\": {\"outlinewidth\": 0, \"ticks\": \"\"}}, \"type\": \"scattergl\"}], \"scattermapbox\": [{\"marker\": {\"colorbar\": {\"outlinewidth\": 0, \"ticks\": \"\"}}, \"type\": \"scattermapbox\"}], \"scatterpolar\": [{\"marker\": {\"colorbar\": {\"outlinewidth\": 0, \"ticks\": \"\"}}, \"type\": \"scatterpolar\"}], \"scatterpolargl\": [{\"marker\": {\"colorbar\": {\"outlinewidth\": 0, \"ticks\": \"\"}}, \"type\": \"scatterpolargl\"}], \"scatterternary\": [{\"marker\": {\"colorbar\": {\"outlinewidth\": 0, \"ticks\": \"\"}}, \"type\": \"scatterternary\"}], \"surface\": [{\"colorbar\": {\"outlinewidth\": 0, \"ticks\": \"\"}, \"colorscale\": [[0.0, \"#0d0887\"], [0.1111111111111111, \"#46039f\"], [0.2222222222222222, \"#7201a8\"], [0.3333333333333333, \"#9c179e\"], [0.4444444444444444, \"#bd3786\"], [0.5555555555555556, \"#d8576b\"], [0.6666666666666666, \"#ed7953\"], [0.7777777777777778, \"#fb9f3a\"], [0.8888888888888888, \"#fdca26\"], [1.0, \"#f0f921\"]], \"type\": \"surface\"}], \"table\": [{\"cells\": {\"fill\": {\"color\": \"#EBF0F8\"}, \"line\": {\"color\": \"white\"}}, \"header\": {\"fill\": {\"color\": \"#C8D4E3\"}, \"line\": {\"color\": \"white\"}}, \"type\": \"table\"}]}, \"layout\": {\"annotationdefaults\": {\"arrowcolor\": \"#2a3f5f\", \"arrowhead\": 0, \"arrowwidth\": 1}, \"coloraxis\": {\"colorbar\": {\"outlinewidth\": 0, \"ticks\": \"\"}}, \"colorscale\": {\"diverging\": [[0, \"#8e0152\"], [0.1, \"#c51b7d\"], [0.2, \"#de77ae\"], [0.3, \"#f1b6da\"], [0.4, \"#fde0ef\"], [0.5, \"#f7f7f7\"], [0.6, \"#e6f5d0\"], [0.7, \"#b8e186\"], [0.8, \"#7fbc41\"], [0.9, \"#4d9221\"], [1, \"#276419\"]], \"sequential\": [[0.0, \"#0d0887\"], [0.1111111111111111, \"#46039f\"], [0.2222222222222222, \"#7201a8\"], [0.3333333333333333, \"#9c179e\"], [0.4444444444444444, \"#bd3786\"], [0.5555555555555556, \"#d8576b\"], [0.6666666666666666, \"#ed7953\"], [0.7777777777777778, \"#fb9f3a\"], [0.8888888888888888, \"#fdca26\"], [1.0, \"#f0f921\"]], \"sequentialminus\": [[0.0, \"#0d0887\"], [0.1111111111111111, \"#46039f\"], [0.2222222222222222, \"#7201a8\"], [0.3333333333333333, \"#9c179e\"], [0.4444444444444444, \"#bd3786\"], [0.5555555555555556, \"#d8576b\"], [0.6666666666666666, \"#ed7953\"], [0.7777777777777778, \"#fb9f3a\"], [0.8888888888888888, \"#fdca26\"], [1.0, \"#f0f921\"]]}, \"colorway\": [\"#636efa\", \"#EF553B\", \"#00cc96\", \"#ab63fa\", \"#FFA15A\", \"#19d3f3\", \"#FF6692\", \"#B6E880\", \"#FF97FF\", \"#FECB52\"], \"font\": {\"color\": \"#2a3f5f\"}, \"geo\": {\"bgcolor\": \"white\", \"lakecolor\": \"white\", \"landcolor\": \"#E5ECF6\", \"showlakes\": true, \"showland\": true, \"subunitcolor\": \"white\"}, \"hoverlabel\": {\"align\": \"left\"}, \"hovermode\": \"closest\", \"mapbox\": {\"style\": \"light\"}, \"paper_bgcolor\": \"white\", \"plot_bgcolor\": \"#E5ECF6\", \"polar\": {\"angularaxis\": {\"gridcolor\": \"white\", \"linecolor\": \"white\", \"ticks\": \"\"}, \"bgcolor\": \"#E5ECF6\", \"radialaxis\": {\"gridcolor\": \"white\", \"linecolor\": \"white\", \"ticks\": \"\"}}, \"scene\": {\"xaxis\": {\"backgroundcolor\": \"#E5ECF6\", \"gridcolor\": \"white\", \"gridwidth\": 2, \"linecolor\": \"white\", \"showbackground\": true, \"ticks\": \"\", \"zerolinecolor\": \"white\"}, \"yaxis\": {\"backgroundcolor\": \"#E5ECF6\", \"gridcolor\": \"white\", \"gridwidth\": 2, \"linecolor\": \"white\", \"showbackground\": true, \"ticks\": \"\", \"zerolinecolor\": \"white\"}, \"zaxis\": {\"backgroundcolor\": \"#E5ECF6\", \"gridcolor\": \"white\", \"gridwidth\": 2, \"linecolor\": \"white\", \"showbackground\": true, \"ticks\": \"\", \"zerolinecolor\": \"white\"}}, \"shapedefaults\": {\"line\": {\"color\": \"#2a3f5f\"}}, \"ternary\": {\"aaxis\": {\"gridcolor\": \"white\", \"linecolor\": \"white\", \"ticks\": \"\"}, \"baxis\": {\"gridcolor\": \"white\", \"linecolor\": \"white\", \"ticks\": \"\"}, \"bgcolor\": \"#E5ECF6\", \"caxis\": {\"gridcolor\": \"white\", \"linecolor\": \"white\", \"ticks\": \"\"}}, \"title\": {\"x\": 0.05}, \"xaxis\": {\"automargin\": true, \"gridcolor\": \"white\", \"linecolor\": \"white\", \"ticks\": \"\", \"title\": {\"standoff\": 15}, \"zerolinecolor\": \"white\", \"zerolinewidth\": 2}, \"yaxis\": {\"automargin\": true, \"gridcolor\": \"white\", \"linecolor\": \"white\", \"ticks\": \"\", \"title\": {\"standoff\": 15}, \"zerolinecolor\": \"white\", \"zerolinewidth\": 2}}}, \"title\": {\"font\": {\"color\": \"#4D5663\"}}, \"xaxis\": {\"anchor\": \"y\", \"domain\": [0.0, 0.2125], \"gridcolor\": \"#E1E5ED\", \"showgrid\": false, \"tickfont\": {\"color\": \"#4D5663\"}, \"title\": {\"font\": {\"color\": \"#4D5663\"}, \"text\": \"\"}, \"zerolinecolor\": \"#E1E5ED\"}, \"xaxis10\": {\"anchor\": \"y10\", \"domain\": [0.2625, 0.475], \"gridcolor\": \"#E1E5ED\", \"showgrid\": false, \"tickfont\": {\"color\": \"#4D5663\"}, \"title\": {\"font\": {\"color\": \"#4D5663\"}, \"text\": \"\"}, \"zerolinecolor\": \"#E1E5ED\"}, \"xaxis11\": {\"anchor\": \"y11\", \"domain\": [0.525, 0.7375], \"gridcolor\": \"#E1E5ED\", \"showgrid\": false, \"tickfont\": {\"color\": \"#4D5663\"}, \"title\": {\"font\": {\"color\": \"#4D5663\"}, \"text\": \"\"}, \"zerolinecolor\": \"#E1E5ED\"}, \"xaxis12\": {\"anchor\": \"y12\", \"domain\": [0.7875, 1.0], \"gridcolor\": \"#E1E5ED\", \"showgrid\": false, \"tickfont\": {\"color\": \"#4D5663\"}, \"title\": {\"font\": {\"color\": \"#4D5663\"}, \"text\": \"\"}, \"zerolinecolor\": \"#E1E5ED\"}, \"xaxis13\": {\"anchor\": \"y13\", \"domain\": [0.0, 0.2125], \"gridcolor\": \"#E1E5ED\", \"showgrid\": false, \"tickfont\": {\"color\": \"#4D5663\"}, \"title\": {\"font\": {\"color\": \"#4D5663\"}, \"text\": \"\"}, \"zerolinecolor\": \"#E1E5ED\"}, \"xaxis14\": {\"anchor\": \"y14\", \"domain\": [0.2625, 0.475], \"gridcolor\": \"#E1E5ED\", \"showgrid\": false, \"tickfont\": {\"color\": \"#4D5663\"}, \"title\": {\"font\": {\"color\": \"#4D5663\"}, \"text\": \"\"}, \"zerolinecolor\": \"#E1E5ED\"}, \"xaxis15\": {\"anchor\": \"y15\", \"domain\": [0.525, 0.7375], \"gridcolor\": \"#E1E5ED\", \"showgrid\": false, \"tickfont\": {\"color\": \"#4D5663\"}, \"title\": {\"font\": {\"color\": \"#4D5663\"}, \"text\": \"\"}, \"zerolinecolor\": \"#E1E5ED\"}, \"xaxis16\": {\"anchor\": \"y16\", \"domain\": [0.7875, 1.0], \"gridcolor\": \"#E1E5ED\", \"showgrid\": false, \"tickfont\": {\"color\": \"#4D5663\"}, \"title\": {\"font\": {\"color\": \"#4D5663\"}, \"text\": \"\"}, \"zerolinecolor\": \"#E1E5ED\"}, \"xaxis2\": {\"anchor\": \"y2\", \"domain\": [0.2625, 0.475], \"gridcolor\": \"#E1E5ED\", \"showgrid\": false, \"tickfont\": {\"color\": \"#4D5663\"}, \"title\": {\"font\": {\"color\": \"#4D5663\"}, \"text\": \"\"}, \"zerolinecolor\": \"#E1E5ED\"}, \"xaxis3\": {\"anchor\": \"y3\", \"domain\": [0.525, 0.7375], \"gridcolor\": \"#E1E5ED\", \"showgrid\": false, \"tickfont\": {\"color\": \"#4D5663\"}, \"title\": {\"font\": {\"color\": \"#4D5663\"}, \"text\": \"\"}, \"zerolinecolor\": \"#E1E5ED\"}, \"xaxis4\": {\"anchor\": \"y4\", \"domain\": [0.7875, 1.0], \"gridcolor\": \"#E1E5ED\", \"showgrid\": false, \"tickfont\": {\"color\": \"#4D5663\"}, \"title\": {\"font\": {\"color\": \"#4D5663\"}, \"text\": \"\"}, \"zerolinecolor\": \"#E1E5ED\"}, \"xaxis5\": {\"anchor\": \"y5\", \"domain\": [0.0, 0.2125], \"gridcolor\": \"#E1E5ED\", \"showgrid\": false, \"tickfont\": {\"color\": \"#4D5663\"}, \"title\": {\"font\": {\"color\": \"#4D5663\"}, \"text\": \"\"}, \"zerolinecolor\": \"#E1E5ED\"}, \"xaxis6\": {\"anchor\": \"y6\", \"domain\": [0.2625, 0.475], \"gridcolor\": \"#E1E5ED\", \"showgrid\": false, \"tickfont\": {\"color\": \"#4D5663\"}, \"title\": {\"font\": {\"color\": \"#4D5663\"}, \"text\": \"\"}, \"zerolinecolor\": \"#E1E5ED\"}, \"xaxis7\": {\"anchor\": \"y7\", \"domain\": [0.525, 0.7375], \"gridcolor\": \"#E1E5ED\", \"showgrid\": false, \"tickfont\": {\"color\": \"#4D5663\"}, \"title\": {\"font\": {\"color\": \"#4D5663\"}, \"text\": \"\"}, \"zerolinecolor\": \"#E1E5ED\"}, \"xaxis8\": {\"anchor\": \"y8\", \"domain\": [0.7875, 1.0], \"gridcolor\": \"#E1E5ED\", \"showgrid\": false, \"tickfont\": {\"color\": \"#4D5663\"}, \"title\": {\"font\": {\"color\": \"#4D5663\"}, \"text\": \"\"}, \"zerolinecolor\": \"#E1E5ED\"}, \"xaxis9\": {\"anchor\": \"y9\", \"domain\": [0.0, 0.2125], \"gridcolor\": \"#E1E5ED\", \"showgrid\": false, \"tickfont\": {\"color\": \"#4D5663\"}, \"title\": {\"font\": {\"color\": \"#4D5663\"}, \"text\": \"\"}, \"zerolinecolor\": \"#E1E5ED\"}, \"yaxis\": {\"anchor\": \"x\", \"domain\": [0.8025, 1.0], \"gridcolor\": \"#E1E5ED\", \"showgrid\": false, \"tickfont\": {\"color\": \"#4D5663\"}, \"title\": {\"font\": {\"color\": \"#4D5663\"}, \"text\": \"\"}, \"zerolinecolor\": \"#E1E5ED\"}, \"yaxis10\": {\"anchor\": \"x10\", \"domain\": [0.2675, 0.465], \"gridcolor\": \"#E1E5ED\", \"showgrid\": false, \"tickfont\": {\"color\": \"#4D5663\"}, \"title\": {\"font\": {\"color\": \"#4D5663\"}, \"text\": \"\"}, \"zerolinecolor\": \"#E1E5ED\"}, \"yaxis11\": {\"anchor\": \"x11\", \"domain\": [0.2675, 0.465], \"gridcolor\": \"#E1E5ED\", \"showgrid\": false, \"tickfont\": {\"color\": \"#4D5663\"}, \"title\": {\"font\": {\"color\": \"#4D5663\"}, \"text\": \"\"}, \"zerolinecolor\": \"#E1E5ED\"}, \"yaxis12\": {\"anchor\": \"x12\", \"domain\": [0.2675, 0.465], \"gridcolor\": \"#E1E5ED\", \"showgrid\": false, \"tickfont\": {\"color\": \"#4D5663\"}, \"title\": {\"font\": {\"color\": \"#4D5663\"}, \"text\": \"\"}, \"zerolinecolor\": \"#E1E5ED\"}, \"yaxis13\": {\"anchor\": \"x13\", \"domain\": [0.0, 0.1975], \"gridcolor\": \"#E1E5ED\", \"showgrid\": false, \"tickfont\": {\"color\": \"#4D5663\"}, \"title\": {\"font\": {\"color\": \"#4D5663\"}, \"text\": \"\"}, \"zerolinecolor\": \"#E1E5ED\"}, \"yaxis14\": {\"anchor\": \"x14\", \"domain\": [0.0, 0.1975], \"gridcolor\": \"#E1E5ED\", \"showgrid\": false, \"tickfont\": {\"color\": \"#4D5663\"}, \"title\": {\"font\": {\"color\": \"#4D5663\"}, \"text\": \"\"}, \"zerolinecolor\": \"#E1E5ED\"}, \"yaxis15\": {\"anchor\": \"x15\", \"domain\": [0.0, 0.1975], \"gridcolor\": \"#E1E5ED\", \"showgrid\": false, \"tickfont\": {\"color\": \"#4D5663\"}, \"title\": {\"font\": {\"color\": \"#4D5663\"}, \"text\": \"\"}, \"zerolinecolor\": \"#E1E5ED\"}, \"yaxis16\": {\"anchor\": \"x16\", \"domain\": [0.0, 0.1975], \"gridcolor\": \"#E1E5ED\", \"showgrid\": false, \"tickfont\": {\"color\": \"#4D5663\"}, \"title\": {\"font\": {\"color\": \"#4D5663\"}, \"text\": \"\"}, \"zerolinecolor\": \"#E1E5ED\"}, \"yaxis2\": {\"anchor\": \"x2\", \"domain\": [0.8025, 1.0], \"gridcolor\": \"#E1E5ED\", \"showgrid\": false, \"tickfont\": {\"color\": \"#4D5663\"}, \"title\": {\"font\": {\"color\": \"#4D5663\"}, \"text\": \"\"}, \"zerolinecolor\": \"#E1E5ED\"}, \"yaxis3\": {\"anchor\": \"x3\", \"domain\": [0.8025, 1.0], \"gridcolor\": \"#E1E5ED\", \"showgrid\": false, \"tickfont\": {\"color\": \"#4D5663\"}, \"title\": {\"font\": {\"color\": \"#4D5663\"}, \"text\": \"\"}, \"zerolinecolor\": \"#E1E5ED\"}, \"yaxis4\": {\"anchor\": \"x4\", \"domain\": [0.8025, 1.0], \"gridcolor\": \"#E1E5ED\", \"showgrid\": false, \"tickfont\": {\"color\": \"#4D5663\"}, \"title\": {\"font\": {\"color\": \"#4D5663\"}, \"text\": \"\"}, \"zerolinecolor\": \"#E1E5ED\"}, \"yaxis5\": {\"anchor\": \"x5\", \"domain\": [0.535, 0.7325], \"gridcolor\": \"#E1E5ED\", \"showgrid\": false, \"tickfont\": {\"color\": \"#4D5663\"}, \"title\": {\"font\": {\"color\": \"#4D5663\"}, \"text\": \"\"}, \"zerolinecolor\": \"#E1E5ED\"}, \"yaxis6\": {\"anchor\": \"x6\", \"domain\": [0.535, 0.7325], \"gridcolor\": \"#E1E5ED\", \"showgrid\": false, \"tickfont\": {\"color\": \"#4D5663\"}, \"title\": {\"font\": {\"color\": \"#4D5663\"}, \"text\": \"\"}, \"zerolinecolor\": \"#E1E5ED\"}, \"yaxis7\": {\"anchor\": \"x7\", \"domain\": [0.535, 0.7325], \"gridcolor\": \"#E1E5ED\", \"showgrid\": false, \"tickfont\": {\"color\": \"#4D5663\"}, \"title\": {\"font\": {\"color\": \"#4D5663\"}, \"text\": \"\"}, \"zerolinecolor\": \"#E1E5ED\"}, \"yaxis8\": {\"anchor\": \"x8\", \"domain\": [0.535, 0.7325], \"gridcolor\": \"#E1E5ED\", \"showgrid\": false, \"tickfont\": {\"color\": \"#4D5663\"}, \"title\": {\"font\": {\"color\": \"#4D5663\"}, \"text\": \"\"}, \"zerolinecolor\": \"#E1E5ED\"}, \"yaxis9\": {\"anchor\": \"x9\", \"domain\": [0.2675, 0.465], \"gridcolor\": \"#E1E5ED\", \"showgrid\": false, \"tickfont\": {\"color\": \"#4D5663\"}, \"title\": {\"font\": {\"color\": \"#4D5663\"}, \"text\": \"\"}, \"zerolinecolor\": \"#E1E5ED\"}},\n",
       "                        {\"showLink\": true, \"linkText\": \"Export to plot.ly\", \"plotlyServerURL\": \"https://plot.ly\", \"responsive\": true}\n",
       "                    ).then(function(){\n",
       "                            \n",
       "var gd = document.getElementById('9d74ffb8-073a-41da-b04f-f7e8b2189ce5');\n",
       "var x = new MutationObserver(function (mutations, observer) {{\n",
       "        var display = window.getComputedStyle(gd).display;\n",
       "        if (!display || display === 'none') {{\n",
       "            console.log([gd, 'removed!']);\n",
       "            Plotly.purge(gd);\n",
       "            observer.disconnect();\n",
       "        }}\n",
       "}});\n",
       "\n",
       "// Listen for the removal of the full notebook cells\n",
       "var notebookContainer = gd.closest('#notebook-container');\n",
       "if (notebookContainer) {{\n",
       "    x.observe(notebookContainer, {childList: true});\n",
       "}}\n",
       "\n",
       "// Listen for the clearing of the current output cell\n",
       "var outputEl = gd.closest('.output');\n",
       "if (outputEl) {{\n",
       "    x.observe(outputEl, {childList: true});\n",
       "}}\n",
       "\n",
       "                        })\n",
       "                };\n",
       "                });\n",
       "            </script>\n",
       "        </div>"
      ]
     },
     "metadata": {},
     "output_type": "display_data"
    }
   ],
   "source": [
    "df.scatter_matrix()"
   ]
  },
  {
   "cell_type": "markdown",
   "metadata": {},
   "source": [
    "## Visualização de dados reais ##"
   ]
  },
  {
   "cell_type": "markdown",
   "metadata": {},
   "source": [
    "**Lembre-se de habilitar o modo offline do plotly**"
   ]
  },
  {
   "cell_type": "code",
   "execution_count": 31,
   "metadata": {},
   "outputs": [
    {
     "data": {
      "text/html": [
       "        <script type=\"text/javascript\">\n",
       "        window.PlotlyConfig = {MathJaxConfig: 'local'};\n",
       "        if (window.MathJax) {MathJax.Hub.Config({SVG: {font: \"STIX-Web\"}});}\n",
       "        if (typeof require !== 'undefined') {\n",
       "        require.undef(\"plotly\");\n",
       "        requirejs.config({\n",
       "            paths: {\n",
       "                'plotly': ['https://cdn.plot.ly/plotly-latest.min']\n",
       "            }\n",
       "        });\n",
       "        require(['plotly'], function(Plotly) {\n",
       "            window._Plotly = Plotly;\n",
       "        });\n",
       "        }\n",
       "        </script>\n",
       "        "
      ]
     },
     "metadata": {},
     "output_type": "display_data"
    }
   ],
   "source": [
    "import cufflinks as cf\n",
    "cf.go_offline()"
   ]
  },
  {
   "cell_type": "markdown",
   "metadata": {},
   "source": [
    "**Importe o Pandas**"
   ]
  },
  {
   "cell_type": "code",
   "execution_count": 33,
   "metadata": {},
   "outputs": [],
   "source": [
    "import pandas as pd"
   ]
  },
  {
   "cell_type": "code",
   "execution_count": 34,
   "metadata": {},
   "outputs": [],
   "source": [
    "df = pd.read_csv('Plotly-Materiais-de-Apoio/plotly/datasets/olist_classified_public_dataset.csv')"
   ]
  },
  {
   "cell_type": "markdown",
   "metadata": {},
   "source": [
    "**Visualizando a base de dados**"
   ]
  },
  {
   "cell_type": "code",
   "execution_count": 35,
   "metadata": {},
   "outputs": [
    {
     "data": {
      "text/html": [
       "<div>\n",
       "<style scoped>\n",
       "    .dataframe tbody tr th:only-of-type {\n",
       "        vertical-align: middle;\n",
       "    }\n",
       "\n",
       "    .dataframe tbody tr th {\n",
       "        vertical-align: top;\n",
       "    }\n",
       "\n",
       "    .dataframe thead th {\n",
       "        text-align: right;\n",
       "    }\n",
       "</style>\n",
       "<table border=\"1\" class=\"dataframe\">\n",
       "  <thead>\n",
       "    <tr style=\"text-align: right;\">\n",
       "      <th></th>\n",
       "      <th>Unnamed: 0</th>\n",
       "      <th>id</th>\n",
       "      <th>order_status</th>\n",
       "      <th>order_products_value</th>\n",
       "      <th>order_freight_value</th>\n",
       "      <th>order_items_qty</th>\n",
       "      <th>order_sellers_qty</th>\n",
       "      <th>order_purchase_timestamp</th>\n",
       "      <th>order_aproved_at</th>\n",
       "      <th>order_estimated_delivery_date</th>\n",
       "      <th>...</th>\n",
       "      <th>votes_delayed</th>\n",
       "      <th>votes_low_quality</th>\n",
       "      <th>votes_return</th>\n",
       "      <th>votes_not_as_anounced</th>\n",
       "      <th>votes_partial_delivery</th>\n",
       "      <th>votes_other_delivery</th>\n",
       "      <th>votes_other_order</th>\n",
       "      <th>votes_satisfied</th>\n",
       "      <th>most_voted_subclass</th>\n",
       "      <th>most_voted_class</th>\n",
       "    </tr>\n",
       "  </thead>\n",
       "  <tbody>\n",
       "    <tr>\n",
       "      <td>0</td>\n",
       "      <td>0</td>\n",
       "      <td>1</td>\n",
       "      <td>delivered</td>\n",
       "      <td>89.99</td>\n",
       "      <td>14.38</td>\n",
       "      <td>1</td>\n",
       "      <td>1</td>\n",
       "      <td>2017-08-30 11:41:01.000000</td>\n",
       "      <td>2017-08-30 11:55:08.970352</td>\n",
       "      <td>2017-09-21 00:00:00.000000</td>\n",
       "      <td>...</td>\n",
       "      <td>0</td>\n",
       "      <td>0</td>\n",
       "      <td>0</td>\n",
       "      <td>0</td>\n",
       "      <td>0</td>\n",
       "      <td>0</td>\n",
       "      <td>0</td>\n",
       "      <td>3</td>\n",
       "      <td>satisfeito</td>\n",
       "      <td>satisfeito_com_pedido</td>\n",
       "    </tr>\n",
       "    <tr>\n",
       "      <td>1</td>\n",
       "      <td>1</td>\n",
       "      <td>2</td>\n",
       "      <td>delivered</td>\n",
       "      <td>69.00</td>\n",
       "      <td>15.23</td>\n",
       "      <td>1</td>\n",
       "      <td>1</td>\n",
       "      <td>2017-09-26 09:13:36.000000</td>\n",
       "      <td>2017-09-26 09:28:10.922048</td>\n",
       "      <td>2017-10-24 00:00:00.000000</td>\n",
       "      <td>...</td>\n",
       "      <td>0</td>\n",
       "      <td>0</td>\n",
       "      <td>0</td>\n",
       "      <td>0</td>\n",
       "      <td>0</td>\n",
       "      <td>0</td>\n",
       "      <td>0</td>\n",
       "      <td>0</td>\n",
       "      <td>antes_prazo</td>\n",
       "      <td>satisfeito_com_pedido</td>\n",
       "    </tr>\n",
       "    <tr>\n",
       "      <td>2</td>\n",
       "      <td>2</td>\n",
       "      <td>3</td>\n",
       "      <td>delivered</td>\n",
       "      <td>99.80</td>\n",
       "      <td>15.86</td>\n",
       "      <td>2</td>\n",
       "      <td>4</td>\n",
       "      <td>2018-01-15 15:50:42.000000</td>\n",
       "      <td>2018-01-17 07:29:56.419769</td>\n",
       "      <td>2018-02-05 00:00:00.000000</td>\n",
       "      <td>...</td>\n",
       "      <td>0</td>\n",
       "      <td>0</td>\n",
       "      <td>0</td>\n",
       "      <td>0</td>\n",
       "      <td>3</td>\n",
       "      <td>0</td>\n",
       "      <td>0</td>\n",
       "      <td>0</td>\n",
       "      <td>entrega_parcial</td>\n",
       "      <td>problemas_de_entrega</td>\n",
       "    </tr>\n",
       "    <tr>\n",
       "      <td>3</td>\n",
       "      <td>3</td>\n",
       "      <td>4</td>\n",
       "      <td>delivered</td>\n",
       "      <td>87.00</td>\n",
       "      <td>12.74</td>\n",
       "      <td>1</td>\n",
       "      <td>1</td>\n",
       "      <td>2018-02-04 11:16:42.000000</td>\n",
       "      <td>2018-02-06 05:31:50.990164</td>\n",
       "      <td>2018-03-13 00:00:00.000000</td>\n",
       "      <td>...</td>\n",
       "      <td>3</td>\n",
       "      <td>0</td>\n",
       "      <td>0</td>\n",
       "      <td>0</td>\n",
       "      <td>0</td>\n",
       "      <td>0</td>\n",
       "      <td>0</td>\n",
       "      <td>0</td>\n",
       "      <td>atrasado</td>\n",
       "      <td>problemas_de_entrega</td>\n",
       "    </tr>\n",
       "    <tr>\n",
       "      <td>4</td>\n",
       "      <td>4</td>\n",
       "      <td>5</td>\n",
       "      <td>delivered</td>\n",
       "      <td>99.90</td>\n",
       "      <td>17.95</td>\n",
       "      <td>1</td>\n",
       "      <td>2</td>\n",
       "      <td>2017-12-07 11:58:42.000000</td>\n",
       "      <td>2017-12-08 02:36:49.587515</td>\n",
       "      <td>2018-01-03 00:00:00.000000</td>\n",
       "      <td>...</td>\n",
       "      <td>0</td>\n",
       "      <td>0</td>\n",
       "      <td>0</td>\n",
       "      <td>0</td>\n",
       "      <td>3</td>\n",
       "      <td>0</td>\n",
       "      <td>0</td>\n",
       "      <td>0</td>\n",
       "      <td>entrega_parcial</td>\n",
       "      <td>problemas_de_entrega</td>\n",
       "    </tr>\n",
       "  </tbody>\n",
       "</table>\n",
       "<p>5 rows × 34 columns</p>\n",
       "</div>"
      ],
      "text/plain": [
       "   Unnamed: 0  id order_status  order_products_value  order_freight_value  \\\n",
       "0           0   1    delivered                 89.99                14.38   \n",
       "1           1   2    delivered                 69.00                15.23   \n",
       "2           2   3    delivered                 99.80                15.86   \n",
       "3           3   4    delivered                 87.00                12.74   \n",
       "4           4   5    delivered                 99.90                17.95   \n",
       "\n",
       "   order_items_qty  order_sellers_qty    order_purchase_timestamp  \\\n",
       "0                1                  1  2017-08-30 11:41:01.000000   \n",
       "1                1                  1  2017-09-26 09:13:36.000000   \n",
       "2                2                  4  2018-01-15 15:50:42.000000   \n",
       "3                1                  1  2018-02-04 11:16:42.000000   \n",
       "4                1                  2  2017-12-07 11:58:42.000000   \n",
       "\n",
       "             order_aproved_at order_estimated_delivery_date  ...  \\\n",
       "0  2017-08-30 11:55:08.970352    2017-09-21 00:00:00.000000  ...   \n",
       "1  2017-09-26 09:28:10.922048    2017-10-24 00:00:00.000000  ...   \n",
       "2  2018-01-17 07:29:56.419769    2018-02-05 00:00:00.000000  ...   \n",
       "3  2018-02-06 05:31:50.990164    2018-03-13 00:00:00.000000  ...   \n",
       "4  2017-12-08 02:36:49.587515    2018-01-03 00:00:00.000000  ...   \n",
       "\n",
       "  votes_delayed votes_low_quality votes_return  votes_not_as_anounced  \\\n",
       "0             0                 0            0                      0   \n",
       "1             0                 0            0                      0   \n",
       "2             0                 0            0                      0   \n",
       "3             3                 0            0                      0   \n",
       "4             0                 0            0                      0   \n",
       "\n",
       "  votes_partial_delivery  votes_other_delivery  votes_other_order  \\\n",
       "0                      0                     0                  0   \n",
       "1                      0                     0                  0   \n",
       "2                      3                     0                  0   \n",
       "3                      0                     0                  0   \n",
       "4                      3                     0                  0   \n",
       "\n",
       "   votes_satisfied  most_voted_subclass       most_voted_class  \n",
       "0                3           satisfeito  satisfeito_com_pedido  \n",
       "1                0          antes_prazo  satisfeito_com_pedido  \n",
       "2                0      entrega_parcial   problemas_de_entrega  \n",
       "3                0             atrasado   problemas_de_entrega  \n",
       "4                0      entrega_parcial   problemas_de_entrega  \n",
       "\n",
       "[5 rows x 34 columns]"
      ]
     },
     "execution_count": 35,
     "metadata": {},
     "output_type": "execute_result"
    }
   ],
   "source": [
    "df.head()"
   ]
  },
  {
   "cell_type": "code",
   "execution_count": 37,
   "metadata": {},
   "outputs": [
    {
     "name": "stdout",
     "output_type": "stream",
     "text": [
      "<class 'pandas.core.frame.DataFrame'>\n",
      "RangeIndex: 3584 entries, 0 to 3583\n",
      "Data columns (total 34 columns):\n",
      "Unnamed: 0                       3584 non-null int64\n",
      "id                               3584 non-null int64\n",
      "order_status                     3584 non-null object\n",
      "order_products_value             3584 non-null float64\n",
      "order_freight_value              3584 non-null float64\n",
      "order_items_qty                  3584 non-null int64\n",
      "order_sellers_qty                3584 non-null int64\n",
      "order_purchase_timestamp         3584 non-null object\n",
      "order_aproved_at                 3584 non-null object\n",
      "order_estimated_delivery_date    3584 non-null object\n",
      "order_delivered_customer_date    3467 non-null object\n",
      "customer_city                    3584 non-null object\n",
      "customer_state                   3584 non-null object\n",
      "customer_zip_code_prefix         3584 non-null int64\n",
      "product_category_name            3584 non-null object\n",
      "product_name_lenght              3584 non-null int64\n",
      "product_description_lenght       3584 non-null int64\n",
      "product_photos_qty               3584 non-null int64\n",
      "review_score                     3584 non-null int64\n",
      "review_comment_title             0 non-null float64\n",
      "review_comment_message           3584 non-null object\n",
      "review_creation_date             3584 non-null object\n",
      "review_answer_timestamp          3584 non-null object\n",
      "votes_before_estimate            3584 non-null int64\n",
      "votes_delayed                    3584 non-null int64\n",
      "votes_low_quality                3584 non-null int64\n",
      "votes_return                     3584 non-null int64\n",
      "votes_not_as_anounced            3584 non-null int64\n",
      "votes_partial_delivery           3584 non-null int64\n",
      "votes_other_delivery             3584 non-null int64\n",
      "votes_other_order                3584 non-null int64\n",
      "votes_satisfied                  3584 non-null int64\n",
      "most_voted_subclass              3413 non-null object\n",
      "most_voted_class                 3413 non-null object\n",
      "dtypes: float64(3), int64(18), object(13)\n",
      "memory usage: 952.1+ KB\n"
     ]
    }
   ],
   "source": [
    "df.info()"
   ]
  },
  {
   "cell_type": "markdown",
   "metadata": {},
   "source": [
    "**Informações do Dataset**"
   ]
  },
  {
   "cell_type": "markdown",
   "metadata": {},
   "source": [
    "## Perguntas aos dados"
   ]
  },
  {
   "cell_type": "markdown",
   "metadata": {},
   "source": [
    "- Quais a distribuicao dos status dos pedidos?\n",
    "- Quais os meses do ano houve mais vendas?\n",
    "- Qual a quantidade de items de um pedido? (medio)\n",
    "- Qual a quantidade de vendedores em um pedido ? (medio)\n",
    "- O valor do frete tende aumentar com o preco do produto?\n",
    "- Qual o tempo medio de entrega?\n",
    "- Como foi as vendas por mês?\n",
    "- Quais meses superaram a meta de vendas?\n",
    "- Como foi a venda por mês se comparado ao ano de 2016?"
   ]
  },
  {
   "cell_type": "code",
   "execution_count": 40,
   "metadata": {},
   "outputs": [
    {
     "data": {
      "application/vnd.plotly.v1+json": {
       "config": {
        "linkText": "Export to plot.ly",
        "plotlyServerURL": "https://plot.ly",
        "showLink": true
       },
       "data": [
        {
         "marker": {
          "color": "rgba(255, 153, 51, 0.6)",
          "line": {
           "color": "rgba(255, 153, 51, 1.0)",
           "width": 1
          }
         },
         "name": "order_status",
         "orientation": "v",
         "text": "",
         "type": "bar",
         "x": [
          "delivered",
          "shipped",
          "canceled",
          "invoiced",
          "processing"
         ],
         "y": [
          3467,
          48,
          25,
          24,
          20
         ]
        }
       ],
       "layout": {
        "legend": {
         "bgcolor": "#F5F6F9",
         "font": {
          "color": "#4D5663"
         }
        },
        "paper_bgcolor": "#F5F6F9",
        "plot_bgcolor": "#F5F6F9",
        "template": {
         "data": {
          "bar": [
           {
            "error_x": {
             "color": "#2a3f5f"
            },
            "error_y": {
             "color": "#2a3f5f"
            },
            "marker": {
             "line": {
              "color": "#E5ECF6",
              "width": 0.5
             }
            },
            "type": "bar"
           }
          ],
          "barpolar": [
           {
            "marker": {
             "line": {
              "color": "#E5ECF6",
              "width": 0.5
             }
            },
            "type": "barpolar"
           }
          ],
          "carpet": [
           {
            "aaxis": {
             "endlinecolor": "#2a3f5f",
             "gridcolor": "white",
             "linecolor": "white",
             "minorgridcolor": "white",
             "startlinecolor": "#2a3f5f"
            },
            "baxis": {
             "endlinecolor": "#2a3f5f",
             "gridcolor": "white",
             "linecolor": "white",
             "minorgridcolor": "white",
             "startlinecolor": "#2a3f5f"
            },
            "type": "carpet"
           }
          ],
          "choropleth": [
           {
            "colorbar": {
             "outlinewidth": 0,
             "ticks": ""
            },
            "type": "choropleth"
           }
          ],
          "contour": [
           {
            "colorbar": {
             "outlinewidth": 0,
             "ticks": ""
            },
            "colorscale": [
             [
              0,
              "#0d0887"
             ],
             [
              0.1111111111111111,
              "#46039f"
             ],
             [
              0.2222222222222222,
              "#7201a8"
             ],
             [
              0.3333333333333333,
              "#9c179e"
             ],
             [
              0.4444444444444444,
              "#bd3786"
             ],
             [
              0.5555555555555556,
              "#d8576b"
             ],
             [
              0.6666666666666666,
              "#ed7953"
             ],
             [
              0.7777777777777778,
              "#fb9f3a"
             ],
             [
              0.8888888888888888,
              "#fdca26"
             ],
             [
              1,
              "#f0f921"
             ]
            ],
            "type": "contour"
           }
          ],
          "contourcarpet": [
           {
            "colorbar": {
             "outlinewidth": 0,
             "ticks": ""
            },
            "type": "contourcarpet"
           }
          ],
          "heatmap": [
           {
            "colorbar": {
             "outlinewidth": 0,
             "ticks": ""
            },
            "colorscale": [
             [
              0,
              "#0d0887"
             ],
             [
              0.1111111111111111,
              "#46039f"
             ],
             [
              0.2222222222222222,
              "#7201a8"
             ],
             [
              0.3333333333333333,
              "#9c179e"
             ],
             [
              0.4444444444444444,
              "#bd3786"
             ],
             [
              0.5555555555555556,
              "#d8576b"
             ],
             [
              0.6666666666666666,
              "#ed7953"
             ],
             [
              0.7777777777777778,
              "#fb9f3a"
             ],
             [
              0.8888888888888888,
              "#fdca26"
             ],
             [
              1,
              "#f0f921"
             ]
            ],
            "type": "heatmap"
           }
          ],
          "heatmapgl": [
           {
            "colorbar": {
             "outlinewidth": 0,
             "ticks": ""
            },
            "colorscale": [
             [
              0,
              "#0d0887"
             ],
             [
              0.1111111111111111,
              "#46039f"
             ],
             [
              0.2222222222222222,
              "#7201a8"
             ],
             [
              0.3333333333333333,
              "#9c179e"
             ],
             [
              0.4444444444444444,
              "#bd3786"
             ],
             [
              0.5555555555555556,
              "#d8576b"
             ],
             [
              0.6666666666666666,
              "#ed7953"
             ],
             [
              0.7777777777777778,
              "#fb9f3a"
             ],
             [
              0.8888888888888888,
              "#fdca26"
             ],
             [
              1,
              "#f0f921"
             ]
            ],
            "type": "heatmapgl"
           }
          ],
          "histogram": [
           {
            "marker": {
             "colorbar": {
              "outlinewidth": 0,
              "ticks": ""
             }
            },
            "type": "histogram"
           }
          ],
          "histogram2d": [
           {
            "colorbar": {
             "outlinewidth": 0,
             "ticks": ""
            },
            "colorscale": [
             [
              0,
              "#0d0887"
             ],
             [
              0.1111111111111111,
              "#46039f"
             ],
             [
              0.2222222222222222,
              "#7201a8"
             ],
             [
              0.3333333333333333,
              "#9c179e"
             ],
             [
              0.4444444444444444,
              "#bd3786"
             ],
             [
              0.5555555555555556,
              "#d8576b"
             ],
             [
              0.6666666666666666,
              "#ed7953"
             ],
             [
              0.7777777777777778,
              "#fb9f3a"
             ],
             [
              0.8888888888888888,
              "#fdca26"
             ],
             [
              1,
              "#f0f921"
             ]
            ],
            "type": "histogram2d"
           }
          ],
          "histogram2dcontour": [
           {
            "colorbar": {
             "outlinewidth": 0,
             "ticks": ""
            },
            "colorscale": [
             [
              0,
              "#0d0887"
             ],
             [
              0.1111111111111111,
              "#46039f"
             ],
             [
              0.2222222222222222,
              "#7201a8"
             ],
             [
              0.3333333333333333,
              "#9c179e"
             ],
             [
              0.4444444444444444,
              "#bd3786"
             ],
             [
              0.5555555555555556,
              "#d8576b"
             ],
             [
              0.6666666666666666,
              "#ed7953"
             ],
             [
              0.7777777777777778,
              "#fb9f3a"
             ],
             [
              0.8888888888888888,
              "#fdca26"
             ],
             [
              1,
              "#f0f921"
             ]
            ],
            "type": "histogram2dcontour"
           }
          ],
          "mesh3d": [
           {
            "colorbar": {
             "outlinewidth": 0,
             "ticks": ""
            },
            "type": "mesh3d"
           }
          ],
          "parcoords": [
           {
            "line": {
             "colorbar": {
              "outlinewidth": 0,
              "ticks": ""
             }
            },
            "type": "parcoords"
           }
          ],
          "pie": [
           {
            "automargin": true,
            "type": "pie"
           }
          ],
          "scatter": [
           {
            "marker": {
             "colorbar": {
              "outlinewidth": 0,
              "ticks": ""
             }
            },
            "type": "scatter"
           }
          ],
          "scatter3d": [
           {
            "line": {
             "colorbar": {
              "outlinewidth": 0,
              "ticks": ""
             }
            },
            "marker": {
             "colorbar": {
              "outlinewidth": 0,
              "ticks": ""
             }
            },
            "type": "scatter3d"
           }
          ],
          "scattercarpet": [
           {
            "marker": {
             "colorbar": {
              "outlinewidth": 0,
              "ticks": ""
             }
            },
            "type": "scattercarpet"
           }
          ],
          "scattergeo": [
           {
            "marker": {
             "colorbar": {
              "outlinewidth": 0,
              "ticks": ""
             }
            },
            "type": "scattergeo"
           }
          ],
          "scattergl": [
           {
            "marker": {
             "colorbar": {
              "outlinewidth": 0,
              "ticks": ""
             }
            },
            "type": "scattergl"
           }
          ],
          "scattermapbox": [
           {
            "marker": {
             "colorbar": {
              "outlinewidth": 0,
              "ticks": ""
             }
            },
            "type": "scattermapbox"
           }
          ],
          "scatterpolar": [
           {
            "marker": {
             "colorbar": {
              "outlinewidth": 0,
              "ticks": ""
             }
            },
            "type": "scatterpolar"
           }
          ],
          "scatterpolargl": [
           {
            "marker": {
             "colorbar": {
              "outlinewidth": 0,
              "ticks": ""
             }
            },
            "type": "scatterpolargl"
           }
          ],
          "scatterternary": [
           {
            "marker": {
             "colorbar": {
              "outlinewidth": 0,
              "ticks": ""
             }
            },
            "type": "scatterternary"
           }
          ],
          "surface": [
           {
            "colorbar": {
             "outlinewidth": 0,
             "ticks": ""
            },
            "colorscale": [
             [
              0,
              "#0d0887"
             ],
             [
              0.1111111111111111,
              "#46039f"
             ],
             [
              0.2222222222222222,
              "#7201a8"
             ],
             [
              0.3333333333333333,
              "#9c179e"
             ],
             [
              0.4444444444444444,
              "#bd3786"
             ],
             [
              0.5555555555555556,
              "#d8576b"
             ],
             [
              0.6666666666666666,
              "#ed7953"
             ],
             [
              0.7777777777777778,
              "#fb9f3a"
             ],
             [
              0.8888888888888888,
              "#fdca26"
             ],
             [
              1,
              "#f0f921"
             ]
            ],
            "type": "surface"
           }
          ],
          "table": [
           {
            "cells": {
             "fill": {
              "color": "#EBF0F8"
             },
             "line": {
              "color": "white"
             }
            },
            "header": {
             "fill": {
              "color": "#C8D4E3"
             },
             "line": {
              "color": "white"
             }
            },
            "type": "table"
           }
          ]
         },
         "layout": {
          "annotationdefaults": {
           "arrowcolor": "#2a3f5f",
           "arrowhead": 0,
           "arrowwidth": 1
          },
          "coloraxis": {
           "colorbar": {
            "outlinewidth": 0,
            "ticks": ""
           }
          },
          "colorscale": {
           "diverging": [
            [
             0,
             "#8e0152"
            ],
            [
             0.1,
             "#c51b7d"
            ],
            [
             0.2,
             "#de77ae"
            ],
            [
             0.3,
             "#f1b6da"
            ],
            [
             0.4,
             "#fde0ef"
            ],
            [
             0.5,
             "#f7f7f7"
            ],
            [
             0.6,
             "#e6f5d0"
            ],
            [
             0.7,
             "#b8e186"
            ],
            [
             0.8,
             "#7fbc41"
            ],
            [
             0.9,
             "#4d9221"
            ],
            [
             1,
             "#276419"
            ]
           ],
           "sequential": [
            [
             0,
             "#0d0887"
            ],
            [
             0.1111111111111111,
             "#46039f"
            ],
            [
             0.2222222222222222,
             "#7201a8"
            ],
            [
             0.3333333333333333,
             "#9c179e"
            ],
            [
             0.4444444444444444,
             "#bd3786"
            ],
            [
             0.5555555555555556,
             "#d8576b"
            ],
            [
             0.6666666666666666,
             "#ed7953"
            ],
            [
             0.7777777777777778,
             "#fb9f3a"
            ],
            [
             0.8888888888888888,
             "#fdca26"
            ],
            [
             1,
             "#f0f921"
            ]
           ],
           "sequentialminus": [
            [
             0,
             "#0d0887"
            ],
            [
             0.1111111111111111,
             "#46039f"
            ],
            [
             0.2222222222222222,
             "#7201a8"
            ],
            [
             0.3333333333333333,
             "#9c179e"
            ],
            [
             0.4444444444444444,
             "#bd3786"
            ],
            [
             0.5555555555555556,
             "#d8576b"
            ],
            [
             0.6666666666666666,
             "#ed7953"
            ],
            [
             0.7777777777777778,
             "#fb9f3a"
            ],
            [
             0.8888888888888888,
             "#fdca26"
            ],
            [
             1,
             "#f0f921"
            ]
           ]
          },
          "colorway": [
           "#636efa",
           "#EF553B",
           "#00cc96",
           "#ab63fa",
           "#FFA15A",
           "#19d3f3",
           "#FF6692",
           "#B6E880",
           "#FF97FF",
           "#FECB52"
          ],
          "font": {
           "color": "#2a3f5f"
          },
          "geo": {
           "bgcolor": "white",
           "lakecolor": "white",
           "landcolor": "#E5ECF6",
           "showlakes": true,
           "showland": true,
           "subunitcolor": "white"
          },
          "hoverlabel": {
           "align": "left"
          },
          "hovermode": "closest",
          "mapbox": {
           "style": "light"
          },
          "paper_bgcolor": "white",
          "plot_bgcolor": "#E5ECF6",
          "polar": {
           "angularaxis": {
            "gridcolor": "white",
            "linecolor": "white",
            "ticks": ""
           },
           "bgcolor": "#E5ECF6",
           "radialaxis": {
            "gridcolor": "white",
            "linecolor": "white",
            "ticks": ""
           }
          },
          "scene": {
           "xaxis": {
            "backgroundcolor": "#E5ECF6",
            "gridcolor": "white",
            "gridwidth": 2,
            "linecolor": "white",
            "showbackground": true,
            "ticks": "",
            "zerolinecolor": "white"
           },
           "yaxis": {
            "backgroundcolor": "#E5ECF6",
            "gridcolor": "white",
            "gridwidth": 2,
            "linecolor": "white",
            "showbackground": true,
            "ticks": "",
            "zerolinecolor": "white"
           },
           "zaxis": {
            "backgroundcolor": "#E5ECF6",
            "gridcolor": "white",
            "gridwidth": 2,
            "linecolor": "white",
            "showbackground": true,
            "ticks": "",
            "zerolinecolor": "white"
           }
          },
          "shapedefaults": {
           "line": {
            "color": "#2a3f5f"
           }
          },
          "ternary": {
           "aaxis": {
            "gridcolor": "white",
            "linecolor": "white",
            "ticks": ""
           },
           "baxis": {
            "gridcolor": "white",
            "linecolor": "white",
            "ticks": ""
           },
           "bgcolor": "#E5ECF6",
           "caxis": {
            "gridcolor": "white",
            "linecolor": "white",
            "ticks": ""
           }
          },
          "title": {
           "x": 0.05
          },
          "xaxis": {
           "automargin": true,
           "gridcolor": "white",
           "linecolor": "white",
           "ticks": "",
           "title": {
            "standoff": 15
           },
           "zerolinecolor": "white",
           "zerolinewidth": 2
          },
          "yaxis": {
           "automargin": true,
           "gridcolor": "white",
           "linecolor": "white",
           "ticks": "",
           "title": {
            "standoff": 15
           },
           "zerolinecolor": "white",
           "zerolinewidth": 2
          }
         }
        },
        "title": {
         "font": {
          "color": "#4D5663"
         }
        },
        "xaxis": {
         "gridcolor": "#E1E5ED",
         "showgrid": true,
         "tickfont": {
          "color": "#4D5663"
         },
         "title": {
          "font": {
           "color": "#4D5663"
          },
          "text": ""
         },
         "zerolinecolor": "#E1E5ED"
        },
        "yaxis": {
         "gridcolor": "#E1E5ED",
         "showgrid": true,
         "tickfont": {
          "color": "#4D5663"
         },
         "title": {
          "font": {
           "color": "#4D5663"
          },
          "text": ""
         },
         "zerolinecolor": "#E1E5ED"
        }
       }
      },
      "text/html": [
       "<div>\n",
       "        \n",
       "        \n",
       "            <div id=\"1adc1c67-9a45-4ef1-b284-cb3d5ffade42\" class=\"plotly-graph-div\" style=\"height:525px; width:100%;\"></div>\n",
       "            <script type=\"text/javascript\">\n",
       "                require([\"plotly\"], function(Plotly) {\n",
       "                    window.PLOTLYENV=window.PLOTLYENV || {};\n",
       "                    window.PLOTLYENV.BASE_URL='https://plot.ly';\n",
       "                    \n",
       "                if (document.getElementById(\"1adc1c67-9a45-4ef1-b284-cb3d5ffade42\")) {\n",
       "                    Plotly.newPlot(\n",
       "                        '1adc1c67-9a45-4ef1-b284-cb3d5ffade42',\n",
       "                        [{\"marker\": {\"color\": \"rgba(255, 153, 51, 0.6)\", \"line\": {\"color\": \"rgba(255, 153, 51, 1.0)\", \"width\": 1}}, \"name\": \"order_status\", \"orientation\": \"v\", \"text\": \"\", \"type\": \"bar\", \"x\": [\"delivered\", \"shipped\", \"canceled\", \"invoiced\", \"processing\"], \"y\": [3467, 48, 25, 24, 20]}],\n",
       "                        {\"legend\": {\"bgcolor\": \"#F5F6F9\", \"font\": {\"color\": \"#4D5663\"}}, \"paper_bgcolor\": \"#F5F6F9\", \"plot_bgcolor\": \"#F5F6F9\", \"template\": {\"data\": {\"bar\": [{\"error_x\": {\"color\": \"#2a3f5f\"}, \"error_y\": {\"color\": \"#2a3f5f\"}, \"marker\": {\"line\": {\"color\": \"#E5ECF6\", \"width\": 0.5}}, \"type\": \"bar\"}], \"barpolar\": [{\"marker\": {\"line\": {\"color\": \"#E5ECF6\", \"width\": 0.5}}, \"type\": \"barpolar\"}], \"carpet\": [{\"aaxis\": {\"endlinecolor\": \"#2a3f5f\", \"gridcolor\": \"white\", \"linecolor\": \"white\", \"minorgridcolor\": \"white\", \"startlinecolor\": \"#2a3f5f\"}, \"baxis\": {\"endlinecolor\": \"#2a3f5f\", \"gridcolor\": \"white\", \"linecolor\": \"white\", \"minorgridcolor\": \"white\", \"startlinecolor\": \"#2a3f5f\"}, \"type\": \"carpet\"}], \"choropleth\": [{\"colorbar\": {\"outlinewidth\": 0, \"ticks\": \"\"}, \"type\": \"choropleth\"}], \"contour\": [{\"colorbar\": {\"outlinewidth\": 0, \"ticks\": \"\"}, \"colorscale\": [[0.0, \"#0d0887\"], [0.1111111111111111, \"#46039f\"], [0.2222222222222222, \"#7201a8\"], [0.3333333333333333, \"#9c179e\"], [0.4444444444444444, \"#bd3786\"], [0.5555555555555556, \"#d8576b\"], [0.6666666666666666, \"#ed7953\"], [0.7777777777777778, \"#fb9f3a\"], [0.8888888888888888, \"#fdca26\"], [1.0, \"#f0f921\"]], \"type\": \"contour\"}], \"contourcarpet\": [{\"colorbar\": {\"outlinewidth\": 0, \"ticks\": \"\"}, \"type\": \"contourcarpet\"}], \"heatmap\": [{\"colorbar\": {\"outlinewidth\": 0, \"ticks\": \"\"}, \"colorscale\": [[0.0, \"#0d0887\"], [0.1111111111111111, \"#46039f\"], [0.2222222222222222, \"#7201a8\"], [0.3333333333333333, \"#9c179e\"], [0.4444444444444444, \"#bd3786\"], [0.5555555555555556, \"#d8576b\"], [0.6666666666666666, \"#ed7953\"], [0.7777777777777778, \"#fb9f3a\"], [0.8888888888888888, \"#fdca26\"], [1.0, \"#f0f921\"]], \"type\": \"heatmap\"}], \"heatmapgl\": [{\"colorbar\": {\"outlinewidth\": 0, \"ticks\": \"\"}, \"colorscale\": [[0.0, \"#0d0887\"], [0.1111111111111111, \"#46039f\"], [0.2222222222222222, \"#7201a8\"], [0.3333333333333333, \"#9c179e\"], [0.4444444444444444, \"#bd3786\"], [0.5555555555555556, \"#d8576b\"], [0.6666666666666666, \"#ed7953\"], [0.7777777777777778, \"#fb9f3a\"], [0.8888888888888888, \"#fdca26\"], [1.0, \"#f0f921\"]], \"type\": \"heatmapgl\"}], \"histogram\": [{\"marker\": {\"colorbar\": {\"outlinewidth\": 0, \"ticks\": \"\"}}, \"type\": \"histogram\"}], \"histogram2d\": [{\"colorbar\": {\"outlinewidth\": 0, \"ticks\": \"\"}, \"colorscale\": [[0.0, \"#0d0887\"], [0.1111111111111111, \"#46039f\"], [0.2222222222222222, \"#7201a8\"], [0.3333333333333333, \"#9c179e\"], [0.4444444444444444, \"#bd3786\"], [0.5555555555555556, \"#d8576b\"], [0.6666666666666666, \"#ed7953\"], [0.7777777777777778, \"#fb9f3a\"], [0.8888888888888888, \"#fdca26\"], [1.0, \"#f0f921\"]], \"type\": \"histogram2d\"}], \"histogram2dcontour\": [{\"colorbar\": {\"outlinewidth\": 0, \"ticks\": \"\"}, \"colorscale\": [[0.0, \"#0d0887\"], [0.1111111111111111, \"#46039f\"], [0.2222222222222222, \"#7201a8\"], [0.3333333333333333, \"#9c179e\"], [0.4444444444444444, \"#bd3786\"], [0.5555555555555556, \"#d8576b\"], [0.6666666666666666, \"#ed7953\"], [0.7777777777777778, \"#fb9f3a\"], [0.8888888888888888, \"#fdca26\"], [1.0, \"#f0f921\"]], \"type\": \"histogram2dcontour\"}], \"mesh3d\": [{\"colorbar\": {\"outlinewidth\": 0, \"ticks\": \"\"}, \"type\": \"mesh3d\"}], \"parcoords\": [{\"line\": {\"colorbar\": {\"outlinewidth\": 0, \"ticks\": \"\"}}, \"type\": \"parcoords\"}], \"pie\": [{\"automargin\": true, \"type\": \"pie\"}], \"scatter\": [{\"marker\": {\"colorbar\": {\"outlinewidth\": 0, \"ticks\": \"\"}}, \"type\": \"scatter\"}], \"scatter3d\": [{\"line\": {\"colorbar\": {\"outlinewidth\": 0, \"ticks\": \"\"}}, \"marker\": {\"colorbar\": {\"outlinewidth\": 0, \"ticks\": \"\"}}, \"type\": \"scatter3d\"}], \"scattercarpet\": [{\"marker\": {\"colorbar\": {\"outlinewidth\": 0, \"ticks\": \"\"}}, \"type\": \"scattercarpet\"}], \"scattergeo\": [{\"marker\": {\"colorbar\": {\"outlinewidth\": 0, \"ticks\": \"\"}}, \"type\": \"scattergeo\"}], \"scattergl\": [{\"marker\": {\"colorbar\": {\"outlinewidth\": 0, \"ticks\": \"\"}}, \"type\": \"scattergl\"}], \"scattermapbox\": [{\"marker\": {\"colorbar\": {\"outlinewidth\": 0, \"ticks\": \"\"}}, \"type\": \"scattermapbox\"}], \"scatterpolar\": [{\"marker\": {\"colorbar\": {\"outlinewidth\": 0, \"ticks\": \"\"}}, \"type\": \"scatterpolar\"}], \"scatterpolargl\": [{\"marker\": {\"colorbar\": {\"outlinewidth\": 0, \"ticks\": \"\"}}, \"type\": \"scatterpolargl\"}], \"scatterternary\": [{\"marker\": {\"colorbar\": {\"outlinewidth\": 0, \"ticks\": \"\"}}, \"type\": \"scatterternary\"}], \"surface\": [{\"colorbar\": {\"outlinewidth\": 0, \"ticks\": \"\"}, \"colorscale\": [[0.0, \"#0d0887\"], [0.1111111111111111, \"#46039f\"], [0.2222222222222222, \"#7201a8\"], [0.3333333333333333, \"#9c179e\"], [0.4444444444444444, \"#bd3786\"], [0.5555555555555556, \"#d8576b\"], [0.6666666666666666, \"#ed7953\"], [0.7777777777777778, \"#fb9f3a\"], [0.8888888888888888, \"#fdca26\"], [1.0, \"#f0f921\"]], \"type\": \"surface\"}], \"table\": [{\"cells\": {\"fill\": {\"color\": \"#EBF0F8\"}, \"line\": {\"color\": \"white\"}}, \"header\": {\"fill\": {\"color\": \"#C8D4E3\"}, \"line\": {\"color\": \"white\"}}, \"type\": \"table\"}]}, \"layout\": {\"annotationdefaults\": {\"arrowcolor\": \"#2a3f5f\", \"arrowhead\": 0, \"arrowwidth\": 1}, \"coloraxis\": {\"colorbar\": {\"outlinewidth\": 0, \"ticks\": \"\"}}, \"colorscale\": {\"diverging\": [[0, \"#8e0152\"], [0.1, \"#c51b7d\"], [0.2, \"#de77ae\"], [0.3, \"#f1b6da\"], [0.4, \"#fde0ef\"], [0.5, \"#f7f7f7\"], [0.6, \"#e6f5d0\"], [0.7, \"#b8e186\"], [0.8, \"#7fbc41\"], [0.9, \"#4d9221\"], [1, \"#276419\"]], \"sequential\": [[0.0, \"#0d0887\"], [0.1111111111111111, \"#46039f\"], [0.2222222222222222, \"#7201a8\"], [0.3333333333333333, \"#9c179e\"], [0.4444444444444444, \"#bd3786\"], [0.5555555555555556, \"#d8576b\"], [0.6666666666666666, \"#ed7953\"], [0.7777777777777778, \"#fb9f3a\"], [0.8888888888888888, \"#fdca26\"], [1.0, \"#f0f921\"]], \"sequentialminus\": [[0.0, \"#0d0887\"], [0.1111111111111111, \"#46039f\"], [0.2222222222222222, \"#7201a8\"], [0.3333333333333333, \"#9c179e\"], [0.4444444444444444, \"#bd3786\"], [0.5555555555555556, \"#d8576b\"], [0.6666666666666666, \"#ed7953\"], [0.7777777777777778, \"#fb9f3a\"], [0.8888888888888888, \"#fdca26\"], [1.0, \"#f0f921\"]]}, \"colorway\": [\"#636efa\", \"#EF553B\", \"#00cc96\", \"#ab63fa\", \"#FFA15A\", \"#19d3f3\", \"#FF6692\", \"#B6E880\", \"#FF97FF\", \"#FECB52\"], \"font\": {\"color\": \"#2a3f5f\"}, \"geo\": {\"bgcolor\": \"white\", \"lakecolor\": \"white\", \"landcolor\": \"#E5ECF6\", \"showlakes\": true, \"showland\": true, \"subunitcolor\": \"white\"}, \"hoverlabel\": {\"align\": \"left\"}, \"hovermode\": \"closest\", \"mapbox\": {\"style\": \"light\"}, \"paper_bgcolor\": \"white\", \"plot_bgcolor\": \"#E5ECF6\", \"polar\": {\"angularaxis\": {\"gridcolor\": \"white\", \"linecolor\": \"white\", \"ticks\": \"\"}, \"bgcolor\": \"#E5ECF6\", \"radialaxis\": {\"gridcolor\": \"white\", \"linecolor\": \"white\", \"ticks\": \"\"}}, \"scene\": {\"xaxis\": {\"backgroundcolor\": \"#E5ECF6\", \"gridcolor\": \"white\", \"gridwidth\": 2, \"linecolor\": \"white\", \"showbackground\": true, \"ticks\": \"\", \"zerolinecolor\": \"white\"}, \"yaxis\": {\"backgroundcolor\": \"#E5ECF6\", \"gridcolor\": \"white\", \"gridwidth\": 2, \"linecolor\": \"white\", \"showbackground\": true, \"ticks\": \"\", \"zerolinecolor\": \"white\"}, \"zaxis\": {\"backgroundcolor\": \"#E5ECF6\", \"gridcolor\": \"white\", \"gridwidth\": 2, \"linecolor\": \"white\", \"showbackground\": true, \"ticks\": \"\", \"zerolinecolor\": \"white\"}}, \"shapedefaults\": {\"line\": {\"color\": \"#2a3f5f\"}}, \"ternary\": {\"aaxis\": {\"gridcolor\": \"white\", \"linecolor\": \"white\", \"ticks\": \"\"}, \"baxis\": {\"gridcolor\": \"white\", \"linecolor\": \"white\", \"ticks\": \"\"}, \"bgcolor\": \"#E5ECF6\", \"caxis\": {\"gridcolor\": \"white\", \"linecolor\": \"white\", \"ticks\": \"\"}}, \"title\": {\"x\": 0.05}, \"xaxis\": {\"automargin\": true, \"gridcolor\": \"white\", \"linecolor\": \"white\", \"ticks\": \"\", \"title\": {\"standoff\": 15}, \"zerolinecolor\": \"white\", \"zerolinewidth\": 2}, \"yaxis\": {\"automargin\": true, \"gridcolor\": \"white\", \"linecolor\": \"white\", \"ticks\": \"\", \"title\": {\"standoff\": 15}, \"zerolinecolor\": \"white\", \"zerolinewidth\": 2}}}, \"title\": {\"font\": {\"color\": \"#4D5663\"}}, \"xaxis\": {\"gridcolor\": \"#E1E5ED\", \"showgrid\": true, \"tickfont\": {\"color\": \"#4D5663\"}, \"title\": {\"font\": {\"color\": \"#4D5663\"}, \"text\": \"\"}, \"zerolinecolor\": \"#E1E5ED\"}, \"yaxis\": {\"gridcolor\": \"#E1E5ED\", \"showgrid\": true, \"tickfont\": {\"color\": \"#4D5663\"}, \"title\": {\"font\": {\"color\": \"#4D5663\"}, \"text\": \"\"}, \"zerolinecolor\": \"#E1E5ED\"}},\n",
       "                        {\"showLink\": true, \"linkText\": \"Export to plot.ly\", \"plotlyServerURL\": \"https://plot.ly\", \"responsive\": true}\n",
       "                    ).then(function(){\n",
       "                            \n",
       "var gd = document.getElementById('1adc1c67-9a45-4ef1-b284-cb3d5ffade42');\n",
       "var x = new MutationObserver(function (mutations, observer) {{\n",
       "        var display = window.getComputedStyle(gd).display;\n",
       "        if (!display || display === 'none') {{\n",
       "            console.log([gd, 'removed!']);\n",
       "            Plotly.purge(gd);\n",
       "            observer.disconnect();\n",
       "        }}\n",
       "}});\n",
       "\n",
       "// Listen for the removal of the full notebook cells\n",
       "var notebookContainer = gd.closest('#notebook-container');\n",
       "if (notebookContainer) {{\n",
       "    x.observe(notebookContainer, {childList: true});\n",
       "}}\n",
       "\n",
       "// Listen for the clearing of the current output cell\n",
       "var outputEl = gd.closest('.output');\n",
       "if (outputEl) {{\n",
       "    x.observe(outputEl, {childList: true});\n",
       "}}\n",
       "\n",
       "                        })\n",
       "                };\n",
       "                });\n",
       "            </script>\n",
       "        </div>"
      ]
     },
     "metadata": {},
     "output_type": "display_data"
    }
   ],
   "source": [
    "df.order_status.value_counts().iplot(kind='bar')"
   ]
  },
  {
   "cell_type": "markdown",
   "metadata": {},
   "source": [
    "**Transformando as colunas do DF em datetime**"
   ]
  },
  {
   "cell_type": "code",
   "execution_count": 41,
   "metadata": {},
   "outputs": [],
   "source": [
    "df.order_purchase_timestamp = pd.to_datetime(df.order_purchase_timestamp)"
   ]
  },
  {
   "cell_type": "markdown",
   "metadata": {},
   "source": [
    "**Visualizando as colunas em datetime**"
   ]
  },
  {
   "cell_type": "code",
   "execution_count": 42,
   "metadata": {},
   "outputs": [
    {
     "name": "stdout",
     "output_type": "stream",
     "text": [
      "<class 'pandas.core.frame.DataFrame'>\n",
      "RangeIndex: 3584 entries, 0 to 3583\n",
      "Data columns (total 34 columns):\n",
      "Unnamed: 0                       3584 non-null int64\n",
      "id                               3584 non-null int64\n",
      "order_status                     3584 non-null object\n",
      "order_products_value             3584 non-null float64\n",
      "order_freight_value              3584 non-null float64\n",
      "order_items_qty                  3584 non-null int64\n",
      "order_sellers_qty                3584 non-null int64\n",
      "order_purchase_timestamp         3584 non-null datetime64[ns]\n",
      "order_aproved_at                 3584 non-null object\n",
      "order_estimated_delivery_date    3584 non-null object\n",
      "order_delivered_customer_date    3467 non-null object\n",
      "customer_city                    3584 non-null object\n",
      "customer_state                   3584 non-null object\n",
      "customer_zip_code_prefix         3584 non-null int64\n",
      "product_category_name            3584 non-null object\n",
      "product_name_lenght              3584 non-null int64\n",
      "product_description_lenght       3584 non-null int64\n",
      "product_photos_qty               3584 non-null int64\n",
      "review_score                     3584 non-null int64\n",
      "review_comment_title             0 non-null float64\n",
      "review_comment_message           3584 non-null object\n",
      "review_creation_date             3584 non-null object\n",
      "review_answer_timestamp          3584 non-null object\n",
      "votes_before_estimate            3584 non-null int64\n",
      "votes_delayed                    3584 non-null int64\n",
      "votes_low_quality                3584 non-null int64\n",
      "votes_return                     3584 non-null int64\n",
      "votes_not_as_anounced            3584 non-null int64\n",
      "votes_partial_delivery           3584 non-null int64\n",
      "votes_other_delivery             3584 non-null int64\n",
      "votes_other_order                3584 non-null int64\n",
      "votes_satisfied                  3584 non-null int64\n",
      "most_voted_subclass              3413 non-null object\n",
      "most_voted_class                 3413 non-null object\n",
      "dtypes: datetime64[ns](1), float64(3), int64(18), object(12)\n",
      "memory usage: 952.1+ KB\n"
     ]
    }
   ],
   "source": [
    "df.info()"
   ]
  },
  {
   "cell_type": "markdown",
   "metadata": {},
   "source": [
    "- Use o metodo to_periodo() com o ´M´ para obter informações no formato de meses\n",
    "- Criando a coluna order_purchase_month"
   ]
  },
  {
   "cell_type": "code",
   "execution_count": 43,
   "metadata": {},
   "outputs": [],
   "source": [
    "df['order_purchase_month'] = df.order_purchase_timestamp.dt.to_period('M').astype(str)"
   ]
  },
  {
   "cell_type": "code",
   "execution_count": 45,
   "metadata": {},
   "outputs": [
    {
     "data": {
      "text/plain": [
       "0    2017-08\n",
       "1    2017-09\n",
       "2    2018-01\n",
       "3    2018-02\n",
       "4    2017-12\n",
       "Name: order_purchase_month, dtype: object"
      ]
     },
     "execution_count": 45,
     "metadata": {},
     "output_type": "execute_result"
    }
   ],
   "source": [
    "df.order_purchase_month.head()"
   ]
  },
  {
   "cell_type": "markdown",
   "metadata": {},
   "source": [
    "**Visualizando o Dataframe com a nova coluna**"
   ]
  },
  {
   "cell_type": "code",
   "execution_count": 46,
   "metadata": {},
   "outputs": [
    {
     "data": {
      "text/html": [
       "<div>\n",
       "<style scoped>\n",
       "    .dataframe tbody tr th:only-of-type {\n",
       "        vertical-align: middle;\n",
       "    }\n",
       "\n",
       "    .dataframe tbody tr th {\n",
       "        vertical-align: top;\n",
       "    }\n",
       "\n",
       "    .dataframe thead th {\n",
       "        text-align: right;\n",
       "    }\n",
       "</style>\n",
       "<table border=\"1\" class=\"dataframe\">\n",
       "  <thead>\n",
       "    <tr style=\"text-align: right;\">\n",
       "      <th></th>\n",
       "      <th>Unnamed: 0</th>\n",
       "      <th>id</th>\n",
       "      <th>order_status</th>\n",
       "      <th>order_products_value</th>\n",
       "      <th>order_freight_value</th>\n",
       "      <th>order_items_qty</th>\n",
       "      <th>order_sellers_qty</th>\n",
       "      <th>order_purchase_timestamp</th>\n",
       "      <th>order_aproved_at</th>\n",
       "      <th>order_estimated_delivery_date</th>\n",
       "      <th>...</th>\n",
       "      <th>votes_low_quality</th>\n",
       "      <th>votes_return</th>\n",
       "      <th>votes_not_as_anounced</th>\n",
       "      <th>votes_partial_delivery</th>\n",
       "      <th>votes_other_delivery</th>\n",
       "      <th>votes_other_order</th>\n",
       "      <th>votes_satisfied</th>\n",
       "      <th>most_voted_subclass</th>\n",
       "      <th>most_voted_class</th>\n",
       "      <th>order_purchase_month</th>\n",
       "    </tr>\n",
       "  </thead>\n",
       "  <tbody>\n",
       "    <tr>\n",
       "      <td>0</td>\n",
       "      <td>0</td>\n",
       "      <td>1</td>\n",
       "      <td>delivered</td>\n",
       "      <td>89.99</td>\n",
       "      <td>14.38</td>\n",
       "      <td>1</td>\n",
       "      <td>1</td>\n",
       "      <td>2017-08-30 11:41:01</td>\n",
       "      <td>2017-08-30 11:55:08.970352</td>\n",
       "      <td>2017-09-21 00:00:00.000000</td>\n",
       "      <td>...</td>\n",
       "      <td>0</td>\n",
       "      <td>0</td>\n",
       "      <td>0</td>\n",
       "      <td>0</td>\n",
       "      <td>0</td>\n",
       "      <td>0</td>\n",
       "      <td>3</td>\n",
       "      <td>satisfeito</td>\n",
       "      <td>satisfeito_com_pedido</td>\n",
       "      <td>2017-08</td>\n",
       "    </tr>\n",
       "    <tr>\n",
       "      <td>1</td>\n",
       "      <td>1</td>\n",
       "      <td>2</td>\n",
       "      <td>delivered</td>\n",
       "      <td>69.00</td>\n",
       "      <td>15.23</td>\n",
       "      <td>1</td>\n",
       "      <td>1</td>\n",
       "      <td>2017-09-26 09:13:36</td>\n",
       "      <td>2017-09-26 09:28:10.922048</td>\n",
       "      <td>2017-10-24 00:00:00.000000</td>\n",
       "      <td>...</td>\n",
       "      <td>0</td>\n",
       "      <td>0</td>\n",
       "      <td>0</td>\n",
       "      <td>0</td>\n",
       "      <td>0</td>\n",
       "      <td>0</td>\n",
       "      <td>0</td>\n",
       "      <td>antes_prazo</td>\n",
       "      <td>satisfeito_com_pedido</td>\n",
       "      <td>2017-09</td>\n",
       "    </tr>\n",
       "    <tr>\n",
       "      <td>2</td>\n",
       "      <td>2</td>\n",
       "      <td>3</td>\n",
       "      <td>delivered</td>\n",
       "      <td>99.80</td>\n",
       "      <td>15.86</td>\n",
       "      <td>2</td>\n",
       "      <td>4</td>\n",
       "      <td>2018-01-15 15:50:42</td>\n",
       "      <td>2018-01-17 07:29:56.419769</td>\n",
       "      <td>2018-02-05 00:00:00.000000</td>\n",
       "      <td>...</td>\n",
       "      <td>0</td>\n",
       "      <td>0</td>\n",
       "      <td>0</td>\n",
       "      <td>3</td>\n",
       "      <td>0</td>\n",
       "      <td>0</td>\n",
       "      <td>0</td>\n",
       "      <td>entrega_parcial</td>\n",
       "      <td>problemas_de_entrega</td>\n",
       "      <td>2018-01</td>\n",
       "    </tr>\n",
       "    <tr>\n",
       "      <td>3</td>\n",
       "      <td>3</td>\n",
       "      <td>4</td>\n",
       "      <td>delivered</td>\n",
       "      <td>87.00</td>\n",
       "      <td>12.74</td>\n",
       "      <td>1</td>\n",
       "      <td>1</td>\n",
       "      <td>2018-02-04 11:16:42</td>\n",
       "      <td>2018-02-06 05:31:50.990164</td>\n",
       "      <td>2018-03-13 00:00:00.000000</td>\n",
       "      <td>...</td>\n",
       "      <td>0</td>\n",
       "      <td>0</td>\n",
       "      <td>0</td>\n",
       "      <td>0</td>\n",
       "      <td>0</td>\n",
       "      <td>0</td>\n",
       "      <td>0</td>\n",
       "      <td>atrasado</td>\n",
       "      <td>problemas_de_entrega</td>\n",
       "      <td>2018-02</td>\n",
       "    </tr>\n",
       "    <tr>\n",
       "      <td>4</td>\n",
       "      <td>4</td>\n",
       "      <td>5</td>\n",
       "      <td>delivered</td>\n",
       "      <td>99.90</td>\n",
       "      <td>17.95</td>\n",
       "      <td>1</td>\n",
       "      <td>2</td>\n",
       "      <td>2017-12-07 11:58:42</td>\n",
       "      <td>2017-12-08 02:36:49.587515</td>\n",
       "      <td>2018-01-03 00:00:00.000000</td>\n",
       "      <td>...</td>\n",
       "      <td>0</td>\n",
       "      <td>0</td>\n",
       "      <td>0</td>\n",
       "      <td>3</td>\n",
       "      <td>0</td>\n",
       "      <td>0</td>\n",
       "      <td>0</td>\n",
       "      <td>entrega_parcial</td>\n",
       "      <td>problemas_de_entrega</td>\n",
       "      <td>2017-12</td>\n",
       "    </tr>\n",
       "  </tbody>\n",
       "</table>\n",
       "<p>5 rows × 35 columns</p>\n",
       "</div>"
      ],
      "text/plain": [
       "   Unnamed: 0  id order_status  order_products_value  order_freight_value  \\\n",
       "0           0   1    delivered                 89.99                14.38   \n",
       "1           1   2    delivered                 69.00                15.23   \n",
       "2           2   3    delivered                 99.80                15.86   \n",
       "3           3   4    delivered                 87.00                12.74   \n",
       "4           4   5    delivered                 99.90                17.95   \n",
       "\n",
       "   order_items_qty  order_sellers_qty order_purchase_timestamp  \\\n",
       "0                1                  1      2017-08-30 11:41:01   \n",
       "1                1                  1      2017-09-26 09:13:36   \n",
       "2                2                  4      2018-01-15 15:50:42   \n",
       "3                1                  1      2018-02-04 11:16:42   \n",
       "4                1                  2      2017-12-07 11:58:42   \n",
       "\n",
       "             order_aproved_at order_estimated_delivery_date  ...  \\\n",
       "0  2017-08-30 11:55:08.970352    2017-09-21 00:00:00.000000  ...   \n",
       "1  2017-09-26 09:28:10.922048    2017-10-24 00:00:00.000000  ...   \n",
       "2  2018-01-17 07:29:56.419769    2018-02-05 00:00:00.000000  ...   \n",
       "3  2018-02-06 05:31:50.990164    2018-03-13 00:00:00.000000  ...   \n",
       "4  2017-12-08 02:36:49.587515    2018-01-03 00:00:00.000000  ...   \n",
       "\n",
       "  votes_low_quality votes_return votes_not_as_anounced  \\\n",
       "0                 0            0                     0   \n",
       "1                 0            0                     0   \n",
       "2                 0            0                     0   \n",
       "3                 0            0                     0   \n",
       "4                 0            0                     0   \n",
       "\n",
       "   votes_partial_delivery votes_other_delivery  votes_other_order  \\\n",
       "0                       0                    0                  0   \n",
       "1                       0                    0                  0   \n",
       "2                       3                    0                  0   \n",
       "3                       0                    0                  0   \n",
       "4                       3                    0                  0   \n",
       "\n",
       "   votes_satisfied  most_voted_subclass       most_voted_class  \\\n",
       "0                3           satisfeito  satisfeito_com_pedido   \n",
       "1                0          antes_prazo  satisfeito_com_pedido   \n",
       "2                0      entrega_parcial   problemas_de_entrega   \n",
       "3                0             atrasado   problemas_de_entrega   \n",
       "4                0      entrega_parcial   problemas_de_entrega   \n",
       "\n",
       "   order_purchase_month  \n",
       "0               2017-08  \n",
       "1               2017-09  \n",
       "2               2018-01  \n",
       "3               2018-02  \n",
       "4               2017-12  \n",
       "\n",
       "[5 rows x 35 columns]"
      ]
     },
     "execution_count": 46,
     "metadata": {},
     "output_type": "execute_result"
    }
   ],
   "source": [
    "df.head()"
   ]
  },
  {
   "cell_type": "code",
   "execution_count": 58,
   "metadata": {},
   "outputs": [],
   "source": [
    "vendas_por_mes = df.groupby('order_purchase_month').order_products_value.sum()"
   ]
  },
  {
   "cell_type": "code",
   "execution_count": 60,
   "metadata": {},
   "outputs": [
    {
     "data": {
      "text/plain": [
       "pandas.core.series.Series"
      ]
     },
     "execution_count": 60,
     "metadata": {},
     "output_type": "execute_result"
    }
   ],
   "source": [
    "type(vendas_por_mes)"
   ]
  },
  {
   "cell_type": "code",
   "execution_count": 61,
   "metadata": {},
   "outputs": [
    {
     "data": {
      "text/plain": [
       "order_purchase_month\n",
       "2017-02        9.99\n",
       "2017-03      902.86\n",
       "2017-04    17654.19\n",
       "2017-05    25556.23\n",
       "2017-06    34172.86\n",
       "Name: order_products_value, dtype: float64"
      ]
     },
     "execution_count": 61,
     "metadata": {},
     "output_type": "execute_result"
    }
   ],
   "source": [
    "vendas_por_mes.head()"
   ]
  },
  {
   "cell_type": "code",
   "execution_count": 63,
   "metadata": {},
   "outputs": [
    {
     "data": {
      "text/plain": [
       "<bound method IndexOpsMixin.item of Index(['2017-02', '2017-03', '2017-04', '2017-05', '2017-06', '2017-07',\n",
       "       '2017-08', '2017-09', '2017-10', '2017-11', '2017-12', '2018-01',\n",
       "       '2018-02', '2018-03', '2018-04'],\n",
       "      dtype='object', name='order_purchase_month')>"
      ]
     },
     "execution_count": 63,
     "metadata": {},
     "output_type": "execute_result"
    }
   ],
   "source": [
    "vendas_por_mes.index.item"
   ]
  },
  {
   "cell_type": "code",
   "execution_count": 64,
   "metadata": {},
   "outputs": [
    {
     "data": {
      "text/plain": [
       "array([9.990000e+00, 9.028600e+02, 1.765419e+04, 2.555623e+04,\n",
       "       3.417286e+04, 4.728474e+04, 3.989885e+04, 4.546220e+04,\n",
       "       4.091040e+04, 5.537392e+04, 4.380657e+04, 4.675556e+04,\n",
       "       4.256054e+04, 3.343548e+04, 3.754330e+03])"
      ]
     },
     "execution_count": 64,
     "metadata": {},
     "output_type": "execute_result"
    }
   ],
   "source": [
    "vendas_por_mes.values"
   ]
  },
  {
   "cell_type": "markdown",
   "metadata": {},
   "source": [
    "**Pontos importantes a lembrar**"
   ]
  },
  {
   "cell_type": "markdown",
   "metadata": {},
   "source": [
    "* init_notebook_mode()\n",
    "* plotly.offline.iplot()"
   ]
  },
  {
   "cell_type": "markdown",
   "metadata": {},
   "source": [
    "**Importando o Plotly**"
   ]
  },
  {
   "cell_type": "code",
   "execution_count": 66,
   "metadata": {},
   "outputs": [],
   "source": [
    "import plotly \n",
    "import plotly.graph_objs as go\n",
    "import plotly.offline as py"
   ]
  },
  {
   "cell_type": "code",
   "execution_count": 67,
   "metadata": {},
   "outputs": [
    {
     "data": {
      "text/html": [
       "        <script type=\"text/javascript\">\n",
       "        window.PlotlyConfig = {MathJaxConfig: 'local'};\n",
       "        if (window.MathJax) {MathJax.Hub.Config({SVG: {font: \"STIX-Web\"}});}\n",
       "        if (typeof require !== 'undefined') {\n",
       "        require.undef(\"plotly\");\n",
       "        requirejs.config({\n",
       "            paths: {\n",
       "                'plotly': ['https://cdn.plot.ly/plotly-latest.min']\n",
       "            }\n",
       "        });\n",
       "        require(['plotly'], function(Plotly) {\n",
       "            window._Plotly = Plotly;\n",
       "        });\n",
       "        }\n",
       "        </script>\n",
       "        "
      ]
     },
     "metadata": {},
     "output_type": "display_data"
    }
   ],
   "source": [
    "# Habilite o modo offiline\n",
    "plotly.offline.init_notebook_mode(connected=True)"
   ]
  },
  {
   "cell_type": "markdown",
   "metadata": {},
   "source": [
    "**Vendas por Mês**"
   ]
  },
  {
   "cell_type": "markdown",
   "metadata": {},
   "source": [
    "* **Por Padrão o iplot() plota um gráfico de linha, da sentido de valor acumulado**"
   ]
  },
  {
   "cell_type": "code",
   "execution_count": 69,
   "metadata": {},
   "outputs": [
    {
     "data": {
      "application/vnd.plotly.v1+json": {
       "config": {
        "linkText": "Export to plot.ly",
        "plotlyServerURL": "https://plot.ly",
        "showLink": false
       },
       "data": [
        {
         "type": "scatter",
         "x": [
          "2017-02",
          "2017-03",
          "2017-04",
          "2017-05",
          "2017-06",
          "2017-07",
          "2017-08",
          "2017-09",
          "2017-10",
          "2017-11",
          "2017-12",
          "2018-01",
          "2018-02",
          "2018-03",
          "2018-04"
         ],
         "y": [
          9.99,
          902.86,
          17654.189999999995,
          25556.230000000025,
          34172.86000000008,
          47284.74000000011,
          39898.85000000009,
          45462.20000000007,
          40910.4000000001,
          55373.920000000086,
          43806.57000000011,
          46755.56000000009,
          42560.54000000012,
          33435.4800000001,
          3754.33
         ]
        }
       ],
       "layout": {
        "template": {
         "data": {
          "bar": [
           {
            "error_x": {
             "color": "#2a3f5f"
            },
            "error_y": {
             "color": "#2a3f5f"
            },
            "marker": {
             "line": {
              "color": "#E5ECF6",
              "width": 0.5
             }
            },
            "type": "bar"
           }
          ],
          "barpolar": [
           {
            "marker": {
             "line": {
              "color": "#E5ECF6",
              "width": 0.5
             }
            },
            "type": "barpolar"
           }
          ],
          "carpet": [
           {
            "aaxis": {
             "endlinecolor": "#2a3f5f",
             "gridcolor": "white",
             "linecolor": "white",
             "minorgridcolor": "white",
             "startlinecolor": "#2a3f5f"
            },
            "baxis": {
             "endlinecolor": "#2a3f5f",
             "gridcolor": "white",
             "linecolor": "white",
             "minorgridcolor": "white",
             "startlinecolor": "#2a3f5f"
            },
            "type": "carpet"
           }
          ],
          "choropleth": [
           {
            "colorbar": {
             "outlinewidth": 0,
             "ticks": ""
            },
            "type": "choropleth"
           }
          ],
          "contour": [
           {
            "colorbar": {
             "outlinewidth": 0,
             "ticks": ""
            },
            "colorscale": [
             [
              0,
              "#0d0887"
             ],
             [
              0.1111111111111111,
              "#46039f"
             ],
             [
              0.2222222222222222,
              "#7201a8"
             ],
             [
              0.3333333333333333,
              "#9c179e"
             ],
             [
              0.4444444444444444,
              "#bd3786"
             ],
             [
              0.5555555555555556,
              "#d8576b"
             ],
             [
              0.6666666666666666,
              "#ed7953"
             ],
             [
              0.7777777777777778,
              "#fb9f3a"
             ],
             [
              0.8888888888888888,
              "#fdca26"
             ],
             [
              1,
              "#f0f921"
             ]
            ],
            "type": "contour"
           }
          ],
          "contourcarpet": [
           {
            "colorbar": {
             "outlinewidth": 0,
             "ticks": ""
            },
            "type": "contourcarpet"
           }
          ],
          "heatmap": [
           {
            "colorbar": {
             "outlinewidth": 0,
             "ticks": ""
            },
            "colorscale": [
             [
              0,
              "#0d0887"
             ],
             [
              0.1111111111111111,
              "#46039f"
             ],
             [
              0.2222222222222222,
              "#7201a8"
             ],
             [
              0.3333333333333333,
              "#9c179e"
             ],
             [
              0.4444444444444444,
              "#bd3786"
             ],
             [
              0.5555555555555556,
              "#d8576b"
             ],
             [
              0.6666666666666666,
              "#ed7953"
             ],
             [
              0.7777777777777778,
              "#fb9f3a"
             ],
             [
              0.8888888888888888,
              "#fdca26"
             ],
             [
              1,
              "#f0f921"
             ]
            ],
            "type": "heatmap"
           }
          ],
          "heatmapgl": [
           {
            "colorbar": {
             "outlinewidth": 0,
             "ticks": ""
            },
            "colorscale": [
             [
              0,
              "#0d0887"
             ],
             [
              0.1111111111111111,
              "#46039f"
             ],
             [
              0.2222222222222222,
              "#7201a8"
             ],
             [
              0.3333333333333333,
              "#9c179e"
             ],
             [
              0.4444444444444444,
              "#bd3786"
             ],
             [
              0.5555555555555556,
              "#d8576b"
             ],
             [
              0.6666666666666666,
              "#ed7953"
             ],
             [
              0.7777777777777778,
              "#fb9f3a"
             ],
             [
              0.8888888888888888,
              "#fdca26"
             ],
             [
              1,
              "#f0f921"
             ]
            ],
            "type": "heatmapgl"
           }
          ],
          "histogram": [
           {
            "marker": {
             "colorbar": {
              "outlinewidth": 0,
              "ticks": ""
             }
            },
            "type": "histogram"
           }
          ],
          "histogram2d": [
           {
            "colorbar": {
             "outlinewidth": 0,
             "ticks": ""
            },
            "colorscale": [
             [
              0,
              "#0d0887"
             ],
             [
              0.1111111111111111,
              "#46039f"
             ],
             [
              0.2222222222222222,
              "#7201a8"
             ],
             [
              0.3333333333333333,
              "#9c179e"
             ],
             [
              0.4444444444444444,
              "#bd3786"
             ],
             [
              0.5555555555555556,
              "#d8576b"
             ],
             [
              0.6666666666666666,
              "#ed7953"
             ],
             [
              0.7777777777777778,
              "#fb9f3a"
             ],
             [
              0.8888888888888888,
              "#fdca26"
             ],
             [
              1,
              "#f0f921"
             ]
            ],
            "type": "histogram2d"
           }
          ],
          "histogram2dcontour": [
           {
            "colorbar": {
             "outlinewidth": 0,
             "ticks": ""
            },
            "colorscale": [
             [
              0,
              "#0d0887"
             ],
             [
              0.1111111111111111,
              "#46039f"
             ],
             [
              0.2222222222222222,
              "#7201a8"
             ],
             [
              0.3333333333333333,
              "#9c179e"
             ],
             [
              0.4444444444444444,
              "#bd3786"
             ],
             [
              0.5555555555555556,
              "#d8576b"
             ],
             [
              0.6666666666666666,
              "#ed7953"
             ],
             [
              0.7777777777777778,
              "#fb9f3a"
             ],
             [
              0.8888888888888888,
              "#fdca26"
             ],
             [
              1,
              "#f0f921"
             ]
            ],
            "type": "histogram2dcontour"
           }
          ],
          "mesh3d": [
           {
            "colorbar": {
             "outlinewidth": 0,
             "ticks": ""
            },
            "type": "mesh3d"
           }
          ],
          "parcoords": [
           {
            "line": {
             "colorbar": {
              "outlinewidth": 0,
              "ticks": ""
             }
            },
            "type": "parcoords"
           }
          ],
          "pie": [
           {
            "automargin": true,
            "type": "pie"
           }
          ],
          "scatter": [
           {
            "marker": {
             "colorbar": {
              "outlinewidth": 0,
              "ticks": ""
             }
            },
            "type": "scatter"
           }
          ],
          "scatter3d": [
           {
            "line": {
             "colorbar": {
              "outlinewidth": 0,
              "ticks": ""
             }
            },
            "marker": {
             "colorbar": {
              "outlinewidth": 0,
              "ticks": ""
             }
            },
            "type": "scatter3d"
           }
          ],
          "scattercarpet": [
           {
            "marker": {
             "colorbar": {
              "outlinewidth": 0,
              "ticks": ""
             }
            },
            "type": "scattercarpet"
           }
          ],
          "scattergeo": [
           {
            "marker": {
             "colorbar": {
              "outlinewidth": 0,
              "ticks": ""
             }
            },
            "type": "scattergeo"
           }
          ],
          "scattergl": [
           {
            "marker": {
             "colorbar": {
              "outlinewidth": 0,
              "ticks": ""
             }
            },
            "type": "scattergl"
           }
          ],
          "scattermapbox": [
           {
            "marker": {
             "colorbar": {
              "outlinewidth": 0,
              "ticks": ""
             }
            },
            "type": "scattermapbox"
           }
          ],
          "scatterpolar": [
           {
            "marker": {
             "colorbar": {
              "outlinewidth": 0,
              "ticks": ""
             }
            },
            "type": "scatterpolar"
           }
          ],
          "scatterpolargl": [
           {
            "marker": {
             "colorbar": {
              "outlinewidth": 0,
              "ticks": ""
             }
            },
            "type": "scatterpolargl"
           }
          ],
          "scatterternary": [
           {
            "marker": {
             "colorbar": {
              "outlinewidth": 0,
              "ticks": ""
             }
            },
            "type": "scatterternary"
           }
          ],
          "surface": [
           {
            "colorbar": {
             "outlinewidth": 0,
             "ticks": ""
            },
            "colorscale": [
             [
              0,
              "#0d0887"
             ],
             [
              0.1111111111111111,
              "#46039f"
             ],
             [
              0.2222222222222222,
              "#7201a8"
             ],
             [
              0.3333333333333333,
              "#9c179e"
             ],
             [
              0.4444444444444444,
              "#bd3786"
             ],
             [
              0.5555555555555556,
              "#d8576b"
             ],
             [
              0.6666666666666666,
              "#ed7953"
             ],
             [
              0.7777777777777778,
              "#fb9f3a"
             ],
             [
              0.8888888888888888,
              "#fdca26"
             ],
             [
              1,
              "#f0f921"
             ]
            ],
            "type": "surface"
           }
          ],
          "table": [
           {
            "cells": {
             "fill": {
              "color": "#EBF0F8"
             },
             "line": {
              "color": "white"
             }
            },
            "header": {
             "fill": {
              "color": "#C8D4E3"
             },
             "line": {
              "color": "white"
             }
            },
            "type": "table"
           }
          ]
         },
         "layout": {
          "annotationdefaults": {
           "arrowcolor": "#2a3f5f",
           "arrowhead": 0,
           "arrowwidth": 1
          },
          "coloraxis": {
           "colorbar": {
            "outlinewidth": 0,
            "ticks": ""
           }
          },
          "colorscale": {
           "diverging": [
            [
             0,
             "#8e0152"
            ],
            [
             0.1,
             "#c51b7d"
            ],
            [
             0.2,
             "#de77ae"
            ],
            [
             0.3,
             "#f1b6da"
            ],
            [
             0.4,
             "#fde0ef"
            ],
            [
             0.5,
             "#f7f7f7"
            ],
            [
             0.6,
             "#e6f5d0"
            ],
            [
             0.7,
             "#b8e186"
            ],
            [
             0.8,
             "#7fbc41"
            ],
            [
             0.9,
             "#4d9221"
            ],
            [
             1,
             "#276419"
            ]
           ],
           "sequential": [
            [
             0,
             "#0d0887"
            ],
            [
             0.1111111111111111,
             "#46039f"
            ],
            [
             0.2222222222222222,
             "#7201a8"
            ],
            [
             0.3333333333333333,
             "#9c179e"
            ],
            [
             0.4444444444444444,
             "#bd3786"
            ],
            [
             0.5555555555555556,
             "#d8576b"
            ],
            [
             0.6666666666666666,
             "#ed7953"
            ],
            [
             0.7777777777777778,
             "#fb9f3a"
            ],
            [
             0.8888888888888888,
             "#fdca26"
            ],
            [
             1,
             "#f0f921"
            ]
           ],
           "sequentialminus": [
            [
             0,
             "#0d0887"
            ],
            [
             0.1111111111111111,
             "#46039f"
            ],
            [
             0.2222222222222222,
             "#7201a8"
            ],
            [
             0.3333333333333333,
             "#9c179e"
            ],
            [
             0.4444444444444444,
             "#bd3786"
            ],
            [
             0.5555555555555556,
             "#d8576b"
            ],
            [
             0.6666666666666666,
             "#ed7953"
            ],
            [
             0.7777777777777778,
             "#fb9f3a"
            ],
            [
             0.8888888888888888,
             "#fdca26"
            ],
            [
             1,
             "#f0f921"
            ]
           ]
          },
          "colorway": [
           "#636efa",
           "#EF553B",
           "#00cc96",
           "#ab63fa",
           "#FFA15A",
           "#19d3f3",
           "#FF6692",
           "#B6E880",
           "#FF97FF",
           "#FECB52"
          ],
          "font": {
           "color": "#2a3f5f"
          },
          "geo": {
           "bgcolor": "white",
           "lakecolor": "white",
           "landcolor": "#E5ECF6",
           "showlakes": true,
           "showland": true,
           "subunitcolor": "white"
          },
          "hoverlabel": {
           "align": "left"
          },
          "hovermode": "closest",
          "mapbox": {
           "style": "light"
          },
          "paper_bgcolor": "white",
          "plot_bgcolor": "#E5ECF6",
          "polar": {
           "angularaxis": {
            "gridcolor": "white",
            "linecolor": "white",
            "ticks": ""
           },
           "bgcolor": "#E5ECF6",
           "radialaxis": {
            "gridcolor": "white",
            "linecolor": "white",
            "ticks": ""
           }
          },
          "scene": {
           "xaxis": {
            "backgroundcolor": "#E5ECF6",
            "gridcolor": "white",
            "gridwidth": 2,
            "linecolor": "white",
            "showbackground": true,
            "ticks": "",
            "zerolinecolor": "white"
           },
           "yaxis": {
            "backgroundcolor": "#E5ECF6",
            "gridcolor": "white",
            "gridwidth": 2,
            "linecolor": "white",
            "showbackground": true,
            "ticks": "",
            "zerolinecolor": "white"
           },
           "zaxis": {
            "backgroundcolor": "#E5ECF6",
            "gridcolor": "white",
            "gridwidth": 2,
            "linecolor": "white",
            "showbackground": true,
            "ticks": "",
            "zerolinecolor": "white"
           }
          },
          "shapedefaults": {
           "line": {
            "color": "#2a3f5f"
           }
          },
          "ternary": {
           "aaxis": {
            "gridcolor": "white",
            "linecolor": "white",
            "ticks": ""
           },
           "baxis": {
            "gridcolor": "white",
            "linecolor": "white",
            "ticks": ""
           },
           "bgcolor": "#E5ECF6",
           "caxis": {
            "gridcolor": "white",
            "linecolor": "white",
            "ticks": ""
           }
          },
          "title": {
           "x": 0.05
          },
          "xaxis": {
           "automargin": true,
           "gridcolor": "white",
           "linecolor": "white",
           "ticks": "",
           "title": {
            "standoff": 15
           },
           "zerolinecolor": "white",
           "zerolinewidth": 2
          },
          "yaxis": {
           "automargin": true,
           "gridcolor": "white",
           "linecolor": "white",
           "ticks": "",
           "title": {
            "standoff": 15
           },
           "zerolinecolor": "white",
           "zerolinewidth": 2
          }
         }
        }
       }
      },
      "text/html": [
       "<div>\n",
       "        \n",
       "        \n",
       "            <div id=\"9b9319d6-207c-4417-97d9-8b104dd799ea\" class=\"plotly-graph-div\" style=\"height:525px; width:100%;\"></div>\n",
       "            <script type=\"text/javascript\">\n",
       "                require([\"plotly\"], function(Plotly) {\n",
       "                    window.PLOTLYENV=window.PLOTLYENV || {};\n",
       "                    \n",
       "                if (document.getElementById(\"9b9319d6-207c-4417-97d9-8b104dd799ea\")) {\n",
       "                    Plotly.newPlot(\n",
       "                        '9b9319d6-207c-4417-97d9-8b104dd799ea',\n",
       "                        [{\"type\": \"scatter\", \"x\": [\"2017-02\", \"2017-03\", \"2017-04\", \"2017-05\", \"2017-06\", \"2017-07\", \"2017-08\", \"2017-09\", \"2017-10\", \"2017-11\", \"2017-12\", \"2018-01\", \"2018-02\", \"2018-03\", \"2018-04\"], \"y\": [9.99, 902.86, 17654.189999999995, 25556.230000000025, 34172.86000000008, 47284.74000000011, 39898.85000000009, 45462.20000000007, 40910.4000000001, 55373.920000000086, 43806.57000000011, 46755.56000000009, 42560.54000000012, 33435.4800000001, 3754.33]}],\n",
       "                        {\"template\": {\"data\": {\"bar\": [{\"error_x\": {\"color\": \"#2a3f5f\"}, \"error_y\": {\"color\": \"#2a3f5f\"}, \"marker\": {\"line\": {\"color\": \"#E5ECF6\", \"width\": 0.5}}, \"type\": \"bar\"}], \"barpolar\": [{\"marker\": {\"line\": {\"color\": \"#E5ECF6\", \"width\": 0.5}}, \"type\": \"barpolar\"}], \"carpet\": [{\"aaxis\": {\"endlinecolor\": \"#2a3f5f\", \"gridcolor\": \"white\", \"linecolor\": \"white\", \"minorgridcolor\": \"white\", \"startlinecolor\": \"#2a3f5f\"}, \"baxis\": {\"endlinecolor\": \"#2a3f5f\", \"gridcolor\": \"white\", \"linecolor\": \"white\", \"minorgridcolor\": \"white\", \"startlinecolor\": \"#2a3f5f\"}, \"type\": \"carpet\"}], \"choropleth\": [{\"colorbar\": {\"outlinewidth\": 0, \"ticks\": \"\"}, \"type\": \"choropleth\"}], \"contour\": [{\"colorbar\": {\"outlinewidth\": 0, \"ticks\": \"\"}, \"colorscale\": [[0.0, \"#0d0887\"], [0.1111111111111111, \"#46039f\"], [0.2222222222222222, \"#7201a8\"], [0.3333333333333333, \"#9c179e\"], [0.4444444444444444, \"#bd3786\"], [0.5555555555555556, \"#d8576b\"], [0.6666666666666666, \"#ed7953\"], [0.7777777777777778, \"#fb9f3a\"], [0.8888888888888888, \"#fdca26\"], [1.0, \"#f0f921\"]], \"type\": \"contour\"}], \"contourcarpet\": [{\"colorbar\": {\"outlinewidth\": 0, \"ticks\": \"\"}, \"type\": \"contourcarpet\"}], \"heatmap\": [{\"colorbar\": {\"outlinewidth\": 0, \"ticks\": \"\"}, \"colorscale\": [[0.0, \"#0d0887\"], [0.1111111111111111, \"#46039f\"], [0.2222222222222222, \"#7201a8\"], [0.3333333333333333, \"#9c179e\"], [0.4444444444444444, \"#bd3786\"], [0.5555555555555556, \"#d8576b\"], [0.6666666666666666, \"#ed7953\"], [0.7777777777777778, \"#fb9f3a\"], [0.8888888888888888, \"#fdca26\"], [1.0, \"#f0f921\"]], \"type\": \"heatmap\"}], \"heatmapgl\": [{\"colorbar\": {\"outlinewidth\": 0, \"ticks\": \"\"}, \"colorscale\": [[0.0, \"#0d0887\"], [0.1111111111111111, \"#46039f\"], [0.2222222222222222, \"#7201a8\"], [0.3333333333333333, \"#9c179e\"], [0.4444444444444444, \"#bd3786\"], [0.5555555555555556, \"#d8576b\"], [0.6666666666666666, \"#ed7953\"], [0.7777777777777778, \"#fb9f3a\"], [0.8888888888888888, \"#fdca26\"], [1.0, \"#f0f921\"]], \"type\": \"heatmapgl\"}], \"histogram\": [{\"marker\": {\"colorbar\": {\"outlinewidth\": 0, \"ticks\": \"\"}}, \"type\": \"histogram\"}], \"histogram2d\": [{\"colorbar\": {\"outlinewidth\": 0, \"ticks\": \"\"}, \"colorscale\": [[0.0, \"#0d0887\"], [0.1111111111111111, \"#46039f\"], [0.2222222222222222, \"#7201a8\"], [0.3333333333333333, \"#9c179e\"], [0.4444444444444444, \"#bd3786\"], [0.5555555555555556, \"#d8576b\"], [0.6666666666666666, \"#ed7953\"], [0.7777777777777778, \"#fb9f3a\"], [0.8888888888888888, \"#fdca26\"], [1.0, \"#f0f921\"]], \"type\": \"histogram2d\"}], \"histogram2dcontour\": [{\"colorbar\": {\"outlinewidth\": 0, \"ticks\": \"\"}, \"colorscale\": [[0.0, \"#0d0887\"], [0.1111111111111111, \"#46039f\"], [0.2222222222222222, \"#7201a8\"], [0.3333333333333333, \"#9c179e\"], [0.4444444444444444, \"#bd3786\"], [0.5555555555555556, \"#d8576b\"], [0.6666666666666666, \"#ed7953\"], [0.7777777777777778, \"#fb9f3a\"], [0.8888888888888888, \"#fdca26\"], [1.0, \"#f0f921\"]], \"type\": \"histogram2dcontour\"}], \"mesh3d\": [{\"colorbar\": {\"outlinewidth\": 0, \"ticks\": \"\"}, \"type\": \"mesh3d\"}], \"parcoords\": [{\"line\": {\"colorbar\": {\"outlinewidth\": 0, \"ticks\": \"\"}}, \"type\": \"parcoords\"}], \"pie\": [{\"automargin\": true, \"type\": \"pie\"}], \"scatter\": [{\"marker\": {\"colorbar\": {\"outlinewidth\": 0, \"ticks\": \"\"}}, \"type\": \"scatter\"}], \"scatter3d\": [{\"line\": {\"colorbar\": {\"outlinewidth\": 0, \"ticks\": \"\"}}, \"marker\": {\"colorbar\": {\"outlinewidth\": 0, \"ticks\": \"\"}}, \"type\": \"scatter3d\"}], \"scattercarpet\": [{\"marker\": {\"colorbar\": {\"outlinewidth\": 0, \"ticks\": \"\"}}, \"type\": \"scattercarpet\"}], \"scattergeo\": [{\"marker\": {\"colorbar\": {\"outlinewidth\": 0, \"ticks\": \"\"}}, \"type\": \"scattergeo\"}], \"scattergl\": [{\"marker\": {\"colorbar\": {\"outlinewidth\": 0, \"ticks\": \"\"}}, \"type\": \"scattergl\"}], \"scattermapbox\": [{\"marker\": {\"colorbar\": {\"outlinewidth\": 0, \"ticks\": \"\"}}, \"type\": \"scattermapbox\"}], \"scatterpolar\": [{\"marker\": {\"colorbar\": {\"outlinewidth\": 0, \"ticks\": \"\"}}, \"type\": \"scatterpolar\"}], \"scatterpolargl\": [{\"marker\": {\"colorbar\": {\"outlinewidth\": 0, \"ticks\": \"\"}}, \"type\": \"scatterpolargl\"}], \"scatterternary\": [{\"marker\": {\"colorbar\": {\"outlinewidth\": 0, \"ticks\": \"\"}}, \"type\": \"scatterternary\"}], \"surface\": [{\"colorbar\": {\"outlinewidth\": 0, \"ticks\": \"\"}, \"colorscale\": [[0.0, \"#0d0887\"], [0.1111111111111111, \"#46039f\"], [0.2222222222222222, \"#7201a8\"], [0.3333333333333333, \"#9c179e\"], [0.4444444444444444, \"#bd3786\"], [0.5555555555555556, \"#d8576b\"], [0.6666666666666666, \"#ed7953\"], [0.7777777777777778, \"#fb9f3a\"], [0.8888888888888888, \"#fdca26\"], [1.0, \"#f0f921\"]], \"type\": \"surface\"}], \"table\": [{\"cells\": {\"fill\": {\"color\": \"#EBF0F8\"}, \"line\": {\"color\": \"white\"}}, \"header\": {\"fill\": {\"color\": \"#C8D4E3\"}, \"line\": {\"color\": \"white\"}}, \"type\": \"table\"}]}, \"layout\": {\"annotationdefaults\": {\"arrowcolor\": \"#2a3f5f\", \"arrowhead\": 0, \"arrowwidth\": 1}, \"coloraxis\": {\"colorbar\": {\"outlinewidth\": 0, \"ticks\": \"\"}}, \"colorscale\": {\"diverging\": [[0, \"#8e0152\"], [0.1, \"#c51b7d\"], [0.2, \"#de77ae\"], [0.3, \"#f1b6da\"], [0.4, \"#fde0ef\"], [0.5, \"#f7f7f7\"], [0.6, \"#e6f5d0\"], [0.7, \"#b8e186\"], [0.8, \"#7fbc41\"], [0.9, \"#4d9221\"], [1, \"#276419\"]], \"sequential\": [[0.0, \"#0d0887\"], [0.1111111111111111, \"#46039f\"], [0.2222222222222222, \"#7201a8\"], [0.3333333333333333, \"#9c179e\"], [0.4444444444444444, \"#bd3786\"], [0.5555555555555556, \"#d8576b\"], [0.6666666666666666, \"#ed7953\"], [0.7777777777777778, \"#fb9f3a\"], [0.8888888888888888, \"#fdca26\"], [1.0, \"#f0f921\"]], \"sequentialminus\": [[0.0, \"#0d0887\"], [0.1111111111111111, \"#46039f\"], [0.2222222222222222, \"#7201a8\"], [0.3333333333333333, \"#9c179e\"], [0.4444444444444444, \"#bd3786\"], [0.5555555555555556, \"#d8576b\"], [0.6666666666666666, \"#ed7953\"], [0.7777777777777778, \"#fb9f3a\"], [0.8888888888888888, \"#fdca26\"], [1.0, \"#f0f921\"]]}, \"colorway\": [\"#636efa\", \"#EF553B\", \"#00cc96\", \"#ab63fa\", \"#FFA15A\", \"#19d3f3\", \"#FF6692\", \"#B6E880\", \"#FF97FF\", \"#FECB52\"], \"font\": {\"color\": \"#2a3f5f\"}, \"geo\": {\"bgcolor\": \"white\", \"lakecolor\": \"white\", \"landcolor\": \"#E5ECF6\", \"showlakes\": true, \"showland\": true, \"subunitcolor\": \"white\"}, \"hoverlabel\": {\"align\": \"left\"}, \"hovermode\": \"closest\", \"mapbox\": {\"style\": \"light\"}, \"paper_bgcolor\": \"white\", \"plot_bgcolor\": \"#E5ECF6\", \"polar\": {\"angularaxis\": {\"gridcolor\": \"white\", \"linecolor\": \"white\", \"ticks\": \"\"}, \"bgcolor\": \"#E5ECF6\", \"radialaxis\": {\"gridcolor\": \"white\", \"linecolor\": \"white\", \"ticks\": \"\"}}, \"scene\": {\"xaxis\": {\"backgroundcolor\": \"#E5ECF6\", \"gridcolor\": \"white\", \"gridwidth\": 2, \"linecolor\": \"white\", \"showbackground\": true, \"ticks\": \"\", \"zerolinecolor\": \"white\"}, \"yaxis\": {\"backgroundcolor\": \"#E5ECF6\", \"gridcolor\": \"white\", \"gridwidth\": 2, \"linecolor\": \"white\", \"showbackground\": true, \"ticks\": \"\", \"zerolinecolor\": \"white\"}, \"zaxis\": {\"backgroundcolor\": \"#E5ECF6\", \"gridcolor\": \"white\", \"gridwidth\": 2, \"linecolor\": \"white\", \"showbackground\": true, \"ticks\": \"\", \"zerolinecolor\": \"white\"}}, \"shapedefaults\": {\"line\": {\"color\": \"#2a3f5f\"}}, \"ternary\": {\"aaxis\": {\"gridcolor\": \"white\", \"linecolor\": \"white\", \"ticks\": \"\"}, \"baxis\": {\"gridcolor\": \"white\", \"linecolor\": \"white\", \"ticks\": \"\"}, \"bgcolor\": \"#E5ECF6\", \"caxis\": {\"gridcolor\": \"white\", \"linecolor\": \"white\", \"ticks\": \"\"}}, \"title\": {\"x\": 0.05}, \"xaxis\": {\"automargin\": true, \"gridcolor\": \"white\", \"linecolor\": \"white\", \"ticks\": \"\", \"title\": {\"standoff\": 15}, \"zerolinecolor\": \"white\", \"zerolinewidth\": 2}, \"yaxis\": {\"automargin\": true, \"gridcolor\": \"white\", \"linecolor\": \"white\", \"ticks\": \"\", \"title\": {\"standoff\": 15}, \"zerolinecolor\": \"white\", \"zerolinewidth\": 2}}}},\n",
       "                        {\"responsive\": true}\n",
       "                    ).then(function(){\n",
       "                            \n",
       "var gd = document.getElementById('9b9319d6-207c-4417-97d9-8b104dd799ea');\n",
       "var x = new MutationObserver(function (mutations, observer) {{\n",
       "        var display = window.getComputedStyle(gd).display;\n",
       "        if (!display || display === 'none') {{\n",
       "            console.log([gd, 'removed!']);\n",
       "            Plotly.purge(gd);\n",
       "            observer.disconnect();\n",
       "        }}\n",
       "}});\n",
       "\n",
       "// Listen for the removal of the full notebook cells\n",
       "var notebookContainer = gd.closest('#notebook-container');\n",
       "if (notebookContainer) {{\n",
       "    x.observe(notebookContainer, {childList: true});\n",
       "}}\n",
       "\n",
       "// Listen for the clearing of the current output cell\n",
       "var outputEl = gd.closest('.output');\n",
       "if (outputEl) {{\n",
       "    x.observe(outputEl, {childList: true});\n",
       "}}\n",
       "\n",
       "                        })\n",
       "                };\n",
       "                });\n",
       "            </script>\n",
       "        </div>"
      ]
     },
     "metadata": {},
     "output_type": "display_data"
    }
   ],
   "source": [
    "data = [go.Scatter(x=vendas_por_mes.index,\n",
    "                   y=vendas_por_mes.values)]\n",
    "py.iplot(data)"
   ]
  },
  {
   "cell_type": "markdown",
   "metadata": {},
   "source": [
    "**Gráfico de Barras**"
   ]
  },
  {
   "cell_type": "markdown",
   "metadata": {},
   "source": [
    "* **Customizando gráficos de barras: titulos e labels dos eixos"
   ]
  },
  {
   "cell_type": "code",
   "execution_count": 73,
   "metadata": {},
   "outputs": [
    {
     "data": {
      "application/vnd.plotly.v1+json": {
       "config": {
        "linkText": "Export to plot.ly",
        "plotlyServerURL": "https://plot.ly",
        "showLink": false
       },
       "data": [
        {
         "marker": {
          "color": "lightblue"
         },
         "type": "bar",
         "x": [
          "2017-02",
          "2017-03",
          "2017-04",
          "2017-05",
          "2017-06",
          "2017-07",
          "2017-08",
          "2017-09",
          "2017-10",
          "2017-11",
          "2017-12",
          "2018-01",
          "2018-02",
          "2018-03",
          "2018-04"
         ],
         "y": [
          9.99,
          902.86,
          17654.189999999995,
          25556.230000000025,
          34172.86000000008,
          47284.74000000011,
          39898.85000000009,
          45462.20000000007,
          40910.4000000001,
          55373.920000000086,
          43806.57000000011,
          46755.56000000009,
          42560.54000000012,
          33435.4800000001,
          3754.33
         ]
        }
       ],
       "layout": {
        "template": {
         "data": {
          "bar": [
           {
            "error_x": {
             "color": "#2a3f5f"
            },
            "error_y": {
             "color": "#2a3f5f"
            },
            "marker": {
             "line": {
              "color": "#E5ECF6",
              "width": 0.5
             }
            },
            "type": "bar"
           }
          ],
          "barpolar": [
           {
            "marker": {
             "line": {
              "color": "#E5ECF6",
              "width": 0.5
             }
            },
            "type": "barpolar"
           }
          ],
          "carpet": [
           {
            "aaxis": {
             "endlinecolor": "#2a3f5f",
             "gridcolor": "white",
             "linecolor": "white",
             "minorgridcolor": "white",
             "startlinecolor": "#2a3f5f"
            },
            "baxis": {
             "endlinecolor": "#2a3f5f",
             "gridcolor": "white",
             "linecolor": "white",
             "minorgridcolor": "white",
             "startlinecolor": "#2a3f5f"
            },
            "type": "carpet"
           }
          ],
          "choropleth": [
           {
            "colorbar": {
             "outlinewidth": 0,
             "ticks": ""
            },
            "type": "choropleth"
           }
          ],
          "contour": [
           {
            "colorbar": {
             "outlinewidth": 0,
             "ticks": ""
            },
            "colorscale": [
             [
              0,
              "#0d0887"
             ],
             [
              0.1111111111111111,
              "#46039f"
             ],
             [
              0.2222222222222222,
              "#7201a8"
             ],
             [
              0.3333333333333333,
              "#9c179e"
             ],
             [
              0.4444444444444444,
              "#bd3786"
             ],
             [
              0.5555555555555556,
              "#d8576b"
             ],
             [
              0.6666666666666666,
              "#ed7953"
             ],
             [
              0.7777777777777778,
              "#fb9f3a"
             ],
             [
              0.8888888888888888,
              "#fdca26"
             ],
             [
              1,
              "#f0f921"
             ]
            ],
            "type": "contour"
           }
          ],
          "contourcarpet": [
           {
            "colorbar": {
             "outlinewidth": 0,
             "ticks": ""
            },
            "type": "contourcarpet"
           }
          ],
          "heatmap": [
           {
            "colorbar": {
             "outlinewidth": 0,
             "ticks": ""
            },
            "colorscale": [
             [
              0,
              "#0d0887"
             ],
             [
              0.1111111111111111,
              "#46039f"
             ],
             [
              0.2222222222222222,
              "#7201a8"
             ],
             [
              0.3333333333333333,
              "#9c179e"
             ],
             [
              0.4444444444444444,
              "#bd3786"
             ],
             [
              0.5555555555555556,
              "#d8576b"
             ],
             [
              0.6666666666666666,
              "#ed7953"
             ],
             [
              0.7777777777777778,
              "#fb9f3a"
             ],
             [
              0.8888888888888888,
              "#fdca26"
             ],
             [
              1,
              "#f0f921"
             ]
            ],
            "type": "heatmap"
           }
          ],
          "heatmapgl": [
           {
            "colorbar": {
             "outlinewidth": 0,
             "ticks": ""
            },
            "colorscale": [
             [
              0,
              "#0d0887"
             ],
             [
              0.1111111111111111,
              "#46039f"
             ],
             [
              0.2222222222222222,
              "#7201a8"
             ],
             [
              0.3333333333333333,
              "#9c179e"
             ],
             [
              0.4444444444444444,
              "#bd3786"
             ],
             [
              0.5555555555555556,
              "#d8576b"
             ],
             [
              0.6666666666666666,
              "#ed7953"
             ],
             [
              0.7777777777777778,
              "#fb9f3a"
             ],
             [
              0.8888888888888888,
              "#fdca26"
             ],
             [
              1,
              "#f0f921"
             ]
            ],
            "type": "heatmapgl"
           }
          ],
          "histogram": [
           {
            "marker": {
             "colorbar": {
              "outlinewidth": 0,
              "ticks": ""
             }
            },
            "type": "histogram"
           }
          ],
          "histogram2d": [
           {
            "colorbar": {
             "outlinewidth": 0,
             "ticks": ""
            },
            "colorscale": [
             [
              0,
              "#0d0887"
             ],
             [
              0.1111111111111111,
              "#46039f"
             ],
             [
              0.2222222222222222,
              "#7201a8"
             ],
             [
              0.3333333333333333,
              "#9c179e"
             ],
             [
              0.4444444444444444,
              "#bd3786"
             ],
             [
              0.5555555555555556,
              "#d8576b"
             ],
             [
              0.6666666666666666,
              "#ed7953"
             ],
             [
              0.7777777777777778,
              "#fb9f3a"
             ],
             [
              0.8888888888888888,
              "#fdca26"
             ],
             [
              1,
              "#f0f921"
             ]
            ],
            "type": "histogram2d"
           }
          ],
          "histogram2dcontour": [
           {
            "colorbar": {
             "outlinewidth": 0,
             "ticks": ""
            },
            "colorscale": [
             [
              0,
              "#0d0887"
             ],
             [
              0.1111111111111111,
              "#46039f"
             ],
             [
              0.2222222222222222,
              "#7201a8"
             ],
             [
              0.3333333333333333,
              "#9c179e"
             ],
             [
              0.4444444444444444,
              "#bd3786"
             ],
             [
              0.5555555555555556,
              "#d8576b"
             ],
             [
              0.6666666666666666,
              "#ed7953"
             ],
             [
              0.7777777777777778,
              "#fb9f3a"
             ],
             [
              0.8888888888888888,
              "#fdca26"
             ],
             [
              1,
              "#f0f921"
             ]
            ],
            "type": "histogram2dcontour"
           }
          ],
          "mesh3d": [
           {
            "colorbar": {
             "outlinewidth": 0,
             "ticks": ""
            },
            "type": "mesh3d"
           }
          ],
          "parcoords": [
           {
            "line": {
             "colorbar": {
              "outlinewidth": 0,
              "ticks": ""
             }
            },
            "type": "parcoords"
           }
          ],
          "pie": [
           {
            "automargin": true,
            "type": "pie"
           }
          ],
          "scatter": [
           {
            "marker": {
             "colorbar": {
              "outlinewidth": 0,
              "ticks": ""
             }
            },
            "type": "scatter"
           }
          ],
          "scatter3d": [
           {
            "line": {
             "colorbar": {
              "outlinewidth": 0,
              "ticks": ""
             }
            },
            "marker": {
             "colorbar": {
              "outlinewidth": 0,
              "ticks": ""
             }
            },
            "type": "scatter3d"
           }
          ],
          "scattercarpet": [
           {
            "marker": {
             "colorbar": {
              "outlinewidth": 0,
              "ticks": ""
             }
            },
            "type": "scattercarpet"
           }
          ],
          "scattergeo": [
           {
            "marker": {
             "colorbar": {
              "outlinewidth": 0,
              "ticks": ""
             }
            },
            "type": "scattergeo"
           }
          ],
          "scattergl": [
           {
            "marker": {
             "colorbar": {
              "outlinewidth": 0,
              "ticks": ""
             }
            },
            "type": "scattergl"
           }
          ],
          "scattermapbox": [
           {
            "marker": {
             "colorbar": {
              "outlinewidth": 0,
              "ticks": ""
             }
            },
            "type": "scattermapbox"
           }
          ],
          "scatterpolar": [
           {
            "marker": {
             "colorbar": {
              "outlinewidth": 0,
              "ticks": ""
             }
            },
            "type": "scatterpolar"
           }
          ],
          "scatterpolargl": [
           {
            "marker": {
             "colorbar": {
              "outlinewidth": 0,
              "ticks": ""
             }
            },
            "type": "scatterpolargl"
           }
          ],
          "scatterternary": [
           {
            "marker": {
             "colorbar": {
              "outlinewidth": 0,
              "ticks": ""
             }
            },
            "type": "scatterternary"
           }
          ],
          "surface": [
           {
            "colorbar": {
             "outlinewidth": 0,
             "ticks": ""
            },
            "colorscale": [
             [
              0,
              "#0d0887"
             ],
             [
              0.1111111111111111,
              "#46039f"
             ],
             [
              0.2222222222222222,
              "#7201a8"
             ],
             [
              0.3333333333333333,
              "#9c179e"
             ],
             [
              0.4444444444444444,
              "#bd3786"
             ],
             [
              0.5555555555555556,
              "#d8576b"
             ],
             [
              0.6666666666666666,
              "#ed7953"
             ],
             [
              0.7777777777777778,
              "#fb9f3a"
             ],
             [
              0.8888888888888888,
              "#fdca26"
             ],
             [
              1,
              "#f0f921"
             ]
            ],
            "type": "surface"
           }
          ],
          "table": [
           {
            "cells": {
             "fill": {
              "color": "#EBF0F8"
             },
             "line": {
              "color": "white"
             }
            },
            "header": {
             "fill": {
              "color": "#C8D4E3"
             },
             "line": {
              "color": "white"
             }
            },
            "type": "table"
           }
          ]
         },
         "layout": {
          "annotationdefaults": {
           "arrowcolor": "#2a3f5f",
           "arrowhead": 0,
           "arrowwidth": 1
          },
          "coloraxis": {
           "colorbar": {
            "outlinewidth": 0,
            "ticks": ""
           }
          },
          "colorscale": {
           "diverging": [
            [
             0,
             "#8e0152"
            ],
            [
             0.1,
             "#c51b7d"
            ],
            [
             0.2,
             "#de77ae"
            ],
            [
             0.3,
             "#f1b6da"
            ],
            [
             0.4,
             "#fde0ef"
            ],
            [
             0.5,
             "#f7f7f7"
            ],
            [
             0.6,
             "#e6f5d0"
            ],
            [
             0.7,
             "#b8e186"
            ],
            [
             0.8,
             "#7fbc41"
            ],
            [
             0.9,
             "#4d9221"
            ],
            [
             1,
             "#276419"
            ]
           ],
           "sequential": [
            [
             0,
             "#0d0887"
            ],
            [
             0.1111111111111111,
             "#46039f"
            ],
            [
             0.2222222222222222,
             "#7201a8"
            ],
            [
             0.3333333333333333,
             "#9c179e"
            ],
            [
             0.4444444444444444,
             "#bd3786"
            ],
            [
             0.5555555555555556,
             "#d8576b"
            ],
            [
             0.6666666666666666,
             "#ed7953"
            ],
            [
             0.7777777777777778,
             "#fb9f3a"
            ],
            [
             0.8888888888888888,
             "#fdca26"
            ],
            [
             1,
             "#f0f921"
            ]
           ],
           "sequentialminus": [
            [
             0,
             "#0d0887"
            ],
            [
             0.1111111111111111,
             "#46039f"
            ],
            [
             0.2222222222222222,
             "#7201a8"
            ],
            [
             0.3333333333333333,
             "#9c179e"
            ],
            [
             0.4444444444444444,
             "#bd3786"
            ],
            [
             0.5555555555555556,
             "#d8576b"
            ],
            [
             0.6666666666666666,
             "#ed7953"
            ],
            [
             0.7777777777777778,
             "#fb9f3a"
            ],
            [
             0.8888888888888888,
             "#fdca26"
            ],
            [
             1,
             "#f0f921"
            ]
           ]
          },
          "colorway": [
           "#636efa",
           "#EF553B",
           "#00cc96",
           "#ab63fa",
           "#FFA15A",
           "#19d3f3",
           "#FF6692",
           "#B6E880",
           "#FF97FF",
           "#FECB52"
          ],
          "font": {
           "color": "#2a3f5f"
          },
          "geo": {
           "bgcolor": "white",
           "lakecolor": "white",
           "landcolor": "#E5ECF6",
           "showlakes": true,
           "showland": true,
           "subunitcolor": "white"
          },
          "hoverlabel": {
           "align": "left"
          },
          "hovermode": "closest",
          "mapbox": {
           "style": "light"
          },
          "paper_bgcolor": "white",
          "plot_bgcolor": "#E5ECF6",
          "polar": {
           "angularaxis": {
            "gridcolor": "white",
            "linecolor": "white",
            "ticks": ""
           },
           "bgcolor": "#E5ECF6",
           "radialaxis": {
            "gridcolor": "white",
            "linecolor": "white",
            "ticks": ""
           }
          },
          "scene": {
           "xaxis": {
            "backgroundcolor": "#E5ECF6",
            "gridcolor": "white",
            "gridwidth": 2,
            "linecolor": "white",
            "showbackground": true,
            "ticks": "",
            "zerolinecolor": "white"
           },
           "yaxis": {
            "backgroundcolor": "#E5ECF6",
            "gridcolor": "white",
            "gridwidth": 2,
            "linecolor": "white",
            "showbackground": true,
            "ticks": "",
            "zerolinecolor": "white"
           },
           "zaxis": {
            "backgroundcolor": "#E5ECF6",
            "gridcolor": "white",
            "gridwidth": 2,
            "linecolor": "white",
            "showbackground": true,
            "ticks": "",
            "zerolinecolor": "white"
           }
          },
          "shapedefaults": {
           "line": {
            "color": "#2a3f5f"
           }
          },
          "ternary": {
           "aaxis": {
            "gridcolor": "white",
            "linecolor": "white",
            "ticks": ""
           },
           "baxis": {
            "gridcolor": "white",
            "linecolor": "white",
            "ticks": ""
           },
           "bgcolor": "#E5ECF6",
           "caxis": {
            "gridcolor": "white",
            "linecolor": "white",
            "ticks": ""
           }
          },
          "title": {
           "x": 0.05
          },
          "xaxis": {
           "automargin": true,
           "gridcolor": "white",
           "linecolor": "white",
           "ticks": "",
           "title": {
            "standoff": 15
           },
           "zerolinecolor": "white",
           "zerolinewidth": 2
          },
          "yaxis": {
           "automargin": true,
           "gridcolor": "white",
           "linecolor": "white",
           "ticks": "",
           "title": {
            "standoff": 15
           },
           "zerolinecolor": "white",
           "zerolinewidth": 2
          }
         }
        },
        "title": {
         "text": "Vendas no Período"
        },
        "xaxis": {
         "title": {
          "text": "Período"
         }
        },
        "yaxis": {
         "title": {
          "text": "Valores de Vendas"
         }
        }
       }
      },
      "text/html": [
       "<div>\n",
       "        \n",
       "        \n",
       "            <div id=\"08571c53-73da-44dc-8988-cffbbbd32069\" class=\"plotly-graph-div\" style=\"height:525px; width:100%;\"></div>\n",
       "            <script type=\"text/javascript\">\n",
       "                require([\"plotly\"], function(Plotly) {\n",
       "                    window.PLOTLYENV=window.PLOTLYENV || {};\n",
       "                    \n",
       "                if (document.getElementById(\"08571c53-73da-44dc-8988-cffbbbd32069\")) {\n",
       "                    Plotly.newPlot(\n",
       "                        '08571c53-73da-44dc-8988-cffbbbd32069',\n",
       "                        [{\"marker\": {\"color\": \"lightblue\"}, \"type\": \"bar\", \"x\": [\"2017-02\", \"2017-03\", \"2017-04\", \"2017-05\", \"2017-06\", \"2017-07\", \"2017-08\", \"2017-09\", \"2017-10\", \"2017-11\", \"2017-12\", \"2018-01\", \"2018-02\", \"2018-03\", \"2018-04\"], \"y\": [9.99, 902.86, 17654.189999999995, 25556.230000000025, 34172.86000000008, 47284.74000000011, 39898.85000000009, 45462.20000000007, 40910.4000000001, 55373.920000000086, 43806.57000000011, 46755.56000000009, 42560.54000000012, 33435.4800000001, 3754.33]}],\n",
       "                        {\"template\": {\"data\": {\"bar\": [{\"error_x\": {\"color\": \"#2a3f5f\"}, \"error_y\": {\"color\": \"#2a3f5f\"}, \"marker\": {\"line\": {\"color\": \"#E5ECF6\", \"width\": 0.5}}, \"type\": \"bar\"}], \"barpolar\": [{\"marker\": {\"line\": {\"color\": \"#E5ECF6\", \"width\": 0.5}}, \"type\": \"barpolar\"}], \"carpet\": [{\"aaxis\": {\"endlinecolor\": \"#2a3f5f\", \"gridcolor\": \"white\", \"linecolor\": \"white\", \"minorgridcolor\": \"white\", \"startlinecolor\": \"#2a3f5f\"}, \"baxis\": {\"endlinecolor\": \"#2a3f5f\", \"gridcolor\": \"white\", \"linecolor\": \"white\", \"minorgridcolor\": \"white\", \"startlinecolor\": \"#2a3f5f\"}, \"type\": \"carpet\"}], \"choropleth\": [{\"colorbar\": {\"outlinewidth\": 0, \"ticks\": \"\"}, \"type\": \"choropleth\"}], \"contour\": [{\"colorbar\": {\"outlinewidth\": 0, \"ticks\": \"\"}, \"colorscale\": [[0.0, \"#0d0887\"], [0.1111111111111111, \"#46039f\"], [0.2222222222222222, \"#7201a8\"], [0.3333333333333333, \"#9c179e\"], [0.4444444444444444, \"#bd3786\"], [0.5555555555555556, \"#d8576b\"], [0.6666666666666666, \"#ed7953\"], [0.7777777777777778, \"#fb9f3a\"], [0.8888888888888888, \"#fdca26\"], [1.0, \"#f0f921\"]], \"type\": \"contour\"}], \"contourcarpet\": [{\"colorbar\": {\"outlinewidth\": 0, \"ticks\": \"\"}, \"type\": \"contourcarpet\"}], \"heatmap\": [{\"colorbar\": {\"outlinewidth\": 0, \"ticks\": \"\"}, \"colorscale\": [[0.0, \"#0d0887\"], [0.1111111111111111, \"#46039f\"], [0.2222222222222222, \"#7201a8\"], [0.3333333333333333, \"#9c179e\"], [0.4444444444444444, \"#bd3786\"], [0.5555555555555556, \"#d8576b\"], [0.6666666666666666, \"#ed7953\"], [0.7777777777777778, \"#fb9f3a\"], [0.8888888888888888, \"#fdca26\"], [1.0, \"#f0f921\"]], \"type\": \"heatmap\"}], \"heatmapgl\": [{\"colorbar\": {\"outlinewidth\": 0, \"ticks\": \"\"}, \"colorscale\": [[0.0, \"#0d0887\"], [0.1111111111111111, \"#46039f\"], [0.2222222222222222, \"#7201a8\"], [0.3333333333333333, \"#9c179e\"], [0.4444444444444444, \"#bd3786\"], [0.5555555555555556, \"#d8576b\"], [0.6666666666666666, \"#ed7953\"], [0.7777777777777778, \"#fb9f3a\"], [0.8888888888888888, \"#fdca26\"], [1.0, \"#f0f921\"]], \"type\": \"heatmapgl\"}], \"histogram\": [{\"marker\": {\"colorbar\": {\"outlinewidth\": 0, \"ticks\": \"\"}}, \"type\": \"histogram\"}], \"histogram2d\": [{\"colorbar\": {\"outlinewidth\": 0, \"ticks\": \"\"}, \"colorscale\": [[0.0, \"#0d0887\"], [0.1111111111111111, \"#46039f\"], [0.2222222222222222, \"#7201a8\"], [0.3333333333333333, \"#9c179e\"], [0.4444444444444444, \"#bd3786\"], [0.5555555555555556, \"#d8576b\"], [0.6666666666666666, \"#ed7953\"], [0.7777777777777778, \"#fb9f3a\"], [0.8888888888888888, \"#fdca26\"], [1.0, \"#f0f921\"]], \"type\": \"histogram2d\"}], \"histogram2dcontour\": [{\"colorbar\": {\"outlinewidth\": 0, \"ticks\": \"\"}, \"colorscale\": [[0.0, \"#0d0887\"], [0.1111111111111111, \"#46039f\"], [0.2222222222222222, \"#7201a8\"], [0.3333333333333333, \"#9c179e\"], [0.4444444444444444, \"#bd3786\"], [0.5555555555555556, \"#d8576b\"], [0.6666666666666666, \"#ed7953\"], [0.7777777777777778, \"#fb9f3a\"], [0.8888888888888888, \"#fdca26\"], [1.0, \"#f0f921\"]], \"type\": \"histogram2dcontour\"}], \"mesh3d\": [{\"colorbar\": {\"outlinewidth\": 0, \"ticks\": \"\"}, \"type\": \"mesh3d\"}], \"parcoords\": [{\"line\": {\"colorbar\": {\"outlinewidth\": 0, \"ticks\": \"\"}}, \"type\": \"parcoords\"}], \"pie\": [{\"automargin\": true, \"type\": \"pie\"}], \"scatter\": [{\"marker\": {\"colorbar\": {\"outlinewidth\": 0, \"ticks\": \"\"}}, \"type\": \"scatter\"}], \"scatter3d\": [{\"line\": {\"colorbar\": {\"outlinewidth\": 0, \"ticks\": \"\"}}, \"marker\": {\"colorbar\": {\"outlinewidth\": 0, \"ticks\": \"\"}}, \"type\": \"scatter3d\"}], \"scattercarpet\": [{\"marker\": {\"colorbar\": {\"outlinewidth\": 0, \"ticks\": \"\"}}, \"type\": \"scattercarpet\"}], \"scattergeo\": [{\"marker\": {\"colorbar\": {\"outlinewidth\": 0, \"ticks\": \"\"}}, \"type\": \"scattergeo\"}], \"scattergl\": [{\"marker\": {\"colorbar\": {\"outlinewidth\": 0, \"ticks\": \"\"}}, \"type\": \"scattergl\"}], \"scattermapbox\": [{\"marker\": {\"colorbar\": {\"outlinewidth\": 0, \"ticks\": \"\"}}, \"type\": \"scattermapbox\"}], \"scatterpolar\": [{\"marker\": {\"colorbar\": {\"outlinewidth\": 0, \"ticks\": \"\"}}, \"type\": \"scatterpolar\"}], \"scatterpolargl\": [{\"marker\": {\"colorbar\": {\"outlinewidth\": 0, \"ticks\": \"\"}}, \"type\": \"scatterpolargl\"}], \"scatterternary\": [{\"marker\": {\"colorbar\": {\"outlinewidth\": 0, \"ticks\": \"\"}}, \"type\": \"scatterternary\"}], \"surface\": [{\"colorbar\": {\"outlinewidth\": 0, \"ticks\": \"\"}, \"colorscale\": [[0.0, \"#0d0887\"], [0.1111111111111111, \"#46039f\"], [0.2222222222222222, \"#7201a8\"], [0.3333333333333333, \"#9c179e\"], [0.4444444444444444, \"#bd3786\"], [0.5555555555555556, \"#d8576b\"], [0.6666666666666666, \"#ed7953\"], [0.7777777777777778, \"#fb9f3a\"], [0.8888888888888888, \"#fdca26\"], [1.0, \"#f0f921\"]], \"type\": \"surface\"}], \"table\": [{\"cells\": {\"fill\": {\"color\": \"#EBF0F8\"}, \"line\": {\"color\": \"white\"}}, \"header\": {\"fill\": {\"color\": \"#C8D4E3\"}, \"line\": {\"color\": \"white\"}}, \"type\": \"table\"}]}, \"layout\": {\"annotationdefaults\": {\"arrowcolor\": \"#2a3f5f\", \"arrowhead\": 0, \"arrowwidth\": 1}, \"coloraxis\": {\"colorbar\": {\"outlinewidth\": 0, \"ticks\": \"\"}}, \"colorscale\": {\"diverging\": [[0, \"#8e0152\"], [0.1, \"#c51b7d\"], [0.2, \"#de77ae\"], [0.3, \"#f1b6da\"], [0.4, \"#fde0ef\"], [0.5, \"#f7f7f7\"], [0.6, \"#e6f5d0\"], [0.7, \"#b8e186\"], [0.8, \"#7fbc41\"], [0.9, \"#4d9221\"], [1, \"#276419\"]], \"sequential\": [[0.0, \"#0d0887\"], [0.1111111111111111, \"#46039f\"], [0.2222222222222222, \"#7201a8\"], [0.3333333333333333, \"#9c179e\"], [0.4444444444444444, \"#bd3786\"], [0.5555555555555556, \"#d8576b\"], [0.6666666666666666, \"#ed7953\"], [0.7777777777777778, \"#fb9f3a\"], [0.8888888888888888, \"#fdca26\"], [1.0, \"#f0f921\"]], \"sequentialminus\": [[0.0, \"#0d0887\"], [0.1111111111111111, \"#46039f\"], [0.2222222222222222, \"#7201a8\"], [0.3333333333333333, \"#9c179e\"], [0.4444444444444444, \"#bd3786\"], [0.5555555555555556, \"#d8576b\"], [0.6666666666666666, \"#ed7953\"], [0.7777777777777778, \"#fb9f3a\"], [0.8888888888888888, \"#fdca26\"], [1.0, \"#f0f921\"]]}, \"colorway\": [\"#636efa\", \"#EF553B\", \"#00cc96\", \"#ab63fa\", \"#FFA15A\", \"#19d3f3\", \"#FF6692\", \"#B6E880\", \"#FF97FF\", \"#FECB52\"], \"font\": {\"color\": \"#2a3f5f\"}, \"geo\": {\"bgcolor\": \"white\", \"lakecolor\": \"white\", \"landcolor\": \"#E5ECF6\", \"showlakes\": true, \"showland\": true, \"subunitcolor\": \"white\"}, \"hoverlabel\": {\"align\": \"left\"}, \"hovermode\": \"closest\", \"mapbox\": {\"style\": \"light\"}, \"paper_bgcolor\": \"white\", \"plot_bgcolor\": \"#E5ECF6\", \"polar\": {\"angularaxis\": {\"gridcolor\": \"white\", \"linecolor\": \"white\", \"ticks\": \"\"}, \"bgcolor\": \"#E5ECF6\", \"radialaxis\": {\"gridcolor\": \"white\", \"linecolor\": \"white\", \"ticks\": \"\"}}, \"scene\": {\"xaxis\": {\"backgroundcolor\": \"#E5ECF6\", \"gridcolor\": \"white\", \"gridwidth\": 2, \"linecolor\": \"white\", \"showbackground\": true, \"ticks\": \"\", \"zerolinecolor\": \"white\"}, \"yaxis\": {\"backgroundcolor\": \"#E5ECF6\", \"gridcolor\": \"white\", \"gridwidth\": 2, \"linecolor\": \"white\", \"showbackground\": true, \"ticks\": \"\", \"zerolinecolor\": \"white\"}, \"zaxis\": {\"backgroundcolor\": \"#E5ECF6\", \"gridcolor\": \"white\", \"gridwidth\": 2, \"linecolor\": \"white\", \"showbackground\": true, \"ticks\": \"\", \"zerolinecolor\": \"white\"}}, \"shapedefaults\": {\"line\": {\"color\": \"#2a3f5f\"}}, \"ternary\": {\"aaxis\": {\"gridcolor\": \"white\", \"linecolor\": \"white\", \"ticks\": \"\"}, \"baxis\": {\"gridcolor\": \"white\", \"linecolor\": \"white\", \"ticks\": \"\"}, \"bgcolor\": \"#E5ECF6\", \"caxis\": {\"gridcolor\": \"white\", \"linecolor\": \"white\", \"ticks\": \"\"}}, \"title\": {\"x\": 0.05}, \"xaxis\": {\"automargin\": true, \"gridcolor\": \"white\", \"linecolor\": \"white\", \"ticks\": \"\", \"title\": {\"standoff\": 15}, \"zerolinecolor\": \"white\", \"zerolinewidth\": 2}, \"yaxis\": {\"automargin\": true, \"gridcolor\": \"white\", \"linecolor\": \"white\", \"ticks\": \"\", \"title\": {\"standoff\": 15}, \"zerolinecolor\": \"white\", \"zerolinewidth\": 2}}}, \"title\": {\"text\": \"Vendas no Per\\u00edodo\"}, \"xaxis\": {\"title\": {\"text\": \"Per\\u00edodo\"}}, \"yaxis\": {\"title\": {\"text\": \"Valores de Vendas\"}}},\n",
       "                        {\"responsive\": true}\n",
       "                    ).then(function(){\n",
       "                            \n",
       "var gd = document.getElementById('08571c53-73da-44dc-8988-cffbbbd32069');\n",
       "var x = new MutationObserver(function (mutations, observer) {{\n",
       "        var display = window.getComputedStyle(gd).display;\n",
       "        if (!display || display === 'none') {{\n",
       "            console.log([gd, 'removed!']);\n",
       "            Plotly.purge(gd);\n",
       "            observer.disconnect();\n",
       "        }}\n",
       "}});\n",
       "\n",
       "// Listen for the removal of the full notebook cells\n",
       "var notebookContainer = gd.closest('#notebook-container');\n",
       "if (notebookContainer) {{\n",
       "    x.observe(notebookContainer, {childList: true});\n",
       "}}\n",
       "\n",
       "// Listen for the clearing of the current output cell\n",
       "var outputEl = gd.closest('.output');\n",
       "if (outputEl) {{\n",
       "    x.observe(outputEl, {childList: true});\n",
       "}}\n",
       "\n",
       "                        })\n",
       "                };\n",
       "                });\n",
       "            </script>\n",
       "        </div>"
      ]
     },
     "metadata": {},
     "output_type": "display_data"
    }
   ],
   "source": [
    "import plotly.offline as py\n",
    "import plotly.graph_objs as go\n",
    "\n",
    "data = [go.Bar(x=vendas_por_mes.index,\n",
    "               y=vendas_por_mes.values,\n",
    "               marker={'color':'lightblue'}\n",
    "              )]\n",
    "# Criando Layout\n",
    "configuracoes_layout = go.Layout(title='Vendas no Período',\n",
    "                                 xaxis={'title': 'Período'},\n",
    "                                 yaxis={'title': 'Valores de Vendas'})\n",
    "# Objeto Figura\n",
    "fig = go.Figure(data=data, layout=configuracoes_layout)\n",
    "\n",
    "py.iplot(fig)"
   ]
  },
  {
   "cell_type": "markdown",
   "metadata": {},
   "source": [
    "**Definindo ajustes em linhas e cores**"
   ]
  },
  {
   "cell_type": "markdown",
   "metadata": {},
   "source": [
    "* **Parâmetros opacity e width**"
   ]
  },
  {
   "cell_type": "code",
   "execution_count": 78,
   "metadata": {},
   "outputs": [
    {
     "data": {
      "application/vnd.plotly.v1+json": {
       "config": {
        "linkText": "Export to plot.ly",
        "plotlyServerURL": "https://plot.ly",
        "showLink": false
       },
       "data": [
        {
         "marker": {
          "color": "lightblue",
          "line": {
           "color": "#333",
           "width": 2
          }
         },
         "opacity": 0.7,
         "type": "bar",
         "x": [
          "2017-02",
          "2017-03",
          "2017-04",
          "2017-05",
          "2017-06",
          "2017-07",
          "2017-08",
          "2017-09",
          "2017-10",
          "2017-11",
          "2017-12",
          "2018-01",
          "2018-02",
          "2018-03",
          "2018-04"
         ],
         "y": [
          9.99,
          902.86,
          17654.189999999995,
          25556.230000000025,
          34172.86000000008,
          47284.74000000011,
          39898.85000000009,
          45462.20000000007,
          40910.4000000001,
          55373.920000000086,
          43806.57000000011,
          46755.56000000009,
          42560.54000000012,
          33435.4800000001,
          3754.33
         ]
        }
       ],
       "layout": {
        "template": {
         "data": {
          "bar": [
           {
            "error_x": {
             "color": "#2a3f5f"
            },
            "error_y": {
             "color": "#2a3f5f"
            },
            "marker": {
             "line": {
              "color": "#E5ECF6",
              "width": 0.5
             }
            },
            "type": "bar"
           }
          ],
          "barpolar": [
           {
            "marker": {
             "line": {
              "color": "#E5ECF6",
              "width": 0.5
             }
            },
            "type": "barpolar"
           }
          ],
          "carpet": [
           {
            "aaxis": {
             "endlinecolor": "#2a3f5f",
             "gridcolor": "white",
             "linecolor": "white",
             "minorgridcolor": "white",
             "startlinecolor": "#2a3f5f"
            },
            "baxis": {
             "endlinecolor": "#2a3f5f",
             "gridcolor": "white",
             "linecolor": "white",
             "minorgridcolor": "white",
             "startlinecolor": "#2a3f5f"
            },
            "type": "carpet"
           }
          ],
          "choropleth": [
           {
            "colorbar": {
             "outlinewidth": 0,
             "ticks": ""
            },
            "type": "choropleth"
           }
          ],
          "contour": [
           {
            "colorbar": {
             "outlinewidth": 0,
             "ticks": ""
            },
            "colorscale": [
             [
              0,
              "#0d0887"
             ],
             [
              0.1111111111111111,
              "#46039f"
             ],
             [
              0.2222222222222222,
              "#7201a8"
             ],
             [
              0.3333333333333333,
              "#9c179e"
             ],
             [
              0.4444444444444444,
              "#bd3786"
             ],
             [
              0.5555555555555556,
              "#d8576b"
             ],
             [
              0.6666666666666666,
              "#ed7953"
             ],
             [
              0.7777777777777778,
              "#fb9f3a"
             ],
             [
              0.8888888888888888,
              "#fdca26"
             ],
             [
              1,
              "#f0f921"
             ]
            ],
            "type": "contour"
           }
          ],
          "contourcarpet": [
           {
            "colorbar": {
             "outlinewidth": 0,
             "ticks": ""
            },
            "type": "contourcarpet"
           }
          ],
          "heatmap": [
           {
            "colorbar": {
             "outlinewidth": 0,
             "ticks": ""
            },
            "colorscale": [
             [
              0,
              "#0d0887"
             ],
             [
              0.1111111111111111,
              "#46039f"
             ],
             [
              0.2222222222222222,
              "#7201a8"
             ],
             [
              0.3333333333333333,
              "#9c179e"
             ],
             [
              0.4444444444444444,
              "#bd3786"
             ],
             [
              0.5555555555555556,
              "#d8576b"
             ],
             [
              0.6666666666666666,
              "#ed7953"
             ],
             [
              0.7777777777777778,
              "#fb9f3a"
             ],
             [
              0.8888888888888888,
              "#fdca26"
             ],
             [
              1,
              "#f0f921"
             ]
            ],
            "type": "heatmap"
           }
          ],
          "heatmapgl": [
           {
            "colorbar": {
             "outlinewidth": 0,
             "ticks": ""
            },
            "colorscale": [
             [
              0,
              "#0d0887"
             ],
             [
              0.1111111111111111,
              "#46039f"
             ],
             [
              0.2222222222222222,
              "#7201a8"
             ],
             [
              0.3333333333333333,
              "#9c179e"
             ],
             [
              0.4444444444444444,
              "#bd3786"
             ],
             [
              0.5555555555555556,
              "#d8576b"
             ],
             [
              0.6666666666666666,
              "#ed7953"
             ],
             [
              0.7777777777777778,
              "#fb9f3a"
             ],
             [
              0.8888888888888888,
              "#fdca26"
             ],
             [
              1,
              "#f0f921"
             ]
            ],
            "type": "heatmapgl"
           }
          ],
          "histogram": [
           {
            "marker": {
             "colorbar": {
              "outlinewidth": 0,
              "ticks": ""
             }
            },
            "type": "histogram"
           }
          ],
          "histogram2d": [
           {
            "colorbar": {
             "outlinewidth": 0,
             "ticks": ""
            },
            "colorscale": [
             [
              0,
              "#0d0887"
             ],
             [
              0.1111111111111111,
              "#46039f"
             ],
             [
              0.2222222222222222,
              "#7201a8"
             ],
             [
              0.3333333333333333,
              "#9c179e"
             ],
             [
              0.4444444444444444,
              "#bd3786"
             ],
             [
              0.5555555555555556,
              "#d8576b"
             ],
             [
              0.6666666666666666,
              "#ed7953"
             ],
             [
              0.7777777777777778,
              "#fb9f3a"
             ],
             [
              0.8888888888888888,
              "#fdca26"
             ],
             [
              1,
              "#f0f921"
             ]
            ],
            "type": "histogram2d"
           }
          ],
          "histogram2dcontour": [
           {
            "colorbar": {
             "outlinewidth": 0,
             "ticks": ""
            },
            "colorscale": [
             [
              0,
              "#0d0887"
             ],
             [
              0.1111111111111111,
              "#46039f"
             ],
             [
              0.2222222222222222,
              "#7201a8"
             ],
             [
              0.3333333333333333,
              "#9c179e"
             ],
             [
              0.4444444444444444,
              "#bd3786"
             ],
             [
              0.5555555555555556,
              "#d8576b"
             ],
             [
              0.6666666666666666,
              "#ed7953"
             ],
             [
              0.7777777777777778,
              "#fb9f3a"
             ],
             [
              0.8888888888888888,
              "#fdca26"
             ],
             [
              1,
              "#f0f921"
             ]
            ],
            "type": "histogram2dcontour"
           }
          ],
          "mesh3d": [
           {
            "colorbar": {
             "outlinewidth": 0,
             "ticks": ""
            },
            "type": "mesh3d"
           }
          ],
          "parcoords": [
           {
            "line": {
             "colorbar": {
              "outlinewidth": 0,
              "ticks": ""
             }
            },
            "type": "parcoords"
           }
          ],
          "pie": [
           {
            "automargin": true,
            "type": "pie"
           }
          ],
          "scatter": [
           {
            "marker": {
             "colorbar": {
              "outlinewidth": 0,
              "ticks": ""
             }
            },
            "type": "scatter"
           }
          ],
          "scatter3d": [
           {
            "line": {
             "colorbar": {
              "outlinewidth": 0,
              "ticks": ""
             }
            },
            "marker": {
             "colorbar": {
              "outlinewidth": 0,
              "ticks": ""
             }
            },
            "type": "scatter3d"
           }
          ],
          "scattercarpet": [
           {
            "marker": {
             "colorbar": {
              "outlinewidth": 0,
              "ticks": ""
             }
            },
            "type": "scattercarpet"
           }
          ],
          "scattergeo": [
           {
            "marker": {
             "colorbar": {
              "outlinewidth": 0,
              "ticks": ""
             }
            },
            "type": "scattergeo"
           }
          ],
          "scattergl": [
           {
            "marker": {
             "colorbar": {
              "outlinewidth": 0,
              "ticks": ""
             }
            },
            "type": "scattergl"
           }
          ],
          "scattermapbox": [
           {
            "marker": {
             "colorbar": {
              "outlinewidth": 0,
              "ticks": ""
             }
            },
            "type": "scattermapbox"
           }
          ],
          "scatterpolar": [
           {
            "marker": {
             "colorbar": {
              "outlinewidth": 0,
              "ticks": ""
             }
            },
            "type": "scatterpolar"
           }
          ],
          "scatterpolargl": [
           {
            "marker": {
             "colorbar": {
              "outlinewidth": 0,
              "ticks": ""
             }
            },
            "type": "scatterpolargl"
           }
          ],
          "scatterternary": [
           {
            "marker": {
             "colorbar": {
              "outlinewidth": 0,
              "ticks": ""
             }
            },
            "type": "scatterternary"
           }
          ],
          "surface": [
           {
            "colorbar": {
             "outlinewidth": 0,
             "ticks": ""
            },
            "colorscale": [
             [
              0,
              "#0d0887"
             ],
             [
              0.1111111111111111,
              "#46039f"
             ],
             [
              0.2222222222222222,
              "#7201a8"
             ],
             [
              0.3333333333333333,
              "#9c179e"
             ],
             [
              0.4444444444444444,
              "#bd3786"
             ],
             [
              0.5555555555555556,
              "#d8576b"
             ],
             [
              0.6666666666666666,
              "#ed7953"
             ],
             [
              0.7777777777777778,
              "#fb9f3a"
             ],
             [
              0.8888888888888888,
              "#fdca26"
             ],
             [
              1,
              "#f0f921"
             ]
            ],
            "type": "surface"
           }
          ],
          "table": [
           {
            "cells": {
             "fill": {
              "color": "#EBF0F8"
             },
             "line": {
              "color": "white"
             }
            },
            "header": {
             "fill": {
              "color": "#C8D4E3"
             },
             "line": {
              "color": "white"
             }
            },
            "type": "table"
           }
          ]
         },
         "layout": {
          "annotationdefaults": {
           "arrowcolor": "#2a3f5f",
           "arrowhead": 0,
           "arrowwidth": 1
          },
          "coloraxis": {
           "colorbar": {
            "outlinewidth": 0,
            "ticks": ""
           }
          },
          "colorscale": {
           "diverging": [
            [
             0,
             "#8e0152"
            ],
            [
             0.1,
             "#c51b7d"
            ],
            [
             0.2,
             "#de77ae"
            ],
            [
             0.3,
             "#f1b6da"
            ],
            [
             0.4,
             "#fde0ef"
            ],
            [
             0.5,
             "#f7f7f7"
            ],
            [
             0.6,
             "#e6f5d0"
            ],
            [
             0.7,
             "#b8e186"
            ],
            [
             0.8,
             "#7fbc41"
            ],
            [
             0.9,
             "#4d9221"
            ],
            [
             1,
             "#276419"
            ]
           ],
           "sequential": [
            [
             0,
             "#0d0887"
            ],
            [
             0.1111111111111111,
             "#46039f"
            ],
            [
             0.2222222222222222,
             "#7201a8"
            ],
            [
             0.3333333333333333,
             "#9c179e"
            ],
            [
             0.4444444444444444,
             "#bd3786"
            ],
            [
             0.5555555555555556,
             "#d8576b"
            ],
            [
             0.6666666666666666,
             "#ed7953"
            ],
            [
             0.7777777777777778,
             "#fb9f3a"
            ],
            [
             0.8888888888888888,
             "#fdca26"
            ],
            [
             1,
             "#f0f921"
            ]
           ],
           "sequentialminus": [
            [
             0,
             "#0d0887"
            ],
            [
             0.1111111111111111,
             "#46039f"
            ],
            [
             0.2222222222222222,
             "#7201a8"
            ],
            [
             0.3333333333333333,
             "#9c179e"
            ],
            [
             0.4444444444444444,
             "#bd3786"
            ],
            [
             0.5555555555555556,
             "#d8576b"
            ],
            [
             0.6666666666666666,
             "#ed7953"
            ],
            [
             0.7777777777777778,
             "#fb9f3a"
            ],
            [
             0.8888888888888888,
             "#fdca26"
            ],
            [
             1,
             "#f0f921"
            ]
           ]
          },
          "colorway": [
           "#636efa",
           "#EF553B",
           "#00cc96",
           "#ab63fa",
           "#FFA15A",
           "#19d3f3",
           "#FF6692",
           "#B6E880",
           "#FF97FF",
           "#FECB52"
          ],
          "font": {
           "color": "#2a3f5f"
          },
          "geo": {
           "bgcolor": "white",
           "lakecolor": "white",
           "landcolor": "#E5ECF6",
           "showlakes": true,
           "showland": true,
           "subunitcolor": "white"
          },
          "hoverlabel": {
           "align": "left"
          },
          "hovermode": "closest",
          "mapbox": {
           "style": "light"
          },
          "paper_bgcolor": "white",
          "plot_bgcolor": "#E5ECF6",
          "polar": {
           "angularaxis": {
            "gridcolor": "white",
            "linecolor": "white",
            "ticks": ""
           },
           "bgcolor": "#E5ECF6",
           "radialaxis": {
            "gridcolor": "white",
            "linecolor": "white",
            "ticks": ""
           }
          },
          "scene": {
           "xaxis": {
            "backgroundcolor": "#E5ECF6",
            "gridcolor": "white",
            "gridwidth": 2,
            "linecolor": "white",
            "showbackground": true,
            "ticks": "",
            "zerolinecolor": "white"
           },
           "yaxis": {
            "backgroundcolor": "#E5ECF6",
            "gridcolor": "white",
            "gridwidth": 2,
            "linecolor": "white",
            "showbackground": true,
            "ticks": "",
            "zerolinecolor": "white"
           },
           "zaxis": {
            "backgroundcolor": "#E5ECF6",
            "gridcolor": "white",
            "gridwidth": 2,
            "linecolor": "white",
            "showbackground": true,
            "ticks": "",
            "zerolinecolor": "white"
           }
          },
          "shapedefaults": {
           "line": {
            "color": "#2a3f5f"
           }
          },
          "ternary": {
           "aaxis": {
            "gridcolor": "white",
            "linecolor": "white",
            "ticks": ""
           },
           "baxis": {
            "gridcolor": "white",
            "linecolor": "white",
            "ticks": ""
           },
           "bgcolor": "#E5ECF6",
           "caxis": {
            "gridcolor": "white",
            "linecolor": "white",
            "ticks": ""
           }
          },
          "title": {
           "x": 0.05
          },
          "xaxis": {
           "automargin": true,
           "gridcolor": "white",
           "linecolor": "white",
           "ticks": "",
           "title": {
            "standoff": 15
           },
           "zerolinecolor": "white",
           "zerolinewidth": 2
          },
          "yaxis": {
           "automargin": true,
           "gridcolor": "white",
           "linecolor": "white",
           "ticks": "",
           "title": {
            "standoff": 15
           },
           "zerolinecolor": "white",
           "zerolinewidth": 2
          }
         }
        },
        "title": {
         "text": "Vendas por Período"
        },
        "xaxis": {
         "title": {
          "text": "Período"
         }
        },
        "yaxis": {
         "title": {
          "text": "Valores de Vendas"
         }
        }
       }
      },
      "text/html": [
       "<div>\n",
       "        \n",
       "        \n",
       "            <div id=\"32d578f8-1bab-4dd9-b837-17f2fc9b0177\" class=\"plotly-graph-div\" style=\"height:525px; width:100%;\"></div>\n",
       "            <script type=\"text/javascript\">\n",
       "                require([\"plotly\"], function(Plotly) {\n",
       "                    window.PLOTLYENV=window.PLOTLYENV || {};\n",
       "                    \n",
       "                if (document.getElementById(\"32d578f8-1bab-4dd9-b837-17f2fc9b0177\")) {\n",
       "                    Plotly.newPlot(\n",
       "                        '32d578f8-1bab-4dd9-b837-17f2fc9b0177',\n",
       "                        [{\"marker\": {\"color\": \"lightblue\", \"line\": {\"color\": \"#333\", \"width\": 2}}, \"opacity\": 0.7, \"type\": \"bar\", \"x\": [\"2017-02\", \"2017-03\", \"2017-04\", \"2017-05\", \"2017-06\", \"2017-07\", \"2017-08\", \"2017-09\", \"2017-10\", \"2017-11\", \"2017-12\", \"2018-01\", \"2018-02\", \"2018-03\", \"2018-04\"], \"y\": [9.99, 902.86, 17654.189999999995, 25556.230000000025, 34172.86000000008, 47284.74000000011, 39898.85000000009, 45462.20000000007, 40910.4000000001, 55373.920000000086, 43806.57000000011, 46755.56000000009, 42560.54000000012, 33435.4800000001, 3754.33]}],\n",
       "                        {\"template\": {\"data\": {\"bar\": [{\"error_x\": {\"color\": \"#2a3f5f\"}, \"error_y\": {\"color\": \"#2a3f5f\"}, \"marker\": {\"line\": {\"color\": \"#E5ECF6\", \"width\": 0.5}}, \"type\": \"bar\"}], \"barpolar\": [{\"marker\": {\"line\": {\"color\": \"#E5ECF6\", \"width\": 0.5}}, \"type\": \"barpolar\"}], \"carpet\": [{\"aaxis\": {\"endlinecolor\": \"#2a3f5f\", \"gridcolor\": \"white\", \"linecolor\": \"white\", \"minorgridcolor\": \"white\", \"startlinecolor\": \"#2a3f5f\"}, \"baxis\": {\"endlinecolor\": \"#2a3f5f\", \"gridcolor\": \"white\", \"linecolor\": \"white\", \"minorgridcolor\": \"white\", \"startlinecolor\": \"#2a3f5f\"}, \"type\": \"carpet\"}], \"choropleth\": [{\"colorbar\": {\"outlinewidth\": 0, \"ticks\": \"\"}, \"type\": \"choropleth\"}], \"contour\": [{\"colorbar\": {\"outlinewidth\": 0, \"ticks\": \"\"}, \"colorscale\": [[0.0, \"#0d0887\"], [0.1111111111111111, \"#46039f\"], [0.2222222222222222, \"#7201a8\"], [0.3333333333333333, \"#9c179e\"], [0.4444444444444444, \"#bd3786\"], [0.5555555555555556, \"#d8576b\"], [0.6666666666666666, \"#ed7953\"], [0.7777777777777778, \"#fb9f3a\"], [0.8888888888888888, \"#fdca26\"], [1.0, \"#f0f921\"]], \"type\": \"contour\"}], \"contourcarpet\": [{\"colorbar\": {\"outlinewidth\": 0, \"ticks\": \"\"}, \"type\": \"contourcarpet\"}], \"heatmap\": [{\"colorbar\": {\"outlinewidth\": 0, \"ticks\": \"\"}, \"colorscale\": [[0.0, \"#0d0887\"], [0.1111111111111111, \"#46039f\"], [0.2222222222222222, \"#7201a8\"], [0.3333333333333333, \"#9c179e\"], [0.4444444444444444, \"#bd3786\"], [0.5555555555555556, \"#d8576b\"], [0.6666666666666666, \"#ed7953\"], [0.7777777777777778, \"#fb9f3a\"], [0.8888888888888888, \"#fdca26\"], [1.0, \"#f0f921\"]], \"type\": \"heatmap\"}], \"heatmapgl\": [{\"colorbar\": {\"outlinewidth\": 0, \"ticks\": \"\"}, \"colorscale\": [[0.0, \"#0d0887\"], [0.1111111111111111, \"#46039f\"], [0.2222222222222222, \"#7201a8\"], [0.3333333333333333, \"#9c179e\"], [0.4444444444444444, \"#bd3786\"], [0.5555555555555556, \"#d8576b\"], [0.6666666666666666, \"#ed7953\"], [0.7777777777777778, \"#fb9f3a\"], [0.8888888888888888, \"#fdca26\"], [1.0, \"#f0f921\"]], \"type\": \"heatmapgl\"}], \"histogram\": [{\"marker\": {\"colorbar\": {\"outlinewidth\": 0, \"ticks\": \"\"}}, \"type\": \"histogram\"}], \"histogram2d\": [{\"colorbar\": {\"outlinewidth\": 0, \"ticks\": \"\"}, \"colorscale\": [[0.0, \"#0d0887\"], [0.1111111111111111, \"#46039f\"], [0.2222222222222222, \"#7201a8\"], [0.3333333333333333, \"#9c179e\"], [0.4444444444444444, \"#bd3786\"], [0.5555555555555556, \"#d8576b\"], [0.6666666666666666, \"#ed7953\"], [0.7777777777777778, \"#fb9f3a\"], [0.8888888888888888, \"#fdca26\"], [1.0, \"#f0f921\"]], \"type\": \"histogram2d\"}], \"histogram2dcontour\": [{\"colorbar\": {\"outlinewidth\": 0, \"ticks\": \"\"}, \"colorscale\": [[0.0, \"#0d0887\"], [0.1111111111111111, \"#46039f\"], [0.2222222222222222, \"#7201a8\"], [0.3333333333333333, \"#9c179e\"], [0.4444444444444444, \"#bd3786\"], [0.5555555555555556, \"#d8576b\"], [0.6666666666666666, \"#ed7953\"], [0.7777777777777778, \"#fb9f3a\"], [0.8888888888888888, \"#fdca26\"], [1.0, \"#f0f921\"]], \"type\": \"histogram2dcontour\"}], \"mesh3d\": [{\"colorbar\": {\"outlinewidth\": 0, \"ticks\": \"\"}, \"type\": \"mesh3d\"}], \"parcoords\": [{\"line\": {\"colorbar\": {\"outlinewidth\": 0, \"ticks\": \"\"}}, \"type\": \"parcoords\"}], \"pie\": [{\"automargin\": true, \"type\": \"pie\"}], \"scatter\": [{\"marker\": {\"colorbar\": {\"outlinewidth\": 0, \"ticks\": \"\"}}, \"type\": \"scatter\"}], \"scatter3d\": [{\"line\": {\"colorbar\": {\"outlinewidth\": 0, \"ticks\": \"\"}}, \"marker\": {\"colorbar\": {\"outlinewidth\": 0, \"ticks\": \"\"}}, \"type\": \"scatter3d\"}], \"scattercarpet\": [{\"marker\": {\"colorbar\": {\"outlinewidth\": 0, \"ticks\": \"\"}}, \"type\": \"scattercarpet\"}], \"scattergeo\": [{\"marker\": {\"colorbar\": {\"outlinewidth\": 0, \"ticks\": \"\"}}, \"type\": \"scattergeo\"}], \"scattergl\": [{\"marker\": {\"colorbar\": {\"outlinewidth\": 0, \"ticks\": \"\"}}, \"type\": \"scattergl\"}], \"scattermapbox\": [{\"marker\": {\"colorbar\": {\"outlinewidth\": 0, \"ticks\": \"\"}}, \"type\": \"scattermapbox\"}], \"scatterpolar\": [{\"marker\": {\"colorbar\": {\"outlinewidth\": 0, \"ticks\": \"\"}}, \"type\": \"scatterpolar\"}], \"scatterpolargl\": [{\"marker\": {\"colorbar\": {\"outlinewidth\": 0, \"ticks\": \"\"}}, \"type\": \"scatterpolargl\"}], \"scatterternary\": [{\"marker\": {\"colorbar\": {\"outlinewidth\": 0, \"ticks\": \"\"}}, \"type\": \"scatterternary\"}], \"surface\": [{\"colorbar\": {\"outlinewidth\": 0, \"ticks\": \"\"}, \"colorscale\": [[0.0, \"#0d0887\"], [0.1111111111111111, \"#46039f\"], [0.2222222222222222, \"#7201a8\"], [0.3333333333333333, \"#9c179e\"], [0.4444444444444444, \"#bd3786\"], [0.5555555555555556, \"#d8576b\"], [0.6666666666666666, \"#ed7953\"], [0.7777777777777778, \"#fb9f3a\"], [0.8888888888888888, \"#fdca26\"], [1.0, \"#f0f921\"]], \"type\": \"surface\"}], \"table\": [{\"cells\": {\"fill\": {\"color\": \"#EBF0F8\"}, \"line\": {\"color\": \"white\"}}, \"header\": {\"fill\": {\"color\": \"#C8D4E3\"}, \"line\": {\"color\": \"white\"}}, \"type\": \"table\"}]}, \"layout\": {\"annotationdefaults\": {\"arrowcolor\": \"#2a3f5f\", \"arrowhead\": 0, \"arrowwidth\": 1}, \"coloraxis\": {\"colorbar\": {\"outlinewidth\": 0, \"ticks\": \"\"}}, \"colorscale\": {\"diverging\": [[0, \"#8e0152\"], [0.1, \"#c51b7d\"], [0.2, \"#de77ae\"], [0.3, \"#f1b6da\"], [0.4, \"#fde0ef\"], [0.5, \"#f7f7f7\"], [0.6, \"#e6f5d0\"], [0.7, \"#b8e186\"], [0.8, \"#7fbc41\"], [0.9, \"#4d9221\"], [1, \"#276419\"]], \"sequential\": [[0.0, \"#0d0887\"], [0.1111111111111111, \"#46039f\"], [0.2222222222222222, \"#7201a8\"], [0.3333333333333333, \"#9c179e\"], [0.4444444444444444, \"#bd3786\"], [0.5555555555555556, \"#d8576b\"], [0.6666666666666666, \"#ed7953\"], [0.7777777777777778, \"#fb9f3a\"], [0.8888888888888888, \"#fdca26\"], [1.0, \"#f0f921\"]], \"sequentialminus\": [[0.0, \"#0d0887\"], [0.1111111111111111, \"#46039f\"], [0.2222222222222222, \"#7201a8\"], [0.3333333333333333, \"#9c179e\"], [0.4444444444444444, \"#bd3786\"], [0.5555555555555556, \"#d8576b\"], [0.6666666666666666, \"#ed7953\"], [0.7777777777777778, \"#fb9f3a\"], [0.8888888888888888, \"#fdca26\"], [1.0, \"#f0f921\"]]}, \"colorway\": [\"#636efa\", \"#EF553B\", \"#00cc96\", \"#ab63fa\", \"#FFA15A\", \"#19d3f3\", \"#FF6692\", \"#B6E880\", \"#FF97FF\", \"#FECB52\"], \"font\": {\"color\": \"#2a3f5f\"}, \"geo\": {\"bgcolor\": \"white\", \"lakecolor\": \"white\", \"landcolor\": \"#E5ECF6\", \"showlakes\": true, \"showland\": true, \"subunitcolor\": \"white\"}, \"hoverlabel\": {\"align\": \"left\"}, \"hovermode\": \"closest\", \"mapbox\": {\"style\": \"light\"}, \"paper_bgcolor\": \"white\", \"plot_bgcolor\": \"#E5ECF6\", \"polar\": {\"angularaxis\": {\"gridcolor\": \"white\", \"linecolor\": \"white\", \"ticks\": \"\"}, \"bgcolor\": \"#E5ECF6\", \"radialaxis\": {\"gridcolor\": \"white\", \"linecolor\": \"white\", \"ticks\": \"\"}}, \"scene\": {\"xaxis\": {\"backgroundcolor\": \"#E5ECF6\", \"gridcolor\": \"white\", \"gridwidth\": 2, \"linecolor\": \"white\", \"showbackground\": true, \"ticks\": \"\", \"zerolinecolor\": \"white\"}, \"yaxis\": {\"backgroundcolor\": \"#E5ECF6\", \"gridcolor\": \"white\", \"gridwidth\": 2, \"linecolor\": \"white\", \"showbackground\": true, \"ticks\": \"\", \"zerolinecolor\": \"white\"}, \"zaxis\": {\"backgroundcolor\": \"#E5ECF6\", \"gridcolor\": \"white\", \"gridwidth\": 2, \"linecolor\": \"white\", \"showbackground\": true, \"ticks\": \"\", \"zerolinecolor\": \"white\"}}, \"shapedefaults\": {\"line\": {\"color\": \"#2a3f5f\"}}, \"ternary\": {\"aaxis\": {\"gridcolor\": \"white\", \"linecolor\": \"white\", \"ticks\": \"\"}, \"baxis\": {\"gridcolor\": \"white\", \"linecolor\": \"white\", \"ticks\": \"\"}, \"bgcolor\": \"#E5ECF6\", \"caxis\": {\"gridcolor\": \"white\", \"linecolor\": \"white\", \"ticks\": \"\"}}, \"title\": {\"x\": 0.05}, \"xaxis\": {\"automargin\": true, \"gridcolor\": \"white\", \"linecolor\": \"white\", \"ticks\": \"\", \"title\": {\"standoff\": 15}, \"zerolinecolor\": \"white\", \"zerolinewidth\": 2}, \"yaxis\": {\"automargin\": true, \"gridcolor\": \"white\", \"linecolor\": \"white\", \"ticks\": \"\", \"title\": {\"standoff\": 15}, \"zerolinecolor\": \"white\", \"zerolinewidth\": 2}}}, \"title\": {\"text\": \"Vendas por Per\\u00edodo\"}, \"xaxis\": {\"title\": {\"text\": \"Per\\u00edodo\"}}, \"yaxis\": {\"title\": {\"text\": \"Valores de Vendas\"}}},\n",
       "                        {\"responsive\": true}\n",
       "                    ).then(function(){\n",
       "                            \n",
       "var gd = document.getElementById('32d578f8-1bab-4dd9-b837-17f2fc9b0177');\n",
       "var x = new MutationObserver(function (mutations, observer) {{\n",
       "        var display = window.getComputedStyle(gd).display;\n",
       "        if (!display || display === 'none') {{\n",
       "            console.log([gd, 'removed!']);\n",
       "            Plotly.purge(gd);\n",
       "            observer.disconnect();\n",
       "        }}\n",
       "}});\n",
       "\n",
       "// Listen for the removal of the full notebook cells\n",
       "var notebookContainer = gd.closest('#notebook-container');\n",
       "if (notebookContainer) {{\n",
       "    x.observe(notebookContainer, {childList: true});\n",
       "}}\n",
       "\n",
       "// Listen for the clearing of the current output cell\n",
       "var outputEl = gd.closest('.output');\n",
       "if (outputEl) {{\n",
       "    x.observe(outputEl, {childList: true});\n",
       "}}\n",
       "\n",
       "                        })\n",
       "                };\n",
       "                });\n",
       "            </script>\n",
       "        </div>"
      ]
     },
     "metadata": {},
     "output_type": "display_data"
    }
   ],
   "source": [
    "import plotly.offline as py\n",
    "import plotly.graph_objs as go\n",
    "\n",
    "data = [go.Bar(x=vendas_por_mes.index,\n",
    "              y=vendas_por_mes.values,\n",
    "              marker={'color':'lightblue',\n",
    "                      'line':{'color': '#333',\n",
    "                              'width': 2}\n",
    "                     },\n",
    "              opacity=0.7)]\n",
    "\n",
    "configuracoes_layout = go.Layout(title=\"Vendas por Período\",\n",
    "                                 xaxis={'title': 'Período'},\n",
    "                                 yaxis={'title': 'Valores de Vendas'})\n",
    "\n",
    "fig = go.Figure(data=data, layout=configuracoes_layout)\n",
    "\n",
    "py.iplot(fig)"
   ]
  },
  {
   "cell_type": "markdown",
   "metadata": {},
   "source": [
    "**Destacando uma Barra**"
   ]
  },
  {
   "cell_type": "code",
   "execution_count": 83,
   "metadata": {},
   "outputs": [],
   "source": [
    "cores = []"
   ]
  },
  {
   "cell_type": "code",
   "execution_count": 79,
   "metadata": {},
   "outputs": [
    {
     "data": {
      "text/plain": [
       "Index(['2017-02', '2017-03', '2017-04', '2017-05', '2017-06', '2017-07',\n",
       "       '2017-08', '2017-09', '2017-10', '2017-11', '2017-12', '2018-01',\n",
       "       '2018-02', '2018-03', '2018-04'],\n",
       "      dtype='object', name='order_purchase_month')"
      ]
     },
     "execution_count": 79,
     "metadata": {},
     "output_type": "execute_result"
    }
   ],
   "source": [
    "vendas_por_mes.index"
   ]
  },
  {
   "cell_type": "code",
   "execution_count": 80,
   "metadata": {},
   "outputs": [
    {
     "data": {
      "text/plain": [
       "array([9.990000e+00, 9.028600e+02, 1.765419e+04, 2.555623e+04,\n",
       "       3.417286e+04, 4.728474e+04, 3.989885e+04, 4.546220e+04,\n",
       "       4.091040e+04, 5.537392e+04, 4.380657e+04, 4.675556e+04,\n",
       "       4.256054e+04, 3.343548e+04, 3.754330e+03])"
      ]
     },
     "execution_count": 80,
     "metadata": {},
     "output_type": "execute_result"
    }
   ],
   "source": [
    "vendas_por_mes.values"
   ]
  },
  {
   "cell_type": "markdown",
   "metadata": {},
   "source": [
    "**Variável Média**"
   ]
  },
  {
   "cell_type": "code",
   "execution_count": 81,
   "metadata": {},
   "outputs": [],
   "source": [
    "media = vendas_por_mes.values.mean()"
   ]
  },
  {
   "cell_type": "code",
   "execution_count": 82,
   "metadata": {},
   "outputs": [
    {
     "data": {
      "text/plain": [
       "31835.914666666733"
      ]
     },
     "execution_count": 82,
     "metadata": {},
     "output_type": "execute_result"
    }
   ],
   "source": [
    "media"
   ]
  },
  {
   "cell_type": "markdown",
   "metadata": {},
   "source": [
    "**Se o valor da barra for acima da média recebe a cor Azul se não recebe a cor vermelha**"
   ]
  },
  {
   "cell_type": "code",
   "execution_count": 88,
   "metadata": {},
   "outputs": [],
   "source": [
    "cores = ['lightblue' if x > media  else 'red' for x in vendas_por_mes.values ]"
   ]
  },
  {
   "cell_type": "markdown",
   "metadata": {},
   "source": [
    "**Visualizando a lista de cores**"
   ]
  },
  {
   "cell_type": "code",
   "execution_count": 87,
   "metadata": {},
   "outputs": [
    {
     "data": {
      "text/plain": [
       "['red',\n",
       " 'red',\n",
       " 'red',\n",
       " 'red',\n",
       " 'lightblue',\n",
       " 'lightblue',\n",
       " 'lightblue',\n",
       " 'lightblue',\n",
       " 'lightblue',\n",
       " 'lightblue',\n",
       " 'lightblue',\n",
       " 'lightblue',\n",
       " 'lightblue',\n",
       " 'lightblue',\n",
       " 'red']"
      ]
     },
     "execution_count": 87,
     "metadata": {},
     "output_type": "execute_result"
    }
   ],
   "source": [
    "cores"
   ]
  },
  {
   "cell_type": "markdown",
   "metadata": {},
   "source": [
    "**Plotando o Gráfico**"
   ]
  },
  {
   "cell_type": "code",
   "execution_count": 94,
   "metadata": {},
   "outputs": [
    {
     "data": {
      "application/vnd.plotly.v1+json": {
       "config": {
        "linkText": "Export to plot.ly",
        "plotlyServerURL": "https://plot.ly",
        "showLink": false
       },
       "data": [
        {
         "marker": {
          "color": [
           "red",
           "red",
           "red",
           "red",
           "lightblue",
           "lightblue",
           "lightblue",
           "lightblue",
           "lightblue",
           "lightblue",
           "lightblue",
           "lightblue",
           "lightblue",
           "lightblue",
           "red"
          ],
          "line": {
           "color": "#333",
           "width": 2
          }
         },
         "opacity": 0.7,
         "type": "bar",
         "x": [
          "2017-02",
          "2017-03",
          "2017-04",
          "2017-05",
          "2017-06",
          "2017-07",
          "2017-08",
          "2017-09",
          "2017-10",
          "2017-11",
          "2017-12",
          "2018-01",
          "2018-02",
          "2018-03",
          "2018-04"
         ],
         "y": [
          9.99,
          902.86,
          17654.189999999995,
          25556.230000000025,
          34172.86000000008,
          47284.74000000011,
          39898.85000000009,
          45462.20000000007,
          40910.4000000001,
          55373.920000000086,
          43806.57000000011,
          46755.56000000009,
          42560.54000000012,
          33435.4800000001,
          3754.33
         ]
        }
       ],
       "layout": {
        "template": {
         "data": {
          "bar": [
           {
            "error_x": {
             "color": "#2a3f5f"
            },
            "error_y": {
             "color": "#2a3f5f"
            },
            "marker": {
             "line": {
              "color": "#E5ECF6",
              "width": 0.5
             }
            },
            "type": "bar"
           }
          ],
          "barpolar": [
           {
            "marker": {
             "line": {
              "color": "#E5ECF6",
              "width": 0.5
             }
            },
            "type": "barpolar"
           }
          ],
          "carpet": [
           {
            "aaxis": {
             "endlinecolor": "#2a3f5f",
             "gridcolor": "white",
             "linecolor": "white",
             "minorgridcolor": "white",
             "startlinecolor": "#2a3f5f"
            },
            "baxis": {
             "endlinecolor": "#2a3f5f",
             "gridcolor": "white",
             "linecolor": "white",
             "minorgridcolor": "white",
             "startlinecolor": "#2a3f5f"
            },
            "type": "carpet"
           }
          ],
          "choropleth": [
           {
            "colorbar": {
             "outlinewidth": 0,
             "ticks": ""
            },
            "type": "choropleth"
           }
          ],
          "contour": [
           {
            "colorbar": {
             "outlinewidth": 0,
             "ticks": ""
            },
            "colorscale": [
             [
              0,
              "#0d0887"
             ],
             [
              0.1111111111111111,
              "#46039f"
             ],
             [
              0.2222222222222222,
              "#7201a8"
             ],
             [
              0.3333333333333333,
              "#9c179e"
             ],
             [
              0.4444444444444444,
              "#bd3786"
             ],
             [
              0.5555555555555556,
              "#d8576b"
             ],
             [
              0.6666666666666666,
              "#ed7953"
             ],
             [
              0.7777777777777778,
              "#fb9f3a"
             ],
             [
              0.8888888888888888,
              "#fdca26"
             ],
             [
              1,
              "#f0f921"
             ]
            ],
            "type": "contour"
           }
          ],
          "contourcarpet": [
           {
            "colorbar": {
             "outlinewidth": 0,
             "ticks": ""
            },
            "type": "contourcarpet"
           }
          ],
          "heatmap": [
           {
            "colorbar": {
             "outlinewidth": 0,
             "ticks": ""
            },
            "colorscale": [
             [
              0,
              "#0d0887"
             ],
             [
              0.1111111111111111,
              "#46039f"
             ],
             [
              0.2222222222222222,
              "#7201a8"
             ],
             [
              0.3333333333333333,
              "#9c179e"
             ],
             [
              0.4444444444444444,
              "#bd3786"
             ],
             [
              0.5555555555555556,
              "#d8576b"
             ],
             [
              0.6666666666666666,
              "#ed7953"
             ],
             [
              0.7777777777777778,
              "#fb9f3a"
             ],
             [
              0.8888888888888888,
              "#fdca26"
             ],
             [
              1,
              "#f0f921"
             ]
            ],
            "type": "heatmap"
           }
          ],
          "heatmapgl": [
           {
            "colorbar": {
             "outlinewidth": 0,
             "ticks": ""
            },
            "colorscale": [
             [
              0,
              "#0d0887"
             ],
             [
              0.1111111111111111,
              "#46039f"
             ],
             [
              0.2222222222222222,
              "#7201a8"
             ],
             [
              0.3333333333333333,
              "#9c179e"
             ],
             [
              0.4444444444444444,
              "#bd3786"
             ],
             [
              0.5555555555555556,
              "#d8576b"
             ],
             [
              0.6666666666666666,
              "#ed7953"
             ],
             [
              0.7777777777777778,
              "#fb9f3a"
             ],
             [
              0.8888888888888888,
              "#fdca26"
             ],
             [
              1,
              "#f0f921"
             ]
            ],
            "type": "heatmapgl"
           }
          ],
          "histogram": [
           {
            "marker": {
             "colorbar": {
              "outlinewidth": 0,
              "ticks": ""
             }
            },
            "type": "histogram"
           }
          ],
          "histogram2d": [
           {
            "colorbar": {
             "outlinewidth": 0,
             "ticks": ""
            },
            "colorscale": [
             [
              0,
              "#0d0887"
             ],
             [
              0.1111111111111111,
              "#46039f"
             ],
             [
              0.2222222222222222,
              "#7201a8"
             ],
             [
              0.3333333333333333,
              "#9c179e"
             ],
             [
              0.4444444444444444,
              "#bd3786"
             ],
             [
              0.5555555555555556,
              "#d8576b"
             ],
             [
              0.6666666666666666,
              "#ed7953"
             ],
             [
              0.7777777777777778,
              "#fb9f3a"
             ],
             [
              0.8888888888888888,
              "#fdca26"
             ],
             [
              1,
              "#f0f921"
             ]
            ],
            "type": "histogram2d"
           }
          ],
          "histogram2dcontour": [
           {
            "colorbar": {
             "outlinewidth": 0,
             "ticks": ""
            },
            "colorscale": [
             [
              0,
              "#0d0887"
             ],
             [
              0.1111111111111111,
              "#46039f"
             ],
             [
              0.2222222222222222,
              "#7201a8"
             ],
             [
              0.3333333333333333,
              "#9c179e"
             ],
             [
              0.4444444444444444,
              "#bd3786"
             ],
             [
              0.5555555555555556,
              "#d8576b"
             ],
             [
              0.6666666666666666,
              "#ed7953"
             ],
             [
              0.7777777777777778,
              "#fb9f3a"
             ],
             [
              0.8888888888888888,
              "#fdca26"
             ],
             [
              1,
              "#f0f921"
             ]
            ],
            "type": "histogram2dcontour"
           }
          ],
          "mesh3d": [
           {
            "colorbar": {
             "outlinewidth": 0,
             "ticks": ""
            },
            "type": "mesh3d"
           }
          ],
          "parcoords": [
           {
            "line": {
             "colorbar": {
              "outlinewidth": 0,
              "ticks": ""
             }
            },
            "type": "parcoords"
           }
          ],
          "pie": [
           {
            "automargin": true,
            "type": "pie"
           }
          ],
          "scatter": [
           {
            "marker": {
             "colorbar": {
              "outlinewidth": 0,
              "ticks": ""
             }
            },
            "type": "scatter"
           }
          ],
          "scatter3d": [
           {
            "line": {
             "colorbar": {
              "outlinewidth": 0,
              "ticks": ""
             }
            },
            "marker": {
             "colorbar": {
              "outlinewidth": 0,
              "ticks": ""
             }
            },
            "type": "scatter3d"
           }
          ],
          "scattercarpet": [
           {
            "marker": {
             "colorbar": {
              "outlinewidth": 0,
              "ticks": ""
             }
            },
            "type": "scattercarpet"
           }
          ],
          "scattergeo": [
           {
            "marker": {
             "colorbar": {
              "outlinewidth": 0,
              "ticks": ""
             }
            },
            "type": "scattergeo"
           }
          ],
          "scattergl": [
           {
            "marker": {
             "colorbar": {
              "outlinewidth": 0,
              "ticks": ""
             }
            },
            "type": "scattergl"
           }
          ],
          "scattermapbox": [
           {
            "marker": {
             "colorbar": {
              "outlinewidth": 0,
              "ticks": ""
             }
            },
            "type": "scattermapbox"
           }
          ],
          "scatterpolar": [
           {
            "marker": {
             "colorbar": {
              "outlinewidth": 0,
              "ticks": ""
             }
            },
            "type": "scatterpolar"
           }
          ],
          "scatterpolargl": [
           {
            "marker": {
             "colorbar": {
              "outlinewidth": 0,
              "ticks": ""
             }
            },
            "type": "scatterpolargl"
           }
          ],
          "scatterternary": [
           {
            "marker": {
             "colorbar": {
              "outlinewidth": 0,
              "ticks": ""
             }
            },
            "type": "scatterternary"
           }
          ],
          "surface": [
           {
            "colorbar": {
             "outlinewidth": 0,
             "ticks": ""
            },
            "colorscale": [
             [
              0,
              "#0d0887"
             ],
             [
              0.1111111111111111,
              "#46039f"
             ],
             [
              0.2222222222222222,
              "#7201a8"
             ],
             [
              0.3333333333333333,
              "#9c179e"
             ],
             [
              0.4444444444444444,
              "#bd3786"
             ],
             [
              0.5555555555555556,
              "#d8576b"
             ],
             [
              0.6666666666666666,
              "#ed7953"
             ],
             [
              0.7777777777777778,
              "#fb9f3a"
             ],
             [
              0.8888888888888888,
              "#fdca26"
             ],
             [
              1,
              "#f0f921"
             ]
            ],
            "type": "surface"
           }
          ],
          "table": [
           {
            "cells": {
             "fill": {
              "color": "#EBF0F8"
             },
             "line": {
              "color": "white"
             }
            },
            "header": {
             "fill": {
              "color": "#C8D4E3"
             },
             "line": {
              "color": "white"
             }
            },
            "type": "table"
           }
          ]
         },
         "layout": {
          "annotationdefaults": {
           "arrowcolor": "#2a3f5f",
           "arrowhead": 0,
           "arrowwidth": 1
          },
          "coloraxis": {
           "colorbar": {
            "outlinewidth": 0,
            "ticks": ""
           }
          },
          "colorscale": {
           "diverging": [
            [
             0,
             "#8e0152"
            ],
            [
             0.1,
             "#c51b7d"
            ],
            [
             0.2,
             "#de77ae"
            ],
            [
             0.3,
             "#f1b6da"
            ],
            [
             0.4,
             "#fde0ef"
            ],
            [
             0.5,
             "#f7f7f7"
            ],
            [
             0.6,
             "#e6f5d0"
            ],
            [
             0.7,
             "#b8e186"
            ],
            [
             0.8,
             "#7fbc41"
            ],
            [
             0.9,
             "#4d9221"
            ],
            [
             1,
             "#276419"
            ]
           ],
           "sequential": [
            [
             0,
             "#0d0887"
            ],
            [
             0.1111111111111111,
             "#46039f"
            ],
            [
             0.2222222222222222,
             "#7201a8"
            ],
            [
             0.3333333333333333,
             "#9c179e"
            ],
            [
             0.4444444444444444,
             "#bd3786"
            ],
            [
             0.5555555555555556,
             "#d8576b"
            ],
            [
             0.6666666666666666,
             "#ed7953"
            ],
            [
             0.7777777777777778,
             "#fb9f3a"
            ],
            [
             0.8888888888888888,
             "#fdca26"
            ],
            [
             1,
             "#f0f921"
            ]
           ],
           "sequentialminus": [
            [
             0,
             "#0d0887"
            ],
            [
             0.1111111111111111,
             "#46039f"
            ],
            [
             0.2222222222222222,
             "#7201a8"
            ],
            [
             0.3333333333333333,
             "#9c179e"
            ],
            [
             0.4444444444444444,
             "#bd3786"
            ],
            [
             0.5555555555555556,
             "#d8576b"
            ],
            [
             0.6666666666666666,
             "#ed7953"
            ],
            [
             0.7777777777777778,
             "#fb9f3a"
            ],
            [
             0.8888888888888888,
             "#fdca26"
            ],
            [
             1,
             "#f0f921"
            ]
           ]
          },
          "colorway": [
           "#636efa",
           "#EF553B",
           "#00cc96",
           "#ab63fa",
           "#FFA15A",
           "#19d3f3",
           "#FF6692",
           "#B6E880",
           "#FF97FF",
           "#FECB52"
          ],
          "font": {
           "color": "#2a3f5f"
          },
          "geo": {
           "bgcolor": "white",
           "lakecolor": "white",
           "landcolor": "#E5ECF6",
           "showlakes": true,
           "showland": true,
           "subunitcolor": "white"
          },
          "hoverlabel": {
           "align": "left"
          },
          "hovermode": "closest",
          "mapbox": {
           "style": "light"
          },
          "paper_bgcolor": "white",
          "plot_bgcolor": "#E5ECF6",
          "polar": {
           "angularaxis": {
            "gridcolor": "white",
            "linecolor": "white",
            "ticks": ""
           },
           "bgcolor": "#E5ECF6",
           "radialaxis": {
            "gridcolor": "white",
            "linecolor": "white",
            "ticks": ""
           }
          },
          "scene": {
           "xaxis": {
            "backgroundcolor": "#E5ECF6",
            "gridcolor": "white",
            "gridwidth": 2,
            "linecolor": "white",
            "showbackground": true,
            "ticks": "",
            "zerolinecolor": "white"
           },
           "yaxis": {
            "backgroundcolor": "#E5ECF6",
            "gridcolor": "white",
            "gridwidth": 2,
            "linecolor": "white",
            "showbackground": true,
            "ticks": "",
            "zerolinecolor": "white"
           },
           "zaxis": {
            "backgroundcolor": "#E5ECF6",
            "gridcolor": "white",
            "gridwidth": 2,
            "linecolor": "white",
            "showbackground": true,
            "ticks": "",
            "zerolinecolor": "white"
           }
          },
          "shapedefaults": {
           "line": {
            "color": "#2a3f5f"
           }
          },
          "ternary": {
           "aaxis": {
            "gridcolor": "white",
            "linecolor": "white",
            "ticks": ""
           },
           "baxis": {
            "gridcolor": "white",
            "linecolor": "white",
            "ticks": ""
           },
           "bgcolor": "#E5ECF6",
           "caxis": {
            "gridcolor": "white",
            "linecolor": "white",
            "ticks": ""
           }
          },
          "title": {
           "x": 0.05
          },
          "xaxis": {
           "automargin": true,
           "gridcolor": "white",
           "linecolor": "white",
           "ticks": "",
           "title": {
            "standoff": 15
           },
           "zerolinecolor": "white",
           "zerolinewidth": 2
          },
          "yaxis": {
           "automargin": true,
           "gridcolor": "white",
           "linecolor": "white",
           "ticks": "",
           "title": {
            "standoff": 15
           },
           "zerolinecolor": "white",
           "zerolinewidth": 2
          }
         }
        },
        "title": {
         "text": "Vendas por Período"
        },
        "xaxis": {
         "title": {
          "text": "Período"
         }
        },
        "yaxis": {
         "title": {
          "text": "Valores de Vendas"
         }
        }
       }
      },
      "text/html": [
       "<div>\n",
       "        \n",
       "        \n",
       "            <div id=\"916e1f39-189b-443b-a67f-b5b02b152a21\" class=\"plotly-graph-div\" style=\"height:525px; width:100%;\"></div>\n",
       "            <script type=\"text/javascript\">\n",
       "                require([\"plotly\"], function(Plotly) {\n",
       "                    window.PLOTLYENV=window.PLOTLYENV || {};\n",
       "                    \n",
       "                if (document.getElementById(\"916e1f39-189b-443b-a67f-b5b02b152a21\")) {\n",
       "                    Plotly.newPlot(\n",
       "                        '916e1f39-189b-443b-a67f-b5b02b152a21',\n",
       "                        [{\"marker\": {\"color\": [\"red\", \"red\", \"red\", \"red\", \"lightblue\", \"lightblue\", \"lightblue\", \"lightblue\", \"lightblue\", \"lightblue\", \"lightblue\", \"lightblue\", \"lightblue\", \"lightblue\", \"red\"], \"line\": {\"color\": \"#333\", \"width\": 2}}, \"opacity\": 0.7, \"type\": \"bar\", \"x\": [\"2017-02\", \"2017-03\", \"2017-04\", \"2017-05\", \"2017-06\", \"2017-07\", \"2017-08\", \"2017-09\", \"2017-10\", \"2017-11\", \"2017-12\", \"2018-01\", \"2018-02\", \"2018-03\", \"2018-04\"], \"y\": [9.99, 902.86, 17654.189999999995, 25556.230000000025, 34172.86000000008, 47284.74000000011, 39898.85000000009, 45462.20000000007, 40910.4000000001, 55373.920000000086, 43806.57000000011, 46755.56000000009, 42560.54000000012, 33435.4800000001, 3754.33]}],\n",
       "                        {\"template\": {\"data\": {\"bar\": [{\"error_x\": {\"color\": \"#2a3f5f\"}, \"error_y\": {\"color\": \"#2a3f5f\"}, \"marker\": {\"line\": {\"color\": \"#E5ECF6\", \"width\": 0.5}}, \"type\": \"bar\"}], \"barpolar\": [{\"marker\": {\"line\": {\"color\": \"#E5ECF6\", \"width\": 0.5}}, \"type\": \"barpolar\"}], \"carpet\": [{\"aaxis\": {\"endlinecolor\": \"#2a3f5f\", \"gridcolor\": \"white\", \"linecolor\": \"white\", \"minorgridcolor\": \"white\", \"startlinecolor\": \"#2a3f5f\"}, \"baxis\": {\"endlinecolor\": \"#2a3f5f\", \"gridcolor\": \"white\", \"linecolor\": \"white\", \"minorgridcolor\": \"white\", \"startlinecolor\": \"#2a3f5f\"}, \"type\": \"carpet\"}], \"choropleth\": [{\"colorbar\": {\"outlinewidth\": 0, \"ticks\": \"\"}, \"type\": \"choropleth\"}], \"contour\": [{\"colorbar\": {\"outlinewidth\": 0, \"ticks\": \"\"}, \"colorscale\": [[0.0, \"#0d0887\"], [0.1111111111111111, \"#46039f\"], [0.2222222222222222, \"#7201a8\"], [0.3333333333333333, \"#9c179e\"], [0.4444444444444444, \"#bd3786\"], [0.5555555555555556, \"#d8576b\"], [0.6666666666666666, \"#ed7953\"], [0.7777777777777778, \"#fb9f3a\"], [0.8888888888888888, \"#fdca26\"], [1.0, \"#f0f921\"]], \"type\": \"contour\"}], \"contourcarpet\": [{\"colorbar\": {\"outlinewidth\": 0, \"ticks\": \"\"}, \"type\": \"contourcarpet\"}], \"heatmap\": [{\"colorbar\": {\"outlinewidth\": 0, \"ticks\": \"\"}, \"colorscale\": [[0.0, \"#0d0887\"], [0.1111111111111111, \"#46039f\"], [0.2222222222222222, \"#7201a8\"], [0.3333333333333333, \"#9c179e\"], [0.4444444444444444, \"#bd3786\"], [0.5555555555555556, \"#d8576b\"], [0.6666666666666666, \"#ed7953\"], [0.7777777777777778, \"#fb9f3a\"], [0.8888888888888888, \"#fdca26\"], [1.0, \"#f0f921\"]], \"type\": \"heatmap\"}], \"heatmapgl\": [{\"colorbar\": {\"outlinewidth\": 0, \"ticks\": \"\"}, \"colorscale\": [[0.0, \"#0d0887\"], [0.1111111111111111, \"#46039f\"], [0.2222222222222222, \"#7201a8\"], [0.3333333333333333, \"#9c179e\"], [0.4444444444444444, \"#bd3786\"], [0.5555555555555556, \"#d8576b\"], [0.6666666666666666, \"#ed7953\"], [0.7777777777777778, \"#fb9f3a\"], [0.8888888888888888, \"#fdca26\"], [1.0, \"#f0f921\"]], \"type\": \"heatmapgl\"}], \"histogram\": [{\"marker\": {\"colorbar\": {\"outlinewidth\": 0, \"ticks\": \"\"}}, \"type\": \"histogram\"}], \"histogram2d\": [{\"colorbar\": {\"outlinewidth\": 0, \"ticks\": \"\"}, \"colorscale\": [[0.0, \"#0d0887\"], [0.1111111111111111, \"#46039f\"], [0.2222222222222222, \"#7201a8\"], [0.3333333333333333, \"#9c179e\"], [0.4444444444444444, \"#bd3786\"], [0.5555555555555556, \"#d8576b\"], [0.6666666666666666, \"#ed7953\"], [0.7777777777777778, \"#fb9f3a\"], [0.8888888888888888, \"#fdca26\"], [1.0, \"#f0f921\"]], \"type\": \"histogram2d\"}], \"histogram2dcontour\": [{\"colorbar\": {\"outlinewidth\": 0, \"ticks\": \"\"}, \"colorscale\": [[0.0, \"#0d0887\"], [0.1111111111111111, \"#46039f\"], [0.2222222222222222, \"#7201a8\"], [0.3333333333333333, \"#9c179e\"], [0.4444444444444444, \"#bd3786\"], [0.5555555555555556, \"#d8576b\"], [0.6666666666666666, \"#ed7953\"], [0.7777777777777778, \"#fb9f3a\"], [0.8888888888888888, \"#fdca26\"], [1.0, \"#f0f921\"]], \"type\": \"histogram2dcontour\"}], \"mesh3d\": [{\"colorbar\": {\"outlinewidth\": 0, \"ticks\": \"\"}, \"type\": \"mesh3d\"}], \"parcoords\": [{\"line\": {\"colorbar\": {\"outlinewidth\": 0, \"ticks\": \"\"}}, \"type\": \"parcoords\"}], \"pie\": [{\"automargin\": true, \"type\": \"pie\"}], \"scatter\": [{\"marker\": {\"colorbar\": {\"outlinewidth\": 0, \"ticks\": \"\"}}, \"type\": \"scatter\"}], \"scatter3d\": [{\"line\": {\"colorbar\": {\"outlinewidth\": 0, \"ticks\": \"\"}}, \"marker\": {\"colorbar\": {\"outlinewidth\": 0, \"ticks\": \"\"}}, \"type\": \"scatter3d\"}], \"scattercarpet\": [{\"marker\": {\"colorbar\": {\"outlinewidth\": 0, \"ticks\": \"\"}}, \"type\": \"scattercarpet\"}], \"scattergeo\": [{\"marker\": {\"colorbar\": {\"outlinewidth\": 0, \"ticks\": \"\"}}, \"type\": \"scattergeo\"}], \"scattergl\": [{\"marker\": {\"colorbar\": {\"outlinewidth\": 0, \"ticks\": \"\"}}, \"type\": \"scattergl\"}], \"scattermapbox\": [{\"marker\": {\"colorbar\": {\"outlinewidth\": 0, \"ticks\": \"\"}}, \"type\": \"scattermapbox\"}], \"scatterpolar\": [{\"marker\": {\"colorbar\": {\"outlinewidth\": 0, \"ticks\": \"\"}}, \"type\": \"scatterpolar\"}], \"scatterpolargl\": [{\"marker\": {\"colorbar\": {\"outlinewidth\": 0, \"ticks\": \"\"}}, \"type\": \"scatterpolargl\"}], \"scatterternary\": [{\"marker\": {\"colorbar\": {\"outlinewidth\": 0, \"ticks\": \"\"}}, \"type\": \"scatterternary\"}], \"surface\": [{\"colorbar\": {\"outlinewidth\": 0, \"ticks\": \"\"}, \"colorscale\": [[0.0, \"#0d0887\"], [0.1111111111111111, \"#46039f\"], [0.2222222222222222, \"#7201a8\"], [0.3333333333333333, \"#9c179e\"], [0.4444444444444444, \"#bd3786\"], [0.5555555555555556, \"#d8576b\"], [0.6666666666666666, \"#ed7953\"], [0.7777777777777778, \"#fb9f3a\"], [0.8888888888888888, \"#fdca26\"], [1.0, \"#f0f921\"]], \"type\": \"surface\"}], \"table\": [{\"cells\": {\"fill\": {\"color\": \"#EBF0F8\"}, \"line\": {\"color\": \"white\"}}, \"header\": {\"fill\": {\"color\": \"#C8D4E3\"}, \"line\": {\"color\": \"white\"}}, \"type\": \"table\"}]}, \"layout\": {\"annotationdefaults\": {\"arrowcolor\": \"#2a3f5f\", \"arrowhead\": 0, \"arrowwidth\": 1}, \"coloraxis\": {\"colorbar\": {\"outlinewidth\": 0, \"ticks\": \"\"}}, \"colorscale\": {\"diverging\": [[0, \"#8e0152\"], [0.1, \"#c51b7d\"], [0.2, \"#de77ae\"], [0.3, \"#f1b6da\"], [0.4, \"#fde0ef\"], [0.5, \"#f7f7f7\"], [0.6, \"#e6f5d0\"], [0.7, \"#b8e186\"], [0.8, \"#7fbc41\"], [0.9, \"#4d9221\"], [1, \"#276419\"]], \"sequential\": [[0.0, \"#0d0887\"], [0.1111111111111111, \"#46039f\"], [0.2222222222222222, \"#7201a8\"], [0.3333333333333333, \"#9c179e\"], [0.4444444444444444, \"#bd3786\"], [0.5555555555555556, \"#d8576b\"], [0.6666666666666666, \"#ed7953\"], [0.7777777777777778, \"#fb9f3a\"], [0.8888888888888888, \"#fdca26\"], [1.0, \"#f0f921\"]], \"sequentialminus\": [[0.0, \"#0d0887\"], [0.1111111111111111, \"#46039f\"], [0.2222222222222222, \"#7201a8\"], [0.3333333333333333, \"#9c179e\"], [0.4444444444444444, \"#bd3786\"], [0.5555555555555556, \"#d8576b\"], [0.6666666666666666, \"#ed7953\"], [0.7777777777777778, \"#fb9f3a\"], [0.8888888888888888, \"#fdca26\"], [1.0, \"#f0f921\"]]}, \"colorway\": [\"#636efa\", \"#EF553B\", \"#00cc96\", \"#ab63fa\", \"#FFA15A\", \"#19d3f3\", \"#FF6692\", \"#B6E880\", \"#FF97FF\", \"#FECB52\"], \"font\": {\"color\": \"#2a3f5f\"}, \"geo\": {\"bgcolor\": \"white\", \"lakecolor\": \"white\", \"landcolor\": \"#E5ECF6\", \"showlakes\": true, \"showland\": true, \"subunitcolor\": \"white\"}, \"hoverlabel\": {\"align\": \"left\"}, \"hovermode\": \"closest\", \"mapbox\": {\"style\": \"light\"}, \"paper_bgcolor\": \"white\", \"plot_bgcolor\": \"#E5ECF6\", \"polar\": {\"angularaxis\": {\"gridcolor\": \"white\", \"linecolor\": \"white\", \"ticks\": \"\"}, \"bgcolor\": \"#E5ECF6\", \"radialaxis\": {\"gridcolor\": \"white\", \"linecolor\": \"white\", \"ticks\": \"\"}}, \"scene\": {\"xaxis\": {\"backgroundcolor\": \"#E5ECF6\", \"gridcolor\": \"white\", \"gridwidth\": 2, \"linecolor\": \"white\", \"showbackground\": true, \"ticks\": \"\", \"zerolinecolor\": \"white\"}, \"yaxis\": {\"backgroundcolor\": \"#E5ECF6\", \"gridcolor\": \"white\", \"gridwidth\": 2, \"linecolor\": \"white\", \"showbackground\": true, \"ticks\": \"\", \"zerolinecolor\": \"white\"}, \"zaxis\": {\"backgroundcolor\": \"#E5ECF6\", \"gridcolor\": \"white\", \"gridwidth\": 2, \"linecolor\": \"white\", \"showbackground\": true, \"ticks\": \"\", \"zerolinecolor\": \"white\"}}, \"shapedefaults\": {\"line\": {\"color\": \"#2a3f5f\"}}, \"ternary\": {\"aaxis\": {\"gridcolor\": \"white\", \"linecolor\": \"white\", \"ticks\": \"\"}, \"baxis\": {\"gridcolor\": \"white\", \"linecolor\": \"white\", \"ticks\": \"\"}, \"bgcolor\": \"#E5ECF6\", \"caxis\": {\"gridcolor\": \"white\", \"linecolor\": \"white\", \"ticks\": \"\"}}, \"title\": {\"x\": 0.05}, \"xaxis\": {\"automargin\": true, \"gridcolor\": \"white\", \"linecolor\": \"white\", \"ticks\": \"\", \"title\": {\"standoff\": 15}, \"zerolinecolor\": \"white\", \"zerolinewidth\": 2}, \"yaxis\": {\"automargin\": true, \"gridcolor\": \"white\", \"linecolor\": \"white\", \"ticks\": \"\", \"title\": {\"standoff\": 15}, \"zerolinecolor\": \"white\", \"zerolinewidth\": 2}}}, \"title\": {\"text\": \"Vendas por Per\\u00edodo\"}, \"xaxis\": {\"title\": {\"text\": \"Per\\u00edodo\"}}, \"yaxis\": {\"title\": {\"text\": \"Valores de Vendas\"}}},\n",
       "                        {\"responsive\": true}\n",
       "                    ).then(function(){\n",
       "                            \n",
       "var gd = document.getElementById('916e1f39-189b-443b-a67f-b5b02b152a21');\n",
       "var x = new MutationObserver(function (mutations, observer) {{\n",
       "        var display = window.getComputedStyle(gd).display;\n",
       "        if (!display || display === 'none') {{\n",
       "            console.log([gd, 'removed!']);\n",
       "            Plotly.purge(gd);\n",
       "            observer.disconnect();\n",
       "        }}\n",
       "}});\n",
       "\n",
       "// Listen for the removal of the full notebook cells\n",
       "var notebookContainer = gd.closest('#notebook-container');\n",
       "if (notebookContainer) {{\n",
       "    x.observe(notebookContainer, {childList: true});\n",
       "}}\n",
       "\n",
       "// Listen for the clearing of the current output cell\n",
       "var outputEl = gd.closest('.output');\n",
       "if (outputEl) {{\n",
       "    x.observe(outputEl, {childList: true});\n",
       "}}\n",
       "\n",
       "                        })\n",
       "                };\n",
       "                });\n",
       "            </script>\n",
       "        </div>"
      ]
     },
     "metadata": {},
     "output_type": "display_data"
    }
   ],
   "source": [
    "import plotly.offline as py\n",
    "import plotly.graph_objs as go\n",
    "\n",
    "data = [go.Bar(x=vendas_por_mes.index,\n",
    "               y=vendas_por_mes.values,\n",
    "               marker={'color': cores,\n",
    "                       'line':{'color': '#333',\n",
    "                               'width': 2}\n",
    "                      },\n",
    "              opacity=0.7)]\n",
    "\n",
    "layout = go.Layout(title='Vendas por Período',\n",
    "                   xaxis={'title': 'Período'},\n",
    "                   yaxis={'title': 'Valores de Vendas'})\n",
    "\n",
    "fig = go.Figure(data=data, layout=layout)\n",
    "\n",
    "py.iplot(fig)"
   ]
  },
  {
   "cell_type": "code",
   "execution_count": null,
   "metadata": {},
   "outputs": [],
   "source": []
  }
 ],
 "metadata": {
  "kernelspec": {
   "display_name": "Python 3",
   "language": "python",
   "name": "python3"
  },
  "language_info": {
   "codemirror_mode": {
    "name": "ipython",
    "version": 3
   },
   "file_extension": ".py",
   "mimetype": "text/x-python",
   "name": "python",
   "nbconvert_exporter": "python",
   "pygments_lexer": "ipython3",
   "version": "3.7.4"
  }
 },
 "nbformat": 4,
 "nbformat_minor": 2
}
